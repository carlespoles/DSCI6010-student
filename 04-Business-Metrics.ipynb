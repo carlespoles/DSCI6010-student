{
 "cells": [
  {
   "cell_type": "markdown",
   "metadata": {},
   "source": [
    "# Creating dataframes to obtain data points required to create KPIs."
   ]
  },
  {
   "cell_type": "markdown",
   "metadata": {},
   "source": [
    "## Total Number of Recipes and Total Number of Unique Recipes."
   ]
  },
  {
   "cell_type": "code",
   "execution_count": 1,
   "metadata": {
    "collapsed": true
   },
   "outputs": [],
   "source": [
    "reset -fs"
   ]
  },
  {
   "cell_type": "code",
   "execution_count": 2,
   "metadata": {
    "collapsed": true
   },
   "outputs": [],
   "source": [
    "import matplotlib.pyplot as plt\n",
    "import pandas as pd\n",
    "import seaborn as sns\n",
    "import datalab.bigquery as bq\n",
    "import warnings\n",
    "import re\n",
    "%matplotlib inline"
   ]
  },
  {
   "cell_type": "markdown",
   "metadata": {},
   "source": [
    "### To view all full columns of any dataframe, not truncated, we set the option below:"
   ]
  },
  {
   "cell_type": "code",
   "execution_count": 3,
   "metadata": {
    "collapsed": true
   },
   "outputs": [],
   "source": [
    "pd.set_option('display.max_colwidth', -1)"
   ]
  },
  {
   "cell_type": "markdown",
   "metadata": {},
   "source": [
    "### Getting the count of recipe URLs that have been scrapped from different websites."
   ]
  },
  {
   "cell_type": "markdown",
   "metadata": {},
   "source": [
    "#### Using `recipes.recipes` table."
   ]
  },
  {
   "cell_type": "code",
   "execution_count": 4,
   "metadata": {
    "collapsed": true
   },
   "outputs": [],
   "source": [
    "%%sql --module num_urls\n",
    "SELECT url, COUNT(url) AS num_urls\n",
    "FROM [firebase-wellio:recipes.recipes]\n",
    "GROUP BY url\n",
    "ORDER BY num_urls DESC"
   ]
  },
  {
   "cell_type": "code",
   "execution_count": 5,
   "metadata": {
    "collapsed": false
   },
   "outputs": [
    {
     "data": {
      "text/html": [
       "\n",
       "    <div class=\"bqtv\" id=\"1_151664792163\"><table><tr><th>url</th><th>num_urls</th></tr><tr><td>http://www.epicurious.com/recipes/member/views/root-beer-pulled-pork-with-tabasco-52383611</td><td>1</td></tr><tr><td>http://www.food.com/recipe/grandmas-mistake-bars-145868</td><td>1</td></tr><tr><td>http://www.food.com/recipe/topfenknodel-224100</td><td>1</td></tr><tr><td>http://allrecipes.com/recipe/235205/the-best-slow-cooker-chicken-soup/</td><td>1</td></tr><tr><td>http://allrecipes.com/recipe/230401/quick-christmas-salad/</td><td>1</td></tr><tr><td>http://allrecipes.com/recipe/10512/pineapple-brownies/</td><td>1</td></tr><tr><td>http://www.epicurious.com/recipes/member/views/4-cheese-mac-and-cheese-50011495</td><td>1</td></tr><tr><td>http://www.epicurious.com/recipes/member/views/homemade-granola-from-barefoot-contessa-1279053</td><td>1</td></tr><tr><td>http://www.seriouseats.com/recipes/2008/03/essentials-easy-enchiladas-recipe.html?ref=sbindex</td><td>1</td></tr><tr><td>http://www.food.com/recipe/mushroom-spinach-and-ham-tarts-quiches-387864</td><td>1</td></tr><tr><td>http://www.food.com/recipe/alder-planked-salmon-with-soy-ginger-marinade-182347</td><td>1</td></tr><tr><td>http://www.food.com/recipe/tropical-caramelised-bananas-with-jamaican-spiced-pancakes-270267</td><td>1</td></tr><tr><td>http://www.food.com/recipe/cold-stone-ice-cream-cupcake-split-247557</td><td>1</td></tr><tr><td>http://www.food.com/recipe/citrus-pot-o-gold-227099</td><td>1</td></tr><tr><td>http://www.food.com/recipe/tuna-slop-67034</td><td>1</td></tr><tr><td>http://www.food.com/recipe/awesome-stuffed-mushrooms-58480</td><td>1</td></tr><tr><td>http://www.food.com/recipe/meatless-muffuletta-panini-265637</td><td>1</td></tr><tr><td>http://www.food.com/recipe/crispy-rice-squares-diabetic-friendly-379122</td><td>1</td></tr><tr><td>http://www.myrecipes.com/m/recipe/highlands-baked-grits</td><td>1</td></tr><tr><td>http://www.epicurious.com/recipes/member/views/whole-wheat-soda-bread-with-raisins-spotted-dog-by-martha-rose-shulman-52791141</td><td>1</td></tr><tr><td>http://www.epicurious.com/recipes/food/views/apricot-cranberry-and-walnut-pie-102542</td><td>1</td></tr><tr><td>http://www.epicurious.com/recipes/member/views/thousand-island-dressing-52434901</td><td>1</td></tr><tr><td>http://www.epicurious.com/recipes/member/views/manicotti-no-boil-51453401</td><td>1</td></tr><tr><td>http://www.epicurious.com/recipes/member/views/broccoli-salad-53017081</td><td>1</td></tr><tr><td>http://www.myrecipes.com/m/recipe/tomato-and-goat-cheese-crostini</td><td>1</td></tr></table></div>\n",
       "    <br />(rows: 550743, time: 0.6s, cached, job: job_D3ddDcTF_p7pTepFSsyPrl9IRSCJ)<br />\n",
       "    <script src=\"/static/components/requirejs/require.js\"></script>\n",
       "    <script>\n",
       "\n",
       "      require.config({\n",
       "        paths: {\n",
       "          base: '/static/base',\n",
       "          d3: '//cdnjs.cloudflare.com/ajax/libs/d3/3.4.13/d3',\n",
       "          plotly: 'https://cdn.plot.ly/plotly-1.5.1.min.js?noext',\n",
       "          jquery: '//ajax.googleapis.com/ajax/libs/jquery/2.0.0/jquery.min'\n",
       "        },\n",
       "        map: {\n",
       "          '*': {\n",
       "            datalab: 'nbextensions/gcpdatalab'\n",
       "          }\n",
       "        },\n",
       "        shim: {\n",
       "          plotly: {\n",
       "            deps: ['d3', 'jquery'],\n",
       "            exports: 'plotly'\n",
       "          }\n",
       "        }\n",
       "      });\n",
       "\n",
       "      require(['datalab/charting', 'datalab/element!1_151664792163', 'base/js/events',\n",
       "          'datalab/style!/nbextensions/gcpdatalab/charting.css'],\n",
       "        function(charts, dom, events) {\n",
       "          charts.render('gcharts', dom, events, 'paged_table', [], {\"rows\": [{\"c\": [{\"v\": \"http://www.epicurious.com/recipes/member/views/root-beer-pulled-pork-with-tabasco-52383611\"}, {\"v\": 1}]}, {\"c\": [{\"v\": \"http://www.food.com/recipe/grandmas-mistake-bars-145868\"}, {\"v\": 1}]}, {\"c\": [{\"v\": \"http://www.food.com/recipe/topfenknodel-224100\"}, {\"v\": 1}]}, {\"c\": [{\"v\": \"http://allrecipes.com/recipe/235205/the-best-slow-cooker-chicken-soup/\"}, {\"v\": 1}]}, {\"c\": [{\"v\": \"http://allrecipes.com/recipe/230401/quick-christmas-salad/\"}, {\"v\": 1}]}, {\"c\": [{\"v\": \"http://allrecipes.com/recipe/10512/pineapple-brownies/\"}, {\"v\": 1}]}, {\"c\": [{\"v\": \"http://www.epicurious.com/recipes/member/views/4-cheese-mac-and-cheese-50011495\"}, {\"v\": 1}]}, {\"c\": [{\"v\": \"http://www.epicurious.com/recipes/member/views/homemade-granola-from-barefoot-contessa-1279053\"}, {\"v\": 1}]}, {\"c\": [{\"v\": \"http://www.seriouseats.com/recipes/2008/03/essentials-easy-enchiladas-recipe.html?ref=sbindex\"}, {\"v\": 1}]}, {\"c\": [{\"v\": \"http://www.food.com/recipe/mushroom-spinach-and-ham-tarts-quiches-387864\"}, {\"v\": 1}]}, {\"c\": [{\"v\": \"http://www.food.com/recipe/alder-planked-salmon-with-soy-ginger-marinade-182347\"}, {\"v\": 1}]}, {\"c\": [{\"v\": \"http://www.food.com/recipe/tropical-caramelised-bananas-with-jamaican-spiced-pancakes-270267\"}, {\"v\": 1}]}, {\"c\": [{\"v\": \"http://www.food.com/recipe/cold-stone-ice-cream-cupcake-split-247557\"}, {\"v\": 1}]}, {\"c\": [{\"v\": \"http://www.food.com/recipe/citrus-pot-o-gold-227099\"}, {\"v\": 1}]}, {\"c\": [{\"v\": \"http://www.food.com/recipe/tuna-slop-67034\"}, {\"v\": 1}]}, {\"c\": [{\"v\": \"http://www.food.com/recipe/awesome-stuffed-mushrooms-58480\"}, {\"v\": 1}]}, {\"c\": [{\"v\": \"http://www.food.com/recipe/meatless-muffuletta-panini-265637\"}, {\"v\": 1}]}, {\"c\": [{\"v\": \"http://www.food.com/recipe/crispy-rice-squares-diabetic-friendly-379122\"}, {\"v\": 1}]}, {\"c\": [{\"v\": \"http://www.myrecipes.com/m/recipe/highlands-baked-grits\"}, {\"v\": 1}]}, {\"c\": [{\"v\": \"http://www.epicurious.com/recipes/member/views/whole-wheat-soda-bread-with-raisins-spotted-dog-by-martha-rose-shulman-52791141\"}, {\"v\": 1}]}, {\"c\": [{\"v\": \"http://www.epicurious.com/recipes/food/views/apricot-cranberry-and-walnut-pie-102542\"}, {\"v\": 1}]}, {\"c\": [{\"v\": \"http://www.epicurious.com/recipes/member/views/thousand-island-dressing-52434901\"}, {\"v\": 1}]}, {\"c\": [{\"v\": \"http://www.epicurious.com/recipes/member/views/manicotti-no-boil-51453401\"}, {\"v\": 1}]}, {\"c\": [{\"v\": \"http://www.epicurious.com/recipes/member/views/broccoli-salad-53017081\"}, {\"v\": 1}]}, {\"c\": [{\"v\": \"http://www.myrecipes.com/m/recipe/tomato-and-goat-cheese-crostini\"}, {\"v\": 1}]}], \"cols\": [{\"type\": \"string\", \"id\": \"url\", \"label\": \"url\"}, {\"type\": \"number\", \"id\": \"num_urls\", \"label\": \"num_urls\"}]},\n",
       "            {\n",
       "              pageSize: 25,\n",
       "              cssClassNames:  {\n",
       "                tableRow: 'gchart-table-row',\n",
       "                headerRow: 'gchart-table-headerrow',\n",
       "                oddTableRow: 'gchart-table-oddrow',\n",
       "                selectedTableRow: 'gchart-table-selectedrow',\n",
       "                hoverTableRow: 'gchart-table-hoverrow',\n",
       "                tableCell: 'gchart-table-cell',\n",
       "                headerCell: 'gchart-table-headercell',\n",
       "                rowNumberCell: 'gchart-table-rownumcell'\n",
       "              }\n",
       "            },\n",
       "            {source_index: 0, fields: 'url,num_urls', legacy: 'true'},\n",
       "            0,\n",
       "            550743);\n",
       "        }\n",
       "      );\n",
       "    </script>\n",
       "  "
      ],
      "text/plain": [
       "QueryResultsTable job_D3ddDcTF_p7pTepFSsyPrl9IRSCJ"
      ]
     },
     "execution_count": 5,
     "metadata": {},
     "output_type": "execute_result"
    }
   ],
   "source": [
    "%%bigquery execute -q num_urls"
   ]
  },
  {
   "cell_type": "markdown",
   "metadata": {},
   "source": [
    "### Getting the URLs domain count for all recipes."
   ]
  },
  {
   "cell_type": "code",
   "execution_count": 6,
   "metadata": {
    "collapsed": true
   },
   "outputs": [],
   "source": [
    "%%sql --module recipes_sites_data\n",
    "SELECT SUBSTRING(url, 1, INSTR(url, '.com')+4) AS domain_url, COUNT(substring(url, 1, INSTR(url, '.com')+4)) AS domain_count\n",
    "FROM [firebase-wellio:recipes.recipes]\n",
    "WHERE url IS NOT NULL\n",
    "GROUP BY domain_url\n",
    "ORDER BY domain_count DESC"
   ]
  },
  {
   "cell_type": "code",
   "execution_count": 7,
   "metadata": {
    "collapsed": false
   },
   "outputs": [
    {
     "data": {
      "text/html": [
       "\n",
       "    <div class=\"bqtv\" id=\"2_151664793005\"><table><tr><th>domain_url</th><th>domain_count</th></tr><tr><td>http://www.food.com/</td><td>388402</td></tr><tr><td>http://www.epicurious.com/</td><td>95949</td></tr><tr><td>http://allrecipes.com/</td><td>37765</td></tr><tr><td>http://www.myrecipes.com/</td><td>18214</td></tr><tr><td>http://www.foodnetwork.com/</td><td>5459</td></tr><tr><td>http://www.seriouseats.com/</td><td>4664</td></tr><tr><td>http://www.thekitchn.com/</td><td>252</td></tr><tr><td>http://cooking.nytimes.com/</td><td>17</td></tr><tr><td>http://www.bonappetit.com/</td><td>4</td></tr><tr><td>http://thepioneerwoman.com/</td><td>2</td></tr><tr><td>http</td><td>2</td></tr><tr><td>http://www.chowhound.com/</td><td>1</td></tr><tr><td>http://www.simplyrecipes.com/</td><td>1</td></tr><tr><td>http://www.tastespotting.com/</td><td>1</td></tr><tr><td>http://www.101cookbooks.com/</td><td>1</td></tr><tr><td>https://cooking.nytimes.com/</td><td>1</td></tr><tr><td>http://www.tasteofhome.com/</td><td>1</td></tr><tr><td>http://cafedelites.com/</td><td>1</td></tr><tr><td>http://www.justasdelish.com/</td><td>1</td></tr><tr><td>http://toriavey.com/</td><td>1</td></tr><tr><td>https://food52.com/</td><td>1</td></tr><tr><td>http://www.marthastewart.com/</td><td>1</td></tr><tr><td>http://www.foodnetwork.com:</td><td>1</td></tr><tr><td>http://premeditatedleftovers.com/</td><td>1</td></tr></table></div>\n",
       "    <br />(rows: 24, time: 0.4s, cached, job: job_kPnyIQRbQTjc3odGNe96inujgW9r)<br />\n",
       "    <script src=\"/static/components/requirejs/require.js\"></script>\n",
       "    <script>\n",
       "\n",
       "      require.config({\n",
       "        paths: {\n",
       "          base: '/static/base',\n",
       "          d3: '//cdnjs.cloudflare.com/ajax/libs/d3/3.4.13/d3',\n",
       "          plotly: 'https://cdn.plot.ly/plotly-1.5.1.min.js?noext',\n",
       "          jquery: '//ajax.googleapis.com/ajax/libs/jquery/2.0.0/jquery.min'\n",
       "        },\n",
       "        map: {\n",
       "          '*': {\n",
       "            datalab: 'nbextensions/gcpdatalab'\n",
       "          }\n",
       "        },\n",
       "        shim: {\n",
       "          plotly: {\n",
       "            deps: ['d3', 'jquery'],\n",
       "            exports: 'plotly'\n",
       "          }\n",
       "        }\n",
       "      });\n",
       "\n",
       "      require(['datalab/charting', 'datalab/element!2_151664793005', 'base/js/events',\n",
       "          'datalab/style!/nbextensions/gcpdatalab/charting.css'],\n",
       "        function(charts, dom, events) {\n",
       "          charts.render('gcharts', dom, events, 'table', [], {\"rows\": [{\"c\": [{\"v\": \"http://www.food.com/\"}, {\"v\": 388402}]}, {\"c\": [{\"v\": \"http://www.epicurious.com/\"}, {\"v\": 95949}]}, {\"c\": [{\"v\": \"http://allrecipes.com/\"}, {\"v\": 37765}]}, {\"c\": [{\"v\": \"http://www.myrecipes.com/\"}, {\"v\": 18214}]}, {\"c\": [{\"v\": \"http://www.foodnetwork.com/\"}, {\"v\": 5459}]}, {\"c\": [{\"v\": \"http://www.seriouseats.com/\"}, {\"v\": 4664}]}, {\"c\": [{\"v\": \"http://www.thekitchn.com/\"}, {\"v\": 252}]}, {\"c\": [{\"v\": \"http://cooking.nytimes.com/\"}, {\"v\": 17}]}, {\"c\": [{\"v\": \"http://www.bonappetit.com/\"}, {\"v\": 4}]}, {\"c\": [{\"v\": \"http://thepioneerwoman.com/\"}, {\"v\": 2}]}, {\"c\": [{\"v\": \"http\"}, {\"v\": 2}]}, {\"c\": [{\"v\": \"http://www.chowhound.com/\"}, {\"v\": 1}]}, {\"c\": [{\"v\": \"http://www.simplyrecipes.com/\"}, {\"v\": 1}]}, {\"c\": [{\"v\": \"http://www.tastespotting.com/\"}, {\"v\": 1}]}, {\"c\": [{\"v\": \"http://www.101cookbooks.com/\"}, {\"v\": 1}]}, {\"c\": [{\"v\": \"https://cooking.nytimes.com/\"}, {\"v\": 1}]}, {\"c\": [{\"v\": \"http://www.tasteofhome.com/\"}, {\"v\": 1}]}, {\"c\": [{\"v\": \"http://cafedelites.com/\"}, {\"v\": 1}]}, {\"c\": [{\"v\": \"http://www.justasdelish.com/\"}, {\"v\": 1}]}, {\"c\": [{\"v\": \"http://toriavey.com/\"}, {\"v\": 1}]}, {\"c\": [{\"v\": \"https://food52.com/\"}, {\"v\": 1}]}, {\"c\": [{\"v\": \"http://www.marthastewart.com/\"}, {\"v\": 1}]}, {\"c\": [{\"v\": \"http://www.foodnetwork.com:\"}, {\"v\": 1}]}, {\"c\": [{\"v\": \"http://premeditatedleftovers.com/\"}, {\"v\": 1}]}], \"cols\": [{\"type\": \"string\", \"id\": \"domain_url\", \"label\": \"domain_url\"}, {\"type\": \"number\", \"id\": \"domain_count\", \"label\": \"domain_count\"}]},\n",
       "            {\n",
       "              pageSize: 25,\n",
       "              cssClassNames:  {\n",
       "                tableRow: 'gchart-table-row',\n",
       "                headerRow: 'gchart-table-headerrow',\n",
       "                oddTableRow: 'gchart-table-oddrow',\n",
       "                selectedTableRow: 'gchart-table-selectedrow',\n",
       "                hoverTableRow: 'gchart-table-hoverrow',\n",
       "                tableCell: 'gchart-table-cell',\n",
       "                headerCell: 'gchart-table-headercell',\n",
       "                rowNumberCell: 'gchart-table-rownumcell'\n",
       "              }\n",
       "            },\n",
       "            {source_index: 1, fields: 'domain_url,domain_count', legacy: 'true'},\n",
       "            0,\n",
       "            24);\n",
       "        }\n",
       "      );\n",
       "    </script>\n",
       "  "
      ],
      "text/plain": [
       "QueryResultsTable job_kPnyIQRbQTjc3odGNe96inujgW9r"
      ]
     },
     "execution_count": 7,
     "metadata": {},
     "output_type": "execute_result"
    }
   ],
   "source": [
    "%%bigquery execute -q recipes_sites_data"
   ]
  },
  {
   "cell_type": "markdown",
   "metadata": {},
   "source": [
    "### Converting BigQuery into a pandas dataframe."
   ]
  },
  {
   "cell_type": "code",
   "execution_count": 8,
   "metadata": {
    "collapsed": false
   },
   "outputs": [],
   "source": [
    "recipes_sites_df = bq.Query(recipes_sites_data).to_dataframe()"
   ]
  },
  {
   "cell_type": "code",
   "execution_count": 9,
   "metadata": {
    "collapsed": true
   },
   "outputs": [],
   "source": [
    "# To avoid:\n",
    "# /usr/local/lib/python2.7/dist-packages/seaborn/categorical.py:1424: FutureWarning: remove_na is deprecated and is a private function. Do not use.\n",
    "# stat_data = remove_na(group_data)\n",
    "# When printing below chart.\n",
    "warnings.filterwarnings('ignore')"
   ]
  },
  {
   "cell_type": "markdown",
   "metadata": {},
   "source": [
    "### Plotting above dataframe."
   ]
  },
  {
   "cell_type": "code",
   "execution_count": 10,
   "metadata": {
    "collapsed": false
   },
   "outputs": [
    {
     "data": {
      "image/png": "[encoded data removed]",
      "text/plain": [
       "<matplotlib.figure.Figure at 0x7f3aa316df90>"
      ]
     },
     "metadata": {},
     "output_type": "display_data"
    }
   ],
   "source": [
    "sns.set_style(\"whitegrid\")\n",
    "# Set the plot size in inches.\n",
    "sns.set(rc={'figure.figsize':(11.7,8.27)})\n",
    "recipes_plot = sns.barplot(x='domain_count', y='domain_url', data=recipes_sites_df[:7])\n",
    "plt.setp(recipes_plot.get_xticklabels(), rotation=45);"
   ]
  },
  {
   "cell_type": "markdown",
   "metadata": {},
   "source": [
    "### We create a new dataframe from the 1st one and dropping a column."
   ]
  },
  {
   "cell_type": "code",
   "execution_count": 11,
   "metadata": {
    "collapsed": true
   },
   "outputs": [],
   "source": [
    "all_recipes_sites_df = bq.Query(num_urls).to_dataframe()"
   ]
  },
  {
   "cell_type": "code",
   "execution_count": 12,
   "metadata": {
    "collapsed": false
   },
   "outputs": [],
   "source": [
    "all_recipes_sites_df.drop('num_urls', axis=1, inplace=True)"
   ]
  },
  {
   "cell_type": "code",
   "execution_count": 13,
   "metadata": {
    "collapsed": false
   },
   "outputs": [
    {
     "data": {
      "text/html": [
       "<div>\n",
       "<style scoped>\n",
       "    .dataframe tbody tr th:only-of-type {\n",
       "        vertical-align: middle;\n",
       "    }\n",
       "\n",
       "    .dataframe tbody tr th {\n",
       "        vertical-align: top;\n",
       "    }\n",
       "\n",
       "    .dataframe thead th {\n",
       "        text-align: right;\n",
       "    }\n",
       "</style>\n",
       "<table border=\"1\" class=\"dataframe\">\n",
       "  <thead>\n",
       "    <tr style=\"text-align: right;\">\n",
       "      <th></th>\n",
       "      <th>url</th>\n",
       "    </tr>\n",
       "  </thead>\n",
       "  <tbody>\n",
       "    <tr>\n",
       "      <th>0</th>\n",
       "      <td>http://www.epicurious.com/recipes/member/views/root-beer-pulled-pork-with-tabasco-52383611</td>\n",
       "    </tr>\n",
       "    <tr>\n",
       "      <th>1</th>\n",
       "      <td>http://www.food.com/recipe/grandmas-mistake-bars-145868</td>\n",
       "    </tr>\n",
       "    <tr>\n",
       "      <th>2</th>\n",
       "      <td>http://www.food.com/recipe/topfenknodel-224100</td>\n",
       "    </tr>\n",
       "    <tr>\n",
       "      <th>3</th>\n",
       "      <td>http://allrecipes.com/recipe/235205/the-best-slow-cooker-chicken-soup/</td>\n",
       "    </tr>\n",
       "    <tr>\n",
       "      <th>4</th>\n",
       "      <td>http://allrecipes.com/recipe/230401/quick-christmas-salad/</td>\n",
       "    </tr>\n",
       "  </tbody>\n",
       "</table>\n",
       "</div>"
      ],
      "text/plain": [
       "                                                                                          url\n",
       "0  http://www.epicurious.com/recipes/member/views/root-beer-pulled-pork-with-tabasco-52383611\n",
       "1  http://www.food.com/recipe/grandmas-mistake-bars-145868                                   \n",
       "2  http://www.food.com/recipe/topfenknodel-224100                                            \n",
       "3  http://allrecipes.com/recipe/235205/the-best-slow-cooker-chicken-soup/                    \n",
       "4  http://allrecipes.com/recipe/230401/quick-christmas-salad/                                "
      ]
     },
     "execution_count": 13,
     "metadata": {},
     "output_type": "execute_result"
    }
   ],
   "source": [
    "all_recipes_sites_df.head()"
   ]
  },
  {
   "cell_type": "code",
   "execution_count": 14,
   "metadata": {
    "collapsed": false
   },
   "outputs": [],
   "source": [
    "all_recipes_df = all_recipes_sites_df"
   ]
  },
  {
   "cell_type": "code",
   "execution_count": 15,
   "metadata": {
    "collapsed": true
   },
   "outputs": [],
   "source": [
    "all_recipes_df.rename(columns = {'url':'full_recipe_url'}, inplace=True)"
   ]
  },
  {
   "cell_type": "code",
   "execution_count": 16,
   "metadata": {
    "collapsed": false
   },
   "outputs": [
    {
     "data": {
      "text/html": [
       "<div>\n",
       "<style scoped>\n",
       "    .dataframe tbody tr th:only-of-type {\n",
       "        vertical-align: middle;\n",
       "    }\n",
       "\n",
       "    .dataframe tbody tr th {\n",
       "        vertical-align: top;\n",
       "    }\n",
       "\n",
       "    .dataframe thead th {\n",
       "        text-align: right;\n",
       "    }\n",
       "</style>\n",
       "<table border=\"1\" class=\"dataframe\">\n",
       "  <thead>\n",
       "    <tr style=\"text-align: right;\">\n",
       "      <th></th>\n",
       "      <th>full_recipe_url</th>\n",
       "    </tr>\n",
       "  </thead>\n",
       "  <tbody>\n",
       "    <tr>\n",
       "      <th>0</th>\n",
       "      <td>http://www.epicurious.com/recipes/member/views/root-beer-pulled-pork-with-tabasco-52383611</td>\n",
       "    </tr>\n",
       "    <tr>\n",
       "      <th>1</th>\n",
       "      <td>http://www.food.com/recipe/grandmas-mistake-bars-145868</td>\n",
       "    </tr>\n",
       "    <tr>\n",
       "      <th>2</th>\n",
       "      <td>http://www.food.com/recipe/topfenknodel-224100</td>\n",
       "    </tr>\n",
       "    <tr>\n",
       "      <th>3</th>\n",
       "      <td>http://allrecipes.com/recipe/235205/the-best-slow-cooker-chicken-soup/</td>\n",
       "    </tr>\n",
       "    <tr>\n",
       "      <th>4</th>\n",
       "      <td>http://allrecipes.com/recipe/230401/quick-christmas-salad/</td>\n",
       "    </tr>\n",
       "  </tbody>\n",
       "</table>\n",
       "</div>"
      ],
      "text/plain": [
       "                                                                              full_recipe_url\n",
       "0  http://www.epicurious.com/recipes/member/views/root-beer-pulled-pork-with-tabasco-52383611\n",
       "1  http://www.food.com/recipe/grandmas-mistake-bars-145868                                   \n",
       "2  http://www.food.com/recipe/topfenknodel-224100                                            \n",
       "3  http://allrecipes.com/recipe/235205/the-best-slow-cooker-chicken-soup/                    \n",
       "4  http://allrecipes.com/recipe/230401/quick-christmas-salad/                                "
      ]
     },
     "execution_count": 16,
     "metadata": {},
     "output_type": "execute_result"
    }
   ],
   "source": [
    "all_recipes_df.head()"
   ]
  },
  {
   "cell_type": "markdown",
   "metadata": {},
   "source": [
    "### The functions below assist in getting the last string of the URL, which identifies each recipe."
   ]
  },
  {
   "cell_type": "code",
   "execution_count": 17,
   "metadata": {
    "collapsed": true
   },
   "outputs": [],
   "source": [
    "def find_index_char(my_dataframe_element, my_character):\n",
    "  '''\n",
    "  This function returns a substring. We provide a column from a dataframe, represented by variable my_dataframe_element,\n",
    "  and we find all the index positions of a character (represented by variable my_character) in such element.\n",
    "  This will create a list of all the indices of such character (if more than 1 is found) in the dataframe element, which is \n",
    "  represented by the variable list_of_positions. If we want to return the last position of such character, we would return \n",
    "  list_of_positions[-1]\n",
    "  In this case, we will return the sliced element starting at the last index position of the provided character we are interested.\n",
    "  The unique recipe is at the end of every url, i.e. http://www.food.com/recipe/watermelon-salad-229886, the recipe is watermelon-salad-229886.\n",
    "  '''\n",
    "  list_of_positions = [pos for pos, char in enumerate(my_dataframe_element) if char == my_character]\n",
    "  return my_dataframe_element[list_of_positions[-1]:]"
   ]
  },
  {
   "cell_type": "code",
   "execution_count": 18,
   "metadata": {
    "collapsed": true
   },
   "outputs": [],
   "source": [
    "def find_index_char_hard_coded(my_dataframe_element):\n",
    "  '''\n",
    "  This function returns a substring. We provide a column from a dataframe, represented by variable my_dataframe_element,\n",
    "  and we find all the index positions of a hardcoded character (which is / in this case) in such element.\n",
    "  This will create a list of all the indices of such character (if more than 1 is found) in the dataframe element, which is \n",
    "  represented by the variable list_of_positions. If we want to return the last position of such character, we would return \n",
    "  list_of_positions[-1]\n",
    "  In this case, we will return the sliced element starting at the last index position of the provided character we are interested.\n",
    "  '''\n",
    "  list_of_positions = [pos for pos, char in enumerate(my_dataframe_element) if char == '/']\n",
    "  return my_dataframe_element[list_of_positions[-1]:]"
   ]
  },
  {
   "cell_type": "markdown",
   "metadata": {},
   "source": [
    "#### Example of applying above function to the 1st row of the new dataframe. We are interesting in the string after the last '/' as it will be the unique identifier for each recipe."
   ]
  },
  {
   "cell_type": "code",
   "execution_count": 19,
   "metadata": {
    "collapsed": false
   },
   "outputs": [
    {
     "data": {
      "text/plain": [
       "full_recipe_url    http://www.epicurious.com/recipes/member/views/root-beer-pulled-pork-with-tabasco-52383611\n",
       "Name: 0, dtype: object"
      ]
     },
     "execution_count": 19,
     "metadata": {},
     "output_type": "execute_result"
    }
   ],
   "source": [
    "all_recipes_df.iloc[0]"
   ]
  },
  {
   "cell_type": "code",
   "execution_count": 20,
   "metadata": {
    "collapsed": false
   },
   "outputs": [
    {
     "data": {
      "text/plain": [
       "u'/root-beer-pulled-pork-with-tabasco-52383611'"
      ]
     },
     "execution_count": 20,
     "metadata": {},
     "output_type": "execute_result"
    }
   ],
   "source": [
    "find_index_char(all_recipes_df.iloc[0].to_string(), '/')"
   ]
  },
  {
   "cell_type": "markdown",
   "metadata": {},
   "source": [
    "### Now we create a new column in the dataframe to store the identifier of each recipe."
   ]
  },
  {
   "cell_type": "code",
   "execution_count": 21,
   "metadata": {
    "collapsed": false
   },
   "outputs": [],
   "source": [
    "all_recipes_df['recipe']=''"
   ]
  },
  {
   "cell_type": "code",
   "execution_count": 22,
   "metadata": {
    "collapsed": false
   },
   "outputs": [
    {
     "data": {
      "text/html": [
       "<div>\n",
       "<style scoped>\n",
       "    .dataframe tbody tr th:only-of-type {\n",
       "        vertical-align: middle;\n",
       "    }\n",
       "\n",
       "    .dataframe tbody tr th {\n",
       "        vertical-align: top;\n",
       "    }\n",
       "\n",
       "    .dataframe thead th {\n",
       "        text-align: right;\n",
       "    }\n",
       "</style>\n",
       "<table border=\"1\" class=\"dataframe\">\n",
       "  <thead>\n",
       "    <tr style=\"text-align: right;\">\n",
       "      <th></th>\n",
       "      <th>full_recipe_url</th>\n",
       "      <th>recipe</th>\n",
       "    </tr>\n",
       "  </thead>\n",
       "  <tbody>\n",
       "    <tr>\n",
       "      <th>0</th>\n",
       "      <td>http://www.epicurious.com/recipes/member/views/root-beer-pulled-pork-with-tabasco-52383611</td>\n",
       "      <td></td>\n",
       "    </tr>\n",
       "    <tr>\n",
       "      <th>1</th>\n",
       "      <td>http://www.food.com/recipe/grandmas-mistake-bars-145868</td>\n",
       "      <td></td>\n",
       "    </tr>\n",
       "    <tr>\n",
       "      <th>2</th>\n",
       "      <td>http://www.food.com/recipe/topfenknodel-224100</td>\n",
       "      <td></td>\n",
       "    </tr>\n",
       "    <tr>\n",
       "      <th>3</th>\n",
       "      <td>http://allrecipes.com/recipe/235205/the-best-slow-cooker-chicken-soup/</td>\n",
       "      <td></td>\n",
       "    </tr>\n",
       "    <tr>\n",
       "      <th>4</th>\n",
       "      <td>http://allrecipes.com/recipe/230401/quick-christmas-salad/</td>\n",
       "      <td></td>\n",
       "    </tr>\n",
       "  </tbody>\n",
       "</table>\n",
       "</div>"
      ],
      "text/plain": [
       "                                                                              full_recipe_url  \\\n",
       "0  http://www.epicurious.com/recipes/member/views/root-beer-pulled-pork-with-tabasco-52383611   \n",
       "1  http://www.food.com/recipe/grandmas-mistake-bars-145868                                      \n",
       "2  http://www.food.com/recipe/topfenknodel-224100                                               \n",
       "3  http://allrecipes.com/recipe/235205/the-best-slow-cooker-chicken-soup/                       \n",
       "4  http://allrecipes.com/recipe/230401/quick-christmas-salad/                                   \n",
       "\n",
       "  recipe  \n",
       "0         \n",
       "1         \n",
       "2         \n",
       "3         \n",
       "4         "
      ]
     },
     "execution_count": 22,
     "metadata": {},
     "output_type": "execute_result"
    }
   ],
   "source": [
    "all_recipes_df.head()"
   ]
  },
  {
   "cell_type": "markdown",
   "metadata": {},
   "source": [
    "### We see that some URLs have a final '/'. Removing final '/' in URL if present:"
   ]
  },
  {
   "cell_type": "code",
   "execution_count": 23,
   "metadata": {
    "collapsed": true
   },
   "outputs": [],
   "source": [
    "def remove_final_slash(my_dataframe_series):\n",
    "  '''\n",
    "  Some URLs contain a final /, so we remove it if present.\n",
    "  '''\n",
    "  if my_dataframe_series[-1] == '/':\n",
    "    final_series = my_dataframe_series[0:len(my_dataframe_series)-1]\n",
    "  else:\n",
    "    # Instead of returning the same series if no final / is present, i.e. final_series = my_dataframe_series\n",
    "    # We apply the above function to get the final recipe string.\n",
    "    final_series = find_index_char_hard_coded(my_dataframe_series)\n",
    "  return final_series"
   ]
  },
  {
   "cell_type": "markdown",
   "metadata": {},
   "source": [
    "### We apply the function to 5 rows to see if it works."
   ]
  },
  {
   "cell_type": "code",
   "execution_count": 24,
   "metadata": {
    "collapsed": true
   },
   "outputs": [],
   "source": [
    "all_recipes_df['recipe'] = all_recipes_df['full_recipe_url'][:5].apply(remove_final_slash)"
   ]
  },
  {
   "cell_type": "code",
   "execution_count": 25,
   "metadata": {
    "collapsed": false
   },
   "outputs": [
    {
     "data": {
      "text/html": [
       "<div>\n",
       "<style scoped>\n",
       "    .dataframe tbody tr th:only-of-type {\n",
       "        vertical-align: middle;\n",
       "    }\n",
       "\n",
       "    .dataframe tbody tr th {\n",
       "        vertical-align: top;\n",
       "    }\n",
       "\n",
       "    .dataframe thead th {\n",
       "        text-align: right;\n",
       "    }\n",
       "</style>\n",
       "<table border=\"1\" class=\"dataframe\">\n",
       "  <thead>\n",
       "    <tr style=\"text-align: right;\">\n",
       "      <th></th>\n",
       "      <th>full_recipe_url</th>\n",
       "      <th>recipe</th>\n",
       "    </tr>\n",
       "  </thead>\n",
       "  <tbody>\n",
       "    <tr>\n",
       "      <th>0</th>\n",
       "      <td>http://www.epicurious.com/recipes/member/views/root-beer-pulled-pork-with-tabasco-52383611</td>\n",
       "      <td>/root-beer-pulled-pork-with-tabasco-52383611</td>\n",
       "    </tr>\n",
       "    <tr>\n",
       "      <th>1</th>\n",
       "      <td>http://www.food.com/recipe/grandmas-mistake-bars-145868</td>\n",
       "      <td>/grandmas-mistake-bars-145868</td>\n",
       "    </tr>\n",
       "    <tr>\n",
       "      <th>2</th>\n",
       "      <td>http://www.food.com/recipe/topfenknodel-224100</td>\n",
       "      <td>/topfenknodel-224100</td>\n",
       "    </tr>\n",
       "    <tr>\n",
       "      <th>3</th>\n",
       "      <td>http://allrecipes.com/recipe/235205/the-best-slow-cooker-chicken-soup/</td>\n",
       "      <td>http://allrecipes.com/recipe/235205/the-best-slow-cooker-chicken-soup</td>\n",
       "    </tr>\n",
       "    <tr>\n",
       "      <th>4</th>\n",
       "      <td>http://allrecipes.com/recipe/230401/quick-christmas-salad/</td>\n",
       "      <td>http://allrecipes.com/recipe/230401/quick-christmas-salad</td>\n",
       "    </tr>\n",
       "  </tbody>\n",
       "</table>\n",
       "</div>"
      ],
      "text/plain": [
       "                                                                              full_recipe_url  \\\n",
       "0  http://www.epicurious.com/recipes/member/views/root-beer-pulled-pork-with-tabasco-52383611   \n",
       "1  http://www.food.com/recipe/grandmas-mistake-bars-145868                                      \n",
       "2  http://www.food.com/recipe/topfenknodel-224100                                               \n",
       "3  http://allrecipes.com/recipe/235205/the-best-slow-cooker-chicken-soup/                       \n",
       "4  http://allrecipes.com/recipe/230401/quick-christmas-salad/                                   \n",
       "\n",
       "                                                                  recipe  \n",
       "0  /root-beer-pulled-pork-with-tabasco-52383611                           \n",
       "1  /grandmas-mistake-bars-145868                                          \n",
       "2  /topfenknodel-224100                                                   \n",
       "3  http://allrecipes.com/recipe/235205/the-best-slow-cooker-chicken-soup  \n",
       "4  http://allrecipes.com/recipe/230401/quick-christmas-salad              "
      ]
     },
     "execution_count": 25,
     "metadata": {},
     "output_type": "execute_result"
    }
   ],
   "source": [
    "all_recipes_df.head()"
   ]
  },
  {
   "cell_type": "markdown",
   "metadata": {},
   "source": [
    "### Since the function works, we apply it to the entire dataframe column."
   ]
  },
  {
   "cell_type": "code",
   "execution_count": 26,
   "metadata": {
    "collapsed": true
   },
   "outputs": [],
   "source": [
    "all_recipes_df['recipe'] = all_recipes_df['full_recipe_url'].apply(remove_final_slash)"
   ]
  },
  {
   "cell_type": "code",
   "execution_count": 27,
   "metadata": {
    "collapsed": false
   },
   "outputs": [
    {
     "data": {
      "text/html": [
       "<div>\n",
       "<style scoped>\n",
       "    .dataframe tbody tr th:only-of-type {\n",
       "        vertical-align: middle;\n",
       "    }\n",
       "\n",
       "    .dataframe tbody tr th {\n",
       "        vertical-align: top;\n",
       "    }\n",
       "\n",
       "    .dataframe thead th {\n",
       "        text-align: right;\n",
       "    }\n",
       "</style>\n",
       "<table border=\"1\" class=\"dataframe\">\n",
       "  <thead>\n",
       "    <tr style=\"text-align: right;\">\n",
       "      <th></th>\n",
       "      <th>full_recipe_url</th>\n",
       "      <th>recipe</th>\n",
       "    </tr>\n",
       "  </thead>\n",
       "  <tbody>\n",
       "    <tr>\n",
       "      <th>0</th>\n",
       "      <td>http://www.epicurious.com/recipes/member/views/root-beer-pulled-pork-with-tabasco-52383611</td>\n",
       "      <td>/root-beer-pulled-pork-with-tabasco-52383611</td>\n",
       "    </tr>\n",
       "    <tr>\n",
       "      <th>1</th>\n",
       "      <td>http://www.food.com/recipe/grandmas-mistake-bars-145868</td>\n",
       "      <td>/grandmas-mistake-bars-145868</td>\n",
       "    </tr>\n",
       "    <tr>\n",
       "      <th>2</th>\n",
       "      <td>http://www.food.com/recipe/topfenknodel-224100</td>\n",
       "      <td>/topfenknodel-224100</td>\n",
       "    </tr>\n",
       "    <tr>\n",
       "      <th>3</th>\n",
       "      <td>http://allrecipes.com/recipe/235205/the-best-slow-cooker-chicken-soup/</td>\n",
       "      <td>http://allrecipes.com/recipe/235205/the-best-slow-cooker-chicken-soup</td>\n",
       "    </tr>\n",
       "    <tr>\n",
       "      <th>4</th>\n",
       "      <td>http://allrecipes.com/recipe/230401/quick-christmas-salad/</td>\n",
       "      <td>http://allrecipes.com/recipe/230401/quick-christmas-salad</td>\n",
       "    </tr>\n",
       "  </tbody>\n",
       "</table>\n",
       "</div>"
      ],
      "text/plain": [
       "                                                                              full_recipe_url  \\\n",
       "0  http://www.epicurious.com/recipes/member/views/root-beer-pulled-pork-with-tabasco-52383611   \n",
       "1  http://www.food.com/recipe/grandmas-mistake-bars-145868                                      \n",
       "2  http://www.food.com/recipe/topfenknodel-224100                                               \n",
       "3  http://allrecipes.com/recipe/235205/the-best-slow-cooker-chicken-soup/                       \n",
       "4  http://allrecipes.com/recipe/230401/quick-christmas-salad/                                   \n",
       "\n",
       "                                                                  recipe  \n",
       "0  /root-beer-pulled-pork-with-tabasco-52383611                           \n",
       "1  /grandmas-mistake-bars-145868                                          \n",
       "2  /topfenknodel-224100                                                   \n",
       "3  http://allrecipes.com/recipe/235205/the-best-slow-cooker-chicken-soup  \n",
       "4  http://allrecipes.com/recipe/230401/quick-christmas-salad              "
      ]
     },
     "execution_count": 27,
     "metadata": {},
     "output_type": "execute_result"
    }
   ],
   "source": [
    "all_recipes_df.head()"
   ]
  },
  {
   "cell_type": "code",
   "execution_count": 28,
   "metadata": {
    "collapsed": false
   },
   "outputs": [
    {
     "data": {
      "text/html": [
       "<div>\n",
       "<style scoped>\n",
       "    .dataframe tbody tr th:only-of-type {\n",
       "        vertical-align: middle;\n",
       "    }\n",
       "\n",
       "    .dataframe tbody tr th {\n",
       "        vertical-align: top;\n",
       "    }\n",
       "\n",
       "    .dataframe thead th {\n",
       "        text-align: right;\n",
       "    }\n",
       "</style>\n",
       "<table border=\"1\" class=\"dataframe\">\n",
       "  <thead>\n",
       "    <tr style=\"text-align: right;\">\n",
       "      <th></th>\n",
       "      <th>full_recipe_url</th>\n",
       "      <th>recipe</th>\n",
       "    </tr>\n",
       "  </thead>\n",
       "  <tbody>\n",
       "    <tr>\n",
       "      <th>550738</th>\n",
       "      <td>http://www.food.com/recipe/persimmon-muffins-294605</td>\n",
       "      <td>/persimmon-muffins-294605</td>\n",
       "    </tr>\n",
       "    <tr>\n",
       "      <th>550739</th>\n",
       "      <td>http://www.food.com/recipe/cranberry-relish-489520</td>\n",
       "      <td>/cranberry-relish-489520</td>\n",
       "    </tr>\n",
       "    <tr>\n",
       "      <th>550740</th>\n",
       "      <td>http://www.food.com/recipe/deviled-eggs-165413</td>\n",
       "      <td>/deviled-eggs-165413</td>\n",
       "    </tr>\n",
       "    <tr>\n",
       "      <th>550741</th>\n",
       "      <td>http://www.food.com/recipe/nigerian-peanut-soup-164750</td>\n",
       "      <td>/nigerian-peanut-soup-164750</td>\n",
       "    </tr>\n",
       "    <tr>\n",
       "      <th>550742</th>\n",
       "      <td>http://www.food.com/recipe/chocolate-crisps-399849</td>\n",
       "      <td>/chocolate-crisps-399849</td>\n",
       "    </tr>\n",
       "  </tbody>\n",
       "</table>\n",
       "</div>"
      ],
      "text/plain": [
       "                                               full_recipe_url  \\\n",
       "550738  http://www.food.com/recipe/persimmon-muffins-294605      \n",
       "550739  http://www.food.com/recipe/cranberry-relish-489520       \n",
       "550740  http://www.food.com/recipe/deviled-eggs-165413           \n",
       "550741  http://www.food.com/recipe/nigerian-peanut-soup-164750   \n",
       "550742  http://www.food.com/recipe/chocolate-crisps-399849       \n",
       "\n",
       "                              recipe  \n",
       "550738  /persimmon-muffins-294605     \n",
       "550739  /cranberry-relish-489520      \n",
       "550740  /deviled-eggs-165413          \n",
       "550741  /nigerian-peanut-soup-164750  \n",
       "550742  /chocolate-crisps-399849      "
      ]
     },
     "execution_count": 28,
     "metadata": {},
     "output_type": "execute_result"
    }
   ],
   "source": [
    "all_recipes_df.tail()"
   ]
  },
  {
   "cell_type": "code",
   "execution_count": 29,
   "metadata": {
    "collapsed": false
   },
   "outputs": [
    {
     "data": {
      "text/plain": [
       "(550743, 2)"
      ]
     },
     "execution_count": 29,
     "metadata": {},
     "output_type": "execute_result"
    }
   ],
   "source": [
    "all_recipes_df.shape"
   ]
  },
  {
   "cell_type": "markdown",
   "metadata": {},
   "source": [
    "### Do we have duplicated recipes?"
   ]
  },
  {
   "cell_type": "code",
   "execution_count": 30,
   "metadata": {
    "collapsed": false
   },
   "outputs": [
    {
     "data": {
      "text/plain": [
       "(550743, 2)"
      ]
     },
     "execution_count": 30,
     "metadata": {},
     "output_type": "execute_result"
    }
   ],
   "source": [
    "all_recipes_df.drop_duplicates().shape"
   ]
  },
  {
   "cell_type": "markdown",
   "metadata": {},
   "source": [
    "#### There are no duplicated recipes."
   ]
  },
  {
   "cell_type": "markdown",
   "metadata": {},
   "source": [
    "### Let's use a different table."
   ]
  },
  {
   "cell_type": "code",
   "execution_count": 31,
   "metadata": {
    "collapsed": true
   },
   "outputs": [],
   "source": [
    "%%sql --module imported_urls\n",
    "SELECT COUNT(url) AS count_urls\n",
    "FROM [firebase-wellio:recipes.imported_recipes]\n",
    "WHERE url IS NOT NULL"
   ]
  },
  {
   "cell_type": "code",
   "execution_count": 32,
   "metadata": {
    "collapsed": false
   },
   "outputs": [
    {
     "data": {
      "text/html": [
       "\n",
       "    <div class=\"bqtv\" id=\"3_151664844397\"><table><tr><th>count_urls</th></tr><tr><td>8892279</td></tr></table></div>\n",
       "    <br />(rows: 1, time: 1.8s,   643MB processed, job: job_W2zslxsi7lMaPAZt4EUmBgOSuav6)<br />\n",
       "    <script src=\"/static/components/requirejs/require.js\"></script>\n",
       "    <script>\n",
       "\n",
       "      require.config({\n",
       "        paths: {\n",
       "          base: '/static/base',\n",
       "          d3: '//cdnjs.cloudflare.com/ajax/libs/d3/3.4.13/d3',\n",
       "          plotly: 'https://cdn.plot.ly/plotly-1.5.1.min.js?noext',\n",
       "          jquery: '//ajax.googleapis.com/ajax/libs/jquery/2.0.0/jquery.min'\n",
       "        },\n",
       "        map: {\n",
       "          '*': {\n",
       "            datalab: 'nbextensions/gcpdatalab'\n",
       "          }\n",
       "        },\n",
       "        shim: {\n",
       "          plotly: {\n",
       "            deps: ['d3', 'jquery'],\n",
       "            exports: 'plotly'\n",
       "          }\n",
       "        }\n",
       "      });\n",
       "\n",
       "      require(['datalab/charting', 'datalab/element!3_151664844397', 'base/js/events',\n",
       "          'datalab/style!/nbextensions/gcpdatalab/charting.css'],\n",
       "        function(charts, dom, events) {\n",
       "          charts.render('gcharts', dom, events, 'table', [], {\"rows\": [{\"c\": [{\"v\": 8892279}]}], \"cols\": [{\"type\": \"number\", \"id\": \"count_urls\", \"label\": \"count_urls\"}]},\n",
       "            {\n",
       "              pageSize: 25,\n",
       "              cssClassNames:  {\n",
       "                tableRow: 'gchart-table-row',\n",
       "                headerRow: 'gchart-table-headerrow',\n",
       "                oddTableRow: 'gchart-table-oddrow',\n",
       "                selectedTableRow: 'gchart-table-selectedrow',\n",
       "                hoverTableRow: 'gchart-table-hoverrow',\n",
       "                tableCell: 'gchart-table-cell',\n",
       "                headerCell: 'gchart-table-headercell',\n",
       "                rowNumberCell: 'gchart-table-rownumcell'\n",
       "              }\n",
       "            },\n",
       "            {source_index: 2, fields: 'count_urls', legacy: 'true'},\n",
       "            0,\n",
       "            1);\n",
       "        }\n",
       "      );\n",
       "    </script>\n",
       "  "
      ],
      "text/plain": [
       "QueryResultsTable job_W2zslxsi7lMaPAZt4EUmBgOSuav6"
      ]
     },
     "execution_count": 32,
     "metadata": {},
     "output_type": "execute_result"
    }
   ],
   "source": [
    "%%bigquery execute -q imported_urls"
   ]
  },
  {
   "cell_type": "code",
   "execution_count": 33,
   "metadata": {
    "collapsed": true
   },
   "outputs": [],
   "source": [
    "%%sql --module imported_recipes\n",
    "SELECT url, COUNT(url) AS count_urls\n",
    "FROM [firebase-wellio:recipes.imported_recipes]\n",
    "WHERE url IS NOT NULL AND url <> '#'\n",
    "GROUP BY url\n",
    "ORDER BY count_urls DESC\n",
    "-- We limit the number of records since when we export this query to a dataframe, the notebook can't handle 8 million rows.\n",
    "LIMIT 1000"
   ]
  },
  {
   "cell_type": "code",
   "execution_count": 34,
   "metadata": {
    "collapsed": false
   },
   "outputs": [
    {
     "data": {
      "text/html": [
       "\n",
       "    <div class=\"bqtv\" id=\"4_151664845146\"><table><tr><th>url</th><th>count_urls</th></tr><tr><td>https://www.duncanhines.com/recipes/brownies/jilltaylor86/red-velvet-fudge-brownies/</td><td>13980</td></tr><tr><td>http://www.thegreenlife.ca/fr/salade-cremeuse-au-kale-peches-grillees-croutons-epices/</td><td>12882</td></tr><tr><td>http://www.thegreenlife.ca/mexican-chocolate-avocado-mousse-workshop-recap/</td><td>11646</td></tr><tr><td>http://www.thegreenlife.ca/fr/chocolat-chaud-red-velvet/</td><td>11555</td></tr><tr><td>http://www.motherthyme.com/2014/08/bread-pudding.html?utm_source=feedburner&amp;utm_medium=email&amp;utm_campaign=Feed:+motherthyme/BYjd+(Mother+Thyme)</td><td>11286</td></tr><tr><td>http://www.thegreenlife.ca/raw-eggnog-bliss-balls/</td><td>11260</td></tr><tr><td>https://www.tillamook.com/recipes/monster-muenster-panini.html</td><td>11081</td></tr><tr><td>http://www.thegreenlife.ca/fr/frites-de-patates-douces-sauce-au-tahini-et-aux-herbes/</td><td>11009</td></tr><tr><td>http://www.thegreenlife.ca/fr/barres-de-millet-souffle-tahini-sesame-et-figues/</td><td>10767</td></tr><tr><td>http://www.thegreenlife.ca/almond-cherry-cacao-nib-breakfast-cookies/</td><td>10436</td></tr><tr><td>http://cookingwithmammac.com/jumbo-fried-shrimp/</td><td>10169</td></tr><tr><td>http://www.thegreenlife.ca/fr/salade-tiede-de-quinoa-kale-courge-delicata-vinaigrette-balsamique-a-lorange/</td><td>10075</td></tr><tr><td>http://www.lifemadedelicious.ca/recipes/orange-french-toast-bake/fa814fd8-2fcf-4795-a02d-a6da15c91483</td><td>9826</td></tr><tr><td>https://www.duncanhines.com/recipes/brownies/jilltaylor86/red-velvet-fudge-brownies/?crlt.pid=camp.ulh2ZEV7dt8j</td><td>9745</td></tr><tr><td>https://www.tillamook.com/recipes/pupusas.html</td><td>9743</td></tr><tr><td>http://www.thegreenlife.ca/blueberry-hemp-swirl-smoothie/</td><td>9740</td></tr><tr><td>http://www.thegreenlife.ca/raspberry-chocolate-roasted-hazelnut-mini-tarts/</td><td>9727</td></tr><tr><td>https://www.duncanhines.com/recipes/cakes/turdra/earthquake-cake/</td><td>9672</td></tr><tr><td>https://www.duncanhines.com/recipes/cookies-bars/Duncan%20Hines%C2%AE/devils-food-fudge-cookies/</td><td>9644</td></tr><tr><td>http://www.erecipesearch.com/recipes/desserts/fruits-and-cornflakes-parfait/</td><td>9467</td></tr><tr><td>http://www.thegreenlife.ca/matcha-mint-cacao-milkshake/</td><td>8856</td></tr><tr><td>http://www.thegreenlife.ca/fr/sandwichs-creme-glacee-chocolat-biscuits-tahini/</td><td>8855</td></tr><tr><td>https://www.tillamook.com/recipes/the-godfather.html</td><td>8772</td></tr><tr><td>http://myrecipemagic.com/recipe/recipedetail/-sea-salt-caramel-mocha</td><td>8515</td></tr><tr><td>http://www.thegreenlife.ca/lemon-poppy-seed-waffles-blueberry-cashew-cream/</td><td>8449</td></tr></table></div>\n",
       "    <br />(rows: 1000, time: 1.8s,   643MB processed, job: job_ZPWeWJKrh2kfzb2EOERUpfaWUVrA)<br />\n",
       "    <script src=\"/static/components/requirejs/require.js\"></script>\n",
       "    <script>\n",
       "\n",
       "      require.config({\n",
       "        paths: {\n",
       "          base: '/static/base',\n",
       "          d3: '//cdnjs.cloudflare.com/ajax/libs/d3/3.4.13/d3',\n",
       "          plotly: 'https://cdn.plot.ly/plotly-1.5.1.min.js?noext',\n",
       "          jquery: '//ajax.googleapis.com/ajax/libs/jquery/2.0.0/jquery.min'\n",
       "        },\n",
       "        map: {\n",
       "          '*': {\n",
       "            datalab: 'nbextensions/gcpdatalab'\n",
       "          }\n",
       "        },\n",
       "        shim: {\n",
       "          plotly: {\n",
       "            deps: ['d3', 'jquery'],\n",
       "            exports: 'plotly'\n",
       "          }\n",
       "        }\n",
       "      });\n",
       "\n",
       "      require(['datalab/charting', 'datalab/element!4_151664845146', 'base/js/events',\n",
       "          'datalab/style!/nbextensions/gcpdatalab/charting.css'],\n",
       "        function(charts, dom, events) {\n",
       "          charts.render('gcharts', dom, events, 'paged_table', [], {\"rows\": [{\"c\": [{\"v\": \"https://www.duncanhines.com/recipes/brownies/jilltaylor86/red-velvet-fudge-brownies/\"}, {\"v\": 13980}]}, {\"c\": [{\"v\": \"http://www.thegreenlife.ca/fr/salade-cremeuse-au-kale-peches-grillees-croutons-epices/\"}, {\"v\": 12882}]}, {\"c\": [{\"v\": \"http://www.thegreenlife.ca/mexican-chocolate-avocado-mousse-workshop-recap/\"}, {\"v\": 11646}]}, {\"c\": [{\"v\": \"http://www.thegreenlife.ca/fr/chocolat-chaud-red-velvet/\"}, {\"v\": 11555}]}, {\"c\": [{\"v\": \"http://www.motherthyme.com/2014/08/bread-pudding.html?utm_source=feedburner&utm_medium=email&utm_campaign=Feed:+motherthyme/BYjd+(Mother+Thyme)\"}, {\"v\": 11286}]}, {\"c\": [{\"v\": \"http://www.thegreenlife.ca/raw-eggnog-bliss-balls/\"}, {\"v\": 11260}]}, {\"c\": [{\"v\": \"https://www.tillamook.com/recipes/monster-muenster-panini.html\"}, {\"v\": 11081}]}, {\"c\": [{\"v\": \"http://www.thegreenlife.ca/fr/frites-de-patates-douces-sauce-au-tahini-et-aux-herbes/\"}, {\"v\": 11009}]}, {\"c\": [{\"v\": \"http://www.thegreenlife.ca/fr/barres-de-millet-souffle-tahini-sesame-et-figues/\"}, {\"v\": 10767}]}, {\"c\": [{\"v\": \"http://www.thegreenlife.ca/almond-cherry-cacao-nib-breakfast-cookies/\"}, {\"v\": 10436}]}, {\"c\": [{\"v\": \"http://cookingwithmammac.com/jumbo-fried-shrimp/\"}, {\"v\": 10169}]}, {\"c\": [{\"v\": \"http://www.thegreenlife.ca/fr/salade-tiede-de-quinoa-kale-courge-delicata-vinaigrette-balsamique-a-lorange/\"}, {\"v\": 10075}]}, {\"c\": [{\"v\": \"http://www.lifemadedelicious.ca/recipes/orange-french-toast-bake/fa814fd8-2fcf-4795-a02d-a6da15c91483\"}, {\"v\": 9826}]}, {\"c\": [{\"v\": \"https://www.duncanhines.com/recipes/brownies/jilltaylor86/red-velvet-fudge-brownies/?crlt.pid=camp.ulh2ZEV7dt8j\"}, {\"v\": 9745}]}, {\"c\": [{\"v\": \"https://www.tillamook.com/recipes/pupusas.html\"}, {\"v\": 9743}]}, {\"c\": [{\"v\": \"http://www.thegreenlife.ca/blueberry-hemp-swirl-smoothie/\"}, {\"v\": 9740}]}, {\"c\": [{\"v\": \"http://www.thegreenlife.ca/raspberry-chocolate-roasted-hazelnut-mini-tarts/\"}, {\"v\": 9727}]}, {\"c\": [{\"v\": \"https://www.duncanhines.com/recipes/cakes/turdra/earthquake-cake/\"}, {\"v\": 9672}]}, {\"c\": [{\"v\": \"https://www.duncanhines.com/recipes/cookies-bars/Duncan%20Hines%C2%AE/devils-food-fudge-cookies/\"}, {\"v\": 9644}]}, {\"c\": [{\"v\": \"http://www.erecipesearch.com/recipes/desserts/fruits-and-cornflakes-parfait/\"}, {\"v\": 9467}]}, {\"c\": [{\"v\": \"http://www.thegreenlife.ca/matcha-mint-cacao-milkshake/\"}, {\"v\": 8856}]}, {\"c\": [{\"v\": \"http://www.thegreenlife.ca/fr/sandwichs-creme-glacee-chocolat-biscuits-tahini/\"}, {\"v\": 8855}]}, {\"c\": [{\"v\": \"https://www.tillamook.com/recipes/the-godfather.html\"}, {\"v\": 8772}]}, {\"c\": [{\"v\": \"http://myrecipemagic.com/recipe/recipedetail/-sea-salt-caramel-mocha\"}, {\"v\": 8515}]}, {\"c\": [{\"v\": \"http://www.thegreenlife.ca/lemon-poppy-seed-waffles-blueberry-cashew-cream/\"}, {\"v\": 8449}]}], \"cols\": [{\"type\": \"string\", \"id\": \"url\", \"label\": \"url\"}, {\"type\": \"number\", \"id\": \"count_urls\", \"label\": \"count_urls\"}]},\n",
       "            {\n",
       "              pageSize: 25,\n",
       "              cssClassNames:  {\n",
       "                tableRow: 'gchart-table-row',\n",
       "                headerRow: 'gchart-table-headerrow',\n",
       "                oddTableRow: 'gchart-table-oddrow',\n",
       "                selectedTableRow: 'gchart-table-selectedrow',\n",
       "                hoverTableRow: 'gchart-table-hoverrow',\n",
       "                tableCell: 'gchart-table-cell',\n",
       "                headerCell: 'gchart-table-headercell',\n",
       "                rowNumberCell: 'gchart-table-rownumcell'\n",
       "              }\n",
       "            },\n",
       "            {source_index: 3, fields: 'url,count_urls', legacy: 'true'},\n",
       "            0,\n",
       "            1000);\n",
       "        }\n",
       "      );\n",
       "    </script>\n",
       "  "
      ],
      "text/plain": [
       "QueryResultsTable job_ZPWeWJKrh2kfzb2EOERUpfaWUVrA"
      ]
     },
     "execution_count": 34,
     "metadata": {},
     "output_type": "execute_result"
    }
   ],
   "source": [
    "%%bigquery execute -q imported_recipes"
   ]
  },
  {
   "cell_type": "markdown",
   "metadata": {},
   "source": [
    "#### There's a final '/' in some URLs that should be removed."
   ]
  },
  {
   "cell_type": "code",
   "execution_count": 35,
   "metadata": {
    "collapsed": true
   },
   "outputs": [],
   "source": [
    "%%sql --module imported_recipes_no_final_slash\n",
    "SELECT url,\n",
    "CASE\n",
    "  WHEN RIGHT(url, 1) = '/' THEN LEFT(url, LENGTH(url)-1)\n",
    "  ELSE url\n",
    "END\n",
    "FROM [firebase-wellio:recipes.imported_recipes]\n",
    "WHERE url IS NOT NULL AND url <> '#'\n",
    "LIMIT 50"
   ]
  },
  {
   "cell_type": "code",
   "execution_count": 36,
   "metadata": {
    "collapsed": false
   },
   "outputs": [
    {
     "data": {
      "text/html": [
       "\n",
       "    <div class=\"bqtv\" id=\"5_151664846040\"><table><tr><th>url</th><th>f0_</th></tr><tr><td>http://www.taste.com.au/recipes/breakfast-pies/bd504d8e-b126-4704-bc77-2b60929f27be</td><td>http://www.taste.com.au/recipes/breakfast-pies/bd504d8e-b126-4704-bc77-2b60929f27be</td></tr><tr><td>http://www.mysuburbankitchen.com/2015/09/apple-gouda-grilled-cheese/</td><td>http://www.mysuburbankitchen.com/2015/09/apple-gouda-grilled-cheese</td></tr><tr><td>http://www.freutcake.com/in-the-kitchen/strawberry-rhubarb-hand-pies/</td><td>http://www.freutcake.com/in-the-kitchen/strawberry-rhubarb-hand-pies</td></tr><tr><td>http://www.justalittlebitofbacon.com/hamburger-mac-and-cheese/</td><td>http://www.justalittlebitofbacon.com/hamburger-mac-and-cheese</td></tr><tr><td>https://wondermomwannabe.com/chicken-broccoli-quinoa-casserole/</td><td>https://wondermomwannabe.com/chicken-broccoli-quinoa-casserole</td></tr><tr><td>http://www.delish.com/cooking/recipe-ideas/recipes/a53332/oven-fried-pickles-recipe/</td><td>http://www.delish.com/cooking/recipe-ideas/recipes/a53332/oven-fried-pickles-recipe</td></tr><tr><td>http://www.food.com/recipe/baked-gnocchi-with-chicken-507013</td><td>http://www.food.com/recipe/baked-gnocchi-with-chicken-507013</td></tr><tr><td>http://www.food.com/recipe/dan-dan-mein-by-sy-501820</td><td>http://www.food.com/recipe/dan-dan-mein-by-sy-501820</td></tr><tr><td>http://www.momontimeout.com/2015/03/carrot-cake-bars-with-cream-cheese-frosting/</td><td>http://www.momontimeout.com/2015/03/carrot-cake-bars-with-cream-cheese-frosting</td></tr><tr><td>http://www.closetcooking.com/2012/08/shrimp-and-roasted-corn-chowder.html</td><td>http://www.closetcooking.com/2012/08/shrimp-and-roasted-corn-chowder.html</td></tr><tr><td>http://littlechefbigappetite.com/tuscan-white-bean-soup-with-chicken-recipe/</td><td>http://littlechefbigappetite.com/tuscan-white-bean-soup-with-chicken-recipe</td></tr><tr><td>https://sallysbakingaddiction.com/2016/11/03/apple-cranberry-pie/</td><td>https://sallysbakingaddiction.com/2016/11/03/apple-cranberry-pie</td></tr><tr><td>http://www.seriouseats.com/recipes/2014/07/gluten-free-all-day-lemon-cake-recipe.html</td><td>http://www.seriouseats.com/recipes/2014/07/gluten-free-all-day-lemon-cake-recipe.html</td></tr><tr><td>http://www.seriouseats.com/recipes/2010/05/roasted-baby-mangoes-with-vanilla-ice-cream-recipe.html</td><td>http://www.seriouseats.com/recipes/2010/05/roasted-baby-mangoes-with-vanilla-ice-cream-recipe.html</td></tr><tr><td>http://www.food.com/recipe/bbq-pork-lo-mein-316197</td><td>http://www.food.com/recipe/bbq-pork-lo-mein-316197</td></tr><tr><td>http://www.prevention.com/recipes/cozy-quinoa-casserole</td><td>http://www.prevention.com/recipes/cozy-quinoa-casserole</td></tr><tr><td>http://pocketchangegourmet.com/blt-mac-cheese/</td><td>http://pocketchangegourmet.com/blt-mac-cheese</td></tr><tr><td>http://www.epicurious.com/recipes/food/views/sour-cherry-streusel-pie-232396</td><td>http://www.epicurious.com/recipes/food/views/sour-cherry-streusel-pie-232396</td></tr><tr><td>https://www.sugardishme.com/bacon-spinach-breakfast-casserole/</td><td>https://www.sugardishme.com/bacon-spinach-breakfast-casserole</td></tr><tr><td>http://www.thesassyslowcooker.com/slow-cooker-potato-soup-recipes/</td><td>http://www.thesassyslowcooker.com/slow-cooker-potato-soup-recipes</td></tr><tr><td>http://blog.candiquik.com/shark-fin-cupcake-toppers/</td><td>http://blog.candiquik.com/shark-fin-cupcake-toppers</td></tr><tr><td>https://www.foodfanatic.com/2014/06/apple-pie-cookies-handheld-genius/</td><td>https://www.foodfanatic.com/2014/06/apple-pie-cookies-handheld-genius</td></tr><tr><td>http://www.food.com/recipe/brown-rice-with-apples-and-cranberries-339492</td><td>http://www.food.com/recipe/brown-rice-with-apples-and-cranberries-339492</td></tr><tr><td>http://www.food.com/recipe/stuffed-strawberries-87445</td><td>http://www.food.com/recipe/stuffed-strawberries-87445</td></tr><tr><td>https://www.lavenderandlovage.com/2012/11/remembrance-sunday-wartime-kitchen-bacon-cakes-baked-bean-tin-puddings-sunday-tea.html</td><td>https://www.lavenderandlovage.com/2012/11/remembrance-sunday-wartime-kitchen-bacon-cakes-baked-bean-tin-puddings-sunday-tea.html</td></tr></table></div>\n",
       "    <br />(rows: 50, time: 0.7s,   643MB processed, job: job_XcV7eND8uypMrZt51XUj-1kzRI2G)<br />\n",
       "    <script src=\"/static/components/requirejs/require.js\"></script>\n",
       "    <script>\n",
       "\n",
       "      require.config({\n",
       "        paths: {\n",
       "          base: '/static/base',\n",
       "          d3: '//cdnjs.cloudflare.com/ajax/libs/d3/3.4.13/d3',\n",
       "          plotly: 'https://cdn.plot.ly/plotly-1.5.1.min.js?noext',\n",
       "          jquery: '//ajax.googleapis.com/ajax/libs/jquery/2.0.0/jquery.min'\n",
       "        },\n",
       "        map: {\n",
       "          '*': {\n",
       "            datalab: 'nbextensions/gcpdatalab'\n",
       "          }\n",
       "        },\n",
       "        shim: {\n",
       "          plotly: {\n",
       "            deps: ['d3', 'jquery'],\n",
       "            exports: 'plotly'\n",
       "          }\n",
       "        }\n",
       "      });\n",
       "\n",
       "      require(['datalab/charting', 'datalab/element!5_151664846040', 'base/js/events',\n",
       "          'datalab/style!/nbextensions/gcpdatalab/charting.css'],\n",
       "        function(charts, dom, events) {\n",
       "          charts.render('gcharts', dom, events, 'paged_table', [], {\"rows\": [{\"c\": [{\"v\": \"http://www.taste.com.au/recipes/breakfast-pies/bd504d8e-b126-4704-bc77-2b60929f27be\"}, {\"v\": \"http://www.taste.com.au/recipes/breakfast-pies/bd504d8e-b126-4704-bc77-2b60929f27be\"}]}, {\"c\": [{\"v\": \"http://www.mysuburbankitchen.com/2015/09/apple-gouda-grilled-cheese/\"}, {\"v\": \"http://www.mysuburbankitchen.com/2015/09/apple-gouda-grilled-cheese\"}]}, {\"c\": [{\"v\": \"http://www.freutcake.com/in-the-kitchen/strawberry-rhubarb-hand-pies/\"}, {\"v\": \"http://www.freutcake.com/in-the-kitchen/strawberry-rhubarb-hand-pies\"}]}, {\"c\": [{\"v\": \"http://www.justalittlebitofbacon.com/hamburger-mac-and-cheese/\"}, {\"v\": \"http://www.justalittlebitofbacon.com/hamburger-mac-and-cheese\"}]}, {\"c\": [{\"v\": \"https://wondermomwannabe.com/chicken-broccoli-quinoa-casserole/\"}, {\"v\": \"https://wondermomwannabe.com/chicken-broccoli-quinoa-casserole\"}]}, {\"c\": [{\"v\": \"http://www.delish.com/cooking/recipe-ideas/recipes/a53332/oven-fried-pickles-recipe/\"}, {\"v\": \"http://www.delish.com/cooking/recipe-ideas/recipes/a53332/oven-fried-pickles-recipe\"}]}, {\"c\": [{\"v\": \"http://www.food.com/recipe/baked-gnocchi-with-chicken-507013\"}, {\"v\": \"http://www.food.com/recipe/baked-gnocchi-with-chicken-507013\"}]}, {\"c\": [{\"v\": \"http://www.food.com/recipe/dan-dan-mein-by-sy-501820\"}, {\"v\": \"http://www.food.com/recipe/dan-dan-mein-by-sy-501820\"}]}, {\"c\": [{\"v\": \"http://www.momontimeout.com/2015/03/carrot-cake-bars-with-cream-cheese-frosting/\"}, {\"v\": \"http://www.momontimeout.com/2015/03/carrot-cake-bars-with-cream-cheese-frosting\"}]}, {\"c\": [{\"v\": \"http://www.closetcooking.com/2012/08/shrimp-and-roasted-corn-chowder.html\"}, {\"v\": \"http://www.closetcooking.com/2012/08/shrimp-and-roasted-corn-chowder.html\"}]}, {\"c\": [{\"v\": \"http://littlechefbigappetite.com/tuscan-white-bean-soup-with-chicken-recipe/\"}, {\"v\": \"http://littlechefbigappetite.com/tuscan-white-bean-soup-with-chicken-recipe\"}]}, {\"c\": [{\"v\": \"https://sallysbakingaddiction.com/2016/11/03/apple-cranberry-pie/\"}, {\"v\": \"https://sallysbakingaddiction.com/2016/11/03/apple-cranberry-pie\"}]}, {\"c\": [{\"v\": \"http://www.seriouseats.com/recipes/2014/07/gluten-free-all-day-lemon-cake-recipe.html\"}, {\"v\": \"http://www.seriouseats.com/recipes/2014/07/gluten-free-all-day-lemon-cake-recipe.html\"}]}, {\"c\": [{\"v\": \"http://www.seriouseats.com/recipes/2010/05/roasted-baby-mangoes-with-vanilla-ice-cream-recipe.html\"}, {\"v\": \"http://www.seriouseats.com/recipes/2010/05/roasted-baby-mangoes-with-vanilla-ice-cream-recipe.html\"}]}, {\"c\": [{\"v\": \"http://www.food.com/recipe/bbq-pork-lo-mein-316197\"}, {\"v\": \"http://www.food.com/recipe/bbq-pork-lo-mein-316197\"}]}, {\"c\": [{\"v\": \"http://www.prevention.com/recipes/cozy-quinoa-casserole\"}, {\"v\": \"http://www.prevention.com/recipes/cozy-quinoa-casserole\"}]}, {\"c\": [{\"v\": \"http://pocketchangegourmet.com/blt-mac-cheese/\"}, {\"v\": \"http://pocketchangegourmet.com/blt-mac-cheese\"}]}, {\"c\": [{\"v\": \"http://www.epicurious.com/recipes/food/views/sour-cherry-streusel-pie-232396\"}, {\"v\": \"http://www.epicurious.com/recipes/food/views/sour-cherry-streusel-pie-232396\"}]}, {\"c\": [{\"v\": \"https://www.sugardishme.com/bacon-spinach-breakfast-casserole/\"}, {\"v\": \"https://www.sugardishme.com/bacon-spinach-breakfast-casserole\"}]}, {\"c\": [{\"v\": \"http://www.thesassyslowcooker.com/slow-cooker-potato-soup-recipes/\"}, {\"v\": \"http://www.thesassyslowcooker.com/slow-cooker-potato-soup-recipes\"}]}, {\"c\": [{\"v\": \"http://blog.candiquik.com/shark-fin-cupcake-toppers/\"}, {\"v\": \"http://blog.candiquik.com/shark-fin-cupcake-toppers\"}]}, {\"c\": [{\"v\": \"https://www.foodfanatic.com/2014/06/apple-pie-cookies-handheld-genius/\"}, {\"v\": \"https://www.foodfanatic.com/2014/06/apple-pie-cookies-handheld-genius\"}]}, {\"c\": [{\"v\": \"http://www.food.com/recipe/brown-rice-with-apples-and-cranberries-339492\"}, {\"v\": \"http://www.food.com/recipe/brown-rice-with-apples-and-cranberries-339492\"}]}, {\"c\": [{\"v\": \"http://www.food.com/recipe/stuffed-strawberries-87445\"}, {\"v\": \"http://www.food.com/recipe/stuffed-strawberries-87445\"}]}, {\"c\": [{\"v\": \"https://www.lavenderandlovage.com/2012/11/remembrance-sunday-wartime-kitchen-bacon-cakes-baked-bean-tin-puddings-sunday-tea.html\"}, {\"v\": \"https://www.lavenderandlovage.com/2012/11/remembrance-sunday-wartime-kitchen-bacon-cakes-baked-bean-tin-puddings-sunday-tea.html\"}]}], \"cols\": [{\"type\": \"string\", \"id\": \"url\", \"label\": \"url\"}, {\"type\": \"string\", \"id\": \"f0_\", \"label\": \"f0_\"}]},\n",
       "            {\n",
       "              pageSize: 25,\n",
       "              cssClassNames:  {\n",
       "                tableRow: 'gchart-table-row',\n",
       "                headerRow: 'gchart-table-headerrow',\n",
       "                oddTableRow: 'gchart-table-oddrow',\n",
       "                selectedTableRow: 'gchart-table-selectedrow',\n",
       "                hoverTableRow: 'gchart-table-hoverrow',\n",
       "                tableCell: 'gchart-table-cell',\n",
       "                headerCell: 'gchart-table-headercell',\n",
       "                rowNumberCell: 'gchart-table-rownumcell'\n",
       "              }\n",
       "            },\n",
       "            {source_index: 4, fields: 'url,f0_', legacy: 'true'},\n",
       "            0,\n",
       "            50);\n",
       "        }\n",
       "      );\n",
       "    </script>\n",
       "  "
      ],
      "text/plain": [
       "QueryResultsTable job_XcV7eND8uypMrZt51XUj-1kzRI2G"
      ]
     },
     "execution_count": 36,
     "metadata": {},
     "output_type": "execute_result"
    }
   ],
   "source": [
    "%%bigquery execute -q imported_recipes_no_final_slash"
   ]
  },
  {
   "cell_type": "markdown",
   "metadata": {},
   "source": [
    "### Unfortunately, when we try to run above for the entire table, we get (so we limit the above query with 50 rows):"
   ]
  },
  {
   "cell_type": "markdown",
   "metadata": {},
   "source": [
    "#### `HTTP request failed: Response too large to return. Consider setting allowLargeResults to true in your job configuration. For more information, see https://cloud.google.com/bigquery/troubleshooting-errors`"
   ]
  },
  {
   "cell_type": "markdown",
   "metadata": {},
   "source": [
    "### So we need to export into a pandas dataframe and handle it there."
   ]
  },
  {
   "cell_type": "code",
   "execution_count": 37,
   "metadata": {
    "collapsed": false
   },
   "outputs": [],
   "source": [
    "imported_recipes_sites_df = bq.Query(imported_recipes).to_dataframe()"
   ]
  },
  {
   "cell_type": "code",
   "execution_count": 38,
   "metadata": {
    "collapsed": true
   },
   "outputs": [],
   "source": [
    "del imported_recipes_sites_df['count_urls']"
   ]
  },
  {
   "cell_type": "code",
   "execution_count": 39,
   "metadata": {
    "collapsed": false
   },
   "outputs": [
    {
     "data": {
      "text/html": [
       "<div>\n",
       "<style scoped>\n",
       "    .dataframe tbody tr th:only-of-type {\n",
       "        vertical-align: middle;\n",
       "    }\n",
       "\n",
       "    .dataframe tbody tr th {\n",
       "        vertical-align: top;\n",
       "    }\n",
       "\n",
       "    .dataframe thead th {\n",
       "        text-align: right;\n",
       "    }\n",
       "</style>\n",
       "<table border=\"1\" class=\"dataframe\">\n",
       "  <thead>\n",
       "    <tr style=\"text-align: right;\">\n",
       "      <th></th>\n",
       "      <th>url</th>\n",
       "    </tr>\n",
       "  </thead>\n",
       "  <tbody>\n",
       "    <tr>\n",
       "      <th>0</th>\n",
       "      <td>https://www.duncanhines.com/recipes/brownies/jilltaylor86/red-velvet-fudge-brownies/</td>\n",
       "    </tr>\n",
       "    <tr>\n",
       "      <th>1</th>\n",
       "      <td>http://www.thegreenlife.ca/fr/salade-cremeuse-au-kale-peches-grillees-croutons-epices/</td>\n",
       "    </tr>\n",
       "    <tr>\n",
       "      <th>2</th>\n",
       "      <td>http://www.thegreenlife.ca/mexican-chocolate-avocado-mousse-workshop-recap/</td>\n",
       "    </tr>\n",
       "    <tr>\n",
       "      <th>3</th>\n",
       "      <td>http://www.thegreenlife.ca/fr/chocolat-chaud-red-velvet/</td>\n",
       "    </tr>\n",
       "    <tr>\n",
       "      <th>4</th>\n",
       "      <td>http://www.motherthyme.com/2014/08/bread-pudding.html?utm_source=feedburner&amp;utm_medium=email&amp;utm_campaign=Feed:+motherthyme/BYjd+(Mother+Thyme)</td>\n",
       "    </tr>\n",
       "  </tbody>\n",
       "</table>\n",
       "</div>"
      ],
      "text/plain": [
       "                                                                                                                                               url\n",
       "0  https://www.duncanhines.com/recipes/brownies/jilltaylor86/red-velvet-fudge-brownies/                                                           \n",
       "1  http://www.thegreenlife.ca/fr/salade-cremeuse-au-kale-peches-grillees-croutons-epices/                                                         \n",
       "2  http://www.thegreenlife.ca/mexican-chocolate-avocado-mousse-workshop-recap/                                                                    \n",
       "3  http://www.thegreenlife.ca/fr/chocolat-chaud-red-velvet/                                                                                       \n",
       "4  http://www.motherthyme.com/2014/08/bread-pudding.html?utm_source=feedburner&utm_medium=email&utm_campaign=Feed:+motherthyme/BYjd+(Mother+Thyme)"
      ]
     },
     "execution_count": 39,
     "metadata": {},
     "output_type": "execute_result"
    }
   ],
   "source": [
    "imported_recipes_sites_df.head()"
   ]
  },
  {
   "cell_type": "code",
   "execution_count": 40,
   "metadata": {
    "collapsed": false
   },
   "outputs": [
    {
     "data": {
      "text/plain": [
       "(1000, 1)"
      ]
     },
     "execution_count": 40,
     "metadata": {},
     "output_type": "execute_result"
    }
   ],
   "source": [
    "imported_recipes_sites_df.shape"
   ]
  },
  {
   "cell_type": "code",
   "execution_count": 41,
   "metadata": {
    "collapsed": false
   },
   "outputs": [
    {
     "data": {
      "text/plain": [
       "(1000, 1)"
      ]
     },
     "execution_count": 41,
     "metadata": {},
     "output_type": "execute_result"
    }
   ],
   "source": [
    "imported_recipes_sites_df.drop_duplicates().shape"
   ]
  },
  {
   "cell_type": "markdown",
   "metadata": {},
   "source": [
    "### We didn't import enough rows to determine if we have duplicated rows."
   ]
  },
  {
   "cell_type": "markdown",
   "metadata": {},
   "source": [
    "### If there's an URL which contains some Google Ad code, we remove it. For example:\n",
    "### `http://www.motherthyme.com/2014/08/bread-pudding.html?utm_source=feedburner&utm_medium=email&utm_campaign=Feed:+motherthyme/BYjd+(Mother+Thyme`"
   ]
  },
  {
   "cell_type": "code",
   "execution_count": 42,
   "metadata": {
    "collapsed": true
   },
   "outputs": [],
   "source": [
    "def remove_utm(my_dataframe_series):\n",
    "  '''\n",
    "  This function removes Google Ad Words code from the URL, which is identified by ?utm_source= if present.\n",
    "  '''\n",
    "  if '?utm_source=' in my_dataframe_series:\n",
    "    utm_index = my_dataframe_series.index('?utm_source=')\n",
    "    final_series = my_dataframe_series[0:utm_index]\n",
    "  else:\n",
    "    # Instead of returning the same series if no final / is present, i.e. final_series = my_dataframe_series\n",
    "    # We apply the above function to get the final recipe string.\n",
    "    final_series = remove_final_slash(my_dataframe_series)\n",
    "  return final_series"
   ]
  },
  {
   "cell_type": "code",
   "execution_count": 43,
   "metadata": {
    "collapsed": false
   },
   "outputs": [],
   "source": [
    "imported_recipes_sites_df['recipe'] = imported_recipes_sites_df['url'].apply(remove_utm)"
   ]
  },
  {
   "cell_type": "code",
   "execution_count": 44,
   "metadata": {
    "collapsed": false
   },
   "outputs": [
    {
     "data": {
      "text/html": [
       "<div>\n",
       "<style scoped>\n",
       "    .dataframe tbody tr th:only-of-type {\n",
       "        vertical-align: middle;\n",
       "    }\n",
       "\n",
       "    .dataframe tbody tr th {\n",
       "        vertical-align: top;\n",
       "    }\n",
       "\n",
       "    .dataframe thead th {\n",
       "        text-align: right;\n",
       "    }\n",
       "</style>\n",
       "<table border=\"1\" class=\"dataframe\">\n",
       "  <thead>\n",
       "    <tr style=\"text-align: right;\">\n",
       "      <th></th>\n",
       "      <th>url</th>\n",
       "      <th>recipe</th>\n",
       "    </tr>\n",
       "  </thead>\n",
       "  <tbody>\n",
       "    <tr>\n",
       "      <th>0</th>\n",
       "      <td>https://www.duncanhines.com/recipes/brownies/jilltaylor86/red-velvet-fudge-brownies/</td>\n",
       "      <td>https://www.duncanhines.com/recipes/brownies/jilltaylor86/red-velvet-fudge-brownies</td>\n",
       "    </tr>\n",
       "    <tr>\n",
       "      <th>1</th>\n",
       "      <td>http://www.thegreenlife.ca/fr/salade-cremeuse-au-kale-peches-grillees-croutons-epices/</td>\n",
       "      <td>http://www.thegreenlife.ca/fr/salade-cremeuse-au-kale-peches-grillees-croutons-epices</td>\n",
       "    </tr>\n",
       "    <tr>\n",
       "      <th>2</th>\n",
       "      <td>http://www.thegreenlife.ca/mexican-chocolate-avocado-mousse-workshop-recap/</td>\n",
       "      <td>http://www.thegreenlife.ca/mexican-chocolate-avocado-mousse-workshop-recap</td>\n",
       "    </tr>\n",
       "    <tr>\n",
       "      <th>3</th>\n",
       "      <td>http://www.thegreenlife.ca/fr/chocolat-chaud-red-velvet/</td>\n",
       "      <td>http://www.thegreenlife.ca/fr/chocolat-chaud-red-velvet</td>\n",
       "    </tr>\n",
       "    <tr>\n",
       "      <th>4</th>\n",
       "      <td>http://www.motherthyme.com/2014/08/bread-pudding.html?utm_source=feedburner&amp;utm_medium=email&amp;utm_campaign=Feed:+motherthyme/BYjd+(Mother+Thyme)</td>\n",
       "      <td>http://www.motherthyme.com/2014/08/bread-pudding.html</td>\n",
       "    </tr>\n",
       "  </tbody>\n",
       "</table>\n",
       "</div>"
      ],
      "text/plain": [
       "                                                                                                                                               url  \\\n",
       "0  https://www.duncanhines.com/recipes/brownies/jilltaylor86/red-velvet-fudge-brownies/                                                              \n",
       "1  http://www.thegreenlife.ca/fr/salade-cremeuse-au-kale-peches-grillees-croutons-epices/                                                            \n",
       "2  http://www.thegreenlife.ca/mexican-chocolate-avocado-mousse-workshop-recap/                                                                       \n",
       "3  http://www.thegreenlife.ca/fr/chocolat-chaud-red-velvet/                                                                                          \n",
       "4  http://www.motherthyme.com/2014/08/bread-pudding.html?utm_source=feedburner&utm_medium=email&utm_campaign=Feed:+motherthyme/BYjd+(Mother+Thyme)   \n",
       "\n",
       "                                                                                  recipe  \n",
       "0  https://www.duncanhines.com/recipes/brownies/jilltaylor86/red-velvet-fudge-brownies    \n",
       "1  http://www.thegreenlife.ca/fr/salade-cremeuse-au-kale-peches-grillees-croutons-epices  \n",
       "2  http://www.thegreenlife.ca/mexican-chocolate-avocado-mousse-workshop-recap             \n",
       "3  http://www.thegreenlife.ca/fr/chocolat-chaud-red-velvet                                \n",
       "4  http://www.motherthyme.com/2014/08/bread-pudding.html                                  "
      ]
     },
     "execution_count": 44,
     "metadata": {},
     "output_type": "execute_result"
    }
   ],
   "source": [
    "imported_recipes_sites_df.head()"
   ]
  },
  {
   "cell_type": "code",
   "execution_count": 45,
   "metadata": {
    "collapsed": false
   },
   "outputs": [
    {
     "data": {
      "text/html": [
       "<div>\n",
       "<style scoped>\n",
       "    .dataframe tbody tr th:only-of-type {\n",
       "        vertical-align: middle;\n",
       "    }\n",
       "\n",
       "    .dataframe tbody tr th {\n",
       "        vertical-align: top;\n",
       "    }\n",
       "\n",
       "    .dataframe thead th {\n",
       "        text-align: right;\n",
       "    }\n",
       "</style>\n",
       "<table border=\"1\" class=\"dataframe\">\n",
       "  <thead>\n",
       "    <tr style=\"text-align: right;\">\n",
       "      <th></th>\n",
       "      <th>url</th>\n",
       "      <th>recipe</th>\n",
       "    </tr>\n",
       "  </thead>\n",
       "  <tbody>\n",
       "    <tr>\n",
       "      <th>995</th>\n",
       "      <td>http://www.recipe4living.com/recipes/pancake_house_copycat_blueberry_pancakes.htm</td>\n",
       "      <td>/pancake_house_copycat_blueberry_pancakes.htm</td>\n",
       "    </tr>\n",
       "    <tr>\n",
       "      <th>996</th>\n",
       "      <td>http://heatherchristo.com/2016/02/23/mexican-chicken-noodle-soup-gluten-free/</td>\n",
       "      <td>http://heatherchristo.com/2016/02/23/mexican-chicken-noodle-soup-gluten-free</td>\n",
       "    </tr>\n",
       "    <tr>\n",
       "      <th>997</th>\n",
       "      <td>http://www.seriouseats.com/recipes/2011/11/from-the-blender-healthy-pumpkin-spice-smoothie.html</td>\n",
       "      <td>/from-the-blender-healthy-pumpkin-spice-smoothie.html</td>\n",
       "    </tr>\n",
       "    <tr>\n",
       "      <th>998</th>\n",
       "      <td>http://www.womansday.com/food-recipes/food-drinks/recipes/a37171/bacon-scallops-lemon-herb-dressing-recipe-rbk0911/</td>\n",
       "      <td>http://www.womansday.com/food-recipes/food-drinks/recipes/a37171/bacon-scallops-lemon-herb-dressing-recipe-rbk0911</td>\n",
       "    </tr>\n",
       "    <tr>\n",
       "      <th>999</th>\n",
       "      <td>http://www.budgetsavvydiva.com/2012/04/cheese-baked-pasta-recipe/</td>\n",
       "      <td>http://www.budgetsavvydiva.com/2012/04/cheese-baked-pasta-recipe</td>\n",
       "    </tr>\n",
       "  </tbody>\n",
       "</table>\n",
       "</div>"
      ],
      "text/plain": [
       "                                                                                                                     url  \\\n",
       "995  http://www.recipe4living.com/recipes/pancake_house_copycat_blueberry_pancakes.htm                                     \n",
       "996  http://heatherchristo.com/2016/02/23/mexican-chicken-noodle-soup-gluten-free/                                         \n",
       "997  http://www.seriouseats.com/recipes/2011/11/from-the-blender-healthy-pumpkin-spice-smoothie.html                       \n",
       "998  http://www.womansday.com/food-recipes/food-drinks/recipes/a37171/bacon-scallops-lemon-herb-dressing-recipe-rbk0911/   \n",
       "999  http://www.budgetsavvydiva.com/2012/04/cheese-baked-pasta-recipe/                                                     \n",
       "\n",
       "                                                                                                                 recipe  \n",
       "995  /pancake_house_copycat_blueberry_pancakes.htm                                                                       \n",
       "996  http://heatherchristo.com/2016/02/23/mexican-chicken-noodle-soup-gluten-free                                        \n",
       "997  /from-the-blender-healthy-pumpkin-spice-smoothie.html                                                               \n",
       "998  http://www.womansday.com/food-recipes/food-drinks/recipes/a37171/bacon-scallops-lemon-herb-dressing-recipe-rbk0911  \n",
       "999  http://www.budgetsavvydiva.com/2012/04/cheese-baked-pasta-recipe                                                    "
      ]
     },
     "execution_count": 45,
     "metadata": {},
     "output_type": "execute_result"
    }
   ],
   "source": [
    "imported_recipes_sites_df.tail()"
   ]
  },
  {
   "cell_type": "markdown",
   "metadata": {},
   "source": [
    "### We have different domains: .com, .ca..."
   ]
  },
  {
   "cell_type": "code",
   "execution_count": 46,
   "metadata": {
    "collapsed": true
   },
   "outputs": [],
   "source": [
    "def find_index_char_hard_coded_first(my_dataframe_element):\n",
    "  '''\n",
    "  This function returns a substring. We provide a column from a dataframe, represented by variable my_dataframe_element,\n",
    "  and we find all the index positions of a hardcoded character (which is / in this case) in such element.\n",
    "  This will create a list of all the indices of such character (if more than 1 is found) in the dataframe element, which is \n",
    "  represented by the variable list_of_positions. If we want to return the first position of such character, we would return \n",
    "  list_of_positions[0]\n",
    "  In this case, we will return the sliced element starting at the first index position of the provided character we are interested.\n",
    "  '''\n",
    "  list_of_positions = [pos for pos, char in enumerate(my_dataframe_element) if char == '/']\n",
    "  if 'http' or 'https' in my_dataframe_element:\n",
    "    return my_dataframe_element[0:list_of_positions[2]]"
   ]
  },
  {
   "cell_type": "code",
   "execution_count": 47,
   "metadata": {
    "collapsed": false
   },
   "outputs": [],
   "source": [
    "imported_recipes_sites_df['recipe_domain'] = imported_recipes_sites_df['url'].apply(find_index_char_hard_coded_first)"
   ]
  },
  {
   "cell_type": "code",
   "execution_count": 48,
   "metadata": {
    "collapsed": false
   },
   "outputs": [
    {
     "data": {
      "text/html": [
       "<div>\n",
       "<style scoped>\n",
       "    .dataframe tbody tr th:only-of-type {\n",
       "        vertical-align: middle;\n",
       "    }\n",
       "\n",
       "    .dataframe tbody tr th {\n",
       "        vertical-align: top;\n",
       "    }\n",
       "\n",
       "    .dataframe thead th {\n",
       "        text-align: right;\n",
       "    }\n",
       "</style>\n",
       "<table border=\"1\" class=\"dataframe\">\n",
       "  <thead>\n",
       "    <tr style=\"text-align: right;\">\n",
       "      <th></th>\n",
       "      <th>url</th>\n",
       "      <th>recipe</th>\n",
       "      <th>recipe_domain</th>\n",
       "    </tr>\n",
       "  </thead>\n",
       "  <tbody>\n",
       "    <tr>\n",
       "      <th>0</th>\n",
       "      <td>https://www.duncanhines.com/recipes/brownies/jilltaylor86/red-velvet-fudge-brownies/</td>\n",
       "      <td>https://www.duncanhines.com/recipes/brownies/jilltaylor86/red-velvet-fudge-brownies</td>\n",
       "      <td>https://www.duncanhines.com</td>\n",
       "    </tr>\n",
       "    <tr>\n",
       "      <th>1</th>\n",
       "      <td>http://www.thegreenlife.ca/fr/salade-cremeuse-au-kale-peches-grillees-croutons-epices/</td>\n",
       "      <td>http://www.thegreenlife.ca/fr/salade-cremeuse-au-kale-peches-grillees-croutons-epices</td>\n",
       "      <td>http://www.thegreenlife.ca</td>\n",
       "    </tr>\n",
       "    <tr>\n",
       "      <th>2</th>\n",
       "      <td>http://www.thegreenlife.ca/mexican-chocolate-avocado-mousse-workshop-recap/</td>\n",
       "      <td>http://www.thegreenlife.ca/mexican-chocolate-avocado-mousse-workshop-recap</td>\n",
       "      <td>http://www.thegreenlife.ca</td>\n",
       "    </tr>\n",
       "    <tr>\n",
       "      <th>3</th>\n",
       "      <td>http://www.thegreenlife.ca/fr/chocolat-chaud-red-velvet/</td>\n",
       "      <td>http://www.thegreenlife.ca/fr/chocolat-chaud-red-velvet</td>\n",
       "      <td>http://www.thegreenlife.ca</td>\n",
       "    </tr>\n",
       "    <tr>\n",
       "      <th>4</th>\n",
       "      <td>http://www.motherthyme.com/2014/08/bread-pudding.html?utm_source=feedburner&amp;utm_medium=email&amp;utm_campaign=Feed:+motherthyme/BYjd+(Mother+Thyme)</td>\n",
       "      <td>http://www.motherthyme.com/2014/08/bread-pudding.html</td>\n",
       "      <td>http://www.motherthyme.com</td>\n",
       "    </tr>\n",
       "  </tbody>\n",
       "</table>\n",
       "</div>"
      ],
      "text/plain": [
       "                                                                                                                                               url  \\\n",
       "0  https://www.duncanhines.com/recipes/brownies/jilltaylor86/red-velvet-fudge-brownies/                                                              \n",
       "1  http://www.thegreenlife.ca/fr/salade-cremeuse-au-kale-peches-grillees-croutons-epices/                                                            \n",
       "2  http://www.thegreenlife.ca/mexican-chocolate-avocado-mousse-workshop-recap/                                                                       \n",
       "3  http://www.thegreenlife.ca/fr/chocolat-chaud-red-velvet/                                                                                          \n",
       "4  http://www.motherthyme.com/2014/08/bread-pudding.html?utm_source=feedburner&utm_medium=email&utm_campaign=Feed:+motherthyme/BYjd+(Mother+Thyme)   \n",
       "\n",
       "                                                                                  recipe  \\\n",
       "0  https://www.duncanhines.com/recipes/brownies/jilltaylor86/red-velvet-fudge-brownies     \n",
       "1  http://www.thegreenlife.ca/fr/salade-cremeuse-au-kale-peches-grillees-croutons-epices   \n",
       "2  http://www.thegreenlife.ca/mexican-chocolate-avocado-mousse-workshop-recap              \n",
       "3  http://www.thegreenlife.ca/fr/chocolat-chaud-red-velvet                                 \n",
       "4  http://www.motherthyme.com/2014/08/bread-pudding.html                                   \n",
       "\n",
       "                 recipe_domain  \n",
       "0  https://www.duncanhines.com  \n",
       "1  http://www.thegreenlife.ca   \n",
       "2  http://www.thegreenlife.ca   \n",
       "3  http://www.thegreenlife.ca   \n",
       "4  http://www.motherthyme.com   "
      ]
     },
     "execution_count": 48,
     "metadata": {},
     "output_type": "execute_result"
    }
   ],
   "source": [
    "imported_recipes_sites_df.head()"
   ]
  },
  {
   "cell_type": "code",
   "execution_count": 49,
   "metadata": {
    "collapsed": false
   },
   "outputs": [
    {
     "data": {
      "text/html": [
       "<div>\n",
       "<style scoped>\n",
       "    .dataframe tbody tr th:only-of-type {\n",
       "        vertical-align: middle;\n",
       "    }\n",
       "\n",
       "    .dataframe tbody tr th {\n",
       "        vertical-align: top;\n",
       "    }\n",
       "\n",
       "    .dataframe thead th {\n",
       "        text-align: right;\n",
       "    }\n",
       "</style>\n",
       "<table border=\"1\" class=\"dataframe\">\n",
       "  <thead>\n",
       "    <tr style=\"text-align: right;\">\n",
       "      <th></th>\n",
       "      <th>url</th>\n",
       "      <th>recipe</th>\n",
       "      <th>recipe_domain</th>\n",
       "    </tr>\n",
       "  </thead>\n",
       "  <tbody>\n",
       "    <tr>\n",
       "      <th>995</th>\n",
       "      <td>http://www.recipe4living.com/recipes/pancake_house_copycat_blueberry_pancakes.htm</td>\n",
       "      <td>/pancake_house_copycat_blueberry_pancakes.htm</td>\n",
       "      <td>http://www.recipe4living.com</td>\n",
       "    </tr>\n",
       "    <tr>\n",
       "      <th>996</th>\n",
       "      <td>http://heatherchristo.com/2016/02/23/mexican-chicken-noodle-soup-gluten-free/</td>\n",
       "      <td>http://heatherchristo.com/2016/02/23/mexican-chicken-noodle-soup-gluten-free</td>\n",
       "      <td>http://heatherchristo.com</td>\n",
       "    </tr>\n",
       "    <tr>\n",
       "      <th>997</th>\n",
       "      <td>http://www.seriouseats.com/recipes/2011/11/from-the-blender-healthy-pumpkin-spice-smoothie.html</td>\n",
       "      <td>/from-the-blender-healthy-pumpkin-spice-smoothie.html</td>\n",
       "      <td>http://www.seriouseats.com</td>\n",
       "    </tr>\n",
       "    <tr>\n",
       "      <th>998</th>\n",
       "      <td>http://www.womansday.com/food-recipes/food-drinks/recipes/a37171/bacon-scallops-lemon-herb-dressing-recipe-rbk0911/</td>\n",
       "      <td>http://www.womansday.com/food-recipes/food-drinks/recipes/a37171/bacon-scallops-lemon-herb-dressing-recipe-rbk0911</td>\n",
       "      <td>http://www.womansday.com</td>\n",
       "    </tr>\n",
       "    <tr>\n",
       "      <th>999</th>\n",
       "      <td>http://www.budgetsavvydiva.com/2012/04/cheese-baked-pasta-recipe/</td>\n",
       "      <td>http://www.budgetsavvydiva.com/2012/04/cheese-baked-pasta-recipe</td>\n",
       "      <td>http://www.budgetsavvydiva.com</td>\n",
       "    </tr>\n",
       "  </tbody>\n",
       "</table>\n",
       "</div>"
      ],
      "text/plain": [
       "                                                                                                                     url  \\\n",
       "995  http://www.recipe4living.com/recipes/pancake_house_copycat_blueberry_pancakes.htm                                     \n",
       "996  http://heatherchristo.com/2016/02/23/mexican-chicken-noodle-soup-gluten-free/                                         \n",
       "997  http://www.seriouseats.com/recipes/2011/11/from-the-blender-healthy-pumpkin-spice-smoothie.html                       \n",
       "998  http://www.womansday.com/food-recipes/food-drinks/recipes/a37171/bacon-scallops-lemon-herb-dressing-recipe-rbk0911/   \n",
       "999  http://www.budgetsavvydiva.com/2012/04/cheese-baked-pasta-recipe/                                                     \n",
       "\n",
       "                                                                                                                 recipe  \\\n",
       "995  /pancake_house_copycat_blueberry_pancakes.htm                                                                        \n",
       "996  http://heatherchristo.com/2016/02/23/mexican-chicken-noodle-soup-gluten-free                                         \n",
       "997  /from-the-blender-healthy-pumpkin-spice-smoothie.html                                                                \n",
       "998  http://www.womansday.com/food-recipes/food-drinks/recipes/a37171/bacon-scallops-lemon-herb-dressing-recipe-rbk0911   \n",
       "999  http://www.budgetsavvydiva.com/2012/04/cheese-baked-pasta-recipe                                                     \n",
       "\n",
       "                      recipe_domain  \n",
       "995  http://www.recipe4living.com    \n",
       "996  http://heatherchristo.com       \n",
       "997  http://www.seriouseats.com      \n",
       "998  http://www.womansday.com        \n",
       "999  http://www.budgetsavvydiva.com  "
      ]
     },
     "execution_count": 49,
     "metadata": {},
     "output_type": "execute_result"
    }
   ],
   "source": [
    "imported_recipes_sites_df.tail()"
   ]
  },
  {
   "cell_type": "code",
   "execution_count": 50,
   "metadata": {
    "collapsed": false
   },
   "outputs": [
    {
     "data": {
      "text/plain": [
       "http://www.thegreenlife.ca                192\n",
       "http://www.myrecipes.com                  56 \n",
       "https://www.budgetbytes.com               35 \n",
       "https://www.tillamook.com                 34 \n",
       "http://www.taste.com.au                   27 \n",
       "https://www.duncanhines.com               18 \n",
       "http://www.foodnetwork.com                17 \n",
       "http://crockpotladies.com                 16 \n",
       "http://www.food.com                       14 \n",
       "http://www.lifemadedelicious.ca           14 \n",
       "http://myrecipemagic.com                  13 \n",
       "https://duncanhines.com                   11 \n",
       "http://allrecipes.com                     11 \n",
       "http://theinspiredhome.org                10 \n",
       "http://www.primalpalate.com               8  \n",
       "https://cooking.nytimes.com               8  \n",
       "http://damndelicious.net                  8  \n",
       "http://www.prevention.com                 8  \n",
       "http://thegirlonbloor.com                 7  \n",
       "http://www.tasteandtellblog.com           5  \n",
       "http://www.seriouseats.com                5  \n",
       "http://www.eatingwell.com                 5  \n",
       "https://www.healthfulpursuit.com          5  \n",
       "http://carlsbadcravings.com               5  \n",
       "http://www.epicurious.com                 5  \n",
       "http://sweetpeasandsaffron.com            4  \n",
       "http://skinnyms.com                       4  \n",
       "http://www.foodnetwork.co.uk              4  \n",
       "http://ohmyveggies.com                    4  \n",
       "http://thesuburbansoapbox.com             4  \n",
       "                                         ..  \n",
       "http://withfoodandlove.com                1  \n",
       "http://www.chefsavvy.com                  1  \n",
       "http://cookeatpaleo.com                   1  \n",
       "http://realfoodrealdeals.com              1  \n",
       "http://www.womansday.com                  1  \n",
       "http://www.thekitchn.com                  1  \n",
       "http://www.cookingwithbooks.net           1  \n",
       "http://www.tryanythingonceculinary.com    1  \n",
       "https://todayscreativelife.com            1  \n",
       "https://inspiringsavings.com              1  \n",
       "http://www.savoryexperiments.com          1  \n",
       "http://www.kimscravings.com               1  \n",
       "http://ciaoveggie.com                     1  \n",
       "https://bakersclub.duncanhines.com        1  \n",
       "http://www.wokandskillet.com              1  \n",
       "http://www.midwestliving.com              1  \n",
       "http://www.cheeriolala.com                1  \n",
       "http://thewanderlustkitchen.com           1  \n",
       "https://www.gogogogourmet.com             1  \n",
       "http://www.a-kitchen-addiction.com        1  \n",
       "http://www.tasteofthesouthmagazine.com    1  \n",
       "http://www.panningtheglobe.com            1  \n",
       "https://www.blenderbabes.com              1  \n",
       "http://www.simpleawesomecooking.com       1  \n",
       "http://willowbirdbaking.com               1  \n",
       "https://www.kenarry.com                   1  \n",
       "https://platedcravings.com                1  \n",
       "http://www.rhubarbarians.com              1  \n",
       "http://www.lemontreedwelling.com          1  \n",
       "http://cookingchatfood.com                1  \n",
       "Name: recipe_domain, Length: 358, dtype: int64"
      ]
     },
     "execution_count": 50,
     "metadata": {},
     "output_type": "execute_result"
    }
   ],
   "source": [
    "imported_recipes_sites_df['recipe_domain'].value_counts()"
   ]
  },
  {
   "cell_type": "markdown",
   "metadata": {},
   "source": [
    "### We create a dataframe to store all URL domains and their counts."
   ]
  },
  {
   "cell_type": "code",
   "execution_count": 51,
   "metadata": {
    "collapsed": true
   },
   "outputs": [],
   "source": [
    "domains_df = imported_recipes_sites_df['recipe_domain'].value_counts().to_frame()"
   ]
  },
  {
   "cell_type": "code",
   "execution_count": 52,
   "metadata": {
    "collapsed": false
   },
   "outputs": [
    {
     "data": {
      "text/html": [
       "<div>\n",
       "<style scoped>\n",
       "    .dataframe tbody tr th:only-of-type {\n",
       "        vertical-align: middle;\n",
       "    }\n",
       "\n",
       "    .dataframe tbody tr th {\n",
       "        vertical-align: top;\n",
       "    }\n",
       "\n",
       "    .dataframe thead th {\n",
       "        text-align: right;\n",
       "    }\n",
       "</style>\n",
       "<table border=\"1\" class=\"dataframe\">\n",
       "  <thead>\n",
       "    <tr style=\"text-align: right;\">\n",
       "      <th></th>\n",
       "      <th>recipe_domain</th>\n",
       "    </tr>\n",
       "  </thead>\n",
       "  <tbody>\n",
       "    <tr>\n",
       "      <th>http://www.thegreenlife.ca</th>\n",
       "      <td>192</td>\n",
       "    </tr>\n",
       "    <tr>\n",
       "      <th>http://www.myrecipes.com</th>\n",
       "      <td>56</td>\n",
       "    </tr>\n",
       "    <tr>\n",
       "      <th>https://www.budgetbytes.com</th>\n",
       "      <td>35</td>\n",
       "    </tr>\n",
       "    <tr>\n",
       "      <th>https://www.tillamook.com</th>\n",
       "      <td>34</td>\n",
       "    </tr>\n",
       "    <tr>\n",
       "      <th>http://www.taste.com.au</th>\n",
       "      <td>27</td>\n",
       "    </tr>\n",
       "  </tbody>\n",
       "</table>\n",
       "</div>"
      ],
      "text/plain": [
       "                             recipe_domain\n",
       "http://www.thegreenlife.ca   192          \n",
       "http://www.myrecipes.com     56           \n",
       "https://www.budgetbytes.com  35           \n",
       "https://www.tillamook.com    34           \n",
       "http://www.taste.com.au      27           "
      ]
     },
     "execution_count": 52,
     "metadata": {},
     "output_type": "execute_result"
    }
   ],
   "source": [
    "domains_df.head()"
   ]
  },
  {
   "cell_type": "code",
   "execution_count": 53,
   "metadata": {
    "collapsed": false
   },
   "outputs": [],
   "source": [
    "domains_df.reset_index(inplace=True)"
   ]
  },
  {
   "cell_type": "code",
   "execution_count": 54,
   "metadata": {
    "collapsed": false
   },
   "outputs": [],
   "source": [
    "domains_df.rename(columns = {'index':'domain', 'recipe_domain':'domain_count'}, inplace=True)"
   ]
  },
  {
   "cell_type": "code",
   "execution_count": 55,
   "metadata": {
    "collapsed": false
   },
   "outputs": [
    {
     "data": {
      "text/html": [
       "<div>\n",
       "<style scoped>\n",
       "    .dataframe tbody tr th:only-of-type {\n",
       "        vertical-align: middle;\n",
       "    }\n",
       "\n",
       "    .dataframe tbody tr th {\n",
       "        vertical-align: top;\n",
       "    }\n",
       "\n",
       "    .dataframe thead th {\n",
       "        text-align: right;\n",
       "    }\n",
       "</style>\n",
       "<table border=\"1\" class=\"dataframe\">\n",
       "  <thead>\n",
       "    <tr style=\"text-align: right;\">\n",
       "      <th></th>\n",
       "      <th>domain</th>\n",
       "      <th>domain_count</th>\n",
       "    </tr>\n",
       "  </thead>\n",
       "  <tbody>\n",
       "    <tr>\n",
       "      <th>0</th>\n",
       "      <td>http://www.thegreenlife.ca</td>\n",
       "      <td>192</td>\n",
       "    </tr>\n",
       "    <tr>\n",
       "      <th>1</th>\n",
       "      <td>http://www.myrecipes.com</td>\n",
       "      <td>56</td>\n",
       "    </tr>\n",
       "    <tr>\n",
       "      <th>2</th>\n",
       "      <td>https://www.budgetbytes.com</td>\n",
       "      <td>35</td>\n",
       "    </tr>\n",
       "    <tr>\n",
       "      <th>3</th>\n",
       "      <td>https://www.tillamook.com</td>\n",
       "      <td>34</td>\n",
       "    </tr>\n",
       "    <tr>\n",
       "      <th>4</th>\n",
       "      <td>http://www.taste.com.au</td>\n",
       "      <td>27</td>\n",
       "    </tr>\n",
       "  </tbody>\n",
       "</table>\n",
       "</div>"
      ],
      "text/plain": [
       "                        domain  domain_count\n",
       "0  http://www.thegreenlife.ca   192         \n",
       "1  http://www.myrecipes.com     56          \n",
       "2  https://www.budgetbytes.com  35          \n",
       "3  https://www.tillamook.com    34          \n",
       "4  http://www.taste.com.au      27          "
      ]
     },
     "execution_count": 55,
     "metadata": {},
     "output_type": "execute_result"
    }
   ],
   "source": [
    "domains_df.head()"
   ]
  },
  {
   "cell_type": "code",
   "execution_count": 56,
   "metadata": {
    "collapsed": false
   },
   "outputs": [
    {
     "data": {
      "image/png": "[encoded data removed]",
      "text/plain": [
       "<matplotlib.figure.Figure at 0x7f3a89219090>"
      ]
     },
     "metadata": {},
     "output_type": "display_data"
    }
   ],
   "source": [
    "url_recipes_plot = sns.barplot(x='domain_count', y='domain', data=domains_df[:25])\n",
    "plt.setp(url_recipes_plot.get_xticklabels(), rotation=45);"
   ]
  }
 ],
 "metadata": {
  "kernelspec": {
   "display_name": "Python 2",
   "language": "python",
   "name": "python2"
  },
  "language_info": {
   "codemirror_mode": {
    "name": "ipython",
    "version": 2
   },
   "file_extension": ".py",
   "mimetype": "text/x-python",
   "name": "python",
   "nbconvert_exporter": "python",
   "pygments_lexer": "ipython2",
   "version": "2.7.12"
  }
 },
 "nbformat": 4,
 "nbformat_minor": 2
}
