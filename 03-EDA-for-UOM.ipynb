{
 "cells": [
  {
   "cell_type": "markdown",
   "metadata": {},
   "source": [
    "# EDA for Units Conversions\n",
    "\n",
    "1. Generate the data\n",
    "2. Establish the most used unit of measure for each ingredient\n",
    "3. Estimate the probability of conversion for a given ingredient\n",
    "4. Demonstrate method for conversion\n"
   ]
  },
  {
   "cell_type": "markdown",
   "metadata": {},
   "source": [
    "## Setup Steps"
   ]
  },
  {
   "cell_type": "code",
   "execution_count": 2,
   "metadata": {
    "collapsed": false
   },
   "outputs": [
    {
     "name": "stdout",
     "output_type": "stream",
     "text": [
      "Collecting pint\n",
      "  Downloading Pint-0.7.2.tar.gz (149kB)\n",
      "Building wheels for collected packages: pint\n",
      "  Running setup.py bdist_wheel for pint: started\n",
      "  Running setup.py bdist_wheel for pint: finished with status 'done'\n",
      "  Stored in directory: /root/.cache/pip/wheels/c4/51/5e/1645f2de6cd09ff62e27db29123a4a81add45347b355e19ded\n",
      "Successfully built pint\n",
      "Installing collected packages: pint\n",
      "Successfully installed pint-0.7.2\n"
     ]
    }
   ],
   "source": [
    "%sh\n",
    "pip install pint"
   ]
  },
  {
   "cell_type": "code",
   "execution_count": 2,
   "metadata": {
    "collapsed": false
   },
   "outputs": [],
   "source": [
    "import datalab.bigquery as bq\n",
    "import pandas as pd\n",
    "import numpy as np\n",
    "import matplotlib.pyplot as plt \n",
    "import seaborn as sns\n",
    "import datalab.storage as storage\n",
    "from StringIO import StringIO\n",
    "from collections import Counter\n",
    "from pint import UnitRegistry"
   ]
  },
  {
   "cell_type": "markdown",
   "metadata": {},
   "source": [
    "## Generate Data"
   ]
  },
  {
   "cell_type": "markdown",
   "metadata": {},
   "source": [
    "Examine at the kadaif dataflow entities data"
   ]
  },
  {
   "cell_type": "code",
   "execution_count": 24,
   "metadata": {
    "collapsed": false
   },
   "outputs": [
    {
     "data": {
      "text/html": [
       "\n",
       "    <div class=\"bqsv\" id=\"3_148590489536\"></div>\n",
       "    <script>\n",
       "      require.config({\n",
       "        map: {\n",
       "          '*': {\n",
       "            datalab: 'nbextensions/gcpdatalab'\n",
       "          }\n",
       "        },\n",
       "      });\n",
       "\n",
       "      require(['datalab/bigquery', 'datalab/element!3_148590489536',\n",
       "          'datalab/style!/nbextensions/gcpdatalab/bigquery.css'],\n",
       "        function(bq, dom) {\n",
       "          bq.renderSchema(dom, [{\"type\": \"STRING\", \"name\": \"url\", \"mode\": \"NULLABLE\"}, {\"type\": \"STRING\", \"name\": \"title\", \"mode\": \"NULLABLE\"}, {\"type\": \"INTEGER\", \"name\": \"order\", \"mode\": \"NULLABLE\"}, {\"type\": \"STRING\", \"name\": \"line\", \"mode\": \"NULLABLE\"}, {\"type\": \"STRING\", \"name\": \"ingredient_entity\", \"mode\": \"NULLABLE\"}, {\"type\": \"FLOAT\", \"name\": \"ingredient_entity_score\", \"mode\": \"NULLABLE\"}, {\"type\": \"STRING\", \"name\": \"amount\", \"mode\": \"NULLABLE\"}, {\"type\": \"FLOAT\", \"name\": \"amount_score\", \"mode\": \"NULLABLE\"}, {\"type\": \"STRING\", \"name\": \"uom\", \"mode\": \"NULLABLE\"}, {\"type\": \"FLOAT\", \"name\": \"uom_score\", \"mode\": \"NULLABLE\"}, {\"type\": \"STRING\", \"name\": \"location\", \"mode\": \"NULLABLE\"}, {\"type\": \"FLOAT\", \"name\": \"location_score\", \"mode\": \"NULLABLE\"}]);\n",
       "        }\n",
       "      );\n",
       "    </script>\n",
       "    "
      ],
      "text/plain": [
       "<IPython.core.display.HTML object>"
      ]
     },
     "execution_count": 24,
     "metadata": {},
     "output_type": "execute_result"
    }
   ],
   "source": [
    "%bigquery schema --table wellio-kadaif:ingredients.ingredient_entities_2017_01_30_23_01_16_427693"
   ]
  },
  {
   "cell_type": "markdown",
   "metadata": {},
   "source": [
    "Examine only unit of measure and ingredients that scoring algorithms were mostly certain of (i.e. threshold larger than 90%)"
   ]
  },
  {
   "cell_type": "code",
   "execution_count": 6,
   "metadata": {
    "collapsed": false
   },
   "outputs": [],
   "source": [
    "%%sql --module uom_data\n",
    "SELECT url ,line, ingredient_entity, ingredient_entity_score, uom, uom_score, amount, amount_score\n",
    "FROM [wellio-kadaif:ingredients.ingredient_entities_2017_01_30_23_01_16_427693]\n",
    "WHERE uom_score > 0.9 and ingredient_entity_score > 0.9"
   ]
  },
  {
   "cell_type": "code",
   "execution_count": 7,
   "metadata": {
    "collapsed": false
   },
   "outputs": [
    {
     "data": {
      "text/html": [
       "\n",
       "    <div class=\"bqtv\" id=\"1_148607522392\"><table><tr><th>url</th><th>line</th><th>ingredient_entity</th><th>ingredient_entity_score</th><th>uom</th><th>uom_score</th><th>amount</th><th>amount_score</th></tr><tr><td>http://www.epicurious.com/recipes/member/views/napa-salad-50067358</td><td>! 2 Tbs. soy sauce</td><td>soy sauce</td><td>0.98400002718</td><td>tablespoons</td><td>0.999122083187</td><td>2.0</td><td>0.999984264374</td></tr><tr><td>http://www.epicurious.com/recipes/member/views/napa-salad-50067358</td><td>! 2 Tbs. soy sauce</td><td>soy sauce</td><td>0.98400002718</td><td>tablespoons</td><td>0.999122083187</td><td>2.0</td><td>0.999984264374</td></tr><tr><td>http://www.epicurious.com/recipes/member/views/creme-brulee-french-toast-53031761</td><td>! C brown sugar packed</td><td>brown sugar</td><td>0.959999978542</td><td>cups</td><td>0.998897433281</td><td>1.0</td><td>0.999939441681</td></tr><tr><td>http://www.epicurious.com/recipes/member/views/creme-brulee-french-toast-53031761</td><td>! C brown sugar packed</td><td>brown sugar</td><td>0.959999978542</td><td>cups</td><td>0.998897433281</td><td>1.0</td><td>0.999939441681</td></tr><tr><td>http://www.epicurious.com/recipes/member/views/sweet-squash-soup-50106597</td><td>! Cup Brown Sugar</td><td>brown sugar</td><td>1.0</td><td>cups</td><td>0.999465048313</td><td>1.0</td><td>0.999974012375</td></tr><tr><td>http://www.epicurious.com/recipes/member/views/sweet-squash-soup-50106597</td><td>! Cup Brown Sugar</td><td>brown sugar</td><td>1.0</td><td>cups</td><td>0.999465048313</td><td>1.0</td><td>0.999974012375</td></tr><tr><td>http://www.epicurious.com/recipes/member/views/hot-sweet-sour-fish-50050605</td><td>! Tbs. cornstarch</td><td>cornstarch</td><td>0.963999986649</td><td>tablespoons</td><td>0.998011052608</td><td>1.0</td><td>0.999927043915</td></tr><tr><td>http://www.epicurious.com/recipes/member/views/creme-brulee-french-toast-53031761</td><td>! Tsp. Vanilla</td><td>vanilla</td><td>1.0</td><td>teaspoons</td><td>0.993959069252</td><td>1.0</td><td>0.99992454052</td></tr><tr><td>http://www.epicurious.com/recipes/member/views/creme-brulee-french-toast-53031761</td><td>! Tsp. Vanilla</td><td>vanilla</td><td>1.0</td><td>teaspoons</td><td>0.993959069252</td><td>1.0</td><td>0.99992454052</td></tr><tr><td>http://www.epicurious.com/recipes/member/views/picante-50037132</td><td>! clove garlic smashed</td><td>garlic</td><td>1.0</td><td>cloves</td><td>0.991687238216</td><td>1.0</td><td>0.999795615673</td></tr><tr><td>http://www.epicurious.com/recipes/member/views/picante-50037132</td><td>! clove garlic smashed</td><td>garlic</td><td>1.0</td><td>cloves</td><td>0.991687238216</td><td>1.0</td><td>0.999795615673</td></tr><tr><td>http://www.epicurious.com/recipes/member/views/sugar-and-spice-drummies-50087441</td><td>! cup soy sauce</td><td>soy sauce</td><td>1.0</td><td>cups</td><td>0.998382925987</td><td>1.0</td><td>0.999957919121</td></tr><tr><td>http://www.epicurious.com/recipes/member/views/southern-hospitality-lemon-bars-50048456</td><td>! cup sugar (I use less)</td><td>sugar</td><td>0.980418801308</td><td>cups</td><td>0.999447286129</td><td>1.0</td><td>0.999843120575</td></tr><tr><td>http://www.epicurious.com/recipes/member/views/balsamic-braised-lamb-shanks-50025551</td><td>! medium red onion, chopped</td><td>red onion</td><td>1.0</td><td>units</td><td>0.99920976162</td><td>1.0</td><td>0.999944329262</td></tr><tr><td>http://www.epicurious.com/recipes/member/views/cranberry-salmon-patties-52962681</td><td>! tsp rosemary</td><td>rosemary</td><td>0.927999973297</td><td>teaspoons</td><td>0.994980275631</td><td>1.0</td><td>0.999937415123</td></tr><tr><td>http://www.epicurious.com/recipes/member/views/cranberry-salmon-patties-52962681</td><td>! tsp rosemary</td><td>rosemary</td><td>0.927999973297</td><td>teaspoons</td><td>0.994980275631</td><td>1.0</td><td>0.999937415123</td></tr><tr><td>http://www.epicurious.com/recipes/member/views/gannys-caramel-pie-1210936</td><td>!/2 cup shredded coconut</td><td>shredded coconut</td><td>0.967999994755</td><td>cups</td><td>0.999769389629</td><td>-1.0</td><td>0.999993562698</td></tr><tr><td>http://www.epicurious.com/recipes/member/views/texas-chocolate-sheetcake-vera-50030794</td><td>!/2 tsp salt</td><td>salt</td><td>1.0</td><td>teaspoons</td><td>0.998277783394</td><td>-1.0</td><td>0.999993443489</td></tr><tr><td>http://www.epicurious.com/recipes/member/views/spinach-salad-51182041</td><td>!/4 cup catsup</td><td>catsup</td><td>0.995999991894</td><td>cups</td><td>0.999883890152</td><td>-1.0</td><td>0.999992132187</td></tr><tr><td>http://www.epicurious.com/recipes/member/views/tropical-avocado-and-shrimp-52058231</td><td>\"½ ripe mango, peeled and cut into chunks</td><td>mango</td><td>0.911866664886</td><td>units</td><td>0.99680519104</td><td>1.0</td><td>0.999848723412</td></tr><tr><td>http://www.epicurious.com/recipes/member/views/red-green-potato-salad-1205950</td><td>$ large baking potatoes</td><td>baking potatoes</td><td>0.966095209122</td><td>units</td><td>0.989853680134</td><td>1.0</td><td>0.999481260777</td></tr><tr><td>http://www.epicurious.com/recipes/member/views/turkey-burgers-52953751</td><td>% tsp salt</td><td>salt</td><td>1.0</td><td>teaspoons</td><td>0.996243476868</td><td>1.0</td><td>0.999948143959</td></tr><tr><td>http://www.epicurious.com/recipes/member/views/sausage-muffins-52698781</td><td>&amp; 1 cup of shredded Cheddar cheese.</td><td>shredded cheddar cheese</td><td>0.926666676998</td><td>cups</td><td>0.998313307762</td><td>1.0</td><td>0.999984025955</td></tr><tr><td>http://www.epicurious.com/recipes/member/views/chandon-beni-50179544</td><td>&amp;frac18; cup chopped scallions</td><td>scallions</td><td>0.979333341122</td><td>cups</td><td>0.999838471413</td><td>18.0</td><td>0.999973773956</td></tr><tr><td>http://www.food.com/recipe/copycat-of-carrabas-italian-grill-meatballs-488879</td><td>' 1/4 cup grated parmesan cheese</td><td>parmesan cheese</td><td>1.0</td><td>cups</td><td>0.999621868134</td><td>0.25</td><td>0.999989032745</td></tr></table></div>\n",
       "    <br />(rows: 3491725, time: 64.7s,   944MB processed, job: job_07WoT3CTMyjwziaJxQzLBEJl1hM)<br />\n",
       "    <script>\n",
       "\n",
       "      require.config({\n",
       "        paths: {\n",
       "          d3: '//cdnjs.cloudflare.com/ajax/libs/d3/3.4.13/d3',\n",
       "          plotly: 'https://cdn.plot.ly/plotly-1.5.1.min.js?noext',\n",
       "          jquery: '//ajax.googleapis.com/ajax/libs/jquery/2.0.0/jquery.min'\n",
       "        },\n",
       "        map: {\n",
       "          '*': {\n",
       "            datalab: 'nbextensions/gcpdatalab'\n",
       "          }\n",
       "        },\n",
       "        shim: {\n",
       "          plotly: {\n",
       "            deps: ['d3', 'jquery'],\n",
       "            exports: 'plotly'\n",
       "          }\n",
       "        }\n",
       "      });\n",
       "\n",
       "      require(['datalab/charting', 'datalab/element!1_148607522392', 'base/js/events',\n",
       "          'datalab/style!/nbextensions/gcpdatalab/charting.css'],\n",
       "        function(charts, dom, events) {\n",
       "          charts.render('gcharts', dom, events, 'paged_table', [], {\"rows\": [{\"c\": [{\"v\": \"http://www.epicurious.com/recipes/member/views/napa-salad-50067358\"}, {\"v\": \"! 2 Tbs. soy sauce\"}, {\"v\": \"soy sauce\"}, {\"v\": 0.984000027179718}, {\"v\": \"tablespoons\"}, {\"v\": 0.9991220831871033}, {\"v\": \"2.0\"}, {\"v\": 0.9999842643737793}]}, {\"c\": [{\"v\": \"http://www.epicurious.com/recipes/member/views/napa-salad-50067358\"}, {\"v\": \"! 2 Tbs. soy sauce\"}, {\"v\": \"soy sauce\"}, {\"v\": 0.984000027179718}, {\"v\": \"tablespoons\"}, {\"v\": 0.9991220831871033}, {\"v\": \"2.0\"}, {\"v\": 0.9999842643737793}]}, {\"c\": [{\"v\": \"http://www.epicurious.com/recipes/member/views/creme-brulee-french-toast-53031761\"}, {\"v\": \"! C brown sugar packed\"}, {\"v\": \"brown sugar\"}, {\"v\": 0.9599999785423279}, {\"v\": \"cups\"}, {\"v\": 0.9988974332809448}, {\"v\": \"1.0\"}, {\"v\": 0.9999394416809082}]}, {\"c\": [{\"v\": \"http://www.epicurious.com/recipes/member/views/creme-brulee-french-toast-53031761\"}, {\"v\": \"! C brown sugar packed\"}, {\"v\": \"brown sugar\"}, {\"v\": 0.9599999785423279}, {\"v\": \"cups\"}, {\"v\": 0.9988974332809448}, {\"v\": \"1.0\"}, {\"v\": 0.9999394416809082}]}, {\"c\": [{\"v\": \"http://www.epicurious.com/recipes/member/views/sweet-squash-soup-50106597\"}, {\"v\": \"! Cup Brown Sugar\"}, {\"v\": \"brown sugar\"}, {\"v\": 1.0}, {\"v\": \"cups\"}, {\"v\": 0.9994650483131409}, {\"v\": \"1.0\"}, {\"v\": 0.9999740123748779}]}, {\"c\": [{\"v\": \"http://www.epicurious.com/recipes/member/views/sweet-squash-soup-50106597\"}, {\"v\": \"! Cup Brown Sugar\"}, {\"v\": \"brown sugar\"}, {\"v\": 1.0}, {\"v\": \"cups\"}, {\"v\": 0.9994650483131409}, {\"v\": \"1.0\"}, {\"v\": 0.9999740123748779}]}, {\"c\": [{\"v\": \"http://www.epicurious.com/recipes/member/views/hot-sweet-sour-fish-50050605\"}, {\"v\": \"! Tbs. cornstarch\"}, {\"v\": \"cornstarch\"}, {\"v\": 0.9639999866485596}, {\"v\": \"tablespoons\"}, {\"v\": 0.99801105260849}, {\"v\": \"1.0\"}, {\"v\": 0.9999270439147949}]}, {\"c\": [{\"v\": \"http://www.epicurious.com/recipes/member/views/creme-brulee-french-toast-53031761\"}, {\"v\": \"! Tsp. Vanilla\"}, {\"v\": \"vanilla\"}, {\"v\": 1.0}, {\"v\": \"teaspoons\"}, {\"v\": 0.9939590692520142}, {\"v\": \"1.0\"}, {\"v\": 0.9999245405197144}]}, {\"c\": [{\"v\": \"http://www.epicurious.com/recipes/member/views/creme-brulee-french-toast-53031761\"}, {\"v\": \"! Tsp. Vanilla\"}, {\"v\": \"vanilla\"}, {\"v\": 1.0}, {\"v\": \"teaspoons\"}, {\"v\": 0.9939590692520142}, {\"v\": \"1.0\"}, {\"v\": 0.9999245405197144}]}, {\"c\": [{\"v\": \"http://www.epicurious.com/recipes/member/views/picante-50037132\"}, {\"v\": \"! clove garlic smashed\"}, {\"v\": \"garlic\"}, {\"v\": 1.0}, {\"v\": \"cloves\"}, {\"v\": 0.9916872382164001}, {\"v\": \"1.0\"}, {\"v\": 0.9997956156730652}]}, {\"c\": [{\"v\": \"http://www.epicurious.com/recipes/member/views/picante-50037132\"}, {\"v\": \"! clove garlic smashed\"}, {\"v\": \"garlic\"}, {\"v\": 1.0}, {\"v\": \"cloves\"}, {\"v\": 0.9916872382164001}, {\"v\": \"1.0\"}, {\"v\": 0.9997956156730652}]}, {\"c\": [{\"v\": \"http://www.epicurious.com/recipes/member/views/sugar-and-spice-drummies-50087441\"}, {\"v\": \"! cup soy sauce\"}, {\"v\": \"soy sauce\"}, {\"v\": 1.0}, {\"v\": \"cups\"}, {\"v\": 0.9983829259872437}, {\"v\": \"1.0\"}, {\"v\": 0.9999579191207886}]}, {\"c\": [{\"v\": \"http://www.epicurious.com/recipes/member/views/southern-hospitality-lemon-bars-50048456\"}, {\"v\": \"! cup sugar (I use less)\"}, {\"v\": \"sugar\"}, {\"v\": 0.9804188013076782}, {\"v\": \"cups\"}, {\"v\": 0.9994472861289978}, {\"v\": \"1.0\"}, {\"v\": 0.9998431205749512}]}, {\"c\": [{\"v\": \"http://www.epicurious.com/recipes/member/views/balsamic-braised-lamb-shanks-50025551\"}, {\"v\": \"! medium red onion, chopped\"}, {\"v\": \"red onion\"}, {\"v\": 1.0}, {\"v\": \"units\"}, {\"v\": 0.9992097616195679}, {\"v\": \"1.0\"}, {\"v\": 0.9999443292617798}]}, {\"c\": [{\"v\": \"http://www.epicurious.com/recipes/member/views/cranberry-salmon-patties-52962681\"}, {\"v\": \"! tsp rosemary\"}, {\"v\": \"rosemary\"}, {\"v\": 0.9279999732971191}, {\"v\": \"teaspoons\"}, {\"v\": 0.9949802756309509}, {\"v\": \"1.0\"}, {\"v\": 0.9999374151229858}]}, {\"c\": [{\"v\": \"http://www.epicurious.com/recipes/member/views/cranberry-salmon-patties-52962681\"}, {\"v\": \"! tsp rosemary\"}, {\"v\": \"rosemary\"}, {\"v\": 0.9279999732971191}, {\"v\": \"teaspoons\"}, {\"v\": 0.9949802756309509}, {\"v\": \"1.0\"}, {\"v\": 0.9999374151229858}]}, {\"c\": [{\"v\": \"http://www.epicurious.com/recipes/member/views/gannys-caramel-pie-1210936\"}, {\"v\": \"!/2 cup shredded coconut\"}, {\"v\": \"shredded coconut\"}, {\"v\": 0.9679999947547913}, {\"v\": \"cups\"}, {\"v\": 0.999769389629364}, {\"v\": \"-1.0\"}, {\"v\": 0.9999935626983643}]}, {\"c\": [{\"v\": \"http://www.epicurious.com/recipes/member/views/texas-chocolate-sheetcake-vera-50030794\"}, {\"v\": \"!/2 tsp salt\"}, {\"v\": \"salt\"}, {\"v\": 1.0}, {\"v\": \"teaspoons\"}, {\"v\": 0.9982777833938599}, {\"v\": \"-1.0\"}, {\"v\": 0.9999934434890747}]}, {\"c\": [{\"v\": \"http://www.epicurious.com/recipes/member/views/spinach-salad-51182041\"}, {\"v\": \"!/4 cup catsup\"}, {\"v\": \"catsup\"}, {\"v\": 0.9959999918937683}, {\"v\": \"cups\"}, {\"v\": 0.9998838901519775}, {\"v\": \"-1.0\"}, {\"v\": 0.9999921321868896}]}, {\"c\": [{\"v\": \"http://www.epicurious.com/recipes/member/views/tropical-avocado-and-shrimp-52058231\"}, {\"v\": \"\\\"\\u00bd ripe mango, peeled and cut into chunks\"}, {\"v\": \"mango\"}, {\"v\": 0.9118666648864746}, {\"v\": \"units\"}, {\"v\": 0.9968051910400391}, {\"v\": \"1.0\"}, {\"v\": 0.9998487234115601}]}, {\"c\": [{\"v\": \"http://www.epicurious.com/recipes/member/views/red-green-potato-salad-1205950\"}, {\"v\": \"$ large baking potatoes\"}, {\"v\": \"baking potatoes\"}, {\"v\": 0.9660952091217041}, {\"v\": \"units\"}, {\"v\": 0.9898536801338196}, {\"v\": \"1.0\"}, {\"v\": 0.9994812607765198}]}, {\"c\": [{\"v\": \"http://www.epicurious.com/recipes/member/views/turkey-burgers-52953751\"}, {\"v\": \"% tsp salt\"}, {\"v\": \"salt\"}, {\"v\": 1.0}, {\"v\": \"teaspoons\"}, {\"v\": 0.9962434768676758}, {\"v\": \"1.0\"}, {\"v\": 0.9999481439590454}]}, {\"c\": [{\"v\": \"http://www.epicurious.com/recipes/member/views/sausage-muffins-52698781\"}, {\"v\": \"& 1 cup of shredded Cheddar cheese.\"}, {\"v\": \"shredded cheddar cheese\"}, {\"v\": 0.9266666769981384}, {\"v\": \"cups\"}, {\"v\": 0.998313307762146}, {\"v\": \"1.0\"}, {\"v\": 0.9999840259552002}]}, {\"c\": [{\"v\": \"http://www.epicurious.com/recipes/member/views/chandon-beni-50179544\"}, {\"v\": \"&frac18; cup chopped scallions\"}, {\"v\": \"scallions\"}, {\"v\": 0.9793333411216736}, {\"v\": \"cups\"}, {\"v\": 0.9998384714126587}, {\"v\": \"18.0\"}, {\"v\": 0.9999737739562988}]}, {\"c\": [{\"v\": \"http://www.food.com/recipe/copycat-of-carrabas-italian-grill-meatballs-488879\"}, {\"v\": \"' 1/4 cup grated parmesan cheese\"}, {\"v\": \"parmesan cheese\"}, {\"v\": 1.0}, {\"v\": \"cups\"}, {\"v\": 0.9996218681335449}, {\"v\": \"0.25\"}, {\"v\": 0.9999890327453613}]}], \"cols\": [{\"type\": \"string\", \"id\": \"url\", \"label\": \"url\"}, {\"type\": \"string\", \"id\": \"line\", \"label\": \"line\"}, {\"type\": \"string\", \"id\": \"ingredient_entity\", \"label\": \"ingredient_entity\"}, {\"type\": \"number\", \"id\": \"ingredient_entity_score\", \"label\": \"ingredient_entity_score\"}, {\"type\": \"string\", \"id\": \"uom\", \"label\": \"uom\"}, {\"type\": \"number\", \"id\": \"uom_score\", \"label\": \"uom_score\"}, {\"type\": \"string\", \"id\": \"amount\", \"label\": \"amount\"}, {\"type\": \"number\", \"id\": \"amount_score\", \"label\": \"amount_score\"}]},\n",
       "            {\n",
       "              pageSize: 25,\n",
       "              cssClassNames:  {\n",
       "                tableRow: 'gchart-table-row',\n",
       "                headerRow: 'gchart-table-headerrow',\n",
       "                oddTableRow: 'gchart-table-oddrow',\n",
       "                selectedTableRow: 'gchart-table-selectedrow',\n",
       "                hoverTableRow: 'gchart-table-hoverrow',\n",
       "                tableCell: 'gchart-table-cell',\n",
       "                headerCell: 'gchart-table-headercell',\n",
       "                rowNumberCell: 'gchart-table-rownumcell'\n",
       "              }\n",
       "            },\n",
       "            {source_index: 0, fields: 'url,line,ingredient_entity,ingredient_entity_score,uom,uom_score,amount,amount_score'},\n",
       "            0,\n",
       "            3491725);\n",
       "        }\n",
       "      );\n",
       "    </script>\n",
       "  "
      ],
      "text/plain": [
       "QueryResultsTable job_07WoT3CTMyjwziaJxQzLBEJl1hM"
      ]
     },
     "execution_count": 7,
     "metadata": {},
     "output_type": "execute_result"
    }
   ],
   "source": [
    "%%bigquery execute -q uom_data"
   ]
  },
  {
   "cell_type": "code",
   "execution_count": 8,
   "metadata": {
    "collapsed": false
   },
   "outputs": [
    {
     "data": {
      "text/plain": [
       "Job wellio-kadaif/job_frzH1CAdenB6sJthrnyUpon4Idw completed"
      ]
     },
     "execution_count": 8,
     "metadata": {},
     "output_type": "execute_result"
    }
   ],
   "source": [
    "# Create a query using the SQL module defined above and read it into GCS for quick write-read\n",
    "bq.Query(uom_data).extract(\"gs://kadaif.getwellio.com/tmp/uom_data_annotations.csv\")"
   ]
  },
  {
   "cell_type": "code",
   "execution_count": 3,
   "metadata": {
    "collapsed": false
   },
   "outputs": [
    {
     "name": "stdout",
     "output_type": "stream",
     "text": [
      "['url', 'line', 'ingredient_entity', 'ingredient_entity_score', 'uom', 'uom_score', 'amount', 'amount_score']\n",
      "(3491725, 8)\n"
     ]
    }
   ],
   "source": [
    "# read back into memory \n",
    "uom_csv = storage.Item('kadaif.getwellio.com', 'tmp/uom_data_annotations.csv').read_from()\n",
    "uom_df = pd.read_csv(StringIO(uom_csv))\n",
    "print list(uom_df)\n",
    "print uom_df.shape"
   ]
  },
  {
   "cell_type": "markdown",
   "metadata": {},
   "source": [
    "## Examine unit of measures"
   ]
  },
  {
   "cell_type": "code",
   "execution_count": 7,
   "metadata": {
    "collapsed": false
   },
   "outputs": [
    {
     "name": "stderr",
     "output_type": "stream",
     "text": [
      "Copying gs://kadaif.getwellio.com/tmp/unit_def.txt...\n",
      "/ [0 files][    0.0 B/  145.0 B]                                                \r",
      "/ [1 files][  145.0 B/  145.0 B]                                                \r\n",
      "Operation completed over 1 objects/145.0 B.                                      \n"
     ]
    }
   ],
   "source": [
    "%sh\n",
    "gsutil cp gs://kadaif.getwellio.com/tmp/unit_def.txt unit_def.txt"
   ]
  },
  {
   "cell_type": "code",
   "execution_count": 4,
   "metadata": {
    "collapsed": false
   },
   "outputs": [
    {
     "name": "stdout",
     "output_type": "stream",
     "text": [
      "['tablespoons' 'cups' 'teaspoons' 'cloves' 'units' 'cans' 'ounces' 'jars'\n",
      " 'pints' 'sticks' 'sprigs' 'inches' 'pounds' 'gallons' 'bunches' 'heads'\n",
      " 'stalks' 'slices' 'pinches' 'milliliters' 'leaves' 'glasses' 'grams'\n",
      " 'liters' 'kilograms' 'dashes' 'sheets' 'ribs' 'packages' 'quarts'\n",
      " 'fluid ounces' 'drops' 'cubes' 'scoops' 'boxes' 'handfuls' 'bags'\n",
      " 'bottles' 'loaves' 'packets' 'strips' 'fillets']\n",
      "42\n"
     ]
    }
   ],
   "source": [
    "# look at all units of measures alternatives\n",
    "uom_list = uom_df['uom'].unique()\n",
    "uom_list\n",
    "print uom_list\n",
    "print len(uom_list)"
   ]
  },
  {
   "cell_type": "code",
   "execution_count": 5,
   "metadata": {
    "collapsed": false
   },
   "outputs": [],
   "source": [
    "# We will define standard unit of measures and conversion using the Pint library \n",
    "# however in that library there seems to be a few units that are not used in the common manner \n",
    "# (e.g. pinches is a measure of length in the library) and so we overwrite it\n",
    "ureg = UnitRegistry()\n",
    "ureg.load_definitions('unit_def.txt') \n"
   ]
  },
  {
   "cell_type": "code",
   "execution_count": 20,
   "metadata": {
    "collapsed": false
   },
   "outputs": [
    {
     "name": "stdout",
     "output_type": "stream",
     "text": [
      "frozenset([<Unit('stere')>, <Unit('liter')>])\n",
      "frozenset([<Unit('atomic_mass_unit')>, <Unit('metric_ton')>, <Unit('bag')>, <Unit('electron_mass')>, <Unit('gram')>])\n"
     ]
    }
   ],
   "source": [
    "print ureg.get_compatible_units('cups')\n",
    "print ureg.get_compatible_units('ounces')"
   ]
  },
  {
   "cell_type": "code",
   "execution_count": 6,
   "metadata": {
    "collapsed": false
   },
   "outputs": [
    {
     "name": "stdout",
     "output_type": "stream",
     "text": [
      "['units', 'cans', 'jars', 'sticks', 'sprigs', 'bunches', 'heads', 'stalks', 'slices', 'leaves', 'glasses', 'sheets', 'ribs', 'packages', 'fluid ounces', 'cubes', 'scoops', 'boxes', 'handfuls', 'bottles', 'loaves', 'packets', 'strips', 'fillets']\n",
      "0.571428571429\n"
     ]
    }
   ],
   "source": [
    "# Examine which units can we not convert from the list we have\n",
    "non_standard_uom_list = []\n",
    "\n",
    "for uom in uom_list:\n",
    "  try:\n",
    "    ureg.parse_expression(uom)\n",
    "  except:\n",
    "    non_standard_uom_list.append(uom)\n",
    "\n",
    "print non_standard_uom_list\n",
    "print float(len(non_standard_uom_list))/len(uom_list)"
   ]
  },
  {
   "cell_type": "markdown",
   "metadata": {},
   "source": [
    "## Examine conversion frequencies for ingredients"
   ]
  },
  {
   "cell_type": "code",
   "execution_count": 7,
   "metadata": {
    "collapsed": false
   },
   "outputs": [],
   "source": [
    "# estimate the frequency of an ingredient appearing in a recipe \n",
    "# (if an ingredient appears twice in a recipe it will only be counted once here)\n",
    "ingredient_frequency = uom_df.groupby(['ingredient_entity']).url.nunique()\n",
    "total_num_recipe = uom_df.url.nunique()\n",
    "res = ingredient_frequency.divide(total_num_recipe)\n",
    "ingredient_frequency_dict = dict(zip(res.index, res.values))"
   ]
  },
  {
   "cell_type": "code",
   "execution_count": 8,
   "metadata": {
    "collapsed": false
   },
   "outputs": [],
   "source": [
    "# look at the frequencies of the different units \n",
    "ingredient_uom_cross_tab = pd.crosstab(uom_df.ingredient_entity, uom_df.uom, normalize='index')\n",
    "ingredient_uom_cross_tab.head(20)\n",
    "\n",
    "# find the mode UOM for each ingredient , the Mode UOM will be used as the standard \n",
    "# unit of measure\n",
    "# for a given ingredient\n",
    "most_common_UOM = ingredient_uom_cross_tab.idxmax(axis=1)\n",
    "most_common_UOM = most_common_UOM.to_dict()"
   ]
  },
  {
   "cell_type": "code",
   "execution_count": 9,
   "metadata": {
    "collapsed": false
   },
   "outputs": [],
   "source": [
    "# define a function that allows to check if two units are comparable\n",
    "def uom_compatible(target_unit, standard_unit):  \n",
    "  try:\n",
    "    target_unit_comparable = ureg.get_compatible_units(target_unit)\n",
    "    unit_comparable = ureg.get_compatible_units(standard_unit)\n",
    "\n",
    "    if unit_comparable == target_unit_comparable:\n",
    "      return True\n",
    "    else:\n",
    "      return False\n",
    "  except:\n",
    "    return False"
   ]
  },
  {
   "cell_type": "code",
   "execution_count": null,
   "metadata": {
    "collapsed": false
   },
   "outputs": [],
   "source": [
    "# for a given ingredient, estimate the probability that a recipe is \"convertible\" \n",
    "ingredient_conversion_dict = {}\n",
    "\n",
    "for index, row in uom_df.iterrows():\n",
    "    ingredient = row['ingredient_entity']\n",
    "    uom = row['uom']\n",
    "    url = row['url']\n",
    "    standard_mode_uom = most_common_UOM[ingredient]\n",
    "    if uom != standard_mode_uom:\n",
    "      comparable = uom_compatible(uom,standard_mode_uom)\n",
    "      if not comparable:\n",
    "        if ingredient in ingredient_conversion_dict:\n",
    "          ingredient_conversion_dict[ingredient].add(url) \n",
    "        else:\n",
    "          ingredient_conversion_dict[ingredient] = {url}\n",
    "\n",
    "print len(ingredient_conversion_dict['sugar'])\n",
    "print most_common_UOM['sugar']\n",
    "    \n"
   ]
  },
  {
   "cell_type": "code",
   "execution_count": 44,
   "metadata": {
    "collapsed": false
   },
   "outputs": [
    {
     "data": {
      "text/plain": [
       "[1780, 93579, 0.18436705157328362, 0.019021361630280297, 0.0035069123606839663]"
      ]
     },
     "execution_count": 44,
     "metadata": {},
     "output_type": "execute_result"
    }
   ],
   "source": [
    "# estimtate the frequency of an ingredient across recipe and the freq it would need to be converted\n",
    "ingredient_conversion_freq = {}\n",
    "\n",
    "for ingredient, list_url in ingredient_conversion_dict.iteritems():\n",
    "  num_recipes = ingredient_frequency[ingredient]\n",
    "  num_convertable_recipe =  len(list_url)\n",
    "  ingredient_conversion_freq[ingredient] = [num_convertable_recipe,num_recipes,num_recipes/float(total_num_recipe),\n",
    "                                          num_convertable_recipe/float(num_recipes),num_convertable_recipe/float(total_num_recipe) ]\n",
    "\n",
    "  \n",
    "ingredient_conversion_freq['sugar']\n"
   ]
  },
  {
   "cell_type": "code",
   "execution_count": 48,
   "metadata": {
    "collapsed": false
   },
   "outputs": [
    {
     "data": {
      "text/html": [
       "<div>\n",
       "<table border=\"1\" class=\"dataframe\">\n",
       "  <thead>\n",
       "    <tr style=\"text-align: right;\">\n",
       "      <th></th>\n",
       "      <th>non_convertable_recipes</th>\n",
       "      <th>total_num_recipes</th>\n",
       "      <th>ingredient_freq</th>\n",
       "      <th>cond_non_conversion_freq</th>\n",
       "      <th>non_conversion_freq</th>\n",
       "    </tr>\n",
       "  </thead>\n",
       "  <tbody>\n",
       "    <tr>\n",
       "      <th>onion</th>\n",
       "      <td>62047.0</td>\n",
       "      <td>62047.0</td>\n",
       "      <td>0.122243</td>\n",
       "      <td>1.000000</td>\n",
       "      <td>0.122243</td>\n",
       "    </tr>\n",
       "    <tr>\n",
       "      <th>eggs</th>\n",
       "      <td>22141.0</td>\n",
       "      <td>22141.0</td>\n",
       "      <td>0.043622</td>\n",
       "      <td>1.000000</td>\n",
       "      <td>0.043622</td>\n",
       "    </tr>\n",
       "    <tr>\n",
       "      <th>tomatoes</th>\n",
       "      <td>18817.0</td>\n",
       "      <td>18817.0</td>\n",
       "      <td>0.037073</td>\n",
       "      <td>1.000000</td>\n",
       "      <td>0.037073</td>\n",
       "    </tr>\n",
       "    <tr>\n",
       "      <th>onions</th>\n",
       "      <td>15005.0</td>\n",
       "      <td>15005.0</td>\n",
       "      <td>0.029562</td>\n",
       "      <td>1.000000</td>\n",
       "      <td>0.029562</td>\n",
       "    </tr>\n",
       "    <tr>\n",
       "      <th>carrots</th>\n",
       "      <td>14058.0</td>\n",
       "      <td>14058.0</td>\n",
       "      <td>0.027697</td>\n",
       "      <td>1.000000</td>\n",
       "      <td>0.027697</td>\n",
       "    </tr>\n",
       "    <tr>\n",
       "      <th>garlic</th>\n",
       "      <td>13083.0</td>\n",
       "      <td>37956.0</td>\n",
       "      <td>0.074780</td>\n",
       "      <td>0.344689</td>\n",
       "      <td>0.025776</td>\n",
       "    </tr>\n",
       "    <tr>\n",
       "      <th>chicken breasts</th>\n",
       "      <td>11506.0</td>\n",
       "      <td>11506.0</td>\n",
       "      <td>0.022669</td>\n",
       "      <td>1.000000</td>\n",
       "      <td>0.022669</td>\n",
       "    </tr>\n",
       "    <tr>\n",
       "      <th>bacon</th>\n",
       "      <td>10419.0</td>\n",
       "      <td>10419.0</td>\n",
       "      <td>0.020527</td>\n",
       "      <td>1.000000</td>\n",
       "      <td>0.020527</td>\n",
       "    </tr>\n",
       "    <tr>\n",
       "      <th>red onion</th>\n",
       "      <td>9902.0</td>\n",
       "      <td>9902.0</td>\n",
       "      <td>0.019509</td>\n",
       "      <td>1.000000</td>\n",
       "      <td>0.019509</td>\n",
       "    </tr>\n",
       "    <tr>\n",
       "      <th>butter</th>\n",
       "      <td>9545.0</td>\n",
       "      <td>109892.0</td>\n",
       "      <td>0.216507</td>\n",
       "      <td>0.086858</td>\n",
       "      <td>0.018805</td>\n",
       "    </tr>\n",
       "    <tr>\n",
       "      <th>red bell pepper</th>\n",
       "      <td>9501.0</td>\n",
       "      <td>9501.0</td>\n",
       "      <td>0.018719</td>\n",
       "      <td>1.000000</td>\n",
       "      <td>0.018719</td>\n",
       "    </tr>\n",
       "    <tr>\n",
       "      <th>salt and pepper</th>\n",
       "      <td>8945.0</td>\n",
       "      <td>8945.0</td>\n",
       "      <td>0.017623</td>\n",
       "      <td>1.000000</td>\n",
       "      <td>0.017623</td>\n",
       "    </tr>\n",
       "    <tr>\n",
       "      <th>celery</th>\n",
       "      <td>8629.0</td>\n",
       "      <td>19473.0</td>\n",
       "      <td>0.038365</td>\n",
       "      <td>0.443126</td>\n",
       "      <td>0.017001</td>\n",
       "    </tr>\n",
       "    <tr>\n",
       "      <th>potatoes</th>\n",
       "      <td>7773.0</td>\n",
       "      <td>7773.0</td>\n",
       "      <td>0.015314</td>\n",
       "      <td>1.000000</td>\n",
       "      <td>0.015314</td>\n",
       "    </tr>\n",
       "    <tr>\n",
       "      <th>chicken breast</th>\n",
       "      <td>7459.0</td>\n",
       "      <td>7459.0</td>\n",
       "      <td>0.014696</td>\n",
       "      <td>1.000000</td>\n",
       "      <td>0.014696</td>\n",
       "    </tr>\n",
       "    <tr>\n",
       "      <th>green bell pepper</th>\n",
       "      <td>7279.0</td>\n",
       "      <td>7279.0</td>\n",
       "      <td>0.014341</td>\n",
       "      <td>1.000000</td>\n",
       "      <td>0.014341</td>\n",
       "    </tr>\n",
       "    <tr>\n",
       "      <th>green pepper</th>\n",
       "      <td>7254.0</td>\n",
       "      <td>7254.0</td>\n",
       "      <td>0.014292</td>\n",
       "      <td>1.000000</td>\n",
       "      <td>0.014292</td>\n",
       "    </tr>\n",
       "    <tr>\n",
       "      <th>garlic cloves</th>\n",
       "      <td>6534.0</td>\n",
       "      <td>6534.0</td>\n",
       "      <td>0.012873</td>\n",
       "      <td>1.000000</td>\n",
       "      <td>0.012873</td>\n",
       "    </tr>\n",
       "    <tr>\n",
       "      <th>zucchini</th>\n",
       "      <td>5965.0</td>\n",
       "      <td>5965.0</td>\n",
       "      <td>0.011752</td>\n",
       "      <td>1.000000</td>\n",
       "      <td>0.011752</td>\n",
       "    </tr>\n",
       "    <tr>\n",
       "      <th>shallot</th>\n",
       "      <td>4707.0</td>\n",
       "      <td>4707.0</td>\n",
       "      <td>0.009274</td>\n",
       "      <td>1.000000</td>\n",
       "      <td>0.009274</td>\n",
       "    </tr>\n",
       "    <tr>\n",
       "      <th>carrot</th>\n",
       "      <td>4487.0</td>\n",
       "      <td>10455.0</td>\n",
       "      <td>0.020598</td>\n",
       "      <td>0.429173</td>\n",
       "      <td>0.008840</td>\n",
       "    </tr>\n",
       "    <tr>\n",
       "      <th>yellow onion</th>\n",
       "      <td>3945.0</td>\n",
       "      <td>3945.0</td>\n",
       "      <td>0.007772</td>\n",
       "      <td>1.000000</td>\n",
       "      <td>0.007772</td>\n",
       "    </tr>\n",
       "    <tr>\n",
       "      <th>cucumber</th>\n",
       "      <td>3939.0</td>\n",
       "      <td>3939.0</td>\n",
       "      <td>0.007761</td>\n",
       "      <td>1.000000</td>\n",
       "      <td>0.007761</td>\n",
       "    </tr>\n",
       "    <tr>\n",
       "      <th>garlic clove</th>\n",
       "      <td>3907.0</td>\n",
       "      <td>3907.0</td>\n",
       "      <td>0.007697</td>\n",
       "      <td>1.000000</td>\n",
       "      <td>0.007697</td>\n",
       "    </tr>\n",
       "    <tr>\n",
       "      <th>shallots</th>\n",
       "      <td>3833.0</td>\n",
       "      <td>3833.0</td>\n",
       "      <td>0.007552</td>\n",
       "      <td>1.000000</td>\n",
       "      <td>0.007552</td>\n",
       "    </tr>\n",
       "    <tr>\n",
       "      <th>apples</th>\n",
       "      <td>3659.0</td>\n",
       "      <td>3659.0</td>\n",
       "      <td>0.007209</td>\n",
       "      <td>1.000000</td>\n",
       "      <td>0.007209</td>\n",
       "    </tr>\n",
       "    <tr>\n",
       "      <th>tomato paste</th>\n",
       "      <td>3500.0</td>\n",
       "      <td>9225.0</td>\n",
       "      <td>0.018175</td>\n",
       "      <td>0.379404</td>\n",
       "      <td>0.006896</td>\n",
       "    </tr>\n",
       "    <tr>\n",
       "      <th>mushrooms</th>\n",
       "      <td>3120.0</td>\n",
       "      <td>6228.0</td>\n",
       "      <td>0.012270</td>\n",
       "      <td>0.500963</td>\n",
       "      <td>0.006147</td>\n",
       "    </tr>\n",
       "    <tr>\n",
       "      <th>red pepper</th>\n",
       "      <td>3059.0</td>\n",
       "      <td>3059.0</td>\n",
       "      <td>0.006027</td>\n",
       "      <td>1.000000</td>\n",
       "      <td>0.006027</td>\n",
       "    </tr>\n",
       "    <tr>\n",
       "      <th>egg</th>\n",
       "      <td>3016.0</td>\n",
       "      <td>3016.0</td>\n",
       "      <td>0.005942</td>\n",
       "      <td>1.000000</td>\n",
       "      <td>0.005942</td>\n",
       "    </tr>\n",
       "    <tr>\n",
       "      <th>...</th>\n",
       "      <td>...</td>\n",
       "      <td>...</td>\n",
       "      <td>...</td>\n",
       "      <td>...</td>\n",
       "      <td>...</td>\n",
       "    </tr>\n",
       "    <tr>\n",
       "      <th>oats rolled</th>\n",
       "      <td>1.0</td>\n",
       "      <td>6.0</td>\n",
       "      <td>0.000012</td>\n",
       "      <td>0.166667</td>\n",
       "      <td>0.000002</td>\n",
       "    </tr>\n",
       "    <tr>\n",
       "      <th>oats</th>\n",
       "      <td>1.0</td>\n",
       "      <td>1678.0</td>\n",
       "      <td>0.003306</td>\n",
       "      <td>0.000596</td>\n",
       "      <td>0.000002</td>\n",
       "    </tr>\n",
       "    <tr>\n",
       "      <th>oat bran</th>\n",
       "      <td>1.0</td>\n",
       "      <td>463.0</td>\n",
       "      <td>0.000912</td>\n",
       "      <td>0.002160</td>\n",
       "      <td>0.000002</td>\n",
       "    </tr>\n",
       "    <tr>\n",
       "      <th>nuts pine</th>\n",
       "      <td>1.0</td>\n",
       "      <td>2.0</td>\n",
       "      <td>0.000004</td>\n",
       "      <td>0.500000</td>\n",
       "      <td>0.000002</td>\n",
       "    </tr>\n",
       "    <tr>\n",
       "      <th>chiles</th>\n",
       "      <td>1.0</td>\n",
       "      <td>1.0</td>\n",
       "      <td>0.000002</td>\n",
       "      <td>1.000000</td>\n",
       "      <td>0.000002</td>\n",
       "    </tr>\n",
       "    <tr>\n",
       "      <th>tortillas flour</th>\n",
       "      <td>1.0</td>\n",
       "      <td>1.0</td>\n",
       "      <td>0.000002</td>\n",
       "      <td>1.000000</td>\n",
       "      <td>0.000002</td>\n",
       "    </tr>\n",
       "    <tr>\n",
       "      <th>tortillas white corn</th>\n",
       "      <td>1.0</td>\n",
       "      <td>1.0</td>\n",
       "      <td>0.000002</td>\n",
       "      <td>1.000000</td>\n",
       "      <td>0.000002</td>\n",
       "    </tr>\n",
       "    <tr>\n",
       "      <th>cooked chicken</th>\n",
       "      <td>1.0</td>\n",
       "      <td>865.0</td>\n",
       "      <td>0.001704</td>\n",
       "      <td>0.001156</td>\n",
       "      <td>0.000002</td>\n",
       "    </tr>\n",
       "    <tr>\n",
       "      <th>onion paste</th>\n",
       "      <td>1.0</td>\n",
       "      <td>2.0</td>\n",
       "      <td>0.000004</td>\n",
       "      <td>0.500000</td>\n",
       "      <td>0.000002</td>\n",
       "    </tr>\n",
       "    <tr>\n",
       "      <th>thyme 3 sprigs</th>\n",
       "      <td>1.0</td>\n",
       "      <td>1.0</td>\n",
       "      <td>0.000002</td>\n",
       "      <td>1.000000</td>\n",
       "      <td>0.000002</td>\n",
       "    </tr>\n",
       "    <tr>\n",
       "      <th>onions red</th>\n",
       "      <td>1.0</td>\n",
       "      <td>1.0</td>\n",
       "      <td>0.000002</td>\n",
       "      <td>1.000000</td>\n",
       "      <td>0.000002</td>\n",
       "    </tr>\n",
       "    <tr>\n",
       "      <th>onions yellow</th>\n",
       "      <td>1.0</td>\n",
       "      <td>3.0</td>\n",
       "      <td>0.000006</td>\n",
       "      <td>0.333333</td>\n",
       "      <td>0.000002</td>\n",
       "    </tr>\n",
       "    <tr>\n",
       "      <th>peppers green</th>\n",
       "      <td>1.0</td>\n",
       "      <td>2.0</td>\n",
       "      <td>0.000004</td>\n",
       "      <td>0.500000</td>\n",
       "      <td>0.000002</td>\n",
       "    </tr>\n",
       "    <tr>\n",
       "      <th>peppers bell</th>\n",
       "      <td>1.0</td>\n",
       "      <td>1.0</td>\n",
       "      <td>0.000002</td>\n",
       "      <td>1.000000</td>\n",
       "      <td>0.000002</td>\n",
       "    </tr>\n",
       "    <tr>\n",
       "      <th>sugar confectioners</th>\n",
       "      <td>1.0</td>\n",
       "      <td>4.0</td>\n",
       "      <td>0.000008</td>\n",
       "      <td>0.250000</td>\n",
       "      <td>0.000002</td>\n",
       "    </tr>\n",
       "    <tr>\n",
       "      <th>chilies red</th>\n",
       "      <td>1.0</td>\n",
       "      <td>1.0</td>\n",
       "      <td>0.000002</td>\n",
       "      <td>1.000000</td>\n",
       "      <td>0.000002</td>\n",
       "    </tr>\n",
       "    <tr>\n",
       "      <th>pepper red bell</th>\n",
       "      <td>1.0</td>\n",
       "      <td>1.0</td>\n",
       "      <td>0.000002</td>\n",
       "      <td>1.000000</td>\n",
       "      <td>0.000002</td>\n",
       "    </tr>\n",
       "    <tr>\n",
       "      <th>pepper red</th>\n",
       "      <td>1.0</td>\n",
       "      <td>2.0</td>\n",
       "      <td>0.000004</td>\n",
       "      <td>0.500000</td>\n",
       "      <td>0.000002</td>\n",
       "    </tr>\n",
       "    <tr>\n",
       "      <th>peanut powder</th>\n",
       "      <td>1.0</td>\n",
       "      <td>3.0</td>\n",
       "      <td>0.000006</td>\n",
       "      <td>0.333333</td>\n",
       "      <td>0.000002</td>\n",
       "    </tr>\n",
       "    <tr>\n",
       "      <th>bran flakes</th>\n",
       "      <td>1.0</td>\n",
       "      <td>103.0</td>\n",
       "      <td>0.000203</td>\n",
       "      <td>0.009709</td>\n",
       "      <td>0.000002</td>\n",
       "    </tr>\n",
       "    <tr>\n",
       "      <th>sweet paprika</th>\n",
       "      <td>1.0</td>\n",
       "      <td>938.0</td>\n",
       "      <td>0.001848</td>\n",
       "      <td>0.001066</td>\n",
       "      <td>0.000002</td>\n",
       "    </tr>\n",
       "    <tr>\n",
       "      <th>apricots dried</th>\n",
       "      <td>1.0</td>\n",
       "      <td>4.0</td>\n",
       "      <td>0.000008</td>\n",
       "      <td>0.250000</td>\n",
       "      <td>0.000002</td>\n",
       "    </tr>\n",
       "    <tr>\n",
       "      <th>fat free mayonnaise</th>\n",
       "      <td>1.0</td>\n",
       "      <td>290.0</td>\n",
       "      <td>0.000571</td>\n",
       "      <td>0.003448</td>\n",
       "      <td>0.000002</td>\n",
       "    </tr>\n",
       "    <tr>\n",
       "      <th>parsley flakes</th>\n",
       "      <td>1.0</td>\n",
       "      <td>49.0</td>\n",
       "      <td>0.000097</td>\n",
       "      <td>0.020408</td>\n",
       "      <td>0.000002</td>\n",
       "    </tr>\n",
       "    <tr>\n",
       "      <th>fennel seed</th>\n",
       "      <td>1.0</td>\n",
       "      <td>1015.0</td>\n",
       "      <td>0.002000</td>\n",
       "      <td>0.000985</td>\n",
       "      <td>0.000002</td>\n",
       "    </tr>\n",
       "    <tr>\n",
       "      <th>chili garlic sauce</th>\n",
       "      <td>1.0</td>\n",
       "      <td>303.0</td>\n",
       "      <td>0.000597</td>\n",
       "      <td>0.003300</td>\n",
       "      <td>0.000002</td>\n",
       "    </tr>\n",
       "    <tr>\n",
       "      <th>oregano fresh</th>\n",
       "      <td>1.0</td>\n",
       "      <td>31.0</td>\n",
       "      <td>0.000061</td>\n",
       "      <td>0.032258</td>\n",
       "      <td>0.000002</td>\n",
       "    </tr>\n",
       "    <tr>\n",
       "      <th>flank steak</th>\n",
       "      <td>1.0</td>\n",
       "      <td>372.0</td>\n",
       "      <td>0.000733</td>\n",
       "      <td>0.002688</td>\n",
       "      <td>0.000002</td>\n",
       "    </tr>\n",
       "    <tr>\n",
       "      <th>orange 1t zest</th>\n",
       "      <td>1.0</td>\n",
       "      <td>1.0</td>\n",
       "      <td>0.000002</td>\n",
       "      <td>1.000000</td>\n",
       "      <td>0.000002</td>\n",
       "    </tr>\n",
       "    <tr>\n",
       "      <th>powdered thyme</th>\n",
       "      <td>1.0</td>\n",
       "      <td>16.0</td>\n",
       "      <td>0.000032</td>\n",
       "      <td>0.062500</td>\n",
       "      <td>0.000002</td>\n",
       "    </tr>\n",
       "  </tbody>\n",
       "</table>\n",
       "<p>962 rows × 5 columns</p>\n",
       "</div>"
      ],
      "text/plain": [
       "                      non_convertable_recipes  total_num_recipes  \\\n",
       "onion                                 62047.0            62047.0   \n",
       "eggs                                  22141.0            22141.0   \n",
       "tomatoes                              18817.0            18817.0   \n",
       "onions                                15005.0            15005.0   \n",
       "carrots                               14058.0            14058.0   \n",
       "garlic                                13083.0            37956.0   \n",
       "chicken breasts                       11506.0            11506.0   \n",
       "bacon                                 10419.0            10419.0   \n",
       "red onion                              9902.0             9902.0   \n",
       "butter                                 9545.0           109892.0   \n",
       "red bell pepper                        9501.0             9501.0   \n",
       "salt and pepper                        8945.0             8945.0   \n",
       "celery                                 8629.0            19473.0   \n",
       "potatoes                               7773.0             7773.0   \n",
       "chicken breast                         7459.0             7459.0   \n",
       "green bell pepper                      7279.0             7279.0   \n",
       "green pepper                           7254.0             7254.0   \n",
       "garlic cloves                          6534.0             6534.0   \n",
       "zucchini                               5965.0             5965.0   \n",
       "shallot                                4707.0             4707.0   \n",
       "carrot                                 4487.0            10455.0   \n",
       "yellow onion                           3945.0             3945.0   \n",
       "cucumber                               3939.0             3939.0   \n",
       "garlic clove                           3907.0             3907.0   \n",
       "shallots                               3833.0             3833.0   \n",
       "apples                                 3659.0             3659.0   \n",
       "tomato paste                           3500.0             9225.0   \n",
       "mushrooms                              3120.0             6228.0   \n",
       "red pepper                             3059.0             3059.0   \n",
       "egg                                    3016.0             3016.0   \n",
       "...                                       ...                ...   \n",
       "oats rolled                               1.0                6.0   \n",
       "oats                                      1.0             1678.0   \n",
       "oat bran                                  1.0              463.0   \n",
       "nuts pine                                 1.0                2.0   \n",
       "chiles                                    1.0                1.0   \n",
       "tortillas flour                           1.0                1.0   \n",
       "tortillas white corn                      1.0                1.0   \n",
       "cooked chicken                            1.0              865.0   \n",
       "onion paste                               1.0                2.0   \n",
       "thyme 3 sprigs                            1.0                1.0   \n",
       "onions red                                1.0                1.0   \n",
       "onions yellow                             1.0                3.0   \n",
       "peppers green                             1.0                2.0   \n",
       "peppers bell                              1.0                1.0   \n",
       "sugar confectioners                       1.0                4.0   \n",
       "chilies red                               1.0                1.0   \n",
       "pepper red bell                           1.0                1.0   \n",
       "pepper red                                1.0                2.0   \n",
       "peanut powder                             1.0                3.0   \n",
       "bran flakes                               1.0              103.0   \n",
       "sweet paprika                             1.0              938.0   \n",
       "apricots dried                            1.0                4.0   \n",
       "fat free mayonnaise                       1.0              290.0   \n",
       "parsley flakes                            1.0               49.0   \n",
       "fennel seed                               1.0             1015.0   \n",
       "chili garlic sauce                        1.0              303.0   \n",
       "oregano fresh                             1.0               31.0   \n",
       "flank steak                               1.0              372.0   \n",
       "orange 1t zest                            1.0                1.0   \n",
       "powdered thyme                            1.0               16.0   \n",
       "\n",
       "                      ingredient_freq  cond_non_conversion_freq  \\\n",
       "onion                        0.122243                  1.000000   \n",
       "eggs                         0.043622                  1.000000   \n",
       "tomatoes                     0.037073                  1.000000   \n",
       "onions                       0.029562                  1.000000   \n",
       "carrots                      0.027697                  1.000000   \n",
       "garlic                       0.074780                  0.344689   \n",
       "chicken breasts              0.022669                  1.000000   \n",
       "bacon                        0.020527                  1.000000   \n",
       "red onion                    0.019509                  1.000000   \n",
       "butter                       0.216507                  0.086858   \n",
       "red bell pepper              0.018719                  1.000000   \n",
       "salt and pepper              0.017623                  1.000000   \n",
       "celery                       0.038365                  0.443126   \n",
       "potatoes                     0.015314                  1.000000   \n",
       "chicken breast               0.014696                  1.000000   \n",
       "green bell pepper            0.014341                  1.000000   \n",
       "green pepper                 0.014292                  1.000000   \n",
       "garlic cloves                0.012873                  1.000000   \n",
       "zucchini                     0.011752                  1.000000   \n",
       "shallot                      0.009274                  1.000000   \n",
       "carrot                       0.020598                  0.429173   \n",
       "yellow onion                 0.007772                  1.000000   \n",
       "cucumber                     0.007761                  1.000000   \n",
       "garlic clove                 0.007697                  1.000000   \n",
       "shallots                     0.007552                  1.000000   \n",
       "apples                       0.007209                  1.000000   \n",
       "tomato paste                 0.018175                  0.379404   \n",
       "mushrooms                    0.012270                  0.500963   \n",
       "red pepper                   0.006027                  1.000000   \n",
       "egg                          0.005942                  1.000000   \n",
       "...                               ...                       ...   \n",
       "oats rolled                  0.000012                  0.166667   \n",
       "oats                         0.003306                  0.000596   \n",
       "oat bran                     0.000912                  0.002160   \n",
       "nuts pine                    0.000004                  0.500000   \n",
       "chiles                       0.000002                  1.000000   \n",
       "tortillas flour              0.000002                  1.000000   \n",
       "tortillas white corn         0.000002                  1.000000   \n",
       "cooked chicken               0.001704                  0.001156   \n",
       "onion paste                  0.000004                  0.500000   \n",
       "thyme 3 sprigs               0.000002                  1.000000   \n",
       "onions red                   0.000002                  1.000000   \n",
       "onions yellow                0.000006                  0.333333   \n",
       "peppers green                0.000004                  0.500000   \n",
       "peppers bell                 0.000002                  1.000000   \n",
       "sugar confectioners          0.000008                  0.250000   \n",
       "chilies red                  0.000002                  1.000000   \n",
       "pepper red bell              0.000002                  1.000000   \n",
       "pepper red                   0.000004                  0.500000   \n",
       "peanut powder                0.000006                  0.333333   \n",
       "bran flakes                  0.000203                  0.009709   \n",
       "sweet paprika                0.001848                  0.001066   \n",
       "apricots dried               0.000008                  0.250000   \n",
       "fat free mayonnaise          0.000571                  0.003448   \n",
       "parsley flakes               0.000097                  0.020408   \n",
       "fennel seed                  0.002000                  0.000985   \n",
       "chili garlic sauce           0.000597                  0.003300   \n",
       "oregano fresh                0.000061                  0.032258   \n",
       "flank steak                  0.000733                  0.002688   \n",
       "orange 1t zest               0.000002                  1.000000   \n",
       "powdered thyme               0.000032                  0.062500   \n",
       "\n",
       "                      non_conversion_freq  \n",
       "onion                            0.122243  \n",
       "eggs                             0.043622  \n",
       "tomatoes                         0.037073  \n",
       "onions                           0.029562  \n",
       "carrots                          0.027697  \n",
       "garlic                           0.025776  \n",
       "chicken breasts                  0.022669  \n",
       "bacon                            0.020527  \n",
       "red onion                        0.019509  \n",
       "butter                           0.018805  \n",
       "red bell pepper                  0.018719  \n",
       "salt and pepper                  0.017623  \n",
       "celery                           0.017001  \n",
       "potatoes                         0.015314  \n",
       "chicken breast                   0.014696  \n",
       "green bell pepper                0.014341  \n",
       "green pepper                     0.014292  \n",
       "garlic cloves                    0.012873  \n",
       "zucchini                         0.011752  \n",
       "shallot                          0.009274  \n",
       "carrot                           0.008840  \n",
       "yellow onion                     0.007772  \n",
       "cucumber                         0.007761  \n",
       "garlic clove                     0.007697  \n",
       "shallots                         0.007552  \n",
       "apples                           0.007209  \n",
       "tomato paste                     0.006896  \n",
       "mushrooms                        0.006147  \n",
       "red pepper                       0.006027  \n",
       "egg                              0.005942  \n",
       "...                                   ...  \n",
       "oats rolled                      0.000002  \n",
       "oats                             0.000002  \n",
       "oat bran                         0.000002  \n",
       "nuts pine                        0.000002  \n",
       "chiles                           0.000002  \n",
       "tortillas flour                  0.000002  \n",
       "tortillas white corn             0.000002  \n",
       "cooked chicken                   0.000002  \n",
       "onion paste                      0.000002  \n",
       "thyme 3 sprigs                   0.000002  \n",
       "onions red                       0.000002  \n",
       "onions yellow                    0.000002  \n",
       "peppers green                    0.000002  \n",
       "peppers bell                     0.000002  \n",
       "sugar confectioners              0.000002  \n",
       "chilies red                      0.000002  \n",
       "pepper red bell                  0.000002  \n",
       "pepper red                       0.000002  \n",
       "peanut powder                    0.000002  \n",
       "bran flakes                      0.000002  \n",
       "sweet paprika                    0.000002  \n",
       "apricots dried                   0.000002  \n",
       "fat free mayonnaise              0.000002  \n",
       "parsley flakes                   0.000002  \n",
       "fennel seed                      0.000002  \n",
       "chili garlic sauce               0.000002  \n",
       "oregano fresh                    0.000002  \n",
       "flank steak                      0.000002  \n",
       "orange 1t zest                   0.000002  \n",
       "powdered thyme                   0.000002  \n",
       "\n",
       "[962 rows x 5 columns]"
      ]
     },
     "execution_count": 48,
     "metadata": {},
     "output_type": "execute_result"
    }
   ],
   "source": [
    "ingredient_freq_matrix = pd.DataFrame.from_dict(ingredient_conversion_freq).T\n",
    "ingredient_freq_matrix.columns = ['non_convertable_recipes','total_num_recipes','ingredient_freq','cond_non_conversion_freq','non_conversion_freq']\n",
    "ingredient_freq_matrix.sort_values(by=\"non_conversion_freq\",ascending=0)"
   ]
  },
  {
   "cell_type": "code",
   "execution_count": 50,
   "metadata": {
    "collapsed": false
   },
   "outputs": [
    {
     "data": {
      "text/plain": [
       "<matplotlib.axes._subplots.AxesSubplot at 0x7f5ca753d950>"
      ]
     },
     "execution_count": 50,
     "metadata": {},
     "output_type": "execute_result"
    },
    {
     "data": {
      "image/png": "[encoded data removed]",
      "text/plain": [
       "<matplotlib.figure.Figure at 0x7f5ca73aa850>"
      ]
     },
     "metadata": {},
     "output_type": "display_data"
    }
   ],
   "source": [
    "sns.regplot(x=\"ingredient_freq\", y=\"cond_non_conversion_freq\", data=ingredient_freq_matrix)"
   ]
  },
  {
   "cell_type": "markdown",
   "metadata": {},
   "source": [
    "Lets parse the ingredient line on \"about\" string and see if we can figure out some of the conversion issues with 'Sugar'"
   ]
  },
  {
   "cell_type": "code",
   "execution_count": null,
   "metadata": {
    "collapsed": false
   },
   "outputs": [
    {
     "name": "stdout",
     "output_type": "stream",
     "text": [
      "{'cups': array([  1.  ,  12.  ,   0.75,   1.  ,   1.  ]), 'pounds': array([ 0.396832,  5.5     ,  0.3125  ,  0.5     ,  0.4375  ])}\n",
      "(2.1733624154008782, 0.043468788403142097)\n"
     ]
    }
   ],
   "source": [
    "import re\n",
    "from scipy import polyfit\n",
    "\n",
    "  \n",
    "# find all the lines that have the word about\n",
    "ingredient_lines = uom_df[uom_df['ingredient_entity'] == 'sugar']['line']\n",
    "units_alternatives = [string.split('about') for string in ingredient_lines if 'about' in string]\n",
    "\n",
    "# filter the items that don't have two numbers\n",
    "sugar_df = [['1 cup','180 grams'],['12 cups','5.5 lbs'],['5 ounces','0.75 cup'],['8 ounces','1 cup'],['1 cup','7 ounces']]\n",
    "sugar_df\n",
    "\n",
    "\n",
    "sugar_dict = {'pounds':np.array([0.396832,5.5,0.3125,0.5,0.4375]) , 'cups':np.array([1,12,0.75,1,1])}\n",
    "print sugar_dict\n",
    "(ar,br)=polyfit(sugar_dict['pounds'],sugar_dict['cups'],1)\n",
    "print (ar,br)\n",
    "\n",
    "sns.regplot(x=sugar_dict['pounds'], y=sugar_dict['cups'], robust=True)"
   ]
  }
 ],
 "metadata": {
  "kernelspec": {
   "display_name": "Python 2",
   "language": "python",
   "name": "python2"
  },
  "language_info": {
   "codemirror_mode": {
    "name": "ipython",
    "version": 2
   },
   "file_extension": ".py",
   "mimetype": "text/x-python",
   "name": "python",
   "nbconvert_exporter": "python",
   "pygments_lexer": "ipython2",
   "version": "2.7.12"
  }
 },
 "nbformat": 4,
 "nbformat_minor": 2
}
