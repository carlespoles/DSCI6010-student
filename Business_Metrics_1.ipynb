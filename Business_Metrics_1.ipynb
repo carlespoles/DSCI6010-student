{
 "cells": [
  {
   "cell_type": "markdown",
   "metadata": {},
   "source": [
    "# Creating dataframes to obtain data points required to create KPIs."
   ]
  },
  {
   "cell_type": "markdown",
   "metadata": {},
   "source": [
    "## Total Number of Recipes and Total Number of Unique Recipes."
   ]
  },
  {
   "cell_type": "code",
   "execution_count": 1,
   "metadata": {
    "collapsed": true
   },
   "outputs": [],
   "source": [
    "reset -fs"
   ]
  },
  {
   "cell_type": "code",
   "execution_count": 2,
   "metadata": {
    "collapsed": true
   },
   "outputs": [],
   "source": [
    "import seaborn as sns\n",
    "import datalab.bigquery as bq\n",
    "import matplotlib.pyplot as plt\n",
    "import pandas as pd\n",
    "import warnings\n",
    "import re\n",
    "%matplotlib inline"
   ]
  },
  {
   "cell_type": "markdown",
   "metadata": {},
   "source": [
    "### To view all full columns of any dataframe, not truncated, we set the option below:"
   ]
  },
  {
   "cell_type": "code",
   "execution_count": 3,
   "metadata": {
    "collapsed": true
   },
   "outputs": [],
   "source": [
    "pd.set_option('display.max_colwidth', -1)"
   ]
  },
  {
   "cell_type": "markdown",
   "metadata": {},
   "source": [
    "### Getting the count of recipe URLs that have been scrapped from different websites."
   ]
  },
  {
   "cell_type": "code",
   "execution_count": 4,
   "metadata": {
    "collapsed": true
   },
   "outputs": [],
   "source": [
    "%%sql --module num_urls\n",
    "SELECT url, COUNT(url) as num_urls\n",
    "FROM [firebase-wellio:recipes.recipes]\n",
    "GROUP BY url\n",
    "ORDER BY num_urls DESC"
   ]
  },
  {
   "cell_type": "code",
   "execution_count": 5,
   "metadata": {
    "collapsed": false
   },
   "outputs": [
    {
     "data": {
      "text/html": [
       "\n",
       "    <div class=\"bqtv\" id=\"1_151632131114\"><table><tr><th>url</th><th>num_urls</th></tr><tr><td>http://www.food.com/recipe/watermelon-salad-229886</td><td>1</td></tr><tr><td>http://www.food.com/recipe/easy-chicken-dumplings-264279</td><td>1</td></tr><tr><td>http://www.food.com/recipe/lisas-chocolate-coconut-macaroons-313303</td><td>1</td></tr><tr><td>http://www.food.com/recipe/red-passion-colada-319551</td><td>1</td></tr><tr><td>http://www.food.com/recipe/creepy-graveyard-cake-494752</td><td>1</td></tr><tr><td>http://www.food.com/recipe/athenian-pasta-primavera-383028</td><td>1</td></tr><tr><td>http://www.food.com/recipe/margarita-chicken-484837</td><td>1</td></tr><tr><td>http://www.food.com/recipe/julia-child-braised-garlic-cloves-simmered-in-cream-108744</td><td>1</td></tr><tr><td>http://www.food.com/recipe/chocolate-eclair-pie-355000</td><td>1</td></tr><tr><td>http://www.food.com/recipe/christmas-cupcakes-148834</td><td>1</td></tr><tr><td>http://www.food.com/recipe/maries-easy-lasagna-56225</td><td>1</td></tr><tr><td>http://www.food.com/recipe/cheats-thai-dressing-for-chicken-salad-264293</td><td>1</td></tr><tr><td>http://www.food.com/recipe/curried-vegetable-rice-68910</td><td>1</td></tr><tr><td>http://www.food.com/recipe/mandarin-orange-muffins-426949</td><td>1</td></tr><tr><td>http://www.food.com/recipe/mediterranean-baked-chicken-83046</td><td>1</td></tr><tr><td>http://www.food.com/recipe/copycat-dominos-cheesy-bread-405118</td><td>1</td></tr><tr><td>http://www.food.com/recipe/cantaloupe-marmalade-25184</td><td>1</td></tr><tr><td>http://www.food.com/recipe/crepe-ebi-soba-348754</td><td>1</td></tr><tr><td>http://www.epicurious.com/recipes/member/views/eggs-rarebit-50141487</td><td>1</td></tr><tr><td>http://www.epicurious.com/recipes/member/views/pumpkin-white-chip-macadamia-bars-50184782</td><td>1</td></tr><tr><td>http://www.myrecipes.com/m/recipe/spicy-pan-fried-sirloin-steak-with-noodles</td><td>1</td></tr><tr><td>http://www.epicurious.com/recipes/member/views/california-marinade-50053288</td><td>1</td></tr><tr><td>http://www.epicurious.com/recipes/member/views/joy-s-white-velvet-cutout-cookies-1276234</td><td>1</td></tr><tr><td>http://www.epicurious.com/recipes/member/views/ravioli-with-brown-butter-and-sage-50133901</td><td>1</td></tr><tr><td>http://www.epicurious.com/recipes/member/views/naked-tan-san-diego-52604021</td><td>1</td></tr></table></div>\n",
       "    <br />(rows: 550743, time: 0.9s, cached, job: job__gQpZx5YvEnfz5esa14xnf3l9CHC)<br />\n",
       "    <script src=\"/static/components/requirejs/require.js\"></script>\n",
       "    <script>\n",
       "\n",
       "      require.config({\n",
       "        paths: {\n",
       "          base: '/static/base',\n",
       "          d3: '//cdnjs.cloudflare.com/ajax/libs/d3/3.4.13/d3',\n",
       "          plotly: 'https://cdn.plot.ly/plotly-1.5.1.min.js?noext',\n",
       "          jquery: '//ajax.googleapis.com/ajax/libs/jquery/2.0.0/jquery.min'\n",
       "        },\n",
       "        map: {\n",
       "          '*': {\n",
       "            datalab: 'nbextensions/gcpdatalab'\n",
       "          }\n",
       "        },\n",
       "        shim: {\n",
       "          plotly: {\n",
       "            deps: ['d3', 'jquery'],\n",
       "            exports: 'plotly'\n",
       "          }\n",
       "        }\n",
       "      });\n",
       "\n",
       "      require(['datalab/charting', 'datalab/element!1_151632131114', 'base/js/events',\n",
       "          'datalab/style!/nbextensions/gcpdatalab/charting.css'],\n",
       "        function(charts, dom, events) {\n",
       "          charts.render('gcharts', dom, events, 'paged_table', [], {\"rows\": [{\"c\": [{\"v\": \"http://www.food.com/recipe/watermelon-salad-229886\"}, {\"v\": 1}]}, {\"c\": [{\"v\": \"http://www.food.com/recipe/easy-chicken-dumplings-264279\"}, {\"v\": 1}]}, {\"c\": [{\"v\": \"http://www.food.com/recipe/lisas-chocolate-coconut-macaroons-313303\"}, {\"v\": 1}]}, {\"c\": [{\"v\": \"http://www.food.com/recipe/red-passion-colada-319551\"}, {\"v\": 1}]}, {\"c\": [{\"v\": \"http://www.food.com/recipe/creepy-graveyard-cake-494752\"}, {\"v\": 1}]}, {\"c\": [{\"v\": \"http://www.food.com/recipe/athenian-pasta-primavera-383028\"}, {\"v\": 1}]}, {\"c\": [{\"v\": \"http://www.food.com/recipe/margarita-chicken-484837\"}, {\"v\": 1}]}, {\"c\": [{\"v\": \"http://www.food.com/recipe/julia-child-braised-garlic-cloves-simmered-in-cream-108744\"}, {\"v\": 1}]}, {\"c\": [{\"v\": \"http://www.food.com/recipe/chocolate-eclair-pie-355000\"}, {\"v\": 1}]}, {\"c\": [{\"v\": \"http://www.food.com/recipe/christmas-cupcakes-148834\"}, {\"v\": 1}]}, {\"c\": [{\"v\": \"http://www.food.com/recipe/maries-easy-lasagna-56225\"}, {\"v\": 1}]}, {\"c\": [{\"v\": \"http://www.food.com/recipe/cheats-thai-dressing-for-chicken-salad-264293\"}, {\"v\": 1}]}, {\"c\": [{\"v\": \"http://www.food.com/recipe/curried-vegetable-rice-68910\"}, {\"v\": 1}]}, {\"c\": [{\"v\": \"http://www.food.com/recipe/mandarin-orange-muffins-426949\"}, {\"v\": 1}]}, {\"c\": [{\"v\": \"http://www.food.com/recipe/mediterranean-baked-chicken-83046\"}, {\"v\": 1}]}, {\"c\": [{\"v\": \"http://www.food.com/recipe/copycat-dominos-cheesy-bread-405118\"}, {\"v\": 1}]}, {\"c\": [{\"v\": \"http://www.food.com/recipe/cantaloupe-marmalade-25184\"}, {\"v\": 1}]}, {\"c\": [{\"v\": \"http://www.food.com/recipe/crepe-ebi-soba-348754\"}, {\"v\": 1}]}, {\"c\": [{\"v\": \"http://www.epicurious.com/recipes/member/views/eggs-rarebit-50141487\"}, {\"v\": 1}]}, {\"c\": [{\"v\": \"http://www.epicurious.com/recipes/member/views/pumpkin-white-chip-macadamia-bars-50184782\"}, {\"v\": 1}]}, {\"c\": [{\"v\": \"http://www.myrecipes.com/m/recipe/spicy-pan-fried-sirloin-steak-with-noodles\"}, {\"v\": 1}]}, {\"c\": [{\"v\": \"http://www.epicurious.com/recipes/member/views/california-marinade-50053288\"}, {\"v\": 1}]}, {\"c\": [{\"v\": \"http://www.epicurious.com/recipes/member/views/joy-s-white-velvet-cutout-cookies-1276234\"}, {\"v\": 1}]}, {\"c\": [{\"v\": \"http://www.epicurious.com/recipes/member/views/ravioli-with-brown-butter-and-sage-50133901\"}, {\"v\": 1}]}, {\"c\": [{\"v\": \"http://www.epicurious.com/recipes/member/views/naked-tan-san-diego-52604021\"}, {\"v\": 1}]}], \"cols\": [{\"type\": \"string\", \"id\": \"url\", \"label\": \"url\"}, {\"type\": \"number\", \"id\": \"num_urls\", \"label\": \"num_urls\"}]},\n",
       "            {\n",
       "              pageSize: 25,\n",
       "              cssClassNames:  {\n",
       "                tableRow: 'gchart-table-row',\n",
       "                headerRow: 'gchart-table-headerrow',\n",
       "                oddTableRow: 'gchart-table-oddrow',\n",
       "                selectedTableRow: 'gchart-table-selectedrow',\n",
       "                hoverTableRow: 'gchart-table-hoverrow',\n",
       "                tableCell: 'gchart-table-cell',\n",
       "                headerCell: 'gchart-table-headercell',\n",
       "                rowNumberCell: 'gchart-table-rownumcell'\n",
       "              }\n",
       "            },\n",
       "            {source_index: 0, fields: 'url,num_urls', legacy: 'true'},\n",
       "            0,\n",
       "            550743);\n",
       "        }\n",
       "      );\n",
       "    </script>\n",
       "  "
      ],
      "text/plain": [
       "QueryResultsTable job__gQpZx5YvEnfz5esa14xnf3l9CHC"
      ]
     },
     "execution_count": 5,
     "metadata": {},
     "output_type": "execute_result"
    }
   ],
   "source": [
    "%%bigquery execute -q num_urls"
   ]
  },
  {
   "cell_type": "markdown",
   "metadata": {},
   "source": [
    "### Getting the URLs domain count for all recipes."
   ]
  },
  {
   "cell_type": "code",
   "execution_count": 6,
   "metadata": {
    "collapsed": true
   },
   "outputs": [],
   "source": [
    "%%sql --module recipes_sites_data\n",
    "SELECT SUBSTRING(url, 1, INSTR(url, '.com')+4) as domain_url, COUNT(substring(url, 1, INSTR(url, '.com')+4)) as domain_count\n",
    "FROM [firebase-wellio:recipes.recipes]\n",
    "WHERE url IS NOT NULL\n",
    "GROUP BY domain_url\n",
    "ORDER BY domain_count DESC"
   ]
  },
  {
   "cell_type": "code",
   "execution_count": 7,
   "metadata": {
    "collapsed": false
   },
   "outputs": [
    {
     "data": {
      "text/html": [
       "\n",
       "    <div class=\"bqtv\" id=\"2_151632131291\"><table><tr><th>domain_url</th><th>domain_count</th></tr><tr><td>http://www.food.com/</td><td>388402</td></tr><tr><td>http://www.epicurious.com/</td><td>95949</td></tr><tr><td>http://allrecipes.com/</td><td>37765</td></tr><tr><td>http://www.myrecipes.com/</td><td>18214</td></tr><tr><td>http://www.foodnetwork.com/</td><td>5459</td></tr><tr><td>http://www.seriouseats.com/</td><td>4664</td></tr><tr><td>http://www.thekitchn.com/</td><td>252</td></tr><tr><td>http://cooking.nytimes.com/</td><td>17</td></tr><tr><td>http://www.bonappetit.com/</td><td>4</td></tr><tr><td>http</td><td>2</td></tr><tr><td>http://thepioneerwoman.com/</td><td>2</td></tr><tr><td>http://www.tastespotting.com/</td><td>1</td></tr><tr><td>http://www.justasdelish.com/</td><td>1</td></tr><tr><td>http://cafedelites.com/</td><td>1</td></tr><tr><td>http://www.tasteofhome.com/</td><td>1</td></tr><tr><td>https://food52.com/</td><td>1</td></tr><tr><td>http://toriavey.com/</td><td>1</td></tr><tr><td>http://www.101cookbooks.com/</td><td>1</td></tr><tr><td>http://www.simplyrecipes.com/</td><td>1</td></tr><tr><td>http://premeditatedleftovers.com/</td><td>1</td></tr><tr><td>http://www.marthastewart.com/</td><td>1</td></tr><tr><td>http://www.foodnetwork.com:</td><td>1</td></tr><tr><td>https://cooking.nytimes.com/</td><td>1</td></tr><tr><td>http://www.chowhound.com/</td><td>1</td></tr></table></div>\n",
       "    <br />(rows: 24, time: 0.2s, cached, job: job_isjY4ElbCV4fUNB5qQVkxokxq-1Z)<br />\n",
       "    <script src=\"/static/components/requirejs/require.js\"></script>\n",
       "    <script>\n",
       "\n",
       "      require.config({\n",
       "        paths: {\n",
       "          base: '/static/base',\n",
       "          d3: '//cdnjs.cloudflare.com/ajax/libs/d3/3.4.13/d3',\n",
       "          plotly: 'https://cdn.plot.ly/plotly-1.5.1.min.js?noext',\n",
       "          jquery: '//ajax.googleapis.com/ajax/libs/jquery/2.0.0/jquery.min'\n",
       "        },\n",
       "        map: {\n",
       "          '*': {\n",
       "            datalab: 'nbextensions/gcpdatalab'\n",
       "          }\n",
       "        },\n",
       "        shim: {\n",
       "          plotly: {\n",
       "            deps: ['d3', 'jquery'],\n",
       "            exports: 'plotly'\n",
       "          }\n",
       "        }\n",
       "      });\n",
       "\n",
       "      require(['datalab/charting', 'datalab/element!2_151632131291', 'base/js/events',\n",
       "          'datalab/style!/nbextensions/gcpdatalab/charting.css'],\n",
       "        function(charts, dom, events) {\n",
       "          charts.render('gcharts', dom, events, 'table', [], {\"rows\": [{\"c\": [{\"v\": \"http://www.food.com/\"}, {\"v\": 388402}]}, {\"c\": [{\"v\": \"http://www.epicurious.com/\"}, {\"v\": 95949}]}, {\"c\": [{\"v\": \"http://allrecipes.com/\"}, {\"v\": 37765}]}, {\"c\": [{\"v\": \"http://www.myrecipes.com/\"}, {\"v\": 18214}]}, {\"c\": [{\"v\": \"http://www.foodnetwork.com/\"}, {\"v\": 5459}]}, {\"c\": [{\"v\": \"http://www.seriouseats.com/\"}, {\"v\": 4664}]}, {\"c\": [{\"v\": \"http://www.thekitchn.com/\"}, {\"v\": 252}]}, {\"c\": [{\"v\": \"http://cooking.nytimes.com/\"}, {\"v\": 17}]}, {\"c\": [{\"v\": \"http://www.bonappetit.com/\"}, {\"v\": 4}]}, {\"c\": [{\"v\": \"http\"}, {\"v\": 2}]}, {\"c\": [{\"v\": \"http://thepioneerwoman.com/\"}, {\"v\": 2}]}, {\"c\": [{\"v\": \"http://www.tastespotting.com/\"}, {\"v\": 1}]}, {\"c\": [{\"v\": \"http://www.justasdelish.com/\"}, {\"v\": 1}]}, {\"c\": [{\"v\": \"http://cafedelites.com/\"}, {\"v\": 1}]}, {\"c\": [{\"v\": \"http://www.tasteofhome.com/\"}, {\"v\": 1}]}, {\"c\": [{\"v\": \"https://food52.com/\"}, {\"v\": 1}]}, {\"c\": [{\"v\": \"http://toriavey.com/\"}, {\"v\": 1}]}, {\"c\": [{\"v\": \"http://www.101cookbooks.com/\"}, {\"v\": 1}]}, {\"c\": [{\"v\": \"http://www.simplyrecipes.com/\"}, {\"v\": 1}]}, {\"c\": [{\"v\": \"http://premeditatedleftovers.com/\"}, {\"v\": 1}]}, {\"c\": [{\"v\": \"http://www.marthastewart.com/\"}, {\"v\": 1}]}, {\"c\": [{\"v\": \"http://www.foodnetwork.com:\"}, {\"v\": 1}]}, {\"c\": [{\"v\": \"https://cooking.nytimes.com/\"}, {\"v\": 1}]}, {\"c\": [{\"v\": \"http://www.chowhound.com/\"}, {\"v\": 1}]}], \"cols\": [{\"type\": \"string\", \"id\": \"domain_url\", \"label\": \"domain_url\"}, {\"type\": \"number\", \"id\": \"domain_count\", \"label\": \"domain_count\"}]},\n",
       "            {\n",
       "              pageSize: 25,\n",
       "              cssClassNames:  {\n",
       "                tableRow: 'gchart-table-row',\n",
       "                headerRow: 'gchart-table-headerrow',\n",
       "                oddTableRow: 'gchart-table-oddrow',\n",
       "                selectedTableRow: 'gchart-table-selectedrow',\n",
       "                hoverTableRow: 'gchart-table-hoverrow',\n",
       "                tableCell: 'gchart-table-cell',\n",
       "                headerCell: 'gchart-table-headercell',\n",
       "                rowNumberCell: 'gchart-table-rownumcell'\n",
       "              }\n",
       "            },\n",
       "            {source_index: 1, fields: 'domain_url,domain_count', legacy: 'true'},\n",
       "            0,\n",
       "            24);\n",
       "        }\n",
       "      );\n",
       "    </script>\n",
       "  "
      ],
      "text/plain": [
       "QueryResultsTable job_isjY4ElbCV4fUNB5qQVkxokxq-1Z"
      ]
     },
     "execution_count": 7,
     "metadata": {},
     "output_type": "execute_result"
    }
   ],
   "source": [
    "%%bigquery execute -q recipes_sites_data"
   ]
  },
  {
   "cell_type": "markdown",
   "metadata": {},
   "source": [
    "### Converting BigQuery into a pandas dataframe."
   ]
  },
  {
   "cell_type": "code",
   "execution_count": 8,
   "metadata": {
    "collapsed": false
   },
   "outputs": [],
   "source": [
    "recipes_sites_df = bq.Query(recipes_sites_data).to_dataframe()"
   ]
  },
  {
   "cell_type": "code",
   "execution_count": 9,
   "metadata": {
    "collapsed": true
   },
   "outputs": [],
   "source": [
    "# To avoid:\n",
    "# /usr/local/lib/python2.7/dist-packages/seaborn/categorical.py:1424: FutureWarning: remove_na is deprecated and is a private function. Do not use.\n",
    "# stat_data = remove_na(group_data)\n",
    "# When printing below chart.\n",
    "warnings.filterwarnings('ignore')"
   ]
  },
  {
   "cell_type": "markdown",
   "metadata": {},
   "source": [
    "### Plotting above dataframe."
   ]
  },
  {
   "cell_type": "code",
   "execution_count": 10,
   "metadata": {
    "collapsed": false
   },
   "outputs": [
    {
     "data": {
      "image/png": "[encoded data removed]",
      "text/plain": [
       "<matplotlib.figure.Figure at 0x7f10d4fe9f90>"
      ]
     },
     "metadata": {},
     "output_type": "display_data"
    }
   ],
   "source": [
    "sns.set_style(\"whitegrid\")\n",
    "# Set the plot size in inches.\n",
    "sns.set(rc={'figure.figsize':(11.7,8.27)})\n",
    "recipes_plot = sns.barplot(x='domain_count', y='domain_url', data=recipes_sites_df[:7])\n",
    "plt.setp(recipes_plot.get_xticklabels(), rotation=45);"
   ]
  },
  {
   "cell_type": "markdown",
   "metadata": {},
   "source": [
    "### We create a new dataframe from the 1st one and dropping a column."
   ]
  },
  {
   "cell_type": "code",
   "execution_count": 11,
   "metadata": {
    "collapsed": true
   },
   "outputs": [],
   "source": [
    "all_recipes_sites_df = bq.Query(num_urls).to_dataframe()"
   ]
  },
  {
   "cell_type": "code",
   "execution_count": 12,
   "metadata": {
    "collapsed": false
   },
   "outputs": [],
   "source": [
    "all_recipes_sites_df.drop('num_urls', axis=1, inplace=True)"
   ]
  },
  {
   "cell_type": "code",
   "execution_count": 13,
   "metadata": {
    "collapsed": false
   },
   "outputs": [
    {
     "data": {
      "text/html": [
       "<div>\n",
       "<style scoped>\n",
       "    .dataframe tbody tr th:only-of-type {\n",
       "        vertical-align: middle;\n",
       "    }\n",
       "\n",
       "    .dataframe tbody tr th {\n",
       "        vertical-align: top;\n",
       "    }\n",
       "\n",
       "    .dataframe thead th {\n",
       "        text-align: right;\n",
       "    }\n",
       "</style>\n",
       "<table border=\"1\" class=\"dataframe\">\n",
       "  <thead>\n",
       "    <tr style=\"text-align: right;\">\n",
       "      <th></th>\n",
       "      <th>url</th>\n",
       "    </tr>\n",
       "  </thead>\n",
       "  <tbody>\n",
       "    <tr>\n",
       "      <th>0</th>\n",
       "      <td>http://www.food.com/recipe/watermelon-salad-229886</td>\n",
       "    </tr>\n",
       "    <tr>\n",
       "      <th>1</th>\n",
       "      <td>http://www.food.com/recipe/easy-chicken-dumplings-264279</td>\n",
       "    </tr>\n",
       "    <tr>\n",
       "      <th>2</th>\n",
       "      <td>http://www.food.com/recipe/lisas-chocolate-coconut-macaroons-313303</td>\n",
       "    </tr>\n",
       "    <tr>\n",
       "      <th>3</th>\n",
       "      <td>http://www.food.com/recipe/red-passion-colada-319551</td>\n",
       "    </tr>\n",
       "    <tr>\n",
       "      <th>4</th>\n",
       "      <td>http://www.food.com/recipe/creepy-graveyard-cake-494752</td>\n",
       "    </tr>\n",
       "  </tbody>\n",
       "</table>\n",
       "</div>"
      ],
      "text/plain": [
       "                                                                   url\n",
       "0  http://www.food.com/recipe/watermelon-salad-229886                 \n",
       "1  http://www.food.com/recipe/easy-chicken-dumplings-264279           \n",
       "2  http://www.food.com/recipe/lisas-chocolate-coconut-macaroons-313303\n",
       "3  http://www.food.com/recipe/red-passion-colada-319551               \n",
       "4  http://www.food.com/recipe/creepy-graveyard-cake-494752            "
      ]
     },
     "execution_count": 13,
     "metadata": {},
     "output_type": "execute_result"
    }
   ],
   "source": [
    "all_recipes_sites_df.head()"
   ]
  },
  {
   "cell_type": "code",
   "execution_count": 14,
   "metadata": {
    "collapsed": false
   },
   "outputs": [],
   "source": [
    "all_recipes_df = all_recipes_sites_df"
   ]
  },
  {
   "cell_type": "code",
   "execution_count": 15,
   "metadata": {
    "collapsed": true
   },
   "outputs": [],
   "source": [
    "all_recipes_df.rename(columns = {'url':'full_recipe_url'}, inplace=True)"
   ]
  },
  {
   "cell_type": "code",
   "execution_count": 16,
   "metadata": {
    "collapsed": false
   },
   "outputs": [
    {
     "data": {
      "text/html": [
       "<div>\n",
       "<style scoped>\n",
       "    .dataframe tbody tr th:only-of-type {\n",
       "        vertical-align: middle;\n",
       "    }\n",
       "\n",
       "    .dataframe tbody tr th {\n",
       "        vertical-align: top;\n",
       "    }\n",
       "\n",
       "    .dataframe thead th {\n",
       "        text-align: right;\n",
       "    }\n",
       "</style>\n",
       "<table border=\"1\" class=\"dataframe\">\n",
       "  <thead>\n",
       "    <tr style=\"text-align: right;\">\n",
       "      <th></th>\n",
       "      <th>full_recipe_url</th>\n",
       "    </tr>\n",
       "  </thead>\n",
       "  <tbody>\n",
       "    <tr>\n",
       "      <th>0</th>\n",
       "      <td>http://www.food.com/recipe/watermelon-salad-229886</td>\n",
       "    </tr>\n",
       "    <tr>\n",
       "      <th>1</th>\n",
       "      <td>http://www.food.com/recipe/easy-chicken-dumplings-264279</td>\n",
       "    </tr>\n",
       "    <tr>\n",
       "      <th>2</th>\n",
       "      <td>http://www.food.com/recipe/lisas-chocolate-coconut-macaroons-313303</td>\n",
       "    </tr>\n",
       "    <tr>\n",
       "      <th>3</th>\n",
       "      <td>http://www.food.com/recipe/red-passion-colada-319551</td>\n",
       "    </tr>\n",
       "    <tr>\n",
       "      <th>4</th>\n",
       "      <td>http://www.food.com/recipe/creepy-graveyard-cake-494752</td>\n",
       "    </tr>\n",
       "  </tbody>\n",
       "</table>\n",
       "</div>"
      ],
      "text/plain": [
       "                                                       full_recipe_url\n",
       "0  http://www.food.com/recipe/watermelon-salad-229886                 \n",
       "1  http://www.food.com/recipe/easy-chicken-dumplings-264279           \n",
       "2  http://www.food.com/recipe/lisas-chocolate-coconut-macaroons-313303\n",
       "3  http://www.food.com/recipe/red-passion-colada-319551               \n",
       "4  http://www.food.com/recipe/creepy-graveyard-cake-494752            "
      ]
     },
     "execution_count": 16,
     "metadata": {},
     "output_type": "execute_result"
    }
   ],
   "source": [
    "all_recipes_df.head()"
   ]
  },
  {
   "cell_type": "code",
   "execution_count": 17,
   "metadata": {
    "collapsed": true
   },
   "outputs": [],
   "source": [
    "def find_index_char(my_dataframe_element, my_character):\n",
    "  '''\n",
    "  This function returns a substring. We provide a column from a dataframe, represented by variable my_dataframe_element,\n",
    "  and we find all the index positions of a character (represented by variable my_character) in such element.\n",
    "  This will create a list of all the indices of such character (if more than 1 is found) in the dataframe element, which is \n",
    "  represented by the variable list_of_positions. If we want to return the last position of such character, we would return \n",
    "  list_of_positions[-1]\n",
    "  In this case, we will return the sliced element starting at the last index position of the provided character we are interested.\n",
    "  The unique recipe is at the end of every url, i.e. http://www.food.com/recipe/watermelon-salad-229886, the recipe is watermelon-salad-229886.\n",
    "  '''\n",
    "  list_of_positions = [pos for pos, char in enumerate(my_dataframe_element) if char == my_character]\n",
    "  return my_dataframe_element[list_of_positions[-1]:]"
   ]
  },
  {
   "cell_type": "code",
   "execution_count": 18,
   "metadata": {
    "collapsed": true
   },
   "outputs": [],
   "source": [
    "def find_index_char_hard_coded(my_dataframe_element):\n",
    "  '''\n",
    "  This function returns a substring. We provide a column from a dataframe, represented by variable my_dataframe_element,\n",
    "  and we find all the index positions of a hardcoded character (which is / in this case) in such element.\n",
    "  This will create a list of all the indices of such character (if more than 1 is found) in the dataframe element, which is \n",
    "  represented by the variable list_of_positions. If we want to return the last position of such character, we would return \n",
    "  list_of_positions[-1]\n",
    "  In this case, we will return the sliced element starting at the last index position of the provided character we are interested.\n",
    "  '''\n",
    "  list_of_positions = [pos for pos, char in enumerate(my_dataframe_element) if char == '/']\n",
    "  return my_dataframe_element[list_of_positions[-1]:]"
   ]
  },
  {
   "cell_type": "markdown",
   "metadata": {},
   "source": [
    "#### Example of applying above function to the 1st row of the new dataframe. We are interesting in the string after the last '/' as it will be the unique identifier for each recipe."
   ]
  },
  {
   "cell_type": "code",
   "execution_count": 19,
   "metadata": {
    "collapsed": false
   },
   "outputs": [
    {
     "data": {
      "text/plain": [
       "full_recipe_url    http://www.food.com/recipe/watermelon-salad-229886\n",
       "Name: 0, dtype: object"
      ]
     },
     "execution_count": 19,
     "metadata": {},
     "output_type": "execute_result"
    }
   ],
   "source": [
    "all_recipes_df.iloc[0]"
   ]
  },
  {
   "cell_type": "code",
   "execution_count": 20,
   "metadata": {
    "collapsed": false
   },
   "outputs": [
    {
     "data": {
      "text/plain": [
       "u'/watermelon-salad-229886'"
      ]
     },
     "execution_count": 20,
     "metadata": {},
     "output_type": "execute_result"
    }
   ],
   "source": [
    "find_index_char(all_recipes_df.iloc[0].to_string(), '/')"
   ]
  },
  {
   "cell_type": "markdown",
   "metadata": {},
   "source": [
    "### Now we create a new column in the dataframe to store the identifier of each recipe."
   ]
  },
  {
   "cell_type": "code",
   "execution_count": 21,
   "metadata": {
    "collapsed": false
   },
   "outputs": [],
   "source": [
    "all_recipes_df['recipe']=''"
   ]
  },
  {
   "cell_type": "code",
   "execution_count": 22,
   "metadata": {
    "collapsed": false
   },
   "outputs": [
    {
     "data": {
      "text/html": [
       "<div>\n",
       "<style scoped>\n",
       "    .dataframe tbody tr th:only-of-type {\n",
       "        vertical-align: middle;\n",
       "    }\n",
       "\n",
       "    .dataframe tbody tr th {\n",
       "        vertical-align: top;\n",
       "    }\n",
       "\n",
       "    .dataframe thead th {\n",
       "        text-align: right;\n",
       "    }\n",
       "</style>\n",
       "<table border=\"1\" class=\"dataframe\">\n",
       "  <thead>\n",
       "    <tr style=\"text-align: right;\">\n",
       "      <th></th>\n",
       "      <th>full_recipe_url</th>\n",
       "      <th>recipe</th>\n",
       "    </tr>\n",
       "  </thead>\n",
       "  <tbody>\n",
       "    <tr>\n",
       "      <th>0</th>\n",
       "      <td>http://www.food.com/recipe/watermelon-salad-229886</td>\n",
       "      <td></td>\n",
       "    </tr>\n",
       "    <tr>\n",
       "      <th>1</th>\n",
       "      <td>http://www.food.com/recipe/easy-chicken-dumplings-264279</td>\n",
       "      <td></td>\n",
       "    </tr>\n",
       "    <tr>\n",
       "      <th>2</th>\n",
       "      <td>http://www.food.com/recipe/lisas-chocolate-coconut-macaroons-313303</td>\n",
       "      <td></td>\n",
       "    </tr>\n",
       "    <tr>\n",
       "      <th>3</th>\n",
       "      <td>http://www.food.com/recipe/red-passion-colada-319551</td>\n",
       "      <td></td>\n",
       "    </tr>\n",
       "    <tr>\n",
       "      <th>4</th>\n",
       "      <td>http://www.food.com/recipe/creepy-graveyard-cake-494752</td>\n",
       "      <td></td>\n",
       "    </tr>\n",
       "  </tbody>\n",
       "</table>\n",
       "</div>"
      ],
      "text/plain": [
       "                                                       full_recipe_url recipe\n",
       "0  http://www.food.com/recipe/watermelon-salad-229886                        \n",
       "1  http://www.food.com/recipe/easy-chicken-dumplings-264279                  \n",
       "2  http://www.food.com/recipe/lisas-chocolate-coconut-macaroons-313303       \n",
       "3  http://www.food.com/recipe/red-passion-colada-319551                      \n",
       "4  http://www.food.com/recipe/creepy-graveyard-cake-494752                   "
      ]
     },
     "execution_count": 22,
     "metadata": {},
     "output_type": "execute_result"
    }
   ],
   "source": [
    "all_recipes_df.head()"
   ]
  },
  {
   "cell_type": "markdown",
   "metadata": {},
   "source": [
    "### We apply the function to 5 rows to see if it works."
   ]
  },
  {
   "cell_type": "code",
   "execution_count": 23,
   "metadata": {
    "collapsed": false
   },
   "outputs": [],
   "source": [
    "all_recipes_df['recipe'] = all_recipes_df['full_recipe_url'][:5].apply(find_index_char_hard_coded)"
   ]
  },
  {
   "cell_type": "code",
   "execution_count": 24,
   "metadata": {
    "collapsed": false
   },
   "outputs": [
    {
     "data": {
      "text/html": [
       "<div>\n",
       "<style scoped>\n",
       "    .dataframe tbody tr th:only-of-type {\n",
       "        vertical-align: middle;\n",
       "    }\n",
       "\n",
       "    .dataframe tbody tr th {\n",
       "        vertical-align: top;\n",
       "    }\n",
       "\n",
       "    .dataframe thead th {\n",
       "        text-align: right;\n",
       "    }\n",
       "</style>\n",
       "<table border=\"1\" class=\"dataframe\">\n",
       "  <thead>\n",
       "    <tr style=\"text-align: right;\">\n",
       "      <th></th>\n",
       "      <th>full_recipe_url</th>\n",
       "      <th>recipe</th>\n",
       "    </tr>\n",
       "  </thead>\n",
       "  <tbody>\n",
       "    <tr>\n",
       "      <th>0</th>\n",
       "      <td>http://www.food.com/recipe/watermelon-salad-229886</td>\n",
       "      <td>/watermelon-salad-229886</td>\n",
       "    </tr>\n",
       "    <tr>\n",
       "      <th>1</th>\n",
       "      <td>http://www.food.com/recipe/easy-chicken-dumplings-264279</td>\n",
       "      <td>/easy-chicken-dumplings-264279</td>\n",
       "    </tr>\n",
       "    <tr>\n",
       "      <th>2</th>\n",
       "      <td>http://www.food.com/recipe/lisas-chocolate-coconut-macaroons-313303</td>\n",
       "      <td>/lisas-chocolate-coconut-macaroons-313303</td>\n",
       "    </tr>\n",
       "    <tr>\n",
       "      <th>3</th>\n",
       "      <td>http://www.food.com/recipe/red-passion-colada-319551</td>\n",
       "      <td>/red-passion-colada-319551</td>\n",
       "    </tr>\n",
       "    <tr>\n",
       "      <th>4</th>\n",
       "      <td>http://www.food.com/recipe/creepy-graveyard-cake-494752</td>\n",
       "      <td>/creepy-graveyard-cake-494752</td>\n",
       "    </tr>\n",
       "  </tbody>\n",
       "</table>\n",
       "</div>"
      ],
      "text/plain": [
       "                                                       full_recipe_url  \\\n",
       "0  http://www.food.com/recipe/watermelon-salad-229886                    \n",
       "1  http://www.food.com/recipe/easy-chicken-dumplings-264279              \n",
       "2  http://www.food.com/recipe/lisas-chocolate-coconut-macaroons-313303   \n",
       "3  http://www.food.com/recipe/red-passion-colada-319551                  \n",
       "4  http://www.food.com/recipe/creepy-graveyard-cake-494752               \n",
       "\n",
       "                                      recipe  \n",
       "0  /watermelon-salad-229886                   \n",
       "1  /easy-chicken-dumplings-264279             \n",
       "2  /lisas-chocolate-coconut-macaroons-313303  \n",
       "3  /red-passion-colada-319551                 \n",
       "4  /creepy-graveyard-cake-494752              "
      ]
     },
     "execution_count": 24,
     "metadata": {},
     "output_type": "execute_result"
    }
   ],
   "source": [
    "all_recipes_df.head()"
   ]
  },
  {
   "cell_type": "markdown",
   "metadata": {},
   "source": [
    "### Since the function works, we apply it to the entire dataframe column."
   ]
  },
  {
   "cell_type": "code",
   "execution_count": 25,
   "metadata": {
    "collapsed": true
   },
   "outputs": [],
   "source": [
    "all_recipes_df['recipe'] = all_recipes_df['full_recipe_url'].apply(find_index_char_hard_coded)"
   ]
  },
  {
   "cell_type": "code",
   "execution_count": 26,
   "metadata": {
    "collapsed": false
   },
   "outputs": [
    {
     "data": {
      "text/html": [
       "<div>\n",
       "<style scoped>\n",
       "    .dataframe tbody tr th:only-of-type {\n",
       "        vertical-align: middle;\n",
       "    }\n",
       "\n",
       "    .dataframe tbody tr th {\n",
       "        vertical-align: top;\n",
       "    }\n",
       "\n",
       "    .dataframe thead th {\n",
       "        text-align: right;\n",
       "    }\n",
       "</style>\n",
       "<table border=\"1\" class=\"dataframe\">\n",
       "  <thead>\n",
       "    <tr style=\"text-align: right;\">\n",
       "      <th></th>\n",
       "      <th>full_recipe_url</th>\n",
       "      <th>recipe</th>\n",
       "    </tr>\n",
       "  </thead>\n",
       "  <tbody>\n",
       "    <tr>\n",
       "      <th>550738</th>\n",
       "      <td>http://www.food.com/recipe/sausage-and-summer-squash-311007</td>\n",
       "      <td>/sausage-and-summer-squash-311007</td>\n",
       "    </tr>\n",
       "    <tr>\n",
       "      <th>550739</th>\n",
       "      <td>http://www.food.com/recipe/butter-chicken-curry-229228</td>\n",
       "      <td>/butter-chicken-curry-229228</td>\n",
       "    </tr>\n",
       "    <tr>\n",
       "      <th>550740</th>\n",
       "      <td>http://www.food.com/recipe/lightened-up-lemon-chicken-velvet-soup-293353</td>\n",
       "      <td>/lightened-up-lemon-chicken-velvet-soup-293353</td>\n",
       "    </tr>\n",
       "    <tr>\n",
       "      <th>550741</th>\n",
       "      <td>http://www.food.com/recipe/rum-flambeed-strawberries-364395</td>\n",
       "      <td>/rum-flambeed-strawberries-364395</td>\n",
       "    </tr>\n",
       "    <tr>\n",
       "      <th>550742</th>\n",
       "      <td>http://www.food.com/recipe/mandarin-spinach-bowl-130684</td>\n",
       "      <td>/mandarin-spinach-bowl-130684</td>\n",
       "    </tr>\n",
       "  </tbody>\n",
       "</table>\n",
       "</div>"
      ],
      "text/plain": [
       "                                                                 full_recipe_url  \\\n",
       "550738  http://www.food.com/recipe/sausage-and-summer-squash-311007                \n",
       "550739  http://www.food.com/recipe/butter-chicken-curry-229228                     \n",
       "550740  http://www.food.com/recipe/lightened-up-lemon-chicken-velvet-soup-293353   \n",
       "550741  http://www.food.com/recipe/rum-flambeed-strawberries-364395                \n",
       "550742  http://www.food.com/recipe/mandarin-spinach-bowl-130684                    \n",
       "\n",
       "                                                recipe  \n",
       "550738  /sausage-and-summer-squash-311007               \n",
       "550739  /butter-chicken-curry-229228                    \n",
       "550740  /lightened-up-lemon-chicken-velvet-soup-293353  \n",
       "550741  /rum-flambeed-strawberries-364395               \n",
       "550742  /mandarin-spinach-bowl-130684                   "
      ]
     },
     "execution_count": 26,
     "metadata": {},
     "output_type": "execute_result"
    }
   ],
   "source": [
    "all_recipes_df.tail()"
   ]
  },
  {
   "cell_type": "code",
   "execution_count": 27,
   "metadata": {
    "collapsed": false
   },
   "outputs": [
    {
     "data": {
      "text/plain": [
       "(550743, 2)"
      ]
     },
     "execution_count": 27,
     "metadata": {},
     "output_type": "execute_result"
    }
   ],
   "source": [
    "all_recipes_df.shape"
   ]
  },
  {
   "cell_type": "markdown",
   "metadata": {},
   "source": [
    "### Do we have duplicated recipes?"
   ]
  },
  {
   "cell_type": "code",
   "execution_count": 28,
   "metadata": {
    "collapsed": false
   },
   "outputs": [
    {
     "data": {
      "text/plain": [
       "(550743, 2)"
      ]
     },
     "execution_count": 28,
     "metadata": {},
     "output_type": "execute_result"
    }
   ],
   "source": [
    "all_recipes_df.drop_duplicates().shape"
   ]
  },
  {
   "cell_type": "markdown",
   "metadata": {},
   "source": [
    "#### There are no duplicated recipes."
   ]
  },
  {
   "cell_type": "markdown",
   "metadata": {},
   "source": [
    "### Let's use a different table."
   ]
  },
  {
   "cell_type": "code",
   "execution_count": 29,
   "metadata": {
    "collapsed": true
   },
   "outputs": [],
   "source": [
    "%%sql --module imported_urls\n",
    "SELECT COUNT(url) AS count_urls\n",
    "FROM [firebase-wellio:recipes.imported_recipes]\n",
    "WHERE url IS NOT NULL"
   ]
  },
  {
   "cell_type": "code",
   "execution_count": 30,
   "metadata": {
    "collapsed": false
   },
   "outputs": [
    {
     "data": {
      "text/html": [
       "\n",
       "    <div class=\"bqtv\" id=\"3_151632174068\"><table><tr><th>count_urls</th></tr><tr><td>8301786</td></tr></table></div>\n",
       "    <br />(rows: 1, time: 2.1s,   602MB processed, job: job_51KB802HERTzgei_meUkyl8tSzOt)<br />\n",
       "    <script src=\"/static/components/requirejs/require.js\"></script>\n",
       "    <script>\n",
       "\n",
       "      require.config({\n",
       "        paths: {\n",
       "          base: '/static/base',\n",
       "          d3: '//cdnjs.cloudflare.com/ajax/libs/d3/3.4.13/d3',\n",
       "          plotly: 'https://cdn.plot.ly/plotly-1.5.1.min.js?noext',\n",
       "          jquery: '//ajax.googleapis.com/ajax/libs/jquery/2.0.0/jquery.min'\n",
       "        },\n",
       "        map: {\n",
       "          '*': {\n",
       "            datalab: 'nbextensions/gcpdatalab'\n",
       "          }\n",
       "        },\n",
       "        shim: {\n",
       "          plotly: {\n",
       "            deps: ['d3', 'jquery'],\n",
       "            exports: 'plotly'\n",
       "          }\n",
       "        }\n",
       "      });\n",
       "\n",
       "      require(['datalab/charting', 'datalab/element!3_151632174068', 'base/js/events',\n",
       "          'datalab/style!/nbextensions/gcpdatalab/charting.css'],\n",
       "        function(charts, dom, events) {\n",
       "          charts.render('gcharts', dom, events, 'table', [], {\"rows\": [{\"c\": [{\"v\": 8301786}]}], \"cols\": [{\"type\": \"number\", \"id\": \"count_urls\", \"label\": \"count_urls\"}]},\n",
       "            {\n",
       "              pageSize: 25,\n",
       "              cssClassNames:  {\n",
       "                tableRow: 'gchart-table-row',\n",
       "                headerRow: 'gchart-table-headerrow',\n",
       "                oddTableRow: 'gchart-table-oddrow',\n",
       "                selectedTableRow: 'gchart-table-selectedrow',\n",
       "                hoverTableRow: 'gchart-table-hoverrow',\n",
       "                tableCell: 'gchart-table-cell',\n",
       "                headerCell: 'gchart-table-headercell',\n",
       "                rowNumberCell: 'gchart-table-rownumcell'\n",
       "              }\n",
       "            },\n",
       "            {source_index: 2, fields: 'count_urls', legacy: 'true'},\n",
       "            0,\n",
       "            1);\n",
       "        }\n",
       "      );\n",
       "    </script>\n",
       "  "
      ],
      "text/plain": [
       "QueryResultsTable job_51KB802HERTzgei_meUkyl8tSzOt"
      ]
     },
     "execution_count": 30,
     "metadata": {},
     "output_type": "execute_result"
    }
   ],
   "source": [
    "%%bigquery execute -q imported_urls"
   ]
  },
  {
   "cell_type": "code",
   "execution_count": 31,
   "metadata": {
    "collapsed": true
   },
   "outputs": [],
   "source": [
    "%%sql --module imported_recipes\n",
    "SELECT url, COUNT(url) AS count_urls\n",
    "FROM [firebase-wellio:recipes.imported_recipes]\n",
    "WHERE url IS NOT NULL AND url <> '#'\n",
    "GROUP BY url\n",
    "ORDER BY count_urls DESC\n",
    "-- We limit the number of records since when we export this query to a dataframe, the notebook can't handle 8 million rows.\n",
    "LIMIT 1000"
   ]
  },
  {
   "cell_type": "code",
   "execution_count": 32,
   "metadata": {
    "collapsed": false
   },
   "outputs": [
    {
     "data": {
      "text/html": [
       "\n",
       "    <div class=\"bqtv\" id=\"4_151632175886\"><table><tr><th>url</th><th>count_urls</th></tr><tr><td>https://www.duncanhines.com/recipes/brownies/jilltaylor86/red-velvet-fudge-brownies/</td><td>13980</td></tr><tr><td>http://www.thegreenlife.ca/fr/salade-cremeuse-au-kale-peches-grillees-croutons-epices/</td><td>12882</td></tr><tr><td>http://www.thegreenlife.ca/mexican-chocolate-avocado-mousse-workshop-recap/</td><td>11646</td></tr><tr><td>http://www.thegreenlife.ca/fr/chocolat-chaud-red-velvet/</td><td>11555</td></tr><tr><td>http://www.motherthyme.com/2014/08/bread-pudding.html?utm_source=feedburner&amp;utm_medium=email&amp;utm_campaign=Feed:+motherthyme/BYjd+(Mother+Thyme)</td><td>11286</td></tr><tr><td>http://www.thegreenlife.ca/raw-eggnog-bliss-balls/</td><td>11260</td></tr><tr><td>https://www.tillamook.com/recipes/monster-muenster-panini.html</td><td>11081</td></tr><tr><td>http://www.thegreenlife.ca/fr/frites-de-patates-douces-sauce-au-tahini-et-aux-herbes/</td><td>11009</td></tr><tr><td>http://www.thegreenlife.ca/fr/barres-de-millet-souffle-tahini-sesame-et-figues/</td><td>10767</td></tr><tr><td>http://www.thegreenlife.ca/almond-cherry-cacao-nib-breakfast-cookies/</td><td>10436</td></tr><tr><td>http://cookingwithmammac.com/jumbo-fried-shrimp/</td><td>10169</td></tr><tr><td>http://www.thegreenlife.ca/fr/salade-tiede-de-quinoa-kale-courge-delicata-vinaigrette-balsamique-a-lorange/</td><td>10075</td></tr><tr><td>http://www.lifemadedelicious.ca/recipes/orange-french-toast-bake/fa814fd8-2fcf-4795-a02d-a6da15c91483</td><td>9826</td></tr><tr><td>https://www.duncanhines.com/recipes/brownies/jilltaylor86/red-velvet-fudge-brownies/?crlt.pid=camp.ulh2ZEV7dt8j</td><td>9745</td></tr><tr><td>https://www.tillamook.com/recipes/pupusas.html</td><td>9743</td></tr><tr><td>http://www.thegreenlife.ca/blueberry-hemp-swirl-smoothie/</td><td>9740</td></tr><tr><td>http://www.thegreenlife.ca/raspberry-chocolate-roasted-hazelnut-mini-tarts/</td><td>9727</td></tr><tr><td>https://www.duncanhines.com/recipes/cakes/turdra/earthquake-cake/</td><td>9672</td></tr><tr><td>https://www.duncanhines.com/recipes/cookies-bars/Duncan%20Hines%C2%AE/devils-food-fudge-cookies/</td><td>9644</td></tr><tr><td>http://www.erecipesearch.com/recipes/desserts/fruits-and-cornflakes-parfait/</td><td>9467</td></tr><tr><td>http://www.thegreenlife.ca/matcha-mint-cacao-milkshake/</td><td>8856</td></tr><tr><td>http://www.thegreenlife.ca/fr/sandwichs-creme-glacee-chocolat-biscuits-tahini/</td><td>8855</td></tr><tr><td>https://www.tillamook.com/recipes/the-godfather.html</td><td>8772</td></tr><tr><td>http://myrecipemagic.com/recipe/recipedetail/-sea-salt-caramel-mocha</td><td>8515</td></tr><tr><td>http://www.thegreenlife.ca/lemon-poppy-seed-waffles-blueberry-cashew-cream/</td><td>8449</td></tr></table></div>\n",
       "    <br />(rows: 1000, time: 2.1s,   602MB processed, job: job_Pb5fDeg3g1z7cm1NesocpS-g6YHq)<br />\n",
       "    <script src=\"/static/components/requirejs/require.js\"></script>\n",
       "    <script>\n",
       "\n",
       "      require.config({\n",
       "        paths: {\n",
       "          base: '/static/base',\n",
       "          d3: '//cdnjs.cloudflare.com/ajax/libs/d3/3.4.13/d3',\n",
       "          plotly: 'https://cdn.plot.ly/plotly-1.5.1.min.js?noext',\n",
       "          jquery: '//ajax.googleapis.com/ajax/libs/jquery/2.0.0/jquery.min'\n",
       "        },\n",
       "        map: {\n",
       "          '*': {\n",
       "            datalab: 'nbextensions/gcpdatalab'\n",
       "          }\n",
       "        },\n",
       "        shim: {\n",
       "          plotly: {\n",
       "            deps: ['d3', 'jquery'],\n",
       "            exports: 'plotly'\n",
       "          }\n",
       "        }\n",
       "      });\n",
       "\n",
       "      require(['datalab/charting', 'datalab/element!4_151632175886', 'base/js/events',\n",
       "          'datalab/style!/nbextensions/gcpdatalab/charting.css'],\n",
       "        function(charts, dom, events) {\n",
       "          charts.render('gcharts', dom, events, 'paged_table', [], {\"rows\": [{\"c\": [{\"v\": \"https://www.duncanhines.com/recipes/brownies/jilltaylor86/red-velvet-fudge-brownies/\"}, {\"v\": 13980}]}, {\"c\": [{\"v\": \"http://www.thegreenlife.ca/fr/salade-cremeuse-au-kale-peches-grillees-croutons-epices/\"}, {\"v\": 12882}]}, {\"c\": [{\"v\": \"http://www.thegreenlife.ca/mexican-chocolate-avocado-mousse-workshop-recap/\"}, {\"v\": 11646}]}, {\"c\": [{\"v\": \"http://www.thegreenlife.ca/fr/chocolat-chaud-red-velvet/\"}, {\"v\": 11555}]}, {\"c\": [{\"v\": \"http://www.motherthyme.com/2014/08/bread-pudding.html?utm_source=feedburner&utm_medium=email&utm_campaign=Feed:+motherthyme/BYjd+(Mother+Thyme)\"}, {\"v\": 11286}]}, {\"c\": [{\"v\": \"http://www.thegreenlife.ca/raw-eggnog-bliss-balls/\"}, {\"v\": 11260}]}, {\"c\": [{\"v\": \"https://www.tillamook.com/recipes/monster-muenster-panini.html\"}, {\"v\": 11081}]}, {\"c\": [{\"v\": \"http://www.thegreenlife.ca/fr/frites-de-patates-douces-sauce-au-tahini-et-aux-herbes/\"}, {\"v\": 11009}]}, {\"c\": [{\"v\": \"http://www.thegreenlife.ca/fr/barres-de-millet-souffle-tahini-sesame-et-figues/\"}, {\"v\": 10767}]}, {\"c\": [{\"v\": \"http://www.thegreenlife.ca/almond-cherry-cacao-nib-breakfast-cookies/\"}, {\"v\": 10436}]}, {\"c\": [{\"v\": \"http://cookingwithmammac.com/jumbo-fried-shrimp/\"}, {\"v\": 10169}]}, {\"c\": [{\"v\": \"http://www.thegreenlife.ca/fr/salade-tiede-de-quinoa-kale-courge-delicata-vinaigrette-balsamique-a-lorange/\"}, {\"v\": 10075}]}, {\"c\": [{\"v\": \"http://www.lifemadedelicious.ca/recipes/orange-french-toast-bake/fa814fd8-2fcf-4795-a02d-a6da15c91483\"}, {\"v\": 9826}]}, {\"c\": [{\"v\": \"https://www.duncanhines.com/recipes/brownies/jilltaylor86/red-velvet-fudge-brownies/?crlt.pid=camp.ulh2ZEV7dt8j\"}, {\"v\": 9745}]}, {\"c\": [{\"v\": \"https://www.tillamook.com/recipes/pupusas.html\"}, {\"v\": 9743}]}, {\"c\": [{\"v\": \"http://www.thegreenlife.ca/blueberry-hemp-swirl-smoothie/\"}, {\"v\": 9740}]}, {\"c\": [{\"v\": \"http://www.thegreenlife.ca/raspberry-chocolate-roasted-hazelnut-mini-tarts/\"}, {\"v\": 9727}]}, {\"c\": [{\"v\": \"https://www.duncanhines.com/recipes/cakes/turdra/earthquake-cake/\"}, {\"v\": 9672}]}, {\"c\": [{\"v\": \"https://www.duncanhines.com/recipes/cookies-bars/Duncan%20Hines%C2%AE/devils-food-fudge-cookies/\"}, {\"v\": 9644}]}, {\"c\": [{\"v\": \"http://www.erecipesearch.com/recipes/desserts/fruits-and-cornflakes-parfait/\"}, {\"v\": 9467}]}, {\"c\": [{\"v\": \"http://www.thegreenlife.ca/matcha-mint-cacao-milkshake/\"}, {\"v\": 8856}]}, {\"c\": [{\"v\": \"http://www.thegreenlife.ca/fr/sandwichs-creme-glacee-chocolat-biscuits-tahini/\"}, {\"v\": 8855}]}, {\"c\": [{\"v\": \"https://www.tillamook.com/recipes/the-godfather.html\"}, {\"v\": 8772}]}, {\"c\": [{\"v\": \"http://myrecipemagic.com/recipe/recipedetail/-sea-salt-caramel-mocha\"}, {\"v\": 8515}]}, {\"c\": [{\"v\": \"http://www.thegreenlife.ca/lemon-poppy-seed-waffles-blueberry-cashew-cream/\"}, {\"v\": 8449}]}], \"cols\": [{\"type\": \"string\", \"id\": \"url\", \"label\": \"url\"}, {\"type\": \"number\", \"id\": \"count_urls\", \"label\": \"count_urls\"}]},\n",
       "            {\n",
       "              pageSize: 25,\n",
       "              cssClassNames:  {\n",
       "                tableRow: 'gchart-table-row',\n",
       "                headerRow: 'gchart-table-headerrow',\n",
       "                oddTableRow: 'gchart-table-oddrow',\n",
       "                selectedTableRow: 'gchart-table-selectedrow',\n",
       "                hoverTableRow: 'gchart-table-hoverrow',\n",
       "                tableCell: 'gchart-table-cell',\n",
       "                headerCell: 'gchart-table-headercell',\n",
       "                rowNumberCell: 'gchart-table-rownumcell'\n",
       "              }\n",
       "            },\n",
       "            {source_index: 3, fields: 'url,count_urls', legacy: 'true'},\n",
       "            0,\n",
       "            1000);\n",
       "        }\n",
       "      );\n",
       "    </script>\n",
       "  "
      ],
      "text/plain": [
       "QueryResultsTable job_Pb5fDeg3g1z7cm1NesocpS-g6YHq"
      ]
     },
     "execution_count": 32,
     "metadata": {},
     "output_type": "execute_result"
    }
   ],
   "source": [
    "%%bigquery execute -q imported_recipes"
   ]
  },
  {
   "cell_type": "markdown",
   "metadata": {},
   "source": [
    "#### There's a final '/' in some URLs that should be removed."
   ]
  },
  {
   "cell_type": "code",
   "execution_count": 33,
   "metadata": {
    "collapsed": true
   },
   "outputs": [],
   "source": [
    "%%sql --module imported_recipes_no_final_slash\n",
    "SELECT url,\n",
    "CASE\n",
    "  WHEN RIGHT(url, 1) = '/' THEN LEFT(url, LENGTH(url)-1)\n",
    "  ELSE url\n",
    "END\n",
    "FROM [firebase-wellio:recipes.imported_recipes]\n",
    "WHERE url IS NOT NULL AND url <> '#'\n",
    "LIMIT 50"
   ]
  },
  {
   "cell_type": "code",
   "execution_count": 34,
   "metadata": {
    "collapsed": false
   },
   "outputs": [
    {
     "data": {
      "text/html": [
       "\n",
       "    <div class=\"bqtv\" id=\"5_151632176911\"><table><tr><th>url</th><th>f0_</th></tr><tr><td>http://fromaway.com/cooking/chicken-piccata-sandwiches-with-garlicky-spinach-on-garlic-bread</td><td>http://fromaway.com/cooking/chicken-piccata-sandwiches-with-garlicky-spinach-on-garlic-bread</td></tr><tr><td>http://www.feedyoursoul2.com/2017/05/asparagus-tater-tot-frittata.html</td><td>http://www.feedyoursoul2.com/2017/05/asparagus-tater-tot-frittata.html</td></tr><tr><td>http://www.diettaste.com/soups/beef-barley-soup.html</td><td>http://www.diettaste.com/soups/beef-barley-soup.html</td></tr><tr><td>http://www.food.com/recipe/crock-pot-beef-chili-493613</td><td>http://www.food.com/recipe/crock-pot-beef-chili-493613</td></tr><tr><td>https://happykitchen.rocks/spelt-whole-grain-bread/</td><td>https://happykitchen.rocks/spelt-whole-grain-bread</td></tr><tr><td>http://www.prevention.com/recipes/buttermilk-and-blueberry-pancakes</td><td>http://www.prevention.com/recipes/buttermilk-and-blueberry-pancakes</td></tr><tr><td>http://www.food.com/recipe/green-salsa-chicken-43057</td><td>http://www.food.com/recipe/green-salsa-chicken-43057</td></tr><tr><td>http://www.food.com/recipe/cream-of-wheat-to-die-for-520029</td><td>http://www.food.com/recipe/cream-of-wheat-to-die-for-520029</td></tr><tr><td>http://www.aheadofthyme.com/2015/12/lentil-stew-with-carrots-and-potatoes/</td><td>http://www.aheadofthyme.com/2015/12/lentil-stew-with-carrots-and-potatoes</td></tr><tr><td>http://relish.com/recipes/chicken-and-daikon-salad/</td><td>http://relish.com/recipes/chicken-and-daikon-salad</td></tr><tr><td>http://www.simplyrecipes.com/recipes/grandmas_zucchini_cake/</td><td>http://www.simplyrecipes.com/recipes/grandmas_zucchini_cake</td></tr><tr><td>http://www.mrshappyhomemaker.com/homemade-coffee-creamer-over-20-flavor-varieties/</td><td>http://www.mrshappyhomemaker.com/homemade-coffee-creamer-over-20-flavor-varieties</td></tr><tr><td>http://www.thechunkychef.com/takeout-style-spicy-cashew-chicken/</td><td>http://www.thechunkychef.com/takeout-style-spicy-cashew-chicken</td></tr><tr><td>http://www.food.com/recipe/sea-shell-shrimp-salad-112467</td><td>http://www.food.com/recipe/sea-shell-shrimp-salad-112467</td></tr><tr><td>http://www.taste.com.au/recipes/hazelnut-mocha-biscotti/39d6bb04-ec1d-4ac3-a414-89583545e27e</td><td>http://www.taste.com.au/recipes/hazelnut-mocha-biscotti/39d6bb04-ec1d-4ac3-a414-89583545e27e</td></tr><tr><td>http://passthesushi.com/cheesy-potato-frittata-a-secret-recipe/</td><td>http://passthesushi.com/cheesy-potato-frittata-a-secret-recipe</td></tr><tr><td>https://www.sugarandsoul.co/cheez-it-chicken-nuggets/</td><td>https://www.sugarandsoul.co/cheez-it-chicken-nuggets</td></tr><tr><td>http://lifeloveandgoodfood.com/rotisserie-chicken-roasted-veggies/</td><td>http://lifeloveandgoodfood.com/rotisserie-chicken-roasted-veggies</td></tr><tr><td>https://shewearsmanyhats.com/coconut-milk-baked-chicken-recipe/</td><td>https://shewearsmanyhats.com/coconut-milk-baked-chicken-recipe</td></tr><tr><td>http://www.epicurious.com/recipes/food/views/herby-black-rice-salad-with-radishes-and-ricotta-salata-56389760</td><td>http://www.epicurious.com/recipes/food/views/herby-black-rice-salad-with-radishes-and-ricotta-salata-56389760</td></tr><tr><td>http://www.foodnetwork.com/recipes/giada-de-laurentiis/hazelnut-chicken-3450001</td><td>http://www.foodnetwork.com/recipes/giada-de-laurentiis/hazelnut-chicken-3450001</td></tr><tr><td>http://www.forkknifeswoon.com/sweet-potato-and-quinoa-burgers-with-onion-and-blue-cheese</td><td>http://www.forkknifeswoon.com/sweet-potato-and-quinoa-burgers-with-onion-and-blue-cheese</td></tr><tr><td>http://www.seriouseats.com/recipes/2009/08/cook-the-book-shepherds-pie.html</td><td>http://www.seriouseats.com/recipes/2009/08/cook-the-book-shepherds-pie.html</td></tr><tr><td>http://www.food.com/recipe/italian-spiced-potatoes-223058</td><td>http://www.food.com/recipe/italian-spiced-potatoes-223058</td></tr><tr><td>http://www.food.com/recipe/white-cheese-dip-162460</td><td>http://www.food.com/recipe/white-cheese-dip-162460</td></tr></table></div>\n",
       "    <br />(rows: 50, time: 0.6s,   602MB processed, job: job_EF-gypU5E3TlQt2MTy6hc4zQYzHI)<br />\n",
       "    <script src=\"/static/components/requirejs/require.js\"></script>\n",
       "    <script>\n",
       "\n",
       "      require.config({\n",
       "        paths: {\n",
       "          base: '/static/base',\n",
       "          d3: '//cdnjs.cloudflare.com/ajax/libs/d3/3.4.13/d3',\n",
       "          plotly: 'https://cdn.plot.ly/plotly-1.5.1.min.js?noext',\n",
       "          jquery: '//ajax.googleapis.com/ajax/libs/jquery/2.0.0/jquery.min'\n",
       "        },\n",
       "        map: {\n",
       "          '*': {\n",
       "            datalab: 'nbextensions/gcpdatalab'\n",
       "          }\n",
       "        },\n",
       "        shim: {\n",
       "          plotly: {\n",
       "            deps: ['d3', 'jquery'],\n",
       "            exports: 'plotly'\n",
       "          }\n",
       "        }\n",
       "      });\n",
       "\n",
       "      require(['datalab/charting', 'datalab/element!5_151632176911', 'base/js/events',\n",
       "          'datalab/style!/nbextensions/gcpdatalab/charting.css'],\n",
       "        function(charts, dom, events) {\n",
       "          charts.render('gcharts', dom, events, 'paged_table', [], {\"rows\": [{\"c\": [{\"v\": \"http://fromaway.com/cooking/chicken-piccata-sandwiches-with-garlicky-spinach-on-garlic-bread\"}, {\"v\": \"http://fromaway.com/cooking/chicken-piccata-sandwiches-with-garlicky-spinach-on-garlic-bread\"}]}, {\"c\": [{\"v\": \"http://www.feedyoursoul2.com/2017/05/asparagus-tater-tot-frittata.html\"}, {\"v\": \"http://www.feedyoursoul2.com/2017/05/asparagus-tater-tot-frittata.html\"}]}, {\"c\": [{\"v\": \"http://www.diettaste.com/soups/beef-barley-soup.html\"}, {\"v\": \"http://www.diettaste.com/soups/beef-barley-soup.html\"}]}, {\"c\": [{\"v\": \"http://www.food.com/recipe/crock-pot-beef-chili-493613\"}, {\"v\": \"http://www.food.com/recipe/crock-pot-beef-chili-493613\"}]}, {\"c\": [{\"v\": \"https://happykitchen.rocks/spelt-whole-grain-bread/\"}, {\"v\": \"https://happykitchen.rocks/spelt-whole-grain-bread\"}]}, {\"c\": [{\"v\": \"http://www.prevention.com/recipes/buttermilk-and-blueberry-pancakes\"}, {\"v\": \"http://www.prevention.com/recipes/buttermilk-and-blueberry-pancakes\"}]}, {\"c\": [{\"v\": \"http://www.food.com/recipe/green-salsa-chicken-43057\"}, {\"v\": \"http://www.food.com/recipe/green-salsa-chicken-43057\"}]}, {\"c\": [{\"v\": \"http://www.food.com/recipe/cream-of-wheat-to-die-for-520029\"}, {\"v\": \"http://www.food.com/recipe/cream-of-wheat-to-die-for-520029\"}]}, {\"c\": [{\"v\": \"http://www.aheadofthyme.com/2015/12/lentil-stew-with-carrots-and-potatoes/\"}, {\"v\": \"http://www.aheadofthyme.com/2015/12/lentil-stew-with-carrots-and-potatoes\"}]}, {\"c\": [{\"v\": \"http://relish.com/recipes/chicken-and-daikon-salad/\"}, {\"v\": \"http://relish.com/recipes/chicken-and-daikon-salad\"}]}, {\"c\": [{\"v\": \"http://www.simplyrecipes.com/recipes/grandmas_zucchini_cake/\"}, {\"v\": \"http://www.simplyrecipes.com/recipes/grandmas_zucchini_cake\"}]}, {\"c\": [{\"v\": \"http://www.mrshappyhomemaker.com/homemade-coffee-creamer-over-20-flavor-varieties/\"}, {\"v\": \"http://www.mrshappyhomemaker.com/homemade-coffee-creamer-over-20-flavor-varieties\"}]}, {\"c\": [{\"v\": \"http://www.thechunkychef.com/takeout-style-spicy-cashew-chicken/\"}, {\"v\": \"http://www.thechunkychef.com/takeout-style-spicy-cashew-chicken\"}]}, {\"c\": [{\"v\": \"http://www.food.com/recipe/sea-shell-shrimp-salad-112467\"}, {\"v\": \"http://www.food.com/recipe/sea-shell-shrimp-salad-112467\"}]}, {\"c\": [{\"v\": \"http://www.taste.com.au/recipes/hazelnut-mocha-biscotti/39d6bb04-ec1d-4ac3-a414-89583545e27e\"}, {\"v\": \"http://www.taste.com.au/recipes/hazelnut-mocha-biscotti/39d6bb04-ec1d-4ac3-a414-89583545e27e\"}]}, {\"c\": [{\"v\": \"http://passthesushi.com/cheesy-potato-frittata-a-secret-recipe/\"}, {\"v\": \"http://passthesushi.com/cheesy-potato-frittata-a-secret-recipe\"}]}, {\"c\": [{\"v\": \"https://www.sugarandsoul.co/cheez-it-chicken-nuggets/\"}, {\"v\": \"https://www.sugarandsoul.co/cheez-it-chicken-nuggets\"}]}, {\"c\": [{\"v\": \"http://lifeloveandgoodfood.com/rotisserie-chicken-roasted-veggies/\"}, {\"v\": \"http://lifeloveandgoodfood.com/rotisserie-chicken-roasted-veggies\"}]}, {\"c\": [{\"v\": \"https://shewearsmanyhats.com/coconut-milk-baked-chicken-recipe/\"}, {\"v\": \"https://shewearsmanyhats.com/coconut-milk-baked-chicken-recipe\"}]}, {\"c\": [{\"v\": \"http://www.epicurious.com/recipes/food/views/herby-black-rice-salad-with-radishes-and-ricotta-salata-56389760\"}, {\"v\": \"http://www.epicurious.com/recipes/food/views/herby-black-rice-salad-with-radishes-and-ricotta-salata-56389760\"}]}, {\"c\": [{\"v\": \"http://www.foodnetwork.com/recipes/giada-de-laurentiis/hazelnut-chicken-3450001\"}, {\"v\": \"http://www.foodnetwork.com/recipes/giada-de-laurentiis/hazelnut-chicken-3450001\"}]}, {\"c\": [{\"v\": \"http://www.forkknifeswoon.com/sweet-potato-and-quinoa-burgers-with-onion-and-blue-cheese\"}, {\"v\": \"http://www.forkknifeswoon.com/sweet-potato-and-quinoa-burgers-with-onion-and-blue-cheese\"}]}, {\"c\": [{\"v\": \"http://www.seriouseats.com/recipes/2009/08/cook-the-book-shepherds-pie.html\"}, {\"v\": \"http://www.seriouseats.com/recipes/2009/08/cook-the-book-shepherds-pie.html\"}]}, {\"c\": [{\"v\": \"http://www.food.com/recipe/italian-spiced-potatoes-223058\"}, {\"v\": \"http://www.food.com/recipe/italian-spiced-potatoes-223058\"}]}, {\"c\": [{\"v\": \"http://www.food.com/recipe/white-cheese-dip-162460\"}, {\"v\": \"http://www.food.com/recipe/white-cheese-dip-162460\"}]}], \"cols\": [{\"type\": \"string\", \"id\": \"url\", \"label\": \"url\"}, {\"type\": \"string\", \"id\": \"f0_\", \"label\": \"f0_\"}]},\n",
       "            {\n",
       "              pageSize: 25,\n",
       "              cssClassNames:  {\n",
       "                tableRow: 'gchart-table-row',\n",
       "                headerRow: 'gchart-table-headerrow',\n",
       "                oddTableRow: 'gchart-table-oddrow',\n",
       "                selectedTableRow: 'gchart-table-selectedrow',\n",
       "                hoverTableRow: 'gchart-table-hoverrow',\n",
       "                tableCell: 'gchart-table-cell',\n",
       "                headerCell: 'gchart-table-headercell',\n",
       "                rowNumberCell: 'gchart-table-rownumcell'\n",
       "              }\n",
       "            },\n",
       "            {source_index: 4, fields: 'url,f0_', legacy: 'true'},\n",
       "            0,\n",
       "            50);\n",
       "        }\n",
       "      );\n",
       "    </script>\n",
       "  "
      ],
      "text/plain": [
       "QueryResultsTable job_EF-gypU5E3TlQt2MTy6hc4zQYzHI"
      ]
     },
     "execution_count": 34,
     "metadata": {},
     "output_type": "execute_result"
    }
   ],
   "source": [
    "%%bigquery execute -q imported_recipes_no_final_slash"
   ]
  },
  {
   "cell_type": "markdown",
   "metadata": {},
   "source": [
    "### Unfortunately, when we try to run above for the entire table, we get:"
   ]
  },
  {
   "cell_type": "markdown",
   "metadata": {},
   "source": [
    "#### `HTTP request failed: Response too large to return. Consider setting allowLargeResults to true in your job configuration. For more information, see https://cloud.google.com/bigquery/troubleshooting-errors`"
   ]
  },
  {
   "cell_type": "markdown",
   "metadata": {},
   "source": [
    "### So we need to export into a pandas dataframe and handle it there."
   ]
  },
  {
   "cell_type": "code",
   "execution_count": 35,
   "metadata": {
    "collapsed": false
   },
   "outputs": [],
   "source": [
    "imported_recipes_sites_df = bq.Query(imported_recipes).to_dataframe()"
   ]
  },
  {
   "cell_type": "code",
   "execution_count": 36,
   "metadata": {
    "collapsed": true
   },
   "outputs": [],
   "source": [
    "del imported_recipes_sites_df['count_urls']"
   ]
  },
  {
   "cell_type": "code",
   "execution_count": 37,
   "metadata": {
    "collapsed": false
   },
   "outputs": [
    {
     "data": {
      "text/html": [
       "<div>\n",
       "<style scoped>\n",
       "    .dataframe tbody tr th:only-of-type {\n",
       "        vertical-align: middle;\n",
       "    }\n",
       "\n",
       "    .dataframe tbody tr th {\n",
       "        vertical-align: top;\n",
       "    }\n",
       "\n",
       "    .dataframe thead th {\n",
       "        text-align: right;\n",
       "    }\n",
       "</style>\n",
       "<table border=\"1\" class=\"dataframe\">\n",
       "  <thead>\n",
       "    <tr style=\"text-align: right;\">\n",
       "      <th></th>\n",
       "      <th>url</th>\n",
       "    </tr>\n",
       "  </thead>\n",
       "  <tbody>\n",
       "    <tr>\n",
       "      <th>0</th>\n",
       "      <td>https://www.duncanhines.com/recipes/brownies/jilltaylor86/red-velvet-fudge-brownies/</td>\n",
       "    </tr>\n",
       "    <tr>\n",
       "      <th>1</th>\n",
       "      <td>http://www.thegreenlife.ca/fr/salade-cremeuse-au-kale-peches-grillees-croutons-epices/</td>\n",
       "    </tr>\n",
       "    <tr>\n",
       "      <th>2</th>\n",
       "      <td>http://www.thegreenlife.ca/mexican-chocolate-avocado-mousse-workshop-recap/</td>\n",
       "    </tr>\n",
       "    <tr>\n",
       "      <th>3</th>\n",
       "      <td>http://www.thegreenlife.ca/fr/chocolat-chaud-red-velvet/</td>\n",
       "    </tr>\n",
       "    <tr>\n",
       "      <th>4</th>\n",
       "      <td>http://www.motherthyme.com/2014/08/bread-pudding.html?utm_source=feedburner&amp;utm_medium=email&amp;utm_campaign=Feed:+motherthyme/BYjd+(Mother+Thyme)</td>\n",
       "    </tr>\n",
       "  </tbody>\n",
       "</table>\n",
       "</div>"
      ],
      "text/plain": [
       "                                                                                                                                               url\n",
       "0  https://www.duncanhines.com/recipes/brownies/jilltaylor86/red-velvet-fudge-brownies/                                                           \n",
       "1  http://www.thegreenlife.ca/fr/salade-cremeuse-au-kale-peches-grillees-croutons-epices/                                                         \n",
       "2  http://www.thegreenlife.ca/mexican-chocolate-avocado-mousse-workshop-recap/                                                                    \n",
       "3  http://www.thegreenlife.ca/fr/chocolat-chaud-red-velvet/                                                                                       \n",
       "4  http://www.motherthyme.com/2014/08/bread-pudding.html?utm_source=feedburner&utm_medium=email&utm_campaign=Feed:+motherthyme/BYjd+(Mother+Thyme)"
      ]
     },
     "execution_count": 37,
     "metadata": {},
     "output_type": "execute_result"
    }
   ],
   "source": [
    "imported_recipes_sites_df.head()"
   ]
  },
  {
   "cell_type": "code",
   "execution_count": 38,
   "metadata": {
    "collapsed": false
   },
   "outputs": [
    {
     "data": {
      "text/plain": [
       "(1000, 1)"
      ]
     },
     "execution_count": 38,
     "metadata": {},
     "output_type": "execute_result"
    }
   ],
   "source": [
    "imported_recipes_sites_df.shape"
   ]
  },
  {
   "cell_type": "code",
   "execution_count": 39,
   "metadata": {
    "collapsed": false
   },
   "outputs": [
    {
     "data": {
      "text/plain": [
       "(1000, 1)"
      ]
     },
     "execution_count": 39,
     "metadata": {},
     "output_type": "execute_result"
    }
   ],
   "source": [
    "imported_recipes_sites_df.drop_duplicates().shape"
   ]
  },
  {
   "cell_type": "markdown",
   "metadata": {},
   "source": [
    "### Removing final '/' in URL if present:"
   ]
  },
  {
   "cell_type": "code",
   "execution_count": 40,
   "metadata": {
    "collapsed": false
   },
   "outputs": [],
   "source": [
    "def remove_final_slash(my_dataframe_series):\n",
    "  '''\n",
    "  Some URLs contain a final /, so we remove it if present.\n",
    "  '''\n",
    "  if my_dataframe_series[-1] == '/':\n",
    "    final_series = my_dataframe_series[0:len(my_dataframe_series)-1]\n",
    "  else:\n",
    "    final_series = my_dataframe_series\n",
    "  return final_series"
   ]
  },
  {
   "cell_type": "code",
   "execution_count": 41,
   "metadata": {
    "collapsed": true
   },
   "outputs": [],
   "source": [
    "imported_recipes_sites_df['recipe'] = imported_recipes_sites_df['url'][:5].apply(remove_final_slash)"
   ]
  },
  {
   "cell_type": "code",
   "execution_count": 42,
   "metadata": {
    "collapsed": false
   },
   "outputs": [
    {
     "data": {
      "text/html": [
       "<div>\n",
       "<style scoped>\n",
       "    .dataframe tbody tr th:only-of-type {\n",
       "        vertical-align: middle;\n",
       "    }\n",
       "\n",
       "    .dataframe tbody tr th {\n",
       "        vertical-align: top;\n",
       "    }\n",
       "\n",
       "    .dataframe thead th {\n",
       "        text-align: right;\n",
       "    }\n",
       "</style>\n",
       "<table border=\"1\" class=\"dataframe\">\n",
       "  <thead>\n",
       "    <tr style=\"text-align: right;\">\n",
       "      <th></th>\n",
       "      <th>url</th>\n",
       "      <th>recipe</th>\n",
       "    </tr>\n",
       "  </thead>\n",
       "  <tbody>\n",
       "    <tr>\n",
       "      <th>0</th>\n",
       "      <td>https://www.duncanhines.com/recipes/brownies/jilltaylor86/red-velvet-fudge-brownies/</td>\n",
       "      <td>https://www.duncanhines.com/recipes/brownies/jilltaylor86/red-velvet-fudge-brownies</td>\n",
       "    </tr>\n",
       "    <tr>\n",
       "      <th>1</th>\n",
       "      <td>http://www.thegreenlife.ca/fr/salade-cremeuse-au-kale-peches-grillees-croutons-epices/</td>\n",
       "      <td>http://www.thegreenlife.ca/fr/salade-cremeuse-au-kale-peches-grillees-croutons-epices</td>\n",
       "    </tr>\n",
       "    <tr>\n",
       "      <th>2</th>\n",
       "      <td>http://www.thegreenlife.ca/mexican-chocolate-avocado-mousse-workshop-recap/</td>\n",
       "      <td>http://www.thegreenlife.ca/mexican-chocolate-avocado-mousse-workshop-recap</td>\n",
       "    </tr>\n",
       "    <tr>\n",
       "      <th>3</th>\n",
       "      <td>http://www.thegreenlife.ca/fr/chocolat-chaud-red-velvet/</td>\n",
       "      <td>http://www.thegreenlife.ca/fr/chocolat-chaud-red-velvet</td>\n",
       "    </tr>\n",
       "    <tr>\n",
       "      <th>4</th>\n",
       "      <td>http://www.motherthyme.com/2014/08/bread-pudding.html?utm_source=feedburner&amp;utm_medium=email&amp;utm_campaign=Feed:+motherthyme/BYjd+(Mother+Thyme)</td>\n",
       "      <td>http://www.motherthyme.com/2014/08/bread-pudding.html?utm_source=feedburner&amp;utm_medium=email&amp;utm_campaign=Feed:+motherthyme/BYjd+(Mother+Thyme)</td>\n",
       "    </tr>\n",
       "  </tbody>\n",
       "</table>\n",
       "</div>"
      ],
      "text/plain": [
       "                                                                                                                                               url  \\\n",
       "0  https://www.duncanhines.com/recipes/brownies/jilltaylor86/red-velvet-fudge-brownies/                                                              \n",
       "1  http://www.thegreenlife.ca/fr/salade-cremeuse-au-kale-peches-grillees-croutons-epices/                                                            \n",
       "2  http://www.thegreenlife.ca/mexican-chocolate-avocado-mousse-workshop-recap/                                                                       \n",
       "3  http://www.thegreenlife.ca/fr/chocolat-chaud-red-velvet/                                                                                          \n",
       "4  http://www.motherthyme.com/2014/08/bread-pudding.html?utm_source=feedburner&utm_medium=email&utm_campaign=Feed:+motherthyme/BYjd+(Mother+Thyme)   \n",
       "\n",
       "                                                                                                                                            recipe  \n",
       "0  https://www.duncanhines.com/recipes/brownies/jilltaylor86/red-velvet-fudge-brownies                                                              \n",
       "1  http://www.thegreenlife.ca/fr/salade-cremeuse-au-kale-peches-grillees-croutons-epices                                                            \n",
       "2  http://www.thegreenlife.ca/mexican-chocolate-avocado-mousse-workshop-recap                                                                       \n",
       "3  http://www.thegreenlife.ca/fr/chocolat-chaud-red-velvet                                                                                          \n",
       "4  http://www.motherthyme.com/2014/08/bread-pudding.html?utm_source=feedburner&utm_medium=email&utm_campaign=Feed:+motherthyme/BYjd+(Mother+Thyme)  "
      ]
     },
     "execution_count": 42,
     "metadata": {},
     "output_type": "execute_result"
    }
   ],
   "source": [
    "imported_recipes_sites_df.head()"
   ]
  },
  {
   "cell_type": "code",
   "execution_count": 43,
   "metadata": {
    "collapsed": false
   },
   "outputs": [],
   "source": [
    "imported_recipes_sites_df['recipe'] = imported_recipes_sites_df['url'].apply(remove_final_slash)"
   ]
  },
  {
   "cell_type": "code",
   "execution_count": 44,
   "metadata": {
    "collapsed": false
   },
   "outputs": [
    {
     "data": {
      "text/html": [
       "<div>\n",
       "<style scoped>\n",
       "    .dataframe tbody tr th:only-of-type {\n",
       "        vertical-align: middle;\n",
       "    }\n",
       "\n",
       "    .dataframe tbody tr th {\n",
       "        vertical-align: top;\n",
       "    }\n",
       "\n",
       "    .dataframe thead th {\n",
       "        text-align: right;\n",
       "    }\n",
       "</style>\n",
       "<table border=\"1\" class=\"dataframe\">\n",
       "  <thead>\n",
       "    <tr style=\"text-align: right;\">\n",
       "      <th></th>\n",
       "      <th>url</th>\n",
       "      <th>recipe</th>\n",
       "    </tr>\n",
       "  </thead>\n",
       "  <tbody>\n",
       "    <tr>\n",
       "      <th>995</th>\n",
       "      <td>http://preventionrd.com/2017/06/peanut-sesame-noodles-with-chicken-and-veggies/</td>\n",
       "      <td>http://preventionrd.com/2017/06/peanut-sesame-noodles-with-chicken-and-veggies</td>\n",
       "    </tr>\n",
       "    <tr>\n",
       "      <th>996</th>\n",
       "      <td>http://thegirlonbloor.com/lemongrass-steak-noodle-bowls/</td>\n",
       "      <td>http://thegirlonbloor.com/lemongrass-steak-noodle-bowls</td>\n",
       "    </tr>\n",
       "    <tr>\n",
       "      <th>997</th>\n",
       "      <td>http://allrecipes.com/recipe/76129/spinach-tomato-tortellini/</td>\n",
       "      <td>http://allrecipes.com/recipe/76129/spinach-tomato-tortellini</td>\n",
       "    </tr>\n",
       "    <tr>\n",
       "      <th>998</th>\n",
       "      <td>http://www.food.com/recipe/italian-lemon-cauliflower-79873</td>\n",
       "      <td>http://www.food.com/recipe/italian-lemon-cauliflower-79873</td>\n",
       "    </tr>\n",
       "    <tr>\n",
       "      <th>999</th>\n",
       "      <td>http://www.food.com/recipe/chicken-risotto-soup-213266</td>\n",
       "      <td>http://www.food.com/recipe/chicken-risotto-soup-213266</td>\n",
       "    </tr>\n",
       "  </tbody>\n",
       "</table>\n",
       "</div>"
      ],
      "text/plain": [
       "                                                                                 url  \\\n",
       "995  http://preventionrd.com/2017/06/peanut-sesame-noodles-with-chicken-and-veggies/   \n",
       "996  http://thegirlonbloor.com/lemongrass-steak-noodle-bowls/                          \n",
       "997  http://allrecipes.com/recipe/76129/spinach-tomato-tortellini/                     \n",
       "998  http://www.food.com/recipe/italian-lemon-cauliflower-79873                        \n",
       "999  http://www.food.com/recipe/chicken-risotto-soup-213266                            \n",
       "\n",
       "                                                                             recipe  \n",
       "995  http://preventionrd.com/2017/06/peanut-sesame-noodles-with-chicken-and-veggies  \n",
       "996  http://thegirlonbloor.com/lemongrass-steak-noodle-bowls                         \n",
       "997  http://allrecipes.com/recipe/76129/spinach-tomato-tortellini                    \n",
       "998  http://www.food.com/recipe/italian-lemon-cauliflower-79873                      \n",
       "999  http://www.food.com/recipe/chicken-risotto-soup-213266                          "
      ]
     },
     "execution_count": 44,
     "metadata": {},
     "output_type": "execute_result"
    }
   ],
   "source": [
    "imported_recipes_sites_df.tail()"
   ]
  },
  {
   "cell_type": "markdown",
   "metadata": {},
   "source": [
    "### If there's an URL which contains some Google Ad code, we remove it. For example:\n",
    "### `http://www.motherthyme.com/2014/08/bread-pudding.html?utm_source=feedburner&utm_medium=email&utm_campaign=Feed:+motherthyme/BYjd+(Mother+Thyme`"
   ]
  },
  {
   "cell_type": "code",
   "execution_count": 45,
   "metadata": {
    "collapsed": true
   },
   "outputs": [],
   "source": [
    "def remove_utm(my_dataframe_series):\n",
    "  '''\n",
    "  This function removes Google Ad Words code from the URL, which is identified by ?utm_source= if present.\n",
    "  '''\n",
    "  if '?utm_source=' in my_dataframe_series:\n",
    "    utm_index = my_dataframe_series.index('?utm_source=')\n",
    "    final_series = my_dataframe_series[0:utm_index]\n",
    "  else:\n",
    "    final_series = my_dataframe_series\n",
    "  return final_series"
   ]
  },
  {
   "cell_type": "code",
   "execution_count": 46,
   "metadata": {
    "collapsed": false
   },
   "outputs": [],
   "source": [
    "imported_recipes_sites_df['recipe'] = imported_recipes_sites_df['recipe'].apply(remove_utm)"
   ]
  },
  {
   "cell_type": "code",
   "execution_count": 47,
   "metadata": {
    "collapsed": false
   },
   "outputs": [],
   "source": [
    "imported_recipes_sites_df['final_recipe'] = imported_recipes_sites_df['recipe'].apply(find_index_char_hard_coded)"
   ]
  },
  {
   "cell_type": "code",
   "execution_count": 48,
   "metadata": {
    "collapsed": false
   },
   "outputs": [
    {
     "data": {
      "text/html": [
       "<div>\n",
       "<style scoped>\n",
       "    .dataframe tbody tr th:only-of-type {\n",
       "        vertical-align: middle;\n",
       "    }\n",
       "\n",
       "    .dataframe tbody tr th {\n",
       "        vertical-align: top;\n",
       "    }\n",
       "\n",
       "    .dataframe thead th {\n",
       "        text-align: right;\n",
       "    }\n",
       "</style>\n",
       "<table border=\"1\" class=\"dataframe\">\n",
       "  <thead>\n",
       "    <tr style=\"text-align: right;\">\n",
       "      <th></th>\n",
       "      <th>url</th>\n",
       "      <th>recipe</th>\n",
       "      <th>final_recipe</th>\n",
       "    </tr>\n",
       "  </thead>\n",
       "  <tbody>\n",
       "    <tr>\n",
       "      <th>995</th>\n",
       "      <td>http://preventionrd.com/2017/06/peanut-sesame-noodles-with-chicken-and-veggies/</td>\n",
       "      <td>http://preventionrd.com/2017/06/peanut-sesame-noodles-with-chicken-and-veggies</td>\n",
       "      <td>/peanut-sesame-noodles-with-chicken-and-veggies</td>\n",
       "    </tr>\n",
       "    <tr>\n",
       "      <th>996</th>\n",
       "      <td>http://thegirlonbloor.com/lemongrass-steak-noodle-bowls/</td>\n",
       "      <td>http://thegirlonbloor.com/lemongrass-steak-noodle-bowls</td>\n",
       "      <td>/lemongrass-steak-noodle-bowls</td>\n",
       "    </tr>\n",
       "    <tr>\n",
       "      <th>997</th>\n",
       "      <td>http://allrecipes.com/recipe/76129/spinach-tomato-tortellini/</td>\n",
       "      <td>http://allrecipes.com/recipe/76129/spinach-tomato-tortellini</td>\n",
       "      <td>/spinach-tomato-tortellini</td>\n",
       "    </tr>\n",
       "    <tr>\n",
       "      <th>998</th>\n",
       "      <td>http://www.food.com/recipe/italian-lemon-cauliflower-79873</td>\n",
       "      <td>http://www.food.com/recipe/italian-lemon-cauliflower-79873</td>\n",
       "      <td>/italian-lemon-cauliflower-79873</td>\n",
       "    </tr>\n",
       "    <tr>\n",
       "      <th>999</th>\n",
       "      <td>http://www.food.com/recipe/chicken-risotto-soup-213266</td>\n",
       "      <td>http://www.food.com/recipe/chicken-risotto-soup-213266</td>\n",
       "      <td>/chicken-risotto-soup-213266</td>\n",
       "    </tr>\n",
       "  </tbody>\n",
       "</table>\n",
       "</div>"
      ],
      "text/plain": [
       "                                                                                 url  \\\n",
       "995  http://preventionrd.com/2017/06/peanut-sesame-noodles-with-chicken-and-veggies/   \n",
       "996  http://thegirlonbloor.com/lemongrass-steak-noodle-bowls/                          \n",
       "997  http://allrecipes.com/recipe/76129/spinach-tomato-tortellini/                     \n",
       "998  http://www.food.com/recipe/italian-lemon-cauliflower-79873                        \n",
       "999  http://www.food.com/recipe/chicken-risotto-soup-213266                            \n",
       "\n",
       "                                                                             recipe  \\\n",
       "995  http://preventionrd.com/2017/06/peanut-sesame-noodles-with-chicken-and-veggies   \n",
       "996  http://thegirlonbloor.com/lemongrass-steak-noodle-bowls                          \n",
       "997  http://allrecipes.com/recipe/76129/spinach-tomato-tortellini                     \n",
       "998  http://www.food.com/recipe/italian-lemon-cauliflower-79873                       \n",
       "999  http://www.food.com/recipe/chicken-risotto-soup-213266                           \n",
       "\n",
       "                                        final_recipe  \n",
       "995  /peanut-sesame-noodles-with-chicken-and-veggies  \n",
       "996  /lemongrass-steak-noodle-bowls                   \n",
       "997  /spinach-tomato-tortellini                       \n",
       "998  /italian-lemon-cauliflower-79873                 \n",
       "999  /chicken-risotto-soup-213266                     "
      ]
     },
     "execution_count": 48,
     "metadata": {},
     "output_type": "execute_result"
    }
   ],
   "source": [
    "imported_recipes_sites_df.tail()"
   ]
  },
  {
   "cell_type": "markdown",
   "metadata": {},
   "source": [
    "### We have different domains: .com, .ca..."
   ]
  },
  {
   "cell_type": "code",
   "execution_count": 49,
   "metadata": {
    "collapsed": true
   },
   "outputs": [],
   "source": [
    "def find_index_char_hard_coded_first(my_dataframe_element):\n",
    "  '''\n",
    "  This function returns a substring. We provide a column from a dataframe, represented by variable my_dataframe_element,\n",
    "  and we find all the index positions of a hardcoded character (which is / in this case) in such element.\n",
    "  This will create a list of all the indices of such character (if more than 1 is found) in the dataframe element, which is \n",
    "  represented by the variable list_of_positions. If we want to return the first position of such character, we would return \n",
    "  list_of_positions[0]\n",
    "  In this case, we will return the sliced element starting at the first index position of the provided character we are interested.\n",
    "  '''\n",
    "  list_of_positions = [pos for pos, char in enumerate(my_dataframe_element) if char == '/']\n",
    "  if 'http' or 'https' in my_dataframe_element:\n",
    "    return my_dataframe_element[0:list_of_positions[2]]"
   ]
  },
  {
   "cell_type": "code",
   "execution_count": 50,
   "metadata": {
    "collapsed": false
   },
   "outputs": [],
   "source": [
    "imported_recipes_sites_df['recipe_domain'] = imported_recipes_sites_df['url'].apply(find_index_char_hard_coded_first)"
   ]
  },
  {
   "cell_type": "code",
   "execution_count": 51,
   "metadata": {
    "collapsed": false
   },
   "outputs": [
    {
     "data": {
      "text/html": [
       "<div>\n",
       "<style scoped>\n",
       "    .dataframe tbody tr th:only-of-type {\n",
       "        vertical-align: middle;\n",
       "    }\n",
       "\n",
       "    .dataframe tbody tr th {\n",
       "        vertical-align: top;\n",
       "    }\n",
       "\n",
       "    .dataframe thead th {\n",
       "        text-align: right;\n",
       "    }\n",
       "</style>\n",
       "<table border=\"1\" class=\"dataframe\">\n",
       "  <thead>\n",
       "    <tr style=\"text-align: right;\">\n",
       "      <th></th>\n",
       "      <th>url</th>\n",
       "      <th>recipe</th>\n",
       "      <th>final_recipe</th>\n",
       "      <th>recipe_domain</th>\n",
       "    </tr>\n",
       "  </thead>\n",
       "  <tbody>\n",
       "    <tr>\n",
       "      <th>0</th>\n",
       "      <td>https://www.duncanhines.com/recipes/brownies/jilltaylor86/red-velvet-fudge-brownies/</td>\n",
       "      <td>https://www.duncanhines.com/recipes/brownies/jilltaylor86/red-velvet-fudge-brownies</td>\n",
       "      <td>/red-velvet-fudge-brownies</td>\n",
       "      <td>https://www.duncanhines.com</td>\n",
       "    </tr>\n",
       "    <tr>\n",
       "      <th>1</th>\n",
       "      <td>http://www.thegreenlife.ca/fr/salade-cremeuse-au-kale-peches-grillees-croutons-epices/</td>\n",
       "      <td>http://www.thegreenlife.ca/fr/salade-cremeuse-au-kale-peches-grillees-croutons-epices</td>\n",
       "      <td>/salade-cremeuse-au-kale-peches-grillees-croutons-epices</td>\n",
       "      <td>http://www.thegreenlife.ca</td>\n",
       "    </tr>\n",
       "    <tr>\n",
       "      <th>2</th>\n",
       "      <td>http://www.thegreenlife.ca/mexican-chocolate-avocado-mousse-workshop-recap/</td>\n",
       "      <td>http://www.thegreenlife.ca/mexican-chocolate-avocado-mousse-workshop-recap</td>\n",
       "      <td>/mexican-chocolate-avocado-mousse-workshop-recap</td>\n",
       "      <td>http://www.thegreenlife.ca</td>\n",
       "    </tr>\n",
       "    <tr>\n",
       "      <th>3</th>\n",
       "      <td>http://www.thegreenlife.ca/fr/chocolat-chaud-red-velvet/</td>\n",
       "      <td>http://www.thegreenlife.ca/fr/chocolat-chaud-red-velvet</td>\n",
       "      <td>/chocolat-chaud-red-velvet</td>\n",
       "      <td>http://www.thegreenlife.ca</td>\n",
       "    </tr>\n",
       "    <tr>\n",
       "      <th>4</th>\n",
       "      <td>http://www.motherthyme.com/2014/08/bread-pudding.html?utm_source=feedburner&amp;utm_medium=email&amp;utm_campaign=Feed:+motherthyme/BYjd+(Mother+Thyme)</td>\n",
       "      <td>http://www.motherthyme.com/2014/08/bread-pudding.html</td>\n",
       "      <td>/bread-pudding.html</td>\n",
       "      <td>http://www.motherthyme.com</td>\n",
       "    </tr>\n",
       "  </tbody>\n",
       "</table>\n",
       "</div>"
      ],
      "text/plain": [
       "                                                                                                                                               url  \\\n",
       "0  https://www.duncanhines.com/recipes/brownies/jilltaylor86/red-velvet-fudge-brownies/                                                              \n",
       "1  http://www.thegreenlife.ca/fr/salade-cremeuse-au-kale-peches-grillees-croutons-epices/                                                            \n",
       "2  http://www.thegreenlife.ca/mexican-chocolate-avocado-mousse-workshop-recap/                                                                       \n",
       "3  http://www.thegreenlife.ca/fr/chocolat-chaud-red-velvet/                                                                                          \n",
       "4  http://www.motherthyme.com/2014/08/bread-pudding.html?utm_source=feedburner&utm_medium=email&utm_campaign=Feed:+motherthyme/BYjd+(Mother+Thyme)   \n",
       "\n",
       "                                                                                  recipe  \\\n",
       "0  https://www.duncanhines.com/recipes/brownies/jilltaylor86/red-velvet-fudge-brownies     \n",
       "1  http://www.thegreenlife.ca/fr/salade-cremeuse-au-kale-peches-grillees-croutons-epices   \n",
       "2  http://www.thegreenlife.ca/mexican-chocolate-avocado-mousse-workshop-recap              \n",
       "3  http://www.thegreenlife.ca/fr/chocolat-chaud-red-velvet                                 \n",
       "4  http://www.motherthyme.com/2014/08/bread-pudding.html                                   \n",
       "\n",
       "                                               final_recipe  \\\n",
       "0  /red-velvet-fudge-brownies                                 \n",
       "1  /salade-cremeuse-au-kale-peches-grillees-croutons-epices   \n",
       "2  /mexican-chocolate-avocado-mousse-workshop-recap           \n",
       "3  /chocolat-chaud-red-velvet                                 \n",
       "4  /bread-pudding.html                                        \n",
       "\n",
       "                 recipe_domain  \n",
       "0  https://www.duncanhines.com  \n",
       "1  http://www.thegreenlife.ca   \n",
       "2  http://www.thegreenlife.ca   \n",
       "3  http://www.thegreenlife.ca   \n",
       "4  http://www.motherthyme.com   "
      ]
     },
     "execution_count": 51,
     "metadata": {},
     "output_type": "execute_result"
    }
   ],
   "source": [
    "imported_recipes_sites_df.head()"
   ]
  },
  {
   "cell_type": "code",
   "execution_count": 52,
   "metadata": {
    "collapsed": false
   },
   "outputs": [
    {
     "data": {
      "text/html": [
       "<div>\n",
       "<style scoped>\n",
       "    .dataframe tbody tr th:only-of-type {\n",
       "        vertical-align: middle;\n",
       "    }\n",
       "\n",
       "    .dataframe tbody tr th {\n",
       "        vertical-align: top;\n",
       "    }\n",
       "\n",
       "    .dataframe thead th {\n",
       "        text-align: right;\n",
       "    }\n",
       "</style>\n",
       "<table border=\"1\" class=\"dataframe\">\n",
       "  <thead>\n",
       "    <tr style=\"text-align: right;\">\n",
       "      <th></th>\n",
       "      <th>url</th>\n",
       "      <th>recipe</th>\n",
       "      <th>final_recipe</th>\n",
       "      <th>recipe_domain</th>\n",
       "    </tr>\n",
       "  </thead>\n",
       "  <tbody>\n",
       "    <tr>\n",
       "      <th>995</th>\n",
       "      <td>http://preventionrd.com/2017/06/peanut-sesame-noodles-with-chicken-and-veggies/</td>\n",
       "      <td>http://preventionrd.com/2017/06/peanut-sesame-noodles-with-chicken-and-veggies</td>\n",
       "      <td>/peanut-sesame-noodles-with-chicken-and-veggies</td>\n",
       "      <td>http://preventionrd.com</td>\n",
       "    </tr>\n",
       "    <tr>\n",
       "      <th>996</th>\n",
       "      <td>http://thegirlonbloor.com/lemongrass-steak-noodle-bowls/</td>\n",
       "      <td>http://thegirlonbloor.com/lemongrass-steak-noodle-bowls</td>\n",
       "      <td>/lemongrass-steak-noodle-bowls</td>\n",
       "      <td>http://thegirlonbloor.com</td>\n",
       "    </tr>\n",
       "    <tr>\n",
       "      <th>997</th>\n",
       "      <td>http://allrecipes.com/recipe/76129/spinach-tomato-tortellini/</td>\n",
       "      <td>http://allrecipes.com/recipe/76129/spinach-tomato-tortellini</td>\n",
       "      <td>/spinach-tomato-tortellini</td>\n",
       "      <td>http://allrecipes.com</td>\n",
       "    </tr>\n",
       "    <tr>\n",
       "      <th>998</th>\n",
       "      <td>http://www.food.com/recipe/italian-lemon-cauliflower-79873</td>\n",
       "      <td>http://www.food.com/recipe/italian-lemon-cauliflower-79873</td>\n",
       "      <td>/italian-lemon-cauliflower-79873</td>\n",
       "      <td>http://www.food.com</td>\n",
       "    </tr>\n",
       "    <tr>\n",
       "      <th>999</th>\n",
       "      <td>http://www.food.com/recipe/chicken-risotto-soup-213266</td>\n",
       "      <td>http://www.food.com/recipe/chicken-risotto-soup-213266</td>\n",
       "      <td>/chicken-risotto-soup-213266</td>\n",
       "      <td>http://www.food.com</td>\n",
       "    </tr>\n",
       "  </tbody>\n",
       "</table>\n",
       "</div>"
      ],
      "text/plain": [
       "                                                                                 url  \\\n",
       "995  http://preventionrd.com/2017/06/peanut-sesame-noodles-with-chicken-and-veggies/   \n",
       "996  http://thegirlonbloor.com/lemongrass-steak-noodle-bowls/                          \n",
       "997  http://allrecipes.com/recipe/76129/spinach-tomato-tortellini/                     \n",
       "998  http://www.food.com/recipe/italian-lemon-cauliflower-79873                        \n",
       "999  http://www.food.com/recipe/chicken-risotto-soup-213266                            \n",
       "\n",
       "                                                                             recipe  \\\n",
       "995  http://preventionrd.com/2017/06/peanut-sesame-noodles-with-chicken-and-veggies   \n",
       "996  http://thegirlonbloor.com/lemongrass-steak-noodle-bowls                          \n",
       "997  http://allrecipes.com/recipe/76129/spinach-tomato-tortellini                     \n",
       "998  http://www.food.com/recipe/italian-lemon-cauliflower-79873                       \n",
       "999  http://www.food.com/recipe/chicken-risotto-soup-213266                           \n",
       "\n",
       "                                        final_recipe  \\\n",
       "995  /peanut-sesame-noodles-with-chicken-and-veggies   \n",
       "996  /lemongrass-steak-noodle-bowls                    \n",
       "997  /spinach-tomato-tortellini                        \n",
       "998  /italian-lemon-cauliflower-79873                  \n",
       "999  /chicken-risotto-soup-213266                      \n",
       "\n",
       "                 recipe_domain  \n",
       "995  http://preventionrd.com    \n",
       "996  http://thegirlonbloor.com  \n",
       "997  http://allrecipes.com      \n",
       "998  http://www.food.com        \n",
       "999  http://www.food.com        "
      ]
     },
     "execution_count": 52,
     "metadata": {},
     "output_type": "execute_result"
    }
   ],
   "source": [
    "imported_recipes_sites_df.tail()"
   ]
  },
  {
   "cell_type": "code",
   "execution_count": 53,
   "metadata": {
    "collapsed": false
   },
   "outputs": [
    {
     "data": {
      "text/plain": [
       "http://www.thegreenlife.ca                192\n",
       "http://www.myrecipes.com                  57 \n",
       "https://www.budgetbytes.com               35 \n",
       "https://www.tillamook.com                 34 \n",
       "http://www.taste.com.au                   25 \n",
       "https://www.duncanhines.com               18 \n",
       "http://www.food.com                       17 \n",
       "http://crockpotladies.com                 16 \n",
       "http://www.lifemadedelicious.ca           14 \n",
       "http://myrecipemagic.com                  13 \n",
       "https://duncanhines.com                   11 \n",
       "http://allrecipes.com                     11 \n",
       "http://theinspiredhome.org                10 \n",
       "http://www.foodnetwork.com                9  \n",
       "http://www.prevention.com                 9  \n",
       "http://damndelicious.net                  8  \n",
       "http://www.primalpalate.com               8  \n",
       "https://cooking.nytimes.com               8  \n",
       "http://thegirlonbloor.com                 7  \n",
       "http://www.seriouseats.com                5  \n",
       "http://www.tasteandtellblog.com           5  \n",
       "http://carlsbadcravings.com               5  \n",
       "http://preventionrd.com                   5  \n",
       "http://www.eatingwell.com                 5  \n",
       "https://www.healthfulpursuit.com          5  \n",
       "http://www.lecremedelacrumb.com           5  \n",
       "http://sweetpeasandsaffron.com            4  \n",
       "http://www.hungryandfussy.com             4  \n",
       "http://www.healthyseasonalrecipes.com     4  \n",
       "http://www.foodnetwork.co.uk              4  \n",
       "                                         ..  \n",
       "http://withfoodandlove.com                1  \n",
       "http://www.chefsavvy.com                  1  \n",
       "http://www.platingpixels.com              1  \n",
       "http://realfoodrealdeals.com              1  \n",
       "http://theblondcook.com                   1  \n",
       "http://www.womansday.com                  1  \n",
       "http://www.liveeatlearn.com               1  \n",
       "http://www.tryanythingonceculinary.com    1  \n",
       "https://todayscreativelife.com            1  \n",
       "https://inspiringsavings.com              1  \n",
       "http://www.savoryexperiments.com          1  \n",
       "http://www.kimscravings.com               1  \n",
       "https://mamaharriskitchen.com             1  \n",
       "https://www.wholesomeyum.com              1  \n",
       "http://www.simpleawesomecooking.com       1  \n",
       "http://thewanderlustkitchen.com           1  \n",
       "https://www.gogogogourmet.com             1  \n",
       "http://www.a-kitchen-addiction.com        1  \n",
       "http://www.panningtheglobe.com            1  \n",
       "http://www.wokandskillet.com              1  \n",
       "http://oatandsesame.com                   1  \n",
       "http://twohealthykitchens.com             1  \n",
       "http://ciaoveggie.com                     1  \n",
       "http://willowbirdbaking.com               1  \n",
       "https://www.kenarry.com                   1  \n",
       "https://platedcravings.com                1  \n",
       "http://www.rhubarbarians.com              1  \n",
       "http://www.lemontreedwelling.com          1  \n",
       "https://bakersclub.duncanhines.com        1  \n",
       "http://premeditatedleftovers.com          1  \n",
       "Name: recipe_domain, Length: 360, dtype: int64"
      ]
     },
     "execution_count": 53,
     "metadata": {},
     "output_type": "execute_result"
    }
   ],
   "source": [
    "imported_recipes_sites_df['recipe_domain'].value_counts()"
   ]
  },
  {
   "cell_type": "markdown",
   "metadata": {},
   "source": [
    "### We create a dataframe to store all URL domains and their counts."
   ]
  },
  {
   "cell_type": "code",
   "execution_count": 54,
   "metadata": {
    "collapsed": true
   },
   "outputs": [],
   "source": [
    "domains_df = imported_recipes_sites_df['recipe_domain'].value_counts().to_frame()"
   ]
  },
  {
   "cell_type": "code",
   "execution_count": 55,
   "metadata": {
    "collapsed": false
   },
   "outputs": [
    {
     "data": {
      "text/html": [
       "<div>\n",
       "<style scoped>\n",
       "    .dataframe tbody tr th:only-of-type {\n",
       "        vertical-align: middle;\n",
       "    }\n",
       "\n",
       "    .dataframe tbody tr th {\n",
       "        vertical-align: top;\n",
       "    }\n",
       "\n",
       "    .dataframe thead th {\n",
       "        text-align: right;\n",
       "    }\n",
       "</style>\n",
       "<table border=\"1\" class=\"dataframe\">\n",
       "  <thead>\n",
       "    <tr style=\"text-align: right;\">\n",
       "      <th></th>\n",
       "      <th>recipe_domain</th>\n",
       "    </tr>\n",
       "  </thead>\n",
       "  <tbody>\n",
       "    <tr>\n",
       "      <th>http://www.thegreenlife.ca</th>\n",
       "      <td>192</td>\n",
       "    </tr>\n",
       "    <tr>\n",
       "      <th>http://www.myrecipes.com</th>\n",
       "      <td>57</td>\n",
       "    </tr>\n",
       "    <tr>\n",
       "      <th>https://www.budgetbytes.com</th>\n",
       "      <td>35</td>\n",
       "    </tr>\n",
       "    <tr>\n",
       "      <th>https://www.tillamook.com</th>\n",
       "      <td>34</td>\n",
       "    </tr>\n",
       "    <tr>\n",
       "      <th>http://www.taste.com.au</th>\n",
       "      <td>25</td>\n",
       "    </tr>\n",
       "  </tbody>\n",
       "</table>\n",
       "</div>"
      ],
      "text/plain": [
       "                             recipe_domain\n",
       "http://www.thegreenlife.ca   192          \n",
       "http://www.myrecipes.com     57           \n",
       "https://www.budgetbytes.com  35           \n",
       "https://www.tillamook.com    34           \n",
       "http://www.taste.com.au      25           "
      ]
     },
     "execution_count": 55,
     "metadata": {},
     "output_type": "execute_result"
    }
   ],
   "source": [
    "domains_df.head()"
   ]
  },
  {
   "cell_type": "code",
   "execution_count": 56,
   "metadata": {
    "collapsed": false
   },
   "outputs": [],
   "source": [
    "domains_df.reset_index(inplace=True)"
   ]
  },
  {
   "cell_type": "code",
   "execution_count": 57,
   "metadata": {
    "collapsed": false
   },
   "outputs": [],
   "source": [
    "domains_df.rename(columns = {'index':'domain', 'recipe_domain':'domain_count'}, inplace=True)"
   ]
  },
  {
   "cell_type": "code",
   "execution_count": 58,
   "metadata": {
    "collapsed": false
   },
   "outputs": [
    {
     "data": {
      "text/html": [
       "<div>\n",
       "<style scoped>\n",
       "    .dataframe tbody tr th:only-of-type {\n",
       "        vertical-align: middle;\n",
       "    }\n",
       "\n",
       "    .dataframe tbody tr th {\n",
       "        vertical-align: top;\n",
       "    }\n",
       "\n",
       "    .dataframe thead th {\n",
       "        text-align: right;\n",
       "    }\n",
       "</style>\n",
       "<table border=\"1\" class=\"dataframe\">\n",
       "  <thead>\n",
       "    <tr style=\"text-align: right;\">\n",
       "      <th></th>\n",
       "      <th>domain</th>\n",
       "      <th>domain_count</th>\n",
       "    </tr>\n",
       "  </thead>\n",
       "  <tbody>\n",
       "    <tr>\n",
       "      <th>0</th>\n",
       "      <td>http://www.thegreenlife.ca</td>\n",
       "      <td>192</td>\n",
       "    </tr>\n",
       "    <tr>\n",
       "      <th>1</th>\n",
       "      <td>http://www.myrecipes.com</td>\n",
       "      <td>57</td>\n",
       "    </tr>\n",
       "    <tr>\n",
       "      <th>2</th>\n",
       "      <td>https://www.budgetbytes.com</td>\n",
       "      <td>35</td>\n",
       "    </tr>\n",
       "    <tr>\n",
       "      <th>3</th>\n",
       "      <td>https://www.tillamook.com</td>\n",
       "      <td>34</td>\n",
       "    </tr>\n",
       "    <tr>\n",
       "      <th>4</th>\n",
       "      <td>http://www.taste.com.au</td>\n",
       "      <td>25</td>\n",
       "    </tr>\n",
       "  </tbody>\n",
       "</table>\n",
       "</div>"
      ],
      "text/plain": [
       "                        domain  domain_count\n",
       "0  http://www.thegreenlife.ca   192         \n",
       "1  http://www.myrecipes.com     57          \n",
       "2  https://www.budgetbytes.com  35          \n",
       "3  https://www.tillamook.com    34          \n",
       "4  http://www.taste.com.au      25          "
      ]
     },
     "execution_count": 58,
     "metadata": {},
     "output_type": "execute_result"
    }
   ],
   "source": [
    "domains_df.head()"
   ]
  },
  {
   "cell_type": "code",
   "execution_count": 59,
   "metadata": {
    "collapsed": false
   },
   "outputs": [
    {
     "data": {
      "image/png": "[encoded data removed]",
      "text/plain": [
       "<matplotlib.figure.Figure at 0x7f10d4802350>"
      ]
     },
     "metadata": {},
     "output_type": "display_data"
    }
   ],
   "source": [
    "url_recipes_plot = sns.barplot(x='domain_count', y='domain', data=domains_df[:25])\n",
    "plt.setp(url_recipes_plot.get_xticklabels(), rotation=45);"
   ]
  },
  {
   "cell_type": "code",
   "execution_count": null,
   "metadata": {
    "collapsed": true
   },
   "outputs": [],
   "source": []
  }
 ],
 "metadata": {
  "kernelspec": {
   "display_name": "Python 2",
   "language": "python",
   "name": "python2"
  },
  "language_info": {
   "codemirror_mode": {
    "name": "ipython",
    "version": 2
   },
   "file_extension": ".py",
   "mimetype": "text/x-python",
   "name": "python",
   "nbconvert_exporter": "python",
   "pygments_lexer": "ipython2",
   "version": "2.7.12"
  }
 },
 "nbformat": 4,
 "nbformat_minor": 2
}
