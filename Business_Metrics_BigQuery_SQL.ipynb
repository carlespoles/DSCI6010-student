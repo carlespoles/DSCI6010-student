{
 "cells": [
  {
   "cell_type": "markdown",
   "metadata": {},
   "source": [
    "# BigQuery SQL for Business Metrics."
   ]
  },
  {
   "cell_type": "markdown",
   "metadata": {},
   "source": [
    "## Total number of recipes."
   ]
  },
  {
   "cell_type": "markdown",
   "metadata": {},
   "source": [
    "`\n",
    "SELECT\n",
    "  COUNT(*) AS total_number_recipes\n",
    "FROM\n",
    "  firebase-wellio.recipes.imported_recipes\n",
    "`"
   ]
  },
  {
   "cell_type": "markdown",
   "metadata": {},
   "source": [
    "## Total number of unique recipes."
   ]
  },
  {
   "cell_type": "markdown",
   "metadata": {},
   "source": [
    "`\n",
    "SELECT\n",
    "  COUNT(*) AS number_unique_recipes\n",
    "FROM (\n",
    "  SELECT\n",
    "    *,\n",
    "    ROW_NUMBER() OVER (PARTITION BY id) AS row\n",
    "  FROM\n",
    "    firebase-wellio.recipes.imported_recipes )\n",
    "WHERE\n",
    "  row = 1\n",
    "`"
   ]
  },
  {
   "cell_type": "markdown",
   "metadata": {},
   "source": [
    "## Total weekly recipe views."
   ]
  },
  {
   "cell_type": "markdown",
   "metadata": {},
   "source": [
    "`\n",
    "SELECT\n",
    "  COUNT(anonymous_id) AS weekly_visitor_count,\n",
    "  EXTRACT(WEEK\n",
    "  FROM\n",
    "    timestamp) AS week_recipe_views\n",
    "FROM\n",
    "  javascript.search_result_view_view\n",
    "WHERE\n",
    "  context_page_url LIKE \"%getwellio.com%\"\n",
    "GROUP BY\n",
    "  EXTRACT(WEEK\n",
    "  FROM\n",
    "    timestamp)\n",
    "`"
   ]
  },
  {
   "cell_type": "markdown",
   "metadata": {},
   "source": [
    "## Total unique weekly recipe views."
   ]
  },
  {
   "cell_type": "markdown",
   "metadata": {},
   "source": [
    "`\n",
    "SELECT\n",
    "  COUNT(DISTINCT(anonymous_id)) AS weekly_visitor_count,\n",
    "  EXTRACT(WEEK\n",
    "  FROM\n",
    "    timestamp) AS week_recipe_views\n",
    "FROM\n",
    "  javascript.search_result_view_view\n",
    "WHERE\n",
    "  context_page_url LIKE \"%getwellio.com%\"\n",
    "GROUP BY\n",
    "  EXTRACT(WEEK\n",
    "  FROM\n",
    "    timestamp)\n",
    "`"
   ]
  },
  {
   "cell_type": "code",
   "execution_count": null,
   "metadata": {
    "collapsed": true
   },
   "outputs": [],
   "source": []
  }
 ],
 "metadata": {
  "kernelspec": {
   "display_name": "Python 2",
   "language": "python",
   "name": "python2"
  },
  "language_info": {
   "codemirror_mode": {
    "name": "ipython",
    "version": 2
   },
   "file_extension": ".py",
   "mimetype": "text/x-python",
   "name": "python",
   "nbconvert_exporter": "python",
   "pygments_lexer": "ipython2",
   "version": "2.7.12"
  }
 },
 "nbformat": 4,
 "nbformat_minor": 2
}
