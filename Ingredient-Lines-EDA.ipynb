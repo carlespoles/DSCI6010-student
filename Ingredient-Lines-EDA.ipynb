{
 "cells": [
  {
   "cell_type": "markdown",
   "metadata": {},
   "source": [
    "# Project Valid Ingredients Lines.\n",
    "Wellio’s recommendation system allows a user to ask for recipe through a conversational interface. When a recipe is displayed and ingredients are displayed, we have noticed that some of the ingredients are in fact preparations steps and therefore, they should be not appear as it is confusing and does not provide an optimal user experience."
   ]
  },
  {
   "cell_type": "markdown",
   "metadata": {},
   "source": [
    "## Product Use Case.\n",
    "As a user I can search for recipes and when I chose one, I can see that all the ingredients required are such, and no preparation step is displayed so I’m not confused."
   ]
  },
  {
   "cell_type": "markdown",
   "metadata": {},
   "source": [
    "## Tech Use Case.\n",
    "Design an algorithm that classifies a recipe ingredient as true/false, and if false, it’s not displayed."
   ]
  },
  {
   "cell_type": "markdown",
   "metadata": {},
   "source": [
    "## Data.\n",
    "Data has been manually labeled using CrowdFlower and be found here:\n",
    "\n",
    "gs://\"kadaif.getwellio.com/kadaif/datasets/ingredients/labeled_lines/job_995939 2.json\"\n",
    "\n",
    "This notebook is intended to perform EDA on the labeled data."
   ]
  },
  {
   "cell_type": "code",
   "execution_count": 1,
   "metadata": {
    "collapsed": true
   },
   "outputs": [],
   "source": [
    "reset -fs"
   ]
  },
  {
   "cell_type": "code",
   "execution_count": 2,
   "metadata": {
    "collapsed": true
   },
   "outputs": [],
   "source": [
    "import re\n",
    "import json\n",
    "import pprint\n",
    "import operator\n",
    "import itertools\n",
    "import numpy as np\n",
    "import pandas as pd\n",
    "import seaborn as sns\n",
    "import prettypandas as pretty\n",
    "import datalab.bigquery as bq\n",
    "import matplotlib.pyplot as plt\n",
    "sns.set_style('white')\n",
    "%matplotlib inline"
   ]
  },
  {
   "cell_type": "markdown",
   "metadata": {},
   "source": [
    "To be able to see all content columns of a pandas dataframe, we set the width of the columns to max."
   ]
  },
  {
   "cell_type": "code",
   "execution_count": 3,
   "metadata": {
    "collapsed": true
   },
   "outputs": [],
   "source": [
    "pd.set_option('display.max_colwidth', -1)"
   ]
  },
  {
   "cell_type": "markdown",
   "metadata": {},
   "source": [
    "Reading data from a bucket."
   ]
  },
  {
   "cell_type": "code",
   "execution_count": 4,
   "metadata": {
    "collapsed": true
   },
   "outputs": [],
   "source": [
    "%%storage read --variable ingredients --object gs://\"kadaif.getwellio.com/kadaif/datasets/ingredients/labeled_lines/job_995939 2.json\""
   ]
  },
  {
   "cell_type": "markdown",
   "metadata": {},
   "source": [
    "We create a list from the json file."
   ]
  },
  {
   "cell_type": "code",
   "execution_count": 5,
   "metadata": {
    "collapsed": true
   },
   "outputs": [],
   "source": [
    "ingredients = [json.loads(x) for x in ingredients.splitlines()]"
   ]
  },
  {
   "cell_type": "code",
   "execution_count": 6,
   "metadata": {
    "collapsed": false
   },
   "outputs": [
    {
     "data": {
      "text/plain": [
       "14400"
      ]
     },
     "execution_count": 6,
     "metadata": {},
     "output_type": "execute_result"
    }
   ],
   "source": [
    "len(ingredients)"
   ]
  },
  {
   "cell_type": "markdown",
   "metadata": {},
   "source": [
    "Check the structure of the json file from one line item."
   ]
  },
  {
   "cell_type": "code",
   "execution_count": 7,
   "metadata": {
    "collapsed": false
   },
   "outputs": [
    {
     "name": "stdout",
     "output_type": "stream",
     "text": [
      "{u'agreement': 0.5,\n",
      " u'created_at': u'2017-03-06T22:18:51+00:00',\n",
      " u'data': {u'entities_ingredient_entity': u'all ingredients to',\n",
      "           u'entities_ingredient_entity_frequency': u'94044',\n",
      "           u'lines_line': u'Add all ingredients to list',\n",
      "           u'lines_url': u'http://allrecipes.com/recipe/90500/beet-salad-with-goat-cheese/'},\n",
      " u'gold_pool': None,\n",
      " u'id': 1174009206,\n",
      " u'job_id': 995939,\n",
      " u'judgments_count': 3,\n",
      " u'missed_count': 0,\n",
      " u'results': {u'a_is_a_valid_ingredient_line': {u'agg': u'no',\n",
      "                                                u'confidence': 1.0},\n",
      "              u'b_is_the_correct_ingredient_entity': {u'agg': None,\n",
      "                                                      u'confidence': None},\n",
      "              u'judgments': [{u'acknowledged_at': None,\n",
      "                              u'city': u'Riyadh',\n",
      "                              u'country': u'SAU',\n",
      "                              u'created_at': u'2017-03-08T10:17:12+00:00',\n",
      "                              u'data': {u'a_is_a_valid_ingredient_line': u'no',\n",
      "                                        u'what_information_is_present_in_the_invalid_ingredient_line': [u'other_or_none_of_the_above']},\n",
      "                              u'external_type': u'clixsense',\n",
      "                              u'golden': False,\n",
      "                              u'id': 2417244754,\n",
      "                              u'job_id': 995939,\n",
      "                              u'missed': None,\n",
      "                              u'region': u'10',\n",
      "                              u'rejected': None,\n",
      "                              u'started_at': u'2017-03-08T10:15:44+00:00',\n",
      "                              u'tainted': False,\n",
      "                              u'trust': 0.760869565217391,\n",
      "                              u'unit_data': {u'entities_ingredient_entity': u'all ingredients to',\n",
      "                                             u'entities_ingredient_entity_frequency': u'94044',\n",
      "                                             u'lines_line': u'Add all ingredients to list',\n",
      "                                             u'lines_url': u'http://allrecipes.com/recipe/90500/beet-salad-with-goat-cheese/'},\n",
      "                              u'unit_id': 1174009206,\n",
      "                              u'unit_state': u'finalized',\n",
      "                              u'worker_id': 40178078,\n",
      "                              u'worker_trust': 0.76375},\n",
      "                             {u'acknowledged_at': None,\n",
      "                              u'city': u'',\n",
      "                              u'country': u'PHL',\n",
      "                              u'created_at': u'2017-03-08T10:19:07+00:00',\n",
      "                              u'data': {u'a_is_a_valid_ingredient_line': u'no',\n",
      "                                        u'what_information_is_present_in_the_invalid_ingredient_line': [u'other_or_none_of_the_above']},\n",
      "                              u'external_type': u'clixsense',\n",
      "                              u'golden': False,\n",
      "                              u'id': 2417246167,\n",
      "                              u'job_id': 995939,\n",
      "                              u'missed': None,\n",
      "                              u'region': u'',\n",
      "                              u'rejected': None,\n",
      "                              u'started_at': u'2017-03-08T10:17:20+00:00',\n",
      "                              u'tainted': False,\n",
      "                              u'trust': 0.86734693877551,\n",
      "                              u'unit_data': {u'entities_ingredient_entity': u'all ingredients to',\n",
      "                                             u'entities_ingredient_entity_frequency': u'94044',\n",
      "                                             u'lines_line': u'Add all ingredients to list',\n",
      "                                             u'lines_url': u'http://allrecipes.com/recipe/90500/beet-salad-with-goat-cheese/'},\n",
      "                              u'unit_id': 1174009206,\n",
      "                              u'unit_state': u'finalized',\n",
      "                              u'worker_id': 33230640,\n",
      "                              u'worker_trust': 0.873249516441006},\n",
      "                             {u'acknowledged_at': None,\n",
      "                              u'city': u'',\n",
      "                              u'country': u'BEL',\n",
      "                              u'created_at': u'2017-03-08T10:30:27+00:00',\n",
      "                              u'data': {u'a_is_a_valid_ingredient_line': u'no',\n",
      "                                        u'what_information_is_present_in_the_invalid_ingredient_line': [u'other_or_none_of_the_above']},\n",
      "                              u'external_type': u'elite',\n",
      "                              u'golden': False,\n",
      "                              u'id': 2417255278,\n",
      "                              u'job_id': 995939,\n",
      "                              u'missed': None,\n",
      "                              u'region': u'',\n",
      "                              u'rejected': None,\n",
      "                              u'started_at': u'2017-03-08T10:27:39+00:00',\n",
      "                              u'tainted': False,\n",
      "                              u'trust': 0.919117647058823,\n",
      "                              u'unit_data': {u'entities_ingredient_entity': u'all ingredients to',\n",
      "                                             u'entities_ingredient_entity_frequency': u'94044',\n",
      "                                             u'lines_line': u'Add all ingredients to list',\n",
      "                                             u'lines_url': u'http://allrecipes.com/recipe/90500/beet-salad-with-goat-cheese/'},\n",
      "                              u'unit_id': 1174009206,\n",
      "                              u'unit_state': u'finalized',\n",
      "                              u'worker_id': 41128989,\n",
      "                              u'worker_trust': 0.746}],\n",
      "              u'what_information_is_present_in_the_ingredient_line': {u'agg': None,\n",
      "                                                                      u'confidence': None},\n",
      "              u'what_information_is_present_in_the_invalid_ingredient_line': {u'agg': u'other_or_none_of_the_above',\n",
      "                                                                              u'confidence': 1.0}},\n",
      " u'state': u'finalized',\n",
      " u'updated_at': u'2017-03-08T10:30:38+00:00'}\n"
     ]
    }
   ],
   "source": [
    "pprint.pprint(ingredients[0])"
   ]
  },
  {
   "cell_type": "code",
   "execution_count": 8,
   "metadata": {
    "collapsed": false
   },
   "outputs": [],
   "source": [
    "def process_json(record):\n",
    "    \"\"\"\n",
    "    This function will create a dictionary to store relevant data point from the json elements, which is everything under 'data'.\n",
    "    After that, we will store all information under 'results', 'judgments'.\n",
    "    \"\"\"\n",
    "    ingredient_line_info = {'ingredient_line_entity':record['data']['entities_ingredient_entity'],\n",
    "              'ingredient_line_frequency': record['data']['entities_ingredient_entity_frequency'],\n",
    "              'ingredient_line': record['data']['lines_line'],\n",
    "              'ingredient_url': record['data']['lines_url']}  \n",
    "  \n",
    "    judgments = record['results']['judgments']\n",
    "  \n",
    "    response = []\n",
    "    for judgment in judgments:\n",
    "        if 'a_is_a_valid_ingredient_line' in judgment['data']:\n",
    "            item_info = dict(ingredient_line_info)\n",
    "        cf_data = judgment['data']\n",
    "        item_info['line_item_info_valid'] = cf_data.get('a_is_a_valid_ingredient_line')\n",
    "        item_info['line_item_info_other_information'] = cf_data.get('what_information_is_present_in_the_invalid_ingredient_line')\n",
    "        \n",
    "        response.append(item_info)\n",
    "  \n",
    "    return response   "
   ]
  },
  {
   "cell_type": "markdown",
   "metadata": {},
   "source": [
    "We process of items from the json file."
   ]
  },
  {
   "cell_type": "code",
   "execution_count": 9,
   "metadata": {
    "collapsed": false
   },
   "outputs": [],
   "source": [
    "results = []\n",
    "for item in ingredients:\n",
    "    results.extend(process_json(item))"
   ]
  },
  {
   "cell_type": "code",
   "execution_count": 10,
   "metadata": {
    "collapsed": false
   },
   "outputs": [
    {
     "data": {
      "text/plain": [
       "{'ingredient_line': u'Add all ingredients to list',\n",
       " 'ingredient_line_entity': u'all ingredients to',\n",
       " 'ingredient_line_frequency': u'94044',\n",
       " 'ingredient_url': u'http://allrecipes.com/recipe/90500/beet-salad-with-goat-cheese/',\n",
       " 'line_item_info_other_information': [u'other_or_none_of_the_above'],\n",
       " 'line_item_info_valid': u'no'}"
      ]
     },
     "execution_count": 10,
     "metadata": {},
     "output_type": "execute_result"
    }
   ],
   "source": [
    "results[0]"
   ]
  },
  {
   "cell_type": "code",
   "execution_count": 11,
   "metadata": {
    "collapsed": false
   },
   "outputs": [
    {
     "data": {
      "text/plain": [
       "u'other_or_none_of_the_above'"
      ]
     },
     "execution_count": 11,
     "metadata": {},
     "output_type": "execute_result"
    }
   ],
   "source": [
    "results[0]['line_item_info_other_information'][0]"
   ]
  },
  {
   "cell_type": "code",
   "execution_count": 12,
   "metadata": {
    "collapsed": false
   },
   "outputs": [
    {
     "name": "stdout",
     "output_type": "stream",
     "text": [
      "other_or_none_of_the_above\n"
     ]
    }
   ],
   "source": [
    "print ', '.join(results[0]['line_item_info_other_information'])"
   ]
  },
  {
   "cell_type": "code",
   "execution_count": 13,
   "metadata": {
    "collapsed": false
   },
   "outputs": [],
   "source": [
    "#for x in results[0]:\n",
    "  #if x == 'line_item_info_other_information':\n",
    "    #results[0]['line_item_info_other_information'] = ', '.join(results[0]['line_item_info_other_information'])\n",
    "    #print results[0]['line_item_info_other_information']"
   ]
  },
  {
   "cell_type": "markdown",
   "metadata": {},
   "source": [
    "One item from the dictionary is a list ('line_item_info_other_information'), so we will convert it into a string."
   ]
  },
  {
   "cell_type": "code",
   "execution_count": 14,
   "metadata": {
    "collapsed": false
   },
   "outputs": [],
   "source": [
    "for item in results:\n",
    "    if item['line_item_info_other_information']:\n",
    "        item['line_item_info_other_information'] = ', '.join(item['line_item_info_other_information'])"
   ]
  },
  {
   "cell_type": "markdown",
   "metadata": {},
   "source": [
    "We create a pandas dataframe from our list."
   ]
  },
  {
   "cell_type": "code",
   "execution_count": 15,
   "metadata": {
    "collapsed": false
   },
   "outputs": [],
   "source": [
    "ingredient_data = pd.DataFrame(results)"
   ]
  },
  {
   "cell_type": "markdown",
   "metadata": {},
   "source": [
    "We remove duplicates."
   ]
  },
  {
   "cell_type": "code",
   "execution_count": 16,
   "metadata": {
    "collapsed": false
   },
   "outputs": [
    {
     "data": {
      "text/html": [
       "\n",
       "        <style  type=\"text/css\" >\n",
       "        \n",
       "            #T_7fcd7f74_4572_11e7_b810_0242ac110002 th {\n",
       "            \n",
       "                background: #eee;\n",
       "            \n",
       "                font-weight: 500;\n",
       "            \n",
       "            }\n",
       "        \n",
       "            #T_7fcd7f74_4572_11e7_b810_0242ac110002 td {\n",
       "            \n",
       "                text-align: right;\n",
       "            \n",
       "                min-width: 3em;\n",
       "            \n",
       "            }\n",
       "        \n",
       "            #T_7fcd7f74_4572_11e7_b810_0242ac110002 * {\n",
       "            \n",
       "                border-color: #c0c0c0;\n",
       "            \n",
       "            }\n",
       "        \n",
       "        \n",
       "        </style>\n",
       "\n",
       "        <table id=\"T_7fcd7f74_4572_11e7_b810_0242ac110002\" None>\n",
       "        \n",
       "\n",
       "        <thead>\n",
       "            \n",
       "            <tr>\n",
       "                \n",
       "                \n",
       "                <th class=\"blank level0\" >\n",
       "                  \n",
       "                \n",
       "                \n",
       "                \n",
       "                <th class=\"col_heading level0 col0\" colspan=1>\n",
       "                  ingredient_line\n",
       "                \n",
       "                \n",
       "                \n",
       "                <th class=\"col_heading level0 col1\" colspan=1>\n",
       "                  ingredient_line_entity\n",
       "                \n",
       "                \n",
       "                \n",
       "                <th class=\"col_heading level0 col2\" colspan=1>\n",
       "                  ingredient_line_frequency\n",
       "                \n",
       "                \n",
       "                \n",
       "                <th class=\"col_heading level0 col3\" colspan=1>\n",
       "                  ingredient_url\n",
       "                \n",
       "                \n",
       "                \n",
       "                <th class=\"col_heading level0 col4\" colspan=1>\n",
       "                  line_item_info_other_information\n",
       "                \n",
       "                \n",
       "                \n",
       "                <th class=\"col_heading level0 col5\" colspan=1>\n",
       "                  line_item_info_valid\n",
       "                \n",
       "                \n",
       "            </tr>\n",
       "            \n",
       "        </thead>\n",
       "        <tbody>\n",
       "            \n",
       "            <tr>\n",
       "                \n",
       "                \n",
       "                <th id=\"T_7fcd7f74_4572_11e7_b810_0242ac110002\"\n",
       "                 class=\"row_heading level0 row0\" rowspan=1>\n",
       "                    5570\n",
       "                \n",
       "                \n",
       "                \n",
       "                <td id=\"T_7fcd7f74_4572_11e7_b810_0242ac110002row0_col0\"\n",
       "                 class=\"data row0 col0\" >\n",
       "                    1 tablespoon plum sauce\n",
       "                \n",
       "                \n",
       "                \n",
       "                <td id=\"T_7fcd7f74_4572_11e7_b810_0242ac110002row0_col1\"\n",
       "                 class=\"data row0 col1\" >\n",
       "                    plum sauce\n",
       "                \n",
       "                \n",
       "                \n",
       "                <td id=\"T_7fcd7f74_4572_11e7_b810_0242ac110002row0_col2\"\n",
       "                 class=\"data row0 col2\" >\n",
       "                    247\n",
       "                \n",
       "                \n",
       "                \n",
       "                <td id=\"T_7fcd7f74_4572_11e7_b810_0242ac110002row0_col3\"\n",
       "                 class=\"data row0 col3\" >\n",
       "                    http://www.food.com/recipe/graces-almond-chicken-stir-fry-68583\n",
       "                \n",
       "                \n",
       "                \n",
       "                <td id=\"T_7fcd7f74_4572_11e7_b810_0242ac110002row0_col4\"\n",
       "                 class=\"data row0 col4\" >\n",
       "                    None\n",
       "                \n",
       "                \n",
       "                \n",
       "                <td id=\"T_7fcd7f74_4572_11e7_b810_0242ac110002row0_col5\"\n",
       "                 class=\"data row0 col5\" >\n",
       "                    yes\n",
       "                \n",
       "                \n",
       "            </tr>\n",
       "            \n",
       "            <tr>\n",
       "                \n",
       "                \n",
       "                <th id=\"T_7fcd7f74_4572_11e7_b810_0242ac110002\"\n",
       "                 class=\"row_heading level0 row1\" rowspan=1>\n",
       "                    42534\n",
       "                \n",
       "                \n",
       "                \n",
       "                <td id=\"T_7fcd7f74_4572_11e7_b810_0242ac110002row1_col0\"\n",
       "                 class=\"data row1 col0\" >\n",
       "                    1/3 cup marachino cherries, drained and chopped\n",
       "                \n",
       "                \n",
       "                \n",
       "                <td id=\"T_7fcd7f74_4572_11e7_b810_0242ac110002row1_col1\"\n",
       "                 class=\"data row1 col1\" >\n",
       "                    marachino cherries\n",
       "                \n",
       "                \n",
       "                \n",
       "                <td id=\"T_7fcd7f74_4572_11e7_b810_0242ac110002row1_col2\"\n",
       "                 class=\"data row1 col2\" >\n",
       "                    6\n",
       "                \n",
       "                \n",
       "                \n",
       "                <td id=\"T_7fcd7f74_4572_11e7_b810_0242ac110002row1_col3\"\n",
       "                 class=\"data row1 col3\" >\n",
       "                    http://www.epicurious.com/recipes/member/views/chewy-cherry-nut-ball-cookies-50163755\n",
       "                \n",
       "                \n",
       "                \n",
       "                <td id=\"T_7fcd7f74_4572_11e7_b810_0242ac110002row1_col4\"\n",
       "                 class=\"data row1 col4\" >\n",
       "                    None\n",
       "                \n",
       "                \n",
       "                \n",
       "                <td id=\"T_7fcd7f74_4572_11e7_b810_0242ac110002row1_col5\"\n",
       "                 class=\"data row1 col5\" >\n",
       "                    yes\n",
       "                \n",
       "                \n",
       "            </tr>\n",
       "            \n",
       "            <tr>\n",
       "                \n",
       "                \n",
       "                <th id=\"T_7fcd7f74_4572_11e7_b810_0242ac110002\"\n",
       "                 class=\"row_heading level0 row2\" rowspan=1>\n",
       "                    1415\n",
       "                \n",
       "                \n",
       "                \n",
       "                <td id=\"T_7fcd7f74_4572_11e7_b810_0242ac110002row2_col0\"\n",
       "                 class=\"data row2 col0\" >\n",
       "                    3 cups dry cannellini beans\n",
       "                \n",
       "                \n",
       "                \n",
       "                <td id=\"T_7fcd7f74_4572_11e7_b810_0242ac110002row2_col1\"\n",
       "                 class=\"data row2 col1\" >\n",
       "                    cannellini beans\n",
       "                \n",
       "                \n",
       "                \n",
       "                <td id=\"T_7fcd7f74_4572_11e7_b810_0242ac110002row2_col2\"\n",
       "                 class=\"data row2 col2\" >\n",
       "                    1669\n",
       "                \n",
       "                \n",
       "                \n",
       "                <td id=\"T_7fcd7f74_4572_11e7_b810_0242ac110002row2_col3\"\n",
       "                 class=\"data row2 col3\" >\n",
       "                    http://allrecipes.com/recipe/135543/porcini-braised-boar-with-artichoke-and-fennel/\n",
       "                \n",
       "                \n",
       "                \n",
       "                <td id=\"T_7fcd7f74_4572_11e7_b810_0242ac110002row2_col4\"\n",
       "                 class=\"data row2 col4\" >\n",
       "                    None\n",
       "                \n",
       "                \n",
       "                \n",
       "                <td id=\"T_7fcd7f74_4572_11e7_b810_0242ac110002row2_col5\"\n",
       "                 class=\"data row2 col5\" >\n",
       "                    yes\n",
       "                \n",
       "                \n",
       "            </tr>\n",
       "            \n",
       "            <tr>\n",
       "                \n",
       "                \n",
       "                <th id=\"T_7fcd7f74_4572_11e7_b810_0242ac110002\"\n",
       "                 class=\"row_heading level0 row3\" rowspan=1>\n",
       "                    13182\n",
       "                \n",
       "                \n",
       "                \n",
       "                <td id=\"T_7fcd7f74_4572_11e7_b810_0242ac110002row3_col0\"\n",
       "                 class=\"data row3 col0\" >\n",
       "                    2 teaspoons Hidden Valley Original Ranch Dips Mix\n",
       "                \n",
       "                \n",
       "                \n",
       "                <td id=\"T_7fcd7f74_4572_11e7_b810_0242ac110002row3_col1\"\n",
       "                 class=\"data row3 col1\" >\n",
       "                    ranch dips mix\n",
       "                \n",
       "                \n",
       "                \n",
       "                <td id=\"T_7fcd7f74_4572_11e7_b810_0242ac110002row3_col2\"\n",
       "                 class=\"data row3 col2\" >\n",
       "                    43\n",
       "                \n",
       "                \n",
       "                \n",
       "                <td id=\"T_7fcd7f74_4572_11e7_b810_0242ac110002row3_col3\"\n",
       "                 class=\"data row3 col3\" >\n",
       "                    http://www.food.com/recipe/chicken-fried-sliders-wpotato-dumplins-cheese-gravy-rsc-494767\n",
       "                \n",
       "                \n",
       "                \n",
       "                <td id=\"T_7fcd7f74_4572_11e7_b810_0242ac110002row3_col4\"\n",
       "                 class=\"data row3 col4\" >\n",
       "                    None\n",
       "                \n",
       "                \n",
       "                \n",
       "                <td id=\"T_7fcd7f74_4572_11e7_b810_0242ac110002row3_col5\"\n",
       "                 class=\"data row3 col5\" >\n",
       "                    yes\n",
       "                \n",
       "                \n",
       "            </tr>\n",
       "            \n",
       "            <tr>\n",
       "                \n",
       "                \n",
       "                <th id=\"T_7fcd7f74_4572_11e7_b810_0242ac110002\"\n",
       "                 class=\"row_heading level0 row4\" rowspan=1>\n",
       "                    21043\n",
       "                \n",
       "                \n",
       "                \n",
       "                <td id=\"T_7fcd7f74_4572_11e7_b810_0242ac110002row4_col0\"\n",
       "                 class=\"data row4 col0\" >\n",
       "                    3 ounces Bénédictine\n",
       "                \n",
       "                \n",
       "                \n",
       "                <td id=\"T_7fcd7f74_4572_11e7_b810_0242ac110002row4_col1\"\n",
       "                 class=\"data row4 col1\" >\n",
       "                    n dictine\n",
       "                \n",
       "                \n",
       "                \n",
       "                <td id=\"T_7fcd7f74_4572_11e7_b810_0242ac110002row4_col2\"\n",
       "                 class=\"data row4 col2\" >\n",
       "                    19\n",
       "                \n",
       "                \n",
       "                \n",
       "                <td id=\"T_7fcd7f74_4572_11e7_b810_0242ac110002row4_col3\"\n",
       "                 class=\"data row4 col3\" >\n",
       "                    http://www.epicurious.com/recipes/food/views/widows-dream-200352\n",
       "                \n",
       "                \n",
       "                \n",
       "                <td id=\"T_7fcd7f74_4572_11e7_b810_0242ac110002row4_col4\"\n",
       "                 class=\"data row4 col4\" >\n",
       "                    None\n",
       "                \n",
       "                \n",
       "                \n",
       "                <td id=\"T_7fcd7f74_4572_11e7_b810_0242ac110002row4_col5\"\n",
       "                 class=\"data row4 col5\" >\n",
       "                    yes\n",
       "                \n",
       "                \n",
       "            </tr>\n",
       "            \n",
       "        </tbody>\n",
       "        </table>\n",
       "        "
      ],
      "text/plain": [
       "<prettypandas.styler.PrettyPandas at 0x7f184b0b8fd0>"
      ]
     },
     "execution_count": 16,
     "metadata": {},
     "output_type": "execute_result"
    }
   ],
   "source": [
    "ingredient_data = ingredient_data.drop_duplicates()\n",
    "pretty.PrettyPandas(ingredient_data.sort_values(['ingredient_line_entity','ingredient_line_frequency','ingredient_line']).sample(5))"
   ]
  },
  {
   "cell_type": "code",
   "execution_count": 17,
   "metadata": {
    "collapsed": false
   },
   "outputs": [
    {
     "name": "stdout",
     "output_type": "stream",
     "text": [
      "(16493, 6)\n"
     ]
    }
   ],
   "source": [
    "print ingredient_data.shape"
   ]
  },
  {
   "cell_type": "markdown",
   "metadata": {},
   "source": [
    "Most of the items are valid ingredient lines."
   ]
  },
  {
   "cell_type": "code",
   "execution_count": 18,
   "metadata": {
    "collapsed": false
   },
   "outputs": [
    {
     "name": "stdout",
     "output_type": "stream",
     "text": [
      "yes    12929\n",
      "no     3564 \n",
      "Name: line_item_info_valid, dtype: int64\n"
     ]
    }
   ],
   "source": [
    "print ingredient_data.line_item_info_valid.value_counts()"
   ]
  },
  {
   "cell_type": "code",
   "execution_count": 19,
   "metadata": {
    "collapsed": false
   },
   "outputs": [
    {
     "name": "stdout",
     "output_type": "stream",
     "text": [
      "yes    78.390832\n",
      "no     21.609168\n",
      "Name: line_item_info_valid, dtype: float64\n"
     ]
    }
   ],
   "source": [
    "print((ingredient_data.line_item_info_valid.value_counts()/ingredient_data.line_item_info_valid.value_counts().sum())*100)"
   ]
  },
  {
   "cell_type": "markdown",
   "metadata": {},
   "source": [
    "Let's see the breakdown of items that are not valid ingredients:"
   ]
  },
  {
   "cell_type": "code",
   "execution_count": 20,
   "metadata": {
    "collapsed": false
   },
   "outputs": [
    {
     "data": {
      "text/plain": [
       "section_header                                                   1563\n",
       "other_or_none_of_the_above                                       1500\n",
       "cooking_equipment                                                358 \n",
       "section_header, other_or_none_of_the_above                       89  \n",
       "cooking_equipment, section_header, other_or_none_of_the_above    31  \n",
       "cooking_equipment, other_or_none_of_the_above                    16  \n",
       "cooking_equipment, section_header                                7   \n",
       "Name: line_item_info_other_information, dtype: int64"
      ]
     },
     "execution_count": 20,
     "metadata": {},
     "output_type": "execute_result"
    }
   ],
   "source": [
    "ingredient_data[ingredient_data['line_item_info_valid'] == 'no'].line_item_info_other_information.value_counts()"
   ]
  },
  {
   "cell_type": "code",
   "execution_count": 21,
   "metadata": {
    "collapsed": false
   },
   "outputs": [],
   "source": [
    "ingredient_data_not_valid = pd.DataFrame(data=ingredient_data[ingredient_data['line_item_info_valid'] == 'no'].line_item_info_other_information.value_counts())"
   ]
  },
  {
   "cell_type": "code",
   "execution_count": 22,
   "metadata": {
    "collapsed": false
   },
   "outputs": [],
   "source": [
    "ingredient_data_not_valid = ingredient_data_not_valid.reset_index()"
   ]
  },
  {
   "cell_type": "code",
   "execution_count": 23,
   "metadata": {
    "collapsed": false
   },
   "outputs": [],
   "source": [
    "ingredient_data_not_valid.columns=['line_item_info_other_information', 'item_count']"
   ]
  },
  {
   "cell_type": "code",
   "execution_count": 24,
   "metadata": {
    "collapsed": false
   },
   "outputs": [
    {
     "data": {
      "text/html": [
       "<div>\n",
       "<table border=\"1\" class=\"dataframe\">\n",
       "  <thead>\n",
       "    <tr style=\"text-align: right;\">\n",
       "      <th></th>\n",
       "      <th>line_item_info_other_information</th>\n",
       "      <th>item_count</th>\n",
       "    </tr>\n",
       "  </thead>\n",
       "  <tbody>\n",
       "    <tr>\n",
       "      <th>0</th>\n",
       "      <td>section_header</td>\n",
       "      <td>1563</td>\n",
       "    </tr>\n",
       "    <tr>\n",
       "      <th>1</th>\n",
       "      <td>other_or_none_of_the_above</td>\n",
       "      <td>1500</td>\n",
       "    </tr>\n",
       "    <tr>\n",
       "      <th>2</th>\n",
       "      <td>cooking_equipment</td>\n",
       "      <td>358</td>\n",
       "    </tr>\n",
       "    <tr>\n",
       "      <th>3</th>\n",
       "      <td>section_header, other_or_none_of_the_above</td>\n",
       "      <td>89</td>\n",
       "    </tr>\n",
       "    <tr>\n",
       "      <th>4</th>\n",
       "      <td>cooking_equipment, section_header, other_or_none_of_the_above</td>\n",
       "      <td>31</td>\n",
       "    </tr>\n",
       "    <tr>\n",
       "      <th>5</th>\n",
       "      <td>cooking_equipment, other_or_none_of_the_above</td>\n",
       "      <td>16</td>\n",
       "    </tr>\n",
       "    <tr>\n",
       "      <th>6</th>\n",
       "      <td>cooking_equipment, section_header</td>\n",
       "      <td>7</td>\n",
       "    </tr>\n",
       "  </tbody>\n",
       "</table>\n",
       "</div>"
      ],
      "text/plain": [
       "                                line_item_info_other_information  item_count\n",
       "0  section_header                                                 1563      \n",
       "1  other_or_none_of_the_above                                     1500      \n",
       "2  cooking_equipment                                              358       \n",
       "3  section_header, other_or_none_of_the_above                     89        \n",
       "4  cooking_equipment, section_header, other_or_none_of_the_above  31        \n",
       "5  cooking_equipment, other_or_none_of_the_above                  16        \n",
       "6  cooking_equipment, section_header                              7         "
      ]
     },
     "execution_count": 24,
     "metadata": {},
     "output_type": "execute_result"
    }
   ],
   "source": [
    "ingredient_data_not_valid"
   ]
  },
  {
   "cell_type": "markdown",
   "metadata": {},
   "source": [
    "Most of the not valid ingredient lines are 'section_header' and 'other_or_none_of_the_above'."
   ]
  },
  {
   "cell_type": "code",
   "execution_count": 25,
   "metadata": {
    "collapsed": false
   },
   "outputs": [
    {
     "data": {
      "image/png": "[encoded data removed]",
      "text/plain": [
       "<matplotlib.figure.Figure at 0x7f186edb4f10>"
      ]
     },
     "metadata": {},
     "output_type": "display_data"
    }
   ],
   "source": [
    "sns.distplot(ingredient_data_not_valid['item_count']);"
   ]
  },
  {
   "cell_type": "code",
   "execution_count": 26,
   "metadata": {
    "collapsed": false
   },
   "outputs": [
    {
     "data": {
      "image/png": "[encoded data removed]",
      "text/plain": [
       "<matplotlib.figure.Figure at 0x7f184b0b8c90>"
      ]
     },
     "metadata": {},
     "output_type": "display_data"
    }
   ],
   "source": [
    "ingredients_plot = sns.barplot(x='item_count', y='line_item_info_other_information', data=ingredient_data_not_valid)\n",
    "plt.setp(ingredients_plot.get_xticklabels(), rotation=45);"
   ]
  },
  {
   "cell_type": "code",
   "execution_count": null,
   "metadata": {
    "collapsed": true
   },
   "outputs": [],
   "source": []
  }
 ],
 "metadata": {
  "kernelspec": {
   "display_name": "Python 2",
   "language": "python",
   "name": "python2"
  },
  "language_info": {
   "codemirror_mode": {
    "name": "ipython",
    "version": 2
   },
   "file_extension": ".py",
   "mimetype": "text/x-python",
   "name": "python",
   "nbconvert_exporter": "python",
   "pygments_lexer": "ipython2",
   "version": "2.7.9"
  }
 },
 "nbformat": 4,
 "nbformat_minor": 2
}
