{
 "cells": [
  {
   "cell_type": "markdown",
   "metadata": {},
   "source": [
    "# Comparing recipe's calories using two different data sources."
   ]
  },
  {
   "cell_type": "markdown",
   "metadata": {},
   "source": [
    "We have calories data from 2 different columns: nutrition (nutrition data that has been crawled from a website) and derived_nutrition (when not all nutrition data is present in a website, it's is derived/calculated using a machine learning algorithm).\n",
    "\n",
    "We want to compare the values from both sources to see if they are comparable."
   ]
  },
  {
   "cell_type": "code",
   "execution_count": 1,
   "metadata": {
    "collapsed": true
   },
   "outputs": [],
   "source": [
    "reset -fs"
   ]
  },
  {
   "cell_type": "code",
   "execution_count": 2,
   "metadata": {
    "collapsed": true
   },
   "outputs": [],
   "source": [
    "import datalab.bigquery as bq\n",
    "import itertools\n",
    "import json\n",
    "import matplotlib.pyplot as plt\n",
    "import numpy as np\n",
    "import operator\n",
    "import pandas as pd\n",
    "import pprint\n",
    "import re\n",
    "from scipy.stats import wilcoxon, mannwhitneyu\n",
    "import seaborn as sns\n",
    "import warnings\n",
    "warnings.filterwarnings('ignore')\n",
    "sns.set_style('white')\n",
    "%matplotlib inline"
   ]
  },
  {
   "cell_type": "markdown",
   "metadata": {},
   "source": [
    "To be able to see all content columns of a pandas dataframe, we set the width of the columns to max."
   ]
  },
  {
   "cell_type": "code",
   "execution_count": 3,
   "metadata": {
    "collapsed": true
   },
   "outputs": [],
   "source": [
    "pd.set_option('display.max_colwidth', -1)"
   ]
  },
  {
   "cell_type": "markdown",
   "metadata": {},
   "source": [
    "To be able to see all numeric data with 2 decimals instead of scientific notation."
   ]
  },
  {
   "cell_type": "code",
   "execution_count": 4,
   "metadata": {
    "collapsed": true
   },
   "outputs": [],
   "source": [
    "pd.options.display.float_format = '{:.2f}'.format"
   ]
  },
  {
   "cell_type": "markdown",
   "metadata": {},
   "source": [
    "Extracting `derived_nutrition_version`."
   ]
  },
  {
   "cell_type": "code",
   "execution_count": 5,
   "metadata": {
    "collapsed": true
   },
   "outputs": [],
   "source": [
    "%%sql --module derived_nutrition_versions\n",
    "SELECT\n",
    "INTEGER(RIGHT(derived_nutrition_version, LENGTH(derived_nutrition_version)-1)) AS nutrition_version\n",
    "FROM [firebase-wellio:recipes.imported_recipes]\n",
    "GROUP BY nutrition_version\n",
    "ORDER BY nutrition_version DESC"
   ]
  },
  {
   "cell_type": "code",
   "execution_count": 6,
   "metadata": {
    "collapsed": false
   },
   "outputs": [
    {
     "data": {
      "text/html": [
       "\n",
       "    <div class=\"bqtv\" id=\"1_152054806137\"><table><tr><th>nutrition_version</th></tr><tr><td>10</td></tr><tr><td>9</td></tr><tr><td>8</td></tr><tr><td>7</td></tr><tr><td>6</td></tr><tr><td>5</td></tr><tr><td>2</td></tr><tr><td>&nbsp;</td></tr></table></div>\n",
       "    <br />(rows: 8, time: 1.5s,    68MB processed, job: job_iSHLGtAT4AyPaKZj5rBaFzLTaFcb)<br />\n",
       "    <script src=\"/static/components/requirejs/require.js\"></script>\n",
       "    <script>\n",
       "\n",
       "      require.config({\n",
       "        paths: {\n",
       "          base: '/static/base',\n",
       "          d3: '//cdnjs.cloudflare.com/ajax/libs/d3/3.4.13/d3',\n",
       "          plotly: 'https://cdn.plot.ly/plotly-1.5.1.min.js?noext',\n",
       "          jquery: '//ajax.googleapis.com/ajax/libs/jquery/2.0.0/jquery.min'\n",
       "        },\n",
       "        map: {\n",
       "          '*': {\n",
       "            datalab: 'nbextensions/gcpdatalab'\n",
       "          }\n",
       "        },\n",
       "        shim: {\n",
       "          plotly: {\n",
       "            deps: ['d3', 'jquery'],\n",
       "            exports: 'plotly'\n",
       "          }\n",
       "        }\n",
       "      });\n",
       "\n",
       "      require(['datalab/charting', 'datalab/element!1_152054806137', 'base/js/events',\n",
       "          'datalab/style!/nbextensions/gcpdatalab/charting.css'],\n",
       "        function(charts, dom, events) {\n",
       "          charts.render('gcharts', dom, events, 'table', [], {\"rows\": [{\"c\": [{\"v\": 10}]}, {\"c\": [{\"v\": 9}]}, {\"c\": [{\"v\": 8}]}, {\"c\": [{\"v\": 7}]}, {\"c\": [{\"v\": 6}]}, {\"c\": [{\"v\": 5}]}, {\"c\": [{\"v\": 2}]}, {\"c\": [{\"v\": null}]}], \"cols\": [{\"type\": \"number\", \"id\": \"nutrition_version\", \"label\": \"nutrition_version\"}]},\n",
       "            {\n",
       "              pageSize: 25,\n",
       "              cssClassNames:  {\n",
       "                tableRow: 'gchart-table-row',\n",
       "                headerRow: 'gchart-table-headerrow',\n",
       "                oddTableRow: 'gchart-table-oddrow',\n",
       "                selectedTableRow: 'gchart-table-selectedrow',\n",
       "                hoverTableRow: 'gchart-table-hoverrow',\n",
       "                tableCell: 'gchart-table-cell',\n",
       "                headerCell: 'gchart-table-headercell',\n",
       "                rowNumberCell: 'gchart-table-rownumcell'\n",
       "              }\n",
       "            },\n",
       "            {source_index: 0, fields: 'nutrition_version', legacy: 'true'},\n",
       "            0,\n",
       "            8);\n",
       "        }\n",
       "      );\n",
       "    </script>\n",
       "  "
      ],
      "text/plain": [
       "QueryResultsTable job_iSHLGtAT4AyPaKZj5rBaFzLTaFcb"
      ]
     },
     "execution_count": 6,
     "metadata": {},
     "output_type": "execute_result"
    }
   ],
   "source": [
    "%%bigquery execute -q derived_nutrition_versions"
   ]
  },
  {
   "cell_type": "markdown",
   "metadata": {},
   "source": [
    "Latest nutrition version is 10. We will need to specify this version in our BigQuery's to get only the recipes with such attribute and avoid duplicates."
   ]
  },
  {
   "cell_type": "markdown",
   "metadata": {},
   "source": [
    "#### Extracting calories from `derived_nutrition` and `nutrition` column. Note that we use URLs from domain `epicurious.com` as they always have `derived_nutrition`."
   ]
  },
  {
   "cell_type": "code",
   "execution_count": 7,
   "metadata": {
    "collapsed": true
   },
   "outputs": [],
   "source": [
    "%%sql --module epicurious_compare_calories_nutrition\n",
    "SELECT url, derived_nutrition AS derived_calories, nutrition AS calories, \n",
    "FLOAT(RIGHT(nutrition, LENGTH(nutrition) - LENGTH('Calories'))) AS calories_amount,\n",
    "yield\n",
    "FROM FLATTEN([firebase-wellio:recipes.imported_recipes], nutrition)\n",
    "WHERE url LIKE '%epicurious.com%' AND derived_nutrition IS NOT NULL AND INTEGER(RIGHT(derived_nutrition_version, \n",
    "  LENGTH(derived_nutrition_version)-1)) = 10 AND derived_nutrition LIKE '%\"unit\": \"kcal\"%'\n",
    "AND nutrition LIKE 'Calories%'\n",
    "  AND nutrition NOT LIKE 'Calories from%'"
   ]
  },
  {
   "cell_type": "code",
   "execution_count": 8,
   "metadata": {
    "collapsed": false
   },
   "outputs": [
    {
     "data": {
      "text/html": [
       "\n",
       "    <div class=\"bqtv\" id=\"2_152054807561\"><table><tr><th>url</th><th>derived_calories</th><th>calories</th><th>calories_amount</th><th>yield</th></tr><tr><td>http://www.epicurious.com/recipes/member/views/cold-brew-iced-coffee-concentrate-51867001</td><td>{\"name\": \"Energy\", \"nutrient_id\": \"208\", \"unit\": \"kcal\", \"agg_value\": 632.2039904173668}</td><td>Calories 26</td><td>26.0</td><td>5 cups concentrate</td></tr><tr><td>http://www.epicurious.com/recipes/member/views/quinoa-patties-52707551</td><td>{\"name\": \"Energy\", \"nutrient_id\": \"208\", \"unit\": \"kcal\", \"agg_value\": 5229.592186739095}</td><td>Calories 176</td><td>176.0</td><td>24 patties</td></tr><tr><td>http://www.epicurious.com/recipes/member/views/puppy-chow-50046333</td><td>{\"name\": \"Energy\", \"nutrient_id\": \"208\", \"unit\": \"kcal\", \"agg_value\": 3491.826000616919}</td><td>Calories 319</td><td>319.0</td><td></td></tr><tr><td>http://www.epicurious.com/recipes/member/views/orzo-salad-with-basil-tomatoes-olives-1200649</td><td>{\"name\": \"Energy\", \"nutrient_id\": \"208\", \"unit\": \"kcal\", \"agg_value\": 2748.2456049771486}</td><td>Calories 169</td><td>169.0</td><td>6 servings</td></tr><tr><td>http://www.epicurious.com/recipes/food/views/green-bean-and-radish-salad-5</td><td>{\"name\": \"Energy\", \"nutrient_id\": \"208\", \"unit\": \"kcal\", \"agg_value\": 1204.8781298407957}</td><td>Calories 296</td><td>296.0</td><td>Serves 4</td></tr><tr><td>http://www.epicurious.com/recipes/member/views/miso-glazed-salmon-1238886</td><td>{\"name\": \"Energy\", \"nutrient_id\": \"208\", \"unit\": \"kcal\", \"agg_value\": 1631.687967470364}</td><td>Calories 906</td><td>906.0</td><td>2 8 ounce portions</td></tr><tr><td>http://www.epicurious.com/recipes/member/views/peach-and-avacado-salsa-50101950</td><td>{\"name\": \"Energy\", \"nutrient_id\": \"208\", \"unit\": \"kcal\", \"agg_value\": 630.8921274181932}</td><td>Calories 138</td><td>138.0</td><td></td></tr><tr><td>http://www.epicurious.com/recipes/food/views/exotic-caramel-sauce-5163</td><td>{\"name\": \"Energy\", \"nutrient_id\": \"208\", \"unit\": \"kcal\", \"agg_value\": 2896.908371192394}</td><td>Calories 388</td><td>388.0</td><td>Makes 2 1/2 cups</td></tr><tr><td>http://www.epicurious.com/recipes/member/views/fresh-fruit-salad-with-honey-vanilla-yogurt-1273447</td><td>{\"name\": \"Energy\", \"nutrient_id\": \"208\", \"unit\": \"kcal\", \"agg_value\": 1268.4680656093303}</td><td>Calories 182</td><td>182.0</td><td></td></tr><tr><td>http://www.epicurious.com/recipes/member/views/fresh-fruit-bars-52971801</td><td>{\"name\": \"Energy\", \"nutrient_id\": \"208\", \"unit\": \"kcal\", \"agg_value\": 2581.4382436328965}</td><td>Calories 133</td><td>133.0</td><td>12</td></tr><tr><td>http://www.epicurious.com/recipes/member/views/bisquick-chicken-w-dumplings-51593281</td><td>{\"name\": \"Energy\", \"nutrient_id\": \"208\", \"unit\": \"kcal\", \"agg_value\": 794.2231376439057}</td><td>Calories 125</td><td>125.0</td><td>4 Peole</td></tr><tr><td>http://www.epicurious.com/recipes/member/views/seared-scallops-with-creamy-noodles-and-peas-1238207</td><td>{\"name\": \"Energy\", \"nutrient_id\": \"208\", \"unit\": \"kcal\", \"agg_value\": 1678.3253458903202}</td><td>Calories 438</td><td>438.0</td><td>4 servings</td></tr><tr><td>http://www.epicurious.com/recipes/member/views/chickpea-veggie-quinoa-salad-52755611</td><td>{\"name\": \"Energy\", \"nutrient_id\": \"208\", \"unit\": \"kcal\", \"agg_value\": 1897.3601077903395}</td><td>Calories 179</td><td>179.0</td><td></td></tr><tr><td>http://www.epicurious.com/recipes/member/views/leek-and-potato-braided-tart-1202155</td><td>{\"name\": \"Energy\", \"nutrient_id\": \"208\", \"unit\": \"kcal\", \"agg_value\": 3325.6763054027824}</td><td>Calories 482</td><td>482.0</td><td>Makes 6 servings</td></tr><tr><td>http://www.epicurious.com/recipes/member/views/mile-high-quiche-50064700</td><td>{\"name\": \"Energy\", \"nutrient_id\": \"208\", \"unit\": \"kcal\", \"agg_value\": 5528.088150762402}</td><td>Calories 602</td><td>602.0</td><td>6 servings</td></tr><tr><td>http://www.epicurious.com/recipes/member/views/chicken-tequila-fettuccine-1239601</td><td>{\"name\": \"Energy\", \"nutrient_id\": \"208\", \"unit\": \"kcal\", \"agg_value\": 3383.661650904617}</td><td>Calories 951</td><td>951.0</td><td>4 People</td></tr><tr><td>http://www.epicurious.com/recipes/member/views/hello-dolly-bars-52986111</td><td>{\"name\": \"Energy\", \"nutrient_id\": \"208\", \"unit\": \"kcal\", \"agg_value\": 3286.2127210351073}</td><td>Calories 334</td><td>334.0</td><td></td></tr><tr><td>http://www.epicurious.com/recipes/member/views/german-pancakes-53053551</td><td>{\"name\": \"Energy\", \"nutrient_id\": \"208\", \"unit\": \"kcal\", \"agg_value\": 2015.789760959599}</td><td>Calories 206</td><td>206.0</td><td></td></tr><tr><td>http://www.epicurious.com/recipes/member/views/crispy-prosciutto-wrapped-cauliflower-52826431</td><td>{\"name\": \"Energy\", \"nutrient_id\": \"208\", \"unit\": \"kcal\", \"agg_value\": 2716.297794702209}</td><td>Calories 217</td><td>217.0</td><td></td></tr><tr><td>http://www.epicurious.com/recipes/member/views/jacques-pepins-quick-roasted-chicken-51705051</td><td>{\"name\": \"Energy\", \"nutrient_id\": \"208\", \"unit\": \"kcal\", \"agg_value\": 5808.6398487995775}</td><td>Calories 1055</td><td>1055.0</td><td>4</td></tr><tr><td>http://www.epicurious.com/recipes/member/views/smores-cookies-53045031</td><td>{\"name\": \"Energy\", \"nutrient_id\": \"208\", \"unit\": \"kcal\", \"agg_value\": 4290.306633746753}</td><td>Calories 335</td><td>335.0</td><td></td></tr><tr><td>http://www.epicurious.com/recipes/member/views/streuselkuchen-50058125</td><td>{\"name\": \"Energy\", \"nutrient_id\": \"208\", \"unit\": \"kcal\", \"agg_value\": 8109.8493817762665}</td><td>Calories 327</td><td>327.0</td><td></td></tr><tr><td>http://www.epicurious.com/recipes/member/views/chocolate-toffee-and-coconut-matzo-52798491</td><td>{\"name\": \"Energy\", \"nutrient_id\": \"208\", \"unit\": \"kcal\", \"agg_value\": 1607.6078107803564}</td><td>Calories 248</td><td>248.0</td><td>8 People</td></tr><tr><td>http://www.epicurious.com/recipes/food/views/mixed-grilled-vegetables-11836</td><td>{\"name\": \"Energy\", \"nutrient_id\": \"208\", \"unit\": \"kcal\", \"agg_value\": 995.8475373558315}</td><td>Calories 162</td><td>162.0</td><td>Serves 6</td></tr><tr><td>http://www.epicurious.com/recipes/food/views/claret-lemonade-200180</td><td>{\"name\": \"Energy\", \"nutrient_id\": \"208\", \"unit\": \"kcal\", \"agg_value\": 480.3380303347621}</td><td>Calories 241</td><td>241.0</td><td></td></tr></table></div>\n",
       "    <br />(rows: 326654, time: 7.2s,    34GB processed, job: job_ix-b2Twk5Pota8KcxkbszvEmU3B5)<br />\n",
       "    <script src=\"/static/components/requirejs/require.js\"></script>\n",
       "    <script>\n",
       "\n",
       "      require.config({\n",
       "        paths: {\n",
       "          base: '/static/base',\n",
       "          d3: '//cdnjs.cloudflare.com/ajax/libs/d3/3.4.13/d3',\n",
       "          plotly: 'https://cdn.plot.ly/plotly-1.5.1.min.js?noext',\n",
       "          jquery: '//ajax.googleapis.com/ajax/libs/jquery/2.0.0/jquery.min'\n",
       "        },\n",
       "        map: {\n",
       "          '*': {\n",
       "            datalab: 'nbextensions/gcpdatalab'\n",
       "          }\n",
       "        },\n",
       "        shim: {\n",
       "          plotly: {\n",
       "            deps: ['d3', 'jquery'],\n",
       "            exports: 'plotly'\n",
       "          }\n",
       "        }\n",
       "      });\n",
       "\n",
       "      require(['datalab/charting', 'datalab/element!2_152054807561', 'base/js/events',\n",
       "          'datalab/style!/nbextensions/gcpdatalab/charting.css'],\n",
       "        function(charts, dom, events) {\n",
       "          charts.render('gcharts', dom, events, 'paged_table', [], {\"rows\": [{\"c\": [{\"v\": \"http://www.epicurious.com/recipes/member/views/cold-brew-iced-coffee-concentrate-51867001\"}, {\"v\": \"{\\\"name\\\": \\\"Energy\\\", \\\"nutrient_id\\\": \\\"208\\\", \\\"unit\\\": \\\"kcal\\\", \\\"agg_value\\\": 632.2039904173668}\"}, {\"v\": \"Calories 26\"}, {\"v\": 26.0}, {\"v\": \"5 cups concentrate\"}]}, {\"c\": [{\"v\": \"http://www.epicurious.com/recipes/member/views/quinoa-patties-52707551\"}, {\"v\": \"{\\\"name\\\": \\\"Energy\\\", \\\"nutrient_id\\\": \\\"208\\\", \\\"unit\\\": \\\"kcal\\\", \\\"agg_value\\\": 5229.592186739095}\"}, {\"v\": \"Calories 176\"}, {\"v\": 176.0}, {\"v\": \"24 patties\"}]}, {\"c\": [{\"v\": \"http://www.epicurious.com/recipes/member/views/puppy-chow-50046333\"}, {\"v\": \"{\\\"name\\\": \\\"Energy\\\", \\\"nutrient_id\\\": \\\"208\\\", \\\"unit\\\": \\\"kcal\\\", \\\"agg_value\\\": 3491.826000616919}\"}, {\"v\": \"Calories 319\"}, {\"v\": 319.0}, {\"v\": \"\"}]}, {\"c\": [{\"v\": \"http://www.epicurious.com/recipes/member/views/orzo-salad-with-basil-tomatoes-olives-1200649\"}, {\"v\": \"{\\\"name\\\": \\\"Energy\\\", \\\"nutrient_id\\\": \\\"208\\\", \\\"unit\\\": \\\"kcal\\\", \\\"agg_value\\\": 2748.2456049771486}\"}, {\"v\": \"Calories 169\"}, {\"v\": 169.0}, {\"v\": \"6 servings\"}]}, {\"c\": [{\"v\": \"http://www.epicurious.com/recipes/food/views/green-bean-and-radish-salad-5\"}, {\"v\": \"{\\\"name\\\": \\\"Energy\\\", \\\"nutrient_id\\\": \\\"208\\\", \\\"unit\\\": \\\"kcal\\\", \\\"agg_value\\\": 1204.8781298407957}\"}, {\"v\": \"Calories 296\"}, {\"v\": 296.0}, {\"v\": \"Serves 4\"}]}, {\"c\": [{\"v\": \"http://www.epicurious.com/recipes/member/views/miso-glazed-salmon-1238886\"}, {\"v\": \"{\\\"name\\\": \\\"Energy\\\", \\\"nutrient_id\\\": \\\"208\\\", \\\"unit\\\": \\\"kcal\\\", \\\"agg_value\\\": 1631.687967470364}\"}, {\"v\": \"Calories 906\"}, {\"v\": 906.0}, {\"v\": \"2 8 ounce portions\"}]}, {\"c\": [{\"v\": \"http://www.epicurious.com/recipes/member/views/peach-and-avacado-salsa-50101950\"}, {\"v\": \"{\\\"name\\\": \\\"Energy\\\", \\\"nutrient_id\\\": \\\"208\\\", \\\"unit\\\": \\\"kcal\\\", \\\"agg_value\\\": 630.8921274181932}\"}, {\"v\": \"Calories 138\"}, {\"v\": 138.0}, {\"v\": \"\"}]}, {\"c\": [{\"v\": \"http://www.epicurious.com/recipes/food/views/exotic-caramel-sauce-5163\"}, {\"v\": \"{\\\"name\\\": \\\"Energy\\\", \\\"nutrient_id\\\": \\\"208\\\", \\\"unit\\\": \\\"kcal\\\", \\\"agg_value\\\": 2896.908371192394}\"}, {\"v\": \"Calories 388\"}, {\"v\": 388.0}, {\"v\": \"Makes 2 1/2 cups\"}]}, {\"c\": [{\"v\": \"http://www.epicurious.com/recipes/member/views/fresh-fruit-salad-with-honey-vanilla-yogurt-1273447\"}, {\"v\": \"{\\\"name\\\": \\\"Energy\\\", \\\"nutrient_id\\\": \\\"208\\\", \\\"unit\\\": \\\"kcal\\\", \\\"agg_value\\\": 1268.4680656093303}\"}, {\"v\": \"Calories 182\"}, {\"v\": 182.0}, {\"v\": \"\"}]}, {\"c\": [{\"v\": \"http://www.epicurious.com/recipes/member/views/fresh-fruit-bars-52971801\"}, {\"v\": \"{\\\"name\\\": \\\"Energy\\\", \\\"nutrient_id\\\": \\\"208\\\", \\\"unit\\\": \\\"kcal\\\", \\\"agg_value\\\": 2581.4382436328965}\"}, {\"v\": \"Calories 133\"}, {\"v\": 133.0}, {\"v\": \"12\"}]}, {\"c\": [{\"v\": \"http://www.epicurious.com/recipes/member/views/bisquick-chicken-w-dumplings-51593281\"}, {\"v\": \"{\\\"name\\\": \\\"Energy\\\", \\\"nutrient_id\\\": \\\"208\\\", \\\"unit\\\": \\\"kcal\\\", \\\"agg_value\\\": 794.2231376439057}\"}, {\"v\": \"Calories 125\"}, {\"v\": 125.0}, {\"v\": \"4 Peole\"}]}, {\"c\": [{\"v\": \"http://www.epicurious.com/recipes/member/views/seared-scallops-with-creamy-noodles-and-peas-1238207\"}, {\"v\": \"{\\\"name\\\": \\\"Energy\\\", \\\"nutrient_id\\\": \\\"208\\\", \\\"unit\\\": \\\"kcal\\\", \\\"agg_value\\\": 1678.3253458903202}\"}, {\"v\": \"Calories 438\"}, {\"v\": 438.0}, {\"v\": \"4 servings\"}]}, {\"c\": [{\"v\": \"http://www.epicurious.com/recipes/member/views/chickpea-veggie-quinoa-salad-52755611\"}, {\"v\": \"{\\\"name\\\": \\\"Energy\\\", \\\"nutrient_id\\\": \\\"208\\\", \\\"unit\\\": \\\"kcal\\\", \\\"agg_value\\\": 1897.3601077903395}\"}, {\"v\": \"Calories 179\"}, {\"v\": 179.0}, {\"v\": \"\"}]}, {\"c\": [{\"v\": \"http://www.epicurious.com/recipes/member/views/leek-and-potato-braided-tart-1202155\"}, {\"v\": \"{\\\"name\\\": \\\"Energy\\\", \\\"nutrient_id\\\": \\\"208\\\", \\\"unit\\\": \\\"kcal\\\", \\\"agg_value\\\": 3325.6763054027824}\"}, {\"v\": \"Calories 482\"}, {\"v\": 482.0}, {\"v\": \"Makes 6 servings\"}]}, {\"c\": [{\"v\": \"http://www.epicurious.com/recipes/member/views/mile-high-quiche-50064700\"}, {\"v\": \"{\\\"name\\\": \\\"Energy\\\", \\\"nutrient_id\\\": \\\"208\\\", \\\"unit\\\": \\\"kcal\\\", \\\"agg_value\\\": 5528.088150762402}\"}, {\"v\": \"Calories 602\"}, {\"v\": 602.0}, {\"v\": \"6 servings\"}]}, {\"c\": [{\"v\": \"http://www.epicurious.com/recipes/member/views/chicken-tequila-fettuccine-1239601\"}, {\"v\": \"{\\\"name\\\": \\\"Energy\\\", \\\"nutrient_id\\\": \\\"208\\\", \\\"unit\\\": \\\"kcal\\\", \\\"agg_value\\\": 3383.661650904617}\"}, {\"v\": \"Calories 951\"}, {\"v\": 951.0}, {\"v\": \"4 People\"}]}, {\"c\": [{\"v\": \"http://www.epicurious.com/recipes/member/views/hello-dolly-bars-52986111\"}, {\"v\": \"{\\\"name\\\": \\\"Energy\\\", \\\"nutrient_id\\\": \\\"208\\\", \\\"unit\\\": \\\"kcal\\\", \\\"agg_value\\\": 3286.2127210351073}\"}, {\"v\": \"Calories 334\"}, {\"v\": 334.0}, {\"v\": \"\"}]}, {\"c\": [{\"v\": \"http://www.epicurious.com/recipes/member/views/german-pancakes-53053551\"}, {\"v\": \"{\\\"name\\\": \\\"Energy\\\", \\\"nutrient_id\\\": \\\"208\\\", \\\"unit\\\": \\\"kcal\\\", \\\"agg_value\\\": 2015.789760959599}\"}, {\"v\": \"Calories 206\"}, {\"v\": 206.0}, {\"v\": \"\"}]}, {\"c\": [{\"v\": \"http://www.epicurious.com/recipes/member/views/crispy-prosciutto-wrapped-cauliflower-52826431\"}, {\"v\": \"{\\\"name\\\": \\\"Energy\\\", \\\"nutrient_id\\\": \\\"208\\\", \\\"unit\\\": \\\"kcal\\\", \\\"agg_value\\\": 2716.297794702209}\"}, {\"v\": \"Calories 217\"}, {\"v\": 217.0}, {\"v\": \"\"}]}, {\"c\": [{\"v\": \"http://www.epicurious.com/recipes/member/views/jacques-pepins-quick-roasted-chicken-51705051\"}, {\"v\": \"{\\\"name\\\": \\\"Energy\\\", \\\"nutrient_id\\\": \\\"208\\\", \\\"unit\\\": \\\"kcal\\\", \\\"agg_value\\\": 5808.6398487995775}\"}, {\"v\": \"Calories 1055\"}, {\"v\": 1055.0}, {\"v\": \"4\"}]}, {\"c\": [{\"v\": \"http://www.epicurious.com/recipes/member/views/smores-cookies-53045031\"}, {\"v\": \"{\\\"name\\\": \\\"Energy\\\", \\\"nutrient_id\\\": \\\"208\\\", \\\"unit\\\": \\\"kcal\\\", \\\"agg_value\\\": 4290.306633746753}\"}, {\"v\": \"Calories 335\"}, {\"v\": 335.0}, {\"v\": \"\"}]}, {\"c\": [{\"v\": \"http://www.epicurious.com/recipes/member/views/streuselkuchen-50058125\"}, {\"v\": \"{\\\"name\\\": \\\"Energy\\\", \\\"nutrient_id\\\": \\\"208\\\", \\\"unit\\\": \\\"kcal\\\", \\\"agg_value\\\": 8109.8493817762665}\"}, {\"v\": \"Calories 327\"}, {\"v\": 327.0}, {\"v\": \"\"}]}, {\"c\": [{\"v\": \"http://www.epicurious.com/recipes/member/views/chocolate-toffee-and-coconut-matzo-52798491\"}, {\"v\": \"{\\\"name\\\": \\\"Energy\\\", \\\"nutrient_id\\\": \\\"208\\\", \\\"unit\\\": \\\"kcal\\\", \\\"agg_value\\\": 1607.6078107803564}\"}, {\"v\": \"Calories 248\"}, {\"v\": 248.0}, {\"v\": \"8 People\"}]}, {\"c\": [{\"v\": \"http://www.epicurious.com/recipes/food/views/mixed-grilled-vegetables-11836\"}, {\"v\": \"{\\\"name\\\": \\\"Energy\\\", \\\"nutrient_id\\\": \\\"208\\\", \\\"unit\\\": \\\"kcal\\\", \\\"agg_value\\\": 995.8475373558315}\"}, {\"v\": \"Calories 162\"}, {\"v\": 162.0}, {\"v\": \"Serves 6\"}]}, {\"c\": [{\"v\": \"http://www.epicurious.com/recipes/food/views/claret-lemonade-200180\"}, {\"v\": \"{\\\"name\\\": \\\"Energy\\\", \\\"nutrient_id\\\": \\\"208\\\", \\\"unit\\\": \\\"kcal\\\", \\\"agg_value\\\": 480.3380303347621}\"}, {\"v\": \"Calories 241\"}, {\"v\": 241.0}, {\"v\": \"\"}]}], \"cols\": [{\"type\": \"string\", \"id\": \"url\", \"label\": \"url\"}, {\"type\": \"string\", \"id\": \"derived_calories\", \"label\": \"derived_calories\"}, {\"type\": \"string\", \"id\": \"calories\", \"label\": \"calories\"}, {\"type\": \"number\", \"id\": \"calories_amount\", \"label\": \"calories_amount\"}, {\"type\": \"string\", \"id\": \"yield\", \"label\": \"yield\"}]},\n",
       "            {\n",
       "              pageSize: 25,\n",
       "              cssClassNames:  {\n",
       "                tableRow: 'gchart-table-row',\n",
       "                headerRow: 'gchart-table-headerrow',\n",
       "                oddTableRow: 'gchart-table-oddrow',\n",
       "                selectedTableRow: 'gchart-table-selectedrow',\n",
       "                hoverTableRow: 'gchart-table-hoverrow',\n",
       "                tableCell: 'gchart-table-cell',\n",
       "                headerCell: 'gchart-table-headercell',\n",
       "                rowNumberCell: 'gchart-table-rownumcell'\n",
       "              }\n",
       "            },\n",
       "            {source_index: 1, fields: 'url,derived_calories,calories,calories_amount,yield', legacy: 'true'},\n",
       "            0,\n",
       "            326654);\n",
       "        }\n",
       "      );\n",
       "    </script>\n",
       "  "
      ],
      "text/plain": [
       "QueryResultsTable job_ix-b2Twk5Pota8KcxkbszvEmU3B5"
      ]
     },
     "execution_count": 8,
     "metadata": {},
     "output_type": "execute_result"
    }
   ],
   "source": [
    "%%bigquery execute -q epicurious_compare_calories_nutrition"
   ]
  },
  {
   "cell_type": "markdown",
   "metadata": {},
   "source": [
    "Note that we import a column called `yield`. Since we want to be able to compare calories from both columns, we will need to eventually divide the calory amount from `derived_nutrition` by `yield`."
   ]
  },
  {
   "cell_type": "markdown",
   "metadata": {},
   "source": [
    "Export data to pandas dataframe."
   ]
  },
  {
   "cell_type": "code",
   "execution_count": 9,
   "metadata": {
    "collapsed": true
   },
   "outputs": [],
   "source": [
    "epicurious_calories_df = bq.Query(epicurious_compare_calories_nutrition).to_dataframe()"
   ]
  },
  {
   "cell_type": "code",
   "execution_count": 10,
   "metadata": {
    "collapsed": false
   },
   "outputs": [
    {
     "data": {
      "text/html": [
       "<div>\n",
       "<style scoped>\n",
       "    .dataframe tbody tr th:only-of-type {\n",
       "        vertical-align: middle;\n",
       "    }\n",
       "\n",
       "    .dataframe tbody tr th {\n",
       "        vertical-align: top;\n",
       "    }\n",
       "\n",
       "    .dataframe thead th {\n",
       "        text-align: right;\n",
       "    }\n",
       "</style>\n",
       "<table border=\"1\" class=\"dataframe\">\n",
       "  <thead>\n",
       "    <tr style=\"text-align: right;\">\n",
       "      <th></th>\n",
       "      <th>url</th>\n",
       "      <th>derived_calories</th>\n",
       "      <th>calories</th>\n",
       "      <th>calories_amount</th>\n",
       "      <th>yield</th>\n",
       "    </tr>\n",
       "  </thead>\n",
       "  <tbody>\n",
       "    <tr>\n",
       "      <th>0</th>\n",
       "      <td>http://www.epicurious.com/recipes/food/views/pasta-with-tomatoes-and-goat-cheese-103833</td>\n",
       "      <td>{\"name\": \"Energy\", \"nutrient_id\": \"208\", \"unit\": \"kcal\", \"agg_value\": 2813.6989705594024}</td>\n",
       "      <td>Calories 605</td>\n",
       "      <td>605.00</td>\n",
       "      <td>Makes 4 to 6 servings</td>\n",
       "    </tr>\n",
       "    <tr>\n",
       "      <th>1</th>\n",
       "      <td>http://www.epicurious.com/recipes/food/views/parmesan-roasted-butternut-squash-350608</td>\n",
       "      <td>{\"name\": \"Energy\", \"nutrient_id\": \"208\", \"unit\": \"kcal\", \"agg_value\": 1028.9744300143527}</td>\n",
       "      <td>Calories 168</td>\n",
       "      <td>168.00</td>\n",
       "      <td>Makes 8 servings</td>\n",
       "    </tr>\n",
       "    <tr>\n",
       "      <th>2</th>\n",
       "      <td>http://www.epicurious.com/recipes/food/views/crisp-roast-duck-235744</td>\n",
       "      <td>{\"name\": \"Energy\", \"nutrient_id\": \"208\", \"unit\": \"kcal\", \"agg_value\": 1002.6639500997622}</td>\n",
       "      <td>Calories 2521</td>\n",
       "      <td>2521.00</td>\n",
       "      <td>Makes 4 servings</td>\n",
       "    </tr>\n",
       "    <tr>\n",
       "      <th>3</th>\n",
       "      <td>http://www.epicurious.com/recipes/food/views/bearnaise-sauce-395049</td>\n",
       "      <td>{\"name\": \"Energy\", \"nutrient_id\": \"208\", \"unit\": \"kcal\", \"agg_value\": 578.1664392632631}</td>\n",
       "      <td>Calories 235</td>\n",
       "      <td>235.00</td>\n",
       "      <td>Makes about 1 cup</td>\n",
       "    </tr>\n",
       "    <tr>\n",
       "      <th>4</th>\n",
       "      <td>http://www.epicurious.com/recipes/food/views/poblano-potato-gratin-350596</td>\n",
       "      <td>{\"name\": \"Energy\", \"nutrient_id\": \"208\", \"unit\": \"kcal\", \"agg_value\": 5088.05744129111}</td>\n",
       "      <td>Calories 295</td>\n",
       "      <td>295.00</td>\n",
       "      <td>Makes 8 (side dish) servings</td>\n",
       "    </tr>\n",
       "  </tbody>\n",
       "</table>\n",
       "</div>"
      ],
      "text/plain": [
       "                                                                                       url  \\\n",
       "0  http://www.epicurious.com/recipes/food/views/pasta-with-tomatoes-and-goat-cheese-103833   \n",
       "1  http://www.epicurious.com/recipes/food/views/parmesan-roasted-butternut-squash-350608     \n",
       "2  http://www.epicurious.com/recipes/food/views/crisp-roast-duck-235744                      \n",
       "3  http://www.epicurious.com/recipes/food/views/bearnaise-sauce-395049                       \n",
       "4  http://www.epicurious.com/recipes/food/views/poblano-potato-gratin-350596                 \n",
       "\n",
       "                                                                            derived_calories  \\\n",
       "0  {\"name\": \"Energy\", \"nutrient_id\": \"208\", \"unit\": \"kcal\", \"agg_value\": 2813.6989705594024}   \n",
       "1  {\"name\": \"Energy\", \"nutrient_id\": \"208\", \"unit\": \"kcal\", \"agg_value\": 1028.9744300143527}   \n",
       "2  {\"name\": \"Energy\", \"nutrient_id\": \"208\", \"unit\": \"kcal\", \"agg_value\": 1002.6639500997622}   \n",
       "3  {\"name\": \"Energy\", \"nutrient_id\": \"208\", \"unit\": \"kcal\", \"agg_value\": 578.1664392632631}    \n",
       "4  {\"name\": \"Energy\", \"nutrient_id\": \"208\", \"unit\": \"kcal\", \"agg_value\": 5088.05744129111}     \n",
       "\n",
       "        calories  calories_amount                         yield  \n",
       "0  Calories 605  605.00            Makes 4 to 6 servings         \n",
       "1  Calories 168  168.00            Makes 8 servings              \n",
       "2  Calories 2521 2521.00           Makes 4 servings              \n",
       "3  Calories 235  235.00            Makes about 1 cup             \n",
       "4  Calories 295  295.00            Makes 8 (side dish) servings  "
      ]
     },
     "execution_count": 10,
     "metadata": {},
     "output_type": "execute_result"
    }
   ],
   "source": [
    "epicurious_calories_df.head()"
   ]
  },
  {
   "cell_type": "markdown",
   "metadata": {},
   "source": [
    "How many rows of data?"
   ]
  },
  {
   "cell_type": "code",
   "execution_count": 11,
   "metadata": {
    "collapsed": false
   },
   "outputs": [
    {
     "data": {
      "text/plain": [
       "326657"
      ]
     },
     "execution_count": 11,
     "metadata": {},
     "output_type": "execute_result"
    }
   ],
   "source": [
    "epicurious_calories_df.shape[0]"
   ]
  },
  {
   "cell_type": "markdown",
   "metadata": {},
   "source": [
    "We extract the serving amount from yield. Note that we only extract the first number in case two or more are present, like 'Makes 6-8 servings', we extract 6."
   ]
  },
  {
   "cell_type": "code",
   "execution_count": 12,
   "metadata": {
    "collapsed": true
   },
   "outputs": [],
   "source": [
    "epicurious_calories_df['yield_amount'] = epicurious_calories_df['yield'].str.extract('([0-9]+)', expand=True)"
   ]
  },
  {
   "cell_type": "markdown",
   "metadata": {},
   "source": [
    "Converting figure to numeric format."
   ]
  },
  {
   "cell_type": "code",
   "execution_count": 13,
   "metadata": {
    "collapsed": false
   },
   "outputs": [],
   "source": [
    "epicurious_calories_df['yield_amount'] = epicurious_calories_df['yield_amount'].apply(pd.to_numeric)"
   ]
  },
  {
   "cell_type": "markdown",
   "metadata": {},
   "source": [
    "If no yield is present, instead to replace with 0, we default to 4 (**normally**, recipes are for 4  servings)."
   ]
  },
  {
   "cell_type": "code",
   "execution_count": 14,
   "metadata": {
    "collapsed": true
   },
   "outputs": [],
   "source": [
    "epicurious_calories_df['yield_amount'].fillna(4, inplace=True)"
   ]
  },
  {
   "cell_type": "markdown",
   "metadata": {},
   "source": [
    "Also, if a 0 is present, we replace with 4 (to avoid division by 0 later on)."
   ]
  },
  {
   "cell_type": "code",
   "execution_count": 15,
   "metadata": {
    "collapsed": true
   },
   "outputs": [],
   "source": [
    "epicurious_calories_df['yield_amount'].replace(0, 4,inplace=True)"
   ]
  },
  {
   "cell_type": "code",
   "execution_count": 16,
   "metadata": {
    "collapsed": false
   },
   "outputs": [
    {
     "data": {
      "text/html": [
       "<div>\n",
       "<style scoped>\n",
       "    .dataframe tbody tr th:only-of-type {\n",
       "        vertical-align: middle;\n",
       "    }\n",
       "\n",
       "    .dataframe tbody tr th {\n",
       "        vertical-align: top;\n",
       "    }\n",
       "\n",
       "    .dataframe thead th {\n",
       "        text-align: right;\n",
       "    }\n",
       "</style>\n",
       "<table border=\"1\" class=\"dataframe\">\n",
       "  <thead>\n",
       "    <tr style=\"text-align: right;\">\n",
       "      <th></th>\n",
       "      <th>url</th>\n",
       "      <th>derived_calories</th>\n",
       "      <th>calories</th>\n",
       "      <th>calories_amount</th>\n",
       "      <th>yield</th>\n",
       "      <th>yield_amount</th>\n",
       "    </tr>\n",
       "  </thead>\n",
       "  <tbody>\n",
       "    <tr>\n",
       "      <th>0</th>\n",
       "      <td>http://www.epicurious.com/recipes/food/views/pasta-with-tomatoes-and-goat-cheese-103833</td>\n",
       "      <td>{\"name\": \"Energy\", \"nutrient_id\": \"208\", \"unit\": \"kcal\", \"agg_value\": 2813.6989705594024}</td>\n",
       "      <td>Calories 605</td>\n",
       "      <td>605.00</td>\n",
       "      <td>Makes 4 to 6 servings</td>\n",
       "      <td>4.00</td>\n",
       "    </tr>\n",
       "    <tr>\n",
       "      <th>1</th>\n",
       "      <td>http://www.epicurious.com/recipes/food/views/parmesan-roasted-butternut-squash-350608</td>\n",
       "      <td>{\"name\": \"Energy\", \"nutrient_id\": \"208\", \"unit\": \"kcal\", \"agg_value\": 1028.9744300143527}</td>\n",
       "      <td>Calories 168</td>\n",
       "      <td>168.00</td>\n",
       "      <td>Makes 8 servings</td>\n",
       "      <td>8.00</td>\n",
       "    </tr>\n",
       "    <tr>\n",
       "      <th>2</th>\n",
       "      <td>http://www.epicurious.com/recipes/food/views/crisp-roast-duck-235744</td>\n",
       "      <td>{\"name\": \"Energy\", \"nutrient_id\": \"208\", \"unit\": \"kcal\", \"agg_value\": 1002.6639500997622}</td>\n",
       "      <td>Calories 2521</td>\n",
       "      <td>2521.00</td>\n",
       "      <td>Makes 4 servings</td>\n",
       "      <td>4.00</td>\n",
       "    </tr>\n",
       "    <tr>\n",
       "      <th>3</th>\n",
       "      <td>http://www.epicurious.com/recipes/food/views/bearnaise-sauce-395049</td>\n",
       "      <td>{\"name\": \"Energy\", \"nutrient_id\": \"208\", \"unit\": \"kcal\", \"agg_value\": 578.1664392632631}</td>\n",
       "      <td>Calories 235</td>\n",
       "      <td>235.00</td>\n",
       "      <td>Makes about 1 cup</td>\n",
       "      <td>1.00</td>\n",
       "    </tr>\n",
       "    <tr>\n",
       "      <th>4</th>\n",
       "      <td>http://www.epicurious.com/recipes/food/views/poblano-potato-gratin-350596</td>\n",
       "      <td>{\"name\": \"Energy\", \"nutrient_id\": \"208\", \"unit\": \"kcal\", \"agg_value\": 5088.05744129111}</td>\n",
       "      <td>Calories 295</td>\n",
       "      <td>295.00</td>\n",
       "      <td>Makes 8 (side dish) servings</td>\n",
       "      <td>8.00</td>\n",
       "    </tr>\n",
       "  </tbody>\n",
       "</table>\n",
       "</div>"
      ],
      "text/plain": [
       "                                                                                       url  \\\n",
       "0  http://www.epicurious.com/recipes/food/views/pasta-with-tomatoes-and-goat-cheese-103833   \n",
       "1  http://www.epicurious.com/recipes/food/views/parmesan-roasted-butternut-squash-350608     \n",
       "2  http://www.epicurious.com/recipes/food/views/crisp-roast-duck-235744                      \n",
       "3  http://www.epicurious.com/recipes/food/views/bearnaise-sauce-395049                       \n",
       "4  http://www.epicurious.com/recipes/food/views/poblano-potato-gratin-350596                 \n",
       "\n",
       "                                                                            derived_calories  \\\n",
       "0  {\"name\": \"Energy\", \"nutrient_id\": \"208\", \"unit\": \"kcal\", \"agg_value\": 2813.6989705594024}   \n",
       "1  {\"name\": \"Energy\", \"nutrient_id\": \"208\", \"unit\": \"kcal\", \"agg_value\": 1028.9744300143527}   \n",
       "2  {\"name\": \"Energy\", \"nutrient_id\": \"208\", \"unit\": \"kcal\", \"agg_value\": 1002.6639500997622}   \n",
       "3  {\"name\": \"Energy\", \"nutrient_id\": \"208\", \"unit\": \"kcal\", \"agg_value\": 578.1664392632631}    \n",
       "4  {\"name\": \"Energy\", \"nutrient_id\": \"208\", \"unit\": \"kcal\", \"agg_value\": 5088.05744129111}     \n",
       "\n",
       "        calories  calories_amount                         yield  yield_amount  \n",
       "0  Calories 605  605.00            Makes 4 to 6 servings        4.00           \n",
       "1  Calories 168  168.00            Makes 8 servings             8.00           \n",
       "2  Calories 2521 2521.00           Makes 4 servings             4.00           \n",
       "3  Calories 235  235.00            Makes about 1 cup            1.00           \n",
       "4  Calories 295  295.00            Makes 8 (side dish) servings 8.00           "
      ]
     },
     "execution_count": 16,
     "metadata": {},
     "output_type": "execute_result"
    }
   ],
   "source": [
    "epicurious_calories_df.head()"
   ]
  },
  {
   "cell_type": "markdown",
   "metadata": {},
   "source": [
    "Let's check the columns data types."
   ]
  },
  {
   "cell_type": "code",
   "execution_count": 17,
   "metadata": {
    "collapsed": false
   },
   "outputs": [
    {
     "name": "stdout",
     "output_type": "stream",
     "text": [
      "<class 'pandas.core.frame.DataFrame'>\n",
      "RangeIndex: 326657 entries, 0 to 326656\n",
      "Data columns (total 6 columns):\n",
      "url                 326657 non-null object\n",
      "derived_calories    326657 non-null object\n",
      "calories            326657 non-null object\n",
      "calories_amount     326657 non-null float64\n",
      "yield               326657 non-null object\n",
      "yield_amount        326657 non-null float64\n",
      "dtypes: float64(2), object(4)\n",
      "memory usage: 15.0+ MB\n"
     ]
    }
   ],
   "source": [
    "epicurious_calories_df.info()"
   ]
  },
  {
   "cell_type": "markdown",
   "metadata": {},
   "source": [
    "Extracting numeric value of derived calories using regex."
   ]
  },
  {
   "cell_type": "code",
   "execution_count": 18,
   "metadata": {
    "collapsed": true
   },
   "outputs": [],
   "source": [
    "epicurious_calories_df['derived_calories_amount'] = epicurious_calories_df['derived_calories'].str.extract('\"agg_value\": ([0-9]+.[0-9]+)', expand=True)"
   ]
  },
  {
   "cell_type": "markdown",
   "metadata": {},
   "source": [
    "Converting new column into float data type."
   ]
  },
  {
   "cell_type": "code",
   "execution_count": 19,
   "metadata": {
    "collapsed": true
   },
   "outputs": [],
   "source": [
    "epicurious_calories_df['derived_calories_amount'] = epicurious_calories_df['derived_calories_amount'].apply(pd.to_numeric)"
   ]
  },
  {
   "cell_type": "markdown",
   "metadata": {},
   "source": [
    "We create a new column by dividing 'derived_calories_amount' by 'yield_amount'."
   ]
  },
  {
   "cell_type": "code",
   "execution_count": 20,
   "metadata": {
    "collapsed": true
   },
   "outputs": [],
   "source": [
    "epicurious_calories_df['yield_derived_calories_amount'] = epicurious_calories_df['derived_calories_amount']/epicurious_calories_df['yield_amount']"
   ]
  },
  {
   "cell_type": "markdown",
   "metadata": {},
   "source": [
    "Creating a column with the difference between both calories amounts."
   ]
  },
  {
   "cell_type": "code",
   "execution_count": 21,
   "metadata": {
    "collapsed": true
   },
   "outputs": [],
   "source": [
    "epicurious_calories_df['difference_calories_amount'] = epicurious_calories_df['yield_derived_calories_amount'] - epicurious_calories_df['calories_amount']"
   ]
  },
  {
   "cell_type": "code",
   "execution_count": 22,
   "metadata": {
    "collapsed": false
   },
   "outputs": [
    {
     "data": {
      "text/html": [
       "<div>\n",
       "<style scoped>\n",
       "    .dataframe tbody tr th:only-of-type {\n",
       "        vertical-align: middle;\n",
       "    }\n",
       "\n",
       "    .dataframe tbody tr th {\n",
       "        vertical-align: top;\n",
       "    }\n",
       "\n",
       "    .dataframe thead th {\n",
       "        text-align: right;\n",
       "    }\n",
       "</style>\n",
       "<table border=\"1\" class=\"dataframe\">\n",
       "  <thead>\n",
       "    <tr style=\"text-align: right;\">\n",
       "      <th></th>\n",
       "      <th>url</th>\n",
       "      <th>derived_calories</th>\n",
       "      <th>calories</th>\n",
       "      <th>calories_amount</th>\n",
       "      <th>yield</th>\n",
       "      <th>yield_amount</th>\n",
       "      <th>derived_calories_amount</th>\n",
       "      <th>yield_derived_calories_amount</th>\n",
       "      <th>difference_calories_amount</th>\n",
       "    </tr>\n",
       "  </thead>\n",
       "  <tbody>\n",
       "    <tr>\n",
       "      <th>0</th>\n",
       "      <td>http://www.epicurious.com/recipes/food/views/pasta-with-tomatoes-and-goat-cheese-103833</td>\n",
       "      <td>{\"name\": \"Energy\", \"nutrient_id\": \"208\", \"unit\": \"kcal\", \"agg_value\": 2813.6989705594024}</td>\n",
       "      <td>Calories 605</td>\n",
       "      <td>605.00</td>\n",
       "      <td>Makes 4 to 6 servings</td>\n",
       "      <td>4.00</td>\n",
       "      <td>2813.70</td>\n",
       "      <td>703.42</td>\n",
       "      <td>98.42</td>\n",
       "    </tr>\n",
       "    <tr>\n",
       "      <th>1</th>\n",
       "      <td>http://www.epicurious.com/recipes/food/views/parmesan-roasted-butternut-squash-350608</td>\n",
       "      <td>{\"name\": \"Energy\", \"nutrient_id\": \"208\", \"unit\": \"kcal\", \"agg_value\": 1028.9744300143527}</td>\n",
       "      <td>Calories 168</td>\n",
       "      <td>168.00</td>\n",
       "      <td>Makes 8 servings</td>\n",
       "      <td>8.00</td>\n",
       "      <td>1028.97</td>\n",
       "      <td>128.62</td>\n",
       "      <td>-39.38</td>\n",
       "    </tr>\n",
       "    <tr>\n",
       "      <th>2</th>\n",
       "      <td>http://www.epicurious.com/recipes/food/views/crisp-roast-duck-235744</td>\n",
       "      <td>{\"name\": \"Energy\", \"nutrient_id\": \"208\", \"unit\": \"kcal\", \"agg_value\": 1002.6639500997622}</td>\n",
       "      <td>Calories 2521</td>\n",
       "      <td>2521.00</td>\n",
       "      <td>Makes 4 servings</td>\n",
       "      <td>4.00</td>\n",
       "      <td>1002.66</td>\n",
       "      <td>250.67</td>\n",
       "      <td>-2270.33</td>\n",
       "    </tr>\n",
       "    <tr>\n",
       "      <th>3</th>\n",
       "      <td>http://www.epicurious.com/recipes/food/views/bearnaise-sauce-395049</td>\n",
       "      <td>{\"name\": \"Energy\", \"nutrient_id\": \"208\", \"unit\": \"kcal\", \"agg_value\": 578.1664392632631}</td>\n",
       "      <td>Calories 235</td>\n",
       "      <td>235.00</td>\n",
       "      <td>Makes about 1 cup</td>\n",
       "      <td>1.00</td>\n",
       "      <td>578.17</td>\n",
       "      <td>578.17</td>\n",
       "      <td>343.17</td>\n",
       "    </tr>\n",
       "    <tr>\n",
       "      <th>4</th>\n",
       "      <td>http://www.epicurious.com/recipes/food/views/poblano-potato-gratin-350596</td>\n",
       "      <td>{\"name\": \"Energy\", \"nutrient_id\": \"208\", \"unit\": \"kcal\", \"agg_value\": 5088.05744129111}</td>\n",
       "      <td>Calories 295</td>\n",
       "      <td>295.00</td>\n",
       "      <td>Makes 8 (side dish) servings</td>\n",
       "      <td>8.00</td>\n",
       "      <td>5088.06</td>\n",
       "      <td>636.01</td>\n",
       "      <td>341.01</td>\n",
       "    </tr>\n",
       "  </tbody>\n",
       "</table>\n",
       "</div>"
      ],
      "text/plain": [
       "                                                                                       url  \\\n",
       "0  http://www.epicurious.com/recipes/food/views/pasta-with-tomatoes-and-goat-cheese-103833   \n",
       "1  http://www.epicurious.com/recipes/food/views/parmesan-roasted-butternut-squash-350608     \n",
       "2  http://www.epicurious.com/recipes/food/views/crisp-roast-duck-235744                      \n",
       "3  http://www.epicurious.com/recipes/food/views/bearnaise-sauce-395049                       \n",
       "4  http://www.epicurious.com/recipes/food/views/poblano-potato-gratin-350596                 \n",
       "\n",
       "                                                                            derived_calories  \\\n",
       "0  {\"name\": \"Energy\", \"nutrient_id\": \"208\", \"unit\": \"kcal\", \"agg_value\": 2813.6989705594024}   \n",
       "1  {\"name\": \"Energy\", \"nutrient_id\": \"208\", \"unit\": \"kcal\", \"agg_value\": 1028.9744300143527}   \n",
       "2  {\"name\": \"Energy\", \"nutrient_id\": \"208\", \"unit\": \"kcal\", \"agg_value\": 1002.6639500997622}   \n",
       "3  {\"name\": \"Energy\", \"nutrient_id\": \"208\", \"unit\": \"kcal\", \"agg_value\": 578.1664392632631}    \n",
       "4  {\"name\": \"Energy\", \"nutrient_id\": \"208\", \"unit\": \"kcal\", \"agg_value\": 5088.05744129111}     \n",
       "\n",
       "        calories  calories_amount                         yield  yield_amount  \\\n",
       "0  Calories 605  605.00            Makes 4 to 6 servings        4.00            \n",
       "1  Calories 168  168.00            Makes 8 servings             8.00            \n",
       "2  Calories 2521 2521.00           Makes 4 servings             4.00            \n",
       "3  Calories 235  235.00            Makes about 1 cup            1.00            \n",
       "4  Calories 295  295.00            Makes 8 (side dish) servings 8.00            \n",
       "\n",
       "   derived_calories_amount  yield_derived_calories_amount  \\\n",
       "0 2813.70                  703.42                           \n",
       "1 1028.97                  128.62                           \n",
       "2 1002.66                  250.67                           \n",
       "3 578.17                   578.17                           \n",
       "4 5088.06                  636.01                           \n",
       "\n",
       "   difference_calories_amount  \n",
       "0 98.42                        \n",
       "1 -39.38                       \n",
       "2 -2270.33                     \n",
       "3 343.17                       \n",
       "4 341.01                       "
      ]
     },
     "execution_count": 22,
     "metadata": {},
     "output_type": "execute_result"
    }
   ],
   "source": [
    "epicurious_calories_df.head()"
   ]
  },
  {
   "cell_type": "markdown",
   "metadata": {},
   "source": [
    "Checking the columns data types again."
   ]
  },
  {
   "cell_type": "code",
   "execution_count": 23,
   "metadata": {
    "collapsed": false
   },
   "outputs": [
    {
     "name": "stdout",
     "output_type": "stream",
     "text": [
      "<class 'pandas.core.frame.DataFrame'>\n",
      "RangeIndex: 326657 entries, 0 to 326656\n",
      "Data columns (total 9 columns):\n",
      "url                              326657 non-null object\n",
      "derived_calories                 326657 non-null object\n",
      "calories                         326657 non-null object\n",
      "calories_amount                  326657 non-null float64\n",
      "yield                            326657 non-null object\n",
      "yield_amount                     326657 non-null float64\n",
      "derived_calories_amount          326657 non-null float64\n",
      "yield_derived_calories_amount    326657 non-null float64\n",
      "difference_calories_amount       326657 non-null float64\n",
      "dtypes: float64(5), object(4)\n",
      "memory usage: 22.4+ MB\n"
     ]
    }
   ],
   "source": [
    "epicurious_calories_df.info()"
   ]
  },
  {
   "cell_type": "markdown",
   "metadata": {},
   "source": [
    "Exploring basic statistics of the calories amount from both sources."
   ]
  },
  {
   "cell_type": "code",
   "execution_count": 24,
   "metadata": {
    "collapsed": false
   },
   "outputs": [
    {
     "data": {
      "text/html": [
       "<div>\n",
       "<style scoped>\n",
       "    .dataframe tbody tr th:only-of-type {\n",
       "        vertical-align: middle;\n",
       "    }\n",
       "\n",
       "    .dataframe tbody tr th {\n",
       "        vertical-align: top;\n",
       "    }\n",
       "\n",
       "    .dataframe thead th {\n",
       "        text-align: right;\n",
       "    }\n",
       "</style>\n",
       "<table border=\"1\" class=\"dataframe\">\n",
       "  <thead>\n",
       "    <tr style=\"text-align: right;\">\n",
       "      <th></th>\n",
       "      <th>calories_amount</th>\n",
       "      <th>yield_amount</th>\n",
       "      <th>derived_calories_amount</th>\n",
       "      <th>yield_derived_calories_amount</th>\n",
       "      <th>difference_calories_amount</th>\n",
       "    </tr>\n",
       "  </thead>\n",
       "  <tbody>\n",
       "    <tr>\n",
       "      <th>count</th>\n",
       "      <td>326657.00</td>\n",
       "      <td>326657.00</td>\n",
       "      <td>326657.00</td>\n",
       "      <td>326657.00</td>\n",
       "      <td>326657.00</td>\n",
       "    </tr>\n",
       "    <tr>\n",
       "      <th>mean</th>\n",
       "      <td>1666.61</td>\n",
       "      <td>5.96</td>\n",
       "      <td>3848.20</td>\n",
       "      <td>815.87</td>\n",
       "      <td>-850.73</td>\n",
       "    </tr>\n",
       "    <tr>\n",
       "      <th>std</th>\n",
       "      <td>195041.76</td>\n",
       "      <td>6.50</td>\n",
       "      <td>19033.50</td>\n",
       "      <td>4345.81</td>\n",
       "      <td>195093.03</td>\n",
       "    </tr>\n",
       "    <tr>\n",
       "      <th>min</th>\n",
       "      <td>0.00</td>\n",
       "      <td>1.00</td>\n",
       "      <td>0.00</td>\n",
       "      <td>0.00</td>\n",
       "      <td>-44659497.27</td>\n",
       "    </tr>\n",
       "    <tr>\n",
       "      <th>25%</th>\n",
       "      <td>254.00</td>\n",
       "      <td>4.00</td>\n",
       "      <td>1587.93</td>\n",
       "      <td>328.12</td>\n",
       "      <td>-68.92</td>\n",
       "    </tr>\n",
       "    <tr>\n",
       "      <th>50%</th>\n",
       "      <td>382.00</td>\n",
       "      <td>4.00</td>\n",
       "      <td>2615.59</td>\n",
       "      <td>549.77</td>\n",
       "      <td>54.50</td>\n",
       "    </tr>\n",
       "    <tr>\n",
       "      <th>75%</th>\n",
       "      <td>688.00</td>\n",
       "      <td>6.00</td>\n",
       "      <td>4106.10</td>\n",
       "      <td>822.56</td>\n",
       "      <td>265.36</td>\n",
       "    </tr>\n",
       "    <tr>\n",
       "      <th>max</th>\n",
       "      <td>44659793.00</td>\n",
       "      <td>1995.00</td>\n",
       "      <td>1929522.72</td>\n",
       "      <td>401618.51</td>\n",
       "      <td>401330.51</td>\n",
       "    </tr>\n",
       "  </tbody>\n",
       "</table>\n",
       "</div>"
      ],
      "text/plain": [
       "       calories_amount  yield_amount  derived_calories_amount  \\\n",
       "count 326657.00        326657.00     326657.00                  \n",
       "mean  1666.61          5.96          3848.20                    \n",
       "std   195041.76        6.50          19033.50                   \n",
       "min   0.00             1.00          0.00                       \n",
       "25%   254.00           4.00          1587.93                    \n",
       "50%   382.00           4.00          2615.59                    \n",
       "75%   688.00           6.00          4106.10                    \n",
       "max   44659793.00      1995.00       1929522.72                 \n",
       "\n",
       "       yield_derived_calories_amount  difference_calories_amount  \n",
       "count 326657.00                      326657.00                    \n",
       "mean  815.87                         -850.73                      \n",
       "std   4345.81                        195093.03                    \n",
       "min   0.00                           -44659497.27                 \n",
       "25%   328.12                         -68.92                       \n",
       "50%   549.77                         54.50                        \n",
       "75%   822.56                         265.36                       \n",
       "max   401618.51                      401330.51                    "
      ]
     },
     "execution_count": 24,
     "metadata": {},
     "output_type": "execute_result"
    }
   ],
   "source": [
    "epicurious_calories_df.describe()"
   ]
  },
  {
   "cell_type": "markdown",
   "metadata": {},
   "source": [
    "How many recipes have 0 calories?"
   ]
  },
  {
   "cell_type": "code",
   "execution_count": 25,
   "metadata": {
    "collapsed": false
   },
   "outputs": [],
   "source": [
    "epicurious_0_calories_df = epicurious_calories_df[(epicurious_calories_df['derived_calories_amount'] == 0) | epicurious_calories_df['calories_amount'] == 0]"
   ]
  },
  {
   "cell_type": "code",
   "execution_count": 26,
   "metadata": {
    "collapsed": false
   },
   "outputs": [
    {
     "data": {
      "text/plain": [
       "69"
      ]
     },
     "execution_count": 26,
     "metadata": {},
     "output_type": "execute_result"
    }
   ],
   "source": [
    "epicurious_0_calories_df.shape[0]"
   ]
  },
  {
   "cell_type": "markdown",
   "metadata": {},
   "source": [
    "If we don't filter out extreme calories values, we won't get a very useful histogram or box plot."
   ]
  },
  {
   "cell_type": "markdown",
   "metadata": {},
   "source": [
    "Let's create a dataframe with calories amount greater than 0 and less than 5,000."
   ]
  },
  {
   "cell_type": "code",
   "execution_count": 27,
   "metadata": {
    "collapsed": true
   },
   "outputs": [],
   "source": [
    "epicurious_calories_0_5000_pre_df = epicurious_calories_df[(epicurious_calories_df['calories_amount'] > 0) & (epicurious_calories_df['calories_amount'] < 5000)]"
   ]
  },
  {
   "cell_type": "code",
   "execution_count": 28,
   "metadata": {
    "collapsed": true
   },
   "outputs": [],
   "source": [
    "epicurious_calories_0_5000_df = epicurious_calories_0_5000_pre_df[(epicurious_calories_0_5000_pre_df['derived_calories_amount'] > 0) & (epicurious_calories_0_5000_pre_df['derived_calories_amount'] < 5000)]"
   ]
  },
  {
   "cell_type": "code",
   "execution_count": 29,
   "metadata": {
    "collapsed": false
   },
   "outputs": [
    {
     "data": {
      "text/html": [
       "<div>\n",
       "<style scoped>\n",
       "    .dataframe tbody tr th:only-of-type {\n",
       "        vertical-align: middle;\n",
       "    }\n",
       "\n",
       "    .dataframe tbody tr th {\n",
       "        vertical-align: top;\n",
       "    }\n",
       "\n",
       "    .dataframe thead th {\n",
       "        text-align: right;\n",
       "    }\n",
       "</style>\n",
       "<table border=\"1\" class=\"dataframe\">\n",
       "  <thead>\n",
       "    <tr style=\"text-align: right;\">\n",
       "      <th></th>\n",
       "      <th>calories_amount</th>\n",
       "      <th>yield_amount</th>\n",
       "      <th>derived_calories_amount</th>\n",
       "      <th>yield_derived_calories_amount</th>\n",
       "      <th>difference_calories_amount</th>\n",
       "    </tr>\n",
       "  </thead>\n",
       "  <tbody>\n",
       "    <tr>\n",
       "      <th>count</th>\n",
       "      <td>271521.00</td>\n",
       "      <td>271521.00</td>\n",
       "      <td>271521.00</td>\n",
       "      <td>271521.00</td>\n",
       "      <td>271521.00</td>\n",
       "    </tr>\n",
       "    <tr>\n",
       "      <th>mean</th>\n",
       "      <td>487.96</td>\n",
       "      <td>5.65</td>\n",
       "      <td>2371.05</td>\n",
       "      <td>545.66</td>\n",
       "      <td>57.71</td>\n",
       "    </tr>\n",
       "    <tr>\n",
       "      <th>std</th>\n",
       "      <td>392.84</td>\n",
       "      <td>6.30</td>\n",
       "      <td>1203.71</td>\n",
       "      <td>414.61</td>\n",
       "      <td>478.89</td>\n",
       "    </tr>\n",
       "    <tr>\n",
       "      <th>min</th>\n",
       "      <td>1.00</td>\n",
       "      <td>1.00</td>\n",
       "      <td>0.98</td>\n",
       "      <td>0.25</td>\n",
       "      <td>-4578.17</td>\n",
       "    </tr>\n",
       "    <tr>\n",
       "      <th>25%</th>\n",
       "      <td>240.00</td>\n",
       "      <td>4.00</td>\n",
       "      <td>1453.84</td>\n",
       "      <td>293.15</td>\n",
       "      <td>-79.55</td>\n",
       "    </tr>\n",
       "    <tr>\n",
       "      <th>50%</th>\n",
       "      <td>355.00</td>\n",
       "      <td>4.00</td>\n",
       "      <td>2276.22</td>\n",
       "      <td>477.64</td>\n",
       "      <td>36.19</td>\n",
       "    </tr>\n",
       "    <tr>\n",
       "      <th>75%</th>\n",
       "      <td>625.00</td>\n",
       "      <td>6.00</td>\n",
       "      <td>3230.34</td>\n",
       "      <td>698.08</td>\n",
       "      <td>197.33</td>\n",
       "    </tr>\n",
       "    <tr>\n",
       "      <th>max</th>\n",
       "      <td>4907.00</td>\n",
       "      <td>1995.00</td>\n",
       "      <td>4998.58</td>\n",
       "      <td>4993.46</td>\n",
       "      <td>4709.46</td>\n",
       "    </tr>\n",
       "  </tbody>\n",
       "</table>\n",
       "</div>"
      ],
      "text/plain": [
       "       calories_amount  yield_amount  derived_calories_amount  \\\n",
       "count 271521.00        271521.00     271521.00                  \n",
       "mean  487.96           5.65          2371.05                    \n",
       "std   392.84           6.30          1203.71                    \n",
       "min   1.00             1.00          0.98                       \n",
       "25%   240.00           4.00          1453.84                    \n",
       "50%   355.00           4.00          2276.22                    \n",
       "75%   625.00           6.00          3230.34                    \n",
       "max   4907.00          1995.00       4998.58                    \n",
       "\n",
       "       yield_derived_calories_amount  difference_calories_amount  \n",
       "count 271521.00                      271521.00                    \n",
       "mean  545.66                         57.71                        \n",
       "std   414.61                         478.89                       \n",
       "min   0.25                           -4578.17                     \n",
       "25%   293.15                         -79.55                       \n",
       "50%   477.64                         36.19                        \n",
       "75%   698.08                         197.33                       \n",
       "max   4993.46                        4709.46                      "
      ]
     },
     "execution_count": 29,
     "metadata": {},
     "output_type": "execute_result"
    }
   ],
   "source": [
    "epicurious_calories_0_5000_df.describe()"
   ]
  },
  {
   "cell_type": "markdown",
   "metadata": {},
   "source": [
    "Scatter plot of both sources of calories (the idea is to perform a Bivariate Analysis)."
   ]
  },
  {
   "cell_type": "code",
   "execution_count": 30,
   "metadata": {
    "collapsed": false
   },
   "outputs": [
    {
     "data": {
      "image/png": "[encoded data removed]",
      "text/plain": [
       "<matplotlib.figure.Figure at 0x7f42fc354550>"
      ]
     },
     "metadata": {},
     "output_type": "display_data"
    }
   ],
   "source": [
    "sns.regplot(x=epicurious_calories_0_5000_df['calories_amount'], y=epicurious_calories_0_5000_df['yield_derived_calories_amount'], fit_reg=True);"
   ]
  },
  {
   "cell_type": "markdown",
   "metadata": {},
   "source": [
    "Let's visualize a distribution of both calories amount using the new created dataframe."
   ]
  },
  {
   "cell_type": "code",
   "execution_count": 31,
   "metadata": {
    "collapsed": false
   },
   "outputs": [
    {
     "data": {
      "image/png": "[encoded data removed]",
      "text/plain": [
       "<matplotlib.figure.Figure at 0x7f42e081b150>"
      ]
     },
     "metadata": {},
     "output_type": "display_data"
    }
   ],
   "source": [
    "sns.distplot(epicurious_calories_0_5000_df['calories_amount'], color=\"skyblue\", label=\"Calories from EDAMAM\")\n",
    "sns.distplot(epicurious_calories_0_5000_df['yield_derived_calories_amount'], color=\"red\", label=\"Derived Calories\")\n",
    "sns.distplot(epicurious_calories_0_5000_df['difference_calories_amount'], color=\"green\", label=\"Calories Difference\");"
   ]
  },
  {
   "cell_type": "markdown",
   "metadata": {},
   "source": [
    "And a box plot."
   ]
  },
  {
   "cell_type": "code",
   "execution_count": 32,
   "metadata": {
    "collapsed": false
   },
   "outputs": [
    {
     "data": {
      "image/png": "[encoded data removed]",
      "text/plain": [
       "<matplotlib.figure.Figure at 0x7f42e01ddf10>"
      ]
     },
     "metadata": {},
     "output_type": "display_data"
    }
   ],
   "source": [
    "sns.boxplot(x=epicurious_calories_0_5000_df['calories_amount'], color=\"skyblue\");\n",
    "sns.boxplot(x=epicurious_calories_0_5000_df['yield_derived_calories_amount'], color=\"red\")\n",
    "sns.boxplot(x=epicurious_calories_0_5000_df['difference_calories_amount'], color=\"green\");"
   ]
  },
  {
   "cell_type": "markdown",
   "metadata": {},
   "source": [
    "After looking at the scatter plot, let's explore recipes with derived calories > 4000 and calories < 400 which corresponds to the left side of the chart, where seems to be a vertical line (maybe we are estimating high calories for recipes with lower calories)."
   ]
  },
  {
   "cell_type": "code",
   "execution_count": 33,
   "metadata": {
    "collapsed": false
   },
   "outputs": [],
   "source": [
    "high_derived_calories_df = epicurious_calories_0_5000_df[(epicurious_calories_0_5000_df['calories_amount'] <= 400) & (epicurious_calories_0_5000_df['yield_derived_calories_amount'] > 4000)]"
   ]
  },
  {
   "cell_type": "markdown",
   "metadata": {},
   "source": [
    "Let's remove some columns with the raw data."
   ]
  },
  {
   "cell_type": "code",
   "execution_count": 34,
   "metadata": {
    "collapsed": true
   },
   "outputs": [],
   "source": [
    "del high_derived_calories_df['derived_calories']\n",
    "del high_derived_calories_df['calories']"
   ]
  },
  {
   "cell_type": "code",
   "execution_count": 35,
   "metadata": {
    "collapsed": false
   },
   "outputs": [
    {
     "data": {
      "text/html": [
       "<div>\n",
       "<style scoped>\n",
       "    .dataframe tbody tr th:only-of-type {\n",
       "        vertical-align: middle;\n",
       "    }\n",
       "\n",
       "    .dataframe tbody tr th {\n",
       "        vertical-align: top;\n",
       "    }\n",
       "\n",
       "    .dataframe thead th {\n",
       "        text-align: right;\n",
       "    }\n",
       "</style>\n",
       "<table border=\"1\" class=\"dataframe\">\n",
       "  <thead>\n",
       "    <tr style=\"text-align: right;\">\n",
       "      <th></th>\n",
       "      <th>url</th>\n",
       "      <th>calories_amount</th>\n",
       "      <th>yield</th>\n",
       "      <th>yield_amount</th>\n",
       "      <th>derived_calories_amount</th>\n",
       "      <th>yield_derived_calories_amount</th>\n",
       "      <th>difference_calories_amount</th>\n",
       "    </tr>\n",
       "  </thead>\n",
       "  <tbody>\n",
       "    <tr>\n",
       "      <th>227</th>\n",
       "      <td>http://www.epicurious.com/recipes/member/views/banana-bread-1235619</td>\n",
       "      <td>272.00</td>\n",
       "      <td>1 Loaf</td>\n",
       "      <td>1.00</td>\n",
       "      <td>4166.73</td>\n",
       "      <td>4166.73</td>\n",
       "      <td>3894.73</td>\n",
       "    </tr>\n",
       "    <tr>\n",
       "      <th>2785</th>\n",
       "      <td>http://www.epicurious.com/recipes/member/views/peach-ice-cream-1234838</td>\n",
       "      <td>276.00</td>\n",
       "      <td>1 quart</td>\n",
       "      <td>1.00</td>\n",
       "      <td>4049.18</td>\n",
       "      <td>4049.18</td>\n",
       "      <td>3773.18</td>\n",
       "    </tr>\n",
       "    <tr>\n",
       "      <th>3939</th>\n",
       "      <td>http://www.epicurious.com/recipes/member/views/bourbon-and-barley-pecan-pie-50008356</td>\n",
       "      <td>379.00</td>\n",
       "      <td>1 pie</td>\n",
       "      <td>1.00</td>\n",
       "      <td>4338.07</td>\n",
       "      <td>4338.07</td>\n",
       "      <td>3959.07</td>\n",
       "    </tr>\n",
       "    <tr>\n",
       "      <th>4413</th>\n",
       "      <td>http://www.epicurious.com/recipes/member/views/pistachio-ice-cream-1246702</td>\n",
       "      <td>287.00</td>\n",
       "      <td>1.5 Quarts</td>\n",
       "      <td>1.00</td>\n",
       "      <td>4253.24</td>\n",
       "      <td>4253.24</td>\n",
       "      <td>3966.24</td>\n",
       "    </tr>\n",
       "    <tr>\n",
       "      <th>5054</th>\n",
       "      <td>http://www.epicurious.com/recipes/member/views/grandma-okeefes-irish-soda-bread-50017726</td>\n",
       "      <td>280.00</td>\n",
       "      <td>1 loaf</td>\n",
       "      <td>1.00</td>\n",
       "      <td>4703.07</td>\n",
       "      <td>4703.07</td>\n",
       "      <td>4423.07</td>\n",
       "    </tr>\n",
       "  </tbody>\n",
       "</table>\n",
       "</div>"
      ],
      "text/plain": [
       "                                                                                           url  \\\n",
       "227   http://www.epicurious.com/recipes/member/views/banana-bread-1235619                        \n",
       "2785  http://www.epicurious.com/recipes/member/views/peach-ice-cream-1234838                     \n",
       "3939  http://www.epicurious.com/recipes/member/views/bourbon-and-barley-pecan-pie-50008356       \n",
       "4413  http://www.epicurious.com/recipes/member/views/pistachio-ice-cream-1246702                 \n",
       "5054  http://www.epicurious.com/recipes/member/views/grandma-okeefes-irish-soda-bread-50017726   \n",
       "\n",
       "      calories_amount       yield  yield_amount  derived_calories_amount  \\\n",
       "227  272.00            1 Loaf     1.00          4166.73                    \n",
       "2785 276.00            1 quart    1.00          4049.18                    \n",
       "3939 379.00            1 pie      1.00          4338.07                    \n",
       "4413 287.00            1.5 Quarts 1.00          4253.24                    \n",
       "5054 280.00            1 loaf     1.00          4703.07                    \n",
       "\n",
       "      yield_derived_calories_amount  difference_calories_amount  \n",
       "227  4166.73                        3894.73                      \n",
       "2785 4049.18                        3773.18                      \n",
       "3939 4338.07                        3959.07                      \n",
       "4413 4253.24                        3966.24                      \n",
       "5054 4703.07                        4423.07                      "
      ]
     },
     "execution_count": 35,
     "metadata": {},
     "output_type": "execute_result"
    }
   ],
   "source": [
    "high_derived_calories_df.head()"
   ]
  },
  {
   "cell_type": "markdown",
   "metadata": {},
   "source": [
    "How many rows of data?"
   ]
  },
  {
   "cell_type": "code",
   "execution_count": 36,
   "metadata": {
    "collapsed": false
   },
   "outputs": [
    {
     "data": {
      "text/plain": [
       "133"
      ]
     },
     "execution_count": 36,
     "metadata": {},
     "output_type": "execute_result"
    }
   ],
   "source": [
    "high_derived_calories_df.shape[0]"
   ]
  },
  {
   "cell_type": "markdown",
   "metadata": {},
   "source": [
    "Let's get some basic stastics of the 'yield_amount' column as it may be the reason for the big discrepancy between calories and derived calories."
   ]
  },
  {
   "cell_type": "code",
   "execution_count": 37,
   "metadata": {
    "collapsed": false
   },
   "outputs": [
    {
     "data": {
      "text/plain": [
       "count   133.00\n",
       "mean    1.00  \n",
       "std     0.00  \n",
       "min     1.00  \n",
       "25%     1.00  \n",
       "50%     1.00  \n",
       "75%     1.00  \n",
       "max     1.00  \n",
       "Name: yield_amount, dtype: float64"
      ]
     },
     "execution_count": 37,
     "metadata": {},
     "output_type": "execute_result"
    }
   ],
   "source": [
    "high_derived_calories_df['yield_amount'].describe()"
   ]
  },
  {
   "cell_type": "markdown",
   "metadata": {},
   "source": [
    "It's seems reasonable to be the issue: all numbers are 1s."
   ]
  },
  {
   "cell_type": "code",
   "execution_count": 38,
   "metadata": {
    "collapsed": false
   },
   "outputs": [
    {
     "data": {
      "text/html": [
       "<div>\n",
       "<style scoped>\n",
       "    .dataframe tbody tr th:only-of-type {\n",
       "        vertical-align: middle;\n",
       "    }\n",
       "\n",
       "    .dataframe tbody tr th {\n",
       "        vertical-align: top;\n",
       "    }\n",
       "\n",
       "    .dataframe thead th {\n",
       "        text-align: right;\n",
       "    }\n",
       "</style>\n",
       "<table border=\"1\" class=\"dataframe\">\n",
       "  <thead>\n",
       "    <tr style=\"text-align: right;\">\n",
       "      <th></th>\n",
       "      <th>url</th>\n",
       "      <th>calories_amount</th>\n",
       "      <th>yield</th>\n",
       "      <th>yield_amount</th>\n",
       "      <th>derived_calories_amount</th>\n",
       "      <th>yield_derived_calories_amount</th>\n",
       "      <th>difference_calories_amount</th>\n",
       "    </tr>\n",
       "  </thead>\n",
       "  <tbody>\n",
       "    <tr>\n",
       "      <th>324952</th>\n",
       "      <td>http://www.epicurious.com/recipes/member/views/coffee-cake-moms-50044818</td>\n",
       "      <td>288.00</td>\n",
       "      <td>1 loaf</td>\n",
       "      <td>1.00</td>\n",
       "      <td>4807.04</td>\n",
       "      <td>4807.04</td>\n",
       "      <td>4519.04</td>\n",
       "    </tr>\n",
       "    <tr>\n",
       "      <th>324953</th>\n",
       "      <td>http://www.epicurious.com/recipes/food/views/pumpkin-bread-367512</td>\n",
       "      <td>258.00</td>\n",
       "      <td>Makes 1 (9-inch) loaf</td>\n",
       "      <td>1.00</td>\n",
       "      <td>4015.73</td>\n",
       "      <td>4015.73</td>\n",
       "      <td>3757.73</td>\n",
       "    </tr>\n",
       "    <tr>\n",
       "      <th>325006</th>\n",
       "      <td>http://www.epicurious.com/recipes/member/views/tuna-sauce-for-pasta-50004700</td>\n",
       "      <td>260.00</td>\n",
       "      <td>sauce for 1 lb pasta</td>\n",
       "      <td>1.00</td>\n",
       "      <td>4352.94</td>\n",
       "      <td>4352.94</td>\n",
       "      <td>4092.94</td>\n",
       "    </tr>\n",
       "    <tr>\n",
       "      <th>325227</th>\n",
       "      <td>http://www.epicurious.com/recipes/member/views/colorado-pecan-pie-50112652</td>\n",
       "      <td>291.00</td>\n",
       "      <td>1 pie</td>\n",
       "      <td>1.00</td>\n",
       "      <td>4124.75</td>\n",
       "      <td>4124.75</td>\n",
       "      <td>3833.75</td>\n",
       "    </tr>\n",
       "    <tr>\n",
       "      <th>326632</th>\n",
       "      <td>http://www.epicurious.com/recipes/food/views/our-favorite-key-lime-pie-56389684</td>\n",
       "      <td>254.00</td>\n",
       "      <td>1 (9\") pie</td>\n",
       "      <td>1.00</td>\n",
       "      <td>4121.28</td>\n",
       "      <td>4121.28</td>\n",
       "      <td>3867.28</td>\n",
       "    </tr>\n",
       "  </tbody>\n",
       "</table>\n",
       "</div>"
      ],
      "text/plain": [
       "                                                                                    url  \\\n",
       "324952  http://www.epicurious.com/recipes/member/views/coffee-cake-moms-50044818          \n",
       "324953  http://www.epicurious.com/recipes/food/views/pumpkin-bread-367512                 \n",
       "325006  http://www.epicurious.com/recipes/member/views/tuna-sauce-for-pasta-50004700      \n",
       "325227  http://www.epicurious.com/recipes/member/views/colorado-pecan-pie-50112652        \n",
       "326632  http://www.epicurious.com/recipes/food/views/our-favorite-key-lime-pie-56389684   \n",
       "\n",
       "        calories_amount                  yield  yield_amount  \\\n",
       "324952 288.00            1 loaf                1.00            \n",
       "324953 258.00            Makes 1 (9-inch) loaf 1.00            \n",
       "325006 260.00            sauce for 1 lb pasta  1.00            \n",
       "325227 291.00            1 pie                 1.00            \n",
       "326632 254.00            1 (9\") pie            1.00            \n",
       "\n",
       "        derived_calories_amount  yield_derived_calories_amount  \\\n",
       "324952 4807.04                  4807.04                          \n",
       "324953 4015.73                  4015.73                          \n",
       "325006 4352.94                  4352.94                          \n",
       "325227 4124.75                  4124.75                          \n",
       "326632 4121.28                  4121.28                          \n",
       "\n",
       "        difference_calories_amount  \n",
       "324952 4519.04                      \n",
       "324953 3757.73                      \n",
       "325006 4092.94                      \n",
       "325227 3833.75                      \n",
       "326632 3867.28                      "
      ]
     },
     "execution_count": 38,
     "metadata": {},
     "output_type": "execute_result"
    }
   ],
   "source": [
    "high_derived_calories_df.tail()"
   ]
  },
  {
   "cell_type": "code",
   "execution_count": 39,
   "metadata": {
    "collapsed": true
   },
   "outputs": [],
   "source": [
    "high_derived_calories_df['yield_amount'].replace(1, 4,inplace=True)"
   ]
  },
  {
   "cell_type": "markdown",
   "metadata": {},
   "source": [
    "We need to recalculate 'yield_derived_calories_amount' as we changed 1s by 4s."
   ]
  },
  {
   "cell_type": "code",
   "execution_count": 40,
   "metadata": {
    "collapsed": false
   },
   "outputs": [],
   "source": [
    "high_derived_calories_df['yield_derived_calories_amount'] = high_derived_calories_df['derived_calories_amount']/high_derived_calories_df['yield_amount']"
   ]
  },
  {
   "cell_type": "markdown",
   "metadata": {},
   "source": [
    "And again, let's look at a new scatter plot."
   ]
  },
  {
   "cell_type": "code",
   "execution_count": 41,
   "metadata": {
    "collapsed": false
   },
   "outputs": [
    {
     "data": {
      "image/png": "[encoded data removed]",
      "text/plain": [
       "<matplotlib.figure.Figure at 0x7f42e0045e90>"
      ]
     },
     "metadata": {},
     "output_type": "display_data"
    }
   ],
   "source": [
    "sns.regplot(x=high_derived_calories_df['calories_amount'], y=high_derived_calories_df['yield_derived_calories_amount'], fit_reg=True);"
   ]
  },
  {
   "cell_type": "markdown",
   "metadata": {},
   "source": [
    "It seems we have an issue with recipes with calories between 250 and 350: the estimates are to high.\n",
    "\n",
    "Let's create another subset."
   ]
  },
  {
   "cell_type": "code",
   "execution_count": 42,
   "metadata": {
    "collapsed": true
   },
   "outputs": [],
   "source": [
    "subset_high_derived_calories_df = high_derived_calories_df[(high_derived_calories_df['calories_amount'] > 250) & (high_derived_calories_df['calories_amount'] < 350)]"
   ]
  },
  {
   "cell_type": "markdown",
   "metadata": {},
   "source": [
    "How many rows of data?"
   ]
  },
  {
   "cell_type": "code",
   "execution_count": 43,
   "metadata": {
    "collapsed": false
   },
   "outputs": [
    {
     "data": {
      "text/plain": [
       "117"
      ]
     },
     "execution_count": 43,
     "metadata": {},
     "output_type": "execute_result"
    }
   ],
   "source": [
    "subset_high_derived_calories_df.shape[0]"
   ]
  },
  {
   "cell_type": "markdown",
   "metadata": {},
   "source": [
    "Let's look at all rows since there are not too many."
   ]
  },
  {
   "cell_type": "code",
   "execution_count": 44,
   "metadata": {
    "collapsed": false
   },
   "outputs": [
    {
     "data": {
      "text/html": [
       "<div>\n",
       "<style scoped>\n",
       "    .dataframe tbody tr th:only-of-type {\n",
       "        vertical-align: middle;\n",
       "    }\n",
       "\n",
       "    .dataframe tbody tr th {\n",
       "        vertical-align: top;\n",
       "    }\n",
       "\n",
       "    .dataframe thead th {\n",
       "        text-align: right;\n",
       "    }\n",
       "</style>\n",
       "<table border=\"1\" class=\"dataframe\">\n",
       "  <thead>\n",
       "    <tr style=\"text-align: right;\">\n",
       "      <th></th>\n",
       "      <th>url</th>\n",
       "      <th>calories_amount</th>\n",
       "      <th>yield</th>\n",
       "      <th>yield_amount</th>\n",
       "      <th>derived_calories_amount</th>\n",
       "      <th>yield_derived_calories_amount</th>\n",
       "      <th>difference_calories_amount</th>\n",
       "    </tr>\n",
       "  </thead>\n",
       "  <tbody>\n",
       "    <tr>\n",
       "      <th>227</th>\n",
       "      <td>http://www.epicurious.com/recipes/member/views/banana-bread-1235619</td>\n",
       "      <td>272.00</td>\n",
       "      <td>1 Loaf</td>\n",
       "      <td>4.00</td>\n",
       "      <td>4166.73</td>\n",
       "      <td>1041.68</td>\n",
       "      <td>3894.73</td>\n",
       "    </tr>\n",
       "    <tr>\n",
       "      <th>2785</th>\n",
       "      <td>http://www.epicurious.com/recipes/member/views/peach-ice-cream-1234838</td>\n",
       "      <td>276.00</td>\n",
       "      <td>1 quart</td>\n",
       "      <td>4.00</td>\n",
       "      <td>4049.18</td>\n",
       "      <td>1012.29</td>\n",
       "      <td>3773.18</td>\n",
       "    </tr>\n",
       "    <tr>\n",
       "      <th>4413</th>\n",
       "      <td>http://www.epicurious.com/recipes/member/views/pistachio-ice-cream-1246702</td>\n",
       "      <td>287.00</td>\n",
       "      <td>1.5 Quarts</td>\n",
       "      <td>4.00</td>\n",
       "      <td>4253.24</td>\n",
       "      <td>1063.31</td>\n",
       "      <td>3966.24</td>\n",
       "    </tr>\n",
       "    <tr>\n",
       "      <th>5054</th>\n",
       "      <td>http://www.epicurious.com/recipes/member/views/grandma-okeefes-irish-soda-bread-50017726</td>\n",
       "      <td>280.00</td>\n",
       "      <td>1 loaf</td>\n",
       "      <td>4.00</td>\n",
       "      <td>4703.07</td>\n",
       "      <td>1175.77</td>\n",
       "      <td>4423.07</td>\n",
       "    </tr>\n",
       "    <tr>\n",
       "      <th>5805</th>\n",
       "      <td>http://www.epicurious.com/recipes/food/views/our-favorite-key-lime-pie-56389684</td>\n",
       "      <td>254.00</td>\n",
       "      <td>1 (9\") pie</td>\n",
       "      <td>4.00</td>\n",
       "      <td>4098.15</td>\n",
       "      <td>1024.54</td>\n",
       "      <td>3844.15</td>\n",
       "    </tr>\n",
       "    <tr>\n",
       "      <th>5815</th>\n",
       "      <td>http://www.epicurious.com/recipes/food/views/our-favorite-key-lime-pie-56389684</td>\n",
       "      <td>254.00</td>\n",
       "      <td>1 (9\") pie</td>\n",
       "      <td>4.00</td>\n",
       "      <td>4121.28</td>\n",
       "      <td>1030.32</td>\n",
       "      <td>3867.28</td>\n",
       "    </tr>\n",
       "    <tr>\n",
       "      <th>6145</th>\n",
       "      <td>http://www.epicurious.com/recipes/member/views/guiltfree-chocolate-cheesecake-50190015</td>\n",
       "      <td>271.00</td>\n",
       "      <td>1 cheesecake</td>\n",
       "      <td>4.00</td>\n",
       "      <td>4384.35</td>\n",
       "      <td>1096.09</td>\n",
       "      <td>4113.35</td>\n",
       "    </tr>\n",
       "    <tr>\n",
       "      <th>6166</th>\n",
       "      <td>http://www.epicurious.com/recipes/member/views/pate-brisee-50142402</td>\n",
       "      <td>277.00</td>\n",
       "      <td>1sngl or 2dbl crust pies</td>\n",
       "      <td>4.00</td>\n",
       "      <td>4454.80</td>\n",
       "      <td>1113.70</td>\n",
       "      <td>4177.80</td>\n",
       "    </tr>\n",
       "    <tr>\n",
       "      <th>6170</th>\n",
       "      <td>http://www.epicurious.com/recipes/member/views/guiltfree-chocolate-cheesecake-50190015</td>\n",
       "      <td>271.00</td>\n",
       "      <td>1 cheesecake</td>\n",
       "      <td>4.00</td>\n",
       "      <td>4384.35</td>\n",
       "      <td>1096.09</td>\n",
       "      <td>4113.35</td>\n",
       "    </tr>\n",
       "    <tr>\n",
       "      <th>6182</th>\n",
       "      <td>http://www.epicurious.com/recipes/member/views/pate-brisee-50142402</td>\n",
       "      <td>277.00</td>\n",
       "      <td>1sngl or 2dbl crust pies</td>\n",
       "      <td>4.00</td>\n",
       "      <td>4454.80</td>\n",
       "      <td>1113.70</td>\n",
       "      <td>4177.80</td>\n",
       "    </tr>\n",
       "    <tr>\n",
       "      <th>6386</th>\n",
       "      <td>http://www.epicurious.com/recipes/member/views/layered-coffee-cheesecake-1247213</td>\n",
       "      <td>258.00</td>\n",
       "      <td>1 8 slices</td>\n",
       "      <td>4.00</td>\n",
       "      <td>4070.16</td>\n",
       "      <td>1017.54</td>\n",
       "      <td>3812.16</td>\n",
       "    </tr>\n",
       "    <tr>\n",
       "      <th>6588</th>\n",
       "      <td>http://www.epicurious.com/recipes/member/views/classic-crumb-cake-1270859</td>\n",
       "      <td>306.00</td>\n",
       "      <td>1 9 x13 cake</td>\n",
       "      <td>4.00</td>\n",
       "      <td>4296.71</td>\n",
       "      <td>1074.18</td>\n",
       "      <td>3990.71</td>\n",
       "    </tr>\n",
       "    <tr>\n",
       "      <th>7010</th>\n",
       "      <td>http://www.epicurious.com/recipes/member/views/chicken-aioli-50024344</td>\n",
       "      <td>307.00</td>\n",
       "      <td>1 chicken</td>\n",
       "      <td>4.00</td>\n",
       "      <td>4654.54</td>\n",
       "      <td>1163.63</td>\n",
       "      <td>4347.54</td>\n",
       "    </tr>\n",
       "    <tr>\n",
       "      <th>7435</th>\n",
       "      <td>http://www.epicurious.com/recipes/member/views/chocolate-chip-banana-bread-50062596</td>\n",
       "      <td>324.00</td>\n",
       "      <td>1  Loaf</td>\n",
       "      <td>4.00</td>\n",
       "      <td>4173.33</td>\n",
       "      <td>1043.33</td>\n",
       "      <td>3849.33</td>\n",
       "    </tr>\n",
       "    <tr>\n",
       "      <th>7544</th>\n",
       "      <td>http://www.epicurious.com/recipes/member/views/chocolate-chip-banana-bread-50062596</td>\n",
       "      <td>324.00</td>\n",
       "      <td>1  Loaf</td>\n",
       "      <td>4.00</td>\n",
       "      <td>4173.33</td>\n",
       "      <td>1043.33</td>\n",
       "      <td>3849.33</td>\n",
       "    </tr>\n",
       "    <tr>\n",
       "      <th>8034</th>\n",
       "      <td>http://www.epicurious.com/recipes/member/views/roasted-apricot-and-almond-ice-cream-52428971</td>\n",
       "      <td>257.00</td>\n",
       "      <td>1 qt</td>\n",
       "      <td>4.00</td>\n",
       "      <td>4073.96</td>\n",
       "      <td>1018.49</td>\n",
       "      <td>3816.96</td>\n",
       "    </tr>\n",
       "    <tr>\n",
       "      <th>8072</th>\n",
       "      <td>http://www.epicurious.com/recipes/member/views/banana-nut-bread-50079281</td>\n",
       "      <td>314.00</td>\n",
       "      <td>1 large loaf</td>\n",
       "      <td>4.00</td>\n",
       "      <td>4624.19</td>\n",
       "      <td>1156.05</td>\n",
       "      <td>4310.19</td>\n",
       "    </tr>\n",
       "    <tr>\n",
       "      <th>8450</th>\n",
       "      <td>http://www.epicurious.com/recipes/member/views/passover-brownies-1245378</td>\n",
       "      <td>283.00</td>\n",
       "      <td>1 pan</td>\n",
       "      <td>4.00</td>\n",
       "      <td>4974.15</td>\n",
       "      <td>1243.54</td>\n",
       "      <td>4691.15</td>\n",
       "    </tr>\n",
       "    <tr>\n",
       "      <th>8918</th>\n",
       "      <td>http://www.epicurious.com/recipes/food/views/apple-crumble-with-calvados-and-creme-fraiche-ice-cream-56389915</td>\n",
       "      <td>283.00</td>\n",
       "      <td>Makes about 1 quart</td>\n",
       "      <td>4.00</td>\n",
       "      <td>4817.82</td>\n",
       "      <td>1204.45</td>\n",
       "      <td>4534.82</td>\n",
       "    </tr>\n",
       "    <tr>\n",
       "      <th>9670</th>\n",
       "      <td>http://www.epicurious.com/recipes/member/views/mint-fudge-we-made-last-night-1211882</td>\n",
       "      <td>300.00</td>\n",
       "      <td>1 pan</td>\n",
       "      <td>4.00</td>\n",
       "      <td>4349.52</td>\n",
       "      <td>1087.38</td>\n",
       "      <td>4049.52</td>\n",
       "    </tr>\n",
       "    <tr>\n",
       "      <th>9757</th>\n",
       "      <td>http://www.epicurious.com/recipes/food/views/pound-cake-with-chocolate-swirl-101083</td>\n",
       "      <td>281.00</td>\n",
       "      <td>Makes 1 loaf</td>\n",
       "      <td>4.00</td>\n",
       "      <td>4038.10</td>\n",
       "      <td>1009.52</td>\n",
       "      <td>3757.10</td>\n",
       "    </tr>\n",
       "    <tr>\n",
       "      <th>9823</th>\n",
       "      <td>http://www.epicurious.com/recipes/food/views/pumpkin-walnut-bread-104077</td>\n",
       "      <td>265.00</td>\n",
       "      <td>Makes 1 loaf</td>\n",
       "      <td>4.00</td>\n",
       "      <td>4130.67</td>\n",
       "      <td>1032.67</td>\n",
       "      <td>3865.67</td>\n",
       "    </tr>\n",
       "    <tr>\n",
       "      <th>10136</th>\n",
       "      <td>http://www.epicurious.com/recipes/food/views/chocolate-prune-armagnac-ice-cream-10247</td>\n",
       "      <td>268.00</td>\n",
       "      <td>Makes about 1 1/2 quarts</td>\n",
       "      <td>4.00</td>\n",
       "      <td>4696.64</td>\n",
       "      <td>1174.16</td>\n",
       "      <td>4428.64</td>\n",
       "    </tr>\n",
       "    <tr>\n",
       "      <th>10276</th>\n",
       "      <td>http://www.epicurious.com/recipes/member/views/chocolate-bourbon-pecan-pie-50174176</td>\n",
       "      <td>297.00</td>\n",
       "      <td>1 pie</td>\n",
       "      <td>4.00</td>\n",
       "      <td>4784.16</td>\n",
       "      <td>1196.04</td>\n",
       "      <td>4487.16</td>\n",
       "    </tr>\n",
       "    <tr>\n",
       "      <th>10592</th>\n",
       "      <td>http://www.epicurious.com/recipes/member/views/daim-cake-50081991</td>\n",
       "      <td>298.00</td>\n",
       "      <td>1 Cake</td>\n",
       "      <td>4.00</td>\n",
       "      <td>4756.44</td>\n",
       "      <td>1189.11</td>\n",
       "      <td>4458.44</td>\n",
       "    </tr>\n",
       "    <tr>\n",
       "      <th>10595</th>\n",
       "      <td>http://www.epicurious.com/recipes/food/views/orange-upside-down-cake-51264670</td>\n",
       "      <td>283.00</td>\n",
       "      <td>Makes 1 cake</td>\n",
       "      <td>4.00</td>\n",
       "      <td>4197.37</td>\n",
       "      <td>1049.34</td>\n",
       "      <td>3914.37</td>\n",
       "    </tr>\n",
       "    <tr>\n",
       "      <th>10893</th>\n",
       "      <td>http://www.epicurious.com/recipes/member/views/eggnog-cream-pie-51558351</td>\n",
       "      <td>253.00</td>\n",
       "      <td>1 pie</td>\n",
       "      <td>4.00</td>\n",
       "      <td>4715.65</td>\n",
       "      <td>1178.91</td>\n",
       "      <td>4462.65</td>\n",
       "    </tr>\n",
       "    <tr>\n",
       "      <th>11076</th>\n",
       "      <td>http://www.epicurious.com/recipes/member/views/karen-demascos-almond-cake-50140124</td>\n",
       "      <td>277.00</td>\n",
       "      <td>1 cake</td>\n",
       "      <td>4.00</td>\n",
       "      <td>4159.27</td>\n",
       "      <td>1039.82</td>\n",
       "      <td>3882.27</td>\n",
       "    </tr>\n",
       "    <tr>\n",
       "      <th>11749</th>\n",
       "      <td>http://www.epicurious.com/recipes/member/views/super-deep-dish-baked-apples-with-crumb-topping-1266803</td>\n",
       "      <td>257.00</td>\n",
       "      <td>1 pie</td>\n",
       "      <td>4.00</td>\n",
       "      <td>4833.98</td>\n",
       "      <td>1208.49</td>\n",
       "      <td>4576.98</td>\n",
       "    </tr>\n",
       "    <tr>\n",
       "      <th>11907</th>\n",
       "      <td>http://www.epicurious.com/recipes/member/views/reindling-breakfast-cake-1266076</td>\n",
       "      <td>284.00</td>\n",
       "      <td>1 cake</td>\n",
       "      <td>4.00</td>\n",
       "      <td>4830.83</td>\n",
       "      <td>1207.71</td>\n",
       "      <td>4546.83</td>\n",
       "    </tr>\n",
       "    <tr>\n",
       "      <th>...</th>\n",
       "      <td>...</td>\n",
       "      <td>...</td>\n",
       "      <td>...</td>\n",
       "      <td>...</td>\n",
       "      <td>...</td>\n",
       "      <td>...</td>\n",
       "      <td>...</td>\n",
       "    </tr>\n",
       "    <tr>\n",
       "      <th>206315</th>\n",
       "      <td>http://www.epicurious.com/recipes/member/views/sambal-kacang-peanut-sauce-1253035</td>\n",
       "      <td>329.00</td>\n",
       "      <td>1 Pint</td>\n",
       "      <td>4.00</td>\n",
       "      <td>4326.78</td>\n",
       "      <td>1081.70</td>\n",
       "      <td>3997.78</td>\n",
       "    </tr>\n",
       "    <tr>\n",
       "      <th>206737</th>\n",
       "      <td>http://www.epicurious.com/recipes/member/views/worchestershire-sauce-51466641</td>\n",
       "      <td>320.00</td>\n",
       "      <td>1 qt</td>\n",
       "      <td>4.00</td>\n",
       "      <td>4772.65</td>\n",
       "      <td>1193.16</td>\n",
       "      <td>4452.65</td>\n",
       "    </tr>\n",
       "    <tr>\n",
       "      <th>215501</th>\n",
       "      <td>http://www.epicurious.com/recipes/member/views/chicken-pot-pie-for-apk-diary-free-50134764</td>\n",
       "      <td>254.00</td>\n",
       "      <td>1 pie</td>\n",
       "      <td>4.00</td>\n",
       "      <td>4713.43</td>\n",
       "      <td>1178.36</td>\n",
       "      <td>4459.43</td>\n",
       "    </tr>\n",
       "    <tr>\n",
       "      <th>222031</th>\n",
       "      <td>http://www.epicurious.com/recipes/member/views/chicken-pot-pie-for-apk-diary-free-50134764</td>\n",
       "      <td>254.00</td>\n",
       "      <td>1 pie</td>\n",
       "      <td>4.00</td>\n",
       "      <td>4713.43</td>\n",
       "      <td>1178.36</td>\n",
       "      <td>4459.43</td>\n",
       "    </tr>\n",
       "    <tr>\n",
       "      <th>233892</th>\n",
       "      <td>http://www.epicurious.com/recipes/member/views/chicken-pot-pie-for-apk-diary-free-50134764</td>\n",
       "      <td>254.00</td>\n",
       "      <td>1 pie</td>\n",
       "      <td>4.00</td>\n",
       "      <td>4713.43</td>\n",
       "      <td>1178.36</td>\n",
       "      <td>4459.43</td>\n",
       "    </tr>\n",
       "    <tr>\n",
       "      <th>234787</th>\n",
       "      <td>http://www.epicurious.com/recipes/member/views/chicken-pot-pie-for-apk-diary-free-50134764</td>\n",
       "      <td>254.00</td>\n",
       "      <td>1 pie</td>\n",
       "      <td>4.00</td>\n",
       "      <td>4713.43</td>\n",
       "      <td>1178.36</td>\n",
       "      <td>4459.43</td>\n",
       "    </tr>\n",
       "    <tr>\n",
       "      <th>249996</th>\n",
       "      <td>http://www.epicurious.com/recipes/member/views/chicken-pot-pie-for-apk-diary-free-50134764</td>\n",
       "      <td>254.00</td>\n",
       "      <td>1 pie</td>\n",
       "      <td>4.00</td>\n",
       "      <td>4596.58</td>\n",
       "      <td>1149.14</td>\n",
       "      <td>4342.58</td>\n",
       "    </tr>\n",
       "    <tr>\n",
       "      <th>272876</th>\n",
       "      <td>http://www.epicurious.com/recipes/member/views/chicken-pot-pie-for-apk-diary-free-50134764</td>\n",
       "      <td>254.00</td>\n",
       "      <td>1 pie</td>\n",
       "      <td>4.00</td>\n",
       "      <td>4713.43</td>\n",
       "      <td>1178.36</td>\n",
       "      <td>4459.43</td>\n",
       "    </tr>\n",
       "    <tr>\n",
       "      <th>282402</th>\n",
       "      <td>http://www.epicurious.com/recipes/member/views/chicken-pot-pie-for-apk-diary-free-50134764</td>\n",
       "      <td>254.00</td>\n",
       "      <td>1 pie</td>\n",
       "      <td>4.00</td>\n",
       "      <td>4596.58</td>\n",
       "      <td>1149.14</td>\n",
       "      <td>4342.58</td>\n",
       "    </tr>\n",
       "    <tr>\n",
       "      <th>284070</th>\n",
       "      <td>http://www.epicurious.com/recipes/member/views/chicken-pot-pie-for-apk-diary-free-50134764</td>\n",
       "      <td>254.00</td>\n",
       "      <td>1 pie</td>\n",
       "      <td>4.00</td>\n",
       "      <td>4596.58</td>\n",
       "      <td>1149.14</td>\n",
       "      <td>4342.58</td>\n",
       "    </tr>\n",
       "    <tr>\n",
       "      <th>285080</th>\n",
       "      <td>http://www.epicurious.com/recipes/member/views/chicken-pot-pie-for-apk-diary-free-50134764</td>\n",
       "      <td>254.00</td>\n",
       "      <td>1 pie</td>\n",
       "      <td>4.00</td>\n",
       "      <td>4713.43</td>\n",
       "      <td>1178.36</td>\n",
       "      <td>4459.43</td>\n",
       "    </tr>\n",
       "    <tr>\n",
       "      <th>290464</th>\n",
       "      <td>http://www.epicurious.com/recipes/member/views/chicken-pot-pie-for-apk-diary-free-50134764</td>\n",
       "      <td>254.00</td>\n",
       "      <td>1 pie</td>\n",
       "      <td>4.00</td>\n",
       "      <td>4713.43</td>\n",
       "      <td>1178.36</td>\n",
       "      <td>4459.43</td>\n",
       "    </tr>\n",
       "    <tr>\n",
       "      <th>291054</th>\n",
       "      <td>http://www.epicurious.com/recipes/member/views/chicken-pot-pie-for-apk-diary-free-50134764</td>\n",
       "      <td>254.00</td>\n",
       "      <td>1 pie</td>\n",
       "      <td>4.00</td>\n",
       "      <td>4596.58</td>\n",
       "      <td>1149.14</td>\n",
       "      <td>4342.58</td>\n",
       "    </tr>\n",
       "    <tr>\n",
       "      <th>294511</th>\n",
       "      <td>http://www.epicurious.com/recipes/member/views/chicken-pot-pie-for-apk-diary-free-50134764</td>\n",
       "      <td>254.00</td>\n",
       "      <td>1 pie</td>\n",
       "      <td>4.00</td>\n",
       "      <td>4713.43</td>\n",
       "      <td>1178.36</td>\n",
       "      <td>4459.43</td>\n",
       "    </tr>\n",
       "    <tr>\n",
       "      <th>310263</th>\n",
       "      <td>http://www.epicurious.com/recipes/member/views/chicken-pot-pie-for-apk-diary-free-50134764</td>\n",
       "      <td>254.00</td>\n",
       "      <td>1 pie</td>\n",
       "      <td>4.00</td>\n",
       "      <td>4596.58</td>\n",
       "      <td>1149.14</td>\n",
       "      <td>4342.58</td>\n",
       "    </tr>\n",
       "    <tr>\n",
       "      <th>322531</th>\n",
       "      <td>http://www.epicurious.com/recipes/member/views/sugar-glazed-pecans-53013361</td>\n",
       "      <td>322.00</td>\n",
       "      <td>1 pound</td>\n",
       "      <td>4.00</td>\n",
       "      <td>4663.92</td>\n",
       "      <td>1165.98</td>\n",
       "      <td>4341.92</td>\n",
       "    </tr>\n",
       "    <tr>\n",
       "      <th>322764</th>\n",
       "      <td>http://www.epicurious.com/recipes/member/views/pesto-torte-1216171</td>\n",
       "      <td>332.00</td>\n",
       "      <td>1 Large Appitizer</td>\n",
       "      <td>4.00</td>\n",
       "      <td>4128.99</td>\n",
       "      <td>1032.25</td>\n",
       "      <td>3796.99</td>\n",
       "    </tr>\n",
       "    <tr>\n",
       "      <th>322949</th>\n",
       "      <td>http://www.epicurious.com/recipes/member/views/blueberry-honey-pound-cake-50050439</td>\n",
       "      <td>295.00</td>\n",
       "      <td>1 loaf</td>\n",
       "      <td>4.00</td>\n",
       "      <td>4709.73</td>\n",
       "      <td>1177.43</td>\n",
       "      <td>4414.73</td>\n",
       "    </tr>\n",
       "    <tr>\n",
       "      <th>323728</th>\n",
       "      <td>http://www.epicurious.com/recipes/member/views/apple-pecan-bread-1251893</td>\n",
       "      <td>264.00</td>\n",
       "      <td>1 9x5\" loaf</td>\n",
       "      <td>4.00</td>\n",
       "      <td>4063.60</td>\n",
       "      <td>1015.90</td>\n",
       "      <td>3799.60</td>\n",
       "    </tr>\n",
       "    <tr>\n",
       "      <th>323900</th>\n",
       "      <td>http://www.epicurious.com/recipes/member/views/oatmeal-breakfast-cake-1274650</td>\n",
       "      <td>253.00</td>\n",
       "      <td>1 8 inch cake</td>\n",
       "      <td>4.00</td>\n",
       "      <td>4344.13</td>\n",
       "      <td>1086.03</td>\n",
       "      <td>4091.13</td>\n",
       "    </tr>\n",
       "    <tr>\n",
       "      <th>324163</th>\n",
       "      <td>http://www.epicurious.com/recipes/member/views/clam-tetrazzini-50084298</td>\n",
       "      <td>314.00</td>\n",
       "      <td>1 6</td>\n",
       "      <td>4.00</td>\n",
       "      <td>4246.19</td>\n",
       "      <td>1061.55</td>\n",
       "      <td>3932.19</td>\n",
       "    </tr>\n",
       "    <tr>\n",
       "      <th>324388</th>\n",
       "      <td>http://www.epicurious.com/recipes/member/views/summer-cherry-berry-pie-52434001</td>\n",
       "      <td>283.00</td>\n",
       "      <td>1 10\" pie</td>\n",
       "      <td>4.00</td>\n",
       "      <td>4499.89</td>\n",
       "      <td>1124.97</td>\n",
       "      <td>4216.89</td>\n",
       "    </tr>\n",
       "    <tr>\n",
       "      <th>324577</th>\n",
       "      <td>http://www.epicurious.com/recipes/member/views/cream-cheese-grandmas-cake-50079278</td>\n",
       "      <td>305.00</td>\n",
       "      <td>1 cake for 15 people</td>\n",
       "      <td>4.00</td>\n",
       "      <td>4920.67</td>\n",
       "      <td>1230.17</td>\n",
       "      <td>4615.67</td>\n",
       "    </tr>\n",
       "    <tr>\n",
       "      <th>324747</th>\n",
       "      <td>http://www.epicurious.com/recipes/member/views/ann-stubbins-mocha-cake-50034220</td>\n",
       "      <td>269.00</td>\n",
       "      <td>1 Cake</td>\n",
       "      <td>4.00</td>\n",
       "      <td>4193.30</td>\n",
       "      <td>1048.32</td>\n",
       "      <td>3924.30</td>\n",
       "    </tr>\n",
       "    <tr>\n",
       "      <th>324804</th>\n",
       "      <td>http://www.epicurious.com/recipes/food/views/pecan-harvest-loaf-15417</td>\n",
       "      <td>257.00</td>\n",
       "      <td>Yield: 1 loaf</td>\n",
       "      <td>4.00</td>\n",
       "      <td>4263.89</td>\n",
       "      <td>1065.97</td>\n",
       "      <td>4006.89</td>\n",
       "    </tr>\n",
       "    <tr>\n",
       "      <th>324952</th>\n",
       "      <td>http://www.epicurious.com/recipes/member/views/coffee-cake-moms-50044818</td>\n",
       "      <td>288.00</td>\n",
       "      <td>1 loaf</td>\n",
       "      <td>4.00</td>\n",
       "      <td>4807.04</td>\n",
       "      <td>1201.76</td>\n",
       "      <td>4519.04</td>\n",
       "    </tr>\n",
       "    <tr>\n",
       "      <th>324953</th>\n",
       "      <td>http://www.epicurious.com/recipes/food/views/pumpkin-bread-367512</td>\n",
       "      <td>258.00</td>\n",
       "      <td>Makes 1 (9-inch) loaf</td>\n",
       "      <td>4.00</td>\n",
       "      <td>4015.73</td>\n",
       "      <td>1003.93</td>\n",
       "      <td>3757.73</td>\n",
       "    </tr>\n",
       "    <tr>\n",
       "      <th>325006</th>\n",
       "      <td>http://www.epicurious.com/recipes/member/views/tuna-sauce-for-pasta-50004700</td>\n",
       "      <td>260.00</td>\n",
       "      <td>sauce for 1 lb pasta</td>\n",
       "      <td>4.00</td>\n",
       "      <td>4352.94</td>\n",
       "      <td>1088.24</td>\n",
       "      <td>4092.94</td>\n",
       "    </tr>\n",
       "    <tr>\n",
       "      <th>325227</th>\n",
       "      <td>http://www.epicurious.com/recipes/member/views/colorado-pecan-pie-50112652</td>\n",
       "      <td>291.00</td>\n",
       "      <td>1 pie</td>\n",
       "      <td>4.00</td>\n",
       "      <td>4124.75</td>\n",
       "      <td>1031.19</td>\n",
       "      <td>3833.75</td>\n",
       "    </tr>\n",
       "    <tr>\n",
       "      <th>326632</th>\n",
       "      <td>http://www.epicurious.com/recipes/food/views/our-favorite-key-lime-pie-56389684</td>\n",
       "      <td>254.00</td>\n",
       "      <td>1 (9\") pie</td>\n",
       "      <td>4.00</td>\n",
       "      <td>4121.28</td>\n",
       "      <td>1030.32</td>\n",
       "      <td>3867.28</td>\n",
       "    </tr>\n",
       "  </tbody>\n",
       "</table>\n",
       "<p>117 rows × 7 columns</p>\n",
       "</div>"
      ],
      "text/plain": [
       "                                                                                                                  url  \\\n",
       "227     http://www.epicurious.com/recipes/member/views/banana-bread-1235619                                             \n",
       "2785    http://www.epicurious.com/recipes/member/views/peach-ice-cream-1234838                                          \n",
       "4413    http://www.epicurious.com/recipes/member/views/pistachio-ice-cream-1246702                                      \n",
       "5054    http://www.epicurious.com/recipes/member/views/grandma-okeefes-irish-soda-bread-50017726                        \n",
       "5805    http://www.epicurious.com/recipes/food/views/our-favorite-key-lime-pie-56389684                                 \n",
       "5815    http://www.epicurious.com/recipes/food/views/our-favorite-key-lime-pie-56389684                                 \n",
       "6145    http://www.epicurious.com/recipes/member/views/guiltfree-chocolate-cheesecake-50190015                          \n",
       "6166    http://www.epicurious.com/recipes/member/views/pate-brisee-50142402                                             \n",
       "6170    http://www.epicurious.com/recipes/member/views/guiltfree-chocolate-cheesecake-50190015                          \n",
       "6182    http://www.epicurious.com/recipes/member/views/pate-brisee-50142402                                             \n",
       "6386    http://www.epicurious.com/recipes/member/views/layered-coffee-cheesecake-1247213                                \n",
       "6588    http://www.epicurious.com/recipes/member/views/classic-crumb-cake-1270859                                       \n",
       "7010    http://www.epicurious.com/recipes/member/views/chicken-aioli-50024344                                           \n",
       "7435    http://www.epicurious.com/recipes/member/views/chocolate-chip-banana-bread-50062596                             \n",
       "7544    http://www.epicurious.com/recipes/member/views/chocolate-chip-banana-bread-50062596                             \n",
       "8034    http://www.epicurious.com/recipes/member/views/roasted-apricot-and-almond-ice-cream-52428971                    \n",
       "8072    http://www.epicurious.com/recipes/member/views/banana-nut-bread-50079281                                        \n",
       "8450    http://www.epicurious.com/recipes/member/views/passover-brownies-1245378                                        \n",
       "8918    http://www.epicurious.com/recipes/food/views/apple-crumble-with-calvados-and-creme-fraiche-ice-cream-56389915   \n",
       "9670    http://www.epicurious.com/recipes/member/views/mint-fudge-we-made-last-night-1211882                            \n",
       "9757    http://www.epicurious.com/recipes/food/views/pound-cake-with-chocolate-swirl-101083                             \n",
       "9823    http://www.epicurious.com/recipes/food/views/pumpkin-walnut-bread-104077                                        \n",
       "10136   http://www.epicurious.com/recipes/food/views/chocolate-prune-armagnac-ice-cream-10247                           \n",
       "10276   http://www.epicurious.com/recipes/member/views/chocolate-bourbon-pecan-pie-50174176                             \n",
       "10592   http://www.epicurious.com/recipes/member/views/daim-cake-50081991                                               \n",
       "10595   http://www.epicurious.com/recipes/food/views/orange-upside-down-cake-51264670                                   \n",
       "10893   http://www.epicurious.com/recipes/member/views/eggnog-cream-pie-51558351                                        \n",
       "11076   http://www.epicurious.com/recipes/member/views/karen-demascos-almond-cake-50140124                              \n",
       "11749   http://www.epicurious.com/recipes/member/views/super-deep-dish-baked-apples-with-crumb-topping-1266803          \n",
       "11907   http://www.epicurious.com/recipes/member/views/reindling-breakfast-cake-1266076                                 \n",
       "...                                                                                 ...                                 \n",
       "206315  http://www.epicurious.com/recipes/member/views/sambal-kacang-peanut-sauce-1253035                               \n",
       "206737  http://www.epicurious.com/recipes/member/views/worchestershire-sauce-51466641                                   \n",
       "215501  http://www.epicurious.com/recipes/member/views/chicken-pot-pie-for-apk-diary-free-50134764                      \n",
       "222031  http://www.epicurious.com/recipes/member/views/chicken-pot-pie-for-apk-diary-free-50134764                      \n",
       "233892  http://www.epicurious.com/recipes/member/views/chicken-pot-pie-for-apk-diary-free-50134764                      \n",
       "234787  http://www.epicurious.com/recipes/member/views/chicken-pot-pie-for-apk-diary-free-50134764                      \n",
       "249996  http://www.epicurious.com/recipes/member/views/chicken-pot-pie-for-apk-diary-free-50134764                      \n",
       "272876  http://www.epicurious.com/recipes/member/views/chicken-pot-pie-for-apk-diary-free-50134764                      \n",
       "282402  http://www.epicurious.com/recipes/member/views/chicken-pot-pie-for-apk-diary-free-50134764                      \n",
       "284070  http://www.epicurious.com/recipes/member/views/chicken-pot-pie-for-apk-diary-free-50134764                      \n",
       "285080  http://www.epicurious.com/recipes/member/views/chicken-pot-pie-for-apk-diary-free-50134764                      \n",
       "290464  http://www.epicurious.com/recipes/member/views/chicken-pot-pie-for-apk-diary-free-50134764                      \n",
       "291054  http://www.epicurious.com/recipes/member/views/chicken-pot-pie-for-apk-diary-free-50134764                      \n",
       "294511  http://www.epicurious.com/recipes/member/views/chicken-pot-pie-for-apk-diary-free-50134764                      \n",
       "310263  http://www.epicurious.com/recipes/member/views/chicken-pot-pie-for-apk-diary-free-50134764                      \n",
       "322531  http://www.epicurious.com/recipes/member/views/sugar-glazed-pecans-53013361                                     \n",
       "322764  http://www.epicurious.com/recipes/member/views/pesto-torte-1216171                                              \n",
       "322949  http://www.epicurious.com/recipes/member/views/blueberry-honey-pound-cake-50050439                              \n",
       "323728  http://www.epicurious.com/recipes/member/views/apple-pecan-bread-1251893                                        \n",
       "323900  http://www.epicurious.com/recipes/member/views/oatmeal-breakfast-cake-1274650                                   \n",
       "324163  http://www.epicurious.com/recipes/member/views/clam-tetrazzini-50084298                                         \n",
       "324388  http://www.epicurious.com/recipes/member/views/summer-cherry-berry-pie-52434001                                 \n",
       "324577  http://www.epicurious.com/recipes/member/views/cream-cheese-grandmas-cake-50079278                              \n",
       "324747  http://www.epicurious.com/recipes/member/views/ann-stubbins-mocha-cake-50034220                                 \n",
       "324804  http://www.epicurious.com/recipes/food/views/pecan-harvest-loaf-15417                                           \n",
       "324952  http://www.epicurious.com/recipes/member/views/coffee-cake-moms-50044818                                        \n",
       "324953  http://www.epicurious.com/recipes/food/views/pumpkin-bread-367512                                               \n",
       "325006  http://www.epicurious.com/recipes/member/views/tuna-sauce-for-pasta-50004700                                    \n",
       "325227  http://www.epicurious.com/recipes/member/views/colorado-pecan-pie-50112652                                      \n",
       "326632  http://www.epicurious.com/recipes/food/views/our-favorite-key-lime-pie-56389684                                 \n",
       "\n",
       "        calories_amount                     yield  yield_amount  \\\n",
       "227    272.00            1 Loaf                   4.00            \n",
       "2785   276.00            1 quart                  4.00            \n",
       "4413   287.00            1.5 Quarts               4.00            \n",
       "5054   280.00            1 loaf                   4.00            \n",
       "5805   254.00            1 (9\") pie               4.00            \n",
       "5815   254.00            1 (9\") pie               4.00            \n",
       "6145   271.00            1 cheesecake             4.00            \n",
       "6166   277.00            1sngl or 2dbl crust pies 4.00            \n",
       "6170   271.00            1 cheesecake             4.00            \n",
       "6182   277.00            1sngl or 2dbl crust pies 4.00            \n",
       "6386   258.00            1 8 slices               4.00            \n",
       "6588   306.00            1 9 x13 cake             4.00            \n",
       "7010   307.00            1 chicken                4.00            \n",
       "7435   324.00            1  Loaf                  4.00            \n",
       "7544   324.00            1  Loaf                  4.00            \n",
       "8034   257.00            1 qt                     4.00            \n",
       "8072   314.00            1 large loaf             4.00            \n",
       "8450   283.00            1 pan                    4.00            \n",
       "8918   283.00            Makes about 1 quart      4.00            \n",
       "9670   300.00            1 pan                    4.00            \n",
       "9757   281.00            Makes 1 loaf             4.00            \n",
       "9823   265.00            Makes 1 loaf             4.00            \n",
       "10136  268.00            Makes about 1 1/2 quarts 4.00            \n",
       "10276  297.00            1 pie                    4.00            \n",
       "10592  298.00            1 Cake                   4.00            \n",
       "10595  283.00            Makes 1 cake             4.00            \n",
       "10893  253.00            1 pie                    4.00            \n",
       "11076  277.00            1 cake                   4.00            \n",
       "11749  257.00            1 pie                    4.00            \n",
       "11907  284.00            1 cake                   4.00            \n",
       "...       ...               ...                    ...            \n",
       "206315 329.00            1 Pint                   4.00            \n",
       "206737 320.00            1 qt                     4.00            \n",
       "215501 254.00            1 pie                    4.00            \n",
       "222031 254.00            1 pie                    4.00            \n",
       "233892 254.00            1 pie                    4.00            \n",
       "234787 254.00            1 pie                    4.00            \n",
       "249996 254.00            1 pie                    4.00            \n",
       "272876 254.00            1 pie                    4.00            \n",
       "282402 254.00            1 pie                    4.00            \n",
       "284070 254.00            1 pie                    4.00            \n",
       "285080 254.00            1 pie                    4.00            \n",
       "290464 254.00            1 pie                    4.00            \n",
       "291054 254.00            1 pie                    4.00            \n",
       "294511 254.00            1 pie                    4.00            \n",
       "310263 254.00            1 pie                    4.00            \n",
       "322531 322.00            1 pound                  4.00            \n",
       "322764 332.00            1 Large Appitizer        4.00            \n",
       "322949 295.00            1 loaf                   4.00            \n",
       "323728 264.00            1 9x5\" loaf              4.00            \n",
       "323900 253.00            1 8 inch cake            4.00            \n",
       "324163 314.00            1 6                      4.00            \n",
       "324388 283.00            1 10\" pie                4.00            \n",
       "324577 305.00            1 cake for 15 people     4.00            \n",
       "324747 269.00            1 Cake                   4.00            \n",
       "324804 257.00            Yield: 1 loaf            4.00            \n",
       "324952 288.00            1 loaf                   4.00            \n",
       "324953 258.00            Makes 1 (9-inch) loaf    4.00            \n",
       "325006 260.00            sauce for 1 lb pasta     4.00            \n",
       "325227 291.00            1 pie                    4.00            \n",
       "326632 254.00            1 (9\") pie               4.00            \n",
       "\n",
       "        derived_calories_amount  yield_derived_calories_amount  \\\n",
       "227    4166.73                  1041.68                          \n",
       "2785   4049.18                  1012.29                          \n",
       "4413   4253.24                  1063.31                          \n",
       "5054   4703.07                  1175.77                          \n",
       "5805   4098.15                  1024.54                          \n",
       "5815   4121.28                  1030.32                          \n",
       "6145   4384.35                  1096.09                          \n",
       "6166   4454.80                  1113.70                          \n",
       "6170   4384.35                  1096.09                          \n",
       "6182   4454.80                  1113.70                          \n",
       "6386   4070.16                  1017.54                          \n",
       "6588   4296.71                  1074.18                          \n",
       "7010   4654.54                  1163.63                          \n",
       "7435   4173.33                  1043.33                          \n",
       "7544   4173.33                  1043.33                          \n",
       "8034   4073.96                  1018.49                          \n",
       "8072   4624.19                  1156.05                          \n",
       "8450   4974.15                  1243.54                          \n",
       "8918   4817.82                  1204.45                          \n",
       "9670   4349.52                  1087.38                          \n",
       "9757   4038.10                  1009.52                          \n",
       "9823   4130.67                  1032.67                          \n",
       "10136  4696.64                  1174.16                          \n",
       "10276  4784.16                  1196.04                          \n",
       "10592  4756.44                  1189.11                          \n",
       "10595  4197.37                  1049.34                          \n",
       "10893  4715.65                  1178.91                          \n",
       "11076  4159.27                  1039.82                          \n",
       "11749  4833.98                  1208.49                          \n",
       "11907  4830.83                  1207.71                          \n",
       "...        ...                      ...                          \n",
       "206315 4326.78                  1081.70                          \n",
       "206737 4772.65                  1193.16                          \n",
       "215501 4713.43                  1178.36                          \n",
       "222031 4713.43                  1178.36                          \n",
       "233892 4713.43                  1178.36                          \n",
       "234787 4713.43                  1178.36                          \n",
       "249996 4596.58                  1149.14                          \n",
       "272876 4713.43                  1178.36                          \n",
       "282402 4596.58                  1149.14                          \n",
       "284070 4596.58                  1149.14                          \n",
       "285080 4713.43                  1178.36                          \n",
       "290464 4713.43                  1178.36                          \n",
       "291054 4596.58                  1149.14                          \n",
       "294511 4713.43                  1178.36                          \n",
       "310263 4596.58                  1149.14                          \n",
       "322531 4663.92                  1165.98                          \n",
       "322764 4128.99                  1032.25                          \n",
       "322949 4709.73                  1177.43                          \n",
       "323728 4063.60                  1015.90                          \n",
       "323900 4344.13                  1086.03                          \n",
       "324163 4246.19                  1061.55                          \n",
       "324388 4499.89                  1124.97                          \n",
       "324577 4920.67                  1230.17                          \n",
       "324747 4193.30                  1048.32                          \n",
       "324804 4263.89                  1065.97                          \n",
       "324952 4807.04                  1201.76                          \n",
       "324953 4015.73                  1003.93                          \n",
       "325006 4352.94                  1088.24                          \n",
       "325227 4124.75                  1031.19                          \n",
       "326632 4121.28                  1030.32                          \n",
       "\n",
       "        difference_calories_amount  \n",
       "227    3894.73                      \n",
       "2785   3773.18                      \n",
       "4413   3966.24                      \n",
       "5054   4423.07                      \n",
       "5805   3844.15                      \n",
       "5815   3867.28                      \n",
       "6145   4113.35                      \n",
       "6166   4177.80                      \n",
       "6170   4113.35                      \n",
       "6182   4177.80                      \n",
       "6386   3812.16                      \n",
       "6588   3990.71                      \n",
       "7010   4347.54                      \n",
       "7435   3849.33                      \n",
       "7544   3849.33                      \n",
       "8034   3816.96                      \n",
       "8072   4310.19                      \n",
       "8450   4691.15                      \n",
       "8918   4534.82                      \n",
       "9670   4049.52                      \n",
       "9757   3757.10                      \n",
       "9823   3865.67                      \n",
       "10136  4428.64                      \n",
       "10276  4487.16                      \n",
       "10592  4458.44                      \n",
       "10595  3914.37                      \n",
       "10893  4462.65                      \n",
       "11076  3882.27                      \n",
       "11749  4576.98                      \n",
       "11907  4546.83                      \n",
       "...        ...                      \n",
       "206315 3997.78                      \n",
       "206737 4452.65                      \n",
       "215501 4459.43                      \n",
       "222031 4459.43                      \n",
       "233892 4459.43                      \n",
       "234787 4459.43                      \n",
       "249996 4342.58                      \n",
       "272876 4459.43                      \n",
       "282402 4342.58                      \n",
       "284070 4342.58                      \n",
       "285080 4459.43                      \n",
       "290464 4459.43                      \n",
       "291054 4342.58                      \n",
       "294511 4459.43                      \n",
       "310263 4342.58                      \n",
       "322531 4341.92                      \n",
       "322764 3796.99                      \n",
       "322949 4414.73                      \n",
       "323728 3799.60                      \n",
       "323900 4091.13                      \n",
       "324163 3932.19                      \n",
       "324388 4216.89                      \n",
       "324577 4615.67                      \n",
       "324747 3924.30                      \n",
       "324804 4006.89                      \n",
       "324952 4519.04                      \n",
       "324953 3757.73                      \n",
       "325006 4092.94                      \n",
       "325227 3833.75                      \n",
       "326632 3867.28                      \n",
       "\n",
       "[117 rows x 7 columns]"
      ]
     },
     "execution_count": 44,
     "metadata": {},
     "output_type": "execute_result"
    }
   ],
   "source": [
    "subset_high_derived_calories_df.head(n=117)"
   ]
  },
  {
   "cell_type": "markdown",
   "metadata": {},
   "source": [
    "The issue is with the yield colum scrapped from the recipe's website or even the calories amount may have been updated on the original recipe's URL, so the data stored in BigQuery reflects a old value.\n",
    "\n",
    "Also, by looking at the titles/URLs of the recipes (cakes, pies, ice creams...) these items should have high calories from the recipes' website, which in some cases show a calories amount that is for 1 serving."
   ]
  },
  {
   "cell_type": "markdown",
   "metadata": {},
   "source": [
    "Now, let's visualize a scatter plot of the other items."
   ]
  },
  {
   "cell_type": "markdown",
   "metadata": {},
   "source": [
    "We create another dataframe."
   ]
  },
  {
   "cell_type": "code",
   "execution_count": 45,
   "metadata": {
    "collapsed": true
   },
   "outputs": [],
   "source": [
    "less_derived_calories_df = epicurious_calories_0_5000_df[(epicurious_calories_0_5000_df['calories_amount'] > 400) & (epicurious_calories_0_5000_df['yield_derived_calories_amount'] < 4000)]"
   ]
  },
  {
   "cell_type": "markdown",
   "metadata": {},
   "source": [
    "Removing unnecesary columns."
   ]
  },
  {
   "cell_type": "code",
   "execution_count": 46,
   "metadata": {
    "collapsed": true
   },
   "outputs": [],
   "source": [
    "del less_derived_calories_df['derived_calories']\n",
    "del less_derived_calories_df['calories']"
   ]
  },
  {
   "cell_type": "code",
   "execution_count": 47,
   "metadata": {
    "collapsed": false
   },
   "outputs": [
    {
     "data": {
      "image/png": "[encoded data removed]",
      "text/plain": [
       "<matplotlib.figure.Figure at 0x7f42e02f8990>"
      ]
     },
     "metadata": {},
     "output_type": "display_data"
    }
   ],
   "source": [
    "sns.regplot(x=less_derived_calories_df['calories_amount'], y=less_derived_calories_df['yield_derived_calories_amount'], fit_reg=True);"
   ]
  },
  {
   "cell_type": "markdown",
   "metadata": {},
   "source": [
    "Now seems more correlated."
   ]
  },
  {
   "cell_type": "markdown",
   "metadata": {},
   "source": [
    "### Wilcoxon signed-rank test (trying to rank the recipes in terms of their derived calories and the calories from the site, and see if we at least are maintaining the ordering)."
   ]
  },
  {
   "cell_type": "markdown",
   "metadata": {},
   "source": [
    "Two-sample Wilcoxon test (Mann Whitney U)."
   ]
  },
  {
   "cell_type": "code",
   "execution_count": 48,
   "metadata": {
    "collapsed": false
   },
   "outputs": [
    {
     "name": "stdout",
     "output_type": "stream",
     "text": [
      "two-sample wilcoxon-test statistic: 31704853839.0\n",
      "two-sample wilcoxon-test p-value: 0.0\n"
     ]
    }
   ],
   "source": [
    "statistic, p_value = mannwhitneyu(epicurious_calories_0_5000_df['calories_amount'], epicurious_calories_0_5000_df['yield_derived_calories_amount'])\n",
    "print \"two-sample wilcoxon-test statistic:\", statistic\n",
    "print \"two-sample wilcoxon-test p-value:\", p_value"
   ]
  },
  {
   "cell_type": "code",
   "execution_count": 49,
   "metadata": {
    "collapsed": false
   },
   "outputs": [
    {
     "name": "stdout",
     "output_type": "stream",
     "text": [
      "paired wilcoxon-test statistic: 14388406957.0\n",
      "paired wilcoxon-test p-value: 0.0\n"
     ]
    }
   ],
   "source": [
    "statistic, p_value = wilcoxon(epicurious_calories_0_5000_df['calories_amount'] - epicurious_calories_0_5000_df['yield_derived_calories_amount'])\n",
    "print \"paired wilcoxon-test statistic:\", statistic\n",
    "print \"paired wilcoxon-test p-value:\", p_value"
   ]
  },
  {
   "cell_type": "code",
   "execution_count": null,
   "metadata": {
    "collapsed": true
   },
   "outputs": [],
   "source": []
  }
 ],
 "metadata": {
  "kernelspec": {
   "display_name": "Python 2",
   "language": "python",
   "name": "python2"
  },
  "language_info": {
   "codemirror_mode": {
    "name": "ipython",
    "version": 2
   },
   "file_extension": ".py",
   "mimetype": "text/x-python",
   "name": "python",
   "nbconvert_exporter": "python",
   "pygments_lexer": "ipython2",
   "version": "2.7.12"
  }
 },
 "nbformat": 4,
 "nbformat_minor": 2
}
