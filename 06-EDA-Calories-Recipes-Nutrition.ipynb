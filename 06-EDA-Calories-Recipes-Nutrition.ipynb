{
 "cells": [
  {
   "cell_type": "markdown",
   "metadata": {},
   "source": [
    "# Exploring recipe's calories using two different data sources."
   ]
  },
  {
   "cell_type": "markdown",
   "metadata": {},
   "source": [
    "We have calories data from 2 different columns: `nutrition`, `derived_nutrition`.\n",
    "\n",
    "We want to compare the values from both sources."
   ]
  },
  {
   "cell_type": "code",
   "execution_count": 1,
   "metadata": {
    "collapsed": true
   },
   "outputs": [],
   "source": [
    "reset -fs"
   ]
  },
  {
   "cell_type": "code",
   "execution_count": 2,
   "metadata": {},
   "outputs": [],
   "source": [
    "import re\n",
    "import json\n",
    "import pprint\n",
    "import operator\n",
    "import itertools\n",
    "import numpy as np\n",
    "import pandas as pd\n",
    "import warnings\n",
    "import seaborn as sns\n",
    "import datalab.bigquery as bq\n",
    "import matplotlib.pyplot as plt\n",
    "warnings.filterwarnings('ignore')\n",
    "sns.set_style('white')\n",
    "%matplotlib inline"
   ]
  },
  {
   "cell_type": "markdown",
   "metadata": {},
   "source": [
    "To be able to see all content columns of a pandas dataframe, we set the width of the columns to max."
   ]
  },
  {
   "cell_type": "code",
   "execution_count": 3,
   "metadata": {
    "collapsed": true
   },
   "outputs": [],
   "source": [
    "pd.set_option('display.max_colwidth', -1)"
   ]
  },
  {
   "cell_type": "markdown",
   "metadata": {},
   "source": [
    "To be able to see all numeric data with 2 decimals instead of scientific notation."
   ]
  },
  {
   "cell_type": "code",
   "execution_count": 4,
   "metadata": {
    "collapsed": true
   },
   "outputs": [],
   "source": [
    "pd.options.display.float_format = '{:.2f}'.format"
   ]
  },
  {
   "cell_type": "markdown",
   "metadata": {},
   "source": [
    "To explore the data schema from the table we will extract data."
   ]
  },
  {
   "cell_type": "code",
   "execution_count": 5,
   "metadata": {},
   "outputs": [
    {
     "data": {
      "text/html": [
       "\n",
       "    <div class=\"bqsv\" id=\"1_152035998866\"></div>\n",
       "\n",
       "    <script src=\"/static/components/requirejs/require.js\"></script>\n",
       "    <script>\n",
       "      require.config({\n",
       "        paths: {\n",
       "          base: '/static/base',\n",
       "        },\n",
       "        map: {\n",
       "          '*': {\n",
       "            datalab: 'nbextensions/gcpdatalab'\n",
       "          }\n",
       "        },\n",
       "      });\n",
       "\n",
       "      require(['datalab/bigquery', 'datalab/element!1_152035998866',\n",
       "          'datalab/style!/nbextensions/gcpdatalab/bigquery.css'],\n",
       "        function(bq, dom) {\n",
       "          bq.renderSchema(dom, [{\"type\": \"STRING\", \"name\": \"title\", \"mode\": \"NULLABLE\"}, {\"type\": \"STRING\", \"name\": \"description\", \"mode\": \"NULLABLE\"}, {\"type\": \"STRING\", \"name\": \"url\", \"mode\": \"NULLABLE\"}, {\"type\": \"STRING\", \"name\": \"crawler\", \"mode\": \"NULLABLE\"}, {\"type\": \"STRING\", \"name\": \"prep_time\", \"mode\": \"NULLABLE\"}, {\"type\": \"STRING\", \"name\": \"cook_time\", \"mode\": \"NULLABLE\"}, {\"type\": \"STRING\", \"name\": \"total_time\", \"mode\": \"NULLABLE\"}, {\"type\": \"STRING\", \"name\": \"yield\", \"mode\": \"NULLABLE\"}, {\"type\": \"STRING\", \"name\": \"source_path\", \"mode\": \"NULLABLE\"}, {\"description\": \"list of ingredients\", \"type\": \"STRING\", \"name\": \"ingredients\", \"mode\": \"REPEATED\"}, {\"description\": \"list of preparation steps\", \"type\": \"STRING\", \"name\": \"preparation\", \"mode\": \"REPEATED\"}, {\"description\": \"list of ingredients entities\", \"type\": \"STRING\", \"name\": \"derived_ingredient_entities\", \"mode\": \"REPEATED\"}, {\"description\": \"list of extracted ingredient amounts\", \"type\": \"STRING\", \"name\": \"derived_ingredient_amount\", \"mode\": \"REPEATED\"}, {\"fields\": [{\"description\": \"social media scores\", \"type\": \"FLOAT\", \"name\": \"social_media\", \"mode\": \"NULLABLE\"}], \"description\": \"social media scores\", \"type\": \"RECORD\", \"name\": \"scores\", \"mode\": \"NULLABLE\"}, {\"description\": \"boolean flag indicating if recipe has an image\", \"type\": \"STRING\", \"name\": \"has_image\", \"mode\": \"NULLABLE\"}, {\"description\": \"meal/course labels\", \"type\": \"STRING\", \"name\": \"derived_labels\", \"mode\": \"NULLABLE\"}, {\"description\": \"health score for recipe\", \"type\": \"FLOAT\", \"name\": \"health_score\", \"mode\": \"NULLABLE\"}, {\"description\": \"dietary tags for recipe\", \"type\": \"STRING\", \"name\": \"diet_tags\", \"mode\": \"REPEATED\"}, {\"description\": \"list of nutrition values\", \"type\": \"STRING\", \"name\": \"nutrition\", \"mode\": \"REPEATED\"}, {\"description\": \"estimated price of the entire recipe\", \"type\": \"STRING\", \"name\": \"price_estimate\", \"mode\": \"NULLABLE\"}, {\"description\": \"estimated language or recipe\", \"type\": \"STRING\", \"name\": \"language\", \"mode\": \"NULLABLE\"}, {\"description\": \"estimated confidence of language inference\", \"type\": \"STRING\", \"name\": \"language_confidence\", \"mode\": \"NULLABLE\"}, {\"description\": \"time recipe is created\", \"type\": \"STRING\", \"name\": \"created_at\", \"mode\": \"NULLABLE\"}, {\"description\": \"time recipe is updated\", \"type\": \"STRING\", \"name\": \"updated_at\", \"mode\": \"NULLABLE\"}, {\"description\": \"recipe id\", \"type\": \"STRING\", \"name\": \"id\", \"mode\": \"NULLABLE\"}, {\"description\": \"estimated price per serving for the recipe\", \"type\": \"STRING\", \"name\": \"price_per_serving\", \"mode\": \"NULLABLE\"}, {\"description\": \"list of extracted ingredient unit of measures\", \"type\": \"STRING\", \"name\": \"derived_ingredient_uom\", \"mode\": \"REPEATED\"}, {\"description\": \"list of derived nutrition values\", \"type\": \"STRING\", \"name\": \"derived_nutrition\", \"mode\": \"REPEATED\"}, {\"description\": \"the primary image as binary data\", \"type\": \"BYTES\", \"name\": \"image\", \"mode\": \"NULLABLE\"}, {\"description\": \"recipe tags as provided by the recipe source\", \"type\": \"STRING\", \"name\": \"tags\", \"mode\": \"REPEATED\"}, {\"description\": \"NRF9.3 nutrition index value\", \"type\": \"FLOAT\", \"name\": \"derived_nutrition_nrf_index\", \"mode\": \"NULLABLE\"}, {\"description\": \"Nutrition algorithm version\", \"type\": \"STRING\", \"name\": \"derived_nutrition_version\", \"mode\": \"NULLABLE\"}, {\"description\": \"Percent of items matched for the recipe\", \"type\": \"FLOAT\", \"name\": \"derived_nutrition_confidence\", \"mode\": \"NULLABLE\"}, {\"description\": \"GCS url of the image\", \"type\": \"STRING\", \"name\": \"image_cache_url\", \"mode\": \"NULLABLE\"}, {\"description\": \"Estimated image appeal score\", \"type\": \"FLOAT\", \"name\": \"image_appeal_score\", \"mode\": \"NULLABLE\"}, {\"description\": \"confidence score that indicates the percent of ingredients that have successfully been matched to items\", \"type\": \"FLOAT\", \"name\": \"derived_fulfillment_confidence\", \"mode\": \"NULLABLE\"}, {\"description\": \"median total price per recipe\", \"type\": \"FLOAT\", \"name\": \"derived_fulfillment_total_price\", \"mode\": \"NULLABLE\"}, {\"description\": \"median consumed price per recipe\", \"type\": \"FLOAT\", \"name\": \"derived_fulfillment_consumed_price\", \"mode\": \"NULLABLE\"}, {\"description\": \"stores and the corresponding number of ingredients from the recipe that can be fulfilled in those stores\", \"type\": \"STRING\", \"name\": \"derived_fulfillment_stores\", \"mode\": \"NULLABLE\"}, {\"description\": \"stores zipcodes and the corresponding number of ingredients from the recipe that can be fulfilled in those stores\", \"type\": \"STRING\", \"name\": \"derived_fulfillment_zipcodes\", \"mode\": \"NULLABLE\"}, {\"description\": \"version of the fulfillment model\", \"type\": \"STRING\", \"name\": \"derived_fulfillment_version\", \"mode\": \"NULLABLE\"}]);\n",
       "        }\n",
       "      );\n",
       "    </script>\n",
       "    "
      ],
      "text/plain": [
       "<IPython.core.display.HTML object>"
      ]
     },
     "execution_count": 5,
     "metadata": {},
     "output_type": "execute_result"
    }
   ],
   "source": [
    "%bigquery schema --table firebase-wellio:recipes.imported_recipes"
   ]
  },
  {
   "cell_type": "markdown",
   "metadata": {},
   "source": [
    "<img src='images/table-1.jpg'/>\n",
    "<img src='images/table-2.jpg'/>\n",
    "<img src='images/table-3.jpg'/>"
   ]
  },
  {
   "cell_type": "markdown",
   "metadata": {},
   "source": [
    "Extracting `derived_nutrition_version`."
   ]
  },
  {
   "cell_type": "markdown",
   "metadata": {},
   "source": [
    "Example of a row of data:\n",
    "\n",
    "```\n",
    "{\"name\": \"Alcohol, ethyl\", \"nutrient_id\": \"221\", \"unit\": \"g\", \"agg_value\": 0.0}\t \n",
    "{\"name\": \"Caffeine\", \"nutrient_id\": \"262\", \"unit\": \"mg\", \"agg_value\": 0.0}\t \n",
    "{\"name\": \"Calcium, Ca\", \"nutrient_id\": \"301\", \"unit\": \"mg\", \"agg_value\": 1313.3905300353488}\t \n",
    "{\"name\": \"Carbohydrate, by difference\", \"nutrient_id\": \"205\", \"unit\": \"g\", \"agg_value\": 162.99052465576816}\t \n",
    "{\"name\": \"Cholesterol\", \"nutrient_id\": \"601\", \"unit\": \"mg\", \"agg_value\": 375.9498823787561}\t \n",
    "{\"name\": \"Energy\", \"nutrient_id\": \"208\", \"unit\": \"kcal\", \"agg_value\": 2333.1553278007873}\t \n",
    "{\"name\": \"Fatty acids, total monounsaturated\", \"nutrient_id\": \"645\", \"unit\": \"g\", \"agg_value\": 45.812315539385196}\t \n",
    "{\"name\": \"Fatty acids, total polyunsaturated\", \"nutrient_id\": \"646\", \"unit\": \"g\", \"agg_value\": 23.205340564004327}\t \n",
    "{\"name\": \"Fatty acids, total saturated\", \"nutrient_id\": \"606\", \"unit\": \"g\", \"agg_value\": 49.405855655327926}\t \n",
    "{\"name\": \"Fatty acids, total trans\", \"nutrient_id\": \"605\", \"unit\": \"g\", \"agg_value\": 0.03039770861878195}\t \n",
    "{\"name\": \"Fiber, total dietary\", \"nutrient_id\": \"291\", \"unit\": \"g\", \"agg_value\": 30.928357548404282}\t \n",
    "{\"name\": \"Iron, Fe\", \"nutrient_id\": \"303\", \"unit\": \"mg\", \"agg_value\": 14.117875369935824}\t \n",
    "{\"name\": \"Magnesium, Mg\", \"nutrient_id\": \"304\", \"unit\": \"mg\", \"agg_value\": 323.6146339264634}\t \n",
    "{\"name\": \"Potassium, K\", \"nutrient_id\": \"306\", \"unit\": \"mg\", \"agg_value\": 4182.024917283204}\t \n",
    "{\"name\": \"Protein\", \"nutrient_id\": \"203\", \"unit\": \"g\", \"agg_value\": 134.36223258379204}\t \n",
    "{\"name\": \"Sodium, Na\", \"nutrient_id\": \"307\", \"unit\": \"mg\", \"agg_value\": 3643.3221832455997}\t \n",
    "{\"name\": \"Sugars, total\", \"nutrient_id\": \"269\", \"unit\": \"g\", \"agg_value\": 27.08103267541787}\t \n",
    "{\"name\": \"Total lipid (fat)\", \"nutrient_id\": \"204\", \"unit\": \"g\", \"agg_value\": 133.7551269233669}\t \n",
    "{\"name\": \"Vitamin A, IU\", \"nutrient_id\": \"318\", \"unit\": \"IU\", \"agg_value\": 49854.13482607046}\t \n",
    "{\"name\": \"Vitamin C, total absorbic acid\", \"nutrient_id\": \"401\", \"unit\": \"mg\", \"agg_value\": 415.64417814608424}\t \n",
    "{\"name\": \"Vitamin E (alpha-tocopherol)\", \"nutrient_id\": \"323\", \"unit\": \"mg\", \"agg_value\": 12.62523061622084}\n",
    "```"
   ]
  },
  {
   "cell_type": "code",
   "execution_count": 6,
   "metadata": {
    "collapsed": true
   },
   "outputs": [],
   "source": [
    "%%sql --module derived_nutrition_versions\n",
    "SELECT\n",
    "INTEGER(RIGHT(derived_nutrition_version, LENGTH(derived_nutrition_version)-1)) AS nutrition_version\n",
    "FROM [firebase-wellio:recipes.imported_recipes]\n",
    "GROUP BY nutrition_version\n",
    "ORDER BY nutrition_version DESC"
   ]
  },
  {
   "cell_type": "code",
   "execution_count": 7,
   "metadata": {},
   "outputs": [
    {
     "data": {
      "text/html": [
       "\n",
       "    <div class=\"bqtv\" id=\"2_152035999861\"><table><tr><th>nutrition_version</th></tr><tr><td>10</td></tr><tr><td>9</td></tr><tr><td>8</td></tr><tr><td>7</td></tr><tr><td>6</td></tr><tr><td>5</td></tr><tr><td>2</td></tr><tr><td>&nbsp;</td></tr></table></div>\n",
       "    <br />(rows: 8, time: 1.4s,    68MB processed, job: job_tTP6-fEY5gvGKb8EjYOb6DlVQIib)<br />\n",
       "    <script src=\"/static/components/requirejs/require.js\"></script>\n",
       "    <script>\n",
       "\n",
       "      require.config({\n",
       "        paths: {\n",
       "          base: '/static/base',\n",
       "          d3: '//cdnjs.cloudflare.com/ajax/libs/d3/3.4.13/d3',\n",
       "          plotly: 'https://cdn.plot.ly/plotly-1.5.1.min.js?noext',\n",
       "          jquery: '//ajax.googleapis.com/ajax/libs/jquery/2.0.0/jquery.min'\n",
       "        },\n",
       "        map: {\n",
       "          '*': {\n",
       "            datalab: 'nbextensions/gcpdatalab'\n",
       "          }\n",
       "        },\n",
       "        shim: {\n",
       "          plotly: {\n",
       "            deps: ['d3', 'jquery'],\n",
       "            exports: 'plotly'\n",
       "          }\n",
       "        }\n",
       "      });\n",
       "\n",
       "      require(['datalab/charting', 'datalab/element!2_152035999861', 'base/js/events',\n",
       "          'datalab/style!/nbextensions/gcpdatalab/charting.css'],\n",
       "        function(charts, dom, events) {\n",
       "          charts.render('gcharts', dom, events, 'table', [], {\"rows\": [{\"c\": [{\"v\": 10}]}, {\"c\": [{\"v\": 9}]}, {\"c\": [{\"v\": 8}]}, {\"c\": [{\"v\": 7}]}, {\"c\": [{\"v\": 6}]}, {\"c\": [{\"v\": 5}]}, {\"c\": [{\"v\": 2}]}, {\"c\": [{\"v\": null}]}], \"cols\": [{\"type\": \"number\", \"id\": \"nutrition_version\", \"label\": \"nutrition_version\"}]},\n",
       "            {\n",
       "              pageSize: 25,\n",
       "              cssClassNames:  {\n",
       "                tableRow: 'gchart-table-row',\n",
       "                headerRow: 'gchart-table-headerrow',\n",
       "                oddTableRow: 'gchart-table-oddrow',\n",
       "                selectedTableRow: 'gchart-table-selectedrow',\n",
       "                hoverTableRow: 'gchart-table-hoverrow',\n",
       "                tableCell: 'gchart-table-cell',\n",
       "                headerCell: 'gchart-table-headercell',\n",
       "                rowNumberCell: 'gchart-table-rownumcell'\n",
       "              }\n",
       "            },\n",
       "            {source_index: 0, fields: 'nutrition_version', legacy: 'true'},\n",
       "            0,\n",
       "            8);\n",
       "        }\n",
       "      );\n",
       "    </script>\n",
       "  "
      ],
      "text/plain": [
       "QueryResultsTable job_tTP6-fEY5gvGKb8EjYOb6DlVQIib"
      ]
     },
     "execution_count": 7,
     "metadata": {},
     "output_type": "execute_result"
    }
   ],
   "source": [
    "%%bigquery execute -q derived_nutrition_versions"
   ]
  },
  {
   "cell_type": "markdown",
   "metadata": {},
   "source": [
    "Latest nutrition version is 10. We will need to specify this version in our BigQuery's to get only the recipes with such attribute and avoid duplicates."
   ]
  },
  {
   "cell_type": "markdown",
   "metadata": {},
   "source": [
    "#### Extracting calories from `derived_nutrition` column. Note that we use URLs from domain `epicurious.com` as they always have `derived_nutrition`."
   ]
  },
  {
   "cell_type": "code",
   "execution_count": 8,
   "metadata": {},
   "outputs": [],
   "source": [
    "%%sql --module epicurious_calories_derived_nutrition\n",
    "SELECT url, derived_nutrition AS calories\n",
    "FROM [firebase-wellio:recipes.imported_recipes]\n",
    "WHERE url LIKE '%epicurious.com%' AND derived_nutrition IS NOT NULL AND INTEGER(RIGHT(derived_nutrition_version, \n",
    "  LENGTH(derived_nutrition_version)-1)) = 10 AND derived_nutrition LIKE '%\"unit\": \"kcal\"%'"
   ]
  },
  {
   "cell_type": "code",
   "execution_count": 9,
   "metadata": {},
   "outputs": [
    {
     "data": {
      "text/html": [
       "\n",
       "    <div class=\"bqtv\" id=\"3_152036001719\"><table><tr><th>url</th><th>calories</th></tr><tr><td>https://www.epicurious.com/recipes/food/views/the-best-cafe-au-lait-234864</td><td>{\"name\": \"Energy\", \"nutrient_id\": \"208\", \"unit\": \"kcal\", \"agg_value\": 2858.171351638597}</td></tr><tr><td>https://www.epicurious.com/recipes/member/views/sliced-steak-florentine-style-1240068</td><td>{\"name\": \"Energy\", \"nutrient_id\": \"208\", \"unit\": \"kcal\", \"agg_value\": 446.09339590383354}</td></tr><tr><td>https://www.epicurious.com/recipes/food/views/meyer-lemon-and-thyme-truffles-236802</td><td>{\"name\": \"Energy\", \"nutrient_id\": \"208\", \"unit\": \"kcal\", \"agg_value\": 68.58795395785602}</td></tr><tr><td>https://www.epicurious.com/recipes/food/views/herb-and-onion-focaccia-233508</td><td>{\"name\": \"Energy\", \"nutrient_id\": \"208\", \"unit\": \"kcal\", \"agg_value\": 325.99915445014085}</td></tr><tr><td>https://www.epicurious.com/recipes/food/views/chorizo-and-scrambled-egg-breakfast-tacos-236871</td><td>{\"name\": \"Energy\", \"nutrient_id\": \"208\", \"unit\": \"kcal\", \"agg_value\": 2575.4193449757045}</td></tr><tr><td>http://www.epicurious.com/recipes/food/views/breakfast-amaranth-with-walnuts-and-honey-51215420</td><td>{\"name\": \"Energy\", \"nutrient_id\": \"208\", \"unit\": \"kcal\", \"agg_value\": 886.0001959851091}</td></tr><tr><td>https://www.epicurious.com/recipes/food/views/calvados-vanilla-cream-240580</td><td>{\"name\": \"Energy\", \"nutrient_id\": \"208\", \"unit\": \"kcal\", \"agg_value\": 617.4424788194623}</td></tr><tr><td>https://www.epicurious.com/recipes/food/views/bittersweet-chocolate-truffles-236800</td><td>{\"name\": \"Energy\", \"nutrient_id\": \"208\", \"unit\": \"kcal\", \"agg_value\": 2780.427295790162}</td></tr><tr><td>https://www.epicurious.com/recipes/food/views/roasted-peppers-with-tomatoes-240808</td><td>{\"name\": \"Energy\", \"nutrient_id\": \"208\", \"unit\": \"kcal\", \"agg_value\": 4626.5961879525585}</td></tr><tr><td>https://www.epicurious.com/recipes/food/views/harissa-spiced-lamb-chops-238423</td><td>{\"name\": \"Energy\", \"nutrient_id\": \"208\", \"unit\": \"kcal\", \"agg_value\": 1370.0148643838168}</td></tr><tr><td>https://www.epicurious.com/recipes/food/views/spiced-chili-sauce-240795</td><td>{\"name\": \"Energy\", \"nutrient_id\": \"208\", \"unit\": \"kcal\", \"agg_value\": 272.673002072889}</td></tr><tr><td>https://www.epicurious.com/recipes/food/views/aunt-hollys-banana-bread-239027</td><td>{\"name\": \"Energy\", \"nutrient_id\": \"208\", \"unit\": \"kcal\", \"agg_value\": 2882.4971130021922}</td></tr><tr><td>https://www.epicurious.com/recipes/member/views/english-custard-la-zuppa-inglese-1241578</td><td>{\"name\": \"Energy\", \"nutrient_id\": \"208\", \"unit\": \"kcal\", \"agg_value\": 4669.837044969336}</td></tr><tr><td>https://www.epicurious.com/recipes/food/views/lemon-brulee-tart-236434</td><td>{\"name\": \"Energy\", \"nutrient_id\": \"208\", \"unit\": \"kcal\", \"agg_value\": 2319.4397933320593}</td></tr><tr><td>https://www.epicurious.com/recipes/food/views/caramel-macadamia-nut-crunch-236617</td><td>{\"name\": \"Energy\", \"nutrient_id\": \"208\", \"unit\": \"kcal\", \"agg_value\": 5207.045635526684}</td></tr><tr><td>https://www.epicurious.com/recipes/food/views/celebration-fizz-241234</td><td>{\"name\": \"Energy\", \"nutrient_id\": \"208\", \"unit\": \"kcal\", \"agg_value\": 732.6825692953797}</td></tr><tr><td>https://www.epicurious.com/recipes/food/views/roasted-kohlrabi-and-butternut-squash-236414</td><td>{\"name\": \"Energy\", \"nutrient_id\": \"208\", \"unit\": \"kcal\", \"agg_value\": 1270.4077563742444}</td></tr><tr><td>https://www.epicurious.com/recipes/food/views/curry-dusted-scallops-with-pea-puree-240953</td><td>{\"name\": \"Energy\", \"nutrient_id\": \"208\", \"unit\": \"kcal\", \"agg_value\": 1177.5362160455088}</td></tr><tr><td>http://www.epicurious.com/recipes/food/views/seared-duck-breast-with-cherries-and-port-sauce-353376</td><td>{\"name\": \"Energy\", \"nutrient_id\": \"208\", \"unit\": \"kcal\", \"agg_value\": 2619.384650017202}</td></tr><tr><td>https://www.epicurious.com/recipes/food/views/fish-with-creamy-leeks-240593</td><td>{\"name\": \"Energy\", \"nutrient_id\": \"208\", \"unit\": \"kcal\", \"agg_value\": 1553.6484525029512}</td></tr><tr><td>https://www.epicurious.com/recipes/food/views/red-salad-with-champagne-vinaigrette-236660</td><td>{\"name\": \"Energy\", \"nutrient_id\": \"208\", \"unit\": \"kcal\", \"agg_value\": 717.6372679139909}</td></tr><tr><td>https://www.epicurious.com/recipes/food/views/tomato-papaya-salsa-240805</td><td>{\"name\": \"Energy\", \"nutrient_id\": \"208\", \"unit\": \"kcal\", \"agg_value\": 398.18971612052314}</td></tr><tr><td>https://www.epicurious.com/recipes/food/views/green-beans-with-sweet-and-sour-red-onions-237030</td><td>{\"name\": \"Energy\", \"nutrient_id\": \"208\", \"unit\": \"kcal\", \"agg_value\": 662.3396381504211}</td></tr><tr><td>http://www.epicurious.com/recipes/food/views/seven-layer-salmon-bites-236713</td><td>{\"name\": \"Energy\", \"nutrient_id\": \"208\", \"unit\": \"kcal\", \"agg_value\": 9853.773106062252}</td></tr><tr><td>http://www.epicurious.com/recipes/food/views/scrambled-eggs-with-smoked-salmon-and-lemon-cream-351272</td><td>{\"name\": \"Energy\", \"nutrient_id\": \"208\", \"unit\": \"kcal\", \"agg_value\": 660.7743904338136}</td></tr></table></div>\n",
       "    <br />(rows: 654906, time: 8.3s,    33GB processed, job: job_XoEG8PM_GDx41YOvZcaBYpG4wQbk)<br />\n",
       "    <script src=\"/static/components/requirejs/require.js\"></script>\n",
       "    <script>\n",
       "\n",
       "      require.config({\n",
       "        paths: {\n",
       "          base: '/static/base',\n",
       "          d3: '//cdnjs.cloudflare.com/ajax/libs/d3/3.4.13/d3',\n",
       "          plotly: 'https://cdn.plot.ly/plotly-1.5.1.min.js?noext',\n",
       "          jquery: '//ajax.googleapis.com/ajax/libs/jquery/2.0.0/jquery.min'\n",
       "        },\n",
       "        map: {\n",
       "          '*': {\n",
       "            datalab: 'nbextensions/gcpdatalab'\n",
       "          }\n",
       "        },\n",
       "        shim: {\n",
       "          plotly: {\n",
       "            deps: ['d3', 'jquery'],\n",
       "            exports: 'plotly'\n",
       "          }\n",
       "        }\n",
       "      });\n",
       "\n",
       "      require(['datalab/charting', 'datalab/element!3_152036001719', 'base/js/events',\n",
       "          'datalab/style!/nbextensions/gcpdatalab/charting.css'],\n",
       "        function(charts, dom, events) {\n",
       "          charts.render('gcharts', dom, events, 'paged_table', [], {\"rows\": [{\"c\": [{\"v\": \"https://www.epicurious.com/recipes/food/views/the-best-cafe-au-lait-234864\"}, {\"v\": \"{\\\"name\\\": \\\"Energy\\\", \\\"nutrient_id\\\": \\\"208\\\", \\\"unit\\\": \\\"kcal\\\", \\\"agg_value\\\": 2858.171351638597}\"}]}, {\"c\": [{\"v\": \"https://www.epicurious.com/recipes/member/views/sliced-steak-florentine-style-1240068\"}, {\"v\": \"{\\\"name\\\": \\\"Energy\\\", \\\"nutrient_id\\\": \\\"208\\\", \\\"unit\\\": \\\"kcal\\\", \\\"agg_value\\\": 446.09339590383354}\"}]}, {\"c\": [{\"v\": \"https://www.epicurious.com/recipes/food/views/meyer-lemon-and-thyme-truffles-236802\"}, {\"v\": \"{\\\"name\\\": \\\"Energy\\\", \\\"nutrient_id\\\": \\\"208\\\", \\\"unit\\\": \\\"kcal\\\", \\\"agg_value\\\": 68.58795395785602}\"}]}, {\"c\": [{\"v\": \"https://www.epicurious.com/recipes/food/views/herb-and-onion-focaccia-233508\"}, {\"v\": \"{\\\"name\\\": \\\"Energy\\\", \\\"nutrient_id\\\": \\\"208\\\", \\\"unit\\\": \\\"kcal\\\", \\\"agg_value\\\": 325.99915445014085}\"}]}, {\"c\": [{\"v\": \"https://www.epicurious.com/recipes/food/views/chorizo-and-scrambled-egg-breakfast-tacos-236871\"}, {\"v\": \"{\\\"name\\\": \\\"Energy\\\", \\\"nutrient_id\\\": \\\"208\\\", \\\"unit\\\": \\\"kcal\\\", \\\"agg_value\\\": 2575.4193449757045}\"}]}, {\"c\": [{\"v\": \"http://www.epicurious.com/recipes/food/views/breakfast-amaranth-with-walnuts-and-honey-51215420\"}, {\"v\": \"{\\\"name\\\": \\\"Energy\\\", \\\"nutrient_id\\\": \\\"208\\\", \\\"unit\\\": \\\"kcal\\\", \\\"agg_value\\\": 886.0001959851091}\"}]}, {\"c\": [{\"v\": \"https://www.epicurious.com/recipes/food/views/calvados-vanilla-cream-240580\"}, {\"v\": \"{\\\"name\\\": \\\"Energy\\\", \\\"nutrient_id\\\": \\\"208\\\", \\\"unit\\\": \\\"kcal\\\", \\\"agg_value\\\": 617.4424788194623}\"}]}, {\"c\": [{\"v\": \"https://www.epicurious.com/recipes/food/views/bittersweet-chocolate-truffles-236800\"}, {\"v\": \"{\\\"name\\\": \\\"Energy\\\", \\\"nutrient_id\\\": \\\"208\\\", \\\"unit\\\": \\\"kcal\\\", \\\"agg_value\\\": 2780.427295790162}\"}]}, {\"c\": [{\"v\": \"https://www.epicurious.com/recipes/food/views/roasted-peppers-with-tomatoes-240808\"}, {\"v\": \"{\\\"name\\\": \\\"Energy\\\", \\\"nutrient_id\\\": \\\"208\\\", \\\"unit\\\": \\\"kcal\\\", \\\"agg_value\\\": 4626.5961879525585}\"}]}, {\"c\": [{\"v\": \"https://www.epicurious.com/recipes/food/views/harissa-spiced-lamb-chops-238423\"}, {\"v\": \"{\\\"name\\\": \\\"Energy\\\", \\\"nutrient_id\\\": \\\"208\\\", \\\"unit\\\": \\\"kcal\\\", \\\"agg_value\\\": 1370.0148643838168}\"}]}, {\"c\": [{\"v\": \"https://www.epicurious.com/recipes/food/views/spiced-chili-sauce-240795\"}, {\"v\": \"{\\\"name\\\": \\\"Energy\\\", \\\"nutrient_id\\\": \\\"208\\\", \\\"unit\\\": \\\"kcal\\\", \\\"agg_value\\\": 272.673002072889}\"}]}, {\"c\": [{\"v\": \"https://www.epicurious.com/recipes/food/views/aunt-hollys-banana-bread-239027\"}, {\"v\": \"{\\\"name\\\": \\\"Energy\\\", \\\"nutrient_id\\\": \\\"208\\\", \\\"unit\\\": \\\"kcal\\\", \\\"agg_value\\\": 2882.4971130021922}\"}]}, {\"c\": [{\"v\": \"https://www.epicurious.com/recipes/member/views/english-custard-la-zuppa-inglese-1241578\"}, {\"v\": \"{\\\"name\\\": \\\"Energy\\\", \\\"nutrient_id\\\": \\\"208\\\", \\\"unit\\\": \\\"kcal\\\", \\\"agg_value\\\": 4669.837044969336}\"}]}, {\"c\": [{\"v\": \"https://www.epicurious.com/recipes/food/views/lemon-brulee-tart-236434\"}, {\"v\": \"{\\\"name\\\": \\\"Energy\\\", \\\"nutrient_id\\\": \\\"208\\\", \\\"unit\\\": \\\"kcal\\\", \\\"agg_value\\\": 2319.4397933320593}\"}]}, {\"c\": [{\"v\": \"https://www.epicurious.com/recipes/food/views/caramel-macadamia-nut-crunch-236617\"}, {\"v\": \"{\\\"name\\\": \\\"Energy\\\", \\\"nutrient_id\\\": \\\"208\\\", \\\"unit\\\": \\\"kcal\\\", \\\"agg_value\\\": 5207.045635526684}\"}]}, {\"c\": [{\"v\": \"https://www.epicurious.com/recipes/food/views/celebration-fizz-241234\"}, {\"v\": \"{\\\"name\\\": \\\"Energy\\\", \\\"nutrient_id\\\": \\\"208\\\", \\\"unit\\\": \\\"kcal\\\", \\\"agg_value\\\": 732.6825692953797}\"}]}, {\"c\": [{\"v\": \"https://www.epicurious.com/recipes/food/views/roasted-kohlrabi-and-butternut-squash-236414\"}, {\"v\": \"{\\\"name\\\": \\\"Energy\\\", \\\"nutrient_id\\\": \\\"208\\\", \\\"unit\\\": \\\"kcal\\\", \\\"agg_value\\\": 1270.4077563742444}\"}]}, {\"c\": [{\"v\": \"https://www.epicurious.com/recipes/food/views/curry-dusted-scallops-with-pea-puree-240953\"}, {\"v\": \"{\\\"name\\\": \\\"Energy\\\", \\\"nutrient_id\\\": \\\"208\\\", \\\"unit\\\": \\\"kcal\\\", \\\"agg_value\\\": 1177.5362160455088}\"}]}, {\"c\": [{\"v\": \"http://www.epicurious.com/recipes/food/views/seared-duck-breast-with-cherries-and-port-sauce-353376\"}, {\"v\": \"{\\\"name\\\": \\\"Energy\\\", \\\"nutrient_id\\\": \\\"208\\\", \\\"unit\\\": \\\"kcal\\\", \\\"agg_value\\\": 2619.384650017202}\"}]}, {\"c\": [{\"v\": \"https://www.epicurious.com/recipes/food/views/fish-with-creamy-leeks-240593\"}, {\"v\": \"{\\\"name\\\": \\\"Energy\\\", \\\"nutrient_id\\\": \\\"208\\\", \\\"unit\\\": \\\"kcal\\\", \\\"agg_value\\\": 1553.6484525029512}\"}]}, {\"c\": [{\"v\": \"https://www.epicurious.com/recipes/food/views/red-salad-with-champagne-vinaigrette-236660\"}, {\"v\": \"{\\\"name\\\": \\\"Energy\\\", \\\"nutrient_id\\\": \\\"208\\\", \\\"unit\\\": \\\"kcal\\\", \\\"agg_value\\\": 717.6372679139909}\"}]}, {\"c\": [{\"v\": \"https://www.epicurious.com/recipes/food/views/tomato-papaya-salsa-240805\"}, {\"v\": \"{\\\"name\\\": \\\"Energy\\\", \\\"nutrient_id\\\": \\\"208\\\", \\\"unit\\\": \\\"kcal\\\", \\\"agg_value\\\": 398.18971612052314}\"}]}, {\"c\": [{\"v\": \"https://www.epicurious.com/recipes/food/views/green-beans-with-sweet-and-sour-red-onions-237030\"}, {\"v\": \"{\\\"name\\\": \\\"Energy\\\", \\\"nutrient_id\\\": \\\"208\\\", \\\"unit\\\": \\\"kcal\\\", \\\"agg_value\\\": 662.3396381504211}\"}]}, {\"c\": [{\"v\": \"http://www.epicurious.com/recipes/food/views/seven-layer-salmon-bites-236713\"}, {\"v\": \"{\\\"name\\\": \\\"Energy\\\", \\\"nutrient_id\\\": \\\"208\\\", \\\"unit\\\": \\\"kcal\\\", \\\"agg_value\\\": 9853.773106062252}\"}]}, {\"c\": [{\"v\": \"http://www.epicurious.com/recipes/food/views/scrambled-eggs-with-smoked-salmon-and-lemon-cream-351272\"}, {\"v\": \"{\\\"name\\\": \\\"Energy\\\", \\\"nutrient_id\\\": \\\"208\\\", \\\"unit\\\": \\\"kcal\\\", \\\"agg_value\\\": 660.7743904338136}\"}]}], \"cols\": [{\"type\": \"string\", \"id\": \"url\", \"label\": \"url\"}, {\"type\": \"string\", \"id\": \"calories\", \"label\": \"calories\"}]},\n",
       "            {\n",
       "              pageSize: 25,\n",
       "              cssClassNames:  {\n",
       "                tableRow: 'gchart-table-row',\n",
       "                headerRow: 'gchart-table-headerrow',\n",
       "                oddTableRow: 'gchart-table-oddrow',\n",
       "                selectedTableRow: 'gchart-table-selectedrow',\n",
       "                hoverTableRow: 'gchart-table-hoverrow',\n",
       "                tableCell: 'gchart-table-cell',\n",
       "                headerCell: 'gchart-table-headercell',\n",
       "                rowNumberCell: 'gchart-table-rownumcell'\n",
       "              }\n",
       "            },\n",
       "            {source_index: 1, fields: 'url,calories', legacy: 'true'},\n",
       "            0,\n",
       "            654906);\n",
       "        }\n",
       "      );\n",
       "    </script>\n",
       "  "
      ],
      "text/plain": [
       "QueryResultsTable job_XoEG8PM_GDx41YOvZcaBYpG4wQbk"
      ]
     },
     "execution_count": 9,
     "metadata": {},
     "output_type": "execute_result"
    }
   ],
   "source": [
    "%%bigquery execute -q epicurious_calories_derived_nutrition"
   ]
  },
  {
   "cell_type": "markdown",
   "metadata": {},
   "source": [
    "Export data to pandas dataframe."
   ]
  },
  {
   "cell_type": "code",
   "execution_count": 10,
   "metadata": {
    "collapsed": true
   },
   "outputs": [],
   "source": [
    "epicurious_derived_calories_df = bq.Query(epicurious_calories_derived_nutrition).to_dataframe()"
   ]
  },
  {
   "cell_type": "markdown",
   "metadata": {},
   "source": [
    "How many rows of data?"
   ]
  },
  {
   "cell_type": "code",
   "execution_count": 11,
   "metadata": {},
   "outputs": [
    {
     "data": {
      "text/plain": [
       "654906"
      ]
     },
     "execution_count": 11,
     "metadata": {},
     "output_type": "execute_result"
    }
   ],
   "source": [
    "epicurious_derived_calories_df.shape[0]"
   ]
  },
  {
   "cell_type": "code",
   "execution_count": 12,
   "metadata": {},
   "outputs": [
    {
     "data": {
      "text/html": [
       "<div>\n",
       "<style scoped>\n",
       "    .dataframe tbody tr th:only-of-type {\n",
       "        vertical-align: middle;\n",
       "    }\n",
       "\n",
       "    .dataframe tbody tr th {\n",
       "        vertical-align: top;\n",
       "    }\n",
       "\n",
       "    .dataframe thead th {\n",
       "        text-align: right;\n",
       "    }\n",
       "</style>\n",
       "<table border=\"1\" class=\"dataframe\">\n",
       "  <thead>\n",
       "    <tr style=\"text-align: right;\">\n",
       "      <th></th>\n",
       "      <th>url</th>\n",
       "      <th>calories</th>\n",
       "    </tr>\n",
       "  </thead>\n",
       "  <tbody>\n",
       "    <tr>\n",
       "      <th>0</th>\n",
       "      <td>https://www.epicurious.com/recipes/food/views/classic-shortbread-236614</td>\n",
       "      <td>{\"name\": \"Energy\", \"nutrient_id\": \"208\", \"unit\": \"kcal\", \"agg_value\": 825.376994161784}</td>\n",
       "    </tr>\n",
       "    <tr>\n",
       "      <th>1</th>\n",
       "      <td>http://www.epicurious.com/recipes/food/views/roasted-asparagus-365157</td>\n",
       "      <td>{\"name\": \"Energy\", \"nutrient_id\": \"208\", \"unit\": \"kcal\", \"agg_value\": 74.73903797468354}</td>\n",
       "    </tr>\n",
       "    <tr>\n",
       "      <th>2</th>\n",
       "      <td>http://www.epicurious.com/recipes/food/views/chocolate-dipped-spritz-washboards-with-pistachios-387471</td>\n",
       "      <td>{\"name\": \"Energy\", \"nutrient_id\": \"208\", \"unit\": \"kcal\", \"agg_value\": 950.5261358076136}</td>\n",
       "    </tr>\n",
       "    <tr>\n",
       "      <th>3</th>\n",
       "      <td>http://www.epicurious.com/recipes/food/views/Chocolate-Dipped-Frozen-Banana-Bites-352009</td>\n",
       "      <td>{\"name\": \"Energy\", \"nutrient_id\": \"208\", \"unit\": \"kcal\", \"agg_value\": 2487.1907272832523}</td>\n",
       "    </tr>\n",
       "    <tr>\n",
       "      <th>4</th>\n",
       "      <td>http://www.epicurious.com/recipes/food/views/pasta-with-tomatoes-and-goat-cheese-103833</td>\n",
       "      <td>{\"name\": \"Energy\", \"nutrient_id\": \"208\", \"unit\": \"kcal\", \"agg_value\": 2813.6989705594024}</td>\n",
       "    </tr>\n",
       "  </tbody>\n",
       "</table>\n",
       "</div>"
      ],
      "text/plain": [
       "                                                                                                      url  \\\n",
       "0  https://www.epicurious.com/recipes/food/views/classic-shortbread-236614                                  \n",
       "1  http://www.epicurious.com/recipes/food/views/roasted-asparagus-365157                                    \n",
       "2  http://www.epicurious.com/recipes/food/views/chocolate-dipped-spritz-washboards-with-pistachios-387471   \n",
       "3  http://www.epicurious.com/recipes/food/views/Chocolate-Dipped-Frozen-Banana-Bites-352009                 \n",
       "4  http://www.epicurious.com/recipes/food/views/pasta-with-tomatoes-and-goat-cheese-103833                  \n",
       "\n",
       "                                                                                    calories  \n",
       "0  {\"name\": \"Energy\", \"nutrient_id\": \"208\", \"unit\": \"kcal\", \"agg_value\": 825.376994161784}    \n",
       "1  {\"name\": \"Energy\", \"nutrient_id\": \"208\", \"unit\": \"kcal\", \"agg_value\": 74.73903797468354}   \n",
       "2  {\"name\": \"Energy\", \"nutrient_id\": \"208\", \"unit\": \"kcal\", \"agg_value\": 950.5261358076136}   \n",
       "3  {\"name\": \"Energy\", \"nutrient_id\": \"208\", \"unit\": \"kcal\", \"agg_value\": 2487.1907272832523}  \n",
       "4  {\"name\": \"Energy\", \"nutrient_id\": \"208\", \"unit\": \"kcal\", \"agg_value\": 2813.6989705594024}  "
      ]
     },
     "execution_count": 12,
     "metadata": {},
     "output_type": "execute_result"
    }
   ],
   "source": [
    "epicurious_derived_calories_df.head()"
   ]
  },
  {
   "cell_type": "markdown",
   "metadata": {},
   "source": [
    "Extracting numeric value of calories using regex."
   ]
  },
  {
   "cell_type": "code",
   "execution_count": 13,
   "metadata": {
    "collapsed": true
   },
   "outputs": [],
   "source": [
    "epicurious_derived_calories_df['calories_amount'] = epicurious_derived_calories_df['calories'].str.extract('\"agg_value\": ([0-9]+.[0-9]+)', expand=True)"
   ]
  },
  {
   "cell_type": "code",
   "execution_count": 14,
   "metadata": {},
   "outputs": [
    {
     "data": {
      "text/html": [
       "<div>\n",
       "<style scoped>\n",
       "    .dataframe tbody tr th:only-of-type {\n",
       "        vertical-align: middle;\n",
       "    }\n",
       "\n",
       "    .dataframe tbody tr th {\n",
       "        vertical-align: top;\n",
       "    }\n",
       "\n",
       "    .dataframe thead th {\n",
       "        text-align: right;\n",
       "    }\n",
       "</style>\n",
       "<table border=\"1\" class=\"dataframe\">\n",
       "  <thead>\n",
       "    <tr style=\"text-align: right;\">\n",
       "      <th></th>\n",
       "      <th>url</th>\n",
       "      <th>calories</th>\n",
       "      <th>calories_amount</th>\n",
       "    </tr>\n",
       "  </thead>\n",
       "  <tbody>\n",
       "    <tr>\n",
       "      <th>0</th>\n",
       "      <td>https://www.epicurious.com/recipes/food/views/classic-shortbread-236614</td>\n",
       "      <td>{\"name\": \"Energy\", \"nutrient_id\": \"208\", \"unit\": \"kcal\", \"agg_value\": 825.376994161784}</td>\n",
       "      <td>825.376994161784</td>\n",
       "    </tr>\n",
       "    <tr>\n",
       "      <th>1</th>\n",
       "      <td>http://www.epicurious.com/recipes/food/views/roasted-asparagus-365157</td>\n",
       "      <td>{\"name\": \"Energy\", \"nutrient_id\": \"208\", \"unit\": \"kcal\", \"agg_value\": 74.73903797468354}</td>\n",
       "      <td>74.73903797468354</td>\n",
       "    </tr>\n",
       "    <tr>\n",
       "      <th>2</th>\n",
       "      <td>http://www.epicurious.com/recipes/food/views/chocolate-dipped-spritz-washboards-with-pistachios-387471</td>\n",
       "      <td>{\"name\": \"Energy\", \"nutrient_id\": \"208\", \"unit\": \"kcal\", \"agg_value\": 950.5261358076136}</td>\n",
       "      <td>950.5261358076136</td>\n",
       "    </tr>\n",
       "    <tr>\n",
       "      <th>3</th>\n",
       "      <td>http://www.epicurious.com/recipes/food/views/Chocolate-Dipped-Frozen-Banana-Bites-352009</td>\n",
       "      <td>{\"name\": \"Energy\", \"nutrient_id\": \"208\", \"unit\": \"kcal\", \"agg_value\": 2487.1907272832523}</td>\n",
       "      <td>2487.1907272832523</td>\n",
       "    </tr>\n",
       "    <tr>\n",
       "      <th>4</th>\n",
       "      <td>http://www.epicurious.com/recipes/food/views/pasta-with-tomatoes-and-goat-cheese-103833</td>\n",
       "      <td>{\"name\": \"Energy\", \"nutrient_id\": \"208\", \"unit\": \"kcal\", \"agg_value\": 2813.6989705594024}</td>\n",
       "      <td>2813.6989705594024</td>\n",
       "    </tr>\n",
       "  </tbody>\n",
       "</table>\n",
       "</div>"
      ],
      "text/plain": [
       "                                                                                                      url  \\\n",
       "0  https://www.epicurious.com/recipes/food/views/classic-shortbread-236614                                  \n",
       "1  http://www.epicurious.com/recipes/food/views/roasted-asparagus-365157                                    \n",
       "2  http://www.epicurious.com/recipes/food/views/chocolate-dipped-spritz-washboards-with-pistachios-387471   \n",
       "3  http://www.epicurious.com/recipes/food/views/Chocolate-Dipped-Frozen-Banana-Bites-352009                 \n",
       "4  http://www.epicurious.com/recipes/food/views/pasta-with-tomatoes-and-goat-cheese-103833                  \n",
       "\n",
       "                                                                                    calories  \\\n",
       "0  {\"name\": \"Energy\", \"nutrient_id\": \"208\", \"unit\": \"kcal\", \"agg_value\": 825.376994161784}     \n",
       "1  {\"name\": \"Energy\", \"nutrient_id\": \"208\", \"unit\": \"kcal\", \"agg_value\": 74.73903797468354}    \n",
       "2  {\"name\": \"Energy\", \"nutrient_id\": \"208\", \"unit\": \"kcal\", \"agg_value\": 950.5261358076136}    \n",
       "3  {\"name\": \"Energy\", \"nutrient_id\": \"208\", \"unit\": \"kcal\", \"agg_value\": 2487.1907272832523}   \n",
       "4  {\"name\": \"Energy\", \"nutrient_id\": \"208\", \"unit\": \"kcal\", \"agg_value\": 2813.6989705594024}   \n",
       "\n",
       "      calories_amount  \n",
       "0  825.376994161784    \n",
       "1  74.73903797468354   \n",
       "2  950.5261358076136   \n",
       "3  2487.1907272832523  \n",
       "4  2813.6989705594024  "
      ]
     },
     "execution_count": 14,
     "metadata": {},
     "output_type": "execute_result"
    }
   ],
   "source": [
    "epicurious_derived_calories_df.head()"
   ]
  },
  {
   "cell_type": "markdown",
   "metadata": {},
   "source": [
    "Converting new column into float data type."
   ]
  },
  {
   "cell_type": "code",
   "execution_count": 15,
   "metadata": {
    "collapsed": true
   },
   "outputs": [],
   "source": [
    "epicurious_derived_calories_df['calories_amount'] = epicurious_derived_calories_df['calories_amount'].apply(pd.to_numeric)"
   ]
  },
  {
   "cell_type": "markdown",
   "metadata": {},
   "source": [
    "Exploring basic statistics of the calories amount."
   ]
  },
  {
   "cell_type": "code",
   "execution_count": 16,
   "metadata": {},
   "outputs": [
    {
     "data": {
      "text/html": [
       "<div>\n",
       "<style scoped>\n",
       "    .dataframe tbody tr th:only-of-type {\n",
       "        vertical-align: middle;\n",
       "    }\n",
       "\n",
       "    .dataframe tbody tr th {\n",
       "        vertical-align: top;\n",
       "    }\n",
       "\n",
       "    .dataframe thead th {\n",
       "        text-align: right;\n",
       "    }\n",
       "</style>\n",
       "<table border=\"1\" class=\"dataframe\">\n",
       "  <thead>\n",
       "    <tr style=\"text-align: right;\">\n",
       "      <th></th>\n",
       "      <th>calories_amount</th>\n",
       "    </tr>\n",
       "  </thead>\n",
       "  <tbody>\n",
       "    <tr>\n",
       "      <th>count</th>\n",
       "      <td>654906.00</td>\n",
       "    </tr>\n",
       "    <tr>\n",
       "      <th>mean</th>\n",
       "      <td>600067.77</td>\n",
       "    </tr>\n",
       "    <tr>\n",
       "      <th>std</th>\n",
       "      <td>42249417.65</td>\n",
       "    </tr>\n",
       "    <tr>\n",
       "      <th>min</th>\n",
       "      <td>0.00</td>\n",
       "    </tr>\n",
       "    <tr>\n",
       "      <th>25%</th>\n",
       "      <td>1448.70</td>\n",
       "    </tr>\n",
       "    <tr>\n",
       "      <th>50%</th>\n",
       "      <td>2506.04</td>\n",
       "    </tr>\n",
       "    <tr>\n",
       "      <th>75%</th>\n",
       "      <td>4000.25</td>\n",
       "    </tr>\n",
       "    <tr>\n",
       "      <th>max</th>\n",
       "      <td>3141855091.61</td>\n",
       "    </tr>\n",
       "  </tbody>\n",
       "</table>\n",
       "</div>"
      ],
      "text/plain": [
       "       calories_amount\n",
       "count 654906.00       \n",
       "mean  600067.77       \n",
       "std   42249417.65     \n",
       "min   0.00            \n",
       "25%   1448.70         \n",
       "50%   2506.04         \n",
       "75%   4000.25         \n",
       "max   3141855091.61   "
      ]
     },
     "execution_count": 16,
     "metadata": {},
     "output_type": "execute_result"
    }
   ],
   "source": [
    "epicurious_derived_calories_df.describe()"
   ]
  },
  {
   "cell_type": "markdown",
   "metadata": {},
   "source": [
    "How many recipes have 0 calories?"
   ]
  },
  {
   "cell_type": "code",
   "execution_count": 17,
   "metadata": {},
   "outputs": [],
   "source": [
    "epicurious_0_derived_calories_df = epicurious_derived_calories_df[epicurious_derived_calories_df['calories_amount'] == 0]"
   ]
  },
  {
   "cell_type": "code",
   "execution_count": 18,
   "metadata": {},
   "outputs": [
    {
     "data": {
      "text/plain": [
       "92    1\n",
       "Name: calories_amount, dtype: int64"
      ]
     },
     "execution_count": 18,
     "metadata": {},
     "output_type": "execute_result"
    }
   ],
   "source": [
    "pd.value_counts(epicurious_0_derived_calories_df['calories_amount'].value_counts())"
   ]
  },
  {
   "cell_type": "code",
   "execution_count": 19,
   "metadata": {},
   "outputs": [
    {
     "data": {
      "text/plain": [
       "92"
      ]
     },
     "execution_count": 19,
     "metadata": {},
     "output_type": "execute_result"
    }
   ],
   "source": [
    "epicurious_0_derived_calories_df.shape[0]"
   ]
  },
  {
   "cell_type": "markdown",
   "metadata": {},
   "source": [
    "How many recipes have more than 5,000 calories?"
   ]
  },
  {
   "cell_type": "code",
   "execution_count": 20,
   "metadata": {
    "collapsed": true
   },
   "outputs": [],
   "source": [
    "epicurious_5000_derived_calories_df = epicurious_derived_calories_df[epicurious_derived_calories_df['calories_amount'] > 5000]"
   ]
  },
  {
   "cell_type": "code",
   "execution_count": 21,
   "metadata": {},
   "outputs": [
    {
     "data": {
      "text/plain": [
       "105975"
      ]
     },
     "execution_count": 21,
     "metadata": {},
     "output_type": "execute_result"
    }
   ],
   "source": [
    "epicurious_5000_derived_calories_df.shape[0]"
   ]
  },
  {
   "cell_type": "markdown",
   "metadata": {},
   "source": [
    "If we don't filter out extreme calories values, we don't get a very useful histogram."
   ]
  },
  {
   "cell_type": "code",
   "execution_count": 22,
   "metadata": {},
   "outputs": [
    {
     "data": {
      "image/png": "[encoded data removed]",
      "text/plain": [
       "<matplotlib.figure.Figure at 0x7fa211d07b90>"
      ]
     },
     "metadata": {},
     "output_type": "display_data"
    }
   ],
   "source": [
    "sns.distplot(epicurious_derived_calories_df['calories_amount']);"
   ]
  },
  {
   "cell_type": "markdown",
   "metadata": {},
   "source": [
    "Plotting a box plot of calories, which is not very useful."
   ]
  },
  {
   "cell_type": "code",
   "execution_count": 23,
   "metadata": {},
   "outputs": [
    {
     "data": {
      "image/png": "[encoded data removed]",
      "text/plain": [
       "<matplotlib.figure.Figure at 0x7fa21a1a1f90>"
      ]
     },
     "metadata": {},
     "output_type": "display_data"
    }
   ],
   "source": [
    "sns.boxplot(x=epicurious_derived_calories_df['calories_amount']);"
   ]
  },
  {
   "cell_type": "markdown",
   "metadata": {},
   "source": [
    "Let's create a dataframe with calories amount greater than 0 and less than 5,000."
   ]
  },
  {
   "cell_type": "code",
   "execution_count": 24,
   "metadata": {
    "collapsed": true
   },
   "outputs": [],
   "source": [
    "epicurious_derived_calories_0_5000_df = epicurious_derived_calories_df[(epicurious_derived_calories_df['calories_amount'] > 0) & (epicurious_derived_calories_df['calories_amount'] < 5000)]"
   ]
  },
  {
   "cell_type": "markdown",
   "metadata": {},
   "source": [
    "Now, let's visualize a distribution of the calories amount using the new created dataframe."
   ]
  },
  {
   "cell_type": "code",
   "execution_count": 25,
   "metadata": {},
   "outputs": [
    {
     "data": {
      "image/png": "[encoded data removed]",
      "text/plain": [
       "<matplotlib.figure.Figure at 0x7fa2166fee90>"
      ]
     },
     "metadata": {},
     "output_type": "display_data"
    }
   ],
   "source": [
    "sns.distplot(epicurious_derived_calories_0_5000_df['calories_amount']);"
   ]
  },
  {
   "cell_type": "markdown",
   "metadata": {},
   "source": [
    "And a box plot."
   ]
  },
  {
   "cell_type": "code",
   "execution_count": 26,
   "metadata": {},
   "outputs": [
    {
     "data": {
      "image/png": "[encoded data removed]",
      "text/plain": [
       "<matplotlib.figure.Figure at 0x7fa219f92a10>"
      ]
     },
     "metadata": {},
     "output_type": "display_data"
    }
   ],
   "source": [
    "sns.boxplot(x=epicurious_derived_calories_0_5000_df['calories_amount']);"
   ]
  },
  {
   "cell_type": "markdown",
   "metadata": {},
   "source": [
    "#### Extracting calories from `nutrition` column. Note that we use URLs from domain `epicurious.com` as they always have `nutrition`."
   ]
  },
  {
   "cell_type": "markdown",
   "metadata": {},
   "source": [
    "One row of data looks like:\n",
    "\n",
    "```\n",
    "Calories 830.5\t \n",
    "Calories from Fat 235\t \n",
    "Total Fat 26.2 g\t \n",
    "Saturated Fat 8.3 g\t \n",
    "Cholesterol 75.1 mg\t \n",
    "Sodium 1251.3 mg\t \n",
    "Total Carbohydrate 103.2 g\t \n",
    "Dietary Fiber 5.4 g\t \n",
    "Sugars 5.3 g\t \n",
    "Protein 43 g\n",
    "```"
   ]
  },
  {
   "cell_type": "code",
   "execution_count": 27,
   "metadata": {
    "collapsed": true
   },
   "outputs": [],
   "source": [
    "%%sql --module epicurious_calories_nutrition\n",
    "SELECT url, nutrition AS calories, FLOAT(RIGHT(nutrition, LENGTH(nutrition) - LENGTH('Calories'))) AS calories_amount\n",
    "FROM FLATTEN([firebase-wellio:recipes.imported_recipes], nutrition)\n",
    "WHERE url LIKE '%epicurious.com%' AND derived_nutrition IS NOT NULL AND INTEGER(RIGHT(derived_nutrition_version, \n",
    "  LENGTH(derived_nutrition_version)-1)) = 10 AND nutrition LIKE 'Calories%'\n",
    "  AND nutrition NOT LIKE 'Calories from%'"
   ]
  },
  {
   "cell_type": "code",
   "execution_count": 28,
   "metadata": {},
   "outputs": [
    {
     "data": {
      "text/html": [
       "\n",
       "    <div class=\"bqtv\" id=\"4_152036039243\"><table><tr><th>url</th><th>calories</th><th>calories_amount</th></tr><tr><td>http://www.epicurious.com/recipes/food/views/pasta-with-tomatoes-and-goat-cheese-103833</td><td>Calories 605</td><td>605.0</td></tr><tr><td>http://www.epicurious.com/recipes/food/views/parmesan-roasted-butternut-squash-350608</td><td>Calories 168</td><td>168.0</td></tr><tr><td>http://www.epicurious.com/recipes/food/views/crisp-roast-duck-235744</td><td>Calories 2521</td><td>2521.0</td></tr><tr><td>http://www.epicurious.com/recipes/food/views/bearnaise-sauce-395049</td><td>Calories 235</td><td>235.0</td></tr><tr><td>http://www.epicurious.com/recipes/food/views/poblano-potato-gratin-350596</td><td>Calories 295</td><td>295.0</td></tr><tr><td>http://www.epicurious.com/recipes/food/views/salted-caramel-ice-cream-354517</td><td>Calories 227</td><td>227.0</td></tr><tr><td>http://www.epicurious.com/recipes/food/views/cranberry-cherry-compote</td><td>Calories 244</td><td>244.0</td></tr><tr><td>http://www.epicurious.com/recipes/food/views/scottish-oatcakes-100408</td><td>Calories 126</td><td>126.0</td></tr><tr><td>http://www.epicurious.com/recipes/food/views/caramelized-onion-tartlets-230744</td><td>Calories 184</td><td>184.0</td></tr><tr><td>http://www.epicurious.com/recipes/food/views/strawberry-and-peach-sangria-232542</td><td>Calories 253</td><td>253.0</td></tr><tr><td>http://www.epicurious.com/recipes/food/views/chimichurri-sauce-107159</td><td>Calories 506</td><td>506.0</td></tr><tr><td>http://www.epicurious.com/recipes/food/views/quick-paella-354351</td><td>Calories 1217</td><td>1217.0</td></tr><tr><td>http://www.epicurious.com/recipes/food/views/watermelon-rind-chutney-109655</td><td>Calories 345</td><td>345.0</td></tr><tr><td>http://www.epicurious.com/recipes/food/views/hot-chocolate-baked-french-toast</td><td>Calories 617</td><td>617.0</td></tr><tr><td>http://www.epicurious.com/recipes/food/views/soda-bread-with-dark-chocolate-and-candied-orange-peel-231866</td><td>Calories 3894</td><td>3894.0</td></tr><tr><td>http://www.epicurious.com/recipes/food/views/mango-tart-with-coconut-crust-108128</td><td>Calories 285</td><td>285.0</td></tr><tr><td>http://www.epicurious.com/recipes/food/views/knot-cookies-233294</td><td>Calories 103</td><td>103.0</td></tr><tr><td>http://www.epicurious.com/recipes/food/views/bloody-hell-bloody-mary-51225810</td><td>Calories 224</td><td>224.0</td></tr><tr><td>http://www.epicurious.com/recipes/food/views/bloody-hell-bloody-mary-51225810</td><td>Calories 224</td><td>224.0</td></tr><tr><td>http://www.epicurious.com/recipes/food/views/classic-ragu-bolognese-365181</td><td>Calories 877</td><td>877.0</td></tr><tr><td>http://www.epicurious.com/recipes/food/views/pumpkin-turnovers-51119020</td><td>Calories 187</td><td>187.0</td></tr><tr><td>http://www.epicurious.com/recipes/food/views/smoked-salmon-chowder-240816</td><td>Calories 317</td><td>317.0</td></tr><tr><td>http://www.epicurious.com/recipes/food/views/gluten-free-coconut-layer-cake-241926</td><td>Calories 505</td><td>505.0</td></tr><tr><td>http://www.epicurious.com/recipes/food/views/pistachio-and-dried-cherry-biscotti-365178</td><td>Calories 78</td><td>78.0</td></tr><tr><td>http://www.epicurious.com/recipes/food/views/chocolate-chip-coffee-cake-233141</td><td>Calories 428</td><td>428.0</td></tr></table></div>\n",
       "    <br />(rows: 320564, time: 5.9s,    34GB processed, job: job_b88JwmHJBoJPnkUM5JkfUwEcs5XF)<br />\n",
       "    <script src=\"/static/components/requirejs/require.js\"></script>\n",
       "    <script>\n",
       "\n",
       "      require.config({\n",
       "        paths: {\n",
       "          base: '/static/base',\n",
       "          d3: '//cdnjs.cloudflare.com/ajax/libs/d3/3.4.13/d3',\n",
       "          plotly: 'https://cdn.plot.ly/plotly-1.5.1.min.js?noext',\n",
       "          jquery: '//ajax.googleapis.com/ajax/libs/jquery/2.0.0/jquery.min'\n",
       "        },\n",
       "        map: {\n",
       "          '*': {\n",
       "            datalab: 'nbextensions/gcpdatalab'\n",
       "          }\n",
       "        },\n",
       "        shim: {\n",
       "          plotly: {\n",
       "            deps: ['d3', 'jquery'],\n",
       "            exports: 'plotly'\n",
       "          }\n",
       "        }\n",
       "      });\n",
       "\n",
       "      require(['datalab/charting', 'datalab/element!4_152036039243', 'base/js/events',\n",
       "          'datalab/style!/nbextensions/gcpdatalab/charting.css'],\n",
       "        function(charts, dom, events) {\n",
       "          charts.render('gcharts', dom, events, 'paged_table', [], {\"rows\": [{\"c\": [{\"v\": \"http://www.epicurious.com/recipes/food/views/pasta-with-tomatoes-and-goat-cheese-103833\"}, {\"v\": \"Calories 605\"}, {\"v\": 605.0}]}, {\"c\": [{\"v\": \"http://www.epicurious.com/recipes/food/views/parmesan-roasted-butternut-squash-350608\"}, {\"v\": \"Calories 168\"}, {\"v\": 168.0}]}, {\"c\": [{\"v\": \"http://www.epicurious.com/recipes/food/views/crisp-roast-duck-235744\"}, {\"v\": \"Calories 2521\"}, {\"v\": 2521.0}]}, {\"c\": [{\"v\": \"http://www.epicurious.com/recipes/food/views/bearnaise-sauce-395049\"}, {\"v\": \"Calories 235\"}, {\"v\": 235.0}]}, {\"c\": [{\"v\": \"http://www.epicurious.com/recipes/food/views/poblano-potato-gratin-350596\"}, {\"v\": \"Calories 295\"}, {\"v\": 295.0}]}, {\"c\": [{\"v\": \"http://www.epicurious.com/recipes/food/views/salted-caramel-ice-cream-354517\"}, {\"v\": \"Calories 227\"}, {\"v\": 227.0}]}, {\"c\": [{\"v\": \"http://www.epicurious.com/recipes/food/views/cranberry-cherry-compote\"}, {\"v\": \"Calories 244\"}, {\"v\": 244.0}]}, {\"c\": [{\"v\": \"http://www.epicurious.com/recipes/food/views/scottish-oatcakes-100408\"}, {\"v\": \"Calories 126\"}, {\"v\": 126.0}]}, {\"c\": [{\"v\": \"http://www.epicurious.com/recipes/food/views/caramelized-onion-tartlets-230744\"}, {\"v\": \"Calories 184\"}, {\"v\": 184.0}]}, {\"c\": [{\"v\": \"http://www.epicurious.com/recipes/food/views/strawberry-and-peach-sangria-232542\"}, {\"v\": \"Calories 253\"}, {\"v\": 253.0}]}, {\"c\": [{\"v\": \"http://www.epicurious.com/recipes/food/views/chimichurri-sauce-107159\"}, {\"v\": \"Calories 506\"}, {\"v\": 506.0}]}, {\"c\": [{\"v\": \"http://www.epicurious.com/recipes/food/views/quick-paella-354351\"}, {\"v\": \"Calories 1217\"}, {\"v\": 1217.0}]}, {\"c\": [{\"v\": \"http://www.epicurious.com/recipes/food/views/watermelon-rind-chutney-109655\"}, {\"v\": \"Calories 345\"}, {\"v\": 345.0}]}, {\"c\": [{\"v\": \"http://www.epicurious.com/recipes/food/views/hot-chocolate-baked-french-toast\"}, {\"v\": \"Calories 617\"}, {\"v\": 617.0}]}, {\"c\": [{\"v\": \"http://www.epicurious.com/recipes/food/views/soda-bread-with-dark-chocolate-and-candied-orange-peel-231866\"}, {\"v\": \"Calories 3894\"}, {\"v\": 3894.0}]}, {\"c\": [{\"v\": \"http://www.epicurious.com/recipes/food/views/mango-tart-with-coconut-crust-108128\"}, {\"v\": \"Calories 285\"}, {\"v\": 285.0}]}, {\"c\": [{\"v\": \"http://www.epicurious.com/recipes/food/views/knot-cookies-233294\"}, {\"v\": \"Calories 103\"}, {\"v\": 103.0}]}, {\"c\": [{\"v\": \"http://www.epicurious.com/recipes/food/views/bloody-hell-bloody-mary-51225810\"}, {\"v\": \"Calories 224\"}, {\"v\": 224.0}]}, {\"c\": [{\"v\": \"http://www.epicurious.com/recipes/food/views/bloody-hell-bloody-mary-51225810\"}, {\"v\": \"Calories 224\"}, {\"v\": 224.0}]}, {\"c\": [{\"v\": \"http://www.epicurious.com/recipes/food/views/classic-ragu-bolognese-365181\"}, {\"v\": \"Calories 877\"}, {\"v\": 877.0}]}, {\"c\": [{\"v\": \"http://www.epicurious.com/recipes/food/views/pumpkin-turnovers-51119020\"}, {\"v\": \"Calories 187\"}, {\"v\": 187.0}]}, {\"c\": [{\"v\": \"http://www.epicurious.com/recipes/food/views/smoked-salmon-chowder-240816\"}, {\"v\": \"Calories 317\"}, {\"v\": 317.0}]}, {\"c\": [{\"v\": \"http://www.epicurious.com/recipes/food/views/gluten-free-coconut-layer-cake-241926\"}, {\"v\": \"Calories 505\"}, {\"v\": 505.0}]}, {\"c\": [{\"v\": \"http://www.epicurious.com/recipes/food/views/pistachio-and-dried-cherry-biscotti-365178\"}, {\"v\": \"Calories 78\"}, {\"v\": 78.0}]}, {\"c\": [{\"v\": \"http://www.epicurious.com/recipes/food/views/chocolate-chip-coffee-cake-233141\"}, {\"v\": \"Calories 428\"}, {\"v\": 428.0}]}], \"cols\": [{\"type\": \"string\", \"id\": \"url\", \"label\": \"url\"}, {\"type\": \"string\", \"id\": \"calories\", \"label\": \"calories\"}, {\"type\": \"number\", \"id\": \"calories_amount\", \"label\": \"calories_amount\"}]},\n",
       "            {\n",
       "              pageSize: 25,\n",
       "              cssClassNames:  {\n",
       "                tableRow: 'gchart-table-row',\n",
       "                headerRow: 'gchart-table-headerrow',\n",
       "                oddTableRow: 'gchart-table-oddrow',\n",
       "                selectedTableRow: 'gchart-table-selectedrow',\n",
       "                hoverTableRow: 'gchart-table-hoverrow',\n",
       "                tableCell: 'gchart-table-cell',\n",
       "                headerCell: 'gchart-table-headercell',\n",
       "                rowNumberCell: 'gchart-table-rownumcell'\n",
       "              }\n",
       "            },\n",
       "            {source_index: 2, fields: 'url,calories,calories_amount', legacy: 'true'},\n",
       "            0,\n",
       "            320564);\n",
       "        }\n",
       "      );\n",
       "    </script>\n",
       "  "
      ],
      "text/plain": [
       "QueryResultsTable job_b88JwmHJBoJPnkUM5JkfUwEcs5XF"
      ]
     },
     "execution_count": 28,
     "metadata": {},
     "output_type": "execute_result"
    }
   ],
   "source": [
    "%%bigquery execute -q epicurious_calories_nutrition"
   ]
  },
  {
   "cell_type": "markdown",
   "metadata": {},
   "source": [
    "Export to pandas dataframe."
   ]
  },
  {
   "cell_type": "code",
   "execution_count": 29,
   "metadata": {
    "collapsed": true
   },
   "outputs": [],
   "source": [
    "epicurious_calories_df = bq.Query(epicurious_calories_nutrition).to_dataframe()"
   ]
  },
  {
   "cell_type": "markdown",
   "metadata": {},
   "source": [
    "Note. In case we want to perform sampling with BigQuery:\n",
    "https://www.oreilly.com/learning/repeatable-sampling-of-data-sets-in-bigquery-for-machine-learning"
   ]
  },
  {
   "cell_type": "code",
   "execution_count": 30,
   "metadata": {},
   "outputs": [
    {
     "data": {
      "text/html": [
       "<div>\n",
       "<style scoped>\n",
       "    .dataframe tbody tr th:only-of-type {\n",
       "        vertical-align: middle;\n",
       "    }\n",
       "\n",
       "    .dataframe tbody tr th {\n",
       "        vertical-align: top;\n",
       "    }\n",
       "\n",
       "    .dataframe thead th {\n",
       "        text-align: right;\n",
       "    }\n",
       "</style>\n",
       "<table border=\"1\" class=\"dataframe\">\n",
       "  <thead>\n",
       "    <tr style=\"text-align: right;\">\n",
       "      <th></th>\n",
       "      <th>url</th>\n",
       "      <th>calories</th>\n",
       "      <th>calories_amount</th>\n",
       "    </tr>\n",
       "  </thead>\n",
       "  <tbody>\n",
       "    <tr>\n",
       "      <th>0</th>\n",
       "      <td>http://www.epicurious.com/recipes/food/views/pasta-with-tomatoes-and-goat-cheese-103833</td>\n",
       "      <td>Calories 605</td>\n",
       "      <td>605.00</td>\n",
       "    </tr>\n",
       "    <tr>\n",
       "      <th>1</th>\n",
       "      <td>http://www.epicurious.com/recipes/food/views/parmesan-roasted-butternut-squash-350608</td>\n",
       "      <td>Calories 168</td>\n",
       "      <td>168.00</td>\n",
       "    </tr>\n",
       "    <tr>\n",
       "      <th>2</th>\n",
       "      <td>http://www.epicurious.com/recipes/food/views/crisp-roast-duck-235744</td>\n",
       "      <td>Calories 2521</td>\n",
       "      <td>2521.00</td>\n",
       "    </tr>\n",
       "    <tr>\n",
       "      <th>3</th>\n",
       "      <td>http://www.epicurious.com/recipes/food/views/bearnaise-sauce-395049</td>\n",
       "      <td>Calories 235</td>\n",
       "      <td>235.00</td>\n",
       "    </tr>\n",
       "    <tr>\n",
       "      <th>4</th>\n",
       "      <td>http://www.epicurious.com/recipes/food/views/poblano-potato-gratin-350596</td>\n",
       "      <td>Calories 295</td>\n",
       "      <td>295.00</td>\n",
       "    </tr>\n",
       "  </tbody>\n",
       "</table>\n",
       "</div>"
      ],
      "text/plain": [
       "                                                                                       url  \\\n",
       "0  http://www.epicurious.com/recipes/food/views/pasta-with-tomatoes-and-goat-cheese-103833   \n",
       "1  http://www.epicurious.com/recipes/food/views/parmesan-roasted-butternut-squash-350608     \n",
       "2  http://www.epicurious.com/recipes/food/views/crisp-roast-duck-235744                      \n",
       "3  http://www.epicurious.com/recipes/food/views/bearnaise-sauce-395049                       \n",
       "4  http://www.epicurious.com/recipes/food/views/poblano-potato-gratin-350596                 \n",
       "\n",
       "        calories  calories_amount  \n",
       "0  Calories 605  605.00            \n",
       "1  Calories 168  168.00            \n",
       "2  Calories 2521 2521.00           \n",
       "3  Calories 235  235.00            \n",
       "4  Calories 295  295.00            "
      ]
     },
     "execution_count": 30,
     "metadata": {},
     "output_type": "execute_result"
    }
   ],
   "source": [
    "epicurious_calories_df.head()"
   ]
  },
  {
   "cell_type": "markdown",
   "metadata": {},
   "source": [
    "How many rows of data?"
   ]
  },
  {
   "cell_type": "code",
   "execution_count": 31,
   "metadata": {},
   "outputs": [
    {
     "data": {
      "text/plain": [
       "320564"
      ]
     },
     "execution_count": 31,
     "metadata": {},
     "output_type": "execute_result"
    }
   ],
   "source": [
    "epicurious_calories_df.shape[0]"
   ]
  },
  {
   "cell_type": "markdown",
   "metadata": {},
   "source": [
    "Let's check the columns data types."
   ]
  },
  {
   "cell_type": "code",
   "execution_count": 32,
   "metadata": {},
   "outputs": [
    {
     "name": "stdout",
     "output_type": "stream",
     "text": [
      "<class 'pandas.core.frame.DataFrame'>\n",
      "RangeIndex: 320564 entries, 0 to 320563\n",
      "Data columns (total 3 columns):\n",
      "url                320564 non-null object\n",
      "calories           320564 non-null object\n",
      "calories_amount    320564 non-null float64\n",
      "dtypes: float64(1), object(2)\n",
      "memory usage: 7.3+ MB\n"
     ]
    }
   ],
   "source": [
    "epicurious_calories_df.info()"
   ]
  },
  {
   "cell_type": "markdown",
   "metadata": {},
   "source": [
    "Checking basic statistics of the calories amount."
   ]
  },
  {
   "cell_type": "code",
   "execution_count": 33,
   "metadata": {},
   "outputs": [
    {
     "data": {
      "text/plain": [
       "count   320564.00  \n",
       "mean    1597.23    \n",
       "std     189624.43  \n",
       "min     0.00       \n",
       "25%     255.00     \n",
       "50%     389.00     \n",
       "75%     690.00     \n",
       "max     44659793.00\n",
       "Name: calories_amount, dtype: float64"
      ]
     },
     "execution_count": 33,
     "metadata": {},
     "output_type": "execute_result"
    }
   ],
   "source": [
    "epicurious_calories_df.calories_amount.describe()"
   ]
  },
  {
   "cell_type": "markdown",
   "metadata": {},
   "source": [
    "If we don't filter out extreme calories values, we don't get a very useful histogram."
   ]
  },
  {
   "cell_type": "code",
   "execution_count": 34,
   "metadata": {},
   "outputs": [
    {
     "data": {
      "image/png": "[encoded data removed]",
      "text/plain": [
       "<matplotlib.figure.Figure at 0x7fa219f0af50>"
      ]
     },
     "metadata": {},
     "output_type": "display_data"
    }
   ],
   "source": [
    "sns.distplot(epicurious_calories_df['calories_amount']);"
   ]
  },
  {
   "cell_type": "markdown",
   "metadata": {},
   "source": [
    "Creating a dataframe with recipes with more than 0 calories and less than a 1,000 calories."
   ]
  },
  {
   "cell_type": "code",
   "execution_count": 35,
   "metadata": {
    "collapsed": true
   },
   "outputs": [],
   "source": [
    "epicurious_calories_0_5000_df = epicurious_calories_df[(epicurious_calories_df['calories_amount'] > 0) & (epicurious_calories_df['calories_amount'] < 5000)]"
   ]
  },
  {
   "cell_type": "markdown",
   "metadata": {},
   "source": [
    "And it's corresponding distribution plot."
   ]
  },
  {
   "cell_type": "code",
   "execution_count": 36,
   "metadata": {},
   "outputs": [
    {
     "data": {
      "image/png": "[encoded data removed]",
      "text/plain": [
       "<matplotlib.figure.Figure at 0x7fa219f21450>"
      ]
     },
     "metadata": {},
     "output_type": "display_data"
    }
   ],
   "source": [
    "sns.distplot(epicurious_calories_0_5000_df['calories_amount']);"
   ]
  },
  {
   "cell_type": "markdown",
   "metadata": {},
   "source": [
    "And a box plot."
   ]
  },
  {
   "cell_type": "code",
   "execution_count": 37,
   "metadata": {},
   "outputs": [
    {
     "data": {
      "image/png": "[encoded data removed]",
      "text/plain": [
       "<matplotlib.figure.Figure at 0x7fa20bddb850>"
      ]
     },
     "metadata": {},
     "output_type": "display_data"
    }
   ],
   "source": [
    "sns.boxplot(x=epicurious_calories_0_5000_df['calories_amount']);"
   ]
  },
  {
   "cell_type": "markdown",
   "metadata": {},
   "source": [
    "We can see a lot of outliers, recipes with more than ~1,500 calories."
   ]
  },
  {
   "cell_type": "markdown",
   "metadata": {},
   "source": [
    "### We can see that the calories distribution is more extreme when using derived_nutrition compared to nutrition, and that where using nutrition, most of the recipes have a calories amount around 500 calories."
   ]
  },
  {
   "cell_type": "code",
   "execution_count": null,
   "metadata": {
    "collapsed": true
   },
   "outputs": [],
   "source": []
  }
 ],
 "metadata": {
  "kernelspec": {
   "display_name": "Python 2",
   "language": "python",
   "name": "python2"
  },
  "language_info": {
   "codemirror_mode": {
    "name": "ipython",
    "version": 2
   },
   "file_extension": ".py",
   "mimetype": "text/x-python",
   "name": "python",
   "nbconvert_exporter": "python",
   "pygments_lexer": "ipython2",
   "version": "2.7.12"
  }
 },
 "nbformat": 4,
 "nbformat_minor": 2
}
