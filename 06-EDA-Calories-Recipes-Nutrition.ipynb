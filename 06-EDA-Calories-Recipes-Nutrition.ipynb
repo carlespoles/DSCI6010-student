{
 "cells": [
  {
   "cell_type": "markdown",
   "metadata": {},
   "source": [
    "# Exploring recipe's calories using two different data sources."
   ]
  },
  {
   "cell_type": "markdown",
   "metadata": {},
   "source": [
    "We have calories data from 2 different columns: `nutrition`, `derived_nutrition`.\n",
    "\n",
    "We want to compare the values from both sources."
   ]
  },
  {
   "cell_type": "code",
   "execution_count": 1,
   "metadata": {
    "collapsed": true
   },
   "outputs": [],
   "source": [
    "reset -fs"
   ]
  },
  {
   "cell_type": "code",
   "execution_count": 2,
   "metadata": {
    "collapsed": false
   },
   "outputs": [],
   "source": [
    "import re\n",
    "import json\n",
    "import pprint\n",
    "import operator\n",
    "import itertools\n",
    "import numpy as np\n",
    "import pandas as pd\n",
    "import seaborn as sns\n",
    "import datalab.bigquery as bq\n",
    "import matplotlib.pyplot as plt\n",
    "sns.set_style('white')\n",
    "%matplotlib inline"
   ]
  },
  {
   "cell_type": "markdown",
   "metadata": {},
   "source": [
    "To be able to see all content columns of a pandas dataframe, we set the width of the columns to max."
   ]
  },
  {
   "cell_type": "code",
   "execution_count": 3,
   "metadata": {
    "collapsed": true
   },
   "outputs": [],
   "source": [
    "pd.set_option('display.max_colwidth', -1)"
   ]
  },
  {
   "cell_type": "markdown",
   "metadata": {},
   "source": [
    "To be able to see all numeric data with 2 decimals instead of scientific notation."
   ]
  },
  {
   "cell_type": "code",
   "execution_count": 4,
   "metadata": {
    "collapsed": true
   },
   "outputs": [],
   "source": [
    "pd.options.display.float_format = '{:.2f}'.format"
   ]
  },
  {
   "cell_type": "markdown",
   "metadata": {},
   "source": [
    "To explore the data schema from the table we will extract data."
   ]
  },
  {
   "cell_type": "code",
   "execution_count": 5,
   "metadata": {
    "collapsed": false
   },
   "outputs": [
    {
     "data": {
      "text/html": [
       "\n",
       "    <div class=\"bqsv\" id=\"1_152028795405\"></div>\n",
       "\n",
       "    <script src=\"/static/components/requirejs/require.js\"></script>\n",
       "    <script>\n",
       "      require.config({\n",
       "        paths: {\n",
       "          base: '/static/base',\n",
       "        },\n",
       "        map: {\n",
       "          '*': {\n",
       "            datalab: 'nbextensions/gcpdatalab'\n",
       "          }\n",
       "        },\n",
       "      });\n",
       "\n",
       "      require(['datalab/bigquery', 'datalab/element!1_152028795405',\n",
       "          'datalab/style!/nbextensions/gcpdatalab/bigquery.css'],\n",
       "        function(bq, dom) {\n",
       "          bq.renderSchema(dom, [{\"type\": \"STRING\", \"name\": \"title\", \"mode\": \"NULLABLE\"}, {\"type\": \"STRING\", \"name\": \"description\", \"mode\": \"NULLABLE\"}, {\"type\": \"STRING\", \"name\": \"url\", \"mode\": \"NULLABLE\"}, {\"type\": \"STRING\", \"name\": \"crawler\", \"mode\": \"NULLABLE\"}, {\"type\": \"STRING\", \"name\": \"prep_time\", \"mode\": \"NULLABLE\"}, {\"type\": \"STRING\", \"name\": \"cook_time\", \"mode\": \"NULLABLE\"}, {\"type\": \"STRING\", \"name\": \"total_time\", \"mode\": \"NULLABLE\"}, {\"type\": \"STRING\", \"name\": \"yield\", \"mode\": \"NULLABLE\"}, {\"type\": \"STRING\", \"name\": \"source_path\", \"mode\": \"NULLABLE\"}, {\"description\": \"list of ingredients\", \"type\": \"STRING\", \"name\": \"ingredients\", \"mode\": \"REPEATED\"}, {\"description\": \"list of preparation steps\", \"type\": \"STRING\", \"name\": \"preparation\", \"mode\": \"REPEATED\"}, {\"description\": \"list of ingredients entities\", \"type\": \"STRING\", \"name\": \"derived_ingredient_entities\", \"mode\": \"REPEATED\"}, {\"description\": \"list of extracted ingredient amounts\", \"type\": \"STRING\", \"name\": \"derived_ingredient_amount\", \"mode\": \"REPEATED\"}, {\"fields\": [{\"description\": \"social media scores\", \"type\": \"FLOAT\", \"name\": \"social_media\", \"mode\": \"NULLABLE\"}], \"description\": \"social media scores\", \"type\": \"RECORD\", \"name\": \"scores\", \"mode\": \"NULLABLE\"}, {\"description\": \"boolean flag indicating if recipe has an image\", \"type\": \"STRING\", \"name\": \"has_image\", \"mode\": \"NULLABLE\"}, {\"description\": \"meal/course labels\", \"type\": \"STRING\", \"name\": \"derived_labels\", \"mode\": \"NULLABLE\"}, {\"description\": \"health score for recipe\", \"type\": \"FLOAT\", \"name\": \"health_score\", \"mode\": \"NULLABLE\"}, {\"description\": \"dietary tags for recipe\", \"type\": \"STRING\", \"name\": \"diet_tags\", \"mode\": \"REPEATED\"}, {\"description\": \"list of nutrition values\", \"type\": \"STRING\", \"name\": \"nutrition\", \"mode\": \"REPEATED\"}, {\"description\": \"estimated price of the entire recipe\", \"type\": \"STRING\", \"name\": \"price_estimate\", \"mode\": \"NULLABLE\"}, {\"description\": \"estimated language or recipe\", \"type\": \"STRING\", \"name\": \"language\", \"mode\": \"NULLABLE\"}, {\"description\": \"estimated confidence of language inference\", \"type\": \"STRING\", \"name\": \"language_confidence\", \"mode\": \"NULLABLE\"}, {\"description\": \"time recipe is created\", \"type\": \"STRING\", \"name\": \"created_at\", \"mode\": \"NULLABLE\"}, {\"description\": \"time recipe is updated\", \"type\": \"STRING\", \"name\": \"updated_at\", \"mode\": \"NULLABLE\"}, {\"description\": \"recipe id\", \"type\": \"STRING\", \"name\": \"id\", \"mode\": \"NULLABLE\"}, {\"description\": \"estimated price per serving for the recipe\", \"type\": \"STRING\", \"name\": \"price_per_serving\", \"mode\": \"NULLABLE\"}, {\"description\": \"list of extracted ingredient unit of measures\", \"type\": \"STRING\", \"name\": \"derived_ingredient_uom\", \"mode\": \"REPEATED\"}, {\"description\": \"list of derived nutrition values\", \"type\": \"STRING\", \"name\": \"derived_nutrition\", \"mode\": \"REPEATED\"}, {\"description\": \"the primary image as binary data\", \"type\": \"BYTES\", \"name\": \"image\", \"mode\": \"NULLABLE\"}, {\"description\": \"recipe tags as provided by the recipe source\", \"type\": \"STRING\", \"name\": \"tags\", \"mode\": \"REPEATED\"}, {\"description\": \"NRF9.3 nutrition index value\", \"type\": \"FLOAT\", \"name\": \"derived_nutrition_nrf_index\", \"mode\": \"NULLABLE\"}, {\"description\": \"Nutrition algorithm version\", \"type\": \"STRING\", \"name\": \"derived_nutrition_version\", \"mode\": \"NULLABLE\"}, {\"description\": \"Percent of items matched for the recipe\", \"type\": \"FLOAT\", \"name\": \"derived_nutrition_confidence\", \"mode\": \"NULLABLE\"}, {\"description\": \"GCS url of the image\", \"type\": \"STRING\", \"name\": \"image_cache_url\", \"mode\": \"NULLABLE\"}, {\"description\": \"Estimated image appeal score\", \"type\": \"FLOAT\", \"name\": \"image_appeal_score\", \"mode\": \"NULLABLE\"}, {\"description\": \"confidence score that indicates the percent of ingredients that have successfully been matched to items\", \"type\": \"FLOAT\", \"name\": \"derived_fulfillment_confidence\", \"mode\": \"NULLABLE\"}, {\"description\": \"median total price per recipe\", \"type\": \"FLOAT\", \"name\": \"derived_fulfillment_total_price\", \"mode\": \"NULLABLE\"}, {\"description\": \"median consumed price per recipe\", \"type\": \"FLOAT\", \"name\": \"derived_fulfillment_consumed_price\", \"mode\": \"NULLABLE\"}, {\"description\": \"stores and the corresponding number of ingredients from the recipe that can be fulfilled in those stores\", \"type\": \"STRING\", \"name\": \"derived_fulfillment_stores\", \"mode\": \"NULLABLE\"}, {\"description\": \"stores zipcodes and the corresponding number of ingredients from the recipe that can be fulfilled in those stores\", \"type\": \"STRING\", \"name\": \"derived_fulfillment_zipcodes\", \"mode\": \"NULLABLE\"}, {\"description\": \"version of the fulfillment model\", \"type\": \"STRING\", \"name\": \"derived_fulfillment_version\", \"mode\": \"NULLABLE\"}]);\n",
       "        }\n",
       "      );\n",
       "    </script>\n",
       "    "
      ],
      "text/plain": [
       "<IPython.core.display.HTML object>"
      ]
     },
     "execution_count": 5,
     "metadata": {},
     "output_type": "execute_result"
    }
   ],
   "source": [
    "%bigquery schema --table firebase-wellio:recipes.imported_recipes"
   ]
  },
  {
   "cell_type": "markdown",
   "metadata": {},
   "source": [
    "Extracting `derived_nutrition_version`."
   ]
  },
  {
   "cell_type": "markdown",
   "metadata": {},
   "source": [
    "Example of a row of data:\n",
    "\n",
    "```\n",
    "{\"name\": \"Alcohol, ethyl\", \"nutrient_id\": \"221\", \"unit\": \"g\", \"agg_value\": 0.0}\t \n",
    "{\"name\": \"Caffeine\", \"nutrient_id\": \"262\", \"unit\": \"mg\", \"agg_value\": 0.0}\t \n",
    "{\"name\": \"Calcium, Ca\", \"nutrient_id\": \"301\", \"unit\": \"mg\", \"agg_value\": 1313.3905300353488}\t \n",
    "{\"name\": \"Carbohydrate, by difference\", \"nutrient_id\": \"205\", \"unit\": \"g\", \"agg_value\": 162.99052465576816}\t \n",
    "{\"name\": \"Cholesterol\", \"nutrient_id\": \"601\", \"unit\": \"mg\", \"agg_value\": 375.9498823787561}\t \n",
    "{\"name\": \"Energy\", \"nutrient_id\": \"208\", \"unit\": \"kcal\", \"agg_value\": 2333.1553278007873}\t \n",
    "{\"name\": \"Fatty acids, total monounsaturated\", \"nutrient_id\": \"645\", \"unit\": \"g\", \"agg_value\": 45.812315539385196}\t \n",
    "{\"name\": \"Fatty acids, total polyunsaturated\", \"nutrient_id\": \"646\", \"unit\": \"g\", \"agg_value\": 23.205340564004327}\t \n",
    "{\"name\": \"Fatty acids, total saturated\", \"nutrient_id\": \"606\", \"unit\": \"g\", \"agg_value\": 49.405855655327926}\t \n",
    "{\"name\": \"Fatty acids, total trans\", \"nutrient_id\": \"605\", \"unit\": \"g\", \"agg_value\": 0.03039770861878195}\t \n",
    "{\"name\": \"Fiber, total dietary\", \"nutrient_id\": \"291\", \"unit\": \"g\", \"agg_value\": 30.928357548404282}\t \n",
    "{\"name\": \"Iron, Fe\", \"nutrient_id\": \"303\", \"unit\": \"mg\", \"agg_value\": 14.117875369935824}\t \n",
    "{\"name\": \"Magnesium, Mg\", \"nutrient_id\": \"304\", \"unit\": \"mg\", \"agg_value\": 323.6146339264634}\t \n",
    "{\"name\": \"Potassium, K\", \"nutrient_id\": \"306\", \"unit\": \"mg\", \"agg_value\": 4182.024917283204}\t \n",
    "{\"name\": \"Protein\", \"nutrient_id\": \"203\", \"unit\": \"g\", \"agg_value\": 134.36223258379204}\t \n",
    "{\"name\": \"Sodium, Na\", \"nutrient_id\": \"307\", \"unit\": \"mg\", \"agg_value\": 3643.3221832455997}\t \n",
    "{\"name\": \"Sugars, total\", \"nutrient_id\": \"269\", \"unit\": \"g\", \"agg_value\": 27.08103267541787}\t \n",
    "{\"name\": \"Total lipid (fat)\", \"nutrient_id\": \"204\", \"unit\": \"g\", \"agg_value\": 133.7551269233669}\t \n",
    "{\"name\": \"Vitamin A, IU\", \"nutrient_id\": \"318\", \"unit\": \"IU\", \"agg_value\": 49854.13482607046}\t \n",
    "{\"name\": \"Vitamin C, total absorbic acid\", \"nutrient_id\": \"401\", \"unit\": \"mg\", \"agg_value\": 415.64417814608424}\t \n",
    "{\"name\": \"Vitamin E (alpha-tocopherol)\", \"nutrient_id\": \"323\", \"unit\": \"mg\", \"agg_value\": 12.62523061622084}\n",
    "```"
   ]
  },
  {
   "cell_type": "code",
   "execution_count": 6,
   "metadata": {
    "collapsed": true
   },
   "outputs": [],
   "source": [
    "%%sql --module derived_nutrition_versions\n",
    "SELECT\n",
    "INTEGER(RIGHT(derived_nutrition_version, LENGTH(derived_nutrition_version)-1)) AS nutrition_version\n",
    "FROM [firebase-wellio:recipes.imported_recipes]\n",
    "GROUP BY nutrition_version\n",
    "ORDER BY nutrition_version DESC"
   ]
  },
  {
   "cell_type": "code",
   "execution_count": 7,
   "metadata": {
    "collapsed": false
   },
   "outputs": [
    {
     "data": {
      "text/html": [
       "\n",
       "    <div class=\"bqtv\" id=\"2_152028796457\"><table><tr><th>nutrition_version</th></tr><tr><td>10</td></tr><tr><td>9</td></tr><tr><td>8</td></tr><tr><td>7</td></tr><tr><td>6</td></tr><tr><td>5</td></tr><tr><td>2</td></tr><tr><td>&nbsp;</td></tr></table></div>\n",
       "    <br />(rows: 8, time: 2.0s,    68MB processed, job: job_hL7i7T4ow9goc7MHAFwNiwLRuCx6)<br />\n",
       "    <script src=\"/static/components/requirejs/require.js\"></script>\n",
       "    <script>\n",
       "\n",
       "      require.config({\n",
       "        paths: {\n",
       "          base: '/static/base',\n",
       "          d3: '//cdnjs.cloudflare.com/ajax/libs/d3/3.4.13/d3',\n",
       "          plotly: 'https://cdn.plot.ly/plotly-1.5.1.min.js?noext',\n",
       "          jquery: '//ajax.googleapis.com/ajax/libs/jquery/2.0.0/jquery.min'\n",
       "        },\n",
       "        map: {\n",
       "          '*': {\n",
       "            datalab: 'nbextensions/gcpdatalab'\n",
       "          }\n",
       "        },\n",
       "        shim: {\n",
       "          plotly: {\n",
       "            deps: ['d3', 'jquery'],\n",
       "            exports: 'plotly'\n",
       "          }\n",
       "        }\n",
       "      });\n",
       "\n",
       "      require(['datalab/charting', 'datalab/element!2_152028796457', 'base/js/events',\n",
       "          'datalab/style!/nbextensions/gcpdatalab/charting.css'],\n",
       "        function(charts, dom, events) {\n",
       "          charts.render('gcharts', dom, events, 'table', [], {\"rows\": [{\"c\": [{\"v\": 10}]}, {\"c\": [{\"v\": 9}]}, {\"c\": [{\"v\": 8}]}, {\"c\": [{\"v\": 7}]}, {\"c\": [{\"v\": 6}]}, {\"c\": [{\"v\": 5}]}, {\"c\": [{\"v\": 2}]}, {\"c\": [{\"v\": null}]}], \"cols\": [{\"type\": \"number\", \"id\": \"nutrition_version\", \"label\": \"nutrition_version\"}]},\n",
       "            {\n",
       "              pageSize: 25,\n",
       "              cssClassNames:  {\n",
       "                tableRow: 'gchart-table-row',\n",
       "                headerRow: 'gchart-table-headerrow',\n",
       "                oddTableRow: 'gchart-table-oddrow',\n",
       "                selectedTableRow: 'gchart-table-selectedrow',\n",
       "                hoverTableRow: 'gchart-table-hoverrow',\n",
       "                tableCell: 'gchart-table-cell',\n",
       "                headerCell: 'gchart-table-headercell',\n",
       "                rowNumberCell: 'gchart-table-rownumcell'\n",
       "              }\n",
       "            },\n",
       "            {source_index: 0, fields: 'nutrition_version', legacy: 'true'},\n",
       "            0,\n",
       "            8);\n",
       "        }\n",
       "      );\n",
       "    </script>\n",
       "  "
      ],
      "text/plain": [
       "QueryResultsTable job_hL7i7T4ow9goc7MHAFwNiwLRuCx6"
      ]
     },
     "execution_count": 7,
     "metadata": {},
     "output_type": "execute_result"
    }
   ],
   "source": [
    "%%bigquery execute -q derived_nutrition_versions"
   ]
  },
  {
   "cell_type": "markdown",
   "metadata": {},
   "source": [
    "Latest nutrition version is 10. We will need to specify this version in our BigQuery's to get only the recipes with such attribute and avoid duplicates."
   ]
  },
  {
   "cell_type": "markdown",
   "metadata": {},
   "source": [
    "#### Extracting calories from `derived_nutrition` column. Note that we use URLs from domain `epicurious.com` as they always have `derived_nutrition`."
   ]
  },
  {
   "cell_type": "code",
   "execution_count": 8,
   "metadata": {
    "collapsed": false
   },
   "outputs": [],
   "source": [
    "%%sql --module epicurious_calories_derived_nutrition\n",
    "SELECT url, derived_nutrition AS calories\n",
    "FROM [firebase-wellio:recipes.imported_recipes]\n",
    "WHERE url LIKE '%epicurious.com%' AND derived_nutrition IS NOT NULL AND INTEGER(RIGHT(derived_nutrition_version, \n",
    "  LENGTH(derived_nutrition_version)-1)) = 10 AND derived_nutrition LIKE '%\"unit\": \"kcal\"%'"
   ]
  },
  {
   "cell_type": "code",
   "execution_count": 9,
   "metadata": {
    "collapsed": false
   },
   "outputs": [
    {
     "data": {
      "text/html": [
       "\n",
       "    <div class=\"bqtv\" id=\"3_152028798139\"><table><tr><th>url</th><th>calories</th></tr><tr><td>http://www.epicurious.com/recipes/food/views/zachs-escarole-salad-358449</td><td>{\"name\": \"Energy\", \"nutrient_id\": \"208\", \"unit\": \"kcal\", \"agg_value\": 467.01097404752534}</td></tr><tr><td>http://www.epicurious.com/recipes/food/views/Snow-Peas-with-Toasted-Almonds-352035</td><td>{\"name\": \"Energy\", \"nutrient_id\": \"208\", \"unit\": \"kcal\", \"agg_value\": 438.2480640813313}</td></tr><tr><td>http://www.epicurious.com/recipes/food/views/five-bean-salad-with-smoked-paprika-vinaigrette-56389686</td><td>{\"name\": \"Energy\", \"nutrient_id\": \"208\", \"unit\": \"kcal\", \"agg_value\": 3291.2594113782793}</td></tr><tr><td>http://www.epicurious.com/recipes/food/views/bbq-chicken-french-bread-pizzas-with-smoked-mozzarella-56390009?mbid=nl_09252015_Daily_CTN%20(1)&amp;CNDID=25983331&amp;spMailingID=8090817&amp;spUserID=NTEwNTA5ODI3ODgS1&amp;spJobID=762415959&amp;spReportId=NzYyNDE1OTU5S0</td><td>{\"name\": \"Energy\", \"nutrient_id\": \"208\", \"unit\": \"kcal\", \"agg_value\": 2399.3621201838923}</td></tr><tr><td>http://www.epicurious.com/recipes/food/views/cream-biscuits-with-bacon-and-roasted-onions-105773</td><td>{\"name\": \"Energy\", \"nutrient_id\": \"208\", \"unit\": \"kcal\", \"agg_value\": 4907.856574117834}</td></tr><tr><td>http://www.epicurious.com/recipes/food/views/tomato-watermelon-salad-with-feta-and-toasted-almonds-235588</td><td>{\"name\": \"Energy\", \"nutrient_id\": \"208\", \"unit\": \"kcal\", \"agg_value\": 3809.3190458775675}</td></tr><tr><td>http://www.epicurious.com/recipes/food/views/honey-spiced-almonds-350665</td><td>{\"name\": \"Energy\", \"nutrient_id\": \"208\", \"unit\": \"kcal\", \"agg_value\": 5468.108855675566}</td></tr><tr><td>http://www.epicurious.com/recipes/food/views/penne-with-wilted-arugula-radicchio-and-smoked-mozzarella-105120</td><td>{\"name\": \"Energy\", \"nutrient_id\": \"208\", \"unit\": \"kcal\", \"agg_value\": 2716.6506490844176}</td></tr><tr><td>http://www.epicurious.com/recipes/food/views/grilled-flank-steak-and-red-onion-with-orange-gremolata-12023</td><td>{\"name\": \"Energy\", \"nutrient_id\": \"208\", \"unit\": \"kcal\", \"agg_value\": 1182.3102474751997}</td></tr><tr><td>https://www.epicurious.com/recipes/member/views/osso-buco-with-toasted-pine-nuts-gremolata-50086933</td><td>{\"name\": \"Energy\", \"nutrient_id\": \"208\", \"unit\": \"kcal\", \"agg_value\": 5642.4768896939295}</td></tr><tr><td>http://www.epicurious.com/recipes/member/views/savory-summer-pasta-1209541</td><td>{\"name\": \"Energy\", \"nutrient_id\": \"208\", \"unit\": \"kcal\", \"agg_value\": 982.114850765033}</td></tr><tr><td>http://www.epicurious.com/recipes/member/views/cannellini-bean-frittata-1246642</td><td>{\"name\": \"Energy\", \"nutrient_id\": \"208\", \"unit\": \"kcal\", \"agg_value\": 1459.4611529411866}</td></tr><tr><td>http://www.epicurious.com/recipes/member/views/pureed-cauliflower-soup-with-pancetta-and-gremolata-51539131</td><td>{\"name\": \"Energy\", \"nutrient_id\": \"208\", \"unit\": \"kcal\", \"agg_value\": 2349.7479737989142}</td></tr><tr><td>http://www.epicurious.com/recipes/food/views/red-bean-soup-with-gremolata-351299</td><td>{\"name\": \"Energy\", \"nutrient_id\": \"208\", \"unit\": \"kcal\", \"agg_value\": 2858.005334847395}</td></tr><tr><td>http://www.epicurious.com/recipes/food/views/chicken-frico-with-gremolata-237906</td><td>{\"name\": \"Energy\", \"nutrient_id\": \"208\", \"unit\": \"kcal\", \"agg_value\": 939.2245420501215}</td></tr><tr><td>https://www.epicurious.com/recipes/food/views/salt-as-you-go-pasta</td><td>{\"name\": \"Energy\", \"nutrient_id\": \"208\", \"unit\": \"kcal\", \"agg_value\": 2079.0538602460056}</td></tr><tr><td>http://www.epicurious.com/recipes/food/views/pasta-with-kalamata-olives-and-roasted-cherry-tomato-sauce-106310</td><td>{\"name\": \"Energy\", \"nutrient_id\": \"208\", \"unit\": \"kcal\", \"agg_value\": 4149.496520086323}</td></tr><tr><td>http://www.epicurious.com/recipes/food/views/roasted-chicken-with-garbanzo-ragout-and-gremolata-230648</td><td>{\"name\": \"Energy\", \"nutrient_id\": \"208\", \"unit\": \"kcal\", \"agg_value\": 8611.097785823868}</td></tr><tr><td>http://www.epicurious.com/recipes/member/views/caramelized-onion-and-chorizo-frittata-50048284</td><td>{\"name\": \"Energy\", \"nutrient_id\": \"208\", \"unit\": \"kcal\", \"agg_value\": 1815.3036528772975}</td></tr><tr><td>http://www.epicurious.com/recipes/food/views/Roasted-Shrimp-with-Chile-Gremolata-51223810</td><td>{\"name\": \"Energy\", \"nutrient_id\": \"208\", \"unit\": \"kcal\", \"agg_value\": 2042.5481896751055}</td></tr><tr><td>http://www.epicurious.com/recipes/member/views/sweet-potato-risotto-1242759</td><td>{\"name\": \"Energy\", \"nutrient_id\": \"208\", \"unit\": \"kcal\", \"agg_value\": 2300.336631004876}</td></tr><tr><td>http://www.epicurious.com/recipes/member/views/veal-piccata-50032841</td><td>{\"name\": \"Energy\", \"nutrient_id\": \"208\", \"unit\": \"kcal\", \"agg_value\": 1724.194646996304}</td></tr><tr><td>http://www.epicurious.com/recipes/food/views/roasted-asparagus-soup-with-spring-herb-gremolata-241881</td><td>{\"name\": \"Energy\", \"nutrient_id\": \"208\", \"unit\": \"kcal\", \"agg_value\": 1408.138748909122}</td></tr><tr><td>http://www.epicurious.com/recipes/member/views/thai-indian-fusion-pasta-paneer-pasta-50182888</td><td>{\"name\": \"Energy\", \"nutrient_id\": \"208\", \"unit\": \"kcal\", \"agg_value\": 1536.80180247569}</td></tr><tr><td>http://www.epicurious.com/recipes/food/views/Sun-dried-Tomato-and-Broccoli-Pasta-51188620</td><td>{\"name\": \"Energy\", \"nutrient_id\": \"208\", \"unit\": \"kcal\", \"agg_value\": 2088.5235235186415}</td></tr></table></div>\n",
       "    <br />(rows: 653809, time: 9.4s,    33GB processed, job: job_oxa2dpzkT4yAS4W8n727qugDv55I)<br />\n",
       "    <script src=\"/static/components/requirejs/require.js\"></script>\n",
       "    <script>\n",
       "\n",
       "      require.config({\n",
       "        paths: {\n",
       "          base: '/static/base',\n",
       "          d3: '//cdnjs.cloudflare.com/ajax/libs/d3/3.4.13/d3',\n",
       "          plotly: 'https://cdn.plot.ly/plotly-1.5.1.min.js?noext',\n",
       "          jquery: '//ajax.googleapis.com/ajax/libs/jquery/2.0.0/jquery.min'\n",
       "        },\n",
       "        map: {\n",
       "          '*': {\n",
       "            datalab: 'nbextensions/gcpdatalab'\n",
       "          }\n",
       "        },\n",
       "        shim: {\n",
       "          plotly: {\n",
       "            deps: ['d3', 'jquery'],\n",
       "            exports: 'plotly'\n",
       "          }\n",
       "        }\n",
       "      });\n",
       "\n",
       "      require(['datalab/charting', 'datalab/element!3_152028798139', 'base/js/events',\n",
       "          'datalab/style!/nbextensions/gcpdatalab/charting.css'],\n",
       "        function(charts, dom, events) {\n",
       "          charts.render('gcharts', dom, events, 'paged_table', [], {\"rows\": [{\"c\": [{\"v\": \"http://www.epicurious.com/recipes/food/views/zachs-escarole-salad-358449\"}, {\"v\": \"{\\\"name\\\": \\\"Energy\\\", \\\"nutrient_id\\\": \\\"208\\\", \\\"unit\\\": \\\"kcal\\\", \\\"agg_value\\\": 467.01097404752534}\"}]}, {\"c\": [{\"v\": \"http://www.epicurious.com/recipes/food/views/Snow-Peas-with-Toasted-Almonds-352035\"}, {\"v\": \"{\\\"name\\\": \\\"Energy\\\", \\\"nutrient_id\\\": \\\"208\\\", \\\"unit\\\": \\\"kcal\\\", \\\"agg_value\\\": 438.2480640813313}\"}]}, {\"c\": [{\"v\": \"http://www.epicurious.com/recipes/food/views/five-bean-salad-with-smoked-paprika-vinaigrette-56389686\"}, {\"v\": \"{\\\"name\\\": \\\"Energy\\\", \\\"nutrient_id\\\": \\\"208\\\", \\\"unit\\\": \\\"kcal\\\", \\\"agg_value\\\": 3291.2594113782793}\"}]}, {\"c\": [{\"v\": \"http://www.epicurious.com/recipes/food/views/bbq-chicken-french-bread-pizzas-with-smoked-mozzarella-56390009?mbid=nl_09252015_Daily_CTN%20(1)&CNDID=25983331&spMailingID=8090817&spUserID=NTEwNTA5ODI3ODgS1&spJobID=762415959&spReportId=NzYyNDE1OTU5S0\"}, {\"v\": \"{\\\"name\\\": \\\"Energy\\\", \\\"nutrient_id\\\": \\\"208\\\", \\\"unit\\\": \\\"kcal\\\", \\\"agg_value\\\": 2399.3621201838923}\"}]}, {\"c\": [{\"v\": \"http://www.epicurious.com/recipes/food/views/cream-biscuits-with-bacon-and-roasted-onions-105773\"}, {\"v\": \"{\\\"name\\\": \\\"Energy\\\", \\\"nutrient_id\\\": \\\"208\\\", \\\"unit\\\": \\\"kcal\\\", \\\"agg_value\\\": 4907.856574117834}\"}]}, {\"c\": [{\"v\": \"http://www.epicurious.com/recipes/food/views/tomato-watermelon-salad-with-feta-and-toasted-almonds-235588\"}, {\"v\": \"{\\\"name\\\": \\\"Energy\\\", \\\"nutrient_id\\\": \\\"208\\\", \\\"unit\\\": \\\"kcal\\\", \\\"agg_value\\\": 3809.3190458775675}\"}]}, {\"c\": [{\"v\": \"http://www.epicurious.com/recipes/food/views/honey-spiced-almonds-350665\"}, {\"v\": \"{\\\"name\\\": \\\"Energy\\\", \\\"nutrient_id\\\": \\\"208\\\", \\\"unit\\\": \\\"kcal\\\", \\\"agg_value\\\": 5468.108855675566}\"}]}, {\"c\": [{\"v\": \"http://www.epicurious.com/recipes/food/views/penne-with-wilted-arugula-radicchio-and-smoked-mozzarella-105120\"}, {\"v\": \"{\\\"name\\\": \\\"Energy\\\", \\\"nutrient_id\\\": \\\"208\\\", \\\"unit\\\": \\\"kcal\\\", \\\"agg_value\\\": 2716.6506490844176}\"}]}, {\"c\": [{\"v\": \"http://www.epicurious.com/recipes/food/views/grilled-flank-steak-and-red-onion-with-orange-gremolata-12023\"}, {\"v\": \"{\\\"name\\\": \\\"Energy\\\", \\\"nutrient_id\\\": \\\"208\\\", \\\"unit\\\": \\\"kcal\\\", \\\"agg_value\\\": 1182.3102474751997}\"}]}, {\"c\": [{\"v\": \"https://www.epicurious.com/recipes/member/views/osso-buco-with-toasted-pine-nuts-gremolata-50086933\"}, {\"v\": \"{\\\"name\\\": \\\"Energy\\\", \\\"nutrient_id\\\": \\\"208\\\", \\\"unit\\\": \\\"kcal\\\", \\\"agg_value\\\": 5642.4768896939295}\"}]}, {\"c\": [{\"v\": \"http://www.epicurious.com/recipes/member/views/savory-summer-pasta-1209541\"}, {\"v\": \"{\\\"name\\\": \\\"Energy\\\", \\\"nutrient_id\\\": \\\"208\\\", \\\"unit\\\": \\\"kcal\\\", \\\"agg_value\\\": 982.114850765033}\"}]}, {\"c\": [{\"v\": \"http://www.epicurious.com/recipes/member/views/cannellini-bean-frittata-1246642\"}, {\"v\": \"{\\\"name\\\": \\\"Energy\\\", \\\"nutrient_id\\\": \\\"208\\\", \\\"unit\\\": \\\"kcal\\\", \\\"agg_value\\\": 1459.4611529411866}\"}]}, {\"c\": [{\"v\": \"http://www.epicurious.com/recipes/member/views/pureed-cauliflower-soup-with-pancetta-and-gremolata-51539131\"}, {\"v\": \"{\\\"name\\\": \\\"Energy\\\", \\\"nutrient_id\\\": \\\"208\\\", \\\"unit\\\": \\\"kcal\\\", \\\"agg_value\\\": 2349.7479737989142}\"}]}, {\"c\": [{\"v\": \"http://www.epicurious.com/recipes/food/views/red-bean-soup-with-gremolata-351299\"}, {\"v\": \"{\\\"name\\\": \\\"Energy\\\", \\\"nutrient_id\\\": \\\"208\\\", \\\"unit\\\": \\\"kcal\\\", \\\"agg_value\\\": 2858.005334847395}\"}]}, {\"c\": [{\"v\": \"http://www.epicurious.com/recipes/food/views/chicken-frico-with-gremolata-237906\"}, {\"v\": \"{\\\"name\\\": \\\"Energy\\\", \\\"nutrient_id\\\": \\\"208\\\", \\\"unit\\\": \\\"kcal\\\", \\\"agg_value\\\": 939.2245420501215}\"}]}, {\"c\": [{\"v\": \"https://www.epicurious.com/recipes/food/views/salt-as-you-go-pasta\"}, {\"v\": \"{\\\"name\\\": \\\"Energy\\\", \\\"nutrient_id\\\": \\\"208\\\", \\\"unit\\\": \\\"kcal\\\", \\\"agg_value\\\": 2079.0538602460056}\"}]}, {\"c\": [{\"v\": \"http://www.epicurious.com/recipes/food/views/pasta-with-kalamata-olives-and-roasted-cherry-tomato-sauce-106310\"}, {\"v\": \"{\\\"name\\\": \\\"Energy\\\", \\\"nutrient_id\\\": \\\"208\\\", \\\"unit\\\": \\\"kcal\\\", \\\"agg_value\\\": 4149.496520086323}\"}]}, {\"c\": [{\"v\": \"http://www.epicurious.com/recipes/food/views/roasted-chicken-with-garbanzo-ragout-and-gremolata-230648\"}, {\"v\": \"{\\\"name\\\": \\\"Energy\\\", \\\"nutrient_id\\\": \\\"208\\\", \\\"unit\\\": \\\"kcal\\\", \\\"agg_value\\\": 8611.097785823868}\"}]}, {\"c\": [{\"v\": \"http://www.epicurious.com/recipes/member/views/caramelized-onion-and-chorizo-frittata-50048284\"}, {\"v\": \"{\\\"name\\\": \\\"Energy\\\", \\\"nutrient_id\\\": \\\"208\\\", \\\"unit\\\": \\\"kcal\\\", \\\"agg_value\\\": 1815.3036528772975}\"}]}, {\"c\": [{\"v\": \"http://www.epicurious.com/recipes/food/views/Roasted-Shrimp-with-Chile-Gremolata-51223810\"}, {\"v\": \"{\\\"name\\\": \\\"Energy\\\", \\\"nutrient_id\\\": \\\"208\\\", \\\"unit\\\": \\\"kcal\\\", \\\"agg_value\\\": 2042.5481896751055}\"}]}, {\"c\": [{\"v\": \"http://www.epicurious.com/recipes/member/views/sweet-potato-risotto-1242759\"}, {\"v\": \"{\\\"name\\\": \\\"Energy\\\", \\\"nutrient_id\\\": \\\"208\\\", \\\"unit\\\": \\\"kcal\\\", \\\"agg_value\\\": 2300.336631004876}\"}]}, {\"c\": [{\"v\": \"http://www.epicurious.com/recipes/member/views/veal-piccata-50032841\"}, {\"v\": \"{\\\"name\\\": \\\"Energy\\\", \\\"nutrient_id\\\": \\\"208\\\", \\\"unit\\\": \\\"kcal\\\", \\\"agg_value\\\": 1724.194646996304}\"}]}, {\"c\": [{\"v\": \"http://www.epicurious.com/recipes/food/views/roasted-asparagus-soup-with-spring-herb-gremolata-241881\"}, {\"v\": \"{\\\"name\\\": \\\"Energy\\\", \\\"nutrient_id\\\": \\\"208\\\", \\\"unit\\\": \\\"kcal\\\", \\\"agg_value\\\": 1408.138748909122}\"}]}, {\"c\": [{\"v\": \"http://www.epicurious.com/recipes/member/views/thai-indian-fusion-pasta-paneer-pasta-50182888\"}, {\"v\": \"{\\\"name\\\": \\\"Energy\\\", \\\"nutrient_id\\\": \\\"208\\\", \\\"unit\\\": \\\"kcal\\\", \\\"agg_value\\\": 1536.80180247569}\"}]}, {\"c\": [{\"v\": \"http://www.epicurious.com/recipes/food/views/Sun-dried-Tomato-and-Broccoli-Pasta-51188620\"}, {\"v\": \"{\\\"name\\\": \\\"Energy\\\", \\\"nutrient_id\\\": \\\"208\\\", \\\"unit\\\": \\\"kcal\\\", \\\"agg_value\\\": 2088.5235235186415}\"}]}], \"cols\": [{\"type\": \"string\", \"id\": \"url\", \"label\": \"url\"}, {\"type\": \"string\", \"id\": \"calories\", \"label\": \"calories\"}]},\n",
       "            {\n",
       "              pageSize: 25,\n",
       "              cssClassNames:  {\n",
       "                tableRow: 'gchart-table-row',\n",
       "                headerRow: 'gchart-table-headerrow',\n",
       "                oddTableRow: 'gchart-table-oddrow',\n",
       "                selectedTableRow: 'gchart-table-selectedrow',\n",
       "                hoverTableRow: 'gchart-table-hoverrow',\n",
       "                tableCell: 'gchart-table-cell',\n",
       "                headerCell: 'gchart-table-headercell',\n",
       "                rowNumberCell: 'gchart-table-rownumcell'\n",
       "              }\n",
       "            },\n",
       "            {source_index: 1, fields: 'url,calories', legacy: 'true'},\n",
       "            0,\n",
       "            653809);\n",
       "        }\n",
       "      );\n",
       "    </script>\n",
       "  "
      ],
      "text/plain": [
       "QueryResultsTable job_oxa2dpzkT4yAS4W8n727qugDv55I"
      ]
     },
     "execution_count": 9,
     "metadata": {},
     "output_type": "execute_result"
    }
   ],
   "source": [
    "%%bigquery execute -q epicurious_calories_derived_nutrition"
   ]
  },
  {
   "cell_type": "markdown",
   "metadata": {},
   "source": [
    "Export data to pandas dataframe."
   ]
  },
  {
   "cell_type": "code",
   "execution_count": 10,
   "metadata": {
    "collapsed": true
   },
   "outputs": [],
   "source": [
    "epicurious_derived_calories_df = bq.Query(epicurious_calories_derived_nutrition).to_dataframe()"
   ]
  },
  {
   "cell_type": "markdown",
   "metadata": {},
   "source": [
    "How many rows of data?"
   ]
  },
  {
   "cell_type": "code",
   "execution_count": 11,
   "metadata": {
    "collapsed": false
   },
   "outputs": [
    {
     "data": {
      "text/plain": [
       "(653809, 2)"
      ]
     },
     "execution_count": 11,
     "metadata": {},
     "output_type": "execute_result"
    }
   ],
   "source": [
    "epicurious_derived_calories_df.shape"
   ]
  },
  {
   "cell_type": "code",
   "execution_count": 12,
   "metadata": {
    "collapsed": false
   },
   "outputs": [
    {
     "data": {
      "text/html": [
       "<div>\n",
       "<style scoped>\n",
       "    .dataframe tbody tr th:only-of-type {\n",
       "        vertical-align: middle;\n",
       "    }\n",
       "\n",
       "    .dataframe tbody tr th {\n",
       "        vertical-align: top;\n",
       "    }\n",
       "\n",
       "    .dataframe thead th {\n",
       "        text-align: right;\n",
       "    }\n",
       "</style>\n",
       "<table border=\"1\" class=\"dataframe\">\n",
       "  <thead>\n",
       "    <tr style=\"text-align: right;\">\n",
       "      <th></th>\n",
       "      <th>url</th>\n",
       "      <th>calories</th>\n",
       "    </tr>\n",
       "  </thead>\n",
       "  <tbody>\n",
       "    <tr>\n",
       "      <th>0</th>\n",
       "      <td>http://www.epicurious.com/recipes/food/views/zachs-escarole-salad-358449</td>\n",
       "      <td>{\"name\": \"Energy\", \"nutrient_id\": \"208\", \"unit\": \"kcal\", \"agg_value\": 467.01097404752534}</td>\n",
       "    </tr>\n",
       "    <tr>\n",
       "      <th>1</th>\n",
       "      <td>http://www.epicurious.com/recipes/food/views/Snow-Peas-with-Toasted-Almonds-352035</td>\n",
       "      <td>{\"name\": \"Energy\", \"nutrient_id\": \"208\", \"unit\": \"kcal\", \"agg_value\": 438.2480640813313}</td>\n",
       "    </tr>\n",
       "    <tr>\n",
       "      <th>2</th>\n",
       "      <td>http://www.epicurious.com/recipes/food/views/five-bean-salad-with-smoked-paprika-vinaigrette-56389686</td>\n",
       "      <td>{\"name\": \"Energy\", \"nutrient_id\": \"208\", \"unit\": \"kcal\", \"agg_value\": 3291.2594113782793}</td>\n",
       "    </tr>\n",
       "    <tr>\n",
       "      <th>3</th>\n",
       "      <td>http://www.epicurious.com/recipes/food/views/bbq-chicken-french-bread-pizzas-with-smoked-mozzarella-56390009?mbid=nl_09252015_Daily_CTN%20(1)&amp;CNDID=25983331&amp;spMailingID=8090817&amp;spUserID=NTEwNTA5ODI3ODgS1&amp;spJobID=762415959&amp;spReportId=NzYyNDE1OTU5S0</td>\n",
       "      <td>{\"name\": \"Energy\", \"nutrient_id\": \"208\", \"unit\": \"kcal\", \"agg_value\": 2399.3621201838923}</td>\n",
       "    </tr>\n",
       "    <tr>\n",
       "      <th>4</th>\n",
       "      <td>http://www.epicurious.com/recipes/food/views/cream-biscuits-with-bacon-and-roasted-onions-105773</td>\n",
       "      <td>{\"name\": \"Energy\", \"nutrient_id\": \"208\", \"unit\": \"kcal\", \"agg_value\": 4907.856574117834}</td>\n",
       "    </tr>\n",
       "  </tbody>\n",
       "</table>\n",
       "</div>"
      ],
      "text/plain": [
       "                                                                                                                                                                                                                                                       url  \\\n",
       "0  http://www.epicurious.com/recipes/food/views/zachs-escarole-salad-358449                                                                                                                                                                                  \n",
       "1  http://www.epicurious.com/recipes/food/views/Snow-Peas-with-Toasted-Almonds-352035                                                                                                                                                                        \n",
       "2  http://www.epicurious.com/recipes/food/views/five-bean-salad-with-smoked-paprika-vinaigrette-56389686                                                                                                                                                     \n",
       "3  http://www.epicurious.com/recipes/food/views/bbq-chicken-french-bread-pizzas-with-smoked-mozzarella-56390009?mbid=nl_09252015_Daily_CTN%20(1)&CNDID=25983331&spMailingID=8090817&spUserID=NTEwNTA5ODI3ODgS1&spJobID=762415959&spReportId=NzYyNDE1OTU5S0   \n",
       "4  http://www.epicurious.com/recipes/food/views/cream-biscuits-with-bacon-and-roasted-onions-105773                                                                                                                                                          \n",
       "\n",
       "                                                                                    calories  \n",
       "0  {\"name\": \"Energy\", \"nutrient_id\": \"208\", \"unit\": \"kcal\", \"agg_value\": 467.01097404752534}  \n",
       "1  {\"name\": \"Energy\", \"nutrient_id\": \"208\", \"unit\": \"kcal\", \"agg_value\": 438.2480640813313}   \n",
       "2  {\"name\": \"Energy\", \"nutrient_id\": \"208\", \"unit\": \"kcal\", \"agg_value\": 3291.2594113782793}  \n",
       "3  {\"name\": \"Energy\", \"nutrient_id\": \"208\", \"unit\": \"kcal\", \"agg_value\": 2399.3621201838923}  \n",
       "4  {\"name\": \"Energy\", \"nutrient_id\": \"208\", \"unit\": \"kcal\", \"agg_value\": 4907.856574117834}   "
      ]
     },
     "execution_count": 12,
     "metadata": {},
     "output_type": "execute_result"
    }
   ],
   "source": [
    "epicurious_derived_calories_df.head()"
   ]
  },
  {
   "cell_type": "markdown",
   "metadata": {},
   "source": [
    "Extracting numeric value of calories using regex."
   ]
  },
  {
   "cell_type": "code",
   "execution_count": 13,
   "metadata": {
    "collapsed": true
   },
   "outputs": [],
   "source": [
    "epicurious_derived_calories_df['calories_amount'] = epicurious_derived_calories_df['calories'].str.extract('\"agg_value\": ([0-9]+.[0-9]+)', expand=True)"
   ]
  },
  {
   "cell_type": "code",
   "execution_count": 14,
   "metadata": {
    "collapsed": false
   },
   "outputs": [
    {
     "data": {
      "text/html": [
       "<div>\n",
       "<style scoped>\n",
       "    .dataframe tbody tr th:only-of-type {\n",
       "        vertical-align: middle;\n",
       "    }\n",
       "\n",
       "    .dataframe tbody tr th {\n",
       "        vertical-align: top;\n",
       "    }\n",
       "\n",
       "    .dataframe thead th {\n",
       "        text-align: right;\n",
       "    }\n",
       "</style>\n",
       "<table border=\"1\" class=\"dataframe\">\n",
       "  <thead>\n",
       "    <tr style=\"text-align: right;\">\n",
       "      <th></th>\n",
       "      <th>url</th>\n",
       "      <th>calories</th>\n",
       "      <th>calories_amount</th>\n",
       "    </tr>\n",
       "  </thead>\n",
       "  <tbody>\n",
       "    <tr>\n",
       "      <th>0</th>\n",
       "      <td>http://www.epicurious.com/recipes/food/views/zachs-escarole-salad-358449</td>\n",
       "      <td>{\"name\": \"Energy\", \"nutrient_id\": \"208\", \"unit\": \"kcal\", \"agg_value\": 467.01097404752534}</td>\n",
       "      <td>467.01097404752534</td>\n",
       "    </tr>\n",
       "    <tr>\n",
       "      <th>1</th>\n",
       "      <td>http://www.epicurious.com/recipes/food/views/Snow-Peas-with-Toasted-Almonds-352035</td>\n",
       "      <td>{\"name\": \"Energy\", \"nutrient_id\": \"208\", \"unit\": \"kcal\", \"agg_value\": 438.2480640813313}</td>\n",
       "      <td>438.2480640813313</td>\n",
       "    </tr>\n",
       "    <tr>\n",
       "      <th>2</th>\n",
       "      <td>http://www.epicurious.com/recipes/food/views/five-bean-salad-with-smoked-paprika-vinaigrette-56389686</td>\n",
       "      <td>{\"name\": \"Energy\", \"nutrient_id\": \"208\", \"unit\": \"kcal\", \"agg_value\": 3291.2594113782793}</td>\n",
       "      <td>3291.2594113782793</td>\n",
       "    </tr>\n",
       "    <tr>\n",
       "      <th>3</th>\n",
       "      <td>http://www.epicurious.com/recipes/food/views/bbq-chicken-french-bread-pizzas-with-smoked-mozzarella-56390009?mbid=nl_09252015_Daily_CTN%20(1)&amp;CNDID=25983331&amp;spMailingID=8090817&amp;spUserID=NTEwNTA5ODI3ODgS1&amp;spJobID=762415959&amp;spReportId=NzYyNDE1OTU5S0</td>\n",
       "      <td>{\"name\": \"Energy\", \"nutrient_id\": \"208\", \"unit\": \"kcal\", \"agg_value\": 2399.3621201838923}</td>\n",
       "      <td>2399.3621201838923</td>\n",
       "    </tr>\n",
       "    <tr>\n",
       "      <th>4</th>\n",
       "      <td>http://www.epicurious.com/recipes/food/views/cream-biscuits-with-bacon-and-roasted-onions-105773</td>\n",
       "      <td>{\"name\": \"Energy\", \"nutrient_id\": \"208\", \"unit\": \"kcal\", \"agg_value\": 4907.856574117834}</td>\n",
       "      <td>4907.856574117834</td>\n",
       "    </tr>\n",
       "  </tbody>\n",
       "</table>\n",
       "</div>"
      ],
      "text/plain": [
       "                                                                                                                                                                                                                                                       url  \\\n",
       "0  http://www.epicurious.com/recipes/food/views/zachs-escarole-salad-358449                                                                                                                                                                                  \n",
       "1  http://www.epicurious.com/recipes/food/views/Snow-Peas-with-Toasted-Almonds-352035                                                                                                                                                                        \n",
       "2  http://www.epicurious.com/recipes/food/views/five-bean-salad-with-smoked-paprika-vinaigrette-56389686                                                                                                                                                     \n",
       "3  http://www.epicurious.com/recipes/food/views/bbq-chicken-french-bread-pizzas-with-smoked-mozzarella-56390009?mbid=nl_09252015_Daily_CTN%20(1)&CNDID=25983331&spMailingID=8090817&spUserID=NTEwNTA5ODI3ODgS1&spJobID=762415959&spReportId=NzYyNDE1OTU5S0   \n",
       "4  http://www.epicurious.com/recipes/food/views/cream-biscuits-with-bacon-and-roasted-onions-105773                                                                                                                                                          \n",
       "\n",
       "                                                                                    calories  \\\n",
       "0  {\"name\": \"Energy\", \"nutrient_id\": \"208\", \"unit\": \"kcal\", \"agg_value\": 467.01097404752534}   \n",
       "1  {\"name\": \"Energy\", \"nutrient_id\": \"208\", \"unit\": \"kcal\", \"agg_value\": 438.2480640813313}    \n",
       "2  {\"name\": \"Energy\", \"nutrient_id\": \"208\", \"unit\": \"kcal\", \"agg_value\": 3291.2594113782793}   \n",
       "3  {\"name\": \"Energy\", \"nutrient_id\": \"208\", \"unit\": \"kcal\", \"agg_value\": 2399.3621201838923}   \n",
       "4  {\"name\": \"Energy\", \"nutrient_id\": \"208\", \"unit\": \"kcal\", \"agg_value\": 4907.856574117834}    \n",
       "\n",
       "      calories_amount  \n",
       "0  467.01097404752534  \n",
       "1  438.2480640813313   \n",
       "2  3291.2594113782793  \n",
       "3  2399.3621201838923  \n",
       "4  4907.856574117834   "
      ]
     },
     "execution_count": 14,
     "metadata": {},
     "output_type": "execute_result"
    }
   ],
   "source": [
    "epicurious_derived_calories_df.head()"
   ]
  },
  {
   "cell_type": "markdown",
   "metadata": {},
   "source": [
    "Converting new column into float data type."
   ]
  },
  {
   "cell_type": "code",
   "execution_count": 15,
   "metadata": {
    "collapsed": true
   },
   "outputs": [],
   "source": [
    "epicurious_derived_calories_df['calories_amount'] = epicurious_derived_calories_df['calories_amount'].apply(pd.to_numeric)"
   ]
  },
  {
   "cell_type": "markdown",
   "metadata": {},
   "source": [
    "Exploring basic statistics of the calories amount."
   ]
  },
  {
   "cell_type": "code",
   "execution_count": 16,
   "metadata": {
    "collapsed": false
   },
   "outputs": [
    {
     "data": {
      "text/html": [
       "<div>\n",
       "<style scoped>\n",
       "    .dataframe tbody tr th:only-of-type {\n",
       "        vertical-align: middle;\n",
       "    }\n",
       "\n",
       "    .dataframe tbody tr th {\n",
       "        vertical-align: top;\n",
       "    }\n",
       "\n",
       "    .dataframe thead th {\n",
       "        text-align: right;\n",
       "    }\n",
       "</style>\n",
       "<table border=\"1\" class=\"dataframe\">\n",
       "  <thead>\n",
       "    <tr style=\"text-align: right;\">\n",
       "      <th></th>\n",
       "      <th>calories_amount</th>\n",
       "    </tr>\n",
       "  </thead>\n",
       "  <tbody>\n",
       "    <tr>\n",
       "      <th>count</th>\n",
       "      <td>653809.00</td>\n",
       "    </tr>\n",
       "    <tr>\n",
       "      <th>mean</th>\n",
       "      <td>601067.51</td>\n",
       "    </tr>\n",
       "    <tr>\n",
       "      <th>std</th>\n",
       "      <td>42284840.07</td>\n",
       "    </tr>\n",
       "    <tr>\n",
       "      <th>min</th>\n",
       "      <td>0.00</td>\n",
       "    </tr>\n",
       "    <tr>\n",
       "      <th>25%</th>\n",
       "      <td>1448.94</td>\n",
       "    </tr>\n",
       "    <tr>\n",
       "      <th>50%</th>\n",
       "      <td>2507.30</td>\n",
       "    </tr>\n",
       "    <tr>\n",
       "      <th>75%</th>\n",
       "      <td>4000.43</td>\n",
       "    </tr>\n",
       "    <tr>\n",
       "      <th>max</th>\n",
       "      <td>3141855091.61</td>\n",
       "    </tr>\n",
       "  </tbody>\n",
       "</table>\n",
       "</div>"
      ],
      "text/plain": [
       "       calories_amount\n",
       "count 653809.00       \n",
       "mean  601067.51       \n",
       "std   42284840.07     \n",
       "min   0.00            \n",
       "25%   1448.94         \n",
       "50%   2507.30         \n",
       "75%   4000.43         \n",
       "max   3141855091.61   "
      ]
     },
     "execution_count": 16,
     "metadata": {},
     "output_type": "execute_result"
    }
   ],
   "source": [
    "epicurious_derived_calories_df.describe()"
   ]
  },
  {
   "cell_type": "markdown",
   "metadata": {},
   "source": [
    "How many recipes have 0 calories?"
   ]
  },
  {
   "cell_type": "code",
   "execution_count": 17,
   "metadata": {
    "collapsed": false
   },
   "outputs": [],
   "source": [
    "epicurious_0_derived_calories_df = epicurious_derived_calories_df[epicurious_derived_calories_df['calories_amount'] == 0]"
   ]
  },
  {
   "cell_type": "code",
   "execution_count": 18,
   "metadata": {
    "collapsed": false
   },
   "outputs": [
    {
     "data": {
      "text/plain": [
       "90    1\n",
       "Name: calories_amount, dtype: int64"
      ]
     },
     "execution_count": 18,
     "metadata": {},
     "output_type": "execute_result"
    }
   ],
   "source": [
    "pd.value_counts(epicurious_0_derived_calories_df['calories_amount'].value_counts())"
   ]
  },
  {
   "cell_type": "code",
   "execution_count": 19,
   "metadata": {
    "collapsed": false
   },
   "outputs": [
    {
     "data": {
      "text/plain": [
       "(90, 3)"
      ]
     },
     "execution_count": 19,
     "metadata": {},
     "output_type": "execute_result"
    }
   ],
   "source": [
    "epicurious_0_derived_calories_df.shape"
   ]
  },
  {
   "cell_type": "markdown",
   "metadata": {},
   "source": [
    "How many recipes have more than 5,000 calories?"
   ]
  },
  {
   "cell_type": "code",
   "execution_count": 20,
   "metadata": {
    "collapsed": true
   },
   "outputs": [],
   "source": [
    "epicurious_5000_derived_calories_df = epicurious_derived_calories_df[epicurious_derived_calories_df['calories_amount'] > 5000]"
   ]
  },
  {
   "cell_type": "code",
   "execution_count": 21,
   "metadata": {
    "collapsed": false
   },
   "outputs": [
    {
     "data": {
      "text/plain": [
       "(105832, 3)"
      ]
     },
     "execution_count": 21,
     "metadata": {},
     "output_type": "execute_result"
    }
   ],
   "source": [
    "epicurious_5000_derived_calories_df.shape"
   ]
  },
  {
   "cell_type": "markdown",
   "metadata": {},
   "source": [
    "If we don't filter out extreme calories values, we don't get a very useful histogram."
   ]
  },
  {
   "cell_type": "code",
   "execution_count": 22,
   "metadata": {
    "collapsed": false
   },
   "outputs": [
    {
     "data": {
      "image/png": "[encoded data removed]",
      "text/plain": [
       "<matplotlib.figure.Figure at 0x7f7fcd95f790>"
      ]
     },
     "metadata": {},
     "output_type": "display_data"
    }
   ],
   "source": [
    "sns.distplot(epicurious_derived_calories_df['calories_amount']);"
   ]
  },
  {
   "cell_type": "markdown",
   "metadata": {},
   "source": [
    "Let's create a dataframe with calories amount greater than 0 and less than 5,000."
   ]
  },
  {
   "cell_type": "code",
   "execution_count": 23,
   "metadata": {
    "collapsed": true
   },
   "outputs": [],
   "source": [
    "epicurious_derived_calories_0_5000_df = epicurious_derived_calories_df[(epicurious_derived_calories_df['calories_amount'] > 0) & (epicurious_derived_calories_df['calories_amount'] < 5000)]"
   ]
  },
  {
   "cell_type": "markdown",
   "metadata": {},
   "source": [
    "Now, let's visualize a distribution of the calories amount using the new created dataframe."
   ]
  },
  {
   "cell_type": "code",
   "execution_count": 24,
   "metadata": {
    "collapsed": false
   },
   "outputs": [
    {
     "data": {
      "image/png": "[encoded data removed]",
      "text/plain": [
       "<matplotlib.figure.Figure at 0x7f7fa50fee10>"
      ]
     },
     "metadata": {},
     "output_type": "display_data"
    }
   ],
   "source": [
    "sns.distplot(epicurious_derived_calories_0_5000_df['calories_amount']);"
   ]
  },
  {
   "cell_type": "markdown",
   "metadata": {},
   "source": [
    "#### Extracting calories from `nutrition` column. Note that we use URLs from domain `epicurious.com` as they always have `nutrition`."
   ]
  },
  {
   "cell_type": "markdown",
   "metadata": {},
   "source": [
    "One row of data looks like:\n",
    "\n",
    "```\n",
    "Calories 830.5\t \n",
    "Calories from Fat 235\t \n",
    "Total Fat 26.2 g\t \n",
    "Saturated Fat 8.3 g\t \n",
    "Cholesterol 75.1 mg\t \n",
    "Sodium 1251.3 mg\t \n",
    "Total Carbohydrate 103.2 g\t \n",
    "Dietary Fiber 5.4 g\t \n",
    "Sugars 5.3 g\t \n",
    "Protein 43 g\n",
    "```"
   ]
  },
  {
   "cell_type": "code",
   "execution_count": 25,
   "metadata": {
    "collapsed": true
   },
   "outputs": [],
   "source": [
    "%%sql --module epicurious_calories_nutrition\n",
    "SELECT url, nutrition AS calories, FLOAT(RIGHT(nutrition, LENGTH(nutrition) - LENGTH('Calories'))) AS calories_amount\n",
    "FROM FLATTEN([firebase-wellio:recipes.imported_recipes], nutrition)\n",
    "WHERE url LIKE '%epicurious.com%' AND derived_nutrition IS NOT NULL AND INTEGER(RIGHT(derived_nutrition_version, \n",
    "  LENGTH(derived_nutrition_version)-1)) = 10 AND nutrition LIKE 'Calories%'\n",
    "  AND nutrition NOT LIKE 'Calories from%'"
   ]
  },
  {
   "cell_type": "code",
   "execution_count": 26,
   "metadata": {
    "collapsed": false
   },
   "outputs": [
    {
     "data": {
      "text/html": [
       "\n",
       "    <div class=\"bqtv\" id=\"4_152028841526\"><table><tr><th>url</th><th>calories</th><th>calories_amount</th></tr><tr><td>http://www.epicurious.com/recipes/food/views/pissaladiere-101620</td><td>Calories 377</td><td>377.0</td></tr><tr><td>http://www.epicurious.com/recipes/food/views/blueberry-almond-tart-106987</td><td>Calories 610</td><td>610.0</td></tr><tr><td>http://www.epicurious.com/recipes/food/views/five-bean-salad-with-smoked-paprika-vinaigrette-56389686</td><td>Calories 515</td><td>515.0</td></tr><tr><td>http://www.epicurious.com/recipes/food/views/cream-biscuits-with-bacon-and-roasted-onions-105773</td><td>Calories 225</td><td>225.0</td></tr><tr><td>http://www.epicurious.com/recipes/food/views/blueberry-lemon-sauce-239050</td><td>Calories 110</td><td>110.0</td></tr><tr><td>http://www.epicurious.com/recipes/food/views/tomato-watermelon-salad-with-feta-and-toasted-almonds-235588</td><td>Calories 390</td><td>390.0</td></tr><tr><td>http://www.epicurious.com/recipes/food/views/honey-spiced-almonds-350665</td><td>Calories 592</td><td>592.0</td></tr><tr><td>http://www.epicurious.com/recipes/food/views/penne-with-wilted-arugula-radicchio-and-smoked-mozzarella-105120</td><td>Calories 458</td><td>458.0</td></tr><tr><td>http://www.epicurious.com/recipes/food/views/grilled-flank-steak-and-red-onion-with-orange-gremolata-12023</td><td>Calories 541</td><td>541.0</td></tr><tr><td>http://www.epicurious.com/recipes/member/views/savory-summer-pasta-1209541</td><td>Calories 294</td><td>294.0</td></tr><tr><td>http://www.epicurious.com/recipes/member/views/cannellini-bean-frittata-1246642</td><td>Calories 171</td><td>171.0</td></tr><tr><td>http://www.epicurious.com/recipes/member/views/pureed-cauliflower-soup-with-pancetta-and-gremolata-51539131</td><td>Calories 273</td><td>273.0</td></tr><tr><td>http://www.epicurious.com/recipes/food/views/red-bean-soup-with-gremolata-351299</td><td>Calories 277</td><td>277.0</td></tr><tr><td>http://www.epicurious.com/recipes/food/views/chicken-frico-with-gremolata-237906</td><td>Calories 568</td><td>568.0</td></tr><tr><td>http://www.epicurious.com/recipes/food/views/pasta-with-kalamata-olives-and-roasted-cherry-tomato-sauce-106310</td><td>Calories 556</td><td>556.0</td></tr><tr><td>http://www.epicurious.com/recipes/food/views/roasted-chicken-with-garbanzo-ragout-and-gremolata-230648</td><td>Calories 889</td><td>889.0</td></tr><tr><td>http://www.epicurious.com/recipes/member/views/caramelized-onion-and-chorizo-frittata-50048284</td><td>Calories 296</td><td>296.0</td></tr><tr><td>http://www.epicurious.com/recipes/member/views/sweet-potato-risotto-1242759</td><td>Calories 418</td><td>418.0</td></tr><tr><td>http://www.epicurious.com/recipes/member/views/veal-piccata-50032841</td><td>Calories 224</td><td>224.0</td></tr><tr><td>http://www.epicurious.com/recipes/food/views/roasted-asparagus-soup-with-spring-herb-gremolata-241881</td><td>Calories 259</td><td>259.0</td></tr><tr><td>http://www.epicurious.com/recipes/member/views/thai-indian-fusion-pasta-paneer-pasta-50182888</td><td>Calories 423</td><td>423.0</td></tr><tr><td>http://www.epicurious.com/recipes/member/views/sweet-beet-risotto-1200430</td><td>Calories 311</td><td>311.0</td></tr><tr><td>http://www.epicurious.com/recipes/food/views/trail-mix-porridge-51221010</td><td>Calories 242</td><td>242.0</td></tr><tr><td>http://www.epicurious.com/recipes/member/views/grilled-spicy-eggplant-pasta-1204785</td><td>Calories 682</td><td>682.0</td></tr><tr><td>http://www.epicurious.com/recipes/food/views/bell-pepper-and-cheddar-frittata-107913</td><td>Calories 413</td><td>413.0</td></tr></table></div>\n",
       "    <br />(rows: 319863, time: 61.5s,    34GB processed, job: job_Vhky0JHdhrFuN4-lHzrUtz9oleoi)<br />\n",
       "    <script src=\"/static/components/requirejs/require.js\"></script>\n",
       "    <script>\n",
       "\n",
       "      require.config({\n",
       "        paths: {\n",
       "          base: '/static/base',\n",
       "          d3: '//cdnjs.cloudflare.com/ajax/libs/d3/3.4.13/d3',\n",
       "          plotly: 'https://cdn.plot.ly/plotly-1.5.1.min.js?noext',\n",
       "          jquery: '//ajax.googleapis.com/ajax/libs/jquery/2.0.0/jquery.min'\n",
       "        },\n",
       "        map: {\n",
       "          '*': {\n",
       "            datalab: 'nbextensions/gcpdatalab'\n",
       "          }\n",
       "        },\n",
       "        shim: {\n",
       "          plotly: {\n",
       "            deps: ['d3', 'jquery'],\n",
       "            exports: 'plotly'\n",
       "          }\n",
       "        }\n",
       "      });\n",
       "\n",
       "      require(['datalab/charting', 'datalab/element!4_152028841526', 'base/js/events',\n",
       "          'datalab/style!/nbextensions/gcpdatalab/charting.css'],\n",
       "        function(charts, dom, events) {\n",
       "          charts.render('gcharts', dom, events, 'paged_table', [], {\"rows\": [{\"c\": [{\"v\": \"http://www.epicurious.com/recipes/food/views/pissaladiere-101620\"}, {\"v\": \"Calories 377\"}, {\"v\": 377.0}]}, {\"c\": [{\"v\": \"http://www.epicurious.com/recipes/food/views/blueberry-almond-tart-106987\"}, {\"v\": \"Calories 610\"}, {\"v\": 610.0}]}, {\"c\": [{\"v\": \"http://www.epicurious.com/recipes/food/views/five-bean-salad-with-smoked-paprika-vinaigrette-56389686\"}, {\"v\": \"Calories 515\"}, {\"v\": 515.0}]}, {\"c\": [{\"v\": \"http://www.epicurious.com/recipes/food/views/cream-biscuits-with-bacon-and-roasted-onions-105773\"}, {\"v\": \"Calories 225\"}, {\"v\": 225.0}]}, {\"c\": [{\"v\": \"http://www.epicurious.com/recipes/food/views/blueberry-lemon-sauce-239050\"}, {\"v\": \"Calories 110\"}, {\"v\": 110.0}]}, {\"c\": [{\"v\": \"http://www.epicurious.com/recipes/food/views/tomato-watermelon-salad-with-feta-and-toasted-almonds-235588\"}, {\"v\": \"Calories 390\"}, {\"v\": 390.0}]}, {\"c\": [{\"v\": \"http://www.epicurious.com/recipes/food/views/honey-spiced-almonds-350665\"}, {\"v\": \"Calories 592\"}, {\"v\": 592.0}]}, {\"c\": [{\"v\": \"http://www.epicurious.com/recipes/food/views/penne-with-wilted-arugula-radicchio-and-smoked-mozzarella-105120\"}, {\"v\": \"Calories 458\"}, {\"v\": 458.0}]}, {\"c\": [{\"v\": \"http://www.epicurious.com/recipes/food/views/grilled-flank-steak-and-red-onion-with-orange-gremolata-12023\"}, {\"v\": \"Calories 541\"}, {\"v\": 541.0}]}, {\"c\": [{\"v\": \"http://www.epicurious.com/recipes/member/views/savory-summer-pasta-1209541\"}, {\"v\": \"Calories 294\"}, {\"v\": 294.0}]}, {\"c\": [{\"v\": \"http://www.epicurious.com/recipes/member/views/cannellini-bean-frittata-1246642\"}, {\"v\": \"Calories 171\"}, {\"v\": 171.0}]}, {\"c\": [{\"v\": \"http://www.epicurious.com/recipes/member/views/pureed-cauliflower-soup-with-pancetta-and-gremolata-51539131\"}, {\"v\": \"Calories 273\"}, {\"v\": 273.0}]}, {\"c\": [{\"v\": \"http://www.epicurious.com/recipes/food/views/red-bean-soup-with-gremolata-351299\"}, {\"v\": \"Calories 277\"}, {\"v\": 277.0}]}, {\"c\": [{\"v\": \"http://www.epicurious.com/recipes/food/views/chicken-frico-with-gremolata-237906\"}, {\"v\": \"Calories 568\"}, {\"v\": 568.0}]}, {\"c\": [{\"v\": \"http://www.epicurious.com/recipes/food/views/pasta-with-kalamata-olives-and-roasted-cherry-tomato-sauce-106310\"}, {\"v\": \"Calories 556\"}, {\"v\": 556.0}]}, {\"c\": [{\"v\": \"http://www.epicurious.com/recipes/food/views/roasted-chicken-with-garbanzo-ragout-and-gremolata-230648\"}, {\"v\": \"Calories 889\"}, {\"v\": 889.0}]}, {\"c\": [{\"v\": \"http://www.epicurious.com/recipes/member/views/caramelized-onion-and-chorizo-frittata-50048284\"}, {\"v\": \"Calories 296\"}, {\"v\": 296.0}]}, {\"c\": [{\"v\": \"http://www.epicurious.com/recipes/member/views/sweet-potato-risotto-1242759\"}, {\"v\": \"Calories 418\"}, {\"v\": 418.0}]}, {\"c\": [{\"v\": \"http://www.epicurious.com/recipes/member/views/veal-piccata-50032841\"}, {\"v\": \"Calories 224\"}, {\"v\": 224.0}]}, {\"c\": [{\"v\": \"http://www.epicurious.com/recipes/food/views/roasted-asparagus-soup-with-spring-herb-gremolata-241881\"}, {\"v\": \"Calories 259\"}, {\"v\": 259.0}]}, {\"c\": [{\"v\": \"http://www.epicurious.com/recipes/member/views/thai-indian-fusion-pasta-paneer-pasta-50182888\"}, {\"v\": \"Calories 423\"}, {\"v\": 423.0}]}, {\"c\": [{\"v\": \"http://www.epicurious.com/recipes/member/views/sweet-beet-risotto-1200430\"}, {\"v\": \"Calories 311\"}, {\"v\": 311.0}]}, {\"c\": [{\"v\": \"http://www.epicurious.com/recipes/food/views/trail-mix-porridge-51221010\"}, {\"v\": \"Calories 242\"}, {\"v\": 242.0}]}, {\"c\": [{\"v\": \"http://www.epicurious.com/recipes/member/views/grilled-spicy-eggplant-pasta-1204785\"}, {\"v\": \"Calories 682\"}, {\"v\": 682.0}]}, {\"c\": [{\"v\": \"http://www.epicurious.com/recipes/food/views/bell-pepper-and-cheddar-frittata-107913\"}, {\"v\": \"Calories 413\"}, {\"v\": 413.0}]}], \"cols\": [{\"type\": \"string\", \"id\": \"url\", \"label\": \"url\"}, {\"type\": \"string\", \"id\": \"calories\", \"label\": \"calories\"}, {\"type\": \"number\", \"id\": \"calories_amount\", \"label\": \"calories_amount\"}]},\n",
       "            {\n",
       "              pageSize: 25,\n",
       "              cssClassNames:  {\n",
       "                tableRow: 'gchart-table-row',\n",
       "                headerRow: 'gchart-table-headerrow',\n",
       "                oddTableRow: 'gchart-table-oddrow',\n",
       "                selectedTableRow: 'gchart-table-selectedrow',\n",
       "                hoverTableRow: 'gchart-table-hoverrow',\n",
       "                tableCell: 'gchart-table-cell',\n",
       "                headerCell: 'gchart-table-headercell',\n",
       "                rowNumberCell: 'gchart-table-rownumcell'\n",
       "              }\n",
       "            },\n",
       "            {source_index: 2, fields: 'url,calories,calories_amount', legacy: 'true'},\n",
       "            0,\n",
       "            319863);\n",
       "        }\n",
       "      );\n",
       "    </script>\n",
       "  "
      ],
      "text/plain": [
       "QueryResultsTable job_Vhky0JHdhrFuN4-lHzrUtz9oleoi"
      ]
     },
     "execution_count": 26,
     "metadata": {},
     "output_type": "execute_result"
    }
   ],
   "source": [
    "%%bigquery execute -q epicurious_calories_nutrition"
   ]
  },
  {
   "cell_type": "markdown",
   "metadata": {},
   "source": [
    "Export to pandas dataframe."
   ]
  },
  {
   "cell_type": "code",
   "execution_count": 27,
   "metadata": {
    "collapsed": true
   },
   "outputs": [],
   "source": [
    "epicurious_calories_df = bq.Query(epicurious_calories_nutrition).to_dataframe()"
   ]
  },
  {
   "cell_type": "markdown",
   "metadata": {},
   "source": [
    "Note. In case we want to perform sampling with BigQuery:\n",
    "https://www.oreilly.com/learning/repeatable-sampling-of-data-sets-in-bigquery-for-machine-learning"
   ]
  },
  {
   "cell_type": "code",
   "execution_count": 28,
   "metadata": {
    "collapsed": false
   },
   "outputs": [
    {
     "data": {
      "text/html": [
       "<div>\n",
       "<style scoped>\n",
       "    .dataframe tbody tr th:only-of-type {\n",
       "        vertical-align: middle;\n",
       "    }\n",
       "\n",
       "    .dataframe tbody tr th {\n",
       "        vertical-align: top;\n",
       "    }\n",
       "\n",
       "    .dataframe thead th {\n",
       "        text-align: right;\n",
       "    }\n",
       "</style>\n",
       "<table border=\"1\" class=\"dataframe\">\n",
       "  <thead>\n",
       "    <tr style=\"text-align: right;\">\n",
       "      <th></th>\n",
       "      <th>url</th>\n",
       "      <th>calories</th>\n",
       "      <th>calories_amount</th>\n",
       "    </tr>\n",
       "  </thead>\n",
       "  <tbody>\n",
       "    <tr>\n",
       "      <th>0</th>\n",
       "      <td>http://www.epicurious.com/recipes/food/views/pissaladiere-101620</td>\n",
       "      <td>Calories 377</td>\n",
       "      <td>377.00</td>\n",
       "    </tr>\n",
       "    <tr>\n",
       "      <th>1</th>\n",
       "      <td>http://www.epicurious.com/recipes/food/views/blueberry-almond-tart-106987</td>\n",
       "      <td>Calories 610</td>\n",
       "      <td>610.00</td>\n",
       "    </tr>\n",
       "    <tr>\n",
       "      <th>2</th>\n",
       "      <td>http://www.epicurious.com/recipes/food/views/five-bean-salad-with-smoked-paprika-vinaigrette-56389686</td>\n",
       "      <td>Calories 515</td>\n",
       "      <td>515.00</td>\n",
       "    </tr>\n",
       "    <tr>\n",
       "      <th>3</th>\n",
       "      <td>http://www.epicurious.com/recipes/food/views/cream-biscuits-with-bacon-and-roasted-onions-105773</td>\n",
       "      <td>Calories 225</td>\n",
       "      <td>225.00</td>\n",
       "    </tr>\n",
       "    <tr>\n",
       "      <th>4</th>\n",
       "      <td>http://www.epicurious.com/recipes/food/views/blueberry-lemon-sauce-239050</td>\n",
       "      <td>Calories 110</td>\n",
       "      <td>110.00</td>\n",
       "    </tr>\n",
       "  </tbody>\n",
       "</table>\n",
       "</div>"
      ],
      "text/plain": [
       "                                                                                                     url  \\\n",
       "0  http://www.epicurious.com/recipes/food/views/pissaladiere-101620                                        \n",
       "1  http://www.epicurious.com/recipes/food/views/blueberry-almond-tart-106987                               \n",
       "2  http://www.epicurious.com/recipes/food/views/five-bean-salad-with-smoked-paprika-vinaigrette-56389686   \n",
       "3  http://www.epicurious.com/recipes/food/views/cream-biscuits-with-bacon-and-roasted-onions-105773        \n",
       "4  http://www.epicurious.com/recipes/food/views/blueberry-lemon-sauce-239050                               \n",
       "\n",
       "       calories  calories_amount  \n",
       "0  Calories 377 377.00            \n",
       "1  Calories 610 610.00            \n",
       "2  Calories 515 515.00            \n",
       "3  Calories 225 225.00            \n",
       "4  Calories 110 110.00            "
      ]
     },
     "execution_count": 28,
     "metadata": {},
     "output_type": "execute_result"
    }
   ],
   "source": [
    "epicurious_calories_df.head()"
   ]
  },
  {
   "cell_type": "markdown",
   "metadata": {},
   "source": [
    "How many rows of data?"
   ]
  },
  {
   "cell_type": "code",
   "execution_count": 29,
   "metadata": {
    "collapsed": false
   },
   "outputs": [
    {
     "data": {
      "text/plain": [
       "(319863, 3)"
      ]
     },
     "execution_count": 29,
     "metadata": {},
     "output_type": "execute_result"
    }
   ],
   "source": [
    "epicurious_calories_df.shape"
   ]
  },
  {
   "cell_type": "markdown",
   "metadata": {},
   "source": [
    "Let's check the columns data types."
   ]
  },
  {
   "cell_type": "code",
   "execution_count": 30,
   "metadata": {
    "collapsed": false
   },
   "outputs": [
    {
     "name": "stdout",
     "output_type": "stream",
     "text": [
      "<class 'pandas.core.frame.DataFrame'>\n",
      "RangeIndex: 319863 entries, 0 to 319862\n",
      "Data columns (total 3 columns):\n",
      "url                319863 non-null object\n",
      "calories           319863 non-null object\n",
      "calories_amount    319863 non-null float64\n",
      "dtypes: float64(1), object(2)\n",
      "memory usage: 7.3+ MB\n"
     ]
    }
   ],
   "source": [
    "epicurious_calories_df.info()"
   ]
  },
  {
   "cell_type": "markdown",
   "metadata": {},
   "source": [
    "Checking basic statistics of the calories amount."
   ]
  },
  {
   "cell_type": "code",
   "execution_count": 31,
   "metadata": {
    "collapsed": false
   },
   "outputs": [
    {
     "data": {
      "text/plain": [
       "count   319863.00  \n",
       "mean    1599.91    \n",
       "std     189832.09  \n",
       "min     0.00       \n",
       "25%     256.00     \n",
       "50%     389.00     \n",
       "75%     691.00     \n",
       "max     44659793.00\n",
       "Name: calories_amount, dtype: float64"
      ]
     },
     "execution_count": 31,
     "metadata": {},
     "output_type": "execute_result"
    }
   ],
   "source": [
    "epicurious_calories_df.calories_amount.describe()"
   ]
  },
  {
   "cell_type": "markdown",
   "metadata": {},
   "source": [
    "If we don't filter out extreme calories values, we don't get a very useful histogram."
   ]
  },
  {
   "cell_type": "code",
   "execution_count": 32,
   "metadata": {
    "collapsed": false
   },
   "outputs": [
    {
     "data": {
      "image/png": "[encoded data removed]",
      "text/plain": [
       "<matplotlib.figure.Figure at 0x7f7fa50c2810>"
      ]
     },
     "metadata": {},
     "output_type": "display_data"
    }
   ],
   "source": [
    "sns.distplot(epicurious_calories_df['calories_amount']);"
   ]
  },
  {
   "cell_type": "markdown",
   "metadata": {},
   "source": [
    "Creating a dataframe with recipes with more than 0 calories and less than a 1,000 calories."
   ]
  },
  {
   "cell_type": "code",
   "execution_count": 33,
   "metadata": {
    "collapsed": true
   },
   "outputs": [],
   "source": [
    "epicurious_calories_0_5000_df = epicurious_calories_df[(epicurious_calories_df['calories_amount'] > 0) & (epicurious_calories_df['calories_amount'] < 5000)]"
   ]
  },
  {
   "cell_type": "markdown",
   "metadata": {},
   "source": [
    "And it's corresponding distribution plot."
   ]
  },
  {
   "cell_type": "code",
   "execution_count": 34,
   "metadata": {
    "collapsed": false
   },
   "outputs": [
    {
     "data": {
      "image/png": "[encoded data removed]",
      "text/plain": [
       "<matplotlib.figure.Figure at 0x7f7fa50c9390>"
      ]
     },
     "metadata": {},
     "output_type": "display_data"
    }
   ],
   "source": [
    "sns.distplot(epicurious_calories_0_5000_df['calories_amount']);"
   ]
  },
  {
   "cell_type": "markdown",
   "metadata": {},
   "source": [
    "### We can see that the calories distribution is more extreme when using derived_nutrition compared to nutrition, and that where using nutrition, most of the recipes have a calories amount around 500 calories."
   ]
  },
  {
   "cell_type": "code",
   "execution_count": null,
   "metadata": {
    "collapsed": true
   },
   "outputs": [],
   "source": []
  }
 ],
 "metadata": {
  "kernelspec": {
   "display_name": "Python 2",
   "language": "python",
   "name": "python2"
  },
  "language_info": {
   "codemirror_mode": {
    "name": "ipython",
    "version": 2
   },
   "file_extension": ".py",
   "mimetype": "text/x-python",
   "name": "python",
   "nbconvert_exporter": "python",
   "pygments_lexer": "ipython2",
   "version": "2.7.12"
  }
 },
 "nbformat": 4,
 "nbformat_minor": 2
}
