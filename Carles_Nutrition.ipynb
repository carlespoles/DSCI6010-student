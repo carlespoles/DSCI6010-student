{
 "cells": [
  {
   "cell_type": "code",
   "execution_count": 40,
   "metadata": {
    "collapsed": true
   },
   "outputs": [],
   "source": [
    "reset -fs"
   ]
  },
  {
   "cell_type": "code",
   "execution_count": 41,
   "metadata": {
    "collapsed": false
   },
   "outputs": [],
   "source": [
    "import re\n",
    "import json\n",
    "import pprint\n",
    "import operator\n",
    "import itertools\n",
    "import numpy as np\n",
    "import pandas as pd\n",
    "import seaborn as sns\n",
    "import datalab.bigquery as bq\n",
    "import matplotlib.pyplot as plt\n",
    "sns.set_style('white')\n",
    "%matplotlib inline"
   ]
  },
  {
   "cell_type": "code",
   "execution_count": 42,
   "metadata": {
    "collapsed": true
   },
   "outputs": [],
   "source": [
    "pd.set_option('display.max_colwidth', -1)"
   ]
  },
  {
   "cell_type": "code",
   "execution_count": null,
   "metadata": {
    "collapsed": true
   },
   "outputs": [],
   "source": [
    "pd.options.display.float_format = '{:.2f}'.format"
   ]
  },
  {
   "cell_type": "code",
   "execution_count": 43,
   "metadata": {
    "collapsed": false
   },
   "outputs": [
    {
     "data": {
      "text/html": [
       "\n",
       "    <div class=\"bqsv\" id=\"4_151993716565\"></div>\n",
       "\n",
       "    <script src=\"/static/components/requirejs/require.js\"></script>\n",
       "    <script>\n",
       "      require.config({\n",
       "        paths: {\n",
       "          base: '/static/base',\n",
       "        },\n",
       "        map: {\n",
       "          '*': {\n",
       "            datalab: 'nbextensions/gcpdatalab'\n",
       "          }\n",
       "        },\n",
       "      });\n",
       "\n",
       "      require(['datalab/bigquery', 'datalab/element!4_151993716565',\n",
       "          'datalab/style!/nbextensions/gcpdatalab/bigquery.css'],\n",
       "        function(bq, dom) {\n",
       "          bq.renderSchema(dom, [{\"type\": \"STRING\", \"name\": \"title\", \"mode\": \"NULLABLE\"}, {\"type\": \"STRING\", \"name\": \"description\", \"mode\": \"NULLABLE\"}, {\"type\": \"STRING\", \"name\": \"url\", \"mode\": \"NULLABLE\"}, {\"type\": \"STRING\", \"name\": \"crawler\", \"mode\": \"NULLABLE\"}, {\"type\": \"STRING\", \"name\": \"prep_time\", \"mode\": \"NULLABLE\"}, {\"type\": \"STRING\", \"name\": \"cook_time\", \"mode\": \"NULLABLE\"}, {\"type\": \"STRING\", \"name\": \"total_time\", \"mode\": \"NULLABLE\"}, {\"type\": \"STRING\", \"name\": \"yield\", \"mode\": \"NULLABLE\"}, {\"type\": \"STRING\", \"name\": \"source_path\", \"mode\": \"NULLABLE\"}, {\"description\": \"list of ingredients\", \"type\": \"STRING\", \"name\": \"ingredients\", \"mode\": \"REPEATED\"}, {\"description\": \"list of preparation steps\", \"type\": \"STRING\", \"name\": \"preparation\", \"mode\": \"REPEATED\"}, {\"description\": \"list of ingredients entities\", \"type\": \"STRING\", \"name\": \"derived_ingredient_entities\", \"mode\": \"REPEATED\"}, {\"description\": \"list of extracted ingredient amounts\", \"type\": \"STRING\", \"name\": \"derived_ingredient_amount\", \"mode\": \"REPEATED\"}, {\"fields\": [{\"description\": \"social media scores\", \"type\": \"FLOAT\", \"name\": \"social_media\", \"mode\": \"NULLABLE\"}], \"description\": \"social media scores\", \"type\": \"RECORD\", \"name\": \"scores\", \"mode\": \"NULLABLE\"}, {\"description\": \"boolean flag indicating if recipe has an image\", \"type\": \"STRING\", \"name\": \"has_image\", \"mode\": \"NULLABLE\"}, {\"description\": \"meal/course labels\", \"type\": \"STRING\", \"name\": \"derived_labels\", \"mode\": \"NULLABLE\"}, {\"description\": \"health score for recipe\", \"type\": \"FLOAT\", \"name\": \"health_score\", \"mode\": \"NULLABLE\"}, {\"description\": \"dietary tags for recipe\", \"type\": \"STRING\", \"name\": \"diet_tags\", \"mode\": \"REPEATED\"}, {\"description\": \"list of nutrition values\", \"type\": \"STRING\", \"name\": \"nutrition\", \"mode\": \"REPEATED\"}, {\"description\": \"estimated price of the entire recipe\", \"type\": \"STRING\", \"name\": \"price_estimate\", \"mode\": \"NULLABLE\"}, {\"description\": \"estimated language or recipe\", \"type\": \"STRING\", \"name\": \"language\", \"mode\": \"NULLABLE\"}, {\"description\": \"estimated confidence of language inference\", \"type\": \"STRING\", \"name\": \"language_confidence\", \"mode\": \"NULLABLE\"}, {\"description\": \"time recipe is created\", \"type\": \"STRING\", \"name\": \"created_at\", \"mode\": \"NULLABLE\"}, {\"description\": \"time recipe is updated\", \"type\": \"STRING\", \"name\": \"updated_at\", \"mode\": \"NULLABLE\"}, {\"description\": \"recipe id\", \"type\": \"STRING\", \"name\": \"id\", \"mode\": \"NULLABLE\"}, {\"description\": \"estimated price per serving for the recipe\", \"type\": \"STRING\", \"name\": \"price_per_serving\", \"mode\": \"NULLABLE\"}, {\"description\": \"list of extracted ingredient unit of measures\", \"type\": \"STRING\", \"name\": \"derived_ingredient_uom\", \"mode\": \"REPEATED\"}, {\"description\": \"list of derived nutrition values\", \"type\": \"STRING\", \"name\": \"derived_nutrition\", \"mode\": \"REPEATED\"}, {\"description\": \"the primary image as binary data\", \"type\": \"BYTES\", \"name\": \"image\", \"mode\": \"NULLABLE\"}, {\"description\": \"recipe tags as provided by the recipe source\", \"type\": \"STRING\", \"name\": \"tags\", \"mode\": \"REPEATED\"}, {\"description\": \"NRF9.3 nutrition index value\", \"type\": \"FLOAT\", \"name\": \"derived_nutrition_nrf_index\", \"mode\": \"NULLABLE\"}, {\"description\": \"Nutrition algorithm version\", \"type\": \"STRING\", \"name\": \"derived_nutrition_version\", \"mode\": \"NULLABLE\"}, {\"description\": \"Percent of items matched for the recipe\", \"type\": \"FLOAT\", \"name\": \"derived_nutrition_confidence\", \"mode\": \"NULLABLE\"}, {\"description\": \"GCS url of the image\", \"type\": \"STRING\", \"name\": \"image_cache_url\", \"mode\": \"NULLABLE\"}, {\"description\": \"Estimated image appeal score\", \"type\": \"FLOAT\", \"name\": \"image_appeal_score\", \"mode\": \"NULLABLE\"}, {\"description\": \"confidence score that indicates the percent of ingredients that have successfully been matched to items\", \"type\": \"FLOAT\", \"name\": \"derived_fulfillment_confidence\", \"mode\": \"NULLABLE\"}, {\"description\": \"median total price per recipe\", \"type\": \"FLOAT\", \"name\": \"derived_fulfillment_total_price\", \"mode\": \"NULLABLE\"}, {\"description\": \"median consumed price per recipe\", \"type\": \"FLOAT\", \"name\": \"derived_fulfillment_consumed_price\", \"mode\": \"NULLABLE\"}, {\"description\": \"stores and the corresponding number of ingredients from the recipe that can be fulfilled in those stores\", \"type\": \"STRING\", \"name\": \"derived_fulfillment_stores\", \"mode\": \"NULLABLE\"}, {\"description\": \"stores zipcodes and the corresponding number of ingredients from the recipe that can be fulfilled in those stores\", \"type\": \"STRING\", \"name\": \"derived_fulfillment_zipcodes\", \"mode\": \"NULLABLE\"}, {\"description\": \"version of the fulfillment model\", \"type\": \"STRING\", \"name\": \"derived_fulfillment_version\", \"mode\": \"NULLABLE\"}]);\n",
       "        }\n",
       "      );\n",
       "    </script>\n",
       "    "
      ],
      "text/plain": [
       "<IPython.core.display.HTML object>"
      ]
     },
     "execution_count": 43,
     "metadata": {},
     "output_type": "execute_result"
    }
   ],
   "source": [
    "%bigquery schema --table firebase-wellio:recipes.imported_recipes"
   ]
  },
  {
   "cell_type": "code",
   "execution_count": 93,
   "metadata": {
    "collapsed": true
   },
   "outputs": [],
   "source": [
    "%%sql --module derived_nutrition_versions\n",
    "SELECT\n",
    "INTEGER(RIGHT(derived_nutrition_version, LENGTH(derived_nutrition_version)-1)) AS nutrition_version\n",
    "FROM [firebase-wellio:recipes.imported_recipes]\n",
    "GROUP BY nutrition_version\n",
    "ORDER BY nutrition_version DESC"
   ]
  },
  {
   "cell_type": "code",
   "execution_count": 94,
   "metadata": {
    "collapsed": false
   },
   "outputs": [
    {
     "data": {
      "text/html": [
       "\n",
       "    <div class=\"bqtv\" id=\"19_151993815674\"><table><tr><th>nutrition_version</th></tr><tr><td>10</td></tr><tr><td>9</td></tr><tr><td>8</td></tr><tr><td>7</td></tr><tr><td>6</td></tr><tr><td>5</td></tr><tr><td>2</td></tr><tr><td>&nbsp;</td></tr></table></div>\n",
       "    <br />(rows: 8, time: 1.2s,    67MB processed, job: job_zD9qEhU_nd3C93SKIUgxQhc-2SPG)<br />\n",
       "    <script src=\"/static/components/requirejs/require.js\"></script>\n",
       "    <script>\n",
       "\n",
       "      require.config({\n",
       "        paths: {\n",
       "          base: '/static/base',\n",
       "          d3: '//cdnjs.cloudflare.com/ajax/libs/d3/3.4.13/d3',\n",
       "          plotly: 'https://cdn.plot.ly/plotly-1.5.1.min.js?noext',\n",
       "          jquery: '//ajax.googleapis.com/ajax/libs/jquery/2.0.0/jquery.min'\n",
       "        },\n",
       "        map: {\n",
       "          '*': {\n",
       "            datalab: 'nbextensions/gcpdatalab'\n",
       "          }\n",
       "        },\n",
       "        shim: {\n",
       "          plotly: {\n",
       "            deps: ['d3', 'jquery'],\n",
       "            exports: 'plotly'\n",
       "          }\n",
       "        }\n",
       "      });\n",
       "\n",
       "      require(['datalab/charting', 'datalab/element!19_151993815674', 'base/js/events',\n",
       "          'datalab/style!/nbextensions/gcpdatalab/charting.css'],\n",
       "        function(charts, dom, events) {\n",
       "          charts.render('gcharts', dom, events, 'table', [], {\"rows\": [{\"c\": [{\"v\": 10}]}, {\"c\": [{\"v\": 9}]}, {\"c\": [{\"v\": 8}]}, {\"c\": [{\"v\": 7}]}, {\"c\": [{\"v\": 6}]}, {\"c\": [{\"v\": 5}]}, {\"c\": [{\"v\": 2}]}, {\"c\": [{\"v\": null}]}], \"cols\": [{\"type\": \"number\", \"id\": \"nutrition_version\", \"label\": \"nutrition_version\"}]},\n",
       "            {\n",
       "              pageSize: 25,\n",
       "              cssClassNames:  {\n",
       "                tableRow: 'gchart-table-row',\n",
       "                headerRow: 'gchart-table-headerrow',\n",
       "                oddTableRow: 'gchart-table-oddrow',\n",
       "                selectedTableRow: 'gchart-table-selectedrow',\n",
       "                hoverTableRow: 'gchart-table-hoverrow',\n",
       "                tableCell: 'gchart-table-cell',\n",
       "                headerCell: 'gchart-table-headercell',\n",
       "                rowNumberCell: 'gchart-table-rownumcell'\n",
       "              }\n",
       "            },\n",
       "            {source_index: 16, fields: 'nutrition_version', legacy: 'true'},\n",
       "            0,\n",
       "            8);\n",
       "        }\n",
       "      );\n",
       "    </script>\n",
       "  "
      ],
      "text/plain": [
       "QueryResultsTable job_zD9qEhU_nd3C93SKIUgxQhc-2SPG"
      ]
     },
     "execution_count": 94,
     "metadata": {},
     "output_type": "execute_result"
    }
   ],
   "source": [
    "%%bigquery execute -q derived_nutrition_versions"
   ]
  },
  {
   "cell_type": "code",
   "execution_count": 147,
   "metadata": {
    "collapsed": false
   },
   "outputs": [],
   "source": [
    "%%sql --module epicurious_calories_derived_nutrition\n",
    "SELECT url, derived_nutrition AS calories\n",
    "FROM [firebase-wellio:recipes.imported_recipes]\n",
    "WHERE url LIKE '%epicurious.com%' AND derived_nutrition IS NOT NULL AND INTEGER(RIGHT(derived_nutrition_version, \n",
    "  LENGTH(derived_nutrition_version)-1)) = 10 AND derived_nutrition LIKE '%\"unit\": \"kcal\"%'"
   ]
  },
  {
   "cell_type": "code",
   "execution_count": 148,
   "metadata": {
    "collapsed": false
   },
   "outputs": [
    {
     "data": {
      "text/html": [
       "\n",
       "    <div class=\"bqtv\" id=\"36_151994093026\"><table><tr><th>url</th><th>calories</th></tr><tr><td>http://www.epicurious.com/recipes/member/views/spinach-and-cheese-roll-ups-1246962</td><td>{\"name\": \"Energy\", \"nutrient_id\": \"208\", \"unit\": \"kcal\", \"agg_value\": 1616.617937582621}</td></tr><tr><td>http://www.epicurious.com/recipes/member/views/parmesan-corn-chowder-1253165</td><td>{\"name\": \"Energy\", \"nutrient_id\": \"208\", \"unit\": \"kcal\", \"agg_value\": 2411.5844127350238}</td></tr><tr><td>http://www.epicurious.com/recipes/member/views/-grilled-pecan-pork-loin-with-bourbon-onion-glaze-1204490</td><td>{\"name\": \"Energy\", \"nutrient_id\": \"208\", \"unit\": \"kcal\", \"agg_value\": 5216.15205532213}</td></tr><tr><td>http://www.epicurious.com/recipes/member/views/pork-loin-kebab-1220262</td><td>{\"name\": \"Energy\", \"nutrient_id\": \"208\", \"unit\": \"kcal\", \"agg_value\": 1212.1584456196588}</td></tr><tr><td>http://www.epicurious.com/recipes/member/views/apple-pie-dressing-50167941</td><td>{\"name\": \"Energy\", \"nutrient_id\": \"208\", \"unit\": \"kcal\", \"agg_value\": 158.90949860189306}</td></tr><tr><td>http://www.epicurious.com/recipes/member/views/zuccotto-1249563</td><td>{\"name\": \"Energy\", \"nutrient_id\": \"208\", \"unit\": \"kcal\", \"agg_value\": 4391.360493939357}</td></tr><tr><td>http://www.epicurious.com/recipes/member/views/breaded-chicken-baked-1218127</td><td>{\"name\": \"Energy\", \"nutrient_id\": \"208\", \"unit\": \"kcal\", \"agg_value\": 160.93957007843437}</td></tr><tr><td>http://www.epicurious.com/recipes/member/views/chocolate-pretzel-rods-50078522</td><td>{\"name\": \"Energy\", \"nutrient_id\": \"208\", \"unit\": \"kcal\", \"agg_value\": 2896.869757221271}</td></tr><tr><td>http://www.epicurious.com/recipes/member/views/white-beans-w-dried-tomatoes-prosciutto-and-sage-1206088</td><td>{\"name\": \"Energy\", \"nutrient_id\": \"208\", \"unit\": \"kcal\", \"agg_value\": 7054.235031907789}</td></tr><tr><td>http://www.epicurious.com/recipes/member/views/moms-korean-whole-fish-1200987</td><td>{\"name\": \"Energy\", \"nutrient_id\": \"208\", \"unit\": \"kcal\", \"agg_value\": 343.7844734495024}</td></tr><tr><td>http://www.epicurious.com/recipes/member/views/kentucky-refreshing-50150595</td><td>{\"name\": \"Energy\", \"nutrient_id\": \"208\", \"unit\": \"kcal\", \"agg_value\": 2917.97932362426}</td></tr><tr><td>http://www.epicurious.com/recipes/member/views/italian-wedding-soup-1255693</td><td>{\"name\": \"Energy\", \"nutrient_id\": \"208\", \"unit\": \"kcal\", \"agg_value\": 1363.738565623155}</td></tr><tr><td>http://www.epicurious.com/recipes/member/views/lizzies-korean-chicken-1260448</td><td>{\"name\": \"Energy\", \"nutrient_id\": \"208\", \"unit\": \"kcal\", \"agg_value\": 3367.4302656325303}</td></tr><tr><td>http://www.epicurious.com/recipes/member/views/ultimate-chocolate-cake-52398431</td><td>{\"name\": \"Energy\", \"nutrient_id\": \"208\", \"unit\": \"kcal\", \"agg_value\": 6106.0063564972015}</td></tr><tr><td>http://www.epicurious.com/recipes/member/views/shaleas-quick-fruit-salad-50151774</td><td>{\"name\": \"Energy\", \"nutrient_id\": \"208\", \"unit\": \"kcal\", \"agg_value\": 483.2082943976759}</td></tr><tr><td>http://www.epicurious.com/recipes/member/views/hot-cocoa-1226328</td><td>{\"name\": \"Energy\", \"nutrient_id\": \"208\", \"unit\": \"kcal\", \"agg_value\": 2802.5211725885924}</td></tr><tr><td>http://www.epicurious.com/recipes/member/views/sweet-slaw-1202144</td><td>{\"name\": \"Energy\", \"nutrient_id\": \"208\", \"unit\": \"kcal\", \"agg_value\": 5800.02554345788}</td></tr><tr><td>http://www.epicurious.com/recipes/member/views/moms-lamb-pear-casserole-51642821</td><td>{\"name\": \"Energy\", \"nutrient_id\": \"208\", \"unit\": \"kcal\", \"agg_value\": 222.69054681453875}</td></tr><tr><td>http://www.epicurious.com/recipes/member/views/mejadra-52232411</td><td>{\"name\": \"Energy\", \"nutrient_id\": \"208\", \"unit\": \"kcal\", \"agg_value\": 3723.9969122629213}</td></tr><tr><td>http://www.epicurious.com/recipes/member/views/irish-soda-bread-52126411</td><td>{\"name\": \"Energy\", \"nutrient_id\": \"208\", \"unit\": \"kcal\", \"agg_value\": 4669.595285768414}</td></tr><tr><td>http://www.epicurious.com/recipes/member/views/cabbage-rolls-53036481</td><td>{\"name\": \"Energy\", \"nutrient_id\": \"208\", \"unit\": \"kcal\", \"agg_value\": 3181.971576224734}</td></tr><tr><td>http://www.epicurious.com/recipes/member/views/orange-fluff-jello-salad-53014341</td><td>{\"name\": \"Energy\", \"nutrient_id\": \"208\", \"unit\": \"kcal\", \"agg_value\": 2567.189880768898}</td></tr><tr><td>http://www.epicurious.com/recipes/member/views/glamorgan-sausages-50132144</td><td>{\"name\": \"Energy\", \"nutrient_id\": \"208\", \"unit\": \"kcal\", \"agg_value\": 2667.3701733897315}</td></tr><tr><td>http://www.epicurious.com/recipes/food/views/roasted-cockles-104991</td><td>{\"name\": \"Energy\", \"nutrient_id\": \"208\", \"unit\": \"kcal\", \"agg_value\": 998.1008648175069}</td></tr><tr><td>http://www.epicurious.com/recipes/member/views/succotash-53059561</td><td>{\"name\": \"Energy\", \"nutrient_id\": \"208\", \"unit\": \"kcal\", \"agg_value\": 909.9509724290639}</td></tr></table></div>\n",
       "    <br />(rows: 641541, time: 8.9s,    32GB processed, job: job_y7-UyIjxOKGvUkkp7OpwVD3sadhF)<br />\n",
       "    <script src=\"/static/components/requirejs/require.js\"></script>\n",
       "    <script>\n",
       "\n",
       "      require.config({\n",
       "        paths: {\n",
       "          base: '/static/base',\n",
       "          d3: '//cdnjs.cloudflare.com/ajax/libs/d3/3.4.13/d3',\n",
       "          plotly: 'https://cdn.plot.ly/plotly-1.5.1.min.js?noext',\n",
       "          jquery: '//ajax.googleapis.com/ajax/libs/jquery/2.0.0/jquery.min'\n",
       "        },\n",
       "        map: {\n",
       "          '*': {\n",
       "            datalab: 'nbextensions/gcpdatalab'\n",
       "          }\n",
       "        },\n",
       "        shim: {\n",
       "          plotly: {\n",
       "            deps: ['d3', 'jquery'],\n",
       "            exports: 'plotly'\n",
       "          }\n",
       "        }\n",
       "      });\n",
       "\n",
       "      require(['datalab/charting', 'datalab/element!36_151994093026', 'base/js/events',\n",
       "          'datalab/style!/nbextensions/gcpdatalab/charting.css'],\n",
       "        function(charts, dom, events) {\n",
       "          charts.render('gcharts', dom, events, 'paged_table', [], {\"rows\": [{\"c\": [{\"v\": \"http://www.epicurious.com/recipes/member/views/spinach-and-cheese-roll-ups-1246962\"}, {\"v\": \"{\\\"name\\\": \\\"Energy\\\", \\\"nutrient_id\\\": \\\"208\\\", \\\"unit\\\": \\\"kcal\\\", \\\"agg_value\\\": 1616.617937582621}\"}]}, {\"c\": [{\"v\": \"http://www.epicurious.com/recipes/member/views/parmesan-corn-chowder-1253165\"}, {\"v\": \"{\\\"name\\\": \\\"Energy\\\", \\\"nutrient_id\\\": \\\"208\\\", \\\"unit\\\": \\\"kcal\\\", \\\"agg_value\\\": 2411.5844127350238}\"}]}, {\"c\": [{\"v\": \"http://www.epicurious.com/recipes/member/views/-grilled-pecan-pork-loin-with-bourbon-onion-glaze-1204490\"}, {\"v\": \"{\\\"name\\\": \\\"Energy\\\", \\\"nutrient_id\\\": \\\"208\\\", \\\"unit\\\": \\\"kcal\\\", \\\"agg_value\\\": 5216.15205532213}\"}]}, {\"c\": [{\"v\": \"http://www.epicurious.com/recipes/member/views/pork-loin-kebab-1220262\"}, {\"v\": \"{\\\"name\\\": \\\"Energy\\\", \\\"nutrient_id\\\": \\\"208\\\", \\\"unit\\\": \\\"kcal\\\", \\\"agg_value\\\": 1212.1584456196588}\"}]}, {\"c\": [{\"v\": \"http://www.epicurious.com/recipes/member/views/apple-pie-dressing-50167941\"}, {\"v\": \"{\\\"name\\\": \\\"Energy\\\", \\\"nutrient_id\\\": \\\"208\\\", \\\"unit\\\": \\\"kcal\\\", \\\"agg_value\\\": 158.90949860189306}\"}]}, {\"c\": [{\"v\": \"http://www.epicurious.com/recipes/member/views/zuccotto-1249563\"}, {\"v\": \"{\\\"name\\\": \\\"Energy\\\", \\\"nutrient_id\\\": \\\"208\\\", \\\"unit\\\": \\\"kcal\\\", \\\"agg_value\\\": 4391.360493939357}\"}]}, {\"c\": [{\"v\": \"http://www.epicurious.com/recipes/member/views/breaded-chicken-baked-1218127\"}, {\"v\": \"{\\\"name\\\": \\\"Energy\\\", \\\"nutrient_id\\\": \\\"208\\\", \\\"unit\\\": \\\"kcal\\\", \\\"agg_value\\\": 160.93957007843437}\"}]}, {\"c\": [{\"v\": \"http://www.epicurious.com/recipes/member/views/chocolate-pretzel-rods-50078522\"}, {\"v\": \"{\\\"name\\\": \\\"Energy\\\", \\\"nutrient_id\\\": \\\"208\\\", \\\"unit\\\": \\\"kcal\\\", \\\"agg_value\\\": 2896.869757221271}\"}]}, {\"c\": [{\"v\": \"http://www.epicurious.com/recipes/member/views/white-beans-w-dried-tomatoes-prosciutto-and-sage-1206088\"}, {\"v\": \"{\\\"name\\\": \\\"Energy\\\", \\\"nutrient_id\\\": \\\"208\\\", \\\"unit\\\": \\\"kcal\\\", \\\"agg_value\\\": 7054.235031907789}\"}]}, {\"c\": [{\"v\": \"http://www.epicurious.com/recipes/member/views/moms-korean-whole-fish-1200987\"}, {\"v\": \"{\\\"name\\\": \\\"Energy\\\", \\\"nutrient_id\\\": \\\"208\\\", \\\"unit\\\": \\\"kcal\\\", \\\"agg_value\\\": 343.7844734495024}\"}]}, {\"c\": [{\"v\": \"http://www.epicurious.com/recipes/member/views/kentucky-refreshing-50150595\"}, {\"v\": \"{\\\"name\\\": \\\"Energy\\\", \\\"nutrient_id\\\": \\\"208\\\", \\\"unit\\\": \\\"kcal\\\", \\\"agg_value\\\": 2917.97932362426}\"}]}, {\"c\": [{\"v\": \"http://www.epicurious.com/recipes/member/views/italian-wedding-soup-1255693\"}, {\"v\": \"{\\\"name\\\": \\\"Energy\\\", \\\"nutrient_id\\\": \\\"208\\\", \\\"unit\\\": \\\"kcal\\\", \\\"agg_value\\\": 1363.738565623155}\"}]}, {\"c\": [{\"v\": \"http://www.epicurious.com/recipes/member/views/lizzies-korean-chicken-1260448\"}, {\"v\": \"{\\\"name\\\": \\\"Energy\\\", \\\"nutrient_id\\\": \\\"208\\\", \\\"unit\\\": \\\"kcal\\\", \\\"agg_value\\\": 3367.4302656325303}\"}]}, {\"c\": [{\"v\": \"http://www.epicurious.com/recipes/member/views/ultimate-chocolate-cake-52398431\"}, {\"v\": \"{\\\"name\\\": \\\"Energy\\\", \\\"nutrient_id\\\": \\\"208\\\", \\\"unit\\\": \\\"kcal\\\", \\\"agg_value\\\": 6106.0063564972015}\"}]}, {\"c\": [{\"v\": \"http://www.epicurious.com/recipes/member/views/shaleas-quick-fruit-salad-50151774\"}, {\"v\": \"{\\\"name\\\": \\\"Energy\\\", \\\"nutrient_id\\\": \\\"208\\\", \\\"unit\\\": \\\"kcal\\\", \\\"agg_value\\\": 483.2082943976759}\"}]}, {\"c\": [{\"v\": \"http://www.epicurious.com/recipes/member/views/hot-cocoa-1226328\"}, {\"v\": \"{\\\"name\\\": \\\"Energy\\\", \\\"nutrient_id\\\": \\\"208\\\", \\\"unit\\\": \\\"kcal\\\", \\\"agg_value\\\": 2802.5211725885924}\"}]}, {\"c\": [{\"v\": \"http://www.epicurious.com/recipes/member/views/sweet-slaw-1202144\"}, {\"v\": \"{\\\"name\\\": \\\"Energy\\\", \\\"nutrient_id\\\": \\\"208\\\", \\\"unit\\\": \\\"kcal\\\", \\\"agg_value\\\": 5800.02554345788}\"}]}, {\"c\": [{\"v\": \"http://www.epicurious.com/recipes/member/views/moms-lamb-pear-casserole-51642821\"}, {\"v\": \"{\\\"name\\\": \\\"Energy\\\", \\\"nutrient_id\\\": \\\"208\\\", \\\"unit\\\": \\\"kcal\\\", \\\"agg_value\\\": 222.69054681453875}\"}]}, {\"c\": [{\"v\": \"http://www.epicurious.com/recipes/member/views/mejadra-52232411\"}, {\"v\": \"{\\\"name\\\": \\\"Energy\\\", \\\"nutrient_id\\\": \\\"208\\\", \\\"unit\\\": \\\"kcal\\\", \\\"agg_value\\\": 3723.9969122629213}\"}]}, {\"c\": [{\"v\": \"http://www.epicurious.com/recipes/member/views/irish-soda-bread-52126411\"}, {\"v\": \"{\\\"name\\\": \\\"Energy\\\", \\\"nutrient_id\\\": \\\"208\\\", \\\"unit\\\": \\\"kcal\\\", \\\"agg_value\\\": 4669.595285768414}\"}]}, {\"c\": [{\"v\": \"http://www.epicurious.com/recipes/member/views/cabbage-rolls-53036481\"}, {\"v\": \"{\\\"name\\\": \\\"Energy\\\", \\\"nutrient_id\\\": \\\"208\\\", \\\"unit\\\": \\\"kcal\\\", \\\"agg_value\\\": 3181.971576224734}\"}]}, {\"c\": [{\"v\": \"http://www.epicurious.com/recipes/member/views/orange-fluff-jello-salad-53014341\"}, {\"v\": \"{\\\"name\\\": \\\"Energy\\\", \\\"nutrient_id\\\": \\\"208\\\", \\\"unit\\\": \\\"kcal\\\", \\\"agg_value\\\": 2567.189880768898}\"}]}, {\"c\": [{\"v\": \"http://www.epicurious.com/recipes/member/views/glamorgan-sausages-50132144\"}, {\"v\": \"{\\\"name\\\": \\\"Energy\\\", \\\"nutrient_id\\\": \\\"208\\\", \\\"unit\\\": \\\"kcal\\\", \\\"agg_value\\\": 2667.3701733897315}\"}]}, {\"c\": [{\"v\": \"http://www.epicurious.com/recipes/food/views/roasted-cockles-104991\"}, {\"v\": \"{\\\"name\\\": \\\"Energy\\\", \\\"nutrient_id\\\": \\\"208\\\", \\\"unit\\\": \\\"kcal\\\", \\\"agg_value\\\": 998.1008648175069}\"}]}, {\"c\": [{\"v\": \"http://www.epicurious.com/recipes/member/views/succotash-53059561\"}, {\"v\": \"{\\\"name\\\": \\\"Energy\\\", \\\"nutrient_id\\\": \\\"208\\\", \\\"unit\\\": \\\"kcal\\\", \\\"agg_value\\\": 909.9509724290639}\"}]}], \"cols\": [{\"type\": \"string\", \"id\": \"url\", \"label\": \"url\"}, {\"type\": \"string\", \"id\": \"calories\", \"label\": \"calories\"}]},\n",
       "            {\n",
       "              pageSize: 25,\n",
       "              cssClassNames:  {\n",
       "                tableRow: 'gchart-table-row',\n",
       "                headerRow: 'gchart-table-headerrow',\n",
       "                oddTableRow: 'gchart-table-oddrow',\n",
       "                selectedTableRow: 'gchart-table-selectedrow',\n",
       "                hoverTableRow: 'gchart-table-hoverrow',\n",
       "                tableCell: 'gchart-table-cell',\n",
       "                headerCell: 'gchart-table-headercell',\n",
       "                rowNumberCell: 'gchart-table-rownumcell'\n",
       "              }\n",
       "            },\n",
       "            {source_index: 32, fields: 'url,calories', legacy: 'true'},\n",
       "            0,\n",
       "            641541);\n",
       "        }\n",
       "      );\n",
       "    </script>\n",
       "  "
      ],
      "text/plain": [
       "QueryResultsTable job_y7-UyIjxOKGvUkkp7OpwVD3sadhF"
      ]
     },
     "execution_count": 148,
     "metadata": {},
     "output_type": "execute_result"
    }
   ],
   "source": [
    "%%bigquery execute -q epicurious_calories_derived_nutrition"
   ]
  },
  {
   "cell_type": "markdown",
   "metadata": {},
   "source": [
    "### Export"
   ]
  },
  {
   "cell_type": "code",
   "execution_count": 149,
   "metadata": {
    "collapsed": true
   },
   "outputs": [],
   "source": [
    "# epicurious_derived_calories_df = bq.Query(epicurious_calories_derived_nutrition).to_dataframe(max_rows=1000)\n",
    "epicurious_derived_calories_df = bq.Query(epicurious_calories_derived_nutrition).to_dataframe()"
   ]
  },
  {
   "cell_type": "code",
   "execution_count": 268,
   "metadata": {
    "collapsed": true
   },
   "outputs": [],
   "source": [
    "%%sql --module epicurious_calories_nutrition\n",
    "SELECT url, nutrition AS calories, FLOAT(RIGHT(nutrition, LENGTH(nutrition) - LENGTH('Calories'))) AS calories_amount\n",
    "FROM FLATTEN([firebase-wellio:recipes.imported_recipes], nutrition)\n",
    "WHERE url LIKE '%epicurious.com%' AND derived_nutrition IS NOT NULL AND INTEGER(RIGHT(derived_nutrition_version, \n",
    "  LENGTH(derived_nutrition_version)-1)) = 10 AND nutrition LIKE 'Calories%'\n",
    "  AND nutrition NOT LIKE 'Calories from%'"
   ]
  },
  {
   "cell_type": "code",
   "execution_count": 269,
   "metadata": {
    "collapsed": false
   },
   "outputs": [
    {
     "data": {
      "text/html": [
       "\n",
       "    <div class=\"bqtv\" id=\"42_151994533449\"><table><tr><th>url</th><th>calories</th><th>calories_amount</th></tr><tr><td>http://www.epicurious.com/recipes/food/views/3-ingredient-roasted-carrots-with-pistachio-pesto</td><td>Calories 496</td><td>496.0</td></tr><tr><td>http://www.epicurious.com/recipes/food/views/fettuccine-meatball-lasagne-236984</td><td>Calories 961</td><td>961.0</td></tr><tr><td>http://www.epicurious.com/recipes/food/views/mashed-yam-and-plantain</td><td>Calories 166</td><td>166.0</td></tr><tr><td>http://www.epicurious.com/recipes/member/views/nz-leek-potato-soup-50035786</td><td>Calories 273</td><td>273.0</td></tr><tr><td>http://www.epicurious.com/recipes/food/views/grilled-eggplant-stacks-with-tomato-and-feta-232478</td><td>Calories 247</td><td>247.0</td></tr><tr><td>http://www.epicurious.com/recipes/member/views/italian-baked-eggs-52558781</td><td>Calories 334</td><td>334.0</td></tr><tr><td>http://www.epicurious.com/recipes/member/views/mushroom-chevre-tarts-1208380</td><td>Calories 123</td><td>123.0</td></tr><tr><td>http://www.epicurious.com/recipes/member/views/nz-leek-potato-soup-50035786</td><td>Calories 273</td><td>273.0</td></tr><tr><td>http://www.epicurious.com/recipes/food/views/gorgonzola-chicken-breasts-350591</td><td>Calories 514</td><td>514.0</td></tr><tr><td>http://www.epicurious.com/recipes/member/views/nz-leek-potato-soup-50035786</td><td>Calories 273</td><td>273.0</td></tr><tr><td>http://www.epicurious.com/recipes/member/views/friendship-bread-52747971</td><td>Calories 240</td><td>240.0</td></tr><tr><td>http://www.epicurious.com/recipes/member/views/barbecued-beef-brisket-50144377</td><td>Calories 1452</td><td>1452.0</td></tr><tr><td>http://www.epicurious.com/recipes/member/views/sour-plum-pops-50077776</td><td>Calories 141</td><td>141.0</td></tr><tr><td>http://www.epicurious.com/recipes/member/views/taco-sauce-50071547</td><td>Calories 20</td><td>20.0</td></tr><tr><td>http://www.epicurious.com/recipes/member/views/polenta-with-autumn-squash-and-pancetta-52947351</td><td>Calories 457</td><td>457.0</td></tr><tr><td>http://www.epicurious.com/recipes/member/views/honey-butter-rolls-52511881</td><td>Calories 131</td><td>131.0</td></tr><tr><td>http://www.epicurious.com/recipes/member/views/spicy-pineapple-chicken-stir-fry-52838711</td><td>Calories 742</td><td>742.0</td></tr><tr><td>http://www.epicurious.com/recipes/member/views/whole-wheat-waffles-52345001</td><td>Calories 194</td><td>194.0</td></tr><tr><td>http://www.epicurious.com/recipes/member/views/beer-balls-50055446</td><td>Calories 286</td><td>286.0</td></tr><tr><td>http://www.epicurious.com/recipes/member/views/south-carolina-mustard-bbq-sauce-recipe-52387991</td><td>Calories 141</td><td>141.0</td></tr><tr><td>http://www.epicurious.com/recipes/member/views/winter-squash-gratin-50016412</td><td>Calories 286</td><td>286.0</td></tr><tr><td>http://www.epicurious.com/recipes/member/views/thai-sweet-and-sour-sauce-50011764</td><td>Calories 220</td><td>220.0</td></tr><tr><td>http://www.epicurious.com/recipes/member/views/an-easy-chicken-dinner-50164680</td><td>Calories 405</td><td>405.0</td></tr><tr><td>http://www.epicurious.com/recipes/member/views/easy-chicken-pot-pie-52991031</td><td>Calories 282</td><td>282.0</td></tr><tr><td>http://www.epicurious.com/recipes/member/views/beer-balls-50055446</td><td>Calories 286</td><td>286.0</td></tr></table></div>\n",
       "    <br />(rows: 314524, time: 7.5s,    34GB processed, job: job_jqJB0aDxSCgM0_Sj_W5E6rD8PMsO)<br />\n",
       "    <script src=\"/static/components/requirejs/require.js\"></script>\n",
       "    <script>\n",
       "\n",
       "      require.config({\n",
       "        paths: {\n",
       "          base: '/static/base',\n",
       "          d3: '//cdnjs.cloudflare.com/ajax/libs/d3/3.4.13/d3',\n",
       "          plotly: 'https://cdn.plot.ly/plotly-1.5.1.min.js?noext',\n",
       "          jquery: '//ajax.googleapis.com/ajax/libs/jquery/2.0.0/jquery.min'\n",
       "        },\n",
       "        map: {\n",
       "          '*': {\n",
       "            datalab: 'nbextensions/gcpdatalab'\n",
       "          }\n",
       "        },\n",
       "        shim: {\n",
       "          plotly: {\n",
       "            deps: ['d3', 'jquery'],\n",
       "            exports: 'plotly'\n",
       "          }\n",
       "        }\n",
       "      });\n",
       "\n",
       "      require(['datalab/charting', 'datalab/element!42_151994533449', 'base/js/events',\n",
       "          'datalab/style!/nbextensions/gcpdatalab/charting.css'],\n",
       "        function(charts, dom, events) {\n",
       "          charts.render('gcharts', dom, events, 'paged_table', [], {\"rows\": [{\"c\": [{\"v\": \"http://www.epicurious.com/recipes/food/views/3-ingredient-roasted-carrots-with-pistachio-pesto\"}, {\"v\": \"Calories 496\"}, {\"v\": 496.0}]}, {\"c\": [{\"v\": \"http://www.epicurious.com/recipes/food/views/fettuccine-meatball-lasagne-236984\"}, {\"v\": \"Calories 961\"}, {\"v\": 961.0}]}, {\"c\": [{\"v\": \"http://www.epicurious.com/recipes/food/views/mashed-yam-and-plantain\"}, {\"v\": \"Calories 166\"}, {\"v\": 166.0}]}, {\"c\": [{\"v\": \"http://www.epicurious.com/recipes/member/views/nz-leek-potato-soup-50035786\"}, {\"v\": \"Calories 273\"}, {\"v\": 273.0}]}, {\"c\": [{\"v\": \"http://www.epicurious.com/recipes/food/views/grilled-eggplant-stacks-with-tomato-and-feta-232478\"}, {\"v\": \"Calories 247\"}, {\"v\": 247.0}]}, {\"c\": [{\"v\": \"http://www.epicurious.com/recipes/member/views/italian-baked-eggs-52558781\"}, {\"v\": \"Calories 334\"}, {\"v\": 334.0}]}, {\"c\": [{\"v\": \"http://www.epicurious.com/recipes/member/views/mushroom-chevre-tarts-1208380\"}, {\"v\": \"Calories 123\"}, {\"v\": 123.0}]}, {\"c\": [{\"v\": \"http://www.epicurious.com/recipes/member/views/nz-leek-potato-soup-50035786\"}, {\"v\": \"Calories 273\"}, {\"v\": 273.0}]}, {\"c\": [{\"v\": \"http://www.epicurious.com/recipes/food/views/gorgonzola-chicken-breasts-350591\"}, {\"v\": \"Calories 514\"}, {\"v\": 514.0}]}, {\"c\": [{\"v\": \"http://www.epicurious.com/recipes/member/views/nz-leek-potato-soup-50035786\"}, {\"v\": \"Calories 273\"}, {\"v\": 273.0}]}, {\"c\": [{\"v\": \"http://www.epicurious.com/recipes/member/views/friendship-bread-52747971\"}, {\"v\": \"Calories 240\"}, {\"v\": 240.0}]}, {\"c\": [{\"v\": \"http://www.epicurious.com/recipes/member/views/barbecued-beef-brisket-50144377\"}, {\"v\": \"Calories 1452\"}, {\"v\": 1452.0}]}, {\"c\": [{\"v\": \"http://www.epicurious.com/recipes/member/views/sour-plum-pops-50077776\"}, {\"v\": \"Calories 141\"}, {\"v\": 141.0}]}, {\"c\": [{\"v\": \"http://www.epicurious.com/recipes/member/views/taco-sauce-50071547\"}, {\"v\": \"Calories 20\"}, {\"v\": 20.0}]}, {\"c\": [{\"v\": \"http://www.epicurious.com/recipes/member/views/polenta-with-autumn-squash-and-pancetta-52947351\"}, {\"v\": \"Calories 457\"}, {\"v\": 457.0}]}, {\"c\": [{\"v\": \"http://www.epicurious.com/recipes/member/views/honey-butter-rolls-52511881\"}, {\"v\": \"Calories 131\"}, {\"v\": 131.0}]}, {\"c\": [{\"v\": \"http://www.epicurious.com/recipes/member/views/spicy-pineapple-chicken-stir-fry-52838711\"}, {\"v\": \"Calories 742\"}, {\"v\": 742.0}]}, {\"c\": [{\"v\": \"http://www.epicurious.com/recipes/member/views/whole-wheat-waffles-52345001\"}, {\"v\": \"Calories 194\"}, {\"v\": 194.0}]}, {\"c\": [{\"v\": \"http://www.epicurious.com/recipes/member/views/beer-balls-50055446\"}, {\"v\": \"Calories 286\"}, {\"v\": 286.0}]}, {\"c\": [{\"v\": \"http://www.epicurious.com/recipes/member/views/south-carolina-mustard-bbq-sauce-recipe-52387991\"}, {\"v\": \"Calories 141\"}, {\"v\": 141.0}]}, {\"c\": [{\"v\": \"http://www.epicurious.com/recipes/member/views/winter-squash-gratin-50016412\"}, {\"v\": \"Calories 286\"}, {\"v\": 286.0}]}, {\"c\": [{\"v\": \"http://www.epicurious.com/recipes/member/views/thai-sweet-and-sour-sauce-50011764\"}, {\"v\": \"Calories 220\"}, {\"v\": 220.0}]}, {\"c\": [{\"v\": \"http://www.epicurious.com/recipes/member/views/an-easy-chicken-dinner-50164680\"}, {\"v\": \"Calories 405\"}, {\"v\": 405.0}]}, {\"c\": [{\"v\": \"http://www.epicurious.com/recipes/member/views/easy-chicken-pot-pie-52991031\"}, {\"v\": \"Calories 282\"}, {\"v\": 282.0}]}, {\"c\": [{\"v\": \"http://www.epicurious.com/recipes/member/views/beer-balls-50055446\"}, {\"v\": \"Calories 286\"}, {\"v\": 286.0}]}], \"cols\": [{\"type\": \"string\", \"id\": \"url\", \"label\": \"url\"}, {\"type\": \"string\", \"id\": \"calories\", \"label\": \"calories\"}, {\"type\": \"number\", \"id\": \"calories_amount\", \"label\": \"calories_amount\"}]},\n",
       "            {\n",
       "              pageSize: 25,\n",
       "              cssClassNames:  {\n",
       "                tableRow: 'gchart-table-row',\n",
       "                headerRow: 'gchart-table-headerrow',\n",
       "                oddTableRow: 'gchart-table-oddrow',\n",
       "                selectedTableRow: 'gchart-table-selectedrow',\n",
       "                hoverTableRow: 'gchart-table-hoverrow',\n",
       "                tableCell: 'gchart-table-cell',\n",
       "                headerCell: 'gchart-table-headercell',\n",
       "                rowNumberCell: 'gchart-table-rownumcell'\n",
       "              }\n",
       "            },\n",
       "            {source_index: 38, fields: 'url,calories,calories_amount', legacy: 'true'},\n",
       "            0,\n",
       "            314524);\n",
       "        }\n",
       "      );\n",
       "    </script>\n",
       "  "
      ],
      "text/plain": [
       "QueryResultsTable job_jqJB0aDxSCgM0_Sj_W5E6rD8PMsO"
      ]
     },
     "execution_count": 269,
     "metadata": {},
     "output_type": "execute_result"
    }
   ],
   "source": [
    "%%bigquery execute -q epicurious_calories_nutrition"
   ]
  },
  {
   "cell_type": "code",
   "execution_count": 295,
   "metadata": {
    "collapsed": true
   },
   "outputs": [],
   "source": [
    "epicurious_calories_df = bq.Query(epicurious_calories_nutrition).to_dataframe()"
   ]
  },
  {
   "cell_type": "markdown",
   "metadata": {},
   "source": [
    "### Sampling:\n",
    "https://www.oreilly.com/learning/repeatable-sampling-of-data-sets-in-bigquery-for-machine-learning"
   ]
  },
  {
   "cell_type": "code",
   "execution_count": 254,
   "metadata": {
    "collapsed": false
   },
   "outputs": [],
   "source": [
    "#epicurious_calories_df['calories_amount'] = epicurious_calories_df['calories']"
   ]
  },
  {
   "cell_type": "code",
   "execution_count": 296,
   "metadata": {
    "collapsed": false
   },
   "outputs": [
    {
     "data": {
      "text/html": [
       "<div>\n",
       "<style scoped>\n",
       "    .dataframe tbody tr th:only-of-type {\n",
       "        vertical-align: middle;\n",
       "    }\n",
       "\n",
       "    .dataframe tbody tr th {\n",
       "        vertical-align: top;\n",
       "    }\n",
       "\n",
       "    .dataframe thead th {\n",
       "        text-align: right;\n",
       "    }\n",
       "</style>\n",
       "<table border=\"1\" class=\"dataframe\">\n",
       "  <thead>\n",
       "    <tr style=\"text-align: right;\">\n",
       "      <th></th>\n",
       "      <th>url</th>\n",
       "      <th>calories</th>\n",
       "      <th>calories_amount</th>\n",
       "    </tr>\n",
       "  </thead>\n",
       "  <tbody>\n",
       "    <tr>\n",
       "      <th>0</th>\n",
       "      <td>http://www.epicurious.com/recipes/member/views/broccoli-and-cheddar-soup-52651071</td>\n",
       "      <td>Calories 394</td>\n",
       "      <td>394.00</td>\n",
       "    </tr>\n",
       "    <tr>\n",
       "      <th>1</th>\n",
       "      <td>http://www.epicurious.com/recipes/food/views/3-ingredient-roasted-carrots-with-pistachio-pesto</td>\n",
       "      <td>Calories 496</td>\n",
       "      <td>496.00</td>\n",
       "    </tr>\n",
       "    <tr>\n",
       "      <th>2</th>\n",
       "      <td>http://www.epicurious.com/recipes/member/views/grilled-spicy-lime-chicken-with-black-bean-and-avocado-salad-1205592</td>\n",
       "      <td>Calories 1033</td>\n",
       "      <td>1033.00</td>\n",
       "    </tr>\n",
       "    <tr>\n",
       "      <th>3</th>\n",
       "      <td>http://www.epicurious.com/recipes/food/views/fettuccine-meatball-lasagne-236984</td>\n",
       "      <td>Calories 961</td>\n",
       "      <td>961.00</td>\n",
       "    </tr>\n",
       "    <tr>\n",
       "      <th>4</th>\n",
       "      <td>http://www.epicurious.com/recipes/food/views/mashed-yam-and-plantain</td>\n",
       "      <td>Calories 166</td>\n",
       "      <td>166.00</td>\n",
       "    </tr>\n",
       "  </tbody>\n",
       "</table>\n",
       "</div>"
      ],
      "text/plain": [
       "                                                                                                                   url  \\\n",
       "0  http://www.epicurious.com/recipes/member/views/broccoli-and-cheddar-soup-52651071                                     \n",
       "1  http://www.epicurious.com/recipes/food/views/3-ingredient-roasted-carrots-with-pistachio-pesto                        \n",
       "2  http://www.epicurious.com/recipes/member/views/grilled-spicy-lime-chicken-with-black-bean-and-avocado-salad-1205592   \n",
       "3  http://www.epicurious.com/recipes/food/views/fettuccine-meatball-lasagne-236984                                       \n",
       "4  http://www.epicurious.com/recipes/food/views/mashed-yam-and-plantain                                                  \n",
       "\n",
       "        calories  calories_amount  \n",
       "0  Calories 394  394.00            \n",
       "1  Calories 496  496.00            \n",
       "2  Calories 1033 1033.00           \n",
       "3  Calories 961  961.00            \n",
       "4  Calories 166  166.00            "
      ]
     },
     "execution_count": 296,
     "metadata": {},
     "output_type": "execute_result"
    }
   ],
   "source": [
    "epicurious_calories_df.head()"
   ]
  },
  {
   "cell_type": "code",
   "execution_count": 234,
   "metadata": {
    "collapsed": false
   },
   "outputs": [],
   "source": [
    "#epicurious_calories_df.calories_amount.replace('Calories', '', regex=True, inplace=True)"
   ]
  },
  {
   "cell_type": "code",
   "execution_count": 297,
   "metadata": {
    "collapsed": false
   },
   "outputs": [
    {
     "name": "stdout",
     "output_type": "stream",
     "text": [
      "<class 'pandas.core.frame.DataFrame'>\n",
      "RangeIndex: 314548 entries, 0 to 314547\n",
      "Data columns (total 3 columns):\n",
      "url                314548 non-null object\n",
      "calories           314548 non-null object\n",
      "calories_amount    314548 non-null float64\n",
      "dtypes: float64(1), object(2)\n",
      "memory usage: 7.2+ MB\n"
     ]
    }
   ],
   "source": [
    "epicurious_calories_df.info()"
   ]
  },
  {
   "cell_type": "code",
   "execution_count": 236,
   "metadata": {
    "collapsed": false
   },
   "outputs": [],
   "source": [
    "#epicurious_calories_df.calories_amount = pd.to_numeric(epicurious_calories_df.calories_amount)"
   ]
  },
  {
   "cell_type": "code",
   "execution_count": 298,
   "metadata": {
    "collapsed": false
   },
   "outputs": [
    {
     "data": {
      "text/plain": [
       "count   314548.00  \n",
       "mean    1620.59    \n",
       "std     191429.13  \n",
       "min     0.00       \n",
       "25%     256.00     \n",
       "50%     393.00     \n",
       "75%     694.00     \n",
       "max     44659793.00\n",
       "Name: calories_amount, dtype: float64"
      ]
     },
     "execution_count": 298,
     "metadata": {},
     "output_type": "execute_result"
    }
   ],
   "source": [
    "epicurious_calories_df.calories_amount.describe()"
   ]
  },
  {
   "cell_type": "code",
   "execution_count": 230,
   "metadata": {
    "collapsed": true
   },
   "outputs": [],
   "source": [
    "#epicurious_calories_df['calories_amount'] = epicurious_calories_df['calories_amount'].apply(lambda x: '{:.2f}'.format(x))"
   ]
  },
  {
   "cell_type": "code",
   "execution_count": 299,
   "metadata": {
    "collapsed": false
   },
   "outputs": [
    {
     "data": {
      "image/png": "[encoded data removed]",
      "text/plain": [
       "<matplotlib.figure.Figure at 0x7fe34de1ba90>"
      ]
     },
     "metadata": {},
     "output_type": "display_data"
    }
   ],
   "source": [
    "sns.distplot(epicurious_calories_df['calories_amount']);"
   ]
  },
  {
   "cell_type": "code",
   "execution_count": 300,
   "metadata": {
    "collapsed": false
   },
   "outputs": [
    {
     "data": {
      "image/png": "[encoded data removed]",
      "text/plain": [
       "<matplotlib.figure.Figure at 0x7fe3c5163390>"
      ]
     },
     "metadata": {},
     "output_type": "display_data"
    }
   ],
   "source": [
    "sns.distplot(epicurious_calories_df['calories_amount'] > 0);"
   ]
  },
  {
   "cell_type": "code",
   "execution_count": null,
   "metadata": {
    "collapsed": true
   },
   "outputs": [],
   "source": []
  }
 ],
 "metadata": {
  "kernelspec": {
   "display_name": "Python 2",
   "language": "python",
   "name": "python2"
  },
  "language_info": {
   "codemirror_mode": {
    "name": "ipython",
    "version": 2
   },
   "file_extension": ".py",
   "mimetype": "text/x-python",
   "name": "python",
   "nbconvert_exporter": "python",
   "pygments_lexer": "ipython2",
   "version": "2.7.12"
  }
 },
 "nbformat": 4,
 "nbformat_minor": 2
}
