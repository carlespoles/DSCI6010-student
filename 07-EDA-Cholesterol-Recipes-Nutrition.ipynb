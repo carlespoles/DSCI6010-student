{
 "cells": [
  {
   "cell_type": "markdown",
   "metadata": {},
   "source": [
    "# Exploring recipe's cholesterol using two different data sources."
   ]
  },
  {
   "cell_type": "markdown",
   "metadata": {},
   "source": [
    "We have cholesterol data from 2 different columns: `nutrition` (nutrition data that has been crawled from a website) and `derived_nutrition` (when not all nutrition data is present in a website, it's is derived/calculated using a machine learning algorithm).\n",
    "\n",
    "We want to compare the values from both sources."
   ]
  },
  {
   "cell_type": "code",
   "execution_count": 1,
   "metadata": {
    "collapsed": true
   },
   "outputs": [],
   "source": [
    "reset -fs"
   ]
  },
  {
   "cell_type": "code",
   "execution_count": 2,
   "metadata": {
    "collapsed": false
   },
   "outputs": [],
   "source": [
    "import datalab.bigquery as bq\n",
    "import itertools\n",
    "import json\n",
    "import matplotlib.pyplot as plt\n",
    "import numpy as np\n",
    "import operator\n",
    "import pandas as pd\n",
    "import pprint\n",
    "import re\n",
    "import seaborn as sns\n",
    "import warnings\n",
    "warnings.filterwarnings('ignore')\n",
    "sns.set_style('white')\n",
    "%matplotlib inline"
   ]
  },
  {
   "cell_type": "markdown",
   "metadata": {},
   "source": [
    "To be able to see all content columns of a pandas dataframe, we set the width of the columns to max."
   ]
  },
  {
   "cell_type": "code",
   "execution_count": 3,
   "metadata": {
    "collapsed": true
   },
   "outputs": [],
   "source": [
    "pd.set_option('display.max_colwidth', -1)"
   ]
  },
  {
   "cell_type": "markdown",
   "metadata": {},
   "source": [
    "To be able to see all numeric data with 2 decimals instead of scientific notation."
   ]
  },
  {
   "cell_type": "code",
   "execution_count": 4,
   "metadata": {
    "collapsed": true
   },
   "outputs": [],
   "source": [
    "pd.options.display.float_format = '{:.2f}'.format"
   ]
  },
  {
   "cell_type": "markdown",
   "metadata": {},
   "source": [
    "To explore the data schema from the table we will extract data."
   ]
  },
  {
   "cell_type": "code",
   "execution_count": 5,
   "metadata": {
    "collapsed": false
   },
   "outputs": [
    {
     "data": {
      "text/html": [
       "\n",
       "    <div class=\"bqsv\" id=\"1_152036997823\"></div>\n",
       "\n",
       "    <script src=\"/static/components/requirejs/require.js\"></script>\n",
       "    <script>\n",
       "      require.config({\n",
       "        paths: {\n",
       "          base: '/static/base',\n",
       "        },\n",
       "        map: {\n",
       "          '*': {\n",
       "            datalab: 'nbextensions/gcpdatalab'\n",
       "          }\n",
       "        },\n",
       "      });\n",
       "\n",
       "      require(['datalab/bigquery', 'datalab/element!1_152036997823',\n",
       "          'datalab/style!/nbextensions/gcpdatalab/bigquery.css'],\n",
       "        function(bq, dom) {\n",
       "          bq.renderSchema(dom, [{\"type\": \"STRING\", \"name\": \"title\", \"mode\": \"NULLABLE\"}, {\"type\": \"STRING\", \"name\": \"description\", \"mode\": \"NULLABLE\"}, {\"type\": \"STRING\", \"name\": \"url\", \"mode\": \"NULLABLE\"}, {\"type\": \"STRING\", \"name\": \"crawler\", \"mode\": \"NULLABLE\"}, {\"type\": \"STRING\", \"name\": \"prep_time\", \"mode\": \"NULLABLE\"}, {\"type\": \"STRING\", \"name\": \"cook_time\", \"mode\": \"NULLABLE\"}, {\"type\": \"STRING\", \"name\": \"total_time\", \"mode\": \"NULLABLE\"}, {\"type\": \"STRING\", \"name\": \"yield\", \"mode\": \"NULLABLE\"}, {\"type\": \"STRING\", \"name\": \"source_path\", \"mode\": \"NULLABLE\"}, {\"description\": \"list of ingredients\", \"type\": \"STRING\", \"name\": \"ingredients\", \"mode\": \"REPEATED\"}, {\"description\": \"list of preparation steps\", \"type\": \"STRING\", \"name\": \"preparation\", \"mode\": \"REPEATED\"}, {\"description\": \"list of ingredients entities\", \"type\": \"STRING\", \"name\": \"derived_ingredient_entities\", \"mode\": \"REPEATED\"}, {\"description\": \"list of extracted ingredient amounts\", \"type\": \"STRING\", \"name\": \"derived_ingredient_amount\", \"mode\": \"REPEATED\"}, {\"fields\": [{\"description\": \"social media scores\", \"type\": \"FLOAT\", \"name\": \"social_media\", \"mode\": \"NULLABLE\"}], \"description\": \"social media scores\", \"type\": \"RECORD\", \"name\": \"scores\", \"mode\": \"NULLABLE\"}, {\"description\": \"boolean flag indicating if recipe has an image\", \"type\": \"STRING\", \"name\": \"has_image\", \"mode\": \"NULLABLE\"}, {\"description\": \"meal/course labels\", \"type\": \"STRING\", \"name\": \"derived_labels\", \"mode\": \"NULLABLE\"}, {\"description\": \"health score for recipe\", \"type\": \"FLOAT\", \"name\": \"health_score\", \"mode\": \"NULLABLE\"}, {\"description\": \"dietary tags for recipe\", \"type\": \"STRING\", \"name\": \"diet_tags\", \"mode\": \"REPEATED\"}, {\"description\": \"list of nutrition values\", \"type\": \"STRING\", \"name\": \"nutrition\", \"mode\": \"REPEATED\"}, {\"description\": \"estimated price of the entire recipe\", \"type\": \"STRING\", \"name\": \"price_estimate\", \"mode\": \"NULLABLE\"}, {\"description\": \"estimated language or recipe\", \"type\": \"STRING\", \"name\": \"language\", \"mode\": \"NULLABLE\"}, {\"description\": \"estimated confidence of language inference\", \"type\": \"STRING\", \"name\": \"language_confidence\", \"mode\": \"NULLABLE\"}, {\"description\": \"time recipe is created\", \"type\": \"STRING\", \"name\": \"created_at\", \"mode\": \"NULLABLE\"}, {\"description\": \"time recipe is updated\", \"type\": \"STRING\", \"name\": \"updated_at\", \"mode\": \"NULLABLE\"}, {\"description\": \"recipe id\", \"type\": \"STRING\", \"name\": \"id\", \"mode\": \"NULLABLE\"}, {\"description\": \"estimated price per serving for the recipe\", \"type\": \"STRING\", \"name\": \"price_per_serving\", \"mode\": \"NULLABLE\"}, {\"description\": \"list of extracted ingredient unit of measures\", \"type\": \"STRING\", \"name\": \"derived_ingredient_uom\", \"mode\": \"REPEATED\"}, {\"description\": \"list of derived nutrition values\", \"type\": \"STRING\", \"name\": \"derived_nutrition\", \"mode\": \"REPEATED\"}, {\"description\": \"the primary image as binary data\", \"type\": \"BYTES\", \"name\": \"image\", \"mode\": \"NULLABLE\"}, {\"description\": \"recipe tags as provided by the recipe source\", \"type\": \"STRING\", \"name\": \"tags\", \"mode\": \"REPEATED\"}, {\"description\": \"NRF9.3 nutrition index value\", \"type\": \"FLOAT\", \"name\": \"derived_nutrition_nrf_index\", \"mode\": \"NULLABLE\"}, {\"description\": \"Nutrition algorithm version\", \"type\": \"STRING\", \"name\": \"derived_nutrition_version\", \"mode\": \"NULLABLE\"}, {\"description\": \"Percent of items matched for the recipe\", \"type\": \"FLOAT\", \"name\": \"derived_nutrition_confidence\", \"mode\": \"NULLABLE\"}, {\"description\": \"GCS url of the image\", \"type\": \"STRING\", \"name\": \"image_cache_url\", \"mode\": \"NULLABLE\"}, {\"description\": \"Estimated image appeal score\", \"type\": \"FLOAT\", \"name\": \"image_appeal_score\", \"mode\": \"NULLABLE\"}, {\"description\": \"confidence score that indicates the percent of ingredients that have successfully been matched to items\", \"type\": \"FLOAT\", \"name\": \"derived_fulfillment_confidence\", \"mode\": \"NULLABLE\"}, {\"description\": \"median total price per recipe\", \"type\": \"FLOAT\", \"name\": \"derived_fulfillment_total_price\", \"mode\": \"NULLABLE\"}, {\"description\": \"median consumed price per recipe\", \"type\": \"FLOAT\", \"name\": \"derived_fulfillment_consumed_price\", \"mode\": \"NULLABLE\"}, {\"description\": \"stores and the corresponding number of ingredients from the recipe that can be fulfilled in those stores\", \"type\": \"STRING\", \"name\": \"derived_fulfillment_stores\", \"mode\": \"NULLABLE\"}, {\"description\": \"stores zipcodes and the corresponding number of ingredients from the recipe that can be fulfilled in those stores\", \"type\": \"STRING\", \"name\": \"derived_fulfillment_zipcodes\", \"mode\": \"NULLABLE\"}, {\"description\": \"version of the fulfillment model\", \"type\": \"STRING\", \"name\": \"derived_fulfillment_version\", \"mode\": \"NULLABLE\"}]);\n",
       "        }\n",
       "      );\n",
       "    </script>\n",
       "    "
      ],
      "text/plain": [
       "<IPython.core.display.HTML object>"
      ]
     },
     "execution_count": 5,
     "metadata": {},
     "output_type": "execute_result"
    }
   ],
   "source": [
    "%bigquery schema --table firebase-wellio:recipes.imported_recipes"
   ]
  },
  {
   "cell_type": "markdown",
   "metadata": {},
   "source": [
    "Example of a row of data:\n",
    "\n",
    "```\n",
    "{\"name\": \"Alcohol, ethyl\", \"nutrient_id\": \"221\", \"unit\": \"g\", \"agg_value\": 0.0}\t \n",
    "{\"name\": \"Caffeine\", \"nutrient_id\": \"262\", \"unit\": \"mg\", \"agg_value\": 0.0}\t \n",
    "{\"name\": \"Calcium, Ca\", \"nutrient_id\": \"301\", \"unit\": \"mg\", \"agg_value\": 1313.3905300353488}\t \n",
    "{\"name\": \"Carbohydrate, by difference\", \"nutrient_id\": \"205\", \"unit\": \"g\", \"agg_value\": 162.99052465576816}\t \n",
    "{\"name\": \"Cholesterol\", \"nutrient_id\": \"601\", \"unit\": \"mg\", \"agg_value\": 375.9498823787561}\t \n",
    "{\"name\": \"Energy\", \"nutrient_id\": \"208\", \"unit\": \"kcal\", \"agg_value\": 2333.1553278007873}\t \n",
    "{\"name\": \"Fatty acids, total monounsaturated\", \"nutrient_id\": \"645\", \"unit\": \"g\", \"agg_value\": 45.812315539385196}\t \n",
    "{\"name\": \"Fatty acids, total polyunsaturated\", \"nutrient_id\": \"646\", \"unit\": \"g\", \"agg_value\": 23.205340564004327}\t \n",
    "{\"name\": \"Fatty acids, total saturated\", \"nutrient_id\": \"606\", \"unit\": \"g\", \"agg_value\": 49.405855655327926}\t \n",
    "{\"name\": \"Fatty acids, total trans\", \"nutrient_id\": \"605\", \"unit\": \"g\", \"agg_value\": 0.03039770861878195}\t \n",
    "{\"name\": \"Fiber, total dietary\", \"nutrient_id\": \"291\", \"unit\": \"g\", \"agg_value\": 30.928357548404282}\t \n",
    "{\"name\": \"Iron, Fe\", \"nutrient_id\": \"303\", \"unit\": \"mg\", \"agg_value\": 14.117875369935824}\t \n",
    "{\"name\": \"Magnesium, Mg\", \"nutrient_id\": \"304\", \"unit\": \"mg\", \"agg_value\": 323.6146339264634}\t \n",
    "{\"name\": \"Potassium, K\", \"nutrient_id\": \"306\", \"unit\": \"mg\", \"agg_value\": 4182.024917283204}\t \n",
    "{\"name\": \"Protein\", \"nutrient_id\": \"203\", \"unit\": \"g\", \"agg_value\": 134.36223258379204}\t \n",
    "{\"name\": \"Sodium, Na\", \"nutrient_id\": \"307\", \"unit\": \"mg\", \"agg_value\": 3643.3221832455997}\t \n",
    "{\"name\": \"Sugars, total\", \"nutrient_id\": \"269\", \"unit\": \"g\", \"agg_value\": 27.08103267541787}\t \n",
    "{\"name\": \"Total lipid (fat)\", \"nutrient_id\": \"204\", \"unit\": \"g\", \"agg_value\": 133.7551269233669}\t \n",
    "{\"name\": \"Vitamin A, IU\", \"nutrient_id\": \"318\", \"unit\": \"IU\", \"agg_value\": 49854.13482607046}\t \n",
    "{\"name\": \"Vitamin C, total absorbic acid\", \"nutrient_id\": \"401\", \"unit\": \"mg\", \"agg_value\": 415.64417814608424}\t \n",
    "{\"name\": \"Vitamin E (alpha-tocopherol)\", \"nutrient_id\": \"323\", \"unit\": \"mg\", \"agg_value\": 12.62523061622084}\n",
    "```"
   ]
  },
  {
   "cell_type": "markdown",
   "metadata": {},
   "source": [
    "Extracting `derived_nutrition_version`."
   ]
  },
  {
   "cell_type": "code",
   "execution_count": 6,
   "metadata": {
    "collapsed": true
   },
   "outputs": [],
   "source": [
    "%%sql --module derived_nutrition_versions\n",
    "SELECT\n",
    "INTEGER(RIGHT(derived_nutrition_version, LENGTH(derived_nutrition_version)-1)) AS nutrition_version\n",
    "FROM [firebase-wellio:recipes.imported_recipes]\n",
    "GROUP BY nutrition_version\n",
    "ORDER BY nutrition_version DESC"
   ]
  },
  {
   "cell_type": "code",
   "execution_count": 7,
   "metadata": {
    "collapsed": false
   },
   "outputs": [
    {
     "data": {
      "text/html": [
       "\n",
       "    <div class=\"bqtv\" id=\"2_152036998727\"><table><tr><th>nutrition_version</th></tr><tr><td>10</td></tr><tr><td>9</td></tr><tr><td>8</td></tr><tr><td>7</td></tr><tr><td>6</td></tr><tr><td>5</td></tr><tr><td>2</td></tr><tr><td>&nbsp;</td></tr></table></div>\n",
       "    <br />(rows: 8, time: 1.2s,    68MB processed, job: job_YrRx9_XCoGMYp_bJ7Ywp85UZjooJ)<br />\n",
       "    <script src=\"/static/components/requirejs/require.js\"></script>\n",
       "    <script>\n",
       "\n",
       "      require.config({\n",
       "        paths: {\n",
       "          base: '/static/base',\n",
       "          d3: '//cdnjs.cloudflare.com/ajax/libs/d3/3.4.13/d3',\n",
       "          plotly: 'https://cdn.plot.ly/plotly-1.5.1.min.js?noext',\n",
       "          jquery: '//ajax.googleapis.com/ajax/libs/jquery/2.0.0/jquery.min'\n",
       "        },\n",
       "        map: {\n",
       "          '*': {\n",
       "            datalab: 'nbextensions/gcpdatalab'\n",
       "          }\n",
       "        },\n",
       "        shim: {\n",
       "          plotly: {\n",
       "            deps: ['d3', 'jquery'],\n",
       "            exports: 'plotly'\n",
       "          }\n",
       "        }\n",
       "      });\n",
       "\n",
       "      require(['datalab/charting', 'datalab/element!2_152036998727', 'base/js/events',\n",
       "          'datalab/style!/nbextensions/gcpdatalab/charting.css'],\n",
       "        function(charts, dom, events) {\n",
       "          charts.render('gcharts', dom, events, 'table', [], {\"rows\": [{\"c\": [{\"v\": 10}]}, {\"c\": [{\"v\": 9}]}, {\"c\": [{\"v\": 8}]}, {\"c\": [{\"v\": 7}]}, {\"c\": [{\"v\": 6}]}, {\"c\": [{\"v\": 5}]}, {\"c\": [{\"v\": 2}]}, {\"c\": [{\"v\": null}]}], \"cols\": [{\"type\": \"number\", \"id\": \"nutrition_version\", \"label\": \"nutrition_version\"}]},\n",
       "            {\n",
       "              pageSize: 25,\n",
       "              cssClassNames:  {\n",
       "                tableRow: 'gchart-table-row',\n",
       "                headerRow: 'gchart-table-headerrow',\n",
       "                oddTableRow: 'gchart-table-oddrow',\n",
       "                selectedTableRow: 'gchart-table-selectedrow',\n",
       "                hoverTableRow: 'gchart-table-hoverrow',\n",
       "                tableCell: 'gchart-table-cell',\n",
       "                headerCell: 'gchart-table-headercell',\n",
       "                rowNumberCell: 'gchart-table-rownumcell'\n",
       "              }\n",
       "            },\n",
       "            {source_index: 0, fields: 'nutrition_version', legacy: 'true'},\n",
       "            0,\n",
       "            8);\n",
       "        }\n",
       "      );\n",
       "    </script>\n",
       "  "
      ],
      "text/plain": [
       "QueryResultsTable job_YrRx9_XCoGMYp_bJ7Ywp85UZjooJ"
      ]
     },
     "execution_count": 7,
     "metadata": {},
     "output_type": "execute_result"
    }
   ],
   "source": [
    "%%bigquery execute -q derived_nutrition_versions"
   ]
  },
  {
   "cell_type": "markdown",
   "metadata": {},
   "source": [
    "Latest nutrition version is 10. We will need to specify this version in our BigQuery's to get only the recipes with such attribute and avoid duplicates."
   ]
  },
  {
   "cell_type": "markdown",
   "metadata": {},
   "source": [
    "#### Extracting cholesterol from `derived_nutrition` column. Note that we use URLs from domain `epicurious.com` as they always have `derived_nutrition`."
   ]
  },
  {
   "cell_type": "code",
   "execution_count": 8,
   "metadata": {
    "collapsed": false
   },
   "outputs": [],
   "source": [
    "%%sql --module epicurious_cholesterol_derived_nutrition\n",
    "SELECT url, derived_nutrition AS cholesterol\n",
    "FROM [firebase-wellio:recipes.imported_recipes]\n",
    "WHERE url LIKE '%epicurious.com%' AND derived_nutrition IS NOT NULL AND INTEGER(RIGHT(derived_nutrition_version, \n",
    "  LENGTH(derived_nutrition_version)-1)) = 10 AND derived_nutrition LIKE '%\"name\": \"Cholesterol\"%'"
   ]
  },
  {
   "cell_type": "code",
   "execution_count": 9,
   "metadata": {
    "collapsed": false
   },
   "outputs": [
    {
     "data": {
      "text/html": [
       "\n",
       "    <div class=\"bqtv\" id=\"3_152037000320\"><table><tr><th>url</th><th>cholesterol</th></tr><tr><td>https://www.epicurious.com/recipes/food/views/classic-shortbread-236614</td><td>{\"name\": \"Cholesterol\", \"nutrient_id\": \"601\", \"unit\": \"mg\", \"agg_value\": 3.280346669839574}</td></tr><tr><td>http://www.epicurious.com/recipes/food/views/roasted-asparagus-365157</td><td>{\"name\": \"Cholesterol\", \"nutrient_id\": \"601\", \"unit\": \"mg\", \"agg_value\": 0.0}</td></tr><tr><td>http://www.epicurious.com/recipes/food/views/chocolate-dipped-spritz-washboards-with-pistachios-387471</td><td>{\"name\": \"Cholesterol\", \"nutrient_id\": \"601\", \"unit\": \"mg\", \"agg_value\": 1.774576560623037}</td></tr><tr><td>http://www.epicurious.com/recipes/food/views/Chocolate-Dipped-Frozen-Banana-Bites-352009</td><td>{\"name\": \"Cholesterol\", \"nutrient_id\": \"601\", \"unit\": \"mg\", \"agg_value\": 14.924024587711942}</td></tr><tr><td>http://www.epicurious.com/recipes/food/views/pasta-with-tomatoes-and-goat-cheese-103833</td><td>{\"name\": \"Cholesterol\", \"nutrient_id\": \"601\", \"unit\": \"mg\", \"agg_value\": 39.73765273399988}</td></tr><tr><td>https://www.epicurious.com/recipes/food/views/corpse-reviver-235963</td><td>{\"name\": \"Cholesterol\", \"nutrient_id\": \"601\", \"unit\": \"mg\", \"agg_value\": 0.0}</td></tr><tr><td>https://www.epicurious.com/recipes/food/views/balsamic-pan-sauce-233411</td><td>{\"name\": \"Cholesterol\", \"nutrient_id\": \"601\", \"unit\": \"mg\", \"agg_value\": 8.494960939383152}</td></tr><tr><td>http://www.epicurious.com/recipes/food/views/parmesan-roasted-butternut-squash-350608</td><td>{\"name\": \"Cholesterol\", \"nutrient_id\": \"601\", \"unit\": \"mg\", \"agg_value\": 121.05557522488652}</td></tr><tr><td>http://www.epicurious.com/recipes/food/views/crisp-roast-duck-235744</td><td>{\"name\": \"Cholesterol\", \"nutrient_id\": \"601\", \"unit\": \"mg\", \"agg_value\": 1903.1521762544312}</td></tr><tr><td>https://www.epicurious.com/recipes/food/views/pickled-quail-eggs-237314</td><td>{\"name\": \"Cholesterol\", \"nutrient_id\": \"601\", \"unit\": \"mg\", \"agg_value\": 68.4614111212819}</td></tr><tr><td>https://www.epicurious.com/recipes/food/views/bloody-mary-martinis-236030</td><td>{\"name\": \"Cholesterol\", \"nutrient_id\": \"601\", \"unit\": \"mg\", \"agg_value\": 143.82581622489485}</td></tr><tr><td>https://www.epicurious.com/recipes/food/views/double-chocolate-ginger-shortbread-236616</td><td>{\"name\": \"Cholesterol\", \"nutrient_id\": \"601\", \"unit\": \"mg\", \"agg_value\": 12.523722908009166}</td></tr><tr><td>http://www.epicurious.com/recipes/food/views/bearnaise-sauce-395049</td><td>{\"name\": \"Cholesterol\", \"nutrient_id\": \"601\", \"unit\": \"mg\", \"agg_value\": 1117.0290840309256}</td></tr><tr><td>http://www.epicurious.com/recipes/food/views/poblano-potato-gratin-350596</td><td>{\"name\": \"Cholesterol\", \"nutrient_id\": \"601\", \"unit\": \"mg\", \"agg_value\": 524.2140581486004}</td></tr><tr><td>http://www.epicurious.com/recipes/food/views/bittersweet-chocolate-pecan-pie-240605</td><td>{\"name\": \"Cholesterol\", \"nutrient_id\": \"601\", \"unit\": \"mg\", \"agg_value\": 158.3123407564052}</td></tr><tr><td>http://www.epicurious.com/recipes/food/views/salted-caramel-ice-cream-354517</td><td>{\"name\": \"Cholesterol\", \"nutrient_id\": \"601\", \"unit\": \"mg\", \"agg_value\": 614.0324253701974}</td></tr><tr><td>http://www.epicurious.com/recipes/food/views/cranberry-cherry-compote</td><td>{\"name\": \"Cholesterol\", \"nutrient_id\": \"601\", \"unit\": \"mg\", \"agg_value\": 0.0}</td></tr><tr><td>https://www.epicurious.com/recipes/food/views/parmesan-hash-browns-237670</td><td>{\"name\": \"Cholesterol\", \"nutrient_id\": \"601\", \"unit\": \"mg\", \"agg_value\": 191.26705954301914}</td></tr><tr><td>https://www.epicurious.com/recipes/food/views/brandied-giblet-gravy-236226</td><td>{\"name\": \"Cholesterol\", \"nutrient_id\": \"601\", \"unit\": \"mg\", \"agg_value\": 25106.679485090128}</td></tr><tr><td>https://www.epicurious.com/recipes/member/views/bacon-wrapped-cheese-mushroom-stuffed-chicken-56f1e1647c0da8dc28f3f917</td><td>{\"name\": \"Cholesterol\", \"nutrient_id\": \"601\", \"unit\": \"mg\", \"agg_value\": 808.5114723936721}</td></tr><tr><td>https://www.epicurious.com/recipes/member/views/bacon-wrapped-cheese-mushroom-stuffed-chicken-56f1e1647c0da8dc28f3f917</td><td>{\"name\": \"Cholesterol\", \"nutrient_id\": \"601\", \"unit\": \"mg\", \"agg_value\": 805.2930817058837}</td></tr><tr><td>http://www.epicurious.com/recipes/food/views/Fudgy-Meringue-Cookies-364072</td><td>{\"name\": \"Cholesterol\", \"nutrient_id\": \"601\", \"unit\": \"mg\", \"agg_value\": 1094.5252437533993}</td></tr><tr><td>http://www.epicurious.com/recipes/food/views/scottish-oatcakes-100408</td><td>{\"name\": \"Cholesterol\", \"nutrient_id\": \"601\", \"unit\": \"mg\", \"agg_value\": 10.310294123219832}</td></tr><tr><td>http://www.epicurious.com/recipes/food/views/caramelized-onion-tartlets-230744</td><td>{\"name\": \"Cholesterol\", \"nutrient_id\": \"601\", \"unit\": \"mg\", \"agg_value\": 73.07382847734328}</td></tr><tr><td>http://www.epicurious.com/recipes/food/views/strawberry-and-peach-sangria-232542</td><td>{\"name\": \"Cholesterol\", \"nutrient_id\": \"601\", \"unit\": \"mg\", \"agg_value\": 2.8268672081834283}</td></tr></table></div>\n",
       "    <br />(rows: 654951, time: 8.8s,    33GB processed, job: job_mnOnfsSPOgtgF4Ka-FCaYV-KFgsn)<br />\n",
       "    <script src=\"/static/components/requirejs/require.js\"></script>\n",
       "    <script>\n",
       "\n",
       "      require.config({\n",
       "        paths: {\n",
       "          base: '/static/base',\n",
       "          d3: '//cdnjs.cloudflare.com/ajax/libs/d3/3.4.13/d3',\n",
       "          plotly: 'https://cdn.plot.ly/plotly-1.5.1.min.js?noext',\n",
       "          jquery: '//ajax.googleapis.com/ajax/libs/jquery/2.0.0/jquery.min'\n",
       "        },\n",
       "        map: {\n",
       "          '*': {\n",
       "            datalab: 'nbextensions/gcpdatalab'\n",
       "          }\n",
       "        },\n",
       "        shim: {\n",
       "          plotly: {\n",
       "            deps: ['d3', 'jquery'],\n",
       "            exports: 'plotly'\n",
       "          }\n",
       "        }\n",
       "      });\n",
       "\n",
       "      require(['datalab/charting', 'datalab/element!3_152037000320', 'base/js/events',\n",
       "          'datalab/style!/nbextensions/gcpdatalab/charting.css'],\n",
       "        function(charts, dom, events) {\n",
       "          charts.render('gcharts', dom, events, 'paged_table', [], {\"rows\": [{\"c\": [{\"v\": \"https://www.epicurious.com/recipes/food/views/classic-shortbread-236614\"}, {\"v\": \"{\\\"name\\\": \\\"Cholesterol\\\", \\\"nutrient_id\\\": \\\"601\\\", \\\"unit\\\": \\\"mg\\\", \\\"agg_value\\\": 3.280346669839574}\"}]}, {\"c\": [{\"v\": \"http://www.epicurious.com/recipes/food/views/roasted-asparagus-365157\"}, {\"v\": \"{\\\"name\\\": \\\"Cholesterol\\\", \\\"nutrient_id\\\": \\\"601\\\", \\\"unit\\\": \\\"mg\\\", \\\"agg_value\\\": 0.0}\"}]}, {\"c\": [{\"v\": \"http://www.epicurious.com/recipes/food/views/chocolate-dipped-spritz-washboards-with-pistachios-387471\"}, {\"v\": \"{\\\"name\\\": \\\"Cholesterol\\\", \\\"nutrient_id\\\": \\\"601\\\", \\\"unit\\\": \\\"mg\\\", \\\"agg_value\\\": 1.774576560623037}\"}]}, {\"c\": [{\"v\": \"http://www.epicurious.com/recipes/food/views/Chocolate-Dipped-Frozen-Banana-Bites-352009\"}, {\"v\": \"{\\\"name\\\": \\\"Cholesterol\\\", \\\"nutrient_id\\\": \\\"601\\\", \\\"unit\\\": \\\"mg\\\", \\\"agg_value\\\": 14.924024587711942}\"}]}, {\"c\": [{\"v\": \"http://www.epicurious.com/recipes/food/views/pasta-with-tomatoes-and-goat-cheese-103833\"}, {\"v\": \"{\\\"name\\\": \\\"Cholesterol\\\", \\\"nutrient_id\\\": \\\"601\\\", \\\"unit\\\": \\\"mg\\\", \\\"agg_value\\\": 39.73765273399988}\"}]}, {\"c\": [{\"v\": \"https://www.epicurious.com/recipes/food/views/corpse-reviver-235963\"}, {\"v\": \"{\\\"name\\\": \\\"Cholesterol\\\", \\\"nutrient_id\\\": \\\"601\\\", \\\"unit\\\": \\\"mg\\\", \\\"agg_value\\\": 0.0}\"}]}, {\"c\": [{\"v\": \"https://www.epicurious.com/recipes/food/views/balsamic-pan-sauce-233411\"}, {\"v\": \"{\\\"name\\\": \\\"Cholesterol\\\", \\\"nutrient_id\\\": \\\"601\\\", \\\"unit\\\": \\\"mg\\\", \\\"agg_value\\\": 8.494960939383152}\"}]}, {\"c\": [{\"v\": \"http://www.epicurious.com/recipes/food/views/parmesan-roasted-butternut-squash-350608\"}, {\"v\": \"{\\\"name\\\": \\\"Cholesterol\\\", \\\"nutrient_id\\\": \\\"601\\\", \\\"unit\\\": \\\"mg\\\", \\\"agg_value\\\": 121.05557522488652}\"}]}, {\"c\": [{\"v\": \"http://www.epicurious.com/recipes/food/views/crisp-roast-duck-235744\"}, {\"v\": \"{\\\"name\\\": \\\"Cholesterol\\\", \\\"nutrient_id\\\": \\\"601\\\", \\\"unit\\\": \\\"mg\\\", \\\"agg_value\\\": 1903.1521762544312}\"}]}, {\"c\": [{\"v\": \"https://www.epicurious.com/recipes/food/views/pickled-quail-eggs-237314\"}, {\"v\": \"{\\\"name\\\": \\\"Cholesterol\\\", \\\"nutrient_id\\\": \\\"601\\\", \\\"unit\\\": \\\"mg\\\", \\\"agg_value\\\": 68.4614111212819}\"}]}, {\"c\": [{\"v\": \"https://www.epicurious.com/recipes/food/views/bloody-mary-martinis-236030\"}, {\"v\": \"{\\\"name\\\": \\\"Cholesterol\\\", \\\"nutrient_id\\\": \\\"601\\\", \\\"unit\\\": \\\"mg\\\", \\\"agg_value\\\": 143.82581622489485}\"}]}, {\"c\": [{\"v\": \"https://www.epicurious.com/recipes/food/views/double-chocolate-ginger-shortbread-236616\"}, {\"v\": \"{\\\"name\\\": \\\"Cholesterol\\\", \\\"nutrient_id\\\": \\\"601\\\", \\\"unit\\\": \\\"mg\\\", \\\"agg_value\\\": 12.523722908009166}\"}]}, {\"c\": [{\"v\": \"http://www.epicurious.com/recipes/food/views/bearnaise-sauce-395049\"}, {\"v\": \"{\\\"name\\\": \\\"Cholesterol\\\", \\\"nutrient_id\\\": \\\"601\\\", \\\"unit\\\": \\\"mg\\\", \\\"agg_value\\\": 1117.0290840309256}\"}]}, {\"c\": [{\"v\": \"http://www.epicurious.com/recipes/food/views/poblano-potato-gratin-350596\"}, {\"v\": \"{\\\"name\\\": \\\"Cholesterol\\\", \\\"nutrient_id\\\": \\\"601\\\", \\\"unit\\\": \\\"mg\\\", \\\"agg_value\\\": 524.2140581486004}\"}]}, {\"c\": [{\"v\": \"http://www.epicurious.com/recipes/food/views/bittersweet-chocolate-pecan-pie-240605\"}, {\"v\": \"{\\\"name\\\": \\\"Cholesterol\\\", \\\"nutrient_id\\\": \\\"601\\\", \\\"unit\\\": \\\"mg\\\", \\\"agg_value\\\": 158.3123407564052}\"}]}, {\"c\": [{\"v\": \"http://www.epicurious.com/recipes/food/views/salted-caramel-ice-cream-354517\"}, {\"v\": \"{\\\"name\\\": \\\"Cholesterol\\\", \\\"nutrient_id\\\": \\\"601\\\", \\\"unit\\\": \\\"mg\\\", \\\"agg_value\\\": 614.0324253701974}\"}]}, {\"c\": [{\"v\": \"http://www.epicurious.com/recipes/food/views/cranberry-cherry-compote\"}, {\"v\": \"{\\\"name\\\": \\\"Cholesterol\\\", \\\"nutrient_id\\\": \\\"601\\\", \\\"unit\\\": \\\"mg\\\", \\\"agg_value\\\": 0.0}\"}]}, {\"c\": [{\"v\": \"https://www.epicurious.com/recipes/food/views/parmesan-hash-browns-237670\"}, {\"v\": \"{\\\"name\\\": \\\"Cholesterol\\\", \\\"nutrient_id\\\": \\\"601\\\", \\\"unit\\\": \\\"mg\\\", \\\"agg_value\\\": 191.26705954301914}\"}]}, {\"c\": [{\"v\": \"https://www.epicurious.com/recipes/food/views/brandied-giblet-gravy-236226\"}, {\"v\": \"{\\\"name\\\": \\\"Cholesterol\\\", \\\"nutrient_id\\\": \\\"601\\\", \\\"unit\\\": \\\"mg\\\", \\\"agg_value\\\": 25106.679485090128}\"}]}, {\"c\": [{\"v\": \"https://www.epicurious.com/recipes/member/views/bacon-wrapped-cheese-mushroom-stuffed-chicken-56f1e1647c0da8dc28f3f917\"}, {\"v\": \"{\\\"name\\\": \\\"Cholesterol\\\", \\\"nutrient_id\\\": \\\"601\\\", \\\"unit\\\": \\\"mg\\\", \\\"agg_value\\\": 808.5114723936721}\"}]}, {\"c\": [{\"v\": \"https://www.epicurious.com/recipes/member/views/bacon-wrapped-cheese-mushroom-stuffed-chicken-56f1e1647c0da8dc28f3f917\"}, {\"v\": \"{\\\"name\\\": \\\"Cholesterol\\\", \\\"nutrient_id\\\": \\\"601\\\", \\\"unit\\\": \\\"mg\\\", \\\"agg_value\\\": 805.2930817058837}\"}]}, {\"c\": [{\"v\": \"http://www.epicurious.com/recipes/food/views/Fudgy-Meringue-Cookies-364072\"}, {\"v\": \"{\\\"name\\\": \\\"Cholesterol\\\", \\\"nutrient_id\\\": \\\"601\\\", \\\"unit\\\": \\\"mg\\\", \\\"agg_value\\\": 1094.5252437533993}\"}]}, {\"c\": [{\"v\": \"http://www.epicurious.com/recipes/food/views/scottish-oatcakes-100408\"}, {\"v\": \"{\\\"name\\\": \\\"Cholesterol\\\", \\\"nutrient_id\\\": \\\"601\\\", \\\"unit\\\": \\\"mg\\\", \\\"agg_value\\\": 10.310294123219832}\"}]}, {\"c\": [{\"v\": \"http://www.epicurious.com/recipes/food/views/caramelized-onion-tartlets-230744\"}, {\"v\": \"{\\\"name\\\": \\\"Cholesterol\\\", \\\"nutrient_id\\\": \\\"601\\\", \\\"unit\\\": \\\"mg\\\", \\\"agg_value\\\": 73.07382847734328}\"}]}, {\"c\": [{\"v\": \"http://www.epicurious.com/recipes/food/views/strawberry-and-peach-sangria-232542\"}, {\"v\": \"{\\\"name\\\": \\\"Cholesterol\\\", \\\"nutrient_id\\\": \\\"601\\\", \\\"unit\\\": \\\"mg\\\", \\\"agg_value\\\": 2.8268672081834283}\"}]}], \"cols\": [{\"type\": \"string\", \"id\": \"url\", \"label\": \"url\"}, {\"type\": \"string\", \"id\": \"cholesterol\", \"label\": \"cholesterol\"}]},\n",
       "            {\n",
       "              pageSize: 25,\n",
       "              cssClassNames:  {\n",
       "                tableRow: 'gchart-table-row',\n",
       "                headerRow: 'gchart-table-headerrow',\n",
       "                oddTableRow: 'gchart-table-oddrow',\n",
       "                selectedTableRow: 'gchart-table-selectedrow',\n",
       "                hoverTableRow: 'gchart-table-hoverrow',\n",
       "                tableCell: 'gchart-table-cell',\n",
       "                headerCell: 'gchart-table-headercell',\n",
       "                rowNumberCell: 'gchart-table-rownumcell'\n",
       "              }\n",
       "            },\n",
       "            {source_index: 1, fields: 'url,cholesterol', legacy: 'true'},\n",
       "            0,\n",
       "            654951);\n",
       "        }\n",
       "      );\n",
       "    </script>\n",
       "  "
      ],
      "text/plain": [
       "QueryResultsTable job_mnOnfsSPOgtgF4Ka-FCaYV-KFgsn"
      ]
     },
     "execution_count": 9,
     "metadata": {},
     "output_type": "execute_result"
    }
   ],
   "source": [
    "%%bigquery execute -q epicurious_cholesterol_derived_nutrition"
   ]
  },
  {
   "cell_type": "markdown",
   "metadata": {},
   "source": [
    "Export data to pandas dataframe."
   ]
  },
  {
   "cell_type": "code",
   "execution_count": 10,
   "metadata": {
    "collapsed": true
   },
   "outputs": [],
   "source": [
    "epicurious_derived_cholesterol_df = bq.Query(epicurious_cholesterol_derived_nutrition).to_dataframe()"
   ]
  },
  {
   "cell_type": "markdown",
   "metadata": {},
   "source": [
    "How many rows of data?"
   ]
  },
  {
   "cell_type": "code",
   "execution_count": 11,
   "metadata": {
    "collapsed": false
   },
   "outputs": [
    {
     "data": {
      "text/plain": [
       "654951"
      ]
     },
     "execution_count": 11,
     "metadata": {},
     "output_type": "execute_result"
    }
   ],
   "source": [
    "epicurious_derived_cholesterol_df.shape[0]"
   ]
  },
  {
   "cell_type": "code",
   "execution_count": 12,
   "metadata": {
    "collapsed": false
   },
   "outputs": [
    {
     "data": {
      "text/html": [
       "<div>\n",
       "<style scoped>\n",
       "    .dataframe tbody tr th:only-of-type {\n",
       "        vertical-align: middle;\n",
       "    }\n",
       "\n",
       "    .dataframe tbody tr th {\n",
       "        vertical-align: top;\n",
       "    }\n",
       "\n",
       "    .dataframe thead th {\n",
       "        text-align: right;\n",
       "    }\n",
       "</style>\n",
       "<table border=\"1\" class=\"dataframe\">\n",
       "  <thead>\n",
       "    <tr style=\"text-align: right;\">\n",
       "      <th></th>\n",
       "      <th>url</th>\n",
       "      <th>cholesterol</th>\n",
       "    </tr>\n",
       "  </thead>\n",
       "  <tbody>\n",
       "    <tr>\n",
       "      <th>0</th>\n",
       "      <td>https://www.epicurious.com/recipes/food/views/classic-shortbread-236614</td>\n",
       "      <td>{\"name\": \"Cholesterol\", \"nutrient_id\": \"601\", \"unit\": \"mg\", \"agg_value\": 3.280346669839574}</td>\n",
       "    </tr>\n",
       "    <tr>\n",
       "      <th>1</th>\n",
       "      <td>http://www.epicurious.com/recipes/food/views/roasted-asparagus-365157</td>\n",
       "      <td>{\"name\": \"Cholesterol\", \"nutrient_id\": \"601\", \"unit\": \"mg\", \"agg_value\": 0.0}</td>\n",
       "    </tr>\n",
       "    <tr>\n",
       "      <th>2</th>\n",
       "      <td>http://www.epicurious.com/recipes/food/views/chocolate-dipped-spritz-washboards-with-pistachios-387471</td>\n",
       "      <td>{\"name\": \"Cholesterol\", \"nutrient_id\": \"601\", \"unit\": \"mg\", \"agg_value\": 1.774576560623037}</td>\n",
       "    </tr>\n",
       "    <tr>\n",
       "      <th>3</th>\n",
       "      <td>http://www.epicurious.com/recipes/food/views/Chocolate-Dipped-Frozen-Banana-Bites-352009</td>\n",
       "      <td>{\"name\": \"Cholesterol\", \"nutrient_id\": \"601\", \"unit\": \"mg\", \"agg_value\": 14.924024587711942}</td>\n",
       "    </tr>\n",
       "    <tr>\n",
       "      <th>4</th>\n",
       "      <td>http://www.epicurious.com/recipes/food/views/pasta-with-tomatoes-and-goat-cheese-103833</td>\n",
       "      <td>{\"name\": \"Cholesterol\", \"nutrient_id\": \"601\", \"unit\": \"mg\", \"agg_value\": 39.73765273399988}</td>\n",
       "    </tr>\n",
       "  </tbody>\n",
       "</table>\n",
       "</div>"
      ],
      "text/plain": [
       "                                                                                                      url  \\\n",
       "0  https://www.epicurious.com/recipes/food/views/classic-shortbread-236614                                  \n",
       "1  http://www.epicurious.com/recipes/food/views/roasted-asparagus-365157                                    \n",
       "2  http://www.epicurious.com/recipes/food/views/chocolate-dipped-spritz-washboards-with-pistachios-387471   \n",
       "3  http://www.epicurious.com/recipes/food/views/Chocolate-Dipped-Frozen-Banana-Bites-352009                 \n",
       "4  http://www.epicurious.com/recipes/food/views/pasta-with-tomatoes-and-goat-cheese-103833                  \n",
       "\n",
       "                                                                                    cholesterol  \n",
       "0  {\"name\": \"Cholesterol\", \"nutrient_id\": \"601\", \"unit\": \"mg\", \"agg_value\": 3.280346669839574}   \n",
       "1  {\"name\": \"Cholesterol\", \"nutrient_id\": \"601\", \"unit\": \"mg\", \"agg_value\": 0.0}                 \n",
       "2  {\"name\": \"Cholesterol\", \"nutrient_id\": \"601\", \"unit\": \"mg\", \"agg_value\": 1.774576560623037}   \n",
       "3  {\"name\": \"Cholesterol\", \"nutrient_id\": \"601\", \"unit\": \"mg\", \"agg_value\": 14.924024587711942}  \n",
       "4  {\"name\": \"Cholesterol\", \"nutrient_id\": \"601\", \"unit\": \"mg\", \"agg_value\": 39.73765273399988}   "
      ]
     },
     "execution_count": 12,
     "metadata": {},
     "output_type": "execute_result"
    }
   ],
   "source": [
    "epicurious_derived_cholesterol_df.head()"
   ]
  },
  {
   "cell_type": "markdown",
   "metadata": {},
   "source": [
    "Extracting numeric value of calories using regex."
   ]
  },
  {
   "cell_type": "code",
   "execution_count": 13,
   "metadata": {
    "collapsed": false
   },
   "outputs": [],
   "source": [
    "epicurious_derived_cholesterol_df['cholesterol_amount'] = epicurious_derived_cholesterol_df['cholesterol'].str.extract('\"agg_value\": ([0-9]+.[0-9]+)', expand=True)"
   ]
  },
  {
   "cell_type": "code",
   "execution_count": 14,
   "metadata": {
    "collapsed": false
   },
   "outputs": [
    {
     "data": {
      "text/html": [
       "<div>\n",
       "<style scoped>\n",
       "    .dataframe tbody tr th:only-of-type {\n",
       "        vertical-align: middle;\n",
       "    }\n",
       "\n",
       "    .dataframe tbody tr th {\n",
       "        vertical-align: top;\n",
       "    }\n",
       "\n",
       "    .dataframe thead th {\n",
       "        text-align: right;\n",
       "    }\n",
       "</style>\n",
       "<table border=\"1\" class=\"dataframe\">\n",
       "  <thead>\n",
       "    <tr style=\"text-align: right;\">\n",
       "      <th></th>\n",
       "      <th>url</th>\n",
       "      <th>cholesterol</th>\n",
       "      <th>cholesterol_amount</th>\n",
       "    </tr>\n",
       "  </thead>\n",
       "  <tbody>\n",
       "    <tr>\n",
       "      <th>0</th>\n",
       "      <td>https://www.epicurious.com/recipes/food/views/classic-shortbread-236614</td>\n",
       "      <td>{\"name\": \"Cholesterol\", \"nutrient_id\": \"601\", \"unit\": \"mg\", \"agg_value\": 3.280346669839574}</td>\n",
       "      <td>3.280346669839574</td>\n",
       "    </tr>\n",
       "    <tr>\n",
       "      <th>1</th>\n",
       "      <td>http://www.epicurious.com/recipes/food/views/roasted-asparagus-365157</td>\n",
       "      <td>{\"name\": \"Cholesterol\", \"nutrient_id\": \"601\", \"unit\": \"mg\", \"agg_value\": 0.0}</td>\n",
       "      <td>0.0</td>\n",
       "    </tr>\n",
       "    <tr>\n",
       "      <th>2</th>\n",
       "      <td>http://www.epicurious.com/recipes/food/views/chocolate-dipped-spritz-washboards-with-pistachios-387471</td>\n",
       "      <td>{\"name\": \"Cholesterol\", \"nutrient_id\": \"601\", \"unit\": \"mg\", \"agg_value\": 1.774576560623037}</td>\n",
       "      <td>1.774576560623037</td>\n",
       "    </tr>\n",
       "    <tr>\n",
       "      <th>3</th>\n",
       "      <td>http://www.epicurious.com/recipes/food/views/Chocolate-Dipped-Frozen-Banana-Bites-352009</td>\n",
       "      <td>{\"name\": \"Cholesterol\", \"nutrient_id\": \"601\", \"unit\": \"mg\", \"agg_value\": 14.924024587711942}</td>\n",
       "      <td>14.924024587711942</td>\n",
       "    </tr>\n",
       "    <tr>\n",
       "      <th>4</th>\n",
       "      <td>http://www.epicurious.com/recipes/food/views/pasta-with-tomatoes-and-goat-cheese-103833</td>\n",
       "      <td>{\"name\": \"Cholesterol\", \"nutrient_id\": \"601\", \"unit\": \"mg\", \"agg_value\": 39.73765273399988}</td>\n",
       "      <td>39.73765273399988</td>\n",
       "    </tr>\n",
       "  </tbody>\n",
       "</table>\n",
       "</div>"
      ],
      "text/plain": [
       "                                                                                                      url  \\\n",
       "0  https://www.epicurious.com/recipes/food/views/classic-shortbread-236614                                  \n",
       "1  http://www.epicurious.com/recipes/food/views/roasted-asparagus-365157                                    \n",
       "2  http://www.epicurious.com/recipes/food/views/chocolate-dipped-spritz-washboards-with-pistachios-387471   \n",
       "3  http://www.epicurious.com/recipes/food/views/Chocolate-Dipped-Frozen-Banana-Bites-352009                 \n",
       "4  http://www.epicurious.com/recipes/food/views/pasta-with-tomatoes-and-goat-cheese-103833                  \n",
       "\n",
       "                                                                                    cholesterol  \\\n",
       "0  {\"name\": \"Cholesterol\", \"nutrient_id\": \"601\", \"unit\": \"mg\", \"agg_value\": 3.280346669839574}    \n",
       "1  {\"name\": \"Cholesterol\", \"nutrient_id\": \"601\", \"unit\": \"mg\", \"agg_value\": 0.0}                  \n",
       "2  {\"name\": \"Cholesterol\", \"nutrient_id\": \"601\", \"unit\": \"mg\", \"agg_value\": 1.774576560623037}    \n",
       "3  {\"name\": \"Cholesterol\", \"nutrient_id\": \"601\", \"unit\": \"mg\", \"agg_value\": 14.924024587711942}   \n",
       "4  {\"name\": \"Cholesterol\", \"nutrient_id\": \"601\", \"unit\": \"mg\", \"agg_value\": 39.73765273399988}    \n",
       "\n",
       "   cholesterol_amount  \n",
       "0  3.280346669839574   \n",
       "1  0.0                 \n",
       "2  1.774576560623037   \n",
       "3  14.924024587711942  \n",
       "4  39.73765273399988   "
      ]
     },
     "execution_count": 14,
     "metadata": {},
     "output_type": "execute_result"
    }
   ],
   "source": [
    "epicurious_derived_cholesterol_df.head()"
   ]
  },
  {
   "cell_type": "markdown",
   "metadata": {},
   "source": [
    "Converting new column into float data type."
   ]
  },
  {
   "cell_type": "code",
   "execution_count": 15,
   "metadata": {
    "collapsed": false
   },
   "outputs": [],
   "source": [
    "epicurious_derived_cholesterol_df['cholesterol_amount'] = epicurious_derived_cholesterol_df['cholesterol_amount'].apply(pd.to_numeric)"
   ]
  },
  {
   "cell_type": "markdown",
   "metadata": {},
   "source": [
    "Exploring basic statistics of the calories amount."
   ]
  },
  {
   "cell_type": "code",
   "execution_count": 16,
   "metadata": {
    "collapsed": false
   },
   "outputs": [
    {
     "data": {
      "text/html": [
       "<div>\n",
       "<style scoped>\n",
       "    .dataframe tbody tr th:only-of-type {\n",
       "        vertical-align: middle;\n",
       "    }\n",
       "\n",
       "    .dataframe tbody tr th {\n",
       "        vertical-align: top;\n",
       "    }\n",
       "\n",
       "    .dataframe thead th {\n",
       "        text-align: right;\n",
       "    }\n",
       "</style>\n",
       "<table border=\"1\" class=\"dataframe\">\n",
       "  <thead>\n",
       "    <tr style=\"text-align: right;\">\n",
       "      <th></th>\n",
       "      <th>cholesterol_amount</th>\n",
       "    </tr>\n",
       "  </thead>\n",
       "  <tbody>\n",
       "    <tr>\n",
       "      <th>count</th>\n",
       "      <td>654951.00</td>\n",
       "    </tr>\n",
       "    <tr>\n",
       "      <th>mean</th>\n",
       "      <td>43642.36</td>\n",
       "    </tr>\n",
       "    <tr>\n",
       "      <th>std</th>\n",
       "      <td>2887301.27</td>\n",
       "    </tr>\n",
       "    <tr>\n",
       "      <th>min</th>\n",
       "      <td>0.00</td>\n",
       "    </tr>\n",
       "    <tr>\n",
       "      <th>25%</th>\n",
       "      <td>131.21</td>\n",
       "    </tr>\n",
       "    <tr>\n",
       "      <th>50%</th>\n",
       "      <td>454.98</td>\n",
       "    </tr>\n",
       "    <tr>\n",
       "      <th>75%</th>\n",
       "      <td>988.63</td>\n",
       "    </tr>\n",
       "    <tr>\n",
       "      <th>max</th>\n",
       "      <td>295343834.25</td>\n",
       "    </tr>\n",
       "  </tbody>\n",
       "</table>\n",
       "</div>"
      ],
      "text/plain": [
       "       cholesterol_amount\n",
       "count 654951.00          \n",
       "mean  43642.36           \n",
       "std   2887301.27         \n",
       "min   0.00               \n",
       "25%   131.21             \n",
       "50%   454.98             \n",
       "75%   988.63             \n",
       "max   295343834.25       "
      ]
     },
     "execution_count": 16,
     "metadata": {},
     "output_type": "execute_result"
    }
   ],
   "source": [
    "epicurious_derived_cholesterol_df.describe()"
   ]
  },
  {
   "cell_type": "markdown",
   "metadata": {},
   "source": [
    "How many recipes have 0 mg of cholesterol?"
   ]
  },
  {
   "cell_type": "code",
   "execution_count": 17,
   "metadata": {
    "collapsed": false
   },
   "outputs": [],
   "source": [
    "epicurious_0_derived_cholesterol_df = epicurious_derived_cholesterol_df[epicurious_derived_cholesterol_df['cholesterol_amount'] == 0]"
   ]
  },
  {
   "cell_type": "code",
   "execution_count": 18,
   "metadata": {
    "collapsed": false
   },
   "outputs": [
    {
     "data": {
      "text/plain": [
       "39882    1\n",
       "Name: cholesterol_amount, dtype: int64"
      ]
     },
     "execution_count": 18,
     "metadata": {},
     "output_type": "execute_result"
    }
   ],
   "source": [
    "pd.value_counts(epicurious_0_derived_cholesterol_df['cholesterol_amount'].value_counts())"
   ]
  },
  {
   "cell_type": "code",
   "execution_count": 19,
   "metadata": {
    "collapsed": false
   },
   "outputs": [
    {
     "data": {
      "text/plain": [
       "39882"
      ]
     },
     "execution_count": 19,
     "metadata": {},
     "output_type": "execute_result"
    }
   ],
   "source": [
    "epicurious_0_derived_cholesterol_df.shape[0]"
   ]
  },
  {
   "cell_type": "markdown",
   "metadata": {},
   "source": [
    "If we don't filter out extreme cholesterol values, we don't get a very useful histogram or box plot."
   ]
  },
  {
   "cell_type": "markdown",
   "metadata": {},
   "source": [
    "Let's create a dataframe with mg of cholesterol greater than 0 and less than 5,000."
   ]
  },
  {
   "cell_type": "code",
   "execution_count": 20,
   "metadata": {
    "collapsed": true
   },
   "outputs": [],
   "source": [
    "epicurious_derived_cholesterol_0_5000_df = epicurious_derived_cholesterol_df[(epicurious_derived_cholesterol_df['cholesterol_amount'] > 0) & (epicurious_derived_cholesterol_df['cholesterol_amount'] < 5000)]"
   ]
  },
  {
   "cell_type": "markdown",
   "metadata": {},
   "source": [
    "Now, let's visualize a distribution of the cholesterol amount using the new created dataframe."
   ]
  },
  {
   "cell_type": "code",
   "execution_count": 21,
   "metadata": {
    "collapsed": false
   },
   "outputs": [
    {
     "data": {
      "image/png": "[encoded data removed]",
      "text/plain": [
       "<matplotlib.figure.Figure at 0x7f7952baa4d0>"
      ]
     },
     "metadata": {},
     "output_type": "display_data"
    }
   ],
   "source": [
    "sns.distplot(epicurious_derived_cholesterol_0_5000_df['cholesterol_amount']);"
   ]
  },
  {
   "cell_type": "markdown",
   "metadata": {},
   "source": [
    "And the box plot."
   ]
  },
  {
   "cell_type": "code",
   "execution_count": 22,
   "metadata": {
    "collapsed": false
   },
   "outputs": [
    {
     "data": {
      "image/png": "[encoded data removed]",
      "text/plain": [
       "<matplotlib.figure.Figure at 0x7f7952fa5110>"
      ]
     },
     "metadata": {},
     "output_type": "display_data"
    }
   ],
   "source": [
    "sns.boxplot(x=epicurious_derived_cholesterol_0_5000_df['cholesterol_amount']);"
   ]
  },
  {
   "cell_type": "markdown",
   "metadata": {},
   "source": [
    "We see many outliers with recipes with more than 2,000 mg of cholesterol."
   ]
  },
  {
   "cell_type": "markdown",
   "metadata": {},
   "source": [
    "#### Extracting calories from `nutrition` column. Note that we use URLs from domain `epicurious.com` as they always have `nutrition`."
   ]
  },
  {
   "cell_type": "markdown",
   "metadata": {},
   "source": [
    "One row of data looks like:\n",
    "\n",
    "```\n",
    "Calories 830.5\t \n",
    "Calories from Fat 235\t \n",
    "Total Fat 26.2 g\t \n",
    "Saturated Fat 8.3 g\t \n",
    "Cholesterol 75.1 mg\t \n",
    "Sodium 1251.3 mg\t \n",
    "Total Carbohydrate 103.2 g\t \n",
    "Dietary Fiber 5.4 g\t \n",
    "Sugars 5.3 g\t \n",
    "Protein 43 g\n",
    "```"
   ]
  },
  {
   "cell_type": "code",
   "execution_count": 23,
   "metadata": {
    "collapsed": true
   },
   "outputs": [],
   "source": [
    "%%sql --module epicurious_cholesterol_nutrition\n",
    "SELECT url, nutrition AS cholesterol, RIGHT(nutrition, LENGTH(nutrition)-LENGTH('Cholesterol'))AS cholesterol_extract\n",
    "FROM FLATTEN([firebase-wellio:recipes.imported_recipes], nutrition)\n",
    "WHERE url LIKE '%epicurious.com%' AND derived_nutrition IS NOT NULL AND INTEGER(RIGHT(derived_nutrition_version, \n",
    "  LENGTH(derived_nutrition_version)-1)) = 10 AND nutrition LIKE 'Cholesterol%'"
   ]
  },
  {
   "cell_type": "code",
   "execution_count": 24,
   "metadata": {
    "collapsed": false
   },
   "outputs": [
    {
     "data": {
      "text/html": [
       "\n",
       "    <div class=\"bqtv\" id=\"4_152037041544\"><table><tr><th>url</th><th>cholesterol</th><th>cholesterol_extract</th></tr><tr><td>http://www.epicurious.com/recipes/food/views/seared-duck-breast-with-cherries-and-port-sauce-353376</td><td>Cholesterol 151 mg(50%)</td><td> 151 mg(50%)</td></tr><tr><td>http://www.epicurious.com/recipes/food/views/seven-layer-salmon-bites-236713</td><td>Cholesterol 12 mg(4%)</td><td> 12 mg(4%)</td></tr><tr><td>http://www.epicurious.com/recipes/food/views/ultimate-mud-pie-365111</td><td>Cholesterol 169 mg(56%)</td><td> 169 mg(56%)</td></tr><tr><td>http://www.epicurious.com/recipes/food/views/beef-and-guinness-pie-230754</td><td>Cholesterol 189 mg(63%)</td><td> 189 mg(63%)</td></tr><tr><td>http://www.epicurious.com/recipes/food/views/beef-and-guinness-pie-230754</td><td>Cholesterol 189 mg(63%)</td><td> 189 mg(63%)</td></tr><tr><td>http://www.epicurious.com/recipes/food/views/french-yogurt-cake-395471</td><td>Cholesterol 50 mg(17%)</td><td> 50 mg(17%)</td></tr><tr><td>http://www.epicurious.com/recipes/food/views/trios-240930</td><td>Cholesterol 48 mg(16%)</td><td> 48 mg(16%)</td></tr><tr><td>http://www.epicurious.com/recipes/food/views/homemade-cheese-with-garlic-and-herbs</td><td>Cholesterol 52 mg(17%)</td><td> 52 mg(17%)</td></tr><tr><td>http://www.epicurious.com/recipes/food/views/black-sesame-noodle-bowl</td><td>Cholesterol 93 mg(31%)</td><td> 93 mg(31%)</td></tr><tr><td>http://www.epicurious.com/recipes/food/views/pasta-with-tomatoes-and-goat-cheese-103833</td><td>Cholesterol 18 mg(6%)</td><td> 18 mg(6%)</td></tr><tr><td>http://www.epicurious.com/recipes/food/views/parmesan-roasted-butternut-squash-350608</td><td>Cholesterol 22 mg(7%)</td><td> 22 mg(7%)</td></tr><tr><td>http://www.epicurious.com/recipes/food/views/crisp-roast-duck-235744</td><td>Cholesterol 474 mg(158%)</td><td> 474 mg(158%)</td></tr><tr><td>http://www.epicurious.com/recipes/food/views/bearnaise-sauce-395049</td><td>Cholesterol 111 mg(37%)</td><td> 111 mg(37%)</td></tr><tr><td>http://www.epicurious.com/recipes/food/views/poblano-potato-gratin-350596</td><td>Cholesterol 33 mg(11%)</td><td> 33 mg(11%)</td></tr><tr><td>http://www.epicurious.com/recipes/food/views/salted-caramel-ice-cream-354517</td><td>Cholesterol 95 mg(32%)</td><td> 95 mg(32%)</td></tr><tr><td>http://www.epicurious.com/recipes/food/views/scottish-oatcakes-100408</td><td>Cholesterol 0 mg(0%)</td><td> 0 mg(0%)</td></tr><tr><td>http://www.epicurious.com/recipes/food/views/caramelized-onion-tartlets-230744</td><td>Cholesterol 5 mg(2%)</td><td> 5 mg(2%)</td></tr><tr><td>http://www.epicurious.com/recipes/food/views/quick-paella-354351</td><td>Cholesterol 270 mg(90%)</td><td> 270 mg(90%)</td></tr><tr><td>http://www.epicurious.com/recipes/food/views/hot-chocolate-baked-french-toast</td><td>Cholesterol 226 mg(75%)</td><td> 226 mg(75%)</td></tr><tr><td>http://www.epicurious.com/recipes/food/views/soda-bread-with-dark-chocolate-and-candied-orange-peel-231866</td><td>Cholesterol 381 mg(127%)</td><td> 381 mg(127%)</td></tr><tr><td>http://www.epicurious.com/recipes/food/views/mango-tart-with-coconut-crust-108128</td><td>Cholesterol 34 mg(11%)</td><td> 34 mg(11%)</td></tr><tr><td>http://www.epicurious.com/recipes/food/views/knot-cookies-233294</td><td>Cholesterol 17 mg(6%)</td><td> 17 mg(6%)</td></tr><tr><td>http://www.epicurious.com/recipes/food/views/classic-ragu-bolognese-365181</td><td>Cholesterol 71 mg(24%)</td><td> 71 mg(24%)</td></tr><tr><td>http://www.epicurious.com/recipes/food/views/pumpkin-turnovers-51119020</td><td>Cholesterol 16 mg(5%)</td><td> 16 mg(5%)</td></tr><tr><td>http://www.epicurious.com/recipes/food/views/smoked-salmon-chowder-240816</td><td>Cholesterol 46 mg(15%)</td><td> 46 mg(15%)</td></tr></table></div>\n",
       "    <br />(rows: 294456, time: 6.0s,    34GB processed, job: job_0Pab59dYDyF-6k3r2RHd7JjkacCB)<br />\n",
       "    <script src=\"/static/components/requirejs/require.js\"></script>\n",
       "    <script>\n",
       "\n",
       "      require.config({\n",
       "        paths: {\n",
       "          base: '/static/base',\n",
       "          d3: '//cdnjs.cloudflare.com/ajax/libs/d3/3.4.13/d3',\n",
       "          plotly: 'https://cdn.plot.ly/plotly-1.5.1.min.js?noext',\n",
       "          jquery: '//ajax.googleapis.com/ajax/libs/jquery/2.0.0/jquery.min'\n",
       "        },\n",
       "        map: {\n",
       "          '*': {\n",
       "            datalab: 'nbextensions/gcpdatalab'\n",
       "          }\n",
       "        },\n",
       "        shim: {\n",
       "          plotly: {\n",
       "            deps: ['d3', 'jquery'],\n",
       "            exports: 'plotly'\n",
       "          }\n",
       "        }\n",
       "      });\n",
       "\n",
       "      require(['datalab/charting', 'datalab/element!4_152037041544', 'base/js/events',\n",
       "          'datalab/style!/nbextensions/gcpdatalab/charting.css'],\n",
       "        function(charts, dom, events) {\n",
       "          charts.render('gcharts', dom, events, 'paged_table', [], {\"rows\": [{\"c\": [{\"v\": \"http://www.epicurious.com/recipes/food/views/seared-duck-breast-with-cherries-and-port-sauce-353376\"}, {\"v\": \"Cholesterol 151 mg(50%)\"}, {\"v\": \" 151 mg(50%)\"}]}, {\"c\": [{\"v\": \"http://www.epicurious.com/recipes/food/views/seven-layer-salmon-bites-236713\"}, {\"v\": \"Cholesterol 12 mg(4%)\"}, {\"v\": \" 12 mg(4%)\"}]}, {\"c\": [{\"v\": \"http://www.epicurious.com/recipes/food/views/ultimate-mud-pie-365111\"}, {\"v\": \"Cholesterol 169 mg(56%)\"}, {\"v\": \" 169 mg(56%)\"}]}, {\"c\": [{\"v\": \"http://www.epicurious.com/recipes/food/views/beef-and-guinness-pie-230754\"}, {\"v\": \"Cholesterol 189 mg(63%)\"}, {\"v\": \" 189 mg(63%)\"}]}, {\"c\": [{\"v\": \"http://www.epicurious.com/recipes/food/views/beef-and-guinness-pie-230754\"}, {\"v\": \"Cholesterol 189 mg(63%)\"}, {\"v\": \" 189 mg(63%)\"}]}, {\"c\": [{\"v\": \"http://www.epicurious.com/recipes/food/views/french-yogurt-cake-395471\"}, {\"v\": \"Cholesterol 50 mg(17%)\"}, {\"v\": \" 50 mg(17%)\"}]}, {\"c\": [{\"v\": \"http://www.epicurious.com/recipes/food/views/trios-240930\"}, {\"v\": \"Cholesterol 48 mg(16%)\"}, {\"v\": \" 48 mg(16%)\"}]}, {\"c\": [{\"v\": \"http://www.epicurious.com/recipes/food/views/homemade-cheese-with-garlic-and-herbs\"}, {\"v\": \"Cholesterol 52 mg(17%)\"}, {\"v\": \" 52 mg(17%)\"}]}, {\"c\": [{\"v\": \"http://www.epicurious.com/recipes/food/views/black-sesame-noodle-bowl\"}, {\"v\": \"Cholesterol 93 mg(31%)\"}, {\"v\": \" 93 mg(31%)\"}]}, {\"c\": [{\"v\": \"http://www.epicurious.com/recipes/food/views/pasta-with-tomatoes-and-goat-cheese-103833\"}, {\"v\": \"Cholesterol 18 mg(6%)\"}, {\"v\": \" 18 mg(6%)\"}]}, {\"c\": [{\"v\": \"http://www.epicurious.com/recipes/food/views/parmesan-roasted-butternut-squash-350608\"}, {\"v\": \"Cholesterol 22 mg(7%)\"}, {\"v\": \" 22 mg(7%)\"}]}, {\"c\": [{\"v\": \"http://www.epicurious.com/recipes/food/views/crisp-roast-duck-235744\"}, {\"v\": \"Cholesterol 474 mg(158%)\"}, {\"v\": \" 474 mg(158%)\"}]}, {\"c\": [{\"v\": \"http://www.epicurious.com/recipes/food/views/bearnaise-sauce-395049\"}, {\"v\": \"Cholesterol 111 mg(37%)\"}, {\"v\": \" 111 mg(37%)\"}]}, {\"c\": [{\"v\": \"http://www.epicurious.com/recipes/food/views/poblano-potato-gratin-350596\"}, {\"v\": \"Cholesterol 33 mg(11%)\"}, {\"v\": \" 33 mg(11%)\"}]}, {\"c\": [{\"v\": \"http://www.epicurious.com/recipes/food/views/salted-caramel-ice-cream-354517\"}, {\"v\": \"Cholesterol 95 mg(32%)\"}, {\"v\": \" 95 mg(32%)\"}]}, {\"c\": [{\"v\": \"http://www.epicurious.com/recipes/food/views/scottish-oatcakes-100408\"}, {\"v\": \"Cholesterol 0 mg(0%)\"}, {\"v\": \" 0 mg(0%)\"}]}, {\"c\": [{\"v\": \"http://www.epicurious.com/recipes/food/views/caramelized-onion-tartlets-230744\"}, {\"v\": \"Cholesterol 5 mg(2%)\"}, {\"v\": \" 5 mg(2%)\"}]}, {\"c\": [{\"v\": \"http://www.epicurious.com/recipes/food/views/quick-paella-354351\"}, {\"v\": \"Cholesterol 270 mg(90%)\"}, {\"v\": \" 270 mg(90%)\"}]}, {\"c\": [{\"v\": \"http://www.epicurious.com/recipes/food/views/hot-chocolate-baked-french-toast\"}, {\"v\": \"Cholesterol 226 mg(75%)\"}, {\"v\": \" 226 mg(75%)\"}]}, {\"c\": [{\"v\": \"http://www.epicurious.com/recipes/food/views/soda-bread-with-dark-chocolate-and-candied-orange-peel-231866\"}, {\"v\": \"Cholesterol 381 mg(127%)\"}, {\"v\": \" 381 mg(127%)\"}]}, {\"c\": [{\"v\": \"http://www.epicurious.com/recipes/food/views/mango-tart-with-coconut-crust-108128\"}, {\"v\": \"Cholesterol 34 mg(11%)\"}, {\"v\": \" 34 mg(11%)\"}]}, {\"c\": [{\"v\": \"http://www.epicurious.com/recipes/food/views/knot-cookies-233294\"}, {\"v\": \"Cholesterol 17 mg(6%)\"}, {\"v\": \" 17 mg(6%)\"}]}, {\"c\": [{\"v\": \"http://www.epicurious.com/recipes/food/views/classic-ragu-bolognese-365181\"}, {\"v\": \"Cholesterol 71 mg(24%)\"}, {\"v\": \" 71 mg(24%)\"}]}, {\"c\": [{\"v\": \"http://www.epicurious.com/recipes/food/views/pumpkin-turnovers-51119020\"}, {\"v\": \"Cholesterol 16 mg(5%)\"}, {\"v\": \" 16 mg(5%)\"}]}, {\"c\": [{\"v\": \"http://www.epicurious.com/recipes/food/views/smoked-salmon-chowder-240816\"}, {\"v\": \"Cholesterol 46 mg(15%)\"}, {\"v\": \" 46 mg(15%)\"}]}], \"cols\": [{\"type\": \"string\", \"id\": \"url\", \"label\": \"url\"}, {\"type\": \"string\", \"id\": \"cholesterol\", \"label\": \"cholesterol\"}, {\"type\": \"string\", \"id\": \"cholesterol_extract\", \"label\": \"cholesterol_extract\"}]},\n",
       "            {\n",
       "              pageSize: 25,\n",
       "              cssClassNames:  {\n",
       "                tableRow: 'gchart-table-row',\n",
       "                headerRow: 'gchart-table-headerrow',\n",
       "                oddTableRow: 'gchart-table-oddrow',\n",
       "                selectedTableRow: 'gchart-table-selectedrow',\n",
       "                hoverTableRow: 'gchart-table-hoverrow',\n",
       "                tableCell: 'gchart-table-cell',\n",
       "                headerCell: 'gchart-table-headercell',\n",
       "                rowNumberCell: 'gchart-table-rownumcell'\n",
       "              }\n",
       "            },\n",
       "            {source_index: 2, fields: 'url,cholesterol,cholesterol_extract', legacy: 'true'},\n",
       "            0,\n",
       "            294456);\n",
       "        }\n",
       "      );\n",
       "    </script>\n",
       "  "
      ],
      "text/plain": [
       "QueryResultsTable job_0Pab59dYDyF-6k3r2RHd7JjkacCB"
      ]
     },
     "execution_count": 24,
     "metadata": {},
     "output_type": "execute_result"
    }
   ],
   "source": [
    "%%bigquery execute -q epicurious_cholesterol_nutrition"
   ]
  },
  {
   "cell_type": "markdown",
   "metadata": {},
   "source": [
    "Export to pandas dataframe."
   ]
  },
  {
   "cell_type": "code",
   "execution_count": 25,
   "metadata": {
    "collapsed": true
   },
   "outputs": [],
   "source": [
    "epicurious_cholesterol_df = bq.Query(epicurious_cholesterol_nutrition).to_dataframe()"
   ]
  },
  {
   "cell_type": "markdown",
   "metadata": {},
   "source": [
    "Note. In case we want to perform sampling with BigQuery:\n",
    "https://www.oreilly.com/learning/repeatable-sampling-of-data-sets-in-bigquery-for-machine-learning"
   ]
  },
  {
   "cell_type": "code",
   "execution_count": 26,
   "metadata": {
    "collapsed": false
   },
   "outputs": [
    {
     "data": {
      "text/html": [
       "<div>\n",
       "<style scoped>\n",
       "    .dataframe tbody tr th:only-of-type {\n",
       "        vertical-align: middle;\n",
       "    }\n",
       "\n",
       "    .dataframe tbody tr th {\n",
       "        vertical-align: top;\n",
       "    }\n",
       "\n",
       "    .dataframe thead th {\n",
       "        text-align: right;\n",
       "    }\n",
       "</style>\n",
       "<table border=\"1\" class=\"dataframe\">\n",
       "  <thead>\n",
       "    <tr style=\"text-align: right;\">\n",
       "      <th></th>\n",
       "      <th>url</th>\n",
       "      <th>cholesterol</th>\n",
       "      <th>cholesterol_extract</th>\n",
       "    </tr>\n",
       "  </thead>\n",
       "  <tbody>\n",
       "    <tr>\n",
       "      <th>0</th>\n",
       "      <td>http://www.epicurious.com/recipes/food/views/pasta-with-tomatoes-and-goat-cheese-103833</td>\n",
       "      <td>Cholesterol 18 mg(6%)</td>\n",
       "      <td>18 mg(6%)</td>\n",
       "    </tr>\n",
       "    <tr>\n",
       "      <th>1</th>\n",
       "      <td>http://www.epicurious.com/recipes/food/views/parmesan-roasted-butternut-squash-350608</td>\n",
       "      <td>Cholesterol 22 mg(7%)</td>\n",
       "      <td>22 mg(7%)</td>\n",
       "    </tr>\n",
       "    <tr>\n",
       "      <th>2</th>\n",
       "      <td>http://www.epicurious.com/recipes/food/views/crisp-roast-duck-235744</td>\n",
       "      <td>Cholesterol 474 mg(158%)</td>\n",
       "      <td>474 mg(158%)</td>\n",
       "    </tr>\n",
       "    <tr>\n",
       "      <th>3</th>\n",
       "      <td>http://www.epicurious.com/recipes/food/views/bearnaise-sauce-395049</td>\n",
       "      <td>Cholesterol 111 mg(37%)</td>\n",
       "      <td>111 mg(37%)</td>\n",
       "    </tr>\n",
       "    <tr>\n",
       "      <th>4</th>\n",
       "      <td>http://www.epicurious.com/recipes/food/views/poblano-potato-gratin-350596</td>\n",
       "      <td>Cholesterol 33 mg(11%)</td>\n",
       "      <td>33 mg(11%)</td>\n",
       "    </tr>\n",
       "  </tbody>\n",
       "</table>\n",
       "</div>"
      ],
      "text/plain": [
       "                                                                                       url  \\\n",
       "0  http://www.epicurious.com/recipes/food/views/pasta-with-tomatoes-and-goat-cheese-103833   \n",
       "1  http://www.epicurious.com/recipes/food/views/parmesan-roasted-butternut-squash-350608     \n",
       "2  http://www.epicurious.com/recipes/food/views/crisp-roast-duck-235744                      \n",
       "3  http://www.epicurious.com/recipes/food/views/bearnaise-sauce-395049                       \n",
       "4  http://www.epicurious.com/recipes/food/views/poblano-potato-gratin-350596                 \n",
       "\n",
       "                cholesterol cholesterol_extract  \n",
       "0  Cholesterol 18 mg(6%)      18 mg(6%)          \n",
       "1  Cholesterol 22 mg(7%)      22 mg(7%)          \n",
       "2  Cholesterol 474 mg(158%)   474 mg(158%)       \n",
       "3  Cholesterol 111 mg(37%)    111 mg(37%)        \n",
       "4  Cholesterol 33 mg(11%)     33 mg(11%)         "
      ]
     },
     "execution_count": 26,
     "metadata": {},
     "output_type": "execute_result"
    }
   ],
   "source": [
    "epicurious_cholesterol_df.head()"
   ]
  },
  {
   "cell_type": "markdown",
   "metadata": {},
   "source": [
    "How many rows of data?"
   ]
  },
  {
   "cell_type": "code",
   "execution_count": 27,
   "metadata": {
    "collapsed": false
   },
   "outputs": [
    {
     "data": {
      "text/plain": [
       "294456"
      ]
     },
     "execution_count": 27,
     "metadata": {},
     "output_type": "execute_result"
    }
   ],
   "source": [
    "epicurious_cholesterol_df.shape[0]"
   ]
  },
  {
   "cell_type": "markdown",
   "metadata": {},
   "source": [
    "Using regex to obtain the cholesterol amount."
   ]
  },
  {
   "cell_type": "code",
   "execution_count": 28,
   "metadata": {
    "collapsed": true
   },
   "outputs": [],
   "source": [
    "epicurious_cholesterol_df['cholesterol_amount'] = epicurious_cholesterol_df['cholesterol_extract'].str.extract('([0-9]+)', expand=True)"
   ]
  },
  {
   "cell_type": "code",
   "execution_count": 29,
   "metadata": {
    "collapsed": false
   },
   "outputs": [
    {
     "data": {
      "text/html": [
       "<div>\n",
       "<style scoped>\n",
       "    .dataframe tbody tr th:only-of-type {\n",
       "        vertical-align: middle;\n",
       "    }\n",
       "\n",
       "    .dataframe tbody tr th {\n",
       "        vertical-align: top;\n",
       "    }\n",
       "\n",
       "    .dataframe thead th {\n",
       "        text-align: right;\n",
       "    }\n",
       "</style>\n",
       "<table border=\"1\" class=\"dataframe\">\n",
       "  <thead>\n",
       "    <tr style=\"text-align: right;\">\n",
       "      <th></th>\n",
       "      <th>url</th>\n",
       "      <th>cholesterol</th>\n",
       "      <th>cholesterol_extract</th>\n",
       "      <th>cholesterol_amount</th>\n",
       "    </tr>\n",
       "  </thead>\n",
       "  <tbody>\n",
       "    <tr>\n",
       "      <th>0</th>\n",
       "      <td>http://www.epicurious.com/recipes/food/views/pasta-with-tomatoes-and-goat-cheese-103833</td>\n",
       "      <td>Cholesterol 18 mg(6%)</td>\n",
       "      <td>18 mg(6%)</td>\n",
       "      <td>18</td>\n",
       "    </tr>\n",
       "    <tr>\n",
       "      <th>1</th>\n",
       "      <td>http://www.epicurious.com/recipes/food/views/parmesan-roasted-butternut-squash-350608</td>\n",
       "      <td>Cholesterol 22 mg(7%)</td>\n",
       "      <td>22 mg(7%)</td>\n",
       "      <td>22</td>\n",
       "    </tr>\n",
       "    <tr>\n",
       "      <th>2</th>\n",
       "      <td>http://www.epicurious.com/recipes/food/views/crisp-roast-duck-235744</td>\n",
       "      <td>Cholesterol 474 mg(158%)</td>\n",
       "      <td>474 mg(158%)</td>\n",
       "      <td>474</td>\n",
       "    </tr>\n",
       "    <tr>\n",
       "      <th>3</th>\n",
       "      <td>http://www.epicurious.com/recipes/food/views/bearnaise-sauce-395049</td>\n",
       "      <td>Cholesterol 111 mg(37%)</td>\n",
       "      <td>111 mg(37%)</td>\n",
       "      <td>111</td>\n",
       "    </tr>\n",
       "    <tr>\n",
       "      <th>4</th>\n",
       "      <td>http://www.epicurious.com/recipes/food/views/poblano-potato-gratin-350596</td>\n",
       "      <td>Cholesterol 33 mg(11%)</td>\n",
       "      <td>33 mg(11%)</td>\n",
       "      <td>33</td>\n",
       "    </tr>\n",
       "  </tbody>\n",
       "</table>\n",
       "</div>"
      ],
      "text/plain": [
       "                                                                                       url  \\\n",
       "0  http://www.epicurious.com/recipes/food/views/pasta-with-tomatoes-and-goat-cheese-103833   \n",
       "1  http://www.epicurious.com/recipes/food/views/parmesan-roasted-butternut-squash-350608     \n",
       "2  http://www.epicurious.com/recipes/food/views/crisp-roast-duck-235744                      \n",
       "3  http://www.epicurious.com/recipes/food/views/bearnaise-sauce-395049                       \n",
       "4  http://www.epicurious.com/recipes/food/views/poblano-potato-gratin-350596                 \n",
       "\n",
       "                cholesterol cholesterol_extract cholesterol_amount  \n",
       "0  Cholesterol 18 mg(6%)      18 mg(6%)          18                 \n",
       "1  Cholesterol 22 mg(7%)      22 mg(7%)          22                 \n",
       "2  Cholesterol 474 mg(158%)   474 mg(158%)       474                \n",
       "3  Cholesterol 111 mg(37%)    111 mg(37%)        111                \n",
       "4  Cholesterol 33 mg(11%)     33 mg(11%)         33                 "
      ]
     },
     "execution_count": 29,
     "metadata": {},
     "output_type": "execute_result"
    }
   ],
   "source": [
    "epicurious_cholesterol_df.head()"
   ]
  },
  {
   "cell_type": "markdown",
   "metadata": {},
   "source": [
    "Converting cholesterol amount into float data type."
   ]
  },
  {
   "cell_type": "code",
   "execution_count": 30,
   "metadata": {
    "collapsed": false
   },
   "outputs": [],
   "source": [
    "epicurious_cholesterol_df['cholesterol_amount'] = epicurious_cholesterol_df['cholesterol_amount'].apply(pd.to_numeric)"
   ]
  },
  {
   "cell_type": "markdown",
   "metadata": {},
   "source": [
    "Let's check the columns data types."
   ]
  },
  {
   "cell_type": "code",
   "execution_count": 31,
   "metadata": {
    "collapsed": false
   },
   "outputs": [
    {
     "name": "stdout",
     "output_type": "stream",
     "text": [
      "<class 'pandas.core.frame.DataFrame'>\n",
      "RangeIndex: 294456 entries, 0 to 294455\n",
      "Data columns (total 4 columns):\n",
      "url                    294456 non-null object\n",
      "cholesterol            294456 non-null object\n",
      "cholesterol_extract    294456 non-null object\n",
      "cholesterol_amount     294456 non-null int64\n",
      "dtypes: int64(1), object(3)\n",
      "memory usage: 9.0+ MB\n"
     ]
    }
   ],
   "source": [
    "epicurious_cholesterol_df.info()"
   ]
  },
  {
   "cell_type": "markdown",
   "metadata": {},
   "source": [
    "Checking basic statistics of the cholesterol amount."
   ]
  },
  {
   "cell_type": "code",
   "execution_count": 32,
   "metadata": {
    "collapsed": false
   },
   "outputs": [
    {
     "data": {
      "text/plain": [
       "count   294456.00\n",
       "mean    132.27   \n",
       "std     174.38   \n",
       "min     0.00     \n",
       "25%     49.00    \n",
       "50%     86.00    \n",
       "75%     160.00   \n",
       "max     4639.00  \n",
       "Name: cholesterol_amount, dtype: float64"
      ]
     },
     "execution_count": 32,
     "metadata": {},
     "output_type": "execute_result"
    }
   ],
   "source": [
    "epicurious_cholesterol_df.cholesterol_amount.describe()"
   ]
  },
  {
   "cell_type": "markdown",
   "metadata": {},
   "source": [
    "If we don't filter out extreme cholesterol values, we don't get a very useful histogram."
   ]
  },
  {
   "cell_type": "code",
   "execution_count": 33,
   "metadata": {
    "collapsed": false
   },
   "outputs": [
    {
     "data": {
      "image/png": "[encoded data removed]",
      "text/plain": [
       "<matplotlib.figure.Figure at 0x7f7952f9f050>"
      ]
     },
     "metadata": {},
     "output_type": "display_data"
    }
   ],
   "source": [
    "sns.distplot(epicurious_cholesterol_df['cholesterol_amount']);"
   ]
  },
  {
   "cell_type": "markdown",
   "metadata": {},
   "source": [
    "And a box plot."
   ]
  },
  {
   "cell_type": "code",
   "execution_count": 34,
   "metadata": {
    "collapsed": false
   },
   "outputs": [
    {
     "data": {
      "image/png": "[encoded data removed]",
      "text/plain": [
       "<matplotlib.figure.Figure at 0x7f79480e4b90>"
      ]
     },
     "metadata": {},
     "output_type": "display_data"
    }
   ],
   "source": [
    "sns.boxplot(x=epicurious_cholesterol_df['cholesterol_amount']);"
   ]
  },
  {
   "cell_type": "markdown",
   "metadata": {},
   "source": [
    "Creating a dataframe with recipes with more than 0 mg of cholesterol and less than a 5,000 mg of cholesterol."
   ]
  },
  {
   "cell_type": "code",
   "execution_count": 35,
   "metadata": {
    "collapsed": true
   },
   "outputs": [],
   "source": [
    "epicurious_cholesterol_0_5000_df = epicurious_cholesterol_df[(epicurious_cholesterol_df['cholesterol_amount'] > 0) & (epicurious_cholesterol_df['cholesterol_amount'] < 5000)]"
   ]
  },
  {
   "cell_type": "markdown",
   "metadata": {},
   "source": [
    "And it's corresponding distribution plot."
   ]
  },
  {
   "cell_type": "code",
   "execution_count": 36,
   "metadata": {
    "collapsed": false
   },
   "outputs": [
    {
     "data": {
      "image/png": "[encoded data removed]",
      "text/plain": [
       "<matplotlib.figure.Figure at 0x7f7949930c90>"
      ]
     },
     "metadata": {},
     "output_type": "display_data"
    }
   ],
   "source": [
    "sns.distplot(epicurious_cholesterol_0_5000_df['cholesterol_amount']);"
   ]
  },
  {
   "cell_type": "markdown",
   "metadata": {},
   "source": [
    "Box plot."
   ]
  },
  {
   "cell_type": "code",
   "execution_count": 37,
   "metadata": {
    "collapsed": false
   },
   "outputs": [
    {
     "data": {
      "image/png": "[encoded data removed]",
      "text/plain": [
       "<matplotlib.figure.Figure at 0x7f794a0a88d0>"
      ]
     },
     "metadata": {},
     "output_type": "display_data"
    }
   ],
   "source": [
    "sns.boxplot(x=epicurious_cholesterol_0_5000_df['cholesterol_amount']);"
   ]
  },
  {
   "cell_type": "markdown",
   "metadata": {},
   "source": [
    "We can see many outliers for recipes with more than ~400 mg of cholesterol."
   ]
  },
  {
   "cell_type": "markdown",
   "metadata": {},
   "source": [
    "### We can see that the cholesterol distribution is more extreme when using derived_nutrition compared to nutrition, and that where using nutrition, most of the recipes have a cholesterol amount around 100 mg."
   ]
  },
  {
   "cell_type": "code",
   "execution_count": null,
   "metadata": {
    "collapsed": true
   },
   "outputs": [],
   "source": []
  }
 ],
 "metadata": {
  "kernelspec": {
   "display_name": "Python 2",
   "language": "python",
   "name": "python2"
  },
  "language_info": {
   "codemirror_mode": {
    "name": "ipython",
    "version": 2
   },
   "file_extension": ".py",
   "mimetype": "text/x-python",
   "name": "python",
   "nbconvert_exporter": "python",
   "pygments_lexer": "ipython2",
   "version": "2.7.12"
  }
 },
 "nbformat": 4,
 "nbformat_minor": 2
}
