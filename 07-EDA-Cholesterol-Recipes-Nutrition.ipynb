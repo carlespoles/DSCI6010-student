{
 "cells": [
  {
   "cell_type": "markdown",
   "metadata": {},
   "source": [
    "# Exploring recipe's cholesterol using two different data sources."
   ]
  },
  {
   "cell_type": "markdown",
   "metadata": {},
   "source": [
    "We have cholesterol data from 2 different columns: `nutrition`, `derived_nutrition`.\n",
    "\n",
    "We want to compare the values from both sources."
   ]
  },
  {
   "cell_type": "code",
   "execution_count": 1,
   "metadata": {
    "collapsed": true
   },
   "outputs": [],
   "source": [
    "reset -fs"
   ]
  },
  {
   "cell_type": "code",
   "execution_count": 2,
   "metadata": {
    "collapsed": false
   },
   "outputs": [],
   "source": [
    "import re\n",
    "import json\n",
    "import pprint\n",
    "import operator\n",
    "import itertools\n",
    "import numpy as np\n",
    "import pandas as pd\n",
    "import seaborn as sns\n",
    "import datalab.bigquery as bq\n",
    "import matplotlib.pyplot as plt\n",
    "sns.set_style('white')\n",
    "%matplotlib inline"
   ]
  },
  {
   "cell_type": "markdown",
   "metadata": {},
   "source": [
    "To be able to see all content columns of a pandas dataframe, we set the width of the columns to max."
   ]
  },
  {
   "cell_type": "code",
   "execution_count": 3,
   "metadata": {
    "collapsed": true
   },
   "outputs": [],
   "source": [
    "pd.set_option('display.max_colwidth', -1)"
   ]
  },
  {
   "cell_type": "markdown",
   "metadata": {},
   "source": [
    "To be able to see all numeric data with 2 decimals instead of scientific notation."
   ]
  },
  {
   "cell_type": "code",
   "execution_count": 4,
   "metadata": {
    "collapsed": true
   },
   "outputs": [],
   "source": [
    "pd.options.display.float_format = '{:.2f}'.format"
   ]
  },
  {
   "cell_type": "markdown",
   "metadata": {},
   "source": [
    "To explore the data schema from the table we will extract data."
   ]
  },
  {
   "cell_type": "code",
   "execution_count": 5,
   "metadata": {
    "collapsed": false
   },
   "outputs": [
    {
     "data": {
      "text/html": [
       "\n",
       "    <div class=\"bqsv\" id=\"1_152029191314\"></div>\n",
       "\n",
       "    <script src=\"/static/components/requirejs/require.js\"></script>\n",
       "    <script>\n",
       "      require.config({\n",
       "        paths: {\n",
       "          base: '/static/base',\n",
       "        },\n",
       "        map: {\n",
       "          '*': {\n",
       "            datalab: 'nbextensions/gcpdatalab'\n",
       "          }\n",
       "        },\n",
       "      });\n",
       "\n",
       "      require(['datalab/bigquery', 'datalab/element!1_152029191314',\n",
       "          'datalab/style!/nbextensions/gcpdatalab/bigquery.css'],\n",
       "        function(bq, dom) {\n",
       "          bq.renderSchema(dom, [{\"type\": \"STRING\", \"name\": \"title\", \"mode\": \"NULLABLE\"}, {\"type\": \"STRING\", \"name\": \"description\", \"mode\": \"NULLABLE\"}, {\"type\": \"STRING\", \"name\": \"url\", \"mode\": \"NULLABLE\"}, {\"type\": \"STRING\", \"name\": \"crawler\", \"mode\": \"NULLABLE\"}, {\"type\": \"STRING\", \"name\": \"prep_time\", \"mode\": \"NULLABLE\"}, {\"type\": \"STRING\", \"name\": \"cook_time\", \"mode\": \"NULLABLE\"}, {\"type\": \"STRING\", \"name\": \"total_time\", \"mode\": \"NULLABLE\"}, {\"type\": \"STRING\", \"name\": \"yield\", \"mode\": \"NULLABLE\"}, {\"type\": \"STRING\", \"name\": \"source_path\", \"mode\": \"NULLABLE\"}, {\"description\": \"list of ingredients\", \"type\": \"STRING\", \"name\": \"ingredients\", \"mode\": \"REPEATED\"}, {\"description\": \"list of preparation steps\", \"type\": \"STRING\", \"name\": \"preparation\", \"mode\": \"REPEATED\"}, {\"description\": \"list of ingredients entities\", \"type\": \"STRING\", \"name\": \"derived_ingredient_entities\", \"mode\": \"REPEATED\"}, {\"description\": \"list of extracted ingredient amounts\", \"type\": \"STRING\", \"name\": \"derived_ingredient_amount\", \"mode\": \"REPEATED\"}, {\"fields\": [{\"description\": \"social media scores\", \"type\": \"FLOAT\", \"name\": \"social_media\", \"mode\": \"NULLABLE\"}], \"description\": \"social media scores\", \"type\": \"RECORD\", \"name\": \"scores\", \"mode\": \"NULLABLE\"}, {\"description\": \"boolean flag indicating if recipe has an image\", \"type\": \"STRING\", \"name\": \"has_image\", \"mode\": \"NULLABLE\"}, {\"description\": \"meal/course labels\", \"type\": \"STRING\", \"name\": \"derived_labels\", \"mode\": \"NULLABLE\"}, {\"description\": \"health score for recipe\", \"type\": \"FLOAT\", \"name\": \"health_score\", \"mode\": \"NULLABLE\"}, {\"description\": \"dietary tags for recipe\", \"type\": \"STRING\", \"name\": \"diet_tags\", \"mode\": \"REPEATED\"}, {\"description\": \"list of nutrition values\", \"type\": \"STRING\", \"name\": \"nutrition\", \"mode\": \"REPEATED\"}, {\"description\": \"estimated price of the entire recipe\", \"type\": \"STRING\", \"name\": \"price_estimate\", \"mode\": \"NULLABLE\"}, {\"description\": \"estimated language or recipe\", \"type\": \"STRING\", \"name\": \"language\", \"mode\": \"NULLABLE\"}, {\"description\": \"estimated confidence of language inference\", \"type\": \"STRING\", \"name\": \"language_confidence\", \"mode\": \"NULLABLE\"}, {\"description\": \"time recipe is created\", \"type\": \"STRING\", \"name\": \"created_at\", \"mode\": \"NULLABLE\"}, {\"description\": \"time recipe is updated\", \"type\": \"STRING\", \"name\": \"updated_at\", \"mode\": \"NULLABLE\"}, {\"description\": \"recipe id\", \"type\": \"STRING\", \"name\": \"id\", \"mode\": \"NULLABLE\"}, {\"description\": \"estimated price per serving for the recipe\", \"type\": \"STRING\", \"name\": \"price_per_serving\", \"mode\": \"NULLABLE\"}, {\"description\": \"list of extracted ingredient unit of measures\", \"type\": \"STRING\", \"name\": \"derived_ingredient_uom\", \"mode\": \"REPEATED\"}, {\"description\": \"list of derived nutrition values\", \"type\": \"STRING\", \"name\": \"derived_nutrition\", \"mode\": \"REPEATED\"}, {\"description\": \"the primary image as binary data\", \"type\": \"BYTES\", \"name\": \"image\", \"mode\": \"NULLABLE\"}, {\"description\": \"recipe tags as provided by the recipe source\", \"type\": \"STRING\", \"name\": \"tags\", \"mode\": \"REPEATED\"}, {\"description\": \"NRF9.3 nutrition index value\", \"type\": \"FLOAT\", \"name\": \"derived_nutrition_nrf_index\", \"mode\": \"NULLABLE\"}, {\"description\": \"Nutrition algorithm version\", \"type\": \"STRING\", \"name\": \"derived_nutrition_version\", \"mode\": \"NULLABLE\"}, {\"description\": \"Percent of items matched for the recipe\", \"type\": \"FLOAT\", \"name\": \"derived_nutrition_confidence\", \"mode\": \"NULLABLE\"}, {\"description\": \"GCS url of the image\", \"type\": \"STRING\", \"name\": \"image_cache_url\", \"mode\": \"NULLABLE\"}, {\"description\": \"Estimated image appeal score\", \"type\": \"FLOAT\", \"name\": \"image_appeal_score\", \"mode\": \"NULLABLE\"}, {\"description\": \"confidence score that indicates the percent of ingredients that have successfully been matched to items\", \"type\": \"FLOAT\", \"name\": \"derived_fulfillment_confidence\", \"mode\": \"NULLABLE\"}, {\"description\": \"median total price per recipe\", \"type\": \"FLOAT\", \"name\": \"derived_fulfillment_total_price\", \"mode\": \"NULLABLE\"}, {\"description\": \"median consumed price per recipe\", \"type\": \"FLOAT\", \"name\": \"derived_fulfillment_consumed_price\", \"mode\": \"NULLABLE\"}, {\"description\": \"stores and the corresponding number of ingredients from the recipe that can be fulfilled in those stores\", \"type\": \"STRING\", \"name\": \"derived_fulfillment_stores\", \"mode\": \"NULLABLE\"}, {\"description\": \"stores zipcodes and the corresponding number of ingredients from the recipe that can be fulfilled in those stores\", \"type\": \"STRING\", \"name\": \"derived_fulfillment_zipcodes\", \"mode\": \"NULLABLE\"}, {\"description\": \"version of the fulfillment model\", \"type\": \"STRING\", \"name\": \"derived_fulfillment_version\", \"mode\": \"NULLABLE\"}]);\n",
       "        }\n",
       "      );\n",
       "    </script>\n",
       "    "
      ],
      "text/plain": [
       "<IPython.core.display.HTML object>"
      ]
     },
     "execution_count": 5,
     "metadata": {},
     "output_type": "execute_result"
    }
   ],
   "source": [
    "%bigquery schema --table firebase-wellio:recipes.imported_recipes"
   ]
  },
  {
   "cell_type": "markdown",
   "metadata": {},
   "source": [
    "Example of a row of data:\n",
    "\n",
    "```\n",
    "{\"name\": \"Alcohol, ethyl\", \"nutrient_id\": \"221\", \"unit\": \"g\", \"agg_value\": 0.0}\t \n",
    "{\"name\": \"Caffeine\", \"nutrient_id\": \"262\", \"unit\": \"mg\", \"agg_value\": 0.0}\t \n",
    "{\"name\": \"Calcium, Ca\", \"nutrient_id\": \"301\", \"unit\": \"mg\", \"agg_value\": 1313.3905300353488}\t \n",
    "{\"name\": \"Carbohydrate, by difference\", \"nutrient_id\": \"205\", \"unit\": \"g\", \"agg_value\": 162.99052465576816}\t \n",
    "{\"name\": \"Cholesterol\", \"nutrient_id\": \"601\", \"unit\": \"mg\", \"agg_value\": 375.9498823787561}\t \n",
    "{\"name\": \"Energy\", \"nutrient_id\": \"208\", \"unit\": \"kcal\", \"agg_value\": 2333.1553278007873}\t \n",
    "{\"name\": \"Fatty acids, total monounsaturated\", \"nutrient_id\": \"645\", \"unit\": \"g\", \"agg_value\": 45.812315539385196}\t \n",
    "{\"name\": \"Fatty acids, total polyunsaturated\", \"nutrient_id\": \"646\", \"unit\": \"g\", \"agg_value\": 23.205340564004327}\t \n",
    "{\"name\": \"Fatty acids, total saturated\", \"nutrient_id\": \"606\", \"unit\": \"g\", \"agg_value\": 49.405855655327926}\t \n",
    "{\"name\": \"Fatty acids, total trans\", \"nutrient_id\": \"605\", \"unit\": \"g\", \"agg_value\": 0.03039770861878195}\t \n",
    "{\"name\": \"Fiber, total dietary\", \"nutrient_id\": \"291\", \"unit\": \"g\", \"agg_value\": 30.928357548404282}\t \n",
    "{\"name\": \"Iron, Fe\", \"nutrient_id\": \"303\", \"unit\": \"mg\", \"agg_value\": 14.117875369935824}\t \n",
    "{\"name\": \"Magnesium, Mg\", \"nutrient_id\": \"304\", \"unit\": \"mg\", \"agg_value\": 323.6146339264634}\t \n",
    "{\"name\": \"Potassium, K\", \"nutrient_id\": \"306\", \"unit\": \"mg\", \"agg_value\": 4182.024917283204}\t \n",
    "{\"name\": \"Protein\", \"nutrient_id\": \"203\", \"unit\": \"g\", \"agg_value\": 134.36223258379204}\t \n",
    "{\"name\": \"Sodium, Na\", \"nutrient_id\": \"307\", \"unit\": \"mg\", \"agg_value\": 3643.3221832455997}\t \n",
    "{\"name\": \"Sugars, total\", \"nutrient_id\": \"269\", \"unit\": \"g\", \"agg_value\": 27.08103267541787}\t \n",
    "{\"name\": \"Total lipid (fat)\", \"nutrient_id\": \"204\", \"unit\": \"g\", \"agg_value\": 133.7551269233669}\t \n",
    "{\"name\": \"Vitamin A, IU\", \"nutrient_id\": \"318\", \"unit\": \"IU\", \"agg_value\": 49854.13482607046}\t \n",
    "{\"name\": \"Vitamin C, total absorbic acid\", \"nutrient_id\": \"401\", \"unit\": \"mg\", \"agg_value\": 415.64417814608424}\t \n",
    "{\"name\": \"Vitamin E (alpha-tocopherol)\", \"nutrient_id\": \"323\", \"unit\": \"mg\", \"agg_value\": 12.62523061622084}\n",
    "```"
   ]
  },
  {
   "cell_type": "markdown",
   "metadata": {},
   "source": [
    "Extracting `derived_nutrition_version`."
   ]
  },
  {
   "cell_type": "code",
   "execution_count": 6,
   "metadata": {
    "collapsed": true
   },
   "outputs": [],
   "source": [
    "%%sql --module derived_nutrition_versions\n",
    "SELECT\n",
    "INTEGER(RIGHT(derived_nutrition_version, LENGTH(derived_nutrition_version)-1)) AS nutrition_version\n",
    "FROM [firebase-wellio:recipes.imported_recipes]\n",
    "GROUP BY nutrition_version\n",
    "ORDER BY nutrition_version DESC"
   ]
  },
  {
   "cell_type": "code",
   "execution_count": 7,
   "metadata": {
    "collapsed": false
   },
   "outputs": [
    {
     "data": {
      "text/html": [
       "\n",
       "    <div class=\"bqtv\" id=\"2_152029207683\"><table><tr><th>nutrition_version</th></tr><tr><td>10</td></tr><tr><td>9</td></tr><tr><td>8</td></tr><tr><td>7</td></tr><tr><td>6</td></tr><tr><td>5</td></tr><tr><td>2</td></tr><tr><td>&nbsp;</td></tr></table></div>\n",
       "    <br />(rows: 8, time: 1.7s,    68MB processed, job: job_LjiRx20Z5NMJ9TghMaN0AftZffIM)<br />\n",
       "    <script src=\"/static/components/requirejs/require.js\"></script>\n",
       "    <script>\n",
       "\n",
       "      require.config({\n",
       "        paths: {\n",
       "          base: '/static/base',\n",
       "          d3: '//cdnjs.cloudflare.com/ajax/libs/d3/3.4.13/d3',\n",
       "          plotly: 'https://cdn.plot.ly/plotly-1.5.1.min.js?noext',\n",
       "          jquery: '//ajax.googleapis.com/ajax/libs/jquery/2.0.0/jquery.min'\n",
       "        },\n",
       "        map: {\n",
       "          '*': {\n",
       "            datalab: 'nbextensions/gcpdatalab'\n",
       "          }\n",
       "        },\n",
       "        shim: {\n",
       "          plotly: {\n",
       "            deps: ['d3', 'jquery'],\n",
       "            exports: 'plotly'\n",
       "          }\n",
       "        }\n",
       "      });\n",
       "\n",
       "      require(['datalab/charting', 'datalab/element!2_152029207683', 'base/js/events',\n",
       "          'datalab/style!/nbextensions/gcpdatalab/charting.css'],\n",
       "        function(charts, dom, events) {\n",
       "          charts.render('gcharts', dom, events, 'table', [], {\"rows\": [{\"c\": [{\"v\": 10}]}, {\"c\": [{\"v\": 9}]}, {\"c\": [{\"v\": 8}]}, {\"c\": [{\"v\": 7}]}, {\"c\": [{\"v\": 6}]}, {\"c\": [{\"v\": 5}]}, {\"c\": [{\"v\": 2}]}, {\"c\": [{\"v\": null}]}], \"cols\": [{\"type\": \"number\", \"id\": \"nutrition_version\", \"label\": \"nutrition_version\"}]},\n",
       "            {\n",
       "              pageSize: 25,\n",
       "              cssClassNames:  {\n",
       "                tableRow: 'gchart-table-row',\n",
       "                headerRow: 'gchart-table-headerrow',\n",
       "                oddTableRow: 'gchart-table-oddrow',\n",
       "                selectedTableRow: 'gchart-table-selectedrow',\n",
       "                hoverTableRow: 'gchart-table-hoverrow',\n",
       "                tableCell: 'gchart-table-cell',\n",
       "                headerCell: 'gchart-table-headercell',\n",
       "                rowNumberCell: 'gchart-table-rownumcell'\n",
       "              }\n",
       "            },\n",
       "            {source_index: 0, fields: 'nutrition_version', legacy: 'true'},\n",
       "            0,\n",
       "            8);\n",
       "        }\n",
       "      );\n",
       "    </script>\n",
       "  "
      ],
      "text/plain": [
       "QueryResultsTable job_LjiRx20Z5NMJ9TghMaN0AftZffIM"
      ]
     },
     "execution_count": 7,
     "metadata": {},
     "output_type": "execute_result"
    }
   ],
   "source": [
    "%%bigquery execute -q derived_nutrition_versions"
   ]
  },
  {
   "cell_type": "markdown",
   "metadata": {},
   "source": [
    "Latest nutrition version is 10. We will need to specify this version in our BigQuery's to get only the recipes with such attribute and avoid duplicates."
   ]
  },
  {
   "cell_type": "markdown",
   "metadata": {},
   "source": [
    "#### Extracting cholesterol from `derived_nutrition` column. Note that we use URLs from domain `epicurious.com` as they always have `derived_nutrition`."
   ]
  },
  {
   "cell_type": "code",
   "execution_count": 8,
   "metadata": {
    "collapsed": false
   },
   "outputs": [],
   "source": [
    "%%sql --module epicurious_cholesterol_derived_nutrition\n",
    "SELECT url, derived_nutrition AS cholesterol\n",
    "FROM [firebase-wellio:recipes.imported_recipes]\n",
    "WHERE url LIKE '%epicurious.com%' AND derived_nutrition IS NOT NULL AND INTEGER(RIGHT(derived_nutrition_version, \n",
    "  LENGTH(derived_nutrition_version)-1)) = 10 AND derived_nutrition LIKE '%\"name\": \"Cholesterol\"%'"
   ]
  },
  {
   "cell_type": "code",
   "execution_count": 9,
   "metadata": {
    "collapsed": false
   },
   "outputs": [
    {
     "data": {
      "text/html": [
       "\n",
       "    <div class=\"bqtv\" id=\"3_152029210220\"><table><tr><th>url</th><th>cholesterol</th></tr><tr><td>http://www.epicurious.com/recipes/food/views/hot-slaw-a-la-greyhound-grill</td><td>{\"name\": \"Cholesterol\", \"nutrient_id\": \"601\", \"unit\": \"mg\", \"agg_value\": 102.13370326397855}</td></tr><tr><td>http://www.epicurious.com/recipes/food/views/simmered-greens-with-cornmeal-dumplings-241202</td><td>{\"name\": \"Cholesterol\", \"nutrient_id\": \"601\", \"unit\": \"mg\", \"agg_value\": 449.0544915482243}</td></tr><tr><td>http://www.epicurious.com/recipes/food/views/grilled-flank-steak-and-red-onion-with-orange-gremolata-12023</td><td>{\"name\": \"Cholesterol\", \"nutrient_id\": \"601\", \"unit\": \"mg\", \"agg_value\": 249.8754574945359}</td></tr><tr><td>https://www.epicurious.com/recipes/member/views/osso-buco-with-toasted-pine-nuts-gremolata-50086933</td><td>{\"name\": \"Cholesterol\", \"nutrient_id\": \"601\", \"unit\": \"mg\", \"agg_value\": 576.7273441394443}</td></tr><tr><td>http://www.epicurious.com/recipes/member/views/savory-summer-pasta-1209541</td><td>{\"name\": \"Cholesterol\", \"nutrient_id\": \"601\", \"unit\": \"mg\", \"agg_value\": 0.12280796535838961}</td></tr><tr><td>http://www.epicurious.com/recipes/member/views/cannellini-bean-frittata-1246642</td><td>{\"name\": \"Cholesterol\", \"nutrient_id\": \"601\", \"unit\": \"mg\", \"agg_value\": 2735.2587284313613}</td></tr><tr><td>http://www.epicurious.com/recipes/member/views/pureed-cauliflower-soup-with-pancetta-and-gremolata-51539131</td><td>{\"name\": \"Cholesterol\", \"nutrient_id\": \"601\", \"unit\": \"mg\", \"agg_value\": 254.34594528164175}</td></tr><tr><td>http://www.epicurious.com/recipes/food/views/red-bean-soup-with-gremolata-351299</td><td>{\"name\": \"Cholesterol\", \"nutrient_id\": \"601\", \"unit\": \"mg\", \"agg_value\": 389.12111460679995}</td></tr><tr><td>http://www.epicurious.com/recipes/food/views/chicken-frico-with-gremolata-237906</td><td>{\"name\": \"Cholesterol\", \"nutrient_id\": \"601\", \"unit\": \"mg\", \"agg_value\": 65.35117908782577}</td></tr><tr><td>https://www.epicurious.com/recipes/food/views/salt-as-you-go-pasta</td><td>{\"name\": \"Cholesterol\", \"nutrient_id\": \"601\", \"unit\": \"mg\", \"agg_value\": 41.204286664430924}</td></tr><tr><td>http://www.epicurious.com/recipes/food/views/pasta-with-kalamata-olives-and-roasted-cherry-tomato-sauce-106310</td><td>{\"name\": \"Cholesterol\", \"nutrient_id\": \"601\", \"unit\": \"mg\", \"agg_value\": 151.0965778994348}</td></tr><tr><td>http://www.epicurious.com/recipes/food/views/roasted-chicken-with-garbanzo-ragout-and-gremolata-230648</td><td>{\"name\": \"Cholesterol\", \"nutrient_id\": \"601\", \"unit\": \"mg\", \"agg_value\": 1345.4625188891857}</td></tr><tr><td>http://www.epicurious.com/recipes/member/views/caramelized-onion-and-chorizo-frittata-50048284</td><td>{\"name\": \"Cholesterol\", \"nutrient_id\": \"601\", \"unit\": \"mg\", \"agg_value\": 401.8232973425229}</td></tr><tr><td>http://www.epicurious.com/recipes/food/views/Roasted-Shrimp-with-Chile-Gremolata-51223810</td><td>{\"name\": \"Cholesterol\", \"nutrient_id\": \"601\", \"unit\": \"mg\", \"agg_value\": 1718.8996176643734}</td></tr><tr><td>http://www.epicurious.com/recipes/member/views/sweet-potato-risotto-1242759</td><td>{\"name\": \"Cholesterol\", \"nutrient_id\": \"601\", \"unit\": \"mg\", \"agg_value\": 234.26198308774076}</td></tr><tr><td>http://www.epicurious.com/recipes/member/views/veal-piccata-50032841</td><td>{\"name\": \"Cholesterol\", \"nutrient_id\": \"601\", \"unit\": \"mg\", \"agg_value\": 343.3527276811215}</td></tr><tr><td>http://www.epicurious.com/recipes/food/views/roasted-asparagus-soup-with-spring-herb-gremolata-241881</td><td>{\"name\": \"Cholesterol\", \"nutrient_id\": \"601\", \"unit\": \"mg\", \"agg_value\": 51.39423879676009}</td></tr><tr><td>http://www.epicurious.com/recipes/member/views/thai-indian-fusion-pasta-paneer-pasta-50182888</td><td>{\"name\": \"Cholesterol\", \"nutrient_id\": \"601\", \"unit\": \"mg\", \"agg_value\": 82.51341176836779}</td></tr><tr><td>http://www.epicurious.com/recipes/food/views/Sun-dried-Tomato-and-Broccoli-Pasta-51188620</td><td>{\"name\": \"Cholesterol\", \"nutrient_id\": \"601\", \"unit\": \"mg\", \"agg_value\": 17.034790060751043}</td></tr><tr><td>http://www.epicurious.com/recipes/member/views/sweet-beet-risotto-1200430</td><td>{\"name\": \"Cholesterol\", \"nutrient_id\": \"601\", \"unit\": \"mg\", \"agg_value\": 98.61765595153513}</td></tr><tr><td>http://www.epicurious.com/recipes/food/views/trail-mix-porridge-51221010</td><td>{\"name\": \"Cholesterol\", \"nutrient_id\": \"601\", \"unit\": \"mg\", \"agg_value\": 11.296363557984881}</td></tr><tr><td>http://www.epicurious.com/recipes/member/views/grilled-spicy-eggplant-pasta-1204785</td><td>{\"name\": \"Cholesterol\", \"nutrient_id\": \"601\", \"unit\": \"mg\", \"agg_value\": 16.66510604372477}</td></tr><tr><td>https://www.epicurious.com/recipes/member/views/southwestern-pasta-50052933</td><td>{\"name\": \"Cholesterol\", \"nutrient_id\": \"601\", \"unit\": \"mg\", \"agg_value\": 0.0}</td></tr><tr><td>http://www.epicurious.com/recipes/food/views/bell-pepper-and-cheddar-frittata-107913</td><td>{\"name\": \"Cholesterol\", \"nutrient_id\": \"601\", \"unit\": \"mg\", \"agg_value\": 502.90469865946926}</td></tr><tr><td>http://www.epicurious.com/recipes/member/views/osso-buco-with-toasted-pine-nuts-gremolata-50086933</td><td>{\"name\": \"Cholesterol\", \"nutrient_id\": \"601\", \"unit\": \"mg\", \"agg_value\": 579.6070245215401}</td></tr></table></div>\n",
       "    <br />(rows: 653819, time: 8.9s,    33GB processed, job: job_b6BvF338rQ6-SSvKpkqh92F83JI8)<br />\n",
       "    <script src=\"/static/components/requirejs/require.js\"></script>\n",
       "    <script>\n",
       "\n",
       "      require.config({\n",
       "        paths: {\n",
       "          base: '/static/base',\n",
       "          d3: '//cdnjs.cloudflare.com/ajax/libs/d3/3.4.13/d3',\n",
       "          plotly: 'https://cdn.plot.ly/plotly-1.5.1.min.js?noext',\n",
       "          jquery: '//ajax.googleapis.com/ajax/libs/jquery/2.0.0/jquery.min'\n",
       "        },\n",
       "        map: {\n",
       "          '*': {\n",
       "            datalab: 'nbextensions/gcpdatalab'\n",
       "          }\n",
       "        },\n",
       "        shim: {\n",
       "          plotly: {\n",
       "            deps: ['d3', 'jquery'],\n",
       "            exports: 'plotly'\n",
       "          }\n",
       "        }\n",
       "      });\n",
       "\n",
       "      require(['datalab/charting', 'datalab/element!3_152029210220', 'base/js/events',\n",
       "          'datalab/style!/nbextensions/gcpdatalab/charting.css'],\n",
       "        function(charts, dom, events) {\n",
       "          charts.render('gcharts', dom, events, 'paged_table', [], {\"rows\": [{\"c\": [{\"v\": \"http://www.epicurious.com/recipes/food/views/hot-slaw-a-la-greyhound-grill\"}, {\"v\": \"{\\\"name\\\": \\\"Cholesterol\\\", \\\"nutrient_id\\\": \\\"601\\\", \\\"unit\\\": \\\"mg\\\", \\\"agg_value\\\": 102.13370326397855}\"}]}, {\"c\": [{\"v\": \"http://www.epicurious.com/recipes/food/views/simmered-greens-with-cornmeal-dumplings-241202\"}, {\"v\": \"{\\\"name\\\": \\\"Cholesterol\\\", \\\"nutrient_id\\\": \\\"601\\\", \\\"unit\\\": \\\"mg\\\", \\\"agg_value\\\": 449.0544915482243}\"}]}, {\"c\": [{\"v\": \"http://www.epicurious.com/recipes/food/views/grilled-flank-steak-and-red-onion-with-orange-gremolata-12023\"}, {\"v\": \"{\\\"name\\\": \\\"Cholesterol\\\", \\\"nutrient_id\\\": \\\"601\\\", \\\"unit\\\": \\\"mg\\\", \\\"agg_value\\\": 249.8754574945359}\"}]}, {\"c\": [{\"v\": \"https://www.epicurious.com/recipes/member/views/osso-buco-with-toasted-pine-nuts-gremolata-50086933\"}, {\"v\": \"{\\\"name\\\": \\\"Cholesterol\\\", \\\"nutrient_id\\\": \\\"601\\\", \\\"unit\\\": \\\"mg\\\", \\\"agg_value\\\": 576.7273441394443}\"}]}, {\"c\": [{\"v\": \"http://www.epicurious.com/recipes/member/views/savory-summer-pasta-1209541\"}, {\"v\": \"{\\\"name\\\": \\\"Cholesterol\\\", \\\"nutrient_id\\\": \\\"601\\\", \\\"unit\\\": \\\"mg\\\", \\\"agg_value\\\": 0.12280796535838961}\"}]}, {\"c\": [{\"v\": \"http://www.epicurious.com/recipes/member/views/cannellini-bean-frittata-1246642\"}, {\"v\": \"{\\\"name\\\": \\\"Cholesterol\\\", \\\"nutrient_id\\\": \\\"601\\\", \\\"unit\\\": \\\"mg\\\", \\\"agg_value\\\": 2735.2587284313613}\"}]}, {\"c\": [{\"v\": \"http://www.epicurious.com/recipes/member/views/pureed-cauliflower-soup-with-pancetta-and-gremolata-51539131\"}, {\"v\": \"{\\\"name\\\": \\\"Cholesterol\\\", \\\"nutrient_id\\\": \\\"601\\\", \\\"unit\\\": \\\"mg\\\", \\\"agg_value\\\": 254.34594528164175}\"}]}, {\"c\": [{\"v\": \"http://www.epicurious.com/recipes/food/views/red-bean-soup-with-gremolata-351299\"}, {\"v\": \"{\\\"name\\\": \\\"Cholesterol\\\", \\\"nutrient_id\\\": \\\"601\\\", \\\"unit\\\": \\\"mg\\\", \\\"agg_value\\\": 389.12111460679995}\"}]}, {\"c\": [{\"v\": \"http://www.epicurious.com/recipes/food/views/chicken-frico-with-gremolata-237906\"}, {\"v\": \"{\\\"name\\\": \\\"Cholesterol\\\", \\\"nutrient_id\\\": \\\"601\\\", \\\"unit\\\": \\\"mg\\\", \\\"agg_value\\\": 65.35117908782577}\"}]}, {\"c\": [{\"v\": \"https://www.epicurious.com/recipes/food/views/salt-as-you-go-pasta\"}, {\"v\": \"{\\\"name\\\": \\\"Cholesterol\\\", \\\"nutrient_id\\\": \\\"601\\\", \\\"unit\\\": \\\"mg\\\", \\\"agg_value\\\": 41.204286664430924}\"}]}, {\"c\": [{\"v\": \"http://www.epicurious.com/recipes/food/views/pasta-with-kalamata-olives-and-roasted-cherry-tomato-sauce-106310\"}, {\"v\": \"{\\\"name\\\": \\\"Cholesterol\\\", \\\"nutrient_id\\\": \\\"601\\\", \\\"unit\\\": \\\"mg\\\", \\\"agg_value\\\": 151.0965778994348}\"}]}, {\"c\": [{\"v\": \"http://www.epicurious.com/recipes/food/views/roasted-chicken-with-garbanzo-ragout-and-gremolata-230648\"}, {\"v\": \"{\\\"name\\\": \\\"Cholesterol\\\", \\\"nutrient_id\\\": \\\"601\\\", \\\"unit\\\": \\\"mg\\\", \\\"agg_value\\\": 1345.4625188891857}\"}]}, {\"c\": [{\"v\": \"http://www.epicurious.com/recipes/member/views/caramelized-onion-and-chorizo-frittata-50048284\"}, {\"v\": \"{\\\"name\\\": \\\"Cholesterol\\\", \\\"nutrient_id\\\": \\\"601\\\", \\\"unit\\\": \\\"mg\\\", \\\"agg_value\\\": 401.8232973425229}\"}]}, {\"c\": [{\"v\": \"http://www.epicurious.com/recipes/food/views/Roasted-Shrimp-with-Chile-Gremolata-51223810\"}, {\"v\": \"{\\\"name\\\": \\\"Cholesterol\\\", \\\"nutrient_id\\\": \\\"601\\\", \\\"unit\\\": \\\"mg\\\", \\\"agg_value\\\": 1718.8996176643734}\"}]}, {\"c\": [{\"v\": \"http://www.epicurious.com/recipes/member/views/sweet-potato-risotto-1242759\"}, {\"v\": \"{\\\"name\\\": \\\"Cholesterol\\\", \\\"nutrient_id\\\": \\\"601\\\", \\\"unit\\\": \\\"mg\\\", \\\"agg_value\\\": 234.26198308774076}\"}]}, {\"c\": [{\"v\": \"http://www.epicurious.com/recipes/member/views/veal-piccata-50032841\"}, {\"v\": \"{\\\"name\\\": \\\"Cholesterol\\\", \\\"nutrient_id\\\": \\\"601\\\", \\\"unit\\\": \\\"mg\\\", \\\"agg_value\\\": 343.3527276811215}\"}]}, {\"c\": [{\"v\": \"http://www.epicurious.com/recipes/food/views/roasted-asparagus-soup-with-spring-herb-gremolata-241881\"}, {\"v\": \"{\\\"name\\\": \\\"Cholesterol\\\", \\\"nutrient_id\\\": \\\"601\\\", \\\"unit\\\": \\\"mg\\\", \\\"agg_value\\\": 51.39423879676009}\"}]}, {\"c\": [{\"v\": \"http://www.epicurious.com/recipes/member/views/thai-indian-fusion-pasta-paneer-pasta-50182888\"}, {\"v\": \"{\\\"name\\\": \\\"Cholesterol\\\", \\\"nutrient_id\\\": \\\"601\\\", \\\"unit\\\": \\\"mg\\\", \\\"agg_value\\\": 82.51341176836779}\"}]}, {\"c\": [{\"v\": \"http://www.epicurious.com/recipes/food/views/Sun-dried-Tomato-and-Broccoli-Pasta-51188620\"}, {\"v\": \"{\\\"name\\\": \\\"Cholesterol\\\", \\\"nutrient_id\\\": \\\"601\\\", \\\"unit\\\": \\\"mg\\\", \\\"agg_value\\\": 17.034790060751043}\"}]}, {\"c\": [{\"v\": \"http://www.epicurious.com/recipes/member/views/sweet-beet-risotto-1200430\"}, {\"v\": \"{\\\"name\\\": \\\"Cholesterol\\\", \\\"nutrient_id\\\": \\\"601\\\", \\\"unit\\\": \\\"mg\\\", \\\"agg_value\\\": 98.61765595153513}\"}]}, {\"c\": [{\"v\": \"http://www.epicurious.com/recipes/food/views/trail-mix-porridge-51221010\"}, {\"v\": \"{\\\"name\\\": \\\"Cholesterol\\\", \\\"nutrient_id\\\": \\\"601\\\", \\\"unit\\\": \\\"mg\\\", \\\"agg_value\\\": 11.296363557984881}\"}]}, {\"c\": [{\"v\": \"http://www.epicurious.com/recipes/member/views/grilled-spicy-eggplant-pasta-1204785\"}, {\"v\": \"{\\\"name\\\": \\\"Cholesterol\\\", \\\"nutrient_id\\\": \\\"601\\\", \\\"unit\\\": \\\"mg\\\", \\\"agg_value\\\": 16.66510604372477}\"}]}, {\"c\": [{\"v\": \"https://www.epicurious.com/recipes/member/views/southwestern-pasta-50052933\"}, {\"v\": \"{\\\"name\\\": \\\"Cholesterol\\\", \\\"nutrient_id\\\": \\\"601\\\", \\\"unit\\\": \\\"mg\\\", \\\"agg_value\\\": 0.0}\"}]}, {\"c\": [{\"v\": \"http://www.epicurious.com/recipes/food/views/bell-pepper-and-cheddar-frittata-107913\"}, {\"v\": \"{\\\"name\\\": \\\"Cholesterol\\\", \\\"nutrient_id\\\": \\\"601\\\", \\\"unit\\\": \\\"mg\\\", \\\"agg_value\\\": 502.90469865946926}\"}]}, {\"c\": [{\"v\": \"http://www.epicurious.com/recipes/member/views/osso-buco-with-toasted-pine-nuts-gremolata-50086933\"}, {\"v\": \"{\\\"name\\\": \\\"Cholesterol\\\", \\\"nutrient_id\\\": \\\"601\\\", \\\"unit\\\": \\\"mg\\\", \\\"agg_value\\\": 579.6070245215401}\"}]}], \"cols\": [{\"type\": \"string\", \"id\": \"url\", \"label\": \"url\"}, {\"type\": \"string\", \"id\": \"cholesterol\", \"label\": \"cholesterol\"}]},\n",
       "            {\n",
       "              pageSize: 25,\n",
       "              cssClassNames:  {\n",
       "                tableRow: 'gchart-table-row',\n",
       "                headerRow: 'gchart-table-headerrow',\n",
       "                oddTableRow: 'gchart-table-oddrow',\n",
       "                selectedTableRow: 'gchart-table-selectedrow',\n",
       "                hoverTableRow: 'gchart-table-hoverrow',\n",
       "                tableCell: 'gchart-table-cell',\n",
       "                headerCell: 'gchart-table-headercell',\n",
       "                rowNumberCell: 'gchart-table-rownumcell'\n",
       "              }\n",
       "            },\n",
       "            {source_index: 1, fields: 'url,cholesterol', legacy: 'true'},\n",
       "            0,\n",
       "            653819);\n",
       "        }\n",
       "      );\n",
       "    </script>\n",
       "  "
      ],
      "text/plain": [
       "QueryResultsTable job_b6BvF338rQ6-SSvKpkqh92F83JI8"
      ]
     },
     "execution_count": 9,
     "metadata": {},
     "output_type": "execute_result"
    }
   ],
   "source": [
    "%%bigquery execute -q epicurious_cholesterol_derived_nutrition"
   ]
  },
  {
   "cell_type": "markdown",
   "metadata": {},
   "source": [
    "Export data to pandas dataframe."
   ]
  },
  {
   "cell_type": "code",
   "execution_count": 10,
   "metadata": {
    "collapsed": true
   },
   "outputs": [],
   "source": [
    "epicurious_derived_cholesterol_df = bq.Query(epicurious_cholesterol_derived_nutrition).to_dataframe()"
   ]
  },
  {
   "cell_type": "markdown",
   "metadata": {},
   "source": [
    "How many rows of data?"
   ]
  },
  {
   "cell_type": "code",
   "execution_count": 11,
   "metadata": {
    "collapsed": false
   },
   "outputs": [
    {
     "data": {
      "text/plain": [
       "(653819, 2)"
      ]
     },
     "execution_count": 11,
     "metadata": {},
     "output_type": "execute_result"
    }
   ],
   "source": [
    "epicurious_derived_cholesterol_df.shape"
   ]
  },
  {
   "cell_type": "code",
   "execution_count": 12,
   "metadata": {
    "collapsed": false
   },
   "outputs": [
    {
     "data": {
      "text/html": [
       "<div>\n",
       "<style scoped>\n",
       "    .dataframe tbody tr th:only-of-type {\n",
       "        vertical-align: middle;\n",
       "    }\n",
       "\n",
       "    .dataframe tbody tr th {\n",
       "        vertical-align: top;\n",
       "    }\n",
       "\n",
       "    .dataframe thead th {\n",
       "        text-align: right;\n",
       "    }\n",
       "</style>\n",
       "<table border=\"1\" class=\"dataframe\">\n",
       "  <thead>\n",
       "    <tr style=\"text-align: right;\">\n",
       "      <th></th>\n",
       "      <th>url</th>\n",
       "      <th>cholesterol</th>\n",
       "    </tr>\n",
       "  </thead>\n",
       "  <tbody>\n",
       "    <tr>\n",
       "      <th>0</th>\n",
       "      <td>http://www.epicurious.com/recipes/food/views/hot-slaw-a-la-greyhound-grill</td>\n",
       "      <td>{\"name\": \"Cholesterol\", \"nutrient_id\": \"601\", \"unit\": \"mg\", \"agg_value\": 102.13370326397855}</td>\n",
       "    </tr>\n",
       "    <tr>\n",
       "      <th>1</th>\n",
       "      <td>http://www.epicurious.com/recipes/food/views/simmered-greens-with-cornmeal-dumplings-241202</td>\n",
       "      <td>{\"name\": \"Cholesterol\", \"nutrient_id\": \"601\", \"unit\": \"mg\", \"agg_value\": 449.0544915482243}</td>\n",
       "    </tr>\n",
       "    <tr>\n",
       "      <th>2</th>\n",
       "      <td>http://www.epicurious.com/recipes/food/views/grilled-flank-steak-and-red-onion-with-orange-gremolata-12023</td>\n",
       "      <td>{\"name\": \"Cholesterol\", \"nutrient_id\": \"601\", \"unit\": \"mg\", \"agg_value\": 249.8754574945359}</td>\n",
       "    </tr>\n",
       "    <tr>\n",
       "      <th>3</th>\n",
       "      <td>https://www.epicurious.com/recipes/member/views/osso-buco-with-toasted-pine-nuts-gremolata-50086933</td>\n",
       "      <td>{\"name\": \"Cholesterol\", \"nutrient_id\": \"601\", \"unit\": \"mg\", \"agg_value\": 576.7273441394443}</td>\n",
       "    </tr>\n",
       "    <tr>\n",
       "      <th>4</th>\n",
       "      <td>http://www.epicurious.com/recipes/member/views/savory-summer-pasta-1209541</td>\n",
       "      <td>{\"name\": \"Cholesterol\", \"nutrient_id\": \"601\", \"unit\": \"mg\", \"agg_value\": 0.12280796535838961}</td>\n",
       "    </tr>\n",
       "  </tbody>\n",
       "</table>\n",
       "</div>"
      ],
      "text/plain": [
       "                                                                                                          url  \\\n",
       "0  http://www.epicurious.com/recipes/food/views/hot-slaw-a-la-greyhound-grill                                   \n",
       "1  http://www.epicurious.com/recipes/food/views/simmered-greens-with-cornmeal-dumplings-241202                  \n",
       "2  http://www.epicurious.com/recipes/food/views/grilled-flank-steak-and-red-onion-with-orange-gremolata-12023   \n",
       "3  https://www.epicurious.com/recipes/member/views/osso-buco-with-toasted-pine-nuts-gremolata-50086933          \n",
       "4  http://www.epicurious.com/recipes/member/views/savory-summer-pasta-1209541                                   \n",
       "\n",
       "                                                                                     cholesterol  \n",
       "0  {\"name\": \"Cholesterol\", \"nutrient_id\": \"601\", \"unit\": \"mg\", \"agg_value\": 102.13370326397855}   \n",
       "1  {\"name\": \"Cholesterol\", \"nutrient_id\": \"601\", \"unit\": \"mg\", \"agg_value\": 449.0544915482243}    \n",
       "2  {\"name\": \"Cholesterol\", \"nutrient_id\": \"601\", \"unit\": \"mg\", \"agg_value\": 249.8754574945359}    \n",
       "3  {\"name\": \"Cholesterol\", \"nutrient_id\": \"601\", \"unit\": \"mg\", \"agg_value\": 576.7273441394443}    \n",
       "4  {\"name\": \"Cholesterol\", \"nutrient_id\": \"601\", \"unit\": \"mg\", \"agg_value\": 0.12280796535838961}  "
      ]
     },
     "execution_count": 12,
     "metadata": {},
     "output_type": "execute_result"
    }
   ],
   "source": [
    "epicurious_derived_cholesterol_df.head()"
   ]
  },
  {
   "cell_type": "markdown",
   "metadata": {},
   "source": [
    "Extracting numeric value of calories using regex."
   ]
  },
  {
   "cell_type": "code",
   "execution_count": 13,
   "metadata": {
    "collapsed": false
   },
   "outputs": [],
   "source": [
    "epicurious_derived_cholesterol_df['cholesterol_amount'] = epicurious_derived_cholesterol_df['cholesterol'].str.extract('\"agg_value\": ([0-9]+.[0-9]+)', expand=True)"
   ]
  },
  {
   "cell_type": "code",
   "execution_count": 14,
   "metadata": {
    "collapsed": false
   },
   "outputs": [
    {
     "data": {
      "text/html": [
       "<div>\n",
       "<style scoped>\n",
       "    .dataframe tbody tr th:only-of-type {\n",
       "        vertical-align: middle;\n",
       "    }\n",
       "\n",
       "    .dataframe tbody tr th {\n",
       "        vertical-align: top;\n",
       "    }\n",
       "\n",
       "    .dataframe thead th {\n",
       "        text-align: right;\n",
       "    }\n",
       "</style>\n",
       "<table border=\"1\" class=\"dataframe\">\n",
       "  <thead>\n",
       "    <tr style=\"text-align: right;\">\n",
       "      <th></th>\n",
       "      <th>url</th>\n",
       "      <th>cholesterol</th>\n",
       "      <th>cholesterol_amount</th>\n",
       "    </tr>\n",
       "  </thead>\n",
       "  <tbody>\n",
       "    <tr>\n",
       "      <th>0</th>\n",
       "      <td>http://www.epicurious.com/recipes/food/views/hot-slaw-a-la-greyhound-grill</td>\n",
       "      <td>{\"name\": \"Cholesterol\", \"nutrient_id\": \"601\", \"unit\": \"mg\", \"agg_value\": 102.13370326397855}</td>\n",
       "      <td>102.13370326397855</td>\n",
       "    </tr>\n",
       "    <tr>\n",
       "      <th>1</th>\n",
       "      <td>http://www.epicurious.com/recipes/food/views/simmered-greens-with-cornmeal-dumplings-241202</td>\n",
       "      <td>{\"name\": \"Cholesterol\", \"nutrient_id\": \"601\", \"unit\": \"mg\", \"agg_value\": 449.0544915482243}</td>\n",
       "      <td>449.0544915482243</td>\n",
       "    </tr>\n",
       "    <tr>\n",
       "      <th>2</th>\n",
       "      <td>http://www.epicurious.com/recipes/food/views/grilled-flank-steak-and-red-onion-with-orange-gremolata-12023</td>\n",
       "      <td>{\"name\": \"Cholesterol\", \"nutrient_id\": \"601\", \"unit\": \"mg\", \"agg_value\": 249.8754574945359}</td>\n",
       "      <td>249.8754574945359</td>\n",
       "    </tr>\n",
       "    <tr>\n",
       "      <th>3</th>\n",
       "      <td>https://www.epicurious.com/recipes/member/views/osso-buco-with-toasted-pine-nuts-gremolata-50086933</td>\n",
       "      <td>{\"name\": \"Cholesterol\", \"nutrient_id\": \"601\", \"unit\": \"mg\", \"agg_value\": 576.7273441394443}</td>\n",
       "      <td>576.7273441394443</td>\n",
       "    </tr>\n",
       "    <tr>\n",
       "      <th>4</th>\n",
       "      <td>http://www.epicurious.com/recipes/member/views/savory-summer-pasta-1209541</td>\n",
       "      <td>{\"name\": \"Cholesterol\", \"nutrient_id\": \"601\", \"unit\": \"mg\", \"agg_value\": 0.12280796535838961}</td>\n",
       "      <td>0.12280796535838961</td>\n",
       "    </tr>\n",
       "  </tbody>\n",
       "</table>\n",
       "</div>"
      ],
      "text/plain": [
       "                                                                                                          url  \\\n",
       "0  http://www.epicurious.com/recipes/food/views/hot-slaw-a-la-greyhound-grill                                   \n",
       "1  http://www.epicurious.com/recipes/food/views/simmered-greens-with-cornmeal-dumplings-241202                  \n",
       "2  http://www.epicurious.com/recipes/food/views/grilled-flank-steak-and-red-onion-with-orange-gremolata-12023   \n",
       "3  https://www.epicurious.com/recipes/member/views/osso-buco-with-toasted-pine-nuts-gremolata-50086933          \n",
       "4  http://www.epicurious.com/recipes/member/views/savory-summer-pasta-1209541                                   \n",
       "\n",
       "                                                                                     cholesterol  \\\n",
       "0  {\"name\": \"Cholesterol\", \"nutrient_id\": \"601\", \"unit\": \"mg\", \"agg_value\": 102.13370326397855}    \n",
       "1  {\"name\": \"Cholesterol\", \"nutrient_id\": \"601\", \"unit\": \"mg\", \"agg_value\": 449.0544915482243}     \n",
       "2  {\"name\": \"Cholesterol\", \"nutrient_id\": \"601\", \"unit\": \"mg\", \"agg_value\": 249.8754574945359}     \n",
       "3  {\"name\": \"Cholesterol\", \"nutrient_id\": \"601\", \"unit\": \"mg\", \"agg_value\": 576.7273441394443}     \n",
       "4  {\"name\": \"Cholesterol\", \"nutrient_id\": \"601\", \"unit\": \"mg\", \"agg_value\": 0.12280796535838961}   \n",
       "\n",
       "    cholesterol_amount  \n",
       "0  102.13370326397855   \n",
       "1  449.0544915482243    \n",
       "2  249.8754574945359    \n",
       "3  576.7273441394443    \n",
       "4  0.12280796535838961  "
      ]
     },
     "execution_count": 14,
     "metadata": {},
     "output_type": "execute_result"
    }
   ],
   "source": [
    "epicurious_derived_cholesterol_df.head()"
   ]
  },
  {
   "cell_type": "markdown",
   "metadata": {},
   "source": [
    "Converting new column into float data type."
   ]
  },
  {
   "cell_type": "code",
   "execution_count": 15,
   "metadata": {
    "collapsed": false
   },
   "outputs": [],
   "source": [
    "epicurious_derived_cholesterol_df['cholesterol_amount'] = epicurious_derived_cholesterol_df['cholesterol_amount'].apply(pd.to_numeric)"
   ]
  },
  {
   "cell_type": "markdown",
   "metadata": {},
   "source": [
    "Exploring basic statistics of the calories amount."
   ]
  },
  {
   "cell_type": "code",
   "execution_count": 16,
   "metadata": {
    "collapsed": false
   },
   "outputs": [
    {
     "data": {
      "text/html": [
       "<div>\n",
       "<style scoped>\n",
       "    .dataframe tbody tr th:only-of-type {\n",
       "        vertical-align: middle;\n",
       "    }\n",
       "\n",
       "    .dataframe tbody tr th {\n",
       "        vertical-align: top;\n",
       "    }\n",
       "\n",
       "    .dataframe thead th {\n",
       "        text-align: right;\n",
       "    }\n",
       "</style>\n",
       "<table border=\"1\" class=\"dataframe\">\n",
       "  <thead>\n",
       "    <tr style=\"text-align: right;\">\n",
       "      <th></th>\n",
       "      <th>cholesterol_amount</th>\n",
       "    </tr>\n",
       "  </thead>\n",
       "  <tbody>\n",
       "    <tr>\n",
       "      <th>count</th>\n",
       "      <td>653819.00</td>\n",
       "    </tr>\n",
       "    <tr>\n",
       "      <th>mean</th>\n",
       "      <td>43717.06</td>\n",
       "    </tr>\n",
       "    <tr>\n",
       "      <th>std</th>\n",
       "      <td>2889799.12</td>\n",
       "    </tr>\n",
       "    <tr>\n",
       "      <th>min</th>\n",
       "      <td>0.00</td>\n",
       "    </tr>\n",
       "    <tr>\n",
       "      <th>25%</th>\n",
       "      <td>131.36</td>\n",
       "    </tr>\n",
       "    <tr>\n",
       "      <th>50%</th>\n",
       "      <td>455.14</td>\n",
       "    </tr>\n",
       "    <tr>\n",
       "      <th>75%</th>\n",
       "      <td>989.28</td>\n",
       "    </tr>\n",
       "    <tr>\n",
       "      <th>max</th>\n",
       "      <td>295343834.25</td>\n",
       "    </tr>\n",
       "  </tbody>\n",
       "</table>\n",
       "</div>"
      ],
      "text/plain": [
       "       cholesterol_amount\n",
       "count 653819.00          \n",
       "mean  43717.06           \n",
       "std   2889799.12         \n",
       "min   0.00               \n",
       "25%   131.36             \n",
       "50%   455.14             \n",
       "75%   989.28             \n",
       "max   295343834.25       "
      ]
     },
     "execution_count": 16,
     "metadata": {},
     "output_type": "execute_result"
    }
   ],
   "source": [
    "epicurious_derived_cholesterol_df.describe()"
   ]
  },
  {
   "cell_type": "markdown",
   "metadata": {},
   "source": [
    "How many recipes have 0 mg of cholesterol?"
   ]
  },
  {
   "cell_type": "code",
   "execution_count": 17,
   "metadata": {
    "collapsed": false
   },
   "outputs": [],
   "source": [
    "epicurious_0_derived_cholesterol_df = epicurious_derived_cholesterol_df[epicurious_derived_cholesterol_df['cholesterol_amount'] == 0]"
   ]
  },
  {
   "cell_type": "code",
   "execution_count": 18,
   "metadata": {
    "collapsed": false
   },
   "outputs": [
    {
     "data": {
      "text/plain": [
       "39765    1\n",
       "Name: cholesterol_amount, dtype: int64"
      ]
     },
     "execution_count": 18,
     "metadata": {},
     "output_type": "execute_result"
    }
   ],
   "source": [
    "pd.value_counts(epicurious_0_derived_cholesterol_df['cholesterol_amount'].value_counts())"
   ]
  },
  {
   "cell_type": "code",
   "execution_count": 19,
   "metadata": {
    "collapsed": false
   },
   "outputs": [
    {
     "data": {
      "text/plain": [
       "(39765, 3)"
      ]
     },
     "execution_count": 19,
     "metadata": {},
     "output_type": "execute_result"
    }
   ],
   "source": [
    "epicurious_0_derived_cholesterol_df.shape"
   ]
  },
  {
   "cell_type": "markdown",
   "metadata": {},
   "source": [
    "How many recipes have more than 5,000 mg of cholesterol?"
   ]
  },
  {
   "cell_type": "code",
   "execution_count": 20,
   "metadata": {
    "collapsed": true
   },
   "outputs": [],
   "source": [
    "epicurious_5000_derived_cholesterol_df = epicurious_derived_cholesterol_df[epicurious_derived_cholesterol_df['cholesterol_amount'] > 5000]"
   ]
  },
  {
   "cell_type": "code",
   "execution_count": 21,
   "metadata": {
    "collapsed": false
   },
   "outputs": [
    {
     "data": {
      "text/plain": [
       "(12838, 3)"
      ]
     },
     "execution_count": 21,
     "metadata": {},
     "output_type": "execute_result"
    }
   ],
   "source": [
    "epicurious_5000_derived_cholesterol_df.shape"
   ]
  },
  {
   "cell_type": "markdown",
   "metadata": {},
   "source": [
    "If we don't filter out extreme cholesterol values, we don't get a very useful histogram."
   ]
  },
  {
   "cell_type": "code",
   "execution_count": 22,
   "metadata": {
    "collapsed": false
   },
   "outputs": [
    {
     "data": {
      "image/png": "[encoded data removed]",
      "text/plain": [
       "<matplotlib.figure.Figure at 0x7f75a521e8d0>"
      ]
     },
     "metadata": {},
     "output_type": "display_data"
    }
   ],
   "source": [
    "sns.distplot(epicurious_derived_cholesterol_df['cholesterol_amount']);"
   ]
  },
  {
   "cell_type": "markdown",
   "metadata": {},
   "source": [
    "Let's create a dataframe with mg of cholesterol greater than 0 and less than 5,000."
   ]
  },
  {
   "cell_type": "code",
   "execution_count": 23,
   "metadata": {
    "collapsed": true
   },
   "outputs": [],
   "source": [
    "epicurious_derived_cholesterol_0_5000_df = epicurious_derived_cholesterol_df[(epicurious_derived_cholesterol_df['cholesterol_amount'] > 0) & (epicurious_derived_cholesterol_df['cholesterol_amount'] < 5000)]"
   ]
  },
  {
   "cell_type": "markdown",
   "metadata": {},
   "source": [
    "Now, let's visualize a distribution of the cholesterol amount using the new created dataframe."
   ]
  },
  {
   "cell_type": "code",
   "execution_count": 24,
   "metadata": {
    "collapsed": false
   },
   "outputs": [
    {
     "data": {
      "image/png": "[encoded data removed]",
      "text/plain": [
       "<matplotlib.figure.Figure at 0x7f75a5430f90>"
      ]
     },
     "metadata": {},
     "output_type": "display_data"
    }
   ],
   "source": [
    "sns.distplot(epicurious_derived_cholesterol_0_5000_df['cholesterol_amount']);"
   ]
  },
  {
   "cell_type": "markdown",
   "metadata": {},
   "source": [
    "#### Extracting calories from `nutrition` column. Note that we use URLs from domain `epicurious.com` as they always have `nutrition`."
   ]
  },
  {
   "cell_type": "markdown",
   "metadata": {},
   "source": [
    "One row of data looks like:\n",
    "\n",
    "```\n",
    "Calories 830.5\t \n",
    "Calories from Fat 235\t \n",
    "Total Fat 26.2 g\t \n",
    "Saturated Fat 8.3 g\t \n",
    "Cholesterol 75.1 mg\t \n",
    "Sodium 1251.3 mg\t \n",
    "Total Carbohydrate 103.2 g\t \n",
    "Dietary Fiber 5.4 g\t \n",
    "Sugars 5.3 g\t \n",
    "Protein 43 g\n",
    "```"
   ]
  },
  {
   "cell_type": "code",
   "execution_count": 25,
   "metadata": {
    "collapsed": true
   },
   "outputs": [],
   "source": [
    "%%sql --module epicurious_cholesterol_nutrition\n",
    "SELECT url, nutrition AS cholesterol, RIGHT(nutrition, LENGTH(nutrition)-LENGTH('Cholesterol'))AS cholesterol_extract\n",
    "FROM FLATTEN([firebase-wellio:recipes.imported_recipes], nutrition)\n",
    "WHERE url LIKE '%epicurious.com%' AND derived_nutrition IS NOT NULL AND INTEGER(RIGHT(derived_nutrition_version, \n",
    "  LENGTH(derived_nutrition_version)-1)) = 10 AND nutrition LIKE 'Cholesterol%'"
   ]
  },
  {
   "cell_type": "code",
   "execution_count": 26,
   "metadata": {
    "collapsed": false
   },
   "outputs": [
    {
     "data": {
      "text/html": [
       "\n",
       "    <div class=\"bqtv\" id=\"4_152029253971\"><table><tr><th>url</th><th>cholesterol</th><th>cholesterol_extract</th></tr><tr><td>http://www.epicurious.com/recipes/food/views/hot-slaw-a-la-greyhound-grill</td><td>Cholesterol 12 mg(4%)</td><td> 12 mg(4%)</td></tr><tr><td>http://www.epicurious.com/recipes/food/views/simmered-greens-with-cornmeal-dumplings-241202</td><td>Cholesterol 57 mg(19%)</td><td> 57 mg(19%)</td></tr><tr><td>http://www.epicurious.com/recipes/food/views/savory-bread-pudding-with-mushrooms-and-parmesan-cheese-236494</td><td>Cholesterol 227 mg(76%)</td><td> 227 mg(76%)</td></tr><tr><td>http://www.epicurious.com/recipes/food/views/grilled-flank-steak-and-red-onion-with-orange-gremolata-12023</td><td>Cholesterol 116 mg(39%)</td><td> 116 mg(39%)</td></tr><tr><td>http://www.epicurious.com/recipes/member/views/cannellini-bean-frittata-1246642</td><td>Cholesterol 99 mg(33%)</td><td> 99 mg(33%)</td></tr><tr><td>http://www.epicurious.com/recipes/member/views/pureed-cauliflower-soup-with-pancetta-and-gremolata-51539131</td><td>Cholesterol 19 mg(6%)</td><td> 19 mg(6%)</td></tr><tr><td>http://www.epicurious.com/recipes/food/views/chicken-frico-with-gremolata-237906</td><td>Cholesterol 168 mg(56%)</td><td> 168 mg(56%)</td></tr><tr><td>http://www.epicurious.com/recipes/food/views/pasta-with-kalamata-olives-and-roasted-cherry-tomato-sauce-106310</td><td>Cholesterol 25 mg(8%)</td><td> 25 mg(8%)</td></tr><tr><td>http://www.epicurious.com/recipes/food/views/roasted-chicken-with-garbanzo-ragout-and-gremolata-230648</td><td>Cholesterol 188 mg(63%)</td><td> 188 mg(63%)</td></tr><tr><td>http://www.epicurious.com/recipes/member/views/caramelized-onion-and-chorizo-frittata-50048284</td><td>Cholesterol 305 mg(102%)</td><td> 305 mg(102%)</td></tr><tr><td>http://www.epicurious.com/recipes/member/views/sweet-potato-risotto-1242759</td><td>Cholesterol 43 mg(14%)</td><td> 43 mg(14%)</td></tr><tr><td>http://www.epicurious.com/recipes/member/views/veal-piccata-50032841</td><td>Cholesterol 40 mg(13%)</td><td> 40 mg(13%)</td></tr><tr><td>http://www.epicurious.com/recipes/food/views/roasted-asparagus-soup-with-spring-herb-gremolata-241881</td><td>Cholesterol 20 mg(7%)</td><td> 20 mg(7%)</td></tr><tr><td>http://www.epicurious.com/recipes/member/views/thai-indian-fusion-pasta-paneer-pasta-50182888</td><td>Cholesterol 12 mg(4%)</td><td> 12 mg(4%)</td></tr><tr><td>http://www.epicurious.com/recipes/member/views/sweet-beet-risotto-1200430</td><td>Cholesterol 30 mg(10%)</td><td> 30 mg(10%)</td></tr><tr><td>http://www.epicurious.com/recipes/member/views/grilled-spicy-eggplant-pasta-1204785</td><td>Cholesterol 5 mg(2%)</td><td> 5 mg(2%)</td></tr><tr><td>http://www.epicurious.com/recipes/food/views/bell-pepper-and-cheddar-frittata-107913</td><td>Cholesterol 401 mg(134%)</td><td> 401 mg(134%)</td></tr><tr><td>http://www.epicurious.com/recipes/member/views/swiss-chard-frittata-52513301</td><td>Cholesterol 10 mg(3%)</td><td> 10 mg(3%)</td></tr><tr><td>http://www.epicurious.com/recipes/food/views/fillet-of-salmon-with-fennel-tomatoes-and-risotto-239837</td><td>Cholesterol 138 mg(46%)</td><td> 138 mg(46%)</td></tr><tr><td>http://www.epicurious.com/recipes/food/views/osso-buco-with-tomatoes-olives-and-gremolata-107747</td><td>Cholesterol 225 mg(75%)</td><td> 225 mg(75%)</td></tr><tr><td>http://www.epicurious.com/recipes/member/views/homemade-ranch-seasoning-powder-52831731</td><td>Cholesterol 2 mg(1%)</td><td> 2 mg(1%)</td></tr><tr><td>http://www.epicurious.com/recipes/food/views/sauteed-pasta-with-lobster-103190</td><td>Cholesterol 432 mg(144%)</td><td> 432 mg(144%)</td></tr><tr><td>http://www.epicurious.com/recipes/member/views/pesto-crusted-salmon-1272511</td><td>Cholesterol 47 mg(16%)</td><td> 47 mg(16%)</td></tr><tr><td>http://www.epicurious.com/recipes/food/views/moscatel-glazed-parsnips-350583</td><td>Cholesterol 8 mg(3%)</td><td> 8 mg(3%)</td></tr><tr><td>http://www.epicurious.com/recipes/member/views/valencia-orange-pudding-with-cocoa-cream-mousse-52903581</td><td>Cholesterol 46 mg(15%)</td><td> 46 mg(15%)</td></tr></table></div>\n",
       "    <br />(rows: 293871, time: 6.0s,    34GB processed, job: job_kiqA0_hKzboy83pKPTpi10_jlxY1)<br />\n",
       "    <script src=\"/static/components/requirejs/require.js\"></script>\n",
       "    <script>\n",
       "\n",
       "      require.config({\n",
       "        paths: {\n",
       "          base: '/static/base',\n",
       "          d3: '//cdnjs.cloudflare.com/ajax/libs/d3/3.4.13/d3',\n",
       "          plotly: 'https://cdn.plot.ly/plotly-1.5.1.min.js?noext',\n",
       "          jquery: '//ajax.googleapis.com/ajax/libs/jquery/2.0.0/jquery.min'\n",
       "        },\n",
       "        map: {\n",
       "          '*': {\n",
       "            datalab: 'nbextensions/gcpdatalab'\n",
       "          }\n",
       "        },\n",
       "        shim: {\n",
       "          plotly: {\n",
       "            deps: ['d3', 'jquery'],\n",
       "            exports: 'plotly'\n",
       "          }\n",
       "        }\n",
       "      });\n",
       "\n",
       "      require(['datalab/charting', 'datalab/element!4_152029253971', 'base/js/events',\n",
       "          'datalab/style!/nbextensions/gcpdatalab/charting.css'],\n",
       "        function(charts, dom, events) {\n",
       "          charts.render('gcharts', dom, events, 'paged_table', [], {\"rows\": [{\"c\": [{\"v\": \"http://www.epicurious.com/recipes/food/views/hot-slaw-a-la-greyhound-grill\"}, {\"v\": \"Cholesterol 12 mg(4%)\"}, {\"v\": \" 12 mg(4%)\"}]}, {\"c\": [{\"v\": \"http://www.epicurious.com/recipes/food/views/simmered-greens-with-cornmeal-dumplings-241202\"}, {\"v\": \"Cholesterol 57 mg(19%)\"}, {\"v\": \" 57 mg(19%)\"}]}, {\"c\": [{\"v\": \"http://www.epicurious.com/recipes/food/views/savory-bread-pudding-with-mushrooms-and-parmesan-cheese-236494\"}, {\"v\": \"Cholesterol 227 mg(76%)\"}, {\"v\": \" 227 mg(76%)\"}]}, {\"c\": [{\"v\": \"http://www.epicurious.com/recipes/food/views/grilled-flank-steak-and-red-onion-with-orange-gremolata-12023\"}, {\"v\": \"Cholesterol 116 mg(39%)\"}, {\"v\": \" 116 mg(39%)\"}]}, {\"c\": [{\"v\": \"http://www.epicurious.com/recipes/member/views/cannellini-bean-frittata-1246642\"}, {\"v\": \"Cholesterol 99 mg(33%)\"}, {\"v\": \" 99 mg(33%)\"}]}, {\"c\": [{\"v\": \"http://www.epicurious.com/recipes/member/views/pureed-cauliflower-soup-with-pancetta-and-gremolata-51539131\"}, {\"v\": \"Cholesterol 19 mg(6%)\"}, {\"v\": \" 19 mg(6%)\"}]}, {\"c\": [{\"v\": \"http://www.epicurious.com/recipes/food/views/chicken-frico-with-gremolata-237906\"}, {\"v\": \"Cholesterol 168 mg(56%)\"}, {\"v\": \" 168 mg(56%)\"}]}, {\"c\": [{\"v\": \"http://www.epicurious.com/recipes/food/views/pasta-with-kalamata-olives-and-roasted-cherry-tomato-sauce-106310\"}, {\"v\": \"Cholesterol 25 mg(8%)\"}, {\"v\": \" 25 mg(8%)\"}]}, {\"c\": [{\"v\": \"http://www.epicurious.com/recipes/food/views/roasted-chicken-with-garbanzo-ragout-and-gremolata-230648\"}, {\"v\": \"Cholesterol 188 mg(63%)\"}, {\"v\": \" 188 mg(63%)\"}]}, {\"c\": [{\"v\": \"http://www.epicurious.com/recipes/member/views/caramelized-onion-and-chorizo-frittata-50048284\"}, {\"v\": \"Cholesterol 305 mg(102%)\"}, {\"v\": \" 305 mg(102%)\"}]}, {\"c\": [{\"v\": \"http://www.epicurious.com/recipes/member/views/sweet-potato-risotto-1242759\"}, {\"v\": \"Cholesterol 43 mg(14%)\"}, {\"v\": \" 43 mg(14%)\"}]}, {\"c\": [{\"v\": \"http://www.epicurious.com/recipes/member/views/veal-piccata-50032841\"}, {\"v\": \"Cholesterol 40 mg(13%)\"}, {\"v\": \" 40 mg(13%)\"}]}, {\"c\": [{\"v\": \"http://www.epicurious.com/recipes/food/views/roasted-asparagus-soup-with-spring-herb-gremolata-241881\"}, {\"v\": \"Cholesterol 20 mg(7%)\"}, {\"v\": \" 20 mg(7%)\"}]}, {\"c\": [{\"v\": \"http://www.epicurious.com/recipes/member/views/thai-indian-fusion-pasta-paneer-pasta-50182888\"}, {\"v\": \"Cholesterol 12 mg(4%)\"}, {\"v\": \" 12 mg(4%)\"}]}, {\"c\": [{\"v\": \"http://www.epicurious.com/recipes/member/views/sweet-beet-risotto-1200430\"}, {\"v\": \"Cholesterol 30 mg(10%)\"}, {\"v\": \" 30 mg(10%)\"}]}, {\"c\": [{\"v\": \"http://www.epicurious.com/recipes/member/views/grilled-spicy-eggplant-pasta-1204785\"}, {\"v\": \"Cholesterol 5 mg(2%)\"}, {\"v\": \" 5 mg(2%)\"}]}, {\"c\": [{\"v\": \"http://www.epicurious.com/recipes/food/views/bell-pepper-and-cheddar-frittata-107913\"}, {\"v\": \"Cholesterol 401 mg(134%)\"}, {\"v\": \" 401 mg(134%)\"}]}, {\"c\": [{\"v\": \"http://www.epicurious.com/recipes/member/views/swiss-chard-frittata-52513301\"}, {\"v\": \"Cholesterol 10 mg(3%)\"}, {\"v\": \" 10 mg(3%)\"}]}, {\"c\": [{\"v\": \"http://www.epicurious.com/recipes/food/views/fillet-of-salmon-with-fennel-tomatoes-and-risotto-239837\"}, {\"v\": \"Cholesterol 138 mg(46%)\"}, {\"v\": \" 138 mg(46%)\"}]}, {\"c\": [{\"v\": \"http://www.epicurious.com/recipes/food/views/osso-buco-with-tomatoes-olives-and-gremolata-107747\"}, {\"v\": \"Cholesterol 225 mg(75%)\"}, {\"v\": \" 225 mg(75%)\"}]}, {\"c\": [{\"v\": \"http://www.epicurious.com/recipes/member/views/homemade-ranch-seasoning-powder-52831731\"}, {\"v\": \"Cholesterol 2 mg(1%)\"}, {\"v\": \" 2 mg(1%)\"}]}, {\"c\": [{\"v\": \"http://www.epicurious.com/recipes/food/views/sauteed-pasta-with-lobster-103190\"}, {\"v\": \"Cholesterol 432 mg(144%)\"}, {\"v\": \" 432 mg(144%)\"}]}, {\"c\": [{\"v\": \"http://www.epicurious.com/recipes/member/views/pesto-crusted-salmon-1272511\"}, {\"v\": \"Cholesterol 47 mg(16%)\"}, {\"v\": \" 47 mg(16%)\"}]}, {\"c\": [{\"v\": \"http://www.epicurious.com/recipes/food/views/moscatel-glazed-parsnips-350583\"}, {\"v\": \"Cholesterol 8 mg(3%)\"}, {\"v\": \" 8 mg(3%)\"}]}, {\"c\": [{\"v\": \"http://www.epicurious.com/recipes/member/views/valencia-orange-pudding-with-cocoa-cream-mousse-52903581\"}, {\"v\": \"Cholesterol 46 mg(15%)\"}, {\"v\": \" 46 mg(15%)\"}]}], \"cols\": [{\"type\": \"string\", \"id\": \"url\", \"label\": \"url\"}, {\"type\": \"string\", \"id\": \"cholesterol\", \"label\": \"cholesterol\"}, {\"type\": \"string\", \"id\": \"cholesterol_extract\", \"label\": \"cholesterol_extract\"}]},\n",
       "            {\n",
       "              pageSize: 25,\n",
       "              cssClassNames:  {\n",
       "                tableRow: 'gchart-table-row',\n",
       "                headerRow: 'gchart-table-headerrow',\n",
       "                oddTableRow: 'gchart-table-oddrow',\n",
       "                selectedTableRow: 'gchart-table-selectedrow',\n",
       "                hoverTableRow: 'gchart-table-hoverrow',\n",
       "                tableCell: 'gchart-table-cell',\n",
       "                headerCell: 'gchart-table-headercell',\n",
       "                rowNumberCell: 'gchart-table-rownumcell'\n",
       "              }\n",
       "            },\n",
       "            {source_index: 2, fields: 'url,cholesterol,cholesterol_extract', legacy: 'true'},\n",
       "            0,\n",
       "            293871);\n",
       "        }\n",
       "      );\n",
       "    </script>\n",
       "  "
      ],
      "text/plain": [
       "QueryResultsTable job_kiqA0_hKzboy83pKPTpi10_jlxY1"
      ]
     },
     "execution_count": 26,
     "metadata": {},
     "output_type": "execute_result"
    }
   ],
   "source": [
    "%%bigquery execute -q epicurious_cholesterol_nutrition"
   ]
  },
  {
   "cell_type": "markdown",
   "metadata": {},
   "source": [
    "Export to pandas dataframe."
   ]
  },
  {
   "cell_type": "code",
   "execution_count": 27,
   "metadata": {
    "collapsed": true
   },
   "outputs": [],
   "source": [
    "epicurious_cholesterol_df = bq.Query(epicurious_cholesterol_nutrition).to_dataframe()"
   ]
  },
  {
   "cell_type": "markdown",
   "metadata": {},
   "source": [
    "Note. In case we want to perform sampling with BigQuery:\n",
    "https://www.oreilly.com/learning/repeatable-sampling-of-data-sets-in-bigquery-for-machine-learning"
   ]
  },
  {
   "cell_type": "code",
   "execution_count": 28,
   "metadata": {
    "collapsed": false
   },
   "outputs": [
    {
     "data": {
      "text/html": [
       "<div>\n",
       "<style scoped>\n",
       "    .dataframe tbody tr th:only-of-type {\n",
       "        vertical-align: middle;\n",
       "    }\n",
       "\n",
       "    .dataframe tbody tr th {\n",
       "        vertical-align: top;\n",
       "    }\n",
       "\n",
       "    .dataframe thead th {\n",
       "        text-align: right;\n",
       "    }\n",
       "</style>\n",
       "<table border=\"1\" class=\"dataframe\">\n",
       "  <thead>\n",
       "    <tr style=\"text-align: right;\">\n",
       "      <th></th>\n",
       "      <th>url</th>\n",
       "      <th>cholesterol</th>\n",
       "      <th>cholesterol_extract</th>\n",
       "    </tr>\n",
       "  </thead>\n",
       "  <tbody>\n",
       "    <tr>\n",
       "      <th>0</th>\n",
       "      <td>http://www.epicurious.com/recipes/food/views/hot-slaw-a-la-greyhound-grill</td>\n",
       "      <td>Cholesterol 12 mg(4%)</td>\n",
       "      <td>12 mg(4%)</td>\n",
       "    </tr>\n",
       "    <tr>\n",
       "      <th>1</th>\n",
       "      <td>http://www.epicurious.com/recipes/food/views/simmered-greens-with-cornmeal-dumplings-241202</td>\n",
       "      <td>Cholesterol 57 mg(19%)</td>\n",
       "      <td>57 mg(19%)</td>\n",
       "    </tr>\n",
       "    <tr>\n",
       "      <th>2</th>\n",
       "      <td>http://www.epicurious.com/recipes/food/views/savory-bread-pudding-with-mushrooms-and-parmesan-cheese-236494</td>\n",
       "      <td>Cholesterol 227 mg(76%)</td>\n",
       "      <td>227 mg(76%)</td>\n",
       "    </tr>\n",
       "    <tr>\n",
       "      <th>3</th>\n",
       "      <td>http://www.epicurious.com/recipes/food/views/grilled-flank-steak-and-red-onion-with-orange-gremolata-12023</td>\n",
       "      <td>Cholesterol 116 mg(39%)</td>\n",
       "      <td>116 mg(39%)</td>\n",
       "    </tr>\n",
       "    <tr>\n",
       "      <th>4</th>\n",
       "      <td>http://www.epicurious.com/recipes/member/views/cannellini-bean-frittata-1246642</td>\n",
       "      <td>Cholesterol 99 mg(33%)</td>\n",
       "      <td>99 mg(33%)</td>\n",
       "    </tr>\n",
       "  </tbody>\n",
       "</table>\n",
       "</div>"
      ],
      "text/plain": [
       "                                                                                                           url  \\\n",
       "0  http://www.epicurious.com/recipes/food/views/hot-slaw-a-la-greyhound-grill                                    \n",
       "1  http://www.epicurious.com/recipes/food/views/simmered-greens-with-cornmeal-dumplings-241202                   \n",
       "2  http://www.epicurious.com/recipes/food/views/savory-bread-pudding-with-mushrooms-and-parmesan-cheese-236494   \n",
       "3  http://www.epicurious.com/recipes/food/views/grilled-flank-steak-and-red-onion-with-orange-gremolata-12023    \n",
       "4  http://www.epicurious.com/recipes/member/views/cannellini-bean-frittata-1246642                               \n",
       "\n",
       "               cholesterol cholesterol_extract  \n",
       "0  Cholesterol 12 mg(4%)     12 mg(4%)          \n",
       "1  Cholesterol 57 mg(19%)    57 mg(19%)         \n",
       "2  Cholesterol 227 mg(76%)   227 mg(76%)        \n",
       "3  Cholesterol 116 mg(39%)   116 mg(39%)        \n",
       "4  Cholesterol 99 mg(33%)    99 mg(33%)         "
      ]
     },
     "execution_count": 28,
     "metadata": {},
     "output_type": "execute_result"
    }
   ],
   "source": [
    "epicurious_cholesterol_df.head()"
   ]
  },
  {
   "cell_type": "markdown",
   "metadata": {},
   "source": [
    "How many rows of data?"
   ]
  },
  {
   "cell_type": "code",
   "execution_count": 29,
   "metadata": {
    "collapsed": false
   },
   "outputs": [
    {
     "data": {
      "text/plain": [
       "(293871, 3)"
      ]
     },
     "execution_count": 29,
     "metadata": {},
     "output_type": "execute_result"
    }
   ],
   "source": [
    "epicurious_cholesterol_df.shape"
   ]
  },
  {
   "cell_type": "markdown",
   "metadata": {},
   "source": [
    "Using regex to obtain the cholesterol amount."
   ]
  },
  {
   "cell_type": "code",
   "execution_count": 30,
   "metadata": {
    "collapsed": true
   },
   "outputs": [],
   "source": [
    "epicurious_cholesterol_df['cholesterol_amount'] = epicurious_cholesterol_df['cholesterol_extract'].str.extract('([0-9]+)', expand=True)"
   ]
  },
  {
   "cell_type": "code",
   "execution_count": 31,
   "metadata": {
    "collapsed": false
   },
   "outputs": [
    {
     "data": {
      "text/html": [
       "<div>\n",
       "<style scoped>\n",
       "    .dataframe tbody tr th:only-of-type {\n",
       "        vertical-align: middle;\n",
       "    }\n",
       "\n",
       "    .dataframe tbody tr th {\n",
       "        vertical-align: top;\n",
       "    }\n",
       "\n",
       "    .dataframe thead th {\n",
       "        text-align: right;\n",
       "    }\n",
       "</style>\n",
       "<table border=\"1\" class=\"dataframe\">\n",
       "  <thead>\n",
       "    <tr style=\"text-align: right;\">\n",
       "      <th></th>\n",
       "      <th>url</th>\n",
       "      <th>cholesterol</th>\n",
       "      <th>cholesterol_extract</th>\n",
       "      <th>cholesterol_amount</th>\n",
       "    </tr>\n",
       "  </thead>\n",
       "  <tbody>\n",
       "    <tr>\n",
       "      <th>0</th>\n",
       "      <td>http://www.epicurious.com/recipes/food/views/hot-slaw-a-la-greyhound-grill</td>\n",
       "      <td>Cholesterol 12 mg(4%)</td>\n",
       "      <td>12 mg(4%)</td>\n",
       "      <td>12</td>\n",
       "    </tr>\n",
       "    <tr>\n",
       "      <th>1</th>\n",
       "      <td>http://www.epicurious.com/recipes/food/views/simmered-greens-with-cornmeal-dumplings-241202</td>\n",
       "      <td>Cholesterol 57 mg(19%)</td>\n",
       "      <td>57 mg(19%)</td>\n",
       "      <td>57</td>\n",
       "    </tr>\n",
       "    <tr>\n",
       "      <th>2</th>\n",
       "      <td>http://www.epicurious.com/recipes/food/views/savory-bread-pudding-with-mushrooms-and-parmesan-cheese-236494</td>\n",
       "      <td>Cholesterol 227 mg(76%)</td>\n",
       "      <td>227 mg(76%)</td>\n",
       "      <td>227</td>\n",
       "    </tr>\n",
       "    <tr>\n",
       "      <th>3</th>\n",
       "      <td>http://www.epicurious.com/recipes/food/views/grilled-flank-steak-and-red-onion-with-orange-gremolata-12023</td>\n",
       "      <td>Cholesterol 116 mg(39%)</td>\n",
       "      <td>116 mg(39%)</td>\n",
       "      <td>116</td>\n",
       "    </tr>\n",
       "    <tr>\n",
       "      <th>4</th>\n",
       "      <td>http://www.epicurious.com/recipes/member/views/cannellini-bean-frittata-1246642</td>\n",
       "      <td>Cholesterol 99 mg(33%)</td>\n",
       "      <td>99 mg(33%)</td>\n",
       "      <td>99</td>\n",
       "    </tr>\n",
       "  </tbody>\n",
       "</table>\n",
       "</div>"
      ],
      "text/plain": [
       "                                                                                                           url  \\\n",
       "0  http://www.epicurious.com/recipes/food/views/hot-slaw-a-la-greyhound-grill                                    \n",
       "1  http://www.epicurious.com/recipes/food/views/simmered-greens-with-cornmeal-dumplings-241202                   \n",
       "2  http://www.epicurious.com/recipes/food/views/savory-bread-pudding-with-mushrooms-and-parmesan-cheese-236494   \n",
       "3  http://www.epicurious.com/recipes/food/views/grilled-flank-steak-and-red-onion-with-orange-gremolata-12023    \n",
       "4  http://www.epicurious.com/recipes/member/views/cannellini-bean-frittata-1246642                               \n",
       "\n",
       "               cholesterol cholesterol_extract cholesterol_amount  \n",
       "0  Cholesterol 12 mg(4%)     12 mg(4%)          12                 \n",
       "1  Cholesterol 57 mg(19%)    57 mg(19%)         57                 \n",
       "2  Cholesterol 227 mg(76%)   227 mg(76%)        227                \n",
       "3  Cholesterol 116 mg(39%)   116 mg(39%)        116                \n",
       "4  Cholesterol 99 mg(33%)    99 mg(33%)         99                 "
      ]
     },
     "execution_count": 31,
     "metadata": {},
     "output_type": "execute_result"
    }
   ],
   "source": [
    "epicurious_cholesterol_df.head()"
   ]
  },
  {
   "cell_type": "markdown",
   "metadata": {},
   "source": [
    "Converting cholesterol amount into float data type."
   ]
  },
  {
   "cell_type": "code",
   "execution_count": 32,
   "metadata": {
    "collapsed": false
   },
   "outputs": [],
   "source": [
    "epicurious_cholesterol_df['cholesterol_amount'] = epicurious_cholesterol_df['cholesterol_amount'].apply(pd.to_numeric)"
   ]
  },
  {
   "cell_type": "markdown",
   "metadata": {},
   "source": [
    "Let's check the columns data types."
   ]
  },
  {
   "cell_type": "code",
   "execution_count": 33,
   "metadata": {
    "collapsed": false
   },
   "outputs": [
    {
     "name": "stdout",
     "output_type": "stream",
     "text": [
      "<class 'pandas.core.frame.DataFrame'>\n",
      "RangeIndex: 293871 entries, 0 to 293870\n",
      "Data columns (total 4 columns):\n",
      "url                    293871 non-null object\n",
      "cholesterol            293871 non-null object\n",
      "cholesterol_extract    293871 non-null object\n",
      "cholesterol_amount     293871 non-null int64\n",
      "dtypes: int64(1), object(3)\n",
      "memory usage: 9.0+ MB\n"
     ]
    }
   ],
   "source": [
    "epicurious_cholesterol_df.info()"
   ]
  },
  {
   "cell_type": "markdown",
   "metadata": {},
   "source": [
    "Checking basic statistics of the cholesterol amount."
   ]
  },
  {
   "cell_type": "code",
   "execution_count": 34,
   "metadata": {
    "collapsed": false
   },
   "outputs": [
    {
     "data": {
      "text/plain": [
       "count   293871.00\n",
       "mean    132.35   \n",
       "std     174.40   \n",
       "min     0.00     \n",
       "25%     49.00    \n",
       "50%     86.00    \n",
       "75%     160.00   \n",
       "max     4639.00  \n",
       "Name: cholesterol_amount, dtype: float64"
      ]
     },
     "execution_count": 34,
     "metadata": {},
     "output_type": "execute_result"
    }
   ],
   "source": [
    "epicurious_cholesterol_df.cholesterol_amount.describe()"
   ]
  },
  {
   "cell_type": "markdown",
   "metadata": {},
   "source": [
    "If we don't filter out extreme cholesterol values, we don't get a very useful histogram."
   ]
  },
  {
   "cell_type": "code",
   "execution_count": 35,
   "metadata": {
    "collapsed": false
   },
   "outputs": [
    {
     "data": {
      "image/png": "[encoded data removed]",
      "text/plain": [
       "<matplotlib.figure.Figure at 0x7f75ad4c0a50>"
      ]
     },
     "metadata": {},
     "output_type": "display_data"
    }
   ],
   "source": [
    "sns.distplot(epicurious_cholesterol_df['cholesterol_amount']);"
   ]
  },
  {
   "cell_type": "markdown",
   "metadata": {},
   "source": [
    "Creating a dataframe with recipes with more than 0 mg of cholesterol and less than a 5,000 mg of cholesterol."
   ]
  },
  {
   "cell_type": "code",
   "execution_count": 36,
   "metadata": {
    "collapsed": true
   },
   "outputs": [],
   "source": [
    "epicurious_cholesterol_0_5000_df = epicurious_cholesterol_df[(epicurious_cholesterol_df['cholesterol_amount'] > 0) & (epicurious_cholesterol_df['cholesterol_amount'] < 5000)]"
   ]
  },
  {
   "cell_type": "markdown",
   "metadata": {},
   "source": [
    "And it's corresponding distribution plot."
   ]
  },
  {
   "cell_type": "code",
   "execution_count": 37,
   "metadata": {
    "collapsed": false
   },
   "outputs": [
    {
     "data": {
      "image/png": "[encoded data removed]",
      "text/plain": [
       "<matplotlib.figure.Figure at 0x7f75ad3e6bd0>"
      ]
     },
     "metadata": {},
     "output_type": "display_data"
    }
   ],
   "source": [
    "sns.distplot(epicurious_cholesterol_0_5000_df['cholesterol_amount']);"
   ]
  },
  {
   "cell_type": "markdown",
   "metadata": {},
   "source": [
    "### We can see that the cholesterol distribution is more extreme when using derived_nutrition compared to nutrition, and that where using nutrition, most of the recipes have a cholesterol amount around 100 mg."
   ]
  },
  {
   "cell_type": "code",
   "execution_count": null,
   "metadata": {
    "collapsed": true
   },
   "outputs": [],
   "source": []
  }
 ],
 "metadata": {
  "kernelspec": {
   "display_name": "Python 2",
   "language": "python",
   "name": "python2"
  },
  "language_info": {
   "codemirror_mode": {
    "name": "ipython",
    "version": 2
   },
   "file_extension": ".py",
   "mimetype": "text/x-python",
   "name": "python",
   "nbconvert_exporter": "python",
   "pygments_lexer": "ipython2",
   "version": "2.7.12"
  }
 },
 "nbformat": 4,
 "nbformat_minor": 2
}
